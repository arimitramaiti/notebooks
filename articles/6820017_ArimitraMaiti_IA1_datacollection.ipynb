{
 "cells": [
  {
   "cell_type": "markdown",
   "metadata": {},
   "source": [
    "**6820017_ArimitraMaiti_IA1**"
   ]
  },
  {
   "cell_type": "markdown",
   "metadata": {},
   "source": [
    "### <center>Tripadvisor Review Multinomial Classification in Jupyter (Part-I)</center>\n",
    "<center>Big Data Analytics - Analysis of Text and Social Media Data: Individual Assignment Week-3</center>\n",
    "<center>ePGD ABA 2020-21</center>"
   ]
  },
  {
   "cell_type": "markdown",
   "metadata": {},
   "source": [
    "**First notebook for data collection from Tripadvisor xpaths**"
   ]
  },
  {
   "cell_type": "markdown",
   "metadata": {},
   "source": [
    "**CAUTION - This notebook takes roughly 5 hours to complete execution (excluding model train) \\\n",
    "This notebook may not run end to end in google colab environment or mac environment \\\n",
    "The input file for this notebook comes from the individual websites collected from tripadvisor**"
   ]
  },
  {
   "cell_type": "code",
   "execution_count": 1,
   "metadata": {},
   "outputs": [],
   "source": [
    "import numpy as np\n",
    "import pandas as pd\n",
    "import matplotlib.pyplot as plt\n",
    "import seaborn as sns\n",
    "%matplotlib inline\n",
    "import scipy.stats as stats\n",
    "import math\n",
    "import sys\n",
    "import string\n",
    "import re\n",
    "import requests\n",
    "from lxml import html"
   ]
  },
  {
   "cell_type": "code",
   "execution_count": 2,
   "metadata": {},
   "outputs": [],
   "source": [
    "# !pip install selenium"
   ]
  },
  {
   "cell_type": "code",
   "execution_count": 3,
   "metadata": {},
   "outputs": [],
   "source": [
    "import csv\n",
    "import time\n",
    "from selenium import webdriver"
   ]
  },
  {
   "cell_type": "code",
   "execution_count": 4,
   "metadata": {},
   "outputs": [],
   "source": [
    "##Function to extract scores, date, title, review comments from one particular url\n",
    "##On an average 9 to 10 records should come from one single run of this function\n",
    "def fetch_single_link(URL):\n",
    "    ##It is critical to point the chorme driver location while running this function\n",
    "    ##Link to download compatible version is https://sites.google.com/a/chromium.org/chromedriver/downloads\n",
    "    driver = webdriver.Chrome(executable_path='C:/Users/sinaii/Documents/Python Scripts/NLP/chromedriver.exe')\n",
    "    driver.get(URL)\n",
    "    \n",
    "    # Find and click the More link (to load all reviews)\n",
    "    driver.find_element_by_xpath(\"//span[@class='taLnk ulBlueLinks']\").click()\n",
    "    time.sleep(5) # Wait for reviews to load\n",
    "    \n",
    "    reviews = driver.find_elements_by_xpath(\"//div[@class='ui_column is-9']\")\n",
    "    num_page_items = min(len(reviews), 10)\n",
    "    \n",
    "    store = []\n",
    "    # Loop through the reviews found\n",
    "    for i in range(num_page_items):\n",
    "        # get the score, date, title and review\n",
    "        score_class = reviews[i].find_element_by_xpath(\".//span[contains(@class, 'ui_bubble_rating bubble_')]\").get_attribute(\"class\")\n",
    "        score = score_class.split(\"_\")[3]\n",
    "        date = reviews[i].find_element_by_xpath(\".//span[@class='ratingDate']\").get_attribute(\"title\")\n",
    "        title = reviews[i].find_element_by_xpath(\".//span[@class='noQuotes']\").text\n",
    "        review = reviews[i].find_element_by_xpath(\".//p[@class='partial_entry']\").text.replace(\"\\n\", \"\")\n",
    "        mylist = [score, date, title, review]\n",
    "        store.append(mylist)\n",
    "    \n",
    "    driver.close()\n",
    "    return store"
   ]
  },
  {
   "cell_type": "code",
   "execution_count": 5,
   "metadata": {},
   "outputs": [
    {
     "data": {
      "text/html": [
       "<div>\n",
       "<style scoped>\n",
       "    .dataframe tbody tr th:only-of-type {\n",
       "        vertical-align: middle;\n",
       "    }\n",
       "\n",
       "    .dataframe tbody tr th {\n",
       "        vertical-align: top;\n",
       "    }\n",
       "\n",
       "    .dataframe thead th {\n",
       "        text-align: right;\n",
       "    }\n",
       "</style>\n",
       "<table border=\"1\" class=\"dataframe\">\n",
       "  <thead>\n",
       "    <tr style=\"text-align: right;\">\n",
       "      <th></th>\n",
       "      <th>Link_ID</th>\n",
       "      <th>Link_address</th>\n",
       "      <th>Name</th>\n",
       "      <th>Location</th>\n",
       "      <th>City</th>\n",
       "    </tr>\n",
       "  </thead>\n",
       "  <tbody>\n",
       "    <tr>\n",
       "      <th>0</th>\n",
       "      <td>1</td>\n",
       "      <td>https://www.tripadvisor.in/Restaurant_Review-g...</td>\n",
       "      <td>Mainland China</td>\n",
       "      <td>Panaji</td>\n",
       "      <td>Goa</td>\n",
       "    </tr>\n",
       "    <tr>\n",
       "      <th>1</th>\n",
       "      <td>2</td>\n",
       "      <td>https://www.tripadvisor.in/Restaurant_Review-g...</td>\n",
       "      <td>Mainland China</td>\n",
       "      <td>Panaji</td>\n",
       "      <td>Goa</td>\n",
       "    </tr>\n",
       "    <tr>\n",
       "      <th>2</th>\n",
       "      <td>3</td>\n",
       "      <td>https://www.tripadvisor.in/Restaurant_Review-g...</td>\n",
       "      <td>Mainland China</td>\n",
       "      <td>Panaji</td>\n",
       "      <td>Goa</td>\n",
       "    </tr>\n",
       "    <tr>\n",
       "      <th>3</th>\n",
       "      <td>4</td>\n",
       "      <td>https://www.tripadvisor.in/Restaurant_Review-g...</td>\n",
       "      <td>Mainland China</td>\n",
       "      <td>Panaji</td>\n",
       "      <td>Goa</td>\n",
       "    </tr>\n",
       "  </tbody>\n",
       "</table>\n",
       "</div>"
      ],
      "text/plain": [
       "   Link_ID                                       Link_address            Name  \\\n",
       "0        1  https://www.tripadvisor.in/Restaurant_Review-g...  Mainland China   \n",
       "1        2  https://www.tripadvisor.in/Restaurant_Review-g...  Mainland China   \n",
       "2        3  https://www.tripadvisor.in/Restaurant_Review-g...  Mainland China   \n",
       "3        4  https://www.tripadvisor.in/Restaurant_Review-g...  Mainland China   \n",
       "\n",
       "  Location City  \n",
       "0   Panaji  Goa  \n",
       "1   Panaji  Goa  \n",
       "2   Panaji  Goa  \n",
       "3   Panaji  Goa  "
      ]
     },
     "execution_count": 5,
     "metadata": {},
     "output_type": "execute_result"
    }
   ],
   "source": [
    "##Import urls for tripadvisor links\n",
    "input_url = \"https://raw.githubusercontent.com/arimitramaiti/datasets/master/articles/urls_ia1.csv\"\n",
    "dataset = pd.read_csv(input_url, error_bad_lines = False, header=0, index_col=None)\n",
    "dataset.head(4)"
   ]
  },
  {
   "cell_type": "code",
   "execution_count": 6,
   "metadata": {},
   "outputs": [],
   "source": [
    "iter_ = dataset['Link_address']"
   ]
  },
  {
   "cell_type": "code",
   "execution_count": 6,
   "metadata": {},
   "outputs": [],
   "source": [
    "###Use the above function to iterate for all 401 urls imported from cloud\n",
    "##This function may stop after extracting 500-800 links due to chrome driver restart\n",
    "##Therefore all 401 links have been collated on three runs os this notebook\n",
    "result = pd.DataFrame(columns=['score', 'date', 'title', 'review', 'link_id'])\n",
    "for k in iter_:\n",
    "    res = fetch_single_link(k)\n",
    "    res = pd.DataFrame(res, columns=['score', 'date', 'title', 'review'])\n",
    "    res['link_id'] = k\n",
    "    result = pd.concat([result, res], ignore_index=True, axis=0)"
   ]
  },
  {
   "cell_type": "code",
   "execution_count": 7,
   "metadata": {},
   "outputs": [
    {
     "data": {
      "text/plain": [
       "(611, 5)"
      ]
     },
     "execution_count": 7,
     "metadata": {},
     "output_type": "execute_result"
    }
   ],
   "source": [
    "result.shape"
   ]
  },
  {
   "cell_type": "code",
   "execution_count": 8,
   "metadata": {},
   "outputs": [],
   "source": [
    "##Dictionary to map urls to reviews\n",
    "df = input_url[['Link_address', 'Name', 'Location', 'City']]\n",
    "\n",
    "dfT = df.set_index(keys='Link_address').T\n",
    "\n",
    "df_dict = dfT.to_dict(\"list\")"
   ]
  },
  {
   "cell_type": "code",
   "execution_count": 9,
   "metadata": {},
   "outputs": [],
   "source": [
    "result1 = result.copy()"
   ]
  },
  {
   "cell_type": "code",
   "execution_count": 10,
   "metadata": {},
   "outputs": [],
   "source": [
    "result1['Values'] = result['link_id'].map(df_dict)"
   ]
  },
  {
   "cell_type": "code",
   "execution_count": 11,
   "metadata": {},
   "outputs": [],
   "source": [
    "result1['Values'] = result1.Values.astype('str')\n",
    "\n",
    "result1['Name'] = result1.Values.str.split(',').str[0].apply(lambda x: str(x.replace('[','')))\n",
    "\n",
    "result1['Location'] = result1.Values.str.split(',').str[1]\n",
    "\n",
    "result1['City'] = result1.Values.str.split(',').str[2].apply(lambda x: str(x.replace(']','')))\n",
    "\n",
    "result1['Name'] = result1.Name.apply(lambda x: str(x.replace(\"'\",\"\")))\n",
    "result1['Location'] = result1.Location.apply(lambda x: str(x.replace(\"'\",\"\")))\n",
    "result1['City'] = result1.City.apply(lambda x: str(x.replace(\"'\",\"\")))"
   ]
  },
  {
   "cell_type": "code",
   "execution_count": 12,
   "metadata": {},
   "outputs": [],
   "source": [
    "result1.drop(labels=['Values'], axis=1, inplace=True)"
   ]
  },
  {
   "cell_type": "code",
   "execution_count": 13,
   "metadata": {},
   "outputs": [
    {
     "data": {
      "text/html": [
       "<div>\n",
       "<style scoped>\n",
       "    .dataframe tbody tr th:only-of-type {\n",
       "        vertical-align: middle;\n",
       "    }\n",
       "\n",
       "    .dataframe tbody tr th {\n",
       "        vertical-align: top;\n",
       "    }\n",
       "\n",
       "    .dataframe thead th {\n",
       "        text-align: right;\n",
       "    }\n",
       "</style>\n",
       "<table border=\"1\" class=\"dataframe\">\n",
       "  <thead>\n",
       "    <tr style=\"text-align: right;\">\n",
       "      <th></th>\n",
       "      <th>score</th>\n",
       "      <th>date</th>\n",
       "      <th>title</th>\n",
       "      <th>review</th>\n",
       "      <th>link_id</th>\n",
       "      <th>Name</th>\n",
       "      <th>Location</th>\n",
       "      <th>City</th>\n",
       "    </tr>\n",
       "  </thead>\n",
       "  <tbody>\n",
       "    <tr>\n",
       "      <th>0</th>\n",
       "      <td>50</td>\n",
       "      <td>29 November 2015</td>\n",
       "      <td>Best Chinese restaurant!!</td>\n",
       "      <td>Mainland China at sector 18 Noida is the heave...</td>\n",
       "      <td>https://www.tripadvisor.in/Restaurant_Review-g...</td>\n",
       "      <td>Mainland China</td>\n",
       "      <td>K1 Plot</td>\n",
       "      <td>Noida</td>\n",
       "    </tr>\n",
       "    <tr>\n",
       "      <th>1</th>\n",
       "      <td>20</td>\n",
       "      <td>28 November 2015</td>\n",
       "      <td>No-no</td>\n",
       "      <td>If you are an exclusive Chinese food lover tha...</td>\n",
       "      <td>https://www.tripadvisor.in/Restaurant_Review-g...</td>\n",
       "      <td>Mainland China</td>\n",
       "      <td>K1 Plot</td>\n",
       "      <td>Noida</td>\n",
       "    </tr>\n",
       "    <tr>\n",
       "      <th>2</th>\n",
       "      <td>40</td>\n",
       "      <td>27 November 2015</td>\n",
       "      <td>One Of The Best Chinese Restaurant</td>\n",
       "      <td>Mainland China for me is ever green. I have al...</td>\n",
       "      <td>https://www.tripadvisor.in/Restaurant_Review-g...</td>\n",
       "      <td>Mainland China</td>\n",
       "      <td>K1 Plot</td>\n",
       "      <td>Noida</td>\n",
       "    </tr>\n",
       "    <tr>\n",
       "      <th>3</th>\n",
       "      <td>40</td>\n",
       "      <td>26 November 2015</td>\n",
       "      <td>Nice chinese buffet</td>\n",
       "      <td>Mainland China offers pretty nice chinese buff...</td>\n",
       "      <td>https://www.tripadvisor.in/Restaurant_Review-g...</td>\n",
       "      <td>Mainland China</td>\n",
       "      <td>K1 Plot</td>\n",
       "      <td>Noida</td>\n",
       "    </tr>\n",
       "    <tr>\n",
       "      <th>4</th>\n",
       "      <td>40</td>\n",
       "      <td>17 November 2015</td>\n",
       "      <td>Good Restaurant</td>\n",
       "      <td>It is one of the good restaurant in noida beca...</td>\n",
       "      <td>https://www.tripadvisor.in/Restaurant_Review-g...</td>\n",
       "      <td>Mainland China</td>\n",
       "      <td>K1 Plot</td>\n",
       "      <td>Noida</td>\n",
       "    </tr>\n",
       "  </tbody>\n",
       "</table>\n",
       "</div>"
      ],
      "text/plain": [
       "  score              date                               title  \\\n",
       "0    50  29 November 2015           Best Chinese restaurant!!   \n",
       "1    20  28 November 2015                               No-no   \n",
       "2    40  27 November 2015  One Of The Best Chinese Restaurant   \n",
       "3    40  26 November 2015                 Nice chinese buffet   \n",
       "4    40  17 November 2015                     Good Restaurant   \n",
       "\n",
       "                                              review  \\\n",
       "0  Mainland China at sector 18 Noida is the heave...   \n",
       "1  If you are an exclusive Chinese food lover tha...   \n",
       "2  Mainland China for me is ever green. I have al...   \n",
       "3  Mainland China offers pretty nice chinese buff...   \n",
       "4  It is one of the good restaurant in noida beca...   \n",
       "\n",
       "                                             link_id            Name  \\\n",
       "0  https://www.tripadvisor.in/Restaurant_Review-g...  Mainland China   \n",
       "1  https://www.tripadvisor.in/Restaurant_Review-g...  Mainland China   \n",
       "2  https://www.tripadvisor.in/Restaurant_Review-g...  Mainland China   \n",
       "3  https://www.tripadvisor.in/Restaurant_Review-g...  Mainland China   \n",
       "4  https://www.tripadvisor.in/Restaurant_Review-g...  Mainland China   \n",
       "\n",
       "   Location    City  \n",
       "0   K1 Plot   Noida  \n",
       "1   K1 Plot   Noida  \n",
       "2   K1 Plot   Noida  \n",
       "3   K1 Plot   Noida  \n",
       "4   K1 Plot   Noida  "
      ]
     },
     "execution_count": 13,
     "metadata": {},
     "output_type": "execute_result"
    }
   ],
   "source": [
    "result1.head()"
   ]
  },
  {
   "cell_type": "code",
   "execution_count": 14,
   "metadata": {},
   "outputs": [],
   "source": [
    "result1.to_csv(\"result1.csv\")"
   ]
  },
  {
   "cell_type": "code",
   "execution_count": 15,
   "metadata": {},
   "outputs": [],
   "source": [
    "del result1, dfT, df, df_dict"
   ]
  },
  {
   "cell_type": "code",
   "execution_count": 40,
   "metadata": {},
   "outputs": [],
   "source": [
    "# df1 = pd.read_csv(\"result1_2250_1.csv\", parse_dates=False)\n",
    "\n",
    "# df2 = pd.read_csv(\"result1_1130_2.csv\", parse_dates=False)\n",
    "\n",
    "# df3 = pd.read_csv(\"result1_655_3.csv\", parse_dates=False)\n",
    "\n",
    "# df_final = pd.concat([df1, df2, df3], axis=0)\n",
    "\n",
    "# df_final.reset_index(drop=True, inplace=True)\n",
    "\n",
    "# df_final = df_final[['score', 'date', 'title', 'review', 'link_id', 'Name', \"Location\", \"City\"]]\n",
    "\n",
    "# df_final.shape"
   ]
  },
  {
   "cell_type": "code",
   "execution_count": 39,
   "metadata": {},
   "outputs": [],
   "source": [
    "# df_final.head()"
   ]
  },
  {
   "cell_type": "code",
   "execution_count": 38,
   "metadata": {},
   "outputs": [],
   "source": [
    "# df_final.to_csv(\"reviews_mainland_china.csv\")"
   ]
  },
  {
   "cell_type": "markdown",
   "metadata": {},
   "source": [
    "**The output of this notebook is used in Part-II**"
   ]
  }
 ],
 "metadata": {
  "kernelspec": {
   "display_name": "Python 3",
   "language": "python",
   "name": "python3"
  },
  "language_info": {
   "codemirror_mode": {
    "name": "ipython",
    "version": 3
   },
   "file_extension": ".py",
   "mimetype": "text/x-python",
   "name": "python",
   "nbconvert_exporter": "python",
   "pygments_lexer": "ipython3",
   "version": "3.8.5"
  }
 },
 "nbformat": 4,
 "nbformat_minor": 4
}
