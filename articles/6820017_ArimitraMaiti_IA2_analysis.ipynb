{
 "cells": [
  {
   "cell_type": "markdown",
   "metadata": {},
   "source": [
    "**6820017_ArimitraMaiti_IA2**"
   ]
  },
  {
   "cell_type": "markdown",
   "metadata": {},
   "source": [
    "### <center>Tripadvisor Review Brand Performance Analysis in Jupyter (Part-II)</center>\n",
    "<center>Big Data Analytics - Analysis of Text and Social Media Data: Individual Assignment Week-4</center>\n",
    "<center>ePGD ABA 2020-21</center>"
   ]
  },
  {
   "cell_type": "markdown",
   "metadata": {},
   "source": [
    "**Second notebook for data analysis and model building**"
   ]
  },
  {
   "cell_type": "markdown",
   "metadata": {},
   "source": [
    "**CAUTION - This notebook takes roughly 25 minutes to complete execution (excluding model train) \\\n",
    "This notebook may not run end to end in google colab environment or mac environment \\\n",
    "The input file for this notebook comes from the output of the first notebook**"
   ]
  },
  {
   "cell_type": "code",
   "execution_count": 1,
   "metadata": {},
   "outputs": [],
   "source": [
    "###Need to use nltk download commands for the first time to set up the machine\n",
    "import nltk\n",
    "# nltk.download('punkt')\n",
    "# nltk.download('stopwords')\n",
    "# nltk.download('wordnet')\n",
    "# nltk.download('averaged_perceptron_tagger')\n",
    "# nltk.download('sentiwordnet')"
   ]
  },
  {
   "cell_type": "code",
   "execution_count": 2,
   "metadata": {},
   "outputs": [],
   "source": [
    "##Import basic modules\n",
    "import numpy as np\n",
    "import pandas as pd\n",
    "import matplotlib.pyplot as plt\n",
    "import seaborn as sns\n",
    "%matplotlib inline\n",
    "import scipy.stats as stats\n",
    "import math\n",
    "import sys"
   ]
  },
  {
   "cell_type": "code",
   "execution_count": 3,
   "metadata": {},
   "outputs": [],
   "source": [
    "import string\n",
    "import re"
   ]
  },
  {
   "cell_type": "code",
   "execution_count": 4,
   "metadata": {},
   "outputs": [],
   "source": [
    "# !pip install wordcloud\n",
    "from nltk.stem import PorterStemmer\n",
    "from nltk.stem import WordNetLemmatizer\n",
    "from wordcloud import WordCloud\n",
    "import matplotlib.pyplot as plt"
   ]
  },
  {
   "cell_type": "code",
   "execution_count": 5,
   "metadata": {},
   "outputs": [],
   "source": [
    "from sklearn.feature_extraction.text import CountVectorizer"
   ]
  },
  {
   "cell_type": "code",
   "execution_count": 6,
   "metadata": {},
   "outputs": [],
   "source": [
    "# conda config --add channels conda-forge\n",
    "# conda install pyahocorasick\n",
    "# !pip install contractions\n",
    "import contractions"
   ]
  },
  {
   "cell_type": "code",
   "execution_count": 7,
   "metadata": {},
   "outputs": [],
   "source": [
    "from nltk.corpus import wordnet"
   ]
  },
  {
   "cell_type": "code",
   "execution_count": 8,
   "metadata": {},
   "outputs": [],
   "source": [
    "# !pip install textblob\n",
    "from textblob import TextBlob"
   ]
  },
  {
   "cell_type": "code",
   "execution_count": 9,
   "metadata": {},
   "outputs": [],
   "source": [
    "from sklearn.decomposition import LatentDirichletAllocation, NMF"
   ]
  },
  {
   "cell_type": "code",
   "execution_count": 10,
   "metadata": {},
   "outputs": [],
   "source": [
    "# !pip install afinn\n",
    "from afinn import Afinn"
   ]
  },
  {
   "cell_type": "code",
   "execution_count": 11,
   "metadata": {
    "scrolled": true
   },
   "outputs": [],
   "source": [
    "# ##Import review data obtained from tripadvisor crawler\n",
    "# dataset = pd.read_csv(\"reviews_brandperformance.csv\", parse_dates=True, usecols=['score', 'date', 'title', 'review',\n",
    "#                                                                               'link_id', 'Name', 'Location', 'City'])\n",
    "# dataset.head()"
   ]
  },
  {
   "cell_type": "code",
   "execution_count": 12,
   "metadata": {},
   "outputs": [
    {
     "data": {
      "text/html": [
       "<div>\n",
       "<style scoped>\n",
       "    .dataframe tbody tr th:only-of-type {\n",
       "        vertical-align: middle;\n",
       "    }\n",
       "\n",
       "    .dataframe tbody tr th {\n",
       "        vertical-align: top;\n",
       "    }\n",
       "\n",
       "    .dataframe thead th {\n",
       "        text-align: right;\n",
       "    }\n",
       "</style>\n",
       "<table border=\"1\" class=\"dataframe\">\n",
       "  <thead>\n",
       "    <tr style=\"text-align: right;\">\n",
       "      <th></th>\n",
       "      <th>score</th>\n",
       "      <th>date</th>\n",
       "      <th>title</th>\n",
       "      <th>review</th>\n",
       "      <th>link_id</th>\n",
       "      <th>Name</th>\n",
       "      <th>Location</th>\n",
       "      <th>City</th>\n",
       "    </tr>\n",
       "  </thead>\n",
       "  <tbody>\n",
       "    <tr>\n",
       "      <th>0</th>\n",
       "      <td>40</td>\n",
       "      <td>8-Mar-20</td>\n",
       "      <td>Good food</td>\n",
       "      <td>Good food , nice service. No wow factor. Could...</td>\n",
       "      <td>https://www.tripadvisor.in/Restaurant_Review-g...</td>\n",
       "      <td>China Bistro</td>\n",
       "      <td>Worli</td>\n",
       "      <td>Mumbai</td>\n",
       "    </tr>\n",
       "    <tr>\n",
       "      <th>1</th>\n",
       "      <td>40</td>\n",
       "      <td>28-Feb-20</td>\n",
       "      <td>Good food, great service!</td>\n",
       "      <td>As always, the food was well prepared and flav...</td>\n",
       "      <td>https://www.tripadvisor.in/Restaurant_Review-g...</td>\n",
       "      <td>China Bistro</td>\n",
       "      <td>Worli</td>\n",
       "      <td>Mumbai</td>\n",
       "    </tr>\n",
       "    <tr>\n",
       "      <th>2</th>\n",
       "      <td>40</td>\n",
       "      <td>4-Feb-20</td>\n",
       "      <td>Excellant food, served with enthusiasm</td>\n",
       "      <td>Yes, the food was wonderful. Regular stuff, al...</td>\n",
       "      <td>https://www.tripadvisor.in/Restaurant_Review-g...</td>\n",
       "      <td>China Bistro</td>\n",
       "      <td>Worli</td>\n",
       "      <td>Mumbai</td>\n",
       "    </tr>\n",
       "    <tr>\n",
       "      <th>3</th>\n",
       "      <td>50</td>\n",
       "      <td>3-Feb-20</td>\n",
       "      <td>Khowsuey</td>\n",
       "      <td>The khowsuey is amazing out here. Absolute val...</td>\n",
       "      <td>https://www.tripadvisor.in/Restaurant_Review-g...</td>\n",
       "      <td>China Bistro</td>\n",
       "      <td>Worli</td>\n",
       "      <td>Mumbai</td>\n",
       "    </tr>\n",
       "  </tbody>\n",
       "</table>\n",
       "</div>"
      ],
      "text/plain": [
       "   score       date                                   title  \\\n",
       "0     40   8-Mar-20                               Good food   \n",
       "1     40  28-Feb-20               Good food, great service!   \n",
       "2     40   4-Feb-20  Excellant food, served with enthusiasm   \n",
       "3     50   3-Feb-20                                Khowsuey   \n",
       "\n",
       "                                              review  \\\n",
       "0  Good food , nice service. No wow factor. Could...   \n",
       "1  As always, the food was well prepared and flav...   \n",
       "2  Yes, the food was wonderful. Regular stuff, al...   \n",
       "3  The khowsuey is amazing out here. Absolute val...   \n",
       "\n",
       "                                             link_id          Name Location  \\\n",
       "0  https://www.tripadvisor.in/Restaurant_Review-g...  China Bistro    Worli   \n",
       "1  https://www.tripadvisor.in/Restaurant_Review-g...  China Bistro    Worli   \n",
       "2  https://www.tripadvisor.in/Restaurant_Review-g...  China Bistro    Worli   \n",
       "3  https://www.tripadvisor.in/Restaurant_Review-g...  China Bistro    Worli   \n",
       "\n",
       "      City  \n",
       "0   Mumbai  \n",
       "1   Mumbai  \n",
       "2   Mumbai  \n",
       "3   Mumbai  "
      ]
     },
     "execution_count": 12,
     "metadata": {},
     "output_type": "execute_result"
    }
   ],
   "source": [
    "##Import review data obtained from tripadvisor crawler\n",
    "url = \"https://raw.githubusercontent.com/arimitramaiti/datasets/master/articles/reviews_brandperformance.csv\"\n",
    "dataset = pd.read_csv(url, error_bad_lines = False, header=0, index_col=None, parse_dates=True, \n",
    "                      usecols=['score', 'date', 'title', 'review','link_id', 'Name', 'Location', 'City'])\n",
    "dataset.head(4)"
   ]
  },
  {
   "cell_type": "code",
   "execution_count": 13,
   "metadata": {},
   "outputs": [],
   "source": [
    "##Sort data by date of review\n",
    "dataset = dataset.sort_values(by=['date'], ascending=False)"
   ]
  },
  {
   "cell_type": "code",
   "execution_count": 14,
   "metadata": {},
   "outputs": [],
   "source": [
    "##Reset index\n",
    "dataset = dataset.reset_index(drop=\"index\")"
   ]
  },
  {
   "cell_type": "code",
   "execution_count": 15,
   "metadata": {},
   "outputs": [
    {
     "data": {
      "text/html": [
       "<div>\n",
       "<style scoped>\n",
       "    .dataframe tbody tr th:only-of-type {\n",
       "        vertical-align: middle;\n",
       "    }\n",
       "\n",
       "    .dataframe tbody tr th {\n",
       "        vertical-align: top;\n",
       "    }\n",
       "\n",
       "    .dataframe thead th {\n",
       "        text-align: right;\n",
       "    }\n",
       "</style>\n",
       "<table border=\"1\" class=\"dataframe\">\n",
       "  <thead>\n",
       "    <tr style=\"text-align: right;\">\n",
       "      <th></th>\n",
       "      <th>score</th>\n",
       "      <th>date</th>\n",
       "      <th>title</th>\n",
       "      <th>review</th>\n",
       "      <th>link_id</th>\n",
       "      <th>Name</th>\n",
       "      <th>Location</th>\n",
       "      <th>City</th>\n",
       "    </tr>\n",
       "  </thead>\n",
       "  <tbody>\n",
       "    <tr>\n",
       "      <th>0</th>\n",
       "      <td>30</td>\n",
       "      <td>9-Sep-15</td>\n",
       "      <td>Nice ambience but so-so food</td>\n",
       "      <td>The décor is nice and the staff is friendly. S...</td>\n",
       "      <td>https://www.tripadvisor.in/Restaurant_Review-g...</td>\n",
       "      <td>Mainland China</td>\n",
       "      <td>Andheri</td>\n",
       "      <td>Mumbai</td>\n",
       "    </tr>\n",
       "    <tr>\n",
       "      <th>1</th>\n",
       "      <td>40</td>\n",
       "      <td>9-Sep-15</td>\n",
       "      <td>Pooja maheshwari</td>\n",
       "      <td>If you want Chinese cuisine experience without...</td>\n",
       "      <td>https://www.tripadvisor.in/Restaurant_Review-g...</td>\n",
       "      <td>Mainland China</td>\n",
       "      <td>Andheri</td>\n",
       "      <td>Mumbai</td>\n",
       "    </tr>\n",
       "    <tr>\n",
       "      <th>2</th>\n",
       "      <td>30</td>\n",
       "      <td>9-Sep-12</td>\n",
       "      <td>MC is one of the best place for Authentic Chin...</td>\n",
       "      <td>I have been a regular to Mainland China since ...</td>\n",
       "      <td>https://www.tripadvisor.in/Restaurant_Review-g...</td>\n",
       "      <td>Asia Kitchen</td>\n",
       "      <td>City Point</td>\n",
       "      <td>Pune</td>\n",
       "    </tr>\n",
       "    <tr>\n",
       "      <th>3</th>\n",
       "      <td>50</td>\n",
       "      <td>9-Oct-19</td>\n",
       "      <td>Great choice of indo-chinese dishes</td>\n",
       "      <td>From Lamb Racks to prawns, every preparation a...</td>\n",
       "      <td>https://www.tripadvisor.in/Restaurant_Review-g...</td>\n",
       "      <td>Asia Kitchen</td>\n",
       "      <td>Andheri</td>\n",
       "      <td>Mumbai</td>\n",
       "    </tr>\n",
       "    <tr>\n",
       "      <th>4</th>\n",
       "      <td>40</td>\n",
       "      <td>9-Oct-19</td>\n",
       "      <td>Great Chinese</td>\n",
       "      <td>Simply outstanding food. The highlight is the ...</td>\n",
       "      <td>https://www.tripadvisor.in/Restaurant_Review-g...</td>\n",
       "      <td>All Stir Fry</td>\n",
       "      <td>Colaba</td>\n",
       "      <td>Mumbai</td>\n",
       "    </tr>\n",
       "  </tbody>\n",
       "</table>\n",
       "</div>"
      ],
      "text/plain": [
       "   score      date                                              title  \\\n",
       "0     30  9-Sep-15                       Nice ambience but so-so food   \n",
       "1     40  9-Sep-15                                   Pooja maheshwari   \n",
       "2     30  9-Sep-12  MC is one of the best place for Authentic Chin...   \n",
       "3     50  9-Oct-19                Great choice of indo-chinese dishes   \n",
       "4     40  9-Oct-19                                      Great Chinese   \n",
       "\n",
       "                                              review  \\\n",
       "0  The décor is nice and the staff is friendly. S...   \n",
       "1  If you want Chinese cuisine experience without...   \n",
       "2  I have been a regular to Mainland China since ...   \n",
       "3  From Lamb Racks to prawns, every preparation a...   \n",
       "4  Simply outstanding food. The highlight is the ...   \n",
       "\n",
       "                                             link_id            Name  \\\n",
       "0  https://www.tripadvisor.in/Restaurant_Review-g...  Mainland China   \n",
       "1  https://www.tripadvisor.in/Restaurant_Review-g...  Mainland China   \n",
       "2  https://www.tripadvisor.in/Restaurant_Review-g...    Asia Kitchen   \n",
       "3  https://www.tripadvisor.in/Restaurant_Review-g...    Asia Kitchen   \n",
       "4  https://www.tripadvisor.in/Restaurant_Review-g...    All Stir Fry   \n",
       "\n",
       "      Location     City  \n",
       "0      Andheri   Mumbai  \n",
       "1      Andheri   Mumbai  \n",
       "2   City Point     Pune  \n",
       "3      Andheri   Mumbai  \n",
       "4       Colaba   Mumbai  "
      ]
     },
     "execution_count": 15,
     "metadata": {},
     "output_type": "execute_result"
    }
   ],
   "source": [
    "dataset.head()"
   ]
  },
  {
   "cell_type": "code",
   "execution_count": 16,
   "metadata": {},
   "outputs": [
    {
     "data": {
      "text/plain": [
       "score       0.0\n",
       "date        0.0\n",
       "title       0.0\n",
       "review      0.0\n",
       "link_id     0.0\n",
       "Name        0.0\n",
       "Location    0.0\n",
       "City        0.0\n",
       "dtype: float64"
      ]
     },
     "execution_count": 16,
     "metadata": {},
     "output_type": "execute_result"
    }
   ],
   "source": [
    "##Check for missing values in the dataset\n",
    "dataset.isnull().sum()/dataset.shape[0] * 100"
   ]
  },
  {
   "cell_type": "code",
   "execution_count": 17,
   "metadata": {},
   "outputs": [],
   "source": [
    "##Map bubble rating score to 3 classes, 1 having score 10 & 20, 2 having score 30, 3 having score of 40 & 50 \n",
    "score_mapping = {10:0, 20:0, 30:1, 40:2, 50:2}\n",
    "dataset[\"target\"] = dataset.score.map(score_mapping)"
   ]
  },
  {
   "cell_type": "code",
   "execution_count": 18,
   "metadata": {},
   "outputs": [
    {
     "data": {
      "text/plain": [
       "0     151\n",
       "1     358\n",
       "2    2199\n",
       "Name: target, dtype: int64"
      ]
     },
     "execution_count": 18,
     "metadata": {},
     "output_type": "execute_result"
    }
   ],
   "source": [
    "dataset.target.value_counts().sort_index()"
   ]
  },
  {
   "cell_type": "code",
   "execution_count": 19,
   "metadata": {},
   "outputs": [
    {
     "data": {
      "text/plain": [
       "10      53\n",
       "20      98\n",
       "30     358\n",
       "40    1293\n",
       "50     906\n",
       "Name: score, dtype: int64"
      ]
     },
     "execution_count": 19,
     "metadata": {},
     "output_type": "execute_result"
    }
   ],
   "source": [
    "dataset.score.value_counts().sort_index()"
   ]
  },
  {
   "cell_type": "code",
   "execution_count": 20,
   "metadata": {},
   "outputs": [
    {
     "data": {
      "image/png": "[encoded data removed]",
      "text/plain": [
       "<Figure size 720x288 with 1 Axes>"
      ]
     },
     "metadata": {
      "needs_background": "light"
     },
     "output_type": "display_data"
    }
   ],
   "source": [
    "##Number of reviews collected per city\n",
    "dataset['City'].value_counts().sort_index().plot(kind='bar', figsize=(10,4));\n",
    "plt.title('Number of reviews by City', fontsize=15)\n",
    "plt.xticks(fontsize=13)\n",
    "plt.show()"
   ]
  },
  {
   "cell_type": "code",
   "execution_count": 21,
   "metadata": {},
   "outputs": [
    {
     "data": {
      "text/plain": [
       "array(['Mainland China', 'Asia Kitchen', 'All Stir Fry', 'Mamagoto',\n",
       "       'China Bistro'], dtype=object)"
      ]
     },
     "execution_count": 21,
     "metadata": {},
     "output_type": "execute_result"
    }
   ],
   "source": [
    "dataset['Name'].unique()"
   ]
  },
  {
   "cell_type": "code",
   "execution_count": 22,
   "metadata": {},
   "outputs": [],
   "source": [
    "my_stop_list_ = ['bistro', 'china', 'chinese', 'food', 'dish', 'dishes', 'foodie', 'dine', 'dining', 'one', 'ok', 'okay',\n",
    "                      'asia', 'kitchen', 'stir', 'mamagoto', 'mainland', 'china', ]"
   ]
  },
  {
   "cell_type": "code",
   "execution_count": 23,
   "metadata": {},
   "outputs": [],
   "source": [
    "dataset_processing = dataset.copy()"
   ]
  },
  {
   "cell_type": "code",
   "execution_count": 24,
   "metadata": {},
   "outputs": [
    {
     "data": {
      "text/plain": [
       "(2708, 9)"
      ]
     },
     "execution_count": 24,
     "metadata": {},
     "output_type": "execute_result"
    }
   ],
   "source": [
    "dataset_processing.shape"
   ]
  },
  {
   "cell_type": "code",
   "execution_count": 25,
   "metadata": {},
   "outputs": [],
   "source": [
    "import warnings\n",
    "warnings.filterwarnings(\"ignore\")\n",
    "\n",
    "from nltk.corpus import sentiwordnet as swn"
   ]
  },
  {
   "cell_type": "code",
   "execution_count": 26,
   "metadata": {},
   "outputs": [],
   "source": [
    "def pre_processing(dataset, my_stop_list):\n",
    "    ##Use contractions\n",
    "    dataset['review_modified'] = dataset['review'].apply(lambda x: [contractions.fix(word) for word in x.split()])\n",
    "    ##convert list to string\n",
    "    dataset['review_modified_unlist'] = [' '.join(map(str, l)) for l in dataset['review_modified']]\n",
    "    ##convert string to tokens\n",
    "    dataset['review_mod_tokens'] = dataset['review_modified_unlist'].apply(nltk.word_tokenize)\n",
    "    ##convert token to lower case\n",
    "    dataset['review_mod_tokens'] = dataset['review_mod_tokens'].apply(lambda x: [word.lower() for word in x])\n",
    "    ##remove punctuations\n",
    "    dataset['review_mod_tokens'] = dataset['review_mod_tokens'].apply(lambda x: [word for word in x if word not in string.punctuation])\n",
    "    stop_set = set(nltk.corpus.stopwords.words('english'))\n",
    "    stop_set.update(my_stop_list)\n",
    "    ##remove default and custom stop words\n",
    "    dataset['review_mod_tokens'] = dataset['review_mod_tokens'].apply(lambda x: [word for word in x if word not in stop_set])\n",
    "    ##extract parts of speech tags\n",
    "    dataset['review_tags'] = dataset['review_mod_tokens'].apply(nltk.tag.pos_tag)\n",
    "    \n",
    "    def get_wordnet_pos(tag):\n",
    "        if tag.startswith('J'):\n",
    "            return wordnet.ADJ\n",
    "        elif tag.startswith('V'):\n",
    "            return wordnet.VERB\n",
    "        elif tag.startswith('N'):\n",
    "            return wordnet.NOUN\n",
    "        elif tag.startswith('R'):\n",
    "            return wordnet.ADV\n",
    "        else:\n",
    "            return wordnet.NOUN\n",
    "    \n",
    "    dataset['review_wordnet'] = dataset['review_tags'].apply(lambda x: [(word, get_wordnet_pos(pos_tag)) for (word, pos_tag) in x])\n",
    "    ##use lemmatizer on parts of speech tags\n",
    "    lm = WordNetLemmatizer()\n",
    "    dataset['review_lemmatized'] = dataset['review_wordnet'].apply(lambda x: [lm.lemmatize(word, tag) for word, tag in x])\n",
    "    \n",
    "    dataset['review_str'] = [' '.join(map(str,l)) for l in dataset['review_lemmatized']]\n",
    "    ##extract sentiment score from parts of speech tags\n",
    "    dataset['sentiment_score_textblob'] = dataset['review_str'].apply(lambda x: TextBlob(x).sentiment.polarity)\n",
    "    \n",
    "    def afinn_polarity(text):\n",
    "        return Afinn().score(text)\n",
    "    \n",
    "    def score_sentiwordnet(doc):\n",
    "        synsets = (wordnet.synsets(w) for w in nltk.word_tokenize(doc) if w is not None) # tokenize and lookup synonyms in WordNet\n",
    "        words = (s[0].name() for s in synsets if s is not None and len(s) > 0) # use the first (most common) synonym\n",
    "        words = (swn.senti_synset(s) for s in words) # get sentiment scores which have pos, neg, and neutral parts\n",
    "        scores = ((1 - w.obj_score()) * (w.pos_score() - w.neg_score()) for w in words) # calculate individual word scores\n",
    "        return (sum(scores) > 0) # classify document as positive if resulting score is positive\n",
    "    \n",
    "    def ifformula(score):\n",
    "        if score < 0:\n",
    "            return False\n",
    "        else:\n",
    "            return True\n",
    "    \n",
    "    dataset['sentiment_score_afinn'] = dataset['review_str'].apply(afinn_polarity)\n",
    "    dataset['sentiment_score_sentinet'] = dataset['review_str'].apply(score_sentiwordnet)\n",
    "    dataset['sentiment_score_afinn'] = dataset['sentiment_score_afinn'].apply(ifformula)\n",
    "    dataset['sentiment_score_textblob'] = dataset['sentiment_score_textblob'].apply(ifformula)\n",
    "    \n",
    "    dataset = dataset[['score', 'date', 'title', 'link_id', 'Name', 'Location', 'City', 'target', 'review_lemmatized',\n",
    "                       'review_str', 'sentiment_score_textblob', 'sentiment_score_sentinet', 'sentiment_score_afinn']]\n",
    "\n",
    "    return dataset"
   ]
  },
  {
   "cell_type": "code",
   "execution_count": 27,
   "metadata": {
    "scrolled": false
   },
   "outputs": [],
   "source": [
    "dataset_processing = pre_processing(dataset_processing, my_stop_list_)"
   ]
  },
  {
   "cell_type": "code",
   "execution_count": 28,
   "metadata": {},
   "outputs": [
    {
     "data": {
      "text/html": [
       "<div>\n",
       "<style scoped>\n",
       "    .dataframe tbody tr th:only-of-type {\n",
       "        vertical-align: middle;\n",
       "    }\n",
       "\n",
       "    .dataframe tbody tr th {\n",
       "        vertical-align: top;\n",
       "    }\n",
       "\n",
       "    .dataframe thead th {\n",
       "        text-align: right;\n",
       "    }\n",
       "</style>\n",
       "<table border=\"1\" class=\"dataframe\">\n",
       "  <thead>\n",
       "    <tr style=\"text-align: right;\">\n",
       "      <th></th>\n",
       "      <th>score</th>\n",
       "      <th>date</th>\n",
       "      <th>title</th>\n",
       "      <th>link_id</th>\n",
       "      <th>Name</th>\n",
       "      <th>Location</th>\n",
       "      <th>City</th>\n",
       "      <th>target</th>\n",
       "      <th>review_lemmatized</th>\n",
       "      <th>review_str</th>\n",
       "      <th>sentiment_score_textblob</th>\n",
       "      <th>sentiment_score_sentinet</th>\n",
       "      <th>sentiment_score_afinn</th>\n",
       "    </tr>\n",
       "  </thead>\n",
       "  <tbody>\n",
       "    <tr>\n",
       "      <th>0</th>\n",
       "      <td>30</td>\n",
       "      <td>9-Sep-15</td>\n",
       "      <td>Nice ambience but so-so food</td>\n",
       "      <td>https://www.tripadvisor.in/Restaurant_Review-g...</td>\n",
       "      <td>Mainland China</td>\n",
       "      <td>Andheri</td>\n",
       "      <td>Mumbai</td>\n",
       "      <td>1</td>\n",
       "      <td>[décor, nice, staff, friendly, item, menu, usu...</td>\n",
       "      <td>décor nice staff friendly item menu usual run ...</td>\n",
       "      <td>True</td>\n",
       "      <td>True</td>\n",
       "      <td>True</td>\n",
       "    </tr>\n",
       "    <tr>\n",
       "      <th>1</th>\n",
       "      <td>40</td>\n",
       "      <td>9-Sep-15</td>\n",
       "      <td>Pooja maheshwari</td>\n",
       "      <td>https://www.tripadvisor.in/Restaurant_Review-g...</td>\n",
       "      <td>Mainland China</td>\n",
       "      <td>Andheri</td>\n",
       "      <td>Mumbai</td>\n",
       "      <td>2</td>\n",
       "      <td>[want, cuisine, experience, without, visit, pl...</td>\n",
       "      <td>want cuisine experience without visit place be...</td>\n",
       "      <td>True</td>\n",
       "      <td>True</td>\n",
       "      <td>True</td>\n",
       "    </tr>\n",
       "    <tr>\n",
       "      <th>2</th>\n",
       "      <td>30</td>\n",
       "      <td>9-Sep-12</td>\n",
       "      <td>MC is one of the best place for Authentic Chin...</td>\n",
       "      <td>https://www.tripadvisor.in/Restaurant_Review-g...</td>\n",
       "      <td>Asia Kitchen</td>\n",
       "      <td>City Point</td>\n",
       "      <td>Pune</td>\n",
       "      <td>1</td>\n",
       "      <td>[regular, since, 2004, visit, chain, chennai, ...</td>\n",
       "      <td>regular since 2004 visit chain chennai hyderab...</td>\n",
       "      <td>True</td>\n",
       "      <td>True</td>\n",
       "      <td>True</td>\n",
       "    </tr>\n",
       "  </tbody>\n",
       "</table>\n",
       "</div>"
      ],
      "text/plain": [
       "   score      date                                              title  \\\n",
       "0     30  9-Sep-15                       Nice ambience but so-so food   \n",
       "1     40  9-Sep-15                                   Pooja maheshwari   \n",
       "2     30  9-Sep-12  MC is one of the best place for Authentic Chin...   \n",
       "\n",
       "                                             link_id            Name  \\\n",
       "0  https://www.tripadvisor.in/Restaurant_Review-g...  Mainland China   \n",
       "1  https://www.tripadvisor.in/Restaurant_Review-g...  Mainland China   \n",
       "2  https://www.tripadvisor.in/Restaurant_Review-g...    Asia Kitchen   \n",
       "\n",
       "      Location     City  target  \\\n",
       "0      Andheri   Mumbai       1   \n",
       "1      Andheri   Mumbai       2   \n",
       "2   City Point     Pune       1   \n",
       "\n",
       "                                   review_lemmatized  \\\n",
       "0  [décor, nice, staff, friendly, item, menu, usu...   \n",
       "1  [want, cuisine, experience, without, visit, pl...   \n",
       "2  [regular, since, 2004, visit, chain, chennai, ...   \n",
       "\n",
       "                                          review_str  \\\n",
       "0  décor nice staff friendly item menu usual run ...   \n",
       "1  want cuisine experience without visit place be...   \n",
       "2  regular since 2004 visit chain chennai hyderab...   \n",
       "\n",
       "   sentiment_score_textblob  sentiment_score_sentinet  sentiment_score_afinn  \n",
       "0                      True                      True                   True  \n",
       "1                      True                      True                   True  \n",
       "2                      True                      True                   True  "
      ]
     },
     "execution_count": 28,
     "metadata": {},
     "output_type": "execute_result"
    }
   ],
   "source": [
    "dataset_processing.head(3)"
   ]
  },
  {
   "cell_type": "code",
   "execution_count": 29,
   "metadata": {},
   "outputs": [],
   "source": [
    "dataset_processing['word_count'] = dataset_processing['review_lemmatized'].apply(lambda x: len(str(x).split()))\n",
    "dataset_processing['review_length'] = dataset_processing['review_str'].astype(str).apply(len)"
   ]
  },
  {
   "cell_type": "code",
   "execution_count": 30,
   "metadata": {},
   "outputs": [
    {
     "data": {
      "image/png": "[encoded data removed]",
      "text/plain": [
       "<Figure size 1080x288 with 1 Axes>"
      ]
     },
     "metadata": {
      "needs_background": "light"
     },
     "output_type": "display_data"
    }
   ],
   "source": [
    "##Average word count for each target class\n",
    "dataset_processing.groupby(['Name', 'target'])['word_count'].mean().plot(kind='bar', figsize=(15,4));\n",
    "plt.title('Average word count per Target class for restuarants', fontsize=15)\n",
    "plt.xticks(fontsize=13)\n",
    "plt.show()"
   ]
  },
  {
   "cell_type": "code",
   "execution_count": 31,
   "metadata": {},
   "outputs": [
    {
     "data": {
      "image/png": "[encoded data removed]",
      "text/plain": [
       "<Figure size 1080x288 with 1 Axes>"
      ]
     },
     "metadata": {
      "needs_background": "light"
     },
     "output_type": "display_data"
    }
   ],
   "source": [
    "##Average length of comments for each target class\n",
    "dataset_processing.groupby(['Name', 'target'])['review_length'].mean().plot(kind='bar', figsize=(15,4));\n",
    "plt.title('Average review length per Target class for restuarants', fontsize=15)\n",
    "plt.xticks(fontsize=13)\n",
    "plt.show()"
   ]
  },
  {
   "cell_type": "code",
   "execution_count": 32,
   "metadata": {},
   "outputs": [
    {
     "name": "stdout",
     "output_type": "stream",
     "text": [
      "Topic 0:\n",
      "good taste place authentic like really dim sum variety also\n",
      "Topic 1:\n",
      "outlet visit pune restaurant mumbai andheri chain best mall city\n",
      "Topic 2:\n",
      "place love great must try visit really awesome go birthday\n",
      "Topic 3:\n",
      "chicken rice soup noodle fry main good order starter crispy\n",
      "Topic 4:\n",
      "buffet veg lunch starter main good non course money dessert\n",
      "Topic 5:\n",
      "good service place staff restaurant excellent ambience great nice visit\n",
      "Topic 6:\n",
      "wok place sauce go choose fry carte like make option\n",
      "Topic 7:\n",
      "good service time place go restaurant well price quality get\n",
      "Topic 8:\n",
      "sauce chicken thai ice rice cream dumpling curry fish serve\n",
      "Topic 9:\n",
      "order would go restaurant come table get take time say\n"
     ]
    }
   ],
   "source": [
    "##Process to extract LDA topics\n",
    "tf_vectorizer = CountVectorizer(max_df=0.9, min_df=25, max_features=5000)\n",
    "tf = tf_vectorizer.fit_transform(dataset_processing['review_str'].values.astype('U'))\n",
    "tf_feature_names = tf_vectorizer.get_feature_names()\n",
    "doc_term_matrix = pd.DataFrame(tf.toarray(), columns=list(tf_feature_names))\n",
    "\n",
    "lda_model = LatentDirichletAllocation(n_components=10, learning_method='online', max_iter=500, random_state=0).fit(tf)\n",
    "no_top_words = 10\n",
    "def display_topics(model, feature_names, no_top_words):\n",
    "    for topic_idx, topic in enumerate(model.components_):\n",
    "        print(\"Topic %d:\" % (topic_idx))\n",
    "        print(\" \".join([feature_names[i]\n",
    "                          for i in topic.argsort()[:-no_top_words - 1:-1]]))\n",
    "              \n",
    "display_topics(lda_model, tf_feature_names, no_top_words)"
   ]
  },
  {
   "cell_type": "code",
   "execution_count": 33,
   "metadata": {},
   "outputs": [],
   "source": [
    "lda_topic_values = lda_model.transform(tf)\n",
    "dataset_processing['lda_topic_id'] = lda_topic_values.argmax(axis=1)"
   ]
  },
  {
   "cell_type": "code",
   "execution_count": 34,
   "metadata": {},
   "outputs": [
    {
     "data": {
      "image/png": "[encoded data removed]",
      "text/plain": [
       "<Figure size 1080x288 with 1 Axes>"
      ]
     },
     "metadata": {
      "needs_background": "light"
     },
     "output_type": "display_data"
    }
   ],
   "source": [
    "##Plot LDA topics to each row of the dataset and check distribution for each target class\n",
    "dataset_processing.groupby('target')['lda_topic_id'].value_counts().plot(kind='bar', figsize=(15,4));"
   ]
  },
  {
   "cell_type": "code",
   "execution_count": 35,
   "metadata": {},
   "outputs": [
    {
     "data": {
      "text/plain": [
       "Index(['score', 'date', 'title', 'link_id', 'Name', 'Location', 'City',\n",
       "       'target', 'review_lemmatized', 'review_str', 'sentiment_score_textblob',\n",
       "       'sentiment_score_sentinet', 'sentiment_score_afinn', 'word_count',\n",
       "       'review_length', 'lda_topic_id'],\n",
       "      dtype='object')"
      ]
     },
     "execution_count": 35,
     "metadata": {},
     "output_type": "execute_result"
    }
   ],
   "source": [
    "dataset_processing.columns"
   ]
  },
  {
   "cell_type": "code",
   "execution_count": 36,
   "metadata": {},
   "outputs": [],
   "source": [
    "dataset_processing['index'] = dataset_processing.index"
   ]
  },
  {
   "cell_type": "code",
   "execution_count": 37,
   "metadata": {},
   "outputs": [],
   "source": [
    "f1 = ['ambiance', 'decor', 'environment', 'ambience']\n",
    "pattern_f1 = '|'.join(f1)\n",
    "\n",
    "dataset_processing['f1'] = np.where(dataset_processing['index'].isin(list(dataset_processing[dataset_processing['review_str'].str.contains(pattern_f1)].index)),\n",
    "                                'yes','no')"
   ]
  },
  {
   "cell_type": "code",
   "execution_count": 38,
   "metadata": {},
   "outputs": [],
   "source": [
    "f2 = ['starter']\n",
    "pattern_f2 = '|'.join(f2)\n",
    "\n",
    "dataset_processing['f2'] = np.where(dataset_processing['index'].isin(list(dataset_processing[dataset_processing['review_str'].str.contains(pattern_f2)].index)),\n",
    "                                'yes','no')"
   ]
  },
  {
   "cell_type": "code",
   "execution_count": 39,
   "metadata": {},
   "outputs": [],
   "source": [
    "f3 = ['staff', 'service', 'services']\n",
    "pattern_f3 = '|'.join(f3)\n",
    "\n",
    "dataset_processing['f3'] = np.where(dataset_processing['index'].isin(list(dataset_processing[dataset_processing['review_str'].str.contains(pattern_f3)].index)),\n",
    "                                'yes','no')"
   ]
  },
  {
   "cell_type": "code",
   "execution_count": 40,
   "metadata": {},
   "outputs": [],
   "source": [
    "f4 = ['buffet']\n",
    "pattern_f4 = '|'.join(f4)\n",
    "\n",
    "dataset_processing['f4'] = np.where(dataset_processing['index'].isin(list(dataset_processing[dataset_processing['review_str'].str.contains(pattern_f4)].index)),\n",
    "                                'yes','no')"
   ]
  },
  {
   "cell_type": "code",
   "execution_count": 41,
   "metadata": {},
   "outputs": [],
   "source": [
    "f5 = ['price', 'money']\n",
    "pattern_f5 = '|'.join(f5)\n",
    "\n",
    "dataset_processing['f5'] = np.where(dataset_processing['index'].isin(list(dataset_processing[dataset_processing['review_str'].str.contains(pattern_f5)].index)),\n",
    "                                'yes','no')"
   ]
  },
  {
   "cell_type": "code",
   "execution_count": 42,
   "metadata": {},
   "outputs": [],
   "source": [
    "f6 = ['taste', 'tasty']\n",
    "pattern_f6 = '|'.join(f6)\n",
    "\n",
    "dataset_processing['f6'] = np.where(dataset_processing['index'].isin(list(dataset_processing[dataset_processing['review_str'].str.contains(pattern_f6)].index)),\n",
    "                                'yes','no')"
   ]
  },
  {
   "cell_type": "code",
   "execution_count": 43,
   "metadata": {},
   "outputs": [],
   "source": [
    "f7 = ['location']\n",
    "pattern_f7 = '|'.join(f7)\n",
    "\n",
    "dataset_processing['f7'] = np.where(dataset_processing['index'].isin(list(dataset_processing[dataset_processing['review_str'].str.contains(pattern_f7)].index)),\n",
    "                                'yes','no')"
   ]
  },
  {
   "cell_type": "code",
   "execution_count": 44,
   "metadata": {},
   "outputs": [],
   "source": [
    "dataset_processing['yes_count'] = dataset_processing.loc[:, 'f1':'f7'].apply(lambda x: x.str.lower().str.findall('yes').str.len()).sum(axis=1).astype(int)"
   ]
  },
  {
   "cell_type": "code",
   "execution_count": 45,
   "metadata": {},
   "outputs": [],
   "source": [
    "df_rca = dataset_processing.loc[(dataset_processing.yes_count>1) & (dataset_processing.sentiment_score_sentinet==False), :]"
   ]
  },
  {
   "cell_type": "code",
   "execution_count": 46,
   "metadata": {},
   "outputs": [
    {
     "data": {
      "text/plain": [
       "(134, 25)"
      ]
     },
     "execution_count": 46,
     "metadata": {},
     "output_type": "execute_result"
    }
   ],
   "source": [
    "df_rca.shape"
   ]
  },
  {
   "cell_type": "code",
   "execution_count": 47,
   "metadata": {},
   "outputs": [],
   "source": [
    "a1 = pd.DataFrame({'search_tokens':f1})\n",
    "a1['factor'] = \"f1\"\n",
    "a2 = pd.DataFrame({'search_tokens':f2})\n",
    "a2['factor'] = \"f2\"\n",
    "a3 = pd.DataFrame({'search_tokens':f3})\n",
    "a3['factor'] = \"f3\"\n",
    "a4 = pd.DataFrame({'search_tokens':f4})\n",
    "a4['factor'] = \"f4\"\n",
    "a5 = pd.DataFrame({'search_tokens':f5})\n",
    "a5['factor'] = \"f5\"\n",
    "a6 = pd.DataFrame({'search_tokens':f6})\n",
    "a6['factor'] = \"f6\"\n",
    "a7 = pd.DataFrame({'search_tokens':f7})\n",
    "a7['factor'] = \"f7\"\n",
    "\n",
    "search_df = pd.concat([a1,a2,a3,a4,a5,a6,a7], axis=0)\n",
    "\n",
    "search_df.reset_index(inplace=True, drop=True)\n",
    "\n",
    "del a1,a2,a3,a4,a5,a6,a7"
   ]
  },
  {
   "cell_type": "code",
   "execution_count": 48,
   "metadata": {},
   "outputs": [],
   "source": [
    "from sklearn.neighbors import NearestNeighbors"
   ]
  },
  {
   "cell_type": "code",
   "execution_count": 49,
   "metadata": {},
   "outputs": [],
   "source": [
    "def score_sentiwordnet(doc):\n",
    "    synsets = (wordnet.synsets(w) for w in nltk.word_tokenize(doc) if w is not None) # tokenize and lookup synonyms in WordNet\n",
    "    words = (s[0].name() for s in synsets if s is not None and len(s) > 0) # use the first (most common) synonym\n",
    "    words = (swn.senti_synset(s) for s in words) # get sentiment scores which have pos, neg, and neutral parts\n",
    "    scores = ((1 - w.obj_score()) * (w.pos_score() - w.neg_score()) for w in words) # calculate individual word scores\n",
    "    return (sum(scores)>0) # classify document as positive if resulting score is positive\n",
    "\n",
    "def afinn_polarity(text):\n",
    "    return Afinn().score(text)>=0"
   ]
  },
  {
   "cell_type": "code",
   "execution_count": 50,
   "metadata": {},
   "outputs": [],
   "source": [
    "store = []\n",
    "for i in range(df_rca.shape[0]):\n",
    "    x = list(df_rca.iloc[i, 8])\n",
    "    bigrams_list = list(nltk.bigrams(df_rca.iloc[i, 8]))\n",
    "    dictionary2 = [' '.join(tup) for tup in bigrams_list] \n",
    "   \n",
    "    for j in range(search_df.shape[0]):\n",
    "        pick_token = search_df['search_tokens'][j]\n",
    "        if len([s for s in dictionary2 if pick_token in s])>0:\n",
    "            mylst = [s for s in dictionary2 if pick_token in s]\n",
    "            m1 = score_sentiwordnet(' '.join(mylst))\n",
    "            m2 = afinn_polarity(' '.join(mylst))\n",
    "            if (m1==False and m2==False):\n",
    "                m3='yes'\n",
    "            else:\n",
    "                m3 = 'no'\n",
    "            x1 = search_df['search_tokens'][j]\n",
    "            x2 = search_df['factor'][j]\n",
    "            x3 = m3\n",
    "            x4 = i\n",
    "            collect = [x1, x2, x3, x4]\n",
    "            store.append(collect)"
   ]
  },
  {
   "cell_type": "code",
   "execution_count": 51,
   "metadata": {},
   "outputs": [],
   "source": [
    "collect_df = pd.DataFrame(store, columns=['search_tokens', 'factor', 'correction', 'df_rca_row'])"
   ]
  },
  {
   "cell_type": "code",
   "execution_count": 52,
   "metadata": {},
   "outputs": [],
   "source": [
    "del store"
   ]
  },
  {
   "cell_type": "code",
   "execution_count": 53,
   "metadata": {},
   "outputs": [],
   "source": [
    "result = collect_df.pivot_table(index='df_rca_row', columns='factor', values='correction', aggfunc='first')\n",
    "result.columns.name = None\n",
    "result = result.reset_index().rename_axis(None, axis=1)\n",
    "result['source_index'] = df_rca.index\n",
    "\n",
    "result.fillna(\"no\", inplace=True)\n",
    "\n",
    "result.set_index('source_index', inplace=True, drop=True)\n",
    "\n",
    "result.drop(labels=['df_rca_row'], inplace=True, axis=1)\n",
    "\n",
    "result.columns = [\"f1_corr\", \"f2_corr\", \"f3_corr\", \"f4_corr\", \"f5_corr\", \"f6_corr\", \"f7_corr\"]"
   ]
  },
  {
   "cell_type": "code",
   "execution_count": 54,
   "metadata": {},
   "outputs": [],
   "source": [
    "df_rem = dataset_processing.loc[(dataset_processing.yes_count<=1) & (dataset_processing.sentiment_score_sentinet==False), :]"
   ]
  },
  {
   "cell_type": "code",
   "execution_count": 55,
   "metadata": {},
   "outputs": [
    {
     "data": {
      "text/plain": [
       "(204, 25)"
      ]
     },
     "execution_count": 55,
     "metadata": {},
     "output_type": "execute_result"
    }
   ],
   "source": [
    "df_rem.shape"
   ]
  },
  {
   "cell_type": "code",
   "execution_count": 56,
   "metadata": {},
   "outputs": [],
   "source": [
    "result_new = pd.merge(result, df_rca, how=\"left\", left_index=True, right_index=True)"
   ]
  },
  {
   "cell_type": "code",
   "execution_count": 57,
   "metadata": {},
   "outputs": [
    {
     "data": {
      "text/plain": [
       "Index(['f1_corr', 'f2_corr', 'f3_corr', 'f4_corr', 'f5_corr', 'f6_corr',\n",
       "       'f7_corr', 'score', 'date', 'title', 'link_id', 'Name', 'Location',\n",
       "       'City', 'target', 'review_lemmatized', 'review_str',\n",
       "       'sentiment_score_textblob', 'sentiment_score_sentinet',\n",
       "       'sentiment_score_afinn', 'word_count', 'review_length', 'lda_topic_id',\n",
       "       'index', 'f1', 'f2', 'f3', 'f4', 'f5', 'f6', 'f7', 'yes_count'],\n",
       "      dtype='object')"
      ]
     },
     "execution_count": 57,
     "metadata": {},
     "output_type": "execute_result"
    }
   ],
   "source": [
    "result_new.columns"
   ]
  },
  {
   "cell_type": "code",
   "execution_count": 58,
   "metadata": {},
   "outputs": [],
   "source": [
    "df_corrected = result_new[['Name', 'Location', 'City', 'target', 'date',\n",
    "                           'review_lemmatized', 'review_str',\n",
    "                          'f1_corr', 'f2_corr', 'f3_corr', 'f4_corr', 'f5_corr', 'f6_corr', 'f7_corr',\n",
    "                          'sentiment_score_sentinet', 'sentiment_score_afinn', 'yes_count', 'lda_topic_id']]"
   ]
  },
  {
   "cell_type": "code",
   "execution_count": 59,
   "metadata": {},
   "outputs": [],
   "source": [
    "df_corrected.columns = ['Name', 'Location', 'City', 'target', 'date',\n",
    "                           'review_lemmatized', 'review_str',\n",
    "                          'f1', 'f2', 'f3', 'f4', 'f5', 'f6', 'f7',\n",
    "                          'sentiment_score_sentinet', 'sentiment_score_afinn', 'yes_count', 'lda_topic_id']"
   ]
  },
  {
   "cell_type": "code",
   "execution_count": 60,
   "metadata": {},
   "outputs": [
    {
     "data": {
      "text/plain": [
       "(134, 18)"
      ]
     },
     "execution_count": 60,
     "metadata": {},
     "output_type": "execute_result"
    }
   ],
   "source": [
    "df_corrected.shape"
   ]
  },
  {
   "cell_type": "code",
   "execution_count": 61,
   "metadata": {},
   "outputs": [],
   "source": [
    "df_rem = df_rem[['Name', 'Location', 'City', 'target', 'date',\n",
    "                           'review_lemmatized', 'review_str',\n",
    "                          'f1', 'f2', 'f3', 'f4', 'f5', 'f6', 'f7',\n",
    "                          'sentiment_score_sentinet', 'sentiment_score_afinn', 'yes_count', 'lda_topic_id']]"
   ]
  },
  {
   "cell_type": "code",
   "execution_count": 62,
   "metadata": {},
   "outputs": [],
   "source": [
    "df_sentiwordnet = pd.concat([df_rem, df_corrected], axis=0)"
   ]
  },
  {
   "cell_type": "code",
   "execution_count": 63,
   "metadata": {},
   "outputs": [
    {
     "data": {
      "text/plain": [
       "(338, 18)"
      ]
     },
     "execution_count": 63,
     "metadata": {},
     "output_type": "execute_result"
    }
   ],
   "source": [
    "df_sentiwordnet.shape"
   ]
  },
  {
   "cell_type": "code",
   "execution_count": 64,
   "metadata": {},
   "outputs": [],
   "source": [
    "df_sentiwordnet.reset_index(inplace=True, drop=True)"
   ]
  },
  {
   "cell_type": "code",
   "execution_count": 65,
   "metadata": {},
   "outputs": [],
   "source": [
    "del df_rem, df_corrected"
   ]
  },
  {
   "cell_type": "code",
   "execution_count": 66,
   "metadata": {},
   "outputs": [
    {
     "data": {
      "text/plain": [
       "Mainland China    189\n",
       "Asia Kitchen       58\n",
       "All Stir Fry       41\n",
       "Mamagoto           35\n",
       "China Bistro       15\n",
       "Name: Name, dtype: int64"
      ]
     },
     "execution_count": 66,
     "metadata": {},
     "output_type": "execute_result"
    }
   ],
   "source": [
    "df_sentiwordnet.Name.value_counts()"
   ]
  },
  {
   "cell_type": "code",
   "execution_count": 67,
   "metadata": {},
   "outputs": [],
   "source": [
    "df_sentiwordnet['Entity'] = 'Unknown'\n",
    "df_sentiwordnet.loc[df_sentiwordnet['Name']=='Mamagoto', 'Entity'] = 'External'\n",
    "df_sentiwordnet.loc[df_sentiwordnet['Name']=='China Bistro', 'Entity'] = 'External'\n",
    "df_sentiwordnet.loc[df_sentiwordnet['Name']=='All Stir Fry', 'Entity'] = 'External'\n",
    "df_sentiwordnet.loc[df_sentiwordnet['Name']=='Asia Kitchen', 'Entity'] = 'Internal'\n",
    "df_sentiwordnet.loc[df_sentiwordnet['Name']=='Mainland China', 'Entity'] = 'Self'"
   ]
  },
  {
   "cell_type": "code",
   "execution_count": 68,
   "metadata": {},
   "outputs": [
    {
     "data": {
      "text/plain": [
       "Self        189\n",
       "External     91\n",
       "Internal     58\n",
       "Name: Entity, dtype: int64"
      ]
     },
     "execution_count": 68,
     "metadata": {},
     "output_type": "execute_result"
    }
   ],
   "source": [
    "df_sentiwordnet.Entity.value_counts()"
   ]
  },
  {
   "cell_type": "code",
   "execution_count": 69,
   "metadata": {},
   "outputs": [],
   "source": [
    "def factor_plot(varname, title=\"Proportion of customers who rated negative on environment (F1)\"):\n",
    "    g = df_sentiwordnet.loc[df_sentiwordnet['yes_count']!=0, ].groupby([\"Entity\", varname]).count()['yes_count'].groupby(level=[0]).apply(lambda g: g / g.sum())\n",
    "    g = pd.DataFrame(g)\n",
    "    g.columns.name = None\n",
    "    g = g.reset_index().rename_axis(None, axis=1)\n",
    "    g = g.loc[g[varname]==\"yes\", ['Entity', 'yes_count']]\n",
    "    \n",
    "    fig, axes = plt.subplots(figsize=(8,5))\n",
    "    fig.subplots_adjust(top=0.5)\n",
    "    splot = sns.barplot(x='Entity', y=\"yes_count\", data=g, ax=axes, order=['Self', 'Internal', 'External']);\n",
    "    axes.spines['top'].set_visible(False)\n",
    "    axes.spines['right'].set_visible(False)\n",
    "    axes.spines['left'].set_visible(False)\n",
    "    axes.set_title(title, fontsize=14, weight='bold')\n",
    "    axes.set_xlabel('Entity', fontsize=13, weight='bold')\n",
    "    axes.set_ylabel('Proportion of Negative sentiments', fontsize=13, weight='bold')\n",
    "    ##Source Code: Start\n",
    "    ##Link : https://github.com/mwaskom/seaborn/issues/1582\n",
    "    for p in splot.patches:\n",
    "        splot.annotate(\n",
    "            format(p.get_height(), '.3f'),\n",
    "            (p.get_x() + p.get_width() / 2.,\n",
    "             p.get_height()), ha = 'center', va = 'center',\n",
    "            xytext = (0, 10), textcoords = 'offset points')\n",
    "    ##Source Code: End\n",
    "    # axes.legend(loc='best', shadow=True,fontsize='medium')\n",
    "    fig.tight_layout()\n",
    "    plt.show()"
   ]
  },
  {
   "cell_type": "code",
   "execution_count": 70,
   "metadata": {},
   "outputs": [
    {
     "data": {
      "image/png": "[encoded data removed]",
      "text/plain": [
       "<Figure size 576x360 with 1 Axes>"
      ]
     },
     "metadata": {
      "needs_background": "light"
     },
     "output_type": "display_data"
    }
   ],
   "source": [
    "factor_plot('f1',\n",
    "           title=\"Proportion of customers who rated negative on environment (F1)\")"
   ]
  },
  {
   "cell_type": "code",
   "execution_count": 71,
   "metadata": {},
   "outputs": [
    {
     "data": {
      "image/png": "[encoded data removed]",
      "text/plain": [
       "<Figure size 576x360 with 1 Axes>"
      ]
     },
     "metadata": {
      "needs_background": "light"
     },
     "output_type": "display_data"
    }
   ],
   "source": [
    "factor_plot('f2',\n",
    "           title=\"Proportion of customers who rated negative on starters served (F2)\")"
   ]
  },
  {
   "cell_type": "code",
   "execution_count": 72,
   "metadata": {},
   "outputs": [
    {
     "data": {
      "image/png": "[encoded data removed]",
      "text/plain": [
       "<Figure size 576x360 with 1 Axes>"
      ]
     },
     "metadata": {
      "needs_background": "light"
     },
     "output_type": "display_data"
    }
   ],
   "source": [
    "factor_plot('f3',\n",
    "           title=\"Proportion of customers who rated negative on staff and services (F3)\")"
   ]
  },
  {
   "cell_type": "code",
   "execution_count": 73,
   "metadata": {},
   "outputs": [
    {
     "data": {
      "image/png": "[encoded data removed]",
      "text/plain": [
       "<Figure size 576x360 with 1 Axes>"
      ]
     },
     "metadata": {
      "needs_background": "light"
     },
     "output_type": "display_data"
    }
   ],
   "source": [
    "factor_plot('f4',\n",
    "           title=\"Proportion of customers who rated negative on buffet (F4)\")"
   ]
  },
  {
   "cell_type": "code",
   "execution_count": 74,
   "metadata": {},
   "outputs": [
    {
     "data": {
      "image/png": "[encoded data removed]",
      "text/plain": [
       "<Figure size 576x360 with 1 Axes>"
      ]
     },
     "metadata": {
      "needs_background": "light"
     },
     "output_type": "display_data"
    }
   ],
   "source": [
    "factor_plot('f5',\n",
    "           title=\"Proportion of customers who rated negative on pricing (F5)\")"
   ]
  },
  {
   "cell_type": "code",
   "execution_count": 75,
   "metadata": {},
   "outputs": [
    {
     "data": {
      "image/png": "[encoded data removed]",
      "text/plain": [
       "<Figure size 576x360 with 1 Axes>"
      ]
     },
     "metadata": {
      "needs_background": "light"
     },
     "output_type": "display_data"
    }
   ],
   "source": [
    "factor_plot('f6',\n",
    "           title=\"Proportion of customers who rated negative on food taste (F6)\")"
   ]
  },
  {
   "cell_type": "code",
   "execution_count": 76,
   "metadata": {},
   "outputs": [
    {
     "data": {
      "image/png": "[encoded data removed]",
      "text/plain": [
       "<Figure size 576x360 with 1 Axes>"
      ]
     },
     "metadata": {
      "needs_background": "light"
     },
     "output_type": "display_data"
    }
   ],
   "source": [
    "factor_plot('f7',\n",
    "           title=\"Proportion of customers who rated negative on facility location (F7)\")"
   ]
  },
  {
   "cell_type": "code",
   "execution_count": 77,
   "metadata": {},
   "outputs": [
    {
     "data": {
      "text/html": [
       "<div>\n",
       "<style scoped>\n",
       "    .dataframe tbody tr th:only-of-type {\n",
       "        vertical-align: middle;\n",
       "    }\n",
       "\n",
       "    .dataframe tbody tr th {\n",
       "        vertical-align: top;\n",
       "    }\n",
       "\n",
       "    .dataframe thead th {\n",
       "        text-align: right;\n",
       "    }\n",
       "</style>\n",
       "<table border=\"1\" class=\"dataframe\">\n",
       "  <thead>\n",
       "    <tr style=\"text-align: right;\">\n",
       "      <th></th>\n",
       "      <th>Name</th>\n",
       "      <th>Location</th>\n",
       "      <th>City</th>\n",
       "      <th>date</th>\n",
       "      <th>f1</th>\n",
       "      <th>f2</th>\n",
       "      <th>f3</th>\n",
       "      <th>f4</th>\n",
       "      <th>f5</th>\n",
       "      <th>f6</th>\n",
       "      <th>f7</th>\n",
       "      <th>sentiment_score_sentinet</th>\n",
       "      <th>sentiment_score_afinn</th>\n",
       "      <th>yes_count</th>\n",
       "      <th>lda_topic_id</th>\n",
       "    </tr>\n",
       "  </thead>\n",
       "  <tbody>\n",
       "    <tr>\n",
       "      <th>91</th>\n",
       "      <td>China Bistro</td>\n",
       "      <td>Worli</td>\n",
       "      <td>Mumbai</td>\n",
       "      <td>8-Nov-19</td>\n",
       "      <td>no</td>\n",
       "      <td>yes</td>\n",
       "      <td>yes</td>\n",
       "      <td>yes</td>\n",
       "      <td>yes</td>\n",
       "      <td>no</td>\n",
       "      <td>no</td>\n",
       "      <td>False</td>\n",
       "      <td>False</td>\n",
       "      <td>4</td>\n",
       "      <td>4</td>\n",
       "    </tr>\n",
       "    <tr>\n",
       "      <th>476</th>\n",
       "      <td>China Bistro</td>\n",
       "      <td>Worli</td>\n",
       "      <td>Mumbai</td>\n",
       "      <td>31-Oct-16</td>\n",
       "      <td>no</td>\n",
       "      <td>no</td>\n",
       "      <td>yes</td>\n",
       "      <td>yes</td>\n",
       "      <td>yes</td>\n",
       "      <td>no</td>\n",
       "      <td>no</td>\n",
       "      <td>False</td>\n",
       "      <td>True</td>\n",
       "      <td>3</td>\n",
       "      <td>7</td>\n",
       "    </tr>\n",
       "    <tr>\n",
       "      <th>1503</th>\n",
       "      <td>China Bistro</td>\n",
       "      <td>Worli</td>\n",
       "      <td>Mumbai</td>\n",
       "      <td>21-Oct-14</td>\n",
       "      <td>no</td>\n",
       "      <td>no</td>\n",
       "      <td>yes</td>\n",
       "      <td>yes</td>\n",
       "      <td>no</td>\n",
       "      <td>no</td>\n",
       "      <td>no</td>\n",
       "      <td>False</td>\n",
       "      <td>True</td>\n",
       "      <td>2</td>\n",
       "      <td>4</td>\n",
       "    </tr>\n",
       "    <tr>\n",
       "      <th>1576</th>\n",
       "      <td>China Bistro</td>\n",
       "      <td>Worli</td>\n",
       "      <td>Mumbai</td>\n",
       "      <td>20-Sep-18</td>\n",
       "      <td>no</td>\n",
       "      <td>yes</td>\n",
       "      <td>yes</td>\n",
       "      <td>yes</td>\n",
       "      <td>yes</td>\n",
       "      <td>no</td>\n",
       "      <td>no</td>\n",
       "      <td>False</td>\n",
       "      <td>True</td>\n",
       "      <td>4</td>\n",
       "      <td>8</td>\n",
       "    </tr>\n",
       "    <tr>\n",
       "      <th>1819</th>\n",
       "      <td>China Bistro</td>\n",
       "      <td>Worli</td>\n",
       "      <td>Mumbai</td>\n",
       "      <td>18-Nov-16</td>\n",
       "      <td>no</td>\n",
       "      <td>yes</td>\n",
       "      <td>yes</td>\n",
       "      <td>yes</td>\n",
       "      <td>no</td>\n",
       "      <td>yes</td>\n",
       "      <td>no</td>\n",
       "      <td>False</td>\n",
       "      <td>False</td>\n",
       "      <td>4</td>\n",
       "      <td>4</td>\n",
       "    </tr>\n",
       "    <tr>\n",
       "      <th>1852</th>\n",
       "      <td>China Bistro</td>\n",
       "      <td>Worli</td>\n",
       "      <td>Mumbai</td>\n",
       "      <td>18-Jul-16</td>\n",
       "      <td>no</td>\n",
       "      <td>yes</td>\n",
       "      <td>yes</td>\n",
       "      <td>no</td>\n",
       "      <td>yes</td>\n",
       "      <td>no</td>\n",
       "      <td>no</td>\n",
       "      <td>False</td>\n",
       "      <td>True</td>\n",
       "      <td>3</td>\n",
       "      <td>8</td>\n",
       "    </tr>\n",
       "    <tr>\n",
       "      <th>2139</th>\n",
       "      <td>China Bistro</td>\n",
       "      <td>Worli</td>\n",
       "      <td>Mumbai</td>\n",
       "      <td>14-Sep-15</td>\n",
       "      <td>no</td>\n",
       "      <td>no</td>\n",
       "      <td>yes</td>\n",
       "      <td>no</td>\n",
       "      <td>no</td>\n",
       "      <td>yes</td>\n",
       "      <td>no</td>\n",
       "      <td>False</td>\n",
       "      <td>False</td>\n",
       "      <td>2</td>\n",
       "      <td>5</td>\n",
       "    </tr>\n",
       "    <tr>\n",
       "      <th>2549</th>\n",
       "      <td>China Bistro</td>\n",
       "      <td>Worli</td>\n",
       "      <td>Mumbai</td>\n",
       "      <td>10-May-15</td>\n",
       "      <td>no</td>\n",
       "      <td>yes</td>\n",
       "      <td>no</td>\n",
       "      <td>no</td>\n",
       "      <td>yes</td>\n",
       "      <td>no</td>\n",
       "      <td>no</td>\n",
       "      <td>False</td>\n",
       "      <td>True</td>\n",
       "      <td>2</td>\n",
       "      <td>9</td>\n",
       "    </tr>\n",
       "  </tbody>\n",
       "</table>\n",
       "</div>"
      ],
      "text/plain": [
       "              Name Location     City       date  f1   f2   f3   f4   f5   f6  \\\n",
       "91    China Bistro    Worli   Mumbai   8-Nov-19  no  yes  yes  yes  yes   no   \n",
       "476   China Bistro    Worli   Mumbai  31-Oct-16  no   no  yes  yes  yes   no   \n",
       "1503  China Bistro    Worli   Mumbai  21-Oct-14  no   no  yes  yes   no   no   \n",
       "1576  China Bistro    Worli   Mumbai  20-Sep-18  no  yes  yes  yes  yes   no   \n",
       "1819  China Bistro    Worli   Mumbai  18-Nov-16  no  yes  yes  yes   no  yes   \n",
       "1852  China Bistro    Worli   Mumbai  18-Jul-16  no  yes  yes   no  yes   no   \n",
       "2139  China Bistro    Worli   Mumbai  14-Sep-15  no   no  yes   no   no  yes   \n",
       "2549  China Bistro    Worli   Mumbai  10-May-15  no  yes   no   no  yes   no   \n",
       "\n",
       "      f7  sentiment_score_sentinet  sentiment_score_afinn  yes_count  \\\n",
       "91    no                     False                  False          4   \n",
       "476   no                     False                   True          3   \n",
       "1503  no                     False                   True          2   \n",
       "1576  no                     False                   True          4   \n",
       "1819  no                     False                  False          4   \n",
       "1852  no                     False                   True          3   \n",
       "2139  no                     False                  False          2   \n",
       "2549  no                     False                   True          2   \n",
       "\n",
       "      lda_topic_id  \n",
       "91               4  \n",
       "476              7  \n",
       "1503             4  \n",
       "1576             8  \n",
       "1819             4  \n",
       "1852             8  \n",
       "2139             5  \n",
       "2549             9  "
      ]
     },
     "execution_count": 77,
     "metadata": {},
     "output_type": "execute_result"
    }
   ],
   "source": [
    "df_rca.loc[df_rca['Name']==\"China Bistro\", ['Name', 'Location', 'City', 'date',\n",
    "                          'f1', 'f2', 'f3', 'f4', 'f5', 'f6', 'f7',\n",
    "                          'sentiment_score_sentinet', 'sentiment_score_afinn', 'yes_count', 'lda_topic_id']]"
   ]
  },
  {
   "cell_type": "code",
   "execution_count": 78,
   "metadata": {},
   "outputs": [
    {
     "data": {
      "text/html": [
       "<div>\n",
       "<style scoped>\n",
       "    .dataframe tbody tr th:only-of-type {\n",
       "        vertical-align: middle;\n",
       "    }\n",
       "\n",
       "    .dataframe tbody tr th {\n",
       "        vertical-align: top;\n",
       "    }\n",
       "\n",
       "    .dataframe thead th {\n",
       "        text-align: right;\n",
       "    }\n",
       "</style>\n",
       "<table border=\"1\" class=\"dataframe\">\n",
       "  <thead>\n",
       "    <tr style=\"text-align: right;\">\n",
       "      <th></th>\n",
       "      <th>Name</th>\n",
       "      <th>Location</th>\n",
       "      <th>City</th>\n",
       "      <th>date</th>\n",
       "      <th>f1</th>\n",
       "      <th>f2</th>\n",
       "      <th>f3</th>\n",
       "      <th>f4</th>\n",
       "      <th>f5</th>\n",
       "      <th>f6</th>\n",
       "      <th>f7</th>\n",
       "      <th>sentiment_score_sentinet</th>\n",
       "      <th>sentiment_score_afinn</th>\n",
       "      <th>yes_count</th>\n",
       "      <th>lda_topic_id</th>\n",
       "    </tr>\n",
       "  </thead>\n",
       "  <tbody>\n",
       "    <tr>\n",
       "      <th>209</th>\n",
       "      <td>China Bistro</td>\n",
       "      <td>Worli</td>\n",
       "      <td>Mumbai</td>\n",
       "      <td>8-Nov-19</td>\n",
       "      <td>no</td>\n",
       "      <td>no</td>\n",
       "      <td>yes</td>\n",
       "      <td>no</td>\n",
       "      <td>no</td>\n",
       "      <td>no</td>\n",
       "      <td>no</td>\n",
       "      <td>False</td>\n",
       "      <td>False</td>\n",
       "      <td>4</td>\n",
       "      <td>4</td>\n",
       "    </tr>\n",
       "    <tr>\n",
       "      <th>231</th>\n",
       "      <td>China Bistro</td>\n",
       "      <td>Worli</td>\n",
       "      <td>Mumbai</td>\n",
       "      <td>31-Oct-16</td>\n",
       "      <td>no</td>\n",
       "      <td>no</td>\n",
       "      <td>no</td>\n",
       "      <td>no</td>\n",
       "      <td>no</td>\n",
       "      <td>no</td>\n",
       "      <td>no</td>\n",
       "      <td>False</td>\n",
       "      <td>True</td>\n",
       "      <td>3</td>\n",
       "      <td>7</td>\n",
       "    </tr>\n",
       "    <tr>\n",
       "      <th>275</th>\n",
       "      <td>China Bistro</td>\n",
       "      <td>Worli</td>\n",
       "      <td>Mumbai</td>\n",
       "      <td>21-Oct-14</td>\n",
       "      <td>no</td>\n",
       "      <td>no</td>\n",
       "      <td>no</td>\n",
       "      <td>no</td>\n",
       "      <td>no</td>\n",
       "      <td>no</td>\n",
       "      <td>no</td>\n",
       "      <td>False</td>\n",
       "      <td>True</td>\n",
       "      <td>2</td>\n",
       "      <td>4</td>\n",
       "    </tr>\n",
       "    <tr>\n",
       "      <th>277</th>\n",
       "      <td>China Bistro</td>\n",
       "      <td>Worli</td>\n",
       "      <td>Mumbai</td>\n",
       "      <td>20-Sep-18</td>\n",
       "      <td>no</td>\n",
       "      <td>no</td>\n",
       "      <td>no</td>\n",
       "      <td>no</td>\n",
       "      <td>no</td>\n",
       "      <td>no</td>\n",
       "      <td>no</td>\n",
       "      <td>False</td>\n",
       "      <td>True</td>\n",
       "      <td>4</td>\n",
       "      <td>8</td>\n",
       "    </tr>\n",
       "    <tr>\n",
       "      <th>287</th>\n",
       "      <td>China Bistro</td>\n",
       "      <td>Worli</td>\n",
       "      <td>Mumbai</td>\n",
       "      <td>18-Nov-16</td>\n",
       "      <td>no</td>\n",
       "      <td>no</td>\n",
       "      <td>yes</td>\n",
       "      <td>no</td>\n",
       "      <td>no</td>\n",
       "      <td>no</td>\n",
       "      <td>no</td>\n",
       "      <td>False</td>\n",
       "      <td>False</td>\n",
       "      <td>4</td>\n",
       "      <td>4</td>\n",
       "    </tr>\n",
       "    <tr>\n",
       "      <th>290</th>\n",
       "      <td>China Bistro</td>\n",
       "      <td>Worli</td>\n",
       "      <td>Mumbai</td>\n",
       "      <td>18-Jul-16</td>\n",
       "      <td>no</td>\n",
       "      <td>no</td>\n",
       "      <td>no</td>\n",
       "      <td>no</td>\n",
       "      <td>no</td>\n",
       "      <td>no</td>\n",
       "      <td>no</td>\n",
       "      <td>False</td>\n",
       "      <td>True</td>\n",
       "      <td>3</td>\n",
       "      <td>8</td>\n",
       "    </tr>\n",
       "    <tr>\n",
       "      <th>312</th>\n",
       "      <td>China Bistro</td>\n",
       "      <td>Worli</td>\n",
       "      <td>Mumbai</td>\n",
       "      <td>14-Sep-15</td>\n",
       "      <td>no</td>\n",
       "      <td>no</td>\n",
       "      <td>no</td>\n",
       "      <td>no</td>\n",
       "      <td>no</td>\n",
       "      <td>no</td>\n",
       "      <td>no</td>\n",
       "      <td>False</td>\n",
       "      <td>False</td>\n",
       "      <td>2</td>\n",
       "      <td>5</td>\n",
       "    </tr>\n",
       "    <tr>\n",
       "      <th>330</th>\n",
       "      <td>China Bistro</td>\n",
       "      <td>Worli</td>\n",
       "      <td>Mumbai</td>\n",
       "      <td>10-May-15</td>\n",
       "      <td>no</td>\n",
       "      <td>no</td>\n",
       "      <td>no</td>\n",
       "      <td>no</td>\n",
       "      <td>yes</td>\n",
       "      <td>no</td>\n",
       "      <td>no</td>\n",
       "      <td>False</td>\n",
       "      <td>True</td>\n",
       "      <td>2</td>\n",
       "      <td>9</td>\n",
       "    </tr>\n",
       "  </tbody>\n",
       "</table>\n",
       "</div>"
      ],
      "text/plain": [
       "             Name Location     City       date  f1  f2   f3  f4   f5  f6  f7  \\\n",
       "209  China Bistro    Worli   Mumbai   8-Nov-19  no  no  yes  no   no  no  no   \n",
       "231  China Bistro    Worli   Mumbai  31-Oct-16  no  no   no  no   no  no  no   \n",
       "275  China Bistro    Worli   Mumbai  21-Oct-14  no  no   no  no   no  no  no   \n",
       "277  China Bistro    Worli   Mumbai  20-Sep-18  no  no   no  no   no  no  no   \n",
       "287  China Bistro    Worli   Mumbai  18-Nov-16  no  no  yes  no   no  no  no   \n",
       "290  China Bistro    Worli   Mumbai  18-Jul-16  no  no   no  no   no  no  no   \n",
       "312  China Bistro    Worli   Mumbai  14-Sep-15  no  no   no  no   no  no  no   \n",
       "330  China Bistro    Worli   Mumbai  10-May-15  no  no   no  no  yes  no  no   \n",
       "\n",
       "     sentiment_score_sentinet  sentiment_score_afinn  yes_count  lda_topic_id  \n",
       "209                     False                  False          4             4  \n",
       "231                     False                   True          3             7  \n",
       "275                     False                   True          2             4  \n",
       "277                     False                   True          4             8  \n",
       "287                     False                  False          4             4  \n",
       "290                     False                   True          3             8  \n",
       "312                     False                  False          2             5  \n",
       "330                     False                   True          2             9  "
      ]
     },
     "execution_count": 78,
     "metadata": {},
     "output_type": "execute_result"
    }
   ],
   "source": [
    "df_sentiwordnet.loc[(df_sentiwordnet['Name']==\"China Bistro\") & (df_sentiwordnet['sentiment_score_sentinet']==False) & (df_sentiwordnet['yes_count']>1), ['Name', 'Location', 'City', 'date',\n",
    "                          'f1', 'f2', 'f3', 'f4', 'f5', 'f6', 'f7',\n",
    "                          'sentiment_score_sentinet', 'sentiment_score_afinn', 'yes_count', 'lda_topic_id']]"
   ]
  },
  {
   "cell_type": "code",
   "execution_count": 79,
   "metadata": {},
   "outputs": [
    {
     "data": {
      "text/plain": [
       "Index(['Name', 'Location', 'City', 'target', 'date', 'review_lemmatized',\n",
       "       'review_str', 'f1', 'f2', 'f3', 'f4', 'f5', 'f6', 'f7',\n",
       "       'sentiment_score_sentinet', 'sentiment_score_afinn', 'yes_count',\n",
       "       'lda_topic_id', 'Entity'],\n",
       "      dtype='object')"
      ]
     },
     "execution_count": 79,
     "metadata": {},
     "output_type": "execute_result"
    }
   ],
   "source": [
    "df_sentiwordnet.columns"
   ]
  },
  {
   "cell_type": "code",
   "execution_count": 80,
   "metadata": {},
   "outputs": [],
   "source": [
    "df_sentiwordnet.date = pd.to_datetime(df_sentiwordnet.date)"
   ]
  },
  {
   "cell_type": "code",
   "execution_count": 81,
   "metadata": {},
   "outputs": [],
   "source": [
    "df_sentiwordnet['quarter'] = pd.PeriodIndex(df_sentiwordnet.date, freq='Q')"
   ]
  },
  {
   "cell_type": "code",
   "execution_count": 82,
   "metadata": {},
   "outputs": [
    {
     "data": {
      "image/png": "[encoded data removed]",
      "text/plain": [
       "<Figure size 1080x360 with 1 Axes>"
      ]
     },
     "metadata": {
      "needs_background": "light"
     },
     "output_type": "display_data"
    }
   ],
   "source": [
    "week_groups = df_sentiwordnet.loc[(df_sentiwordnet['f2']==\"yes\") & (df_sentiwordnet['Entity']==\"Self\")].groupby(['quarter']\n",
    "                          )['f2'].count()\n",
    "week_groups.plot(kind='bar',figsize=(15,5),legend=None);\n",
    "plt.title('Number of negative reviews for Mainland China on starters served', fontsize=15)\n",
    "plt.xticks(fontsize=13)\n",
    "plt.xticks(rotation=45,\n",
    "        horizontalalignment=\"right\")\n",
    "plt.show()"
   ]
  },
  {
   "cell_type": "code",
   "execution_count": 83,
   "metadata": {},
   "outputs": [
    {
     "data": {
      "image/png": "[encoded data removed]",
      "text/plain": [
       "<Figure size 1080x360 with 1 Axes>"
      ]
     },
     "metadata": {
      "needs_background": "light"
     },
     "output_type": "display_data"
    }
   ],
   "source": [
    "week_groups = df_sentiwordnet.loc[(df_sentiwordnet['f3']==\"yes\") & (df_sentiwordnet['Entity']==\"Self\")].groupby(['quarter']\n",
    "                          )['f3'].count()\n",
    "week_groups.plot(kind='bar',figsize=(15,5),legend=None);\n",
    "plt.title('Number of negative reviews for Mainland China on staff & services', fontsize=15)\n",
    "plt.xticks(fontsize=13)\n",
    "plt.xticks(rotation=45,\n",
    "        horizontalalignment=\"right\")\n",
    "plt.show()"
   ]
  },
  {
   "cell_type": "code",
   "execution_count": 84,
   "metadata": {},
   "outputs": [
    {
     "data": {
      "image/png": "[encoded data removed]",
      "text/plain": [
       "<Figure size 1080x360 with 1 Axes>"
      ]
     },
     "metadata": {
      "needs_background": "light"
     },
     "output_type": "display_data"
    }
   ],
   "source": [
    "week_groups = df_sentiwordnet.loc[(df_sentiwordnet['f4']==\"yes\") & (df_sentiwordnet['Entity']==\"Self\")].groupby(['quarter']\n",
    "                          )['f4'].count()\n",
    "week_groups.plot(kind='bar',figsize=(15,5),legend=None);\n",
    "plt.title('Number of negative reviews for Mainland China on buffet menu', fontsize=15)\n",
    "plt.xticks(fontsize=13)\n",
    "plt.xticks(rotation=45,\n",
    "        horizontalalignment=\"right\")\n",
    "plt.show()"
   ]
  },
  {
   "cell_type": "markdown",
   "metadata": {},
   "source": [
    "**Thank You**"
   ]
  }
 ],
 "metadata": {
  "kernelspec": {
   "display_name": "Python 3",
   "language": "python",
   "name": "python3"
  },
  "language_info": {
   "codemirror_mode": {
    "name": "ipython",
    "version": 3
   },
   "file_extension": ".py",
   "mimetype": "text/x-python",
   "name": "python",
   "nbconvert_exporter": "python",
   "pygments_lexer": "ipython3",
   "version": "3.8.5"
  }
 },
 "nbformat": 4,
 "nbformat_minor": 4
}
