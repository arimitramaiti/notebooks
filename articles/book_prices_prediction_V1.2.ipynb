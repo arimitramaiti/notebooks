{
 "cells": [
  {
   "cell_type": "code",
   "execution_count": 1,
   "metadata": {
    "ExecuteTime": {
     "end_time": "2020-09-28T08:28:58.215358Z",
     "start_time": "2020-09-28T08:28:56.290257Z"
    }
   },
   "outputs": [],
   "source": [
    "import numpy as np\n",
    "import pandas as pd\n",
    "import matplotlib.pyplot as plt\n",
    "import seaborn as sns\n",
    "%matplotlib inline\n",
    "import scipy.stats as stats\n",
    "import math\n",
    "import re"
   ]
  },
  {
   "cell_type": "code",
   "execution_count": 2,
   "metadata": {
    "ExecuteTime": {
     "end_time": "2020-09-28T08:28:58.349552Z",
     "start_time": "2020-09-28T08:28:58.219086Z"
    }
   },
   "outputs": [
    {
     "data": {
      "text/plain": [
       "(5237, 9)"
      ]
     },
     "execution_count": 2,
     "metadata": {},
     "output_type": "execute_result"
    }
   ],
   "source": [
    "dataset = pd.read_csv(\"E:/IIM-A Docs/Internal Activities/Train.csv\", header=0, index_col=None, nrows=10000, encoding='iso8859-1')\n",
    "dataset = dataset.iloc[0:5237, ]\n",
    "dataset.shape"
   ]
  },
  {
   "cell_type": "code",
   "execution_count": 3,
   "metadata": {
    "ExecuteTime": {
     "end_time": "2020-09-28T08:28:58.385141Z",
     "start_time": "2020-09-28T08:28:58.356140Z"
    }
   },
   "outputs": [
    {
     "name": "stdout",
     "output_type": "stream",
     "text": [
      "<class 'pandas.core.frame.DataFrame'>\n",
      "RangeIndex: 5237 entries, 0 to 5236\n",
      "Data columns (total 9 columns):\n",
      " #   Column        Non-Null Count  Dtype  \n",
      "---  ------        --------------  -----  \n",
      " 0   Title         5237 non-null   object \n",
      " 1   Author        5237 non-null   object \n",
      " 2   Edition       5237 non-null   object \n",
      " 3   Reviews       5237 non-null   object \n",
      " 4   Ratings       5237 non-null   object \n",
      " 5   Synopsis      5237 non-null   object \n",
      " 6   Genre         5237 non-null   object \n",
      " 7   BookCategory  5237 non-null   object \n",
      " 8   Price         5237 non-null   float64\n",
      "dtypes: float64(1), object(8)\n",
      "memory usage: 368.4+ KB\n"
     ]
    }
   ],
   "source": [
    "dataset.info()"
   ]
  },
  {
   "cell_type": "code",
   "execution_count": 4,
   "metadata": {
    "ExecuteTime": {
     "end_time": "2020-09-28T08:28:58.416224Z",
     "start_time": "2020-09-28T08:28:58.388243Z"
    }
   },
   "outputs": [
    {
     "data": {
      "text/html": [
       "<div>\n",
       "<style scoped>\n",
       "    .dataframe tbody tr th:only-of-type {\n",
       "        vertical-align: middle;\n",
       "    }\n",
       "\n",
       "    .dataframe tbody tr th {\n",
       "        vertical-align: top;\n",
       "    }\n",
       "\n",
       "    .dataframe thead th {\n",
       "        text-align: right;\n",
       "    }\n",
       "</style>\n",
       "<table border=\"1\" class=\"dataframe\">\n",
       "  <thead>\n",
       "    <tr style=\"text-align: right;\">\n",
       "      <th></th>\n",
       "      <th>Title</th>\n",
       "      <th>Author</th>\n",
       "      <th>Edition</th>\n",
       "      <th>Reviews</th>\n",
       "      <th>Ratings</th>\n",
       "      <th>Synopsis</th>\n",
       "      <th>Genre</th>\n",
       "      <th>BookCategory</th>\n",
       "      <th>Price</th>\n",
       "    </tr>\n",
       "  </thead>\n",
       "  <tbody>\n",
       "    <tr>\n",
       "      <th>0</th>\n",
       "      <td>The Prisoner's Gold (The Hunters 3)</td>\n",
       "      <td>Chris Kuzneski</td>\n",
       "      <td>Paperback, 10 Mar 2016</td>\n",
       "      <td>4.0 out of 5 stars</td>\n",
       "      <td>8 customer reviews</td>\n",
       "      <td>THE HUNTERS return in their third brilliant no...</td>\n",
       "      <td>Action &amp; Adventure (Books)</td>\n",
       "      <td>Action &amp; Adventure</td>\n",
       "      <td>220.00</td>\n",
       "    </tr>\n",
       "    <tr>\n",
       "      <th>1</th>\n",
       "      <td>Guru Dutt: A Tragedy in Three Acts</td>\n",
       "      <td>Arun Khopkar</td>\n",
       "      <td>Paperback, 7 Nov 2012</td>\n",
       "      <td>3.9 out of 5 stars</td>\n",
       "      <td>14 customer reviews</td>\n",
       "      <td>A layered portrait of a troubled genius for wh...</td>\n",
       "      <td>Cinema &amp; Broadcast (Books)</td>\n",
       "      <td>Biographies, Diaries &amp; True Accounts</td>\n",
       "      <td>202.93</td>\n",
       "    </tr>\n",
       "    <tr>\n",
       "      <th>2</th>\n",
       "      <td>Leviathan (Penguin Classics)</td>\n",
       "      <td>Thomas Hobbes</td>\n",
       "      <td>Paperback, 25 Feb 1982</td>\n",
       "      <td>4.8 out of 5 stars</td>\n",
       "      <td>6 customer reviews</td>\n",
       "      <td>\"During the time men live without a common Pow...</td>\n",
       "      <td>International Relations</td>\n",
       "      <td>Humour</td>\n",
       "      <td>299.00</td>\n",
       "    </tr>\n",
       "    <tr>\n",
       "      <th>3</th>\n",
       "      <td>A Pocket Full of Rye (Miss Marple)</td>\n",
       "      <td>Agatha Christie</td>\n",
       "      <td>Paperback, 5 Oct 2017</td>\n",
       "      <td>4.1 out of 5 stars</td>\n",
       "      <td>13 customer reviews</td>\n",
       "      <td>A handful of grain is found in the pocket of a...</td>\n",
       "      <td>Contemporary Fiction (Books)</td>\n",
       "      <td>Crime, Thriller &amp; Mystery</td>\n",
       "      <td>180.00</td>\n",
       "    </tr>\n",
       "    <tr>\n",
       "      <th>4</th>\n",
       "      <td>LIFE 70 Years of Extraordinary Photography</td>\n",
       "      <td>Editors of Life</td>\n",
       "      <td>Hardcover, 10 Oct 2006</td>\n",
       "      <td>5.0 out of 5 stars</td>\n",
       "      <td>1 customer review</td>\n",
       "      <td>For seven decades, \"Life\" has been thrilling t...</td>\n",
       "      <td>Photography Textbooks</td>\n",
       "      <td>Arts, Film &amp; Photography</td>\n",
       "      <td>965.62</td>\n",
       "    </tr>\n",
       "  </tbody>\n",
       "</table>\n",
       "</div>"
      ],
      "text/plain": [
       "                                        Title           Author  \\\n",
       "0         The Prisoner's Gold (The Hunters 3)   Chris Kuzneski   \n",
       "1          Guru Dutt: A Tragedy in Three Acts     Arun Khopkar   \n",
       "2                Leviathan (Penguin Classics)    Thomas Hobbes   \n",
       "3          A Pocket Full of Rye (Miss Marple)  Agatha Christie   \n",
       "4  LIFE 70 Years of Extraordinary Photography  Editors of Life   \n",
       "\n",
       "                   Edition             Reviews              Ratings  \\\n",
       "0  Paperback, 10 Mar 2016  4.0 out of 5 stars   8 customer reviews   \n",
       "1   Paperback, 7 Nov 2012  3.9 out of 5 stars  14 customer reviews   \n",
       "2  Paperback, 25 Feb 1982  4.8 out of 5 stars   6 customer reviews   \n",
       "3   Paperback, 5 Oct 2017  4.1 out of 5 stars  13 customer reviews   \n",
       "4  Hardcover, 10 Oct 2006  5.0 out of 5 stars    1 customer review   \n",
       "\n",
       "                                            Synopsis  \\\n",
       "0  THE HUNTERS return in their third brilliant no...   \n",
       "1  A layered portrait of a troubled genius for wh...   \n",
       "2  \"During the time men live without a common Pow...   \n",
       "3  A handful of grain is found in the pocket of a...   \n",
       "4  For seven decades, \"Life\" has been thrilling t...   \n",
       "\n",
       "                          Genre                          BookCategory   Price  \n",
       "0    Action & Adventure (Books)                    Action & Adventure  220.00  \n",
       "1    Cinema & Broadcast (Books)  Biographies, Diaries & True Accounts  202.93  \n",
       "2       International Relations                                Humour  299.00  \n",
       "3  Contemporary Fiction (Books)             Crime, Thriller & Mystery  180.00  \n",
       "4         Photography Textbooks              Arts, Film & Photography  965.62  "
      ]
     },
     "execution_count": 4,
     "metadata": {},
     "output_type": "execute_result"
    }
   ],
   "source": [
    "dataset.head()"
   ]
  },
  {
   "cell_type": "code",
   "execution_count": 5,
   "metadata": {
    "ExecuteTime": {
     "end_time": "2020-09-28T08:28:58.446946Z",
     "start_time": "2020-09-28T08:28:58.419707Z"
    }
   },
   "outputs": [],
   "source": [
    "dataset['Review_num'] = dataset['Reviews'].str.split(' ').str[0].astype(float)"
   ]
  },
  {
   "cell_type": "code",
   "execution_count": 6,
   "metadata": {
    "ExecuteTime": {
     "end_time": "2020-09-28T08:28:58.478435Z",
     "start_time": "2020-09-28T08:28:58.450936Z"
    }
   },
   "outputs": [],
   "source": [
    "dataset['Ratings_num'] = dataset['Ratings'].str.split(' ').str[0]\n",
    "dataset['Ratings_num'] = dataset['Ratings_num'].replace(',','')\n",
    "dataset['Ratings_num'] = dataset['Ratings_num'].apply(lambda x: str(x.replace(',','')))\n",
    "dataset['Ratings_num'] = dataset['Ratings_num'].astype(int)"
   ]
  },
  {
   "cell_type": "code",
   "execution_count": 7,
   "metadata": {
    "ExecuteTime": {
     "end_time": "2020-09-28T08:28:58.526816Z",
     "start_time": "2020-09-28T08:28:58.485108Z"
    }
   },
   "outputs": [],
   "source": [
    "dataset['Edition_Type'] = dataset['Edition'].str.split(' ').str[0]\n",
    "dataset['Edition_Type'] = dataset['Edition_Type'].str.split(',').str[0]"
   ]
  },
  {
   "cell_type": "code",
   "execution_count": 8,
   "metadata": {
    "ExecuteTime": {
     "end_time": "2020-09-28T08:28:58.542803Z",
     "start_time": "2020-09-28T08:28:58.530687Z"
    }
   },
   "outputs": [],
   "source": [
    "def split_month(month):\n",
    "    x = re.search(r\"Jan|Feb|Mar|Apr|May|Jun|Jul|Aug|Sep|Oct|Nov|Dec\", month)\n",
    "    if x:\n",
    "        return(x.group())"
   ]
  },
  {
   "cell_type": "code",
   "execution_count": 9,
   "metadata": {
    "ExecuteTime": {
     "end_time": "2020-09-28T08:28:58.585698Z",
     "start_time": "2020-09-28T08:28:58.545763Z"
    }
   },
   "outputs": [],
   "source": [
    "dataset['Edition_Month'] = dataset['Edition'].apply(split_month)"
   ]
  },
  {
   "cell_type": "code",
   "execution_count": 10,
   "metadata": {
    "ExecuteTime": {
     "end_time": "2020-09-28T08:28:58.601471Z",
     "start_time": "2020-09-28T08:28:58.588741Z"
    }
   },
   "outputs": [],
   "source": [
    "def split_year(year):\n",
    "    x = re.search('([\\d]{4})', year)\n",
    "    if x:\n",
    "        return(x.group())"
   ]
  },
  {
   "cell_type": "code",
   "execution_count": 11,
   "metadata": {
    "ExecuteTime": {
     "end_time": "2020-09-28T08:28:58.635676Z",
     "start_time": "2020-09-28T08:28:58.604475Z"
    }
   },
   "outputs": [],
   "source": [
    "dataset['Edition_Year'] = dataset['Edition'].apply(split_year)"
   ]
  },
  {
   "cell_type": "code",
   "execution_count": 12,
   "metadata": {
    "ExecuteTime": {
     "end_time": "2020-09-28T08:28:59.850244Z",
     "start_time": "2020-09-28T08:28:58.639079Z"
    }
   },
   "outputs": [],
   "source": [
    "from collections import Counter\n",
    "\n",
    "def words_unique(string):\n",
    "    counter = Counter(re.sub('[^A-Za-z0-9]+', ' ', string).split())\n",
    "    if counter:\n",
    "        return(len(counter)/len(re.sub('[^A-Za-z0-9]+', ' ', string).split()))\n",
    "\n",
    "dataset['Title_n'] = dataset['Title'].apply(words_unique)\n",
    "\n",
    "dataset['Synopsis_n'] = dataset['Synopsis'].apply(words_unique)"
   ]
  },
  {
   "cell_type": "code",
   "execution_count": 13,
   "metadata": {
    "ExecuteTime": {
     "end_time": "2020-09-28T08:28:59.887619Z",
     "start_time": "2020-09-28T08:28:59.852607Z"
    }
   },
   "outputs": [
    {
     "name": "stdout",
     "output_type": "stream",
     "text": [
      "<class 'pandas.core.frame.DataFrame'>\n",
      "RangeIndex: 5237 entries, 0 to 5236\n",
      "Data columns (total 16 columns):\n",
      " #   Column         Non-Null Count  Dtype  \n",
      "---  ------         --------------  -----  \n",
      " 0   Title          5237 non-null   object \n",
      " 1   Author         5237 non-null   object \n",
      " 2   Edition        5237 non-null   object \n",
      " 3   Reviews        5237 non-null   object \n",
      " 4   Ratings        5237 non-null   object \n",
      " 5   Synopsis       5237 non-null   object \n",
      " 6   Genre          5237 non-null   object \n",
      " 7   BookCategory   5237 non-null   object \n",
      " 8   Price          5237 non-null   float64\n",
      " 9   Review_num     5237 non-null   float64\n",
      " 10  Ratings_num    5237 non-null   int32  \n",
      " 11  Edition_Type   5237 non-null   object \n",
      " 12  Edition_Month  4927 non-null   object \n",
      " 13  Edition_Year   5217 non-null   object \n",
      " 14  Title_n        5237 non-null   float64\n",
      " 15  Synopsis_n     5236 non-null   float64\n",
      "dtypes: float64(4), int32(1), object(11)\n",
      "memory usage: 634.3+ KB\n"
     ]
    }
   ],
   "source": [
    "dataset.info()"
   ]
  },
  {
   "cell_type": "code",
   "execution_count": 14,
   "metadata": {
    "ExecuteTime": {
     "end_time": "2020-09-28T08:28:59.902957Z",
     "start_time": "2020-09-28T08:28:59.890530Z"
    }
   },
   "outputs": [],
   "source": [
    "df_selectcols = dataset[['Price', 'Review_num', 'Ratings_num', 'Edition_Type',\n",
    "                        'Genre', 'Edition_Month', 'Edition_Year',\n",
    "                        'Author', 'Title_n', 'Synopsis_n']]"
   ]
  },
  {
   "cell_type": "code",
   "execution_count": 15,
   "metadata": {
    "ExecuteTime": {
     "end_time": "2020-09-28T08:29:00.620450Z",
     "start_time": "2020-09-28T08:28:59.906945Z"
    }
   },
   "outputs": [],
   "source": [
    "from sklearn.model_selection import train_test_split"
   ]
  },
  {
   "cell_type": "code",
   "execution_count": 16,
   "metadata": {
    "ExecuteTime": {
     "end_time": "2020-09-28T08:29:00.653344Z",
     "start_time": "2020-09-28T08:29:00.623684Z"
    }
   },
   "outputs": [
    {
     "data": {
      "text/plain": [
       "((3665, 9), (1572, 9), (3665, 1), (1572, 1))"
      ]
     },
     "execution_count": 16,
     "metadata": {},
     "output_type": "execute_result"
    }
   ],
   "source": [
    "y = df_selectcols.loc[:, [\"Price\"]]\n",
    "\n",
    "X = df_selectcols.loc[:, [\"Review_num\", \"Ratings_num\", \"Edition_Type\", \"Genre\",\n",
    "                   \"Edition_Month\",\"Edition_Year\", \"Author\",\n",
    "                   \"Title_n\", \"Synopsis_n\"]]\n",
    "\n",
    "##Push 20% to test data\n",
    "X_train, X_test, y_train, y_test = train_test_split(X, y, test_size = 0.30, random_state = 0)\n",
    "\n",
    "X_train.shape, X_test.shape, y_train.shape, y_test.shape"
   ]
  },
  {
   "cell_type": "code",
   "execution_count": 17,
   "metadata": {
    "ExecuteTime": {
     "end_time": "2020-09-28T08:29:00.695067Z",
     "start_time": "2020-09-28T08:29:00.657506Z"
    }
   },
   "outputs": [],
   "source": [
    "from feature_engine import missing_data_imputers as mdi"
   ]
  },
  {
   "cell_type": "code",
   "execution_count": 18,
   "metadata": {
    "ExecuteTime": {
     "end_time": "2020-09-28T08:29:00.769079Z",
     "start_time": "2020-09-28T08:29:00.698423Z"
    }
   },
   "outputs": [],
   "source": [
    "imputer = mdi.RandomSampleImputer(random_state = 0)"
   ]
  },
  {
   "cell_type": "code",
   "execution_count": 19,
   "metadata": {
    "ExecuteTime": {
     "end_time": "2020-09-28T08:29:00.784660Z",
     "start_time": "2020-09-28T08:29:00.772052Z"
    }
   },
   "outputs": [
    {
     "data": {
      "text/plain": [
       "RandomSampleImputer(random_state=0,\n",
       "                    variables=['Review_num', 'Ratings_num', 'Edition_Type',\n",
       "                               'Genre', 'Edition_Month', 'Edition_Year',\n",
       "                               'Author', 'Title_n', 'Synopsis_n'])"
      ]
     },
     "execution_count": 19,
     "metadata": {},
     "output_type": "execute_result"
    }
   ],
   "source": [
    "imputer.fit(X_train)"
   ]
  },
  {
   "cell_type": "code",
   "execution_count": 20,
   "metadata": {
    "ExecuteTime": {
     "end_time": "2020-09-28T08:29:00.831387Z",
     "start_time": "2020-09-28T08:29:00.786884Z"
    }
   },
   "outputs": [
    {
     "data": {
      "text/html": [
       "<div>\n",
       "<style scoped>\n",
       "    .dataframe tbody tr th:only-of-type {\n",
       "        vertical-align: middle;\n",
       "    }\n",
       "\n",
       "    .dataframe tbody tr th {\n",
       "        vertical-align: top;\n",
       "    }\n",
       "\n",
       "    .dataframe thead th {\n",
       "        text-align: right;\n",
       "    }\n",
       "</style>\n",
       "<table border=\"1\" class=\"dataframe\">\n",
       "  <thead>\n",
       "    <tr style=\"text-align: right;\">\n",
       "      <th></th>\n",
       "      <th>Review_num</th>\n",
       "      <th>Ratings_num</th>\n",
       "      <th>Edition_Type</th>\n",
       "      <th>Genre</th>\n",
       "      <th>Edition_Month</th>\n",
       "      <th>Edition_Year</th>\n",
       "      <th>Author</th>\n",
       "      <th>Title_n</th>\n",
       "      <th>Synopsis_n</th>\n",
       "    </tr>\n",
       "  </thead>\n",
       "  <tbody>\n",
       "    <tr>\n",
       "      <th>3457</th>\n",
       "      <td>4.9</td>\n",
       "      <td>26</td>\n",
       "      <td>Hardcover</td>\n",
       "      <td>Action &amp; Adventure (Books)</td>\n",
       "      <td>May</td>\n",
       "      <td>2018</td>\n",
       "      <td>Shivang Mehta</td>\n",
       "      <td>1.000000</td>\n",
       "      <td>0.584906</td>\n",
       "    </tr>\n",
       "    <tr>\n",
       "      <th>2587</th>\n",
       "      <td>4.7</td>\n",
       "      <td>53</td>\n",
       "      <td>Paperback</td>\n",
       "      <td>Introductory &amp; Beginning Programming</td>\n",
       "      <td>Feb</td>\n",
       "      <td>2019</td>\n",
       "      <td>Jeeva Jose</td>\n",
       "      <td>1.000000</td>\n",
       "      <td>0.708333</td>\n",
       "    </tr>\n",
       "    <tr>\n",
       "      <th>4622</th>\n",
       "      <td>4.0</td>\n",
       "      <td>44</td>\n",
       "      <td>Paperback</td>\n",
       "      <td>Biographies &amp; Autobiographies (Books)</td>\n",
       "      <td>Feb</td>\n",
       "      <td>2003</td>\n",
       "      <td>Charles Chaplin</td>\n",
       "      <td>0.714286</td>\n",
       "      <td>0.584821</td>\n",
       "    </tr>\n",
       "    <tr>\n",
       "      <th>2943</th>\n",
       "      <td>3.6</td>\n",
       "      <td>4</td>\n",
       "      <td>Paperback</td>\n",
       "      <td>Romance (Books)</td>\n",
       "      <td>Feb</td>\n",
       "      <td>2017</td>\n",
       "      <td>Danielle Steel</td>\n",
       "      <td>1.000000</td>\n",
       "      <td>0.730769</td>\n",
       "    </tr>\n",
       "    <tr>\n",
       "      <th>3985</th>\n",
       "      <td>4.0</td>\n",
       "      <td>158</td>\n",
       "      <td>Paperback</td>\n",
       "      <td>Contemporary Fiction (Books)</td>\n",
       "      <td>Jan</td>\n",
       "      <td>2018</td>\n",
       "      <td>A. J. Finn</td>\n",
       "      <td>1.000000</td>\n",
       "      <td>0.738255</td>\n",
       "    </tr>\n",
       "  </tbody>\n",
       "</table>\n",
       "</div>"
      ],
      "text/plain": [
       "      Review_num  Ratings_num Edition_Type  \\\n",
       "3457         4.9           26    Hardcover   \n",
       "2587         4.7           53    Paperback   \n",
       "4622         4.0           44    Paperback   \n",
       "2943         3.6            4    Paperback   \n",
       "3985         4.0          158    Paperback   \n",
       "\n",
       "                                      Genre Edition_Month Edition_Year  \\\n",
       "3457             Action & Adventure (Books)           May         2018   \n",
       "2587   Introductory & Beginning Programming           Feb         2019   \n",
       "4622  Biographies & Autobiographies (Books)           Feb         2003   \n",
       "2943                        Romance (Books)           Feb         2017   \n",
       "3985           Contemporary Fiction (Books)           Jan         2018   \n",
       "\n",
       "               Author   Title_n  Synopsis_n  \n",
       "3457    Shivang Mehta  1.000000    0.584906  \n",
       "2587       Jeeva Jose  1.000000    0.708333  \n",
       "4622  Charles Chaplin  0.714286    0.584821  \n",
       "2943   Danielle Steel  1.000000    0.730769  \n",
       "3985       A. J. Finn  1.000000    0.738255  "
      ]
     },
     "execution_count": 20,
     "metadata": {},
     "output_type": "execute_result"
    }
   ],
   "source": [
    "tmp_mdi_train = imputer.transform(X_train)\n",
    "tmp_mdi_train.head()"
   ]
  },
  {
   "cell_type": "code",
   "execution_count": 21,
   "metadata": {
    "ExecuteTime": {
     "end_time": "2020-09-28T08:29:00.862067Z",
     "start_time": "2020-09-28T08:29:00.833329Z"
    }
   },
   "outputs": [
    {
     "name": "stdout",
     "output_type": "stream",
     "text": [
      "<class 'pandas.core.frame.DataFrame'>\n",
      "Int64Index: 3665 entries, 3457 to 2732\n",
      "Data columns (total 9 columns):\n",
      " #   Column         Non-Null Count  Dtype  \n",
      "---  ------         --------------  -----  \n",
      " 0   Review_num     3665 non-null   float64\n",
      " 1   Ratings_num    3665 non-null   int32  \n",
      " 2   Edition_Type   3665 non-null   object \n",
      " 3   Genre          3665 non-null   object \n",
      " 4   Edition_Month  3665 non-null   object \n",
      " 5   Edition_Year   3665 non-null   object \n",
      " 6   Author         3665 non-null   object \n",
      " 7   Title_n        3665 non-null   float64\n",
      " 8   Synopsis_n     3665 non-null   float64\n",
      "dtypes: float64(3), int32(1), object(5)\n",
      "memory usage: 272.0+ KB\n"
     ]
    }
   ],
   "source": [
    "tmp_mdi_train.info()"
   ]
  },
  {
   "cell_type": "code",
   "execution_count": 22,
   "metadata": {
    "ExecuteTime": {
     "end_time": "2020-09-28T08:29:00.911996Z",
     "start_time": "2020-09-28T08:29:00.867695Z"
    },
    "scrolled": true
   },
   "outputs": [
    {
     "data": {
      "text/html": [
       "<div>\n",
       "<style scoped>\n",
       "    .dataframe tbody tr th:only-of-type {\n",
       "        vertical-align: middle;\n",
       "    }\n",
       "\n",
       "    .dataframe tbody tr th {\n",
       "        vertical-align: top;\n",
       "    }\n",
       "\n",
       "    .dataframe thead th {\n",
       "        text-align: right;\n",
       "    }\n",
       "</style>\n",
       "<table border=\"1\" class=\"dataframe\">\n",
       "  <thead>\n",
       "    <tr style=\"text-align: right;\">\n",
       "      <th></th>\n",
       "      <th>Review_num</th>\n",
       "      <th>Ratings_num</th>\n",
       "      <th>Edition_Type</th>\n",
       "      <th>Genre</th>\n",
       "      <th>Edition_Month</th>\n",
       "      <th>Edition_Year</th>\n",
       "      <th>Author</th>\n",
       "      <th>Title_n</th>\n",
       "      <th>Synopsis_n</th>\n",
       "    </tr>\n",
       "  </thead>\n",
       "  <tbody>\n",
       "    <tr>\n",
       "      <th>2036</th>\n",
       "      <td>4.8</td>\n",
       "      <td>19</td>\n",
       "      <td>Paperback</td>\n",
       "      <td>Action &amp; Adventure (Books)</td>\n",
       "      <td>Nov</td>\n",
       "      <td>2014</td>\n",
       "      <td>Oliver Bowden</td>\n",
       "      <td>1.0</td>\n",
       "      <td>0.681250</td>\n",
       "    </tr>\n",
       "    <tr>\n",
       "      <th>1830</th>\n",
       "      <td>3.0</td>\n",
       "      <td>6</td>\n",
       "      <td>Paperback</td>\n",
       "      <td>Government (Books)</td>\n",
       "      <td>Aug</td>\n",
       "      <td>2014</td>\n",
       "      <td>Sunil Khilnani, Rajiv Kumar, Pratap Bhanu Mehta</td>\n",
       "      <td>1.0</td>\n",
       "      <td>0.765625</td>\n",
       "    </tr>\n",
       "    <tr>\n",
       "      <th>2060</th>\n",
       "      <td>3.9</td>\n",
       "      <td>4</td>\n",
       "      <td>Paperback</td>\n",
       "      <td>Geometry</td>\n",
       "      <td>Sep</td>\n",
       "      <td>2009</td>\n",
       "      <td>Nigel Lesmoir-Gordon</td>\n",
       "      <td>1.0</td>\n",
       "      <td>0.714286</td>\n",
       "    </tr>\n",
       "    <tr>\n",
       "      <th>1984</th>\n",
       "      <td>4.2</td>\n",
       "      <td>41</td>\n",
       "      <td>Paperback</td>\n",
       "      <td>Contemporary Fiction (Books)</td>\n",
       "      <td>May</td>\n",
       "      <td>2015</td>\n",
       "      <td>Liane Moriarty</td>\n",
       "      <td>1.0</td>\n",
       "      <td>0.734082</td>\n",
       "    </tr>\n",
       "    <tr>\n",
       "      <th>1491</th>\n",
       "      <td>4.3</td>\n",
       "      <td>66</td>\n",
       "      <td>Paperback</td>\n",
       "      <td>Romance (Books)</td>\n",
       "      <td>Oct</td>\n",
       "      <td>1997</td>\n",
       "      <td>Sidney Sheldon</td>\n",
       "      <td>1.0</td>\n",
       "      <td>0.732984</td>\n",
       "    </tr>\n",
       "  </tbody>\n",
       "</table>\n",
       "</div>"
      ],
      "text/plain": [
       "      Review_num  Ratings_num Edition_Type                         Genre  \\\n",
       "2036         4.8           19    Paperback    Action & Adventure (Books)   \n",
       "1830         3.0            6    Paperback            Government (Books)   \n",
       "2060         3.9            4    Paperback                      Geometry   \n",
       "1984         4.2           41    Paperback  Contemporary Fiction (Books)   \n",
       "1491         4.3           66    Paperback               Romance (Books)   \n",
       "\n",
       "     Edition_Month Edition_Year  \\\n",
       "2036           Nov         2014   \n",
       "1830           Aug         2014   \n",
       "2060           Sep         2009   \n",
       "1984           May         2015   \n",
       "1491           Oct         1997   \n",
       "\n",
       "                                               Author  Title_n  Synopsis_n  \n",
       "2036                                    Oliver Bowden      1.0    0.681250  \n",
       "1830  Sunil Khilnani, Rajiv Kumar, Pratap Bhanu Mehta      1.0    0.765625  \n",
       "2060                             Nigel Lesmoir-Gordon      1.0    0.714286  \n",
       "1984                                   Liane Moriarty      1.0    0.734082  \n",
       "1491                                   Sidney Sheldon      1.0    0.732984  "
      ]
     },
     "execution_count": 22,
     "metadata": {},
     "output_type": "execute_result"
    }
   ],
   "source": [
    "tmp_mdi_test = imputer.transform(X_test)\n",
    "tmp_mdi_test.head()"
   ]
  },
  {
   "cell_type": "code",
   "execution_count": 23,
   "metadata": {
    "ExecuteTime": {
     "end_time": "2020-09-28T08:29:00.942836Z",
     "start_time": "2020-09-28T08:29:00.918160Z"
    }
   },
   "outputs": [
    {
     "name": "stdout",
     "output_type": "stream",
     "text": [
      "<class 'pandas.core.frame.DataFrame'>\n",
      "Int64Index: 1572 entries, 2036 to 5126\n",
      "Data columns (total 9 columns):\n",
      " #   Column         Non-Null Count  Dtype  \n",
      "---  ------         --------------  -----  \n",
      " 0   Review_num     1572 non-null   float64\n",
      " 1   Ratings_num    1572 non-null   int32  \n",
      " 2   Edition_Type   1572 non-null   object \n",
      " 3   Genre          1572 non-null   object \n",
      " 4   Edition_Month  1572 non-null   object \n",
      " 5   Edition_Year   1572 non-null   object \n",
      " 6   Author         1572 non-null   object \n",
      " 7   Title_n        1572 non-null   float64\n",
      " 8   Synopsis_n     1572 non-null   float64\n",
      "dtypes: float64(3), int32(1), object(5)\n",
      "memory usage: 116.7+ KB\n"
     ]
    }
   ],
   "source": [
    "tmp_mdi_test.info()"
   ]
  },
  {
   "cell_type": "code",
   "execution_count": 24,
   "metadata": {
    "ExecuteTime": {
     "end_time": "2020-09-28T08:29:01.091327Z",
     "start_time": "2020-09-28T08:29:00.948086Z"
    }
   },
   "outputs": [],
   "source": [
    "from feature_engine.discretisers import EqualFrequencyDiscretiser"
   ]
  },
  {
   "cell_type": "code",
   "execution_count": 25,
   "metadata": {
    "ExecuteTime": {
     "end_time": "2020-09-28T08:29:01.109045Z",
     "start_time": "2020-09-28T08:29:01.095291Z"
    }
   },
   "outputs": [],
   "source": [
    "eqfdisctr1 = EqualFrequencyDiscretiser(q=20, variables = ['Ratings_num'],\n",
    "                                     return_object=True)"
   ]
  },
  {
   "cell_type": "code",
   "execution_count": 26,
   "metadata": {
    "ExecuteTime": {
     "end_time": "2020-09-28T08:29:01.123061Z",
     "start_time": "2020-09-28T08:29:01.112213Z"
    }
   },
   "outputs": [],
   "source": [
    "eqfdisctr2 = EqualFrequencyDiscretiser(q=10, variables = ['Review_num', 'Title_n', 'Synopsis_n'],\n",
    "                                     return_object=True)"
   ]
  },
  {
   "cell_type": "code",
   "execution_count": 27,
   "metadata": {
    "ExecuteTime": {
     "end_time": "2020-09-28T08:29:01.163754Z",
     "start_time": "2020-09-28T08:29:01.126963Z"
    }
   },
   "outputs": [
    {
     "data": {
      "text/plain": [
       "EqualFrequencyDiscretiser(q=20, return_object=True, variables=['Ratings_num'])"
      ]
     },
     "execution_count": 27,
     "metadata": {},
     "output_type": "execute_result"
    }
   ],
   "source": [
    "eqfdisctr1.fit(tmp_mdi_train)"
   ]
  },
  {
   "cell_type": "code",
   "execution_count": 28,
   "metadata": {
    "ExecuteTime": {
     "end_time": "2020-09-28T08:29:01.194561Z",
     "start_time": "2020-09-28T08:29:01.166941Z"
    }
   },
   "outputs": [
    {
     "data": {
      "text/plain": [
       "EqualFrequencyDiscretiser(return_object=True,\n",
       "                          variables=['Review_num', 'Title_n', 'Synopsis_n'])"
      ]
     },
     "execution_count": 28,
     "metadata": {},
     "output_type": "execute_result"
    }
   ],
   "source": [
    "eqfdisctr2.fit(tmp_mdi_train)"
   ]
  },
  {
   "cell_type": "code",
   "execution_count": 29,
   "metadata": {
    "ExecuteTime": {
     "end_time": "2020-09-28T08:29:01.218757Z",
     "start_time": "2020-09-28T08:29:01.198939Z"
    }
   },
   "outputs": [],
   "source": [
    "eqfdisctr_train = eqfdisctr1.transform(tmp_mdi_train)"
   ]
  },
  {
   "cell_type": "code",
   "execution_count": 30,
   "metadata": {
    "ExecuteTime": {
     "end_time": "2020-09-28T08:29:01.234168Z",
     "start_time": "2020-09-28T08:29:01.222743Z"
    }
   },
   "outputs": [
    {
     "data": {
      "text/plain": [
       "Review_num       float64\n",
       "Ratings_num       object\n",
       "Edition_Type      object\n",
       "Genre             object\n",
       "Edition_Month     object\n",
       "Edition_Year      object\n",
       "Author            object\n",
       "Title_n          float64\n",
       "Synopsis_n       float64\n",
       "dtype: object"
      ]
     },
     "execution_count": 30,
     "metadata": {},
     "output_type": "execute_result"
    }
   ],
   "source": [
    "eqfdisctr_train.dtypes"
   ]
  },
  {
   "cell_type": "code",
   "execution_count": 31,
   "metadata": {
    "ExecuteTime": {
     "end_time": "2020-09-28T08:29:01.278440Z",
     "start_time": "2020-09-28T08:29:01.238387Z"
    }
   },
   "outputs": [],
   "source": [
    "eqfdisctr_train1 = eqfdisctr2.transform(eqfdisctr_train)"
   ]
  },
  {
   "cell_type": "code",
   "execution_count": 32,
   "metadata": {
    "ExecuteTime": {
     "end_time": "2020-09-28T08:29:01.294526Z",
     "start_time": "2020-09-28T08:29:01.281916Z"
    }
   },
   "outputs": [
    {
     "data": {
      "text/plain": [
       "Review_num       object\n",
       "Ratings_num      object\n",
       "Edition_Type     object\n",
       "Genre            object\n",
       "Edition_Month    object\n",
       "Edition_Year     object\n",
       "Author           object\n",
       "Title_n          object\n",
       "Synopsis_n       object\n",
       "dtype: object"
      ]
     },
     "execution_count": 32,
     "metadata": {},
     "output_type": "execute_result"
    }
   ],
   "source": [
    "eqfdisctr_train1.dtypes"
   ]
  },
  {
   "cell_type": "code",
   "execution_count": 33,
   "metadata": {
    "ExecuteTime": {
     "end_time": "2020-09-28T08:29:01.310646Z",
     "start_time": "2020-09-28T08:29:01.298034Z"
    }
   },
   "outputs": [],
   "source": [
    "eqfdisctr_test = eqfdisctr1.transform(tmp_mdi_test)"
   ]
  },
  {
   "cell_type": "code",
   "execution_count": 34,
   "metadata": {
    "ExecuteTime": {
     "end_time": "2020-09-28T08:29:01.355753Z",
     "start_time": "2020-09-28T08:29:01.313381Z"
    }
   },
   "outputs": [
    {
     "name": "stdout",
     "output_type": "stream",
     "text": [
      "<class 'pandas.core.frame.DataFrame'>\n",
      "Int64Index: 1572 entries, 2036 to 5126\n",
      "Data columns (total 9 columns):\n",
      " #   Column         Non-Null Count  Dtype  \n",
      "---  ------         --------------  -----  \n",
      " 0   Review_num     1572 non-null   float64\n",
      " 1   Ratings_num    1572 non-null   object \n",
      " 2   Edition_Type   1572 non-null   object \n",
      " 3   Genre          1572 non-null   object \n",
      " 4   Edition_Month  1572 non-null   object \n",
      " 5   Edition_Year   1572 non-null   object \n",
      " 6   Author         1572 non-null   object \n",
      " 7   Title_n        1572 non-null   float64\n",
      " 8   Synopsis_n     1572 non-null   float64\n",
      "dtypes: float64(3), object(6)\n",
      "memory usage: 122.8+ KB\n"
     ]
    }
   ],
   "source": [
    "eqfdisctr_test.info()"
   ]
  },
  {
   "cell_type": "code",
   "execution_count": 35,
   "metadata": {
    "ExecuteTime": {
     "end_time": "2020-09-28T08:29:01.389176Z",
     "start_time": "2020-09-28T08:29:01.358527Z"
    }
   },
   "outputs": [],
   "source": [
    "eqfdisctr_test1 = eqfdisctr2.transform(eqfdisctr_test)"
   ]
  },
  {
   "cell_type": "code",
   "execution_count": 36,
   "metadata": {
    "ExecuteTime": {
     "end_time": "2020-09-28T08:29:01.405241Z",
     "start_time": "2020-09-28T08:29:01.391168Z"
    }
   },
   "outputs": [
    {
     "name": "stdout",
     "output_type": "stream",
     "text": [
      "<class 'pandas.core.frame.DataFrame'>\n",
      "Int64Index: 1572 entries, 2036 to 5126\n",
      "Data columns (total 9 columns):\n",
      " #   Column         Non-Null Count  Dtype \n",
      "---  ------         --------------  ----- \n",
      " 0   Review_num     1572 non-null   object\n",
      " 1   Ratings_num    1572 non-null   object\n",
      " 2   Edition_Type   1572 non-null   object\n",
      " 3   Genre          1572 non-null   object\n",
      " 4   Edition_Month  1572 non-null   object\n",
      " 5   Edition_Year   1572 non-null   object\n",
      " 6   Author         1572 non-null   object\n",
      " 7   Title_n        1572 non-null   object\n",
      " 8   Synopsis_n     1572 non-null   object\n",
      "dtypes: object(9)\n",
      "memory usage: 122.8+ KB\n"
     ]
    }
   ],
   "source": [
    "eqfdisctr_test1.info()"
   ]
  },
  {
   "cell_type": "code",
   "execution_count": 37,
   "metadata": {
    "ExecuteTime": {
     "end_time": "2020-09-28T08:29:01.420413Z",
     "start_time": "2020-09-28T08:29:01.408234Z"
    }
   },
   "outputs": [],
   "source": [
    "from feature_engine.categorical_encoders import RareLabelCategoricalEncoder"
   ]
  },
  {
   "cell_type": "code",
   "execution_count": 38,
   "metadata": {
    "ExecuteTime": {
     "end_time": "2020-09-28T08:29:01.436264Z",
     "start_time": "2020-09-28T08:29:01.423266Z"
    }
   },
   "outputs": [],
   "source": [
    "rare_label_encoder = RareLabelCategoricalEncoder(\n",
    "    tol=0.01,\n",
    "    n_categories=4,\n",
    "    variables=['Edition_Type', 'Genre', 'Edition_Year', 'Author']\n",
    ")"
   ]
  },
  {
   "cell_type": "code",
   "execution_count": 39,
   "metadata": {
    "ExecuteTime": {
     "end_time": "2020-09-28T08:29:01.467743Z",
     "start_time": "2020-09-28T08:29:01.439152Z"
    }
   },
   "outputs": [
    {
     "data": {
      "text/plain": [
       "RareLabelCategoricalEncoder(n_categories=4, tol=0.01,\n",
       "                            variables=['Edition_Type', 'Genre', 'Edition_Year',\n",
       "                                       'Author'])"
      ]
     },
     "execution_count": 39,
     "metadata": {},
     "output_type": "execute_result"
    }
   ],
   "source": [
    "rare_label_encoder.fit(eqfdisctr_train1)"
   ]
  },
  {
   "cell_type": "code",
   "execution_count": 40,
   "metadata": {
    "ExecuteTime": {
     "end_time": "2020-09-28T08:29:01.495152Z",
     "start_time": "2020-09-28T08:29:01.470701Z"
    }
   },
   "outputs": [],
   "source": [
    "rare_train = rare_label_encoder.transform(eqfdisctr_train1)\n",
    "rare_test = rare_label_encoder.transform(eqfdisctr_test1)"
   ]
  },
  {
   "cell_type": "code",
   "execution_count": 41,
   "metadata": {
    "ExecuteTime": {
     "end_time": "2020-09-28T08:29:01.526377Z",
     "start_time": "2020-09-28T08:29:01.498145Z"
    }
   },
   "outputs": [
    {
     "data": {
      "text/html": [
       "<div>\n",
       "<style scoped>\n",
       "    .dataframe tbody tr th:only-of-type {\n",
       "        vertical-align: middle;\n",
       "    }\n",
       "\n",
       "    .dataframe tbody tr th {\n",
       "        vertical-align: top;\n",
       "    }\n",
       "\n",
       "    .dataframe thead th {\n",
       "        text-align: right;\n",
       "    }\n",
       "</style>\n",
       "<table border=\"1\" class=\"dataframe\">\n",
       "  <thead>\n",
       "    <tr style=\"text-align: right;\">\n",
       "      <th></th>\n",
       "      <th>Review_num</th>\n",
       "      <th>Ratings_num</th>\n",
       "      <th>Edition_Type</th>\n",
       "      <th>Genre</th>\n",
       "      <th>Edition_Month</th>\n",
       "      <th>Edition_Year</th>\n",
       "      <th>Author</th>\n",
       "      <th>Title_n</th>\n",
       "      <th>Synopsis_n</th>\n",
       "    </tr>\n",
       "  </thead>\n",
       "  <tbody>\n",
       "    <tr>\n",
       "      <th>3457</th>\n",
       "      <td>7</td>\n",
       "      <td>10</td>\n",
       "      <td>Hardcover</td>\n",
       "      <td>Action &amp; Adventure (Books)</td>\n",
       "      <td>May</td>\n",
       "      <td>2018</td>\n",
       "      <td>Rare</td>\n",
       "      <td>2</td>\n",
       "      <td>0</td>\n",
       "    </tr>\n",
       "    <tr>\n",
       "      <th>2587</th>\n",
       "      <td>6</td>\n",
       "      <td>12</td>\n",
       "      <td>Paperback</td>\n",
       "      <td>Rare</td>\n",
       "      <td>Feb</td>\n",
       "      <td>2019</td>\n",
       "      <td>Rare</td>\n",
       "      <td>2</td>\n",
       "      <td>5</td>\n",
       "    </tr>\n",
       "    <tr>\n",
       "      <th>4622</th>\n",
       "      <td>2</td>\n",
       "      <td>12</td>\n",
       "      <td>Paperback</td>\n",
       "      <td>Biographies &amp; Autobiographies (Books)</td>\n",
       "      <td>Feb</td>\n",
       "      <td>2003</td>\n",
       "      <td>Rare</td>\n",
       "      <td>0</td>\n",
       "      <td>0</td>\n",
       "    </tr>\n",
       "    <tr>\n",
       "      <th>2943</th>\n",
       "      <td>1</td>\n",
       "      <td>2</td>\n",
       "      <td>Paperback</td>\n",
       "      <td>Romance (Books)</td>\n",
       "      <td>Feb</td>\n",
       "      <td>2017</td>\n",
       "      <td>Rare</td>\n",
       "      <td>2</td>\n",
       "      <td>6</td>\n",
       "    </tr>\n",
       "    <tr>\n",
       "      <th>3985</th>\n",
       "      <td>2</td>\n",
       "      <td>14</td>\n",
       "      <td>Paperback</td>\n",
       "      <td>Contemporary Fiction (Books)</td>\n",
       "      <td>Jan</td>\n",
       "      <td>2018</td>\n",
       "      <td>Rare</td>\n",
       "      <td>2</td>\n",
       "      <td>6</td>\n",
       "    </tr>\n",
       "  </tbody>\n",
       "</table>\n",
       "</div>"
      ],
      "text/plain": [
       "     Review_num Ratings_num Edition_Type  \\\n",
       "3457          7          10    Hardcover   \n",
       "2587          6          12    Paperback   \n",
       "4622          2          12    Paperback   \n",
       "2943          1           2    Paperback   \n",
       "3985          2          14    Paperback   \n",
       "\n",
       "                                      Genre Edition_Month Edition_Year Author  \\\n",
       "3457             Action & Adventure (Books)           May         2018   Rare   \n",
       "2587                                   Rare           Feb         2019   Rare   \n",
       "4622  Biographies & Autobiographies (Books)           Feb         2003   Rare   \n",
       "2943                        Romance (Books)           Feb         2017   Rare   \n",
       "3985           Contemporary Fiction (Books)           Jan         2018   Rare   \n",
       "\n",
       "     Title_n Synopsis_n  \n",
       "3457       2          0  \n",
       "2587       2          5  \n",
       "4622       0          0  \n",
       "2943       2          6  \n",
       "3985       2          6  "
      ]
     },
     "execution_count": 41,
     "metadata": {},
     "output_type": "execute_result"
    }
   ],
   "source": [
    "rare_train.head()"
   ]
  },
  {
   "cell_type": "code",
   "execution_count": 42,
   "metadata": {
    "ExecuteTime": {
     "end_time": "2020-09-28T08:29:01.541879Z",
     "start_time": "2020-09-28T08:29:01.530329Z"
    }
   },
   "outputs": [],
   "source": [
    "from feature_engine.categorical_encoders import OrdinalCategoricalEncoder"
   ]
  },
  {
   "cell_type": "code",
   "execution_count": 43,
   "metadata": {
    "ExecuteTime": {
     "end_time": "2020-09-28T08:29:01.557805Z",
     "start_time": "2020-09-28T08:29:01.544911Z"
    }
   },
   "outputs": [],
   "source": [
    "ordered_label_encoder = OrdinalCategoricalEncoder(\n",
    "    encoding_method='ordered',\n",
    "    variables=['Review_num', 'Ratings_num', 'Edition_Type', 'Genre', 'Edition_Month', 'Edition_Year', 'Author',\n",
    "              'Title_n', 'Synopsis_n'])"
   ]
  },
  {
   "cell_type": "code",
   "execution_count": 44,
   "metadata": {
    "ExecuteTime": {
     "end_time": "2020-09-28T08:29:01.573891Z",
     "start_time": "2020-09-28T08:29:01.560819Z"
    }
   },
   "outputs": [],
   "source": [
    "y_train_log = y_train.copy()\n",
    "y_train_log['log_price'] = np.log(y_train_log['Price'])\n",
    "y_train_log.drop(['Price'], inplace=True, axis=1)"
   ]
  },
  {
   "cell_type": "code",
   "execution_count": 45,
   "metadata": {
    "ExecuteTime": {
     "end_time": "2020-09-28T08:29:01.589343Z",
     "start_time": "2020-09-28T08:29:01.576809Z"
    }
   },
   "outputs": [],
   "source": [
    "y_test_log = y_test.copy()\n",
    "y_test_log['log_price'] = np.log(y_test_log['Price'])\n",
    "y_test_log.drop(['Price'], inplace=True, axis=1)"
   ]
  },
  {
   "cell_type": "code",
   "execution_count": 46,
   "metadata": {
    "ExecuteTime": {
     "end_time": "2020-09-28T08:29:01.620105Z",
     "start_time": "2020-09-28T08:29:01.591313Z"
    }
   },
   "outputs": [
    {
     "name": "stdout",
     "output_type": "stream",
     "text": [
      "<class 'pandas.core.frame.DataFrame'>\n",
      "Int64Index: 3665 entries, 3457 to 2732\n",
      "Data columns (total 9 columns):\n",
      " #   Column         Non-Null Count  Dtype \n",
      "---  ------         --------------  ----- \n",
      " 0   Review_num     3665 non-null   object\n",
      " 1   Ratings_num    3665 non-null   object\n",
      " 2   Edition_Type   3665 non-null   object\n",
      " 3   Genre          3665 non-null   object\n",
      " 4   Edition_Month  3665 non-null   object\n",
      " 5   Edition_Year   3665 non-null   object\n",
      " 6   Author         3665 non-null   object\n",
      " 7   Title_n        3665 non-null   object\n",
      " 8   Synopsis_n     3665 non-null   object\n",
      "dtypes: object(9)\n",
      "memory usage: 286.3+ KB\n"
     ]
    }
   ],
   "source": [
    "rare_train.info()"
   ]
  },
  {
   "cell_type": "code",
   "execution_count": 47,
   "metadata": {
    "ExecuteTime": {
     "end_time": "2020-09-28T08:29:01.662097Z",
     "start_time": "2020-09-28T08:29:01.622568Z"
    }
   },
   "outputs": [
    {
     "data": {
      "text/plain": [
       "OrdinalCategoricalEncoder(variables=['Review_num', 'Ratings_num',\n",
       "                                     'Edition_Type', 'Genre', 'Edition_Month',\n",
       "                                     'Edition_Year', 'Author', 'Title_n',\n",
       "                                     'Synopsis_n'])"
      ]
     },
     "execution_count": 47,
     "metadata": {},
     "output_type": "execute_result"
    }
   ],
   "source": [
    "ordered_label_encoder.fit(rare_train, y_train)"
   ]
  },
  {
   "cell_type": "code",
   "execution_count": 48,
   "metadata": {
    "ExecuteTime": {
     "end_time": "2020-09-28T08:29:01.692607Z",
     "start_time": "2020-09-28T08:29:01.664250Z"
    }
   },
   "outputs": [
    {
     "data": {
      "text/plain": [
       "{'Review_num': {3: 0, 4: 1, 1: 2, 0: 3, 5: 4, 6: 5, 2: 6, 7: 7},\n",
       " 'Ratings_num': {14: 0,\n",
       "  12: 1,\n",
       "  11: 2,\n",
       "  13: 3,\n",
       "  10: 4,\n",
       "  9: 5,\n",
       "  8: 6,\n",
       "  5: 7,\n",
       "  4: 8,\n",
       "  7: 9,\n",
       "  6: 10,\n",
       "  1: 11,\n",
       "  3: 12,\n",
       "  2: 13,\n",
       "  0: 14},\n",
       " 'Edition_Type': {'Mass': 0, 'Paperback': 1, 'Rare': 2, 'Hardcover': 3},\n",
       " 'Genre': {'Indian Writing (Books)': 0,\n",
       "  'True Accounts (Books)': 1,\n",
       "  'Crime, Thriller & Mystery (Books)': 2,\n",
       "  'Romance (Books)': 3,\n",
       "  'Language Learning & Teaching (Books)': 4,\n",
       "  'Contemporary Fiction (Books)': 5,\n",
       "  'Action & Adventure (Books)': 6,\n",
       "  'Linguistics (Books)': 7,\n",
       "  'Comics & Graphic Novels (Books)': 8,\n",
       "  'Biographies & Autobiographies (Books)': 9,\n",
       "  'Dictionaries': 10,\n",
       "  'Comics & Mangas (Books)': 11,\n",
       "  'Handicrafts, Decorative Arts & Crafts (Books)': 12,\n",
       "  'Government (Books)': 13,\n",
       "  'Mangas': 14,\n",
       "  'Music Books': 15,\n",
       "  'Rare': 16,\n",
       "  'Healthy Living & Wellness (Books)': 17,\n",
       "  'Writing Guides (Books)': 18,\n",
       "  'Humour (Books)': 19,\n",
       "  'Cinema & Broadcast (Books)': 20,\n",
       "  'Design': 21},\n",
       " 'Edition_Month': {'Apr': 0,\n",
       "  'Feb': 1,\n",
       "  'Aug': 2,\n",
       "  'Mar': 3,\n",
       "  'Jul': 4,\n",
       "  'Jan': 5,\n",
       "  'Jun': 6,\n",
       "  'May': 7,\n",
       "  'Sep': 8,\n",
       "  'Dec': 9,\n",
       "  'Oct': 10,\n",
       "  'Nov': 11},\n",
       " 'Edition_Year': {'2005': 0,\n",
       "  '2019': 1,\n",
       "  '2004': 2,\n",
       "  '2006': 3,\n",
       "  '2018': 4,\n",
       "  '2008': 5,\n",
       "  '2003': 6,\n",
       "  '2017': 7,\n",
       "  '2007': 8,\n",
       "  '2012': 9,\n",
       "  '2014': 10,\n",
       "  '2010': 11,\n",
       "  '2015': 12,\n",
       "  '2000': 13,\n",
       "  '2011': 14,\n",
       "  'Rare': 15,\n",
       "  '2013': 16,\n",
       "  '2002': 17,\n",
       "  '2016': 18,\n",
       "  '2009': 19},\n",
       " 'Author': {'Agatha Christie': 0, 'Rare': 1},\n",
       " 'Title_n': {2: 0, 0: 1, 1: 2},\n",
       " 'Synopsis_n': {4: 0, 7: 1, 5: 2, 3: 3, 9: 4, 6: 5, 8: 6, 2: 7, 1: 8, 0: 9}}"
      ]
     },
     "execution_count": 48,
     "metadata": {},
     "output_type": "execute_result"
    }
   ],
   "source": [
    "ordered_label_encoder.encoder_dict_"
   ]
  },
  {
   "cell_type": "code",
   "execution_count": 49,
   "metadata": {
    "ExecuteTime": {
     "end_time": "2020-09-28T08:29:01.707960Z",
     "start_time": "2020-09-28T08:29:01.696055Z"
    }
   },
   "outputs": [
    {
     "data": {
      "text/plain": [
       "['Review_num',\n",
       " 'Ratings_num',\n",
       " 'Edition_Type',\n",
       " 'Genre',\n",
       " 'Edition_Month',\n",
       " 'Edition_Year',\n",
       " 'Author',\n",
       " 'Title_n',\n",
       " 'Synopsis_n']"
      ]
     },
     "execution_count": 49,
     "metadata": {},
     "output_type": "execute_result"
    }
   ],
   "source": [
    "ordered_label_encoder.variables"
   ]
  },
  {
   "cell_type": "code",
   "execution_count": 50,
   "metadata": {
    "ExecuteTime": {
     "end_time": "2020-09-28T08:29:01.767131Z",
     "start_time": "2020-09-28T08:29:01.710917Z"
    }
   },
   "outputs": [],
   "source": [
    "ole_train = ordered_label_encoder.transform(rare_train)\n",
    "ole_test = ordered_label_encoder.transform(rare_test)"
   ]
  },
  {
   "cell_type": "code",
   "execution_count": 51,
   "metadata": {
    "ExecuteTime": {
     "end_time": "2020-09-28T08:29:01.782990Z",
     "start_time": "2020-09-28T08:29:01.769181Z"
    }
   },
   "outputs": [
    {
     "data": {
      "text/html": [
       "<div>\n",
       "<style scoped>\n",
       "    .dataframe tbody tr th:only-of-type {\n",
       "        vertical-align: middle;\n",
       "    }\n",
       "\n",
       "    .dataframe tbody tr th {\n",
       "        vertical-align: top;\n",
       "    }\n",
       "\n",
       "    .dataframe thead th {\n",
       "        text-align: right;\n",
       "    }\n",
       "</style>\n",
       "<table border=\"1\" class=\"dataframe\">\n",
       "  <thead>\n",
       "    <tr style=\"text-align: right;\">\n",
       "      <th></th>\n",
       "      <th>Review_num</th>\n",
       "      <th>Ratings_num</th>\n",
       "      <th>Edition_Type</th>\n",
       "      <th>Genre</th>\n",
       "      <th>Edition_Month</th>\n",
       "      <th>Edition_Year</th>\n",
       "      <th>Author</th>\n",
       "      <th>Title_n</th>\n",
       "      <th>Synopsis_n</th>\n",
       "    </tr>\n",
       "  </thead>\n",
       "  <tbody>\n",
       "    <tr>\n",
       "      <th>3457</th>\n",
       "      <td>7</td>\n",
       "      <td>4</td>\n",
       "      <td>3</td>\n",
       "      <td>6</td>\n",
       "      <td>7</td>\n",
       "      <td>4</td>\n",
       "      <td>1</td>\n",
       "      <td>0</td>\n",
       "      <td>9</td>\n",
       "    </tr>\n",
       "    <tr>\n",
       "      <th>2587</th>\n",
       "      <td>5</td>\n",
       "      <td>1</td>\n",
       "      <td>1</td>\n",
       "      <td>16</td>\n",
       "      <td>1</td>\n",
       "      <td>1</td>\n",
       "      <td>1</td>\n",
       "      <td>0</td>\n",
       "      <td>2</td>\n",
       "    </tr>\n",
       "    <tr>\n",
       "      <th>4622</th>\n",
       "      <td>6</td>\n",
       "      <td>1</td>\n",
       "      <td>1</td>\n",
       "      <td>9</td>\n",
       "      <td>1</td>\n",
       "      <td>6</td>\n",
       "      <td>1</td>\n",
       "      <td>1</td>\n",
       "      <td>9</td>\n",
       "    </tr>\n",
       "    <tr>\n",
       "      <th>2943</th>\n",
       "      <td>2</td>\n",
       "      <td>13</td>\n",
       "      <td>1</td>\n",
       "      <td>3</td>\n",
       "      <td>1</td>\n",
       "      <td>7</td>\n",
       "      <td>1</td>\n",
       "      <td>0</td>\n",
       "      <td>5</td>\n",
       "    </tr>\n",
       "    <tr>\n",
       "      <th>3985</th>\n",
       "      <td>6</td>\n",
       "      <td>0</td>\n",
       "      <td>1</td>\n",
       "      <td>5</td>\n",
       "      <td>5</td>\n",
       "      <td>4</td>\n",
       "      <td>1</td>\n",
       "      <td>0</td>\n",
       "      <td>5</td>\n",
       "    </tr>\n",
       "  </tbody>\n",
       "</table>\n",
       "</div>"
      ],
      "text/plain": [
       "      Review_num  Ratings_num  Edition_Type  Genre  Edition_Month  \\\n",
       "3457           7            4             3      6              7   \n",
       "2587           5            1             1     16              1   \n",
       "4622           6            1             1      9              1   \n",
       "2943           2           13             1      3              1   \n",
       "3985           6            0             1      5              5   \n",
       "\n",
       "      Edition_Year  Author  Title_n  Synopsis_n  \n",
       "3457             4       1        0           9  \n",
       "2587             1       1        0           2  \n",
       "4622             6       1        1           9  \n",
       "2943             7       1        0           5  \n",
       "3985             4       1        0           5  "
      ]
     },
     "execution_count": 51,
     "metadata": {},
     "output_type": "execute_result"
    }
   ],
   "source": [
    "ole_train.head()"
   ]
  },
  {
   "cell_type": "code",
   "execution_count": 52,
   "metadata": {
    "ExecuteTime": {
     "end_time": "2020-09-28T08:29:02.328842Z",
     "start_time": "2020-09-28T08:29:01.785749Z"
    }
   },
   "outputs": [],
   "source": [
    "import statsmodels.api as sm\n",
    "from sklearn.metrics import mean_absolute_error, mean_squared_error, r2_score\n",
    "from statsmodels.compat import lzip\n",
    "import statsmodels.stats.api as sms\n",
    "import statsmodels.formula.api as smf"
   ]
  },
  {
   "cell_type": "code",
   "execution_count": 53,
   "metadata": {
    "ExecuteTime": {
     "end_time": "2020-09-28T08:29:02.390142Z",
     "start_time": "2020-09-28T08:29:02.331832Z"
    }
   },
   "outputs": [
    {
     "name": "stdout",
     "output_type": "stream",
     "text": [
      "                            OLS Regression Results                            \n",
      "==============================================================================\n",
      "Dep. Variable:                  Price   R-squared:                       0.148\n",
      "Model:                            OLS   Adj. R-squared:                  0.146\n",
      "Method:                 Least Squares   F-statistic:                     70.73\n",
      "Date:                Mon, 28 Sep 2020   Prob (F-statistic):          1.08e-120\n",
      "Time:                        13:59:02   Log-Likelihood:                -28744.\n",
      "No. Observations:                3665   AIC:                         5.751e+04\n",
      "Df Residuals:                    3655   BIC:                         5.757e+04\n",
      "Df Model:                           9                                         \n",
      "Covariance Type:            nonrobust                                         \n",
      "=================================================================================\n",
      "                    coef    std err          t      P>|t|      [0.025      0.975]\n",
      "---------------------------------------------------------------------------------\n",
      "const          -439.2105    107.175     -4.098      0.000    -649.338    -229.083\n",
      "Review_num       19.8374      4.662      4.255      0.000      10.697      28.978\n",
      "Ratings_num      18.6356      2.436      7.649      0.000      13.859      23.413\n",
      "Edition_Type    187.2197     14.631     12.796      0.000     158.535     215.905\n",
      "Genre            20.4886      1.888     10.854      0.000      16.788      24.189\n",
      "Edition_Month    11.5427      3.043      3.793      0.000       5.577      17.509\n",
      "Edition_Year      9.1797      1.864      4.925      0.000       5.526      12.834\n",
      "Title_n          46.8810     16.442      2.851      0.004      14.644      79.118\n",
      "Synopsis_n       10.8890      3.585      3.037      0.002       3.860      17.918\n",
      "Author           68.5142    102.131      0.671      0.502    -131.726     268.754\n",
      "==============================================================================\n",
      "Omnibus:                     4766.768   Durbin-Watson:                   2.030\n",
      "Prob(Omnibus):                  0.000   Jarque-Bera (JB):          1305747.216\n",
      "Skew:                           7.044   Prob(JB):                         0.00\n",
      "Kurtosis:                      94.390   Cond. No.                         286.\n",
      "==============================================================================\n",
      "\n",
      "Warnings:\n",
      "[1] Standard Errors assume that the covariance matrix of the errors is correctly specified.\n"
     ]
    }
   ],
   "source": [
    "# features\n",
    "X_iter = ole_train[['Review_num', \"Ratings_num\", \"Edition_Type\", \"Genre\",\n",
    "                  \"Edition_Month\",  \"Edition_Year\", \"Title_n\", \"Synopsis_n\", \"Author\"]] \n",
    "\n",
    "# adding a constant\n",
    "X_iter = sm.add_constant(X_iter)\n",
    "# applying method of least squares\n",
    "# model = sm.OLS(y_train_log, X_iter).fit()\n",
    "model = sm.OLS(y_train, X_iter).fit()\n",
    "\n",
    "X_iter_p = ole_test[['Review_num', \"Ratings_num\", \"Edition_Type\", \"Genre\",\n",
    "                  \"Edition_Month\",  \"Edition_Year\", \"Title_n\", \"Synopsis_n\", \"Author\"]]\n",
    "\n",
    "X_iter_p = sm.add_constant(X_iter_p)\n",
    "predictions = model.predict(X_iter_p)\n",
    "    \n",
    "print(model.summary())"
   ]
  },
  {
   "cell_type": "code",
   "execution_count": 54,
   "metadata": {
    "ExecuteTime": {
     "end_time": "2020-09-28T08:29:02.405520Z",
     "start_time": "2020-09-28T08:29:02.393161Z"
    }
   },
   "outputs": [
    {
     "data": {
      "text/plain": [
       "616.455"
      ]
     },
     "execution_count": 54,
     "metadata": {},
     "output_type": "execute_result"
    }
   ],
   "source": [
    "# round(mean_squared_error(np.exp(y_train_log), np.exp(model.fittedvalues), squared=False),3)\n",
    "round(mean_squared_error(y_train.values, model.fittedvalues, squared=False),3)"
   ]
  },
  {
   "cell_type": "code",
   "execution_count": 55,
   "metadata": {
    "ExecuteTime": {
     "end_time": "2020-09-28T08:29:02.436828Z",
     "start_time": "2020-09-28T08:29:02.408514Z"
    }
   },
   "outputs": [
    {
     "data": {
      "text/plain": [
       "676.515"
      ]
     },
     "execution_count": 55,
     "metadata": {},
     "output_type": "execute_result"
    }
   ],
   "source": [
    "# round(mean_squared_error(np.exp(y_test_log), np.exp(predictions), squared=False),3)\n",
    "round(mean_squared_error(y_test, predictions, squared=False),3)"
   ]
  },
  {
   "cell_type": "code",
   "execution_count": 56,
   "metadata": {
    "ExecuteTime": {
     "end_time": "2020-09-28T08:29:02.453421Z",
     "start_time": "2020-09-28T08:29:02.441815Z"
    }
   },
   "outputs": [],
   "source": [
    "# features\n",
    "X_iter_ridge = ole_train[['Review_num', \"Ratings_num\", \"Edition_Type\", \"Genre\",\n",
    "                  \"Edition_Month\",  \"Edition_Year\", \"Title_n\", \"Synopsis_n\", \"Author\"]]\n",
    "\n",
    "X_iter_p_ridge = ole_test[['Review_num', \"Ratings_num\", \"Edition_Type\", \"Genre\",\n",
    "                  \"Edition_Month\",  \"Edition_Year\", \"Title_n\", \"Synopsis_n\", \"Author\"]]"
   ]
  },
  {
   "cell_type": "code",
   "execution_count": 57,
   "metadata": {
    "ExecuteTime": {
     "end_time": "2020-09-28T08:29:02.481742Z",
     "start_time": "2020-09-28T08:29:02.457541Z"
    }
   },
   "outputs": [],
   "source": [
    "from sklearn.linear_model import Ridge, Lasso"
   ]
  },
  {
   "cell_type": "code",
   "execution_count": 58,
   "metadata": {
    "ExecuteTime": {
     "end_time": "2020-09-28T08:29:02.496978Z",
     "start_time": "2020-09-28T08:29:02.484733Z"
    }
   },
   "outputs": [],
   "source": [
    "# for i in np.linspace(0,30,100,endpoint=False):\n",
    "#     rr = Ridge(alpha=i)\n",
    "#     rr.fit(X_iter_ridge, y_train_log)\n",
    "#     y_pred = rr.predict(X_iter_p_ridge)\n",
    "#     print(mean_squared_error(np.exp(y_test_log), np.exp(y_pred), squared=False))\n",
    "    \n",
    "# for i in np.linspace(0,30,100,endpoint=False):\n",
    "#     rr = Ridge(alpha=i)\n",
    "#     rr.fit(X_iter_ridge, y_train)\n",
    "#     y_pred = rr.predict(X_iter_p_ridge)\n",
    "#     print(mean_squared_error(y_test, y_pred, squared=False))"
   ]
  },
  {
   "cell_type": "code",
   "execution_count": 59,
   "metadata": {
    "ExecuteTime": {
     "end_time": "2020-09-28T08:29:02.557732Z",
     "start_time": "2020-09-28T08:29:02.499938Z"
    }
   },
   "outputs": [
    {
     "data": {
      "text/plain": [
       "(1000, 9)"
      ]
     },
     "execution_count": 59,
     "metadata": {},
     "output_type": "execute_result"
    }
   ],
   "source": [
    "datasetf = pd.read_csv(\"E:/IIM-A Docs/Internal Activities/Test.csv\", header=0, index_col=None, nrows=10000, encoding='iso8859-1')\n",
    "datasetf.shape"
   ]
  },
  {
   "cell_type": "code",
   "execution_count": 60,
   "metadata": {
    "ExecuteTime": {
     "end_time": "2020-09-28T08:29:02.590053Z",
     "start_time": "2020-09-28T08:29:02.558728Z"
    }
   },
   "outputs": [
    {
     "name": "stdout",
     "output_type": "stream",
     "text": [
      "<class 'pandas.core.frame.DataFrame'>\n",
      "RangeIndex: 1000 entries, 0 to 999\n",
      "Data columns (total 9 columns):\n",
      " #   Column        Non-Null Count  Dtype  \n",
      "---  ------        --------------  -----  \n",
      " 0   Title         1000 non-null   object \n",
      " 1   Author        1000 non-null   object \n",
      " 2   Edition       1000 non-null   object \n",
      " 3   Reviews       1000 non-null   object \n",
      " 4   Ratings       1000 non-null   object \n",
      " 5   Synopsis      1000 non-null   object \n",
      " 6   Genre         1000 non-null   object \n",
      " 7   BookCategory  1000 non-null   object \n",
      " 8   Price         0 non-null      float64\n",
      "dtypes: float64(1), object(8)\n",
      "memory usage: 70.4+ KB\n"
     ]
    }
   ],
   "source": [
    "datasetf.info()"
   ]
  },
  {
   "cell_type": "code",
   "execution_count": 61,
   "metadata": {
    "ExecuteTime": {
     "end_time": "2020-09-28T08:29:02.614059Z",
     "start_time": "2020-09-28T08:29:02.593041Z"
    }
   },
   "outputs": [],
   "source": [
    "datasetf['Review_num'] = datasetf['Reviews'].str.split(' ').str[0].astype(float)"
   ]
  },
  {
   "cell_type": "code",
   "execution_count": 62,
   "metadata": {
    "ExecuteTime": {
     "end_time": "2020-09-28T08:29:02.643604Z",
     "start_time": "2020-09-28T08:29:02.616054Z"
    }
   },
   "outputs": [],
   "source": [
    "datasetf['Ratings_num'] = datasetf['Ratings'].str.split(' ').str[0]\n",
    "datasetf['Ratings_num'] = datasetf['Ratings_num'].replace(',','')\n",
    "datasetf['Ratings_num'] = datasetf['Ratings_num'].apply(lambda x: str(x.replace(',','')))\n",
    "datasetf['Ratings_num'] = datasetf['Ratings_num'].astype(int)"
   ]
  },
  {
   "cell_type": "code",
   "execution_count": 63,
   "metadata": {
    "ExecuteTime": {
     "end_time": "2020-09-28T08:29:02.674622Z",
     "start_time": "2020-09-28T08:29:02.647970Z"
    }
   },
   "outputs": [],
   "source": [
    "datasetf['Edition_Type'] = datasetf['Edition'].str.split(' ').str[0]\n",
    "datasetf['Edition_Type'] = datasetf['Edition_Type'].str.split(',').str[0]"
   ]
  },
  {
   "cell_type": "code",
   "execution_count": 64,
   "metadata": {
    "ExecuteTime": {
     "end_time": "2020-09-28T08:29:02.690106Z",
     "start_time": "2020-09-28T08:29:02.677615Z"
    }
   },
   "outputs": [],
   "source": [
    "datasetf['Edition_Month'] = datasetf['Edition'].apply(split_month)"
   ]
  },
  {
   "cell_type": "code",
   "execution_count": 65,
   "metadata": {
    "ExecuteTime": {
     "end_time": "2020-09-28T08:29:02.723843Z",
     "start_time": "2020-09-28T08:29:02.692101Z"
    }
   },
   "outputs": [],
   "source": [
    "datasetf['Edition_Year'] = datasetf['Edition'].apply(split_year)"
   ]
  },
  {
   "cell_type": "code",
   "execution_count": 66,
   "metadata": {
    "ExecuteTime": {
     "end_time": "2020-09-28T08:29:03.041836Z",
     "start_time": "2020-09-28T08:29:02.727099Z"
    }
   },
   "outputs": [],
   "source": [
    "datasetf['Title_n'] = datasetf['Title'].apply(words_unique)\n",
    "datasetf['Synopsis_n'] = datasetf['Synopsis'].apply(words_unique)"
   ]
  },
  {
   "cell_type": "code",
   "execution_count": 67,
   "metadata": {
    "ExecuteTime": {
     "end_time": "2020-09-28T08:29:03.074562Z",
     "start_time": "2020-09-28T08:29:03.058754Z"
    }
   },
   "outputs": [],
   "source": [
    "df_selectcols_f = datasetf[['Review_num', 'Ratings_num', 'Edition_Type',\n",
    "                        'Genre', 'Edition_Month', 'Edition_Year',\n",
    "                        'Author', 'Title_n', 'Synopsis_n']]"
   ]
  },
  {
   "cell_type": "code",
   "execution_count": 68,
   "metadata": {
    "ExecuteTime": {
     "end_time": "2020-09-28T08:29:03.113455Z",
     "start_time": "2020-09-28T08:29:03.087987Z"
    }
   },
   "outputs": [],
   "source": [
    "tmp_mdi_test_f = imputer.transform(df_selectcols_f)"
   ]
  },
  {
   "cell_type": "code",
   "execution_count": 69,
   "metadata": {
    "ExecuteTime": {
     "end_time": "2020-09-28T08:29:03.144439Z",
     "start_time": "2020-09-28T08:29:03.117680Z"
    }
   },
   "outputs": [
    {
     "name": "stdout",
     "output_type": "stream",
     "text": [
      "<class 'pandas.core.frame.DataFrame'>\n",
      "RangeIndex: 1000 entries, 0 to 999\n",
      "Data columns (total 9 columns):\n",
      " #   Column         Non-Null Count  Dtype  \n",
      "---  ------         --------------  -----  \n",
      " 0   Review_num     1000 non-null   float64\n",
      " 1   Ratings_num    1000 non-null   int32  \n",
      " 2   Edition_Type   1000 non-null   object \n",
      " 3   Genre          1000 non-null   object \n",
      " 4   Edition_Month  1000 non-null   object \n",
      " 5   Edition_Year   1000 non-null   object \n",
      " 6   Author         1000 non-null   object \n",
      " 7   Title_n        1000 non-null   float64\n",
      " 8   Synopsis_n     1000 non-null   float64\n",
      "dtypes: float64(3), int32(1), object(5)\n",
      "memory usage: 66.5+ KB\n"
     ]
    }
   ],
   "source": [
    "tmp_mdi_test_f.info()"
   ]
  },
  {
   "cell_type": "code",
   "execution_count": 70,
   "metadata": {
    "ExecuteTime": {
     "end_time": "2020-09-28T08:29:03.175348Z",
     "start_time": "2020-09-28T08:29:03.149360Z"
    }
   },
   "outputs": [],
   "source": [
    "eqfdisctr_test_f = eqfdisctr1.transform(tmp_mdi_test_f)"
   ]
  },
  {
   "cell_type": "code",
   "execution_count": 71,
   "metadata": {
    "ExecuteTime": {
     "end_time": "2020-09-28T08:29:03.206028Z",
     "start_time": "2020-09-28T08:29:03.179995Z"
    }
   },
   "outputs": [],
   "source": [
    "eqfdisctr_test_f1 = eqfdisctr2.transform(eqfdisctr_test_f)"
   ]
  },
  {
   "cell_type": "code",
   "execution_count": 72,
   "metadata": {
    "ExecuteTime": {
     "end_time": "2020-09-28T08:29:03.221992Z",
     "start_time": "2020-09-28T08:29:03.210106Z"
    }
   },
   "outputs": [
    {
     "data": {
      "text/plain": [
       "Review_num       object\n",
       "Ratings_num      object\n",
       "Edition_Type     object\n",
       "Genre            object\n",
       "Edition_Month    object\n",
       "Edition_Year     object\n",
       "Author           object\n",
       "Title_n          object\n",
       "Synopsis_n       object\n",
       "dtype: object"
      ]
     },
     "execution_count": 72,
     "metadata": {},
     "output_type": "execute_result"
    }
   ],
   "source": [
    "eqfdisctr_test_f1.dtypes"
   ]
  },
  {
   "cell_type": "code",
   "execution_count": 73,
   "metadata": {
    "ExecuteTime": {
     "end_time": "2020-09-28T08:29:03.253355Z",
     "start_time": "2020-09-28T08:29:03.225945Z"
    }
   },
   "outputs": [],
   "source": [
    "rare_test_f = rare_label_encoder.transform(eqfdisctr_test_f1)"
   ]
  },
  {
   "cell_type": "code",
   "execution_count": 74,
   "metadata": {
    "ExecuteTime": {
     "end_time": "2020-09-28T08:29:03.284769Z",
     "start_time": "2020-09-28T08:29:03.256588Z"
    }
   },
   "outputs": [],
   "source": [
    "ole_test_f = ordered_label_encoder.transform(rare_test_f)"
   ]
  },
  {
   "cell_type": "code",
   "execution_count": 75,
   "metadata": {
    "ExecuteTime": {
     "end_time": "2020-09-28T08:29:03.308957Z",
     "start_time": "2020-09-28T08:29:03.288714Z"
    }
   },
   "outputs": [
    {
     "data": {
      "text/html": [
       "<div>\n",
       "<style scoped>\n",
       "    .dataframe tbody tr th:only-of-type {\n",
       "        vertical-align: middle;\n",
       "    }\n",
       "\n",
       "    .dataframe tbody tr th {\n",
       "        vertical-align: top;\n",
       "    }\n",
       "\n",
       "    .dataframe thead th {\n",
       "        text-align: right;\n",
       "    }\n",
       "</style>\n",
       "<table border=\"1\" class=\"dataframe\">\n",
       "  <thead>\n",
       "    <tr style=\"text-align: right;\">\n",
       "      <th></th>\n",
       "      <th>Review_num</th>\n",
       "      <th>Ratings_num</th>\n",
       "      <th>Edition_Type</th>\n",
       "      <th>Genre</th>\n",
       "      <th>Edition_Month</th>\n",
       "      <th>Edition_Year</th>\n",
       "      <th>Author</th>\n",
       "      <th>Title_n</th>\n",
       "      <th>Synopsis_n</th>\n",
       "    </tr>\n",
       "  </thead>\n",
       "  <tbody>\n",
       "    <tr>\n",
       "      <th>0</th>\n",
       "      <td>4</td>\n",
       "      <td>14</td>\n",
       "      <td>1</td>\n",
       "      <td>16</td>\n",
       "      <td>3</td>\n",
       "      <td>7</td>\n",
       "      <td>1</td>\n",
       "      <td>0</td>\n",
       "      <td>3</td>\n",
       "    </tr>\n",
       "    <tr>\n",
       "      <th>1</th>\n",
       "      <td>7</td>\n",
       "      <td>9</td>\n",
       "      <td>1</td>\n",
       "      <td>16</td>\n",
       "      <td>11</td>\n",
       "      <td>4</td>\n",
       "      <td>1</td>\n",
       "      <td>0</td>\n",
       "      <td>3</td>\n",
       "    </tr>\n",
       "    <tr>\n",
       "      <th>2</th>\n",
       "      <td>7</td>\n",
       "      <td>14</td>\n",
       "      <td>3</td>\n",
       "      <td>16</td>\n",
       "      <td>8</td>\n",
       "      <td>4</td>\n",
       "      <td>1</td>\n",
       "      <td>2</td>\n",
       "      <td>1</td>\n",
       "    </tr>\n",
       "    <tr>\n",
       "      <th>3</th>\n",
       "      <td>7</td>\n",
       "      <td>14</td>\n",
       "      <td>1</td>\n",
       "      <td>16</td>\n",
       "      <td>4</td>\n",
       "      <td>8</td>\n",
       "      <td>1</td>\n",
       "      <td>0</td>\n",
       "      <td>4</td>\n",
       "    </tr>\n",
       "    <tr>\n",
       "      <th>4</th>\n",
       "      <td>7</td>\n",
       "      <td>14</td>\n",
       "      <td>1</td>\n",
       "      <td>3</td>\n",
       "      <td>8</td>\n",
       "      <td>18</td>\n",
       "      <td>1</td>\n",
       "      <td>0</td>\n",
       "      <td>3</td>\n",
       "    </tr>\n",
       "  </tbody>\n",
       "</table>\n",
       "</div>"
      ],
      "text/plain": [
       "   Review_num  Ratings_num  Edition_Type  Genre  Edition_Month  Edition_Year  \\\n",
       "0           4           14             1     16              3             7   \n",
       "1           7            9             1     16             11             4   \n",
       "2           7           14             3     16              8             4   \n",
       "3           7           14             1     16              4             8   \n",
       "4           7           14             1      3              8            18   \n",
       "\n",
       "   Author  Title_n  Synopsis_n  \n",
       "0       1        0           3  \n",
       "1       1        0           3  \n",
       "2       1        2           1  \n",
       "3       1        0           4  \n",
       "4       1        0           3  "
      ]
     },
     "execution_count": 75,
     "metadata": {},
     "output_type": "execute_result"
    }
   ],
   "source": [
    "ole_test_f.head()"
   ]
  },
  {
   "cell_type": "code",
   "execution_count": 76,
   "metadata": {
    "ExecuteTime": {
     "end_time": "2020-09-28T08:29:03.340140Z",
     "start_time": "2020-09-28T08:29:03.311904Z"
    }
   },
   "outputs": [],
   "source": [
    "X_iter_submission = ole_test_f[['Review_num', \"Ratings_num\", \"Edition_Type\", \"Genre\",\n",
    "                  \"Edition_Month\",  \"Edition_Year\", \"Title_n\", \"Synopsis_n\", \"Author\"]]\n",
    "X_iter_submission = sm.add_constant(X_iter_submission)\n",
    "predictions_submission = model.predict(X_iter_submission)"
   ]
  },
  {
   "cell_type": "code",
   "execution_count": 77,
   "metadata": {
    "ExecuteTime": {
     "end_time": "2020-09-28T08:29:03.356072Z",
     "start_time": "2020-09-28T08:29:03.343131Z"
    }
   },
   "outputs": [],
   "source": [
    "sub_3 = pd.DataFrame(predictions_submission, columns=['Price'])\n",
    "# sub_3 = pd.DataFrame(np.exp(predictions_submission), columns=['Price'])"
   ]
  },
  {
   "cell_type": "code",
   "execution_count": 78,
   "metadata": {
    "ExecuteTime": {
     "end_time": "2020-09-28T08:29:03.371498Z",
     "start_time": "2020-09-28T08:29:03.360062Z"
    }
   },
   "outputs": [],
   "source": [
    "# sub_3.to_csv(\"E:/IIM-A Docs/Internal Activities/sub_3.csv\")"
   ]
  },
  {
   "cell_type": "code",
   "execution_count": null,
   "metadata": {
    "ExecuteTime": {
     "end_time": "2020-09-01T06:14:32.778841Z",
     "start_time": "2020-09-01T06:14:32.763681Z"
    }
   },
   "outputs": [],
   "source": []
  }
 ],
 "metadata": {
  "hide_input": false,
  "kernelspec": {
   "display_name": "Python 3",
   "language": "python",
   "name": "python3"
  },
  "language_info": {
   "codemirror_mode": {
    "name": "ipython",
    "version": 3
   },
   "file_extension": ".py",
   "mimetype": "text/x-python",
   "name": "python",
   "nbconvert_exporter": "python",
   "pygments_lexer": "ipython3",
   "version": "3.7.9"
  },
  "toc": {
   "base_numbering": 1,
   "nav_menu": {},
   "number_sections": true,
   "sideBar": true,
   "skip_h1_title": false,
   "title_cell": "Table of Contents",
   "title_sidebar": "Contents",
   "toc_cell": false,
   "toc_position": {},
   "toc_section_display": true,
   "toc_window_display": false
  },
  "varInspector": {
   "cols": {
    "lenName": 16,
    "lenType": 16,
    "lenVar": 40
   },
   "kernels_config": {
    "python": {
     "delete_cmd_postfix": "",
     "delete_cmd_prefix": "del ",
     "library": "var_list.py",
     "varRefreshCmd": "print(var_dic_list())"
    },
    "r": {
     "delete_cmd_postfix": ") ",
     "delete_cmd_prefix": "rm(",
     "library": "var_list.r",
     "varRefreshCmd": "cat(var_dic_list()) "
    }
   },
   "types_to_exclude": [
    "module",
    "function",
    "builtin_function_or_method",
    "instance",
    "_Feature"
   ],
   "window_display": false
  }
 },
 "nbformat": 4,
 "nbformat_minor": 4
}
