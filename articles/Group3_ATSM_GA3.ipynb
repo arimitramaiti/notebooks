{
 "cells": [
  {
   "cell_type": "markdown",
   "metadata": {},
   "source": [
    "**Group3_GA3_Week5**"
   ]
  },
  {
   "cell_type": "markdown",
   "metadata": {},
   "source": [
    "### <center>Tripadvisor ISKCON Temple (Bangalore) Review Analysis in Jupyter</center>\n",
    "<center>Big Data Analytics - Analysis of Text and Social Media Data: Individual Assignment Week-5</center>\n",
    "<center>ePGD ABA 2020-21</center>"
   ]
  },
  {
   "cell_type": "markdown",
   "metadata": {},
   "source": [
    "**Group-3 includes : Nitin Raheja, Rohan Singh, Anand Dattani, and Arimitra Maiti**"
   ]
  },
  {
   "cell_type": "markdown",
   "metadata": {},
   "source": [
    "**CAUTION - This notebook takes roughly 15 minutes to complete execution (excluding model train) \\\n",
    "This notebook may not run end to end in google colab environment or mac environment \\\n",
    "The input file for this notebook comes from the output of the first notebook**"
   ]
  },
  {
   "cell_type": "markdown",
   "metadata": {},
   "source": [
    "**The target class encoding is as follows : {\"NEGATIVE\":0, \"NEUTRAL\":1, \"MIXED\":2, \"POSITIVE\":3}**"
   ]
  },
  {
   "cell_type": "code",
   "execution_count": 1,
   "metadata": {},
   "outputs": [],
   "source": [
    "###Need to use nltk download commands for the first time to set up the machine\n",
    "import nltk\n",
    "# nltk.download('punkt')\n",
    "# nltk.download('stopwords')\n",
    "# nltk.download('wordnet')\n",
    "# nltk.download('averaged_perceptron_tagger')\n",
    "# nltk.download('sentiwordnet')"
   ]
  },
  {
   "cell_type": "code",
   "execution_count": 2,
   "metadata": {},
   "outputs": [],
   "source": [
    "##Import basic modules\n",
    "import numpy as np\n",
    "import pandas as pd\n",
    "import matplotlib.pyplot as plt\n",
    "import seaborn as sns\n",
    "%matplotlib inline\n",
    "import scipy.stats as stats\n",
    "import math\n",
    "import sys"
   ]
  },
  {
   "cell_type": "code",
   "execution_count": 3,
   "metadata": {},
   "outputs": [],
   "source": [
    "import string\n",
    "import re"
   ]
  },
  {
   "cell_type": "code",
   "execution_count": 4,
   "metadata": {},
   "outputs": [],
   "source": [
    "# !pip install wordcloud\n",
    "from nltk.stem import PorterStemmer\n",
    "from nltk.stem import WordNetLemmatizer\n",
    "from wordcloud import WordCloud\n",
    "import matplotlib.pyplot as plt"
   ]
  },
  {
   "cell_type": "code",
   "execution_count": 5,
   "metadata": {},
   "outputs": [],
   "source": [
    "from sklearn.feature_extraction.text import CountVectorizer"
   ]
  },
  {
   "cell_type": "code",
   "execution_count": 6,
   "metadata": {},
   "outputs": [],
   "source": [
    "# conda config --add channels conda-forge\n",
    "# conda install pyahocorasick\n",
    "# !pip install contractions\n",
    "import contractions"
   ]
  },
  {
   "cell_type": "code",
   "execution_count": 7,
   "metadata": {},
   "outputs": [],
   "source": [
    "from nltk.corpus import wordnet"
   ]
  },
  {
   "cell_type": "code",
   "execution_count": 8,
   "metadata": {},
   "outputs": [],
   "source": [
    "# !pip install textblob\n",
    "from textblob import TextBlob"
   ]
  },
  {
   "cell_type": "code",
   "execution_count": 9,
   "metadata": {},
   "outputs": [],
   "source": [
    "from sklearn.decomposition import LatentDirichletAllocation, NMF"
   ]
  },
  {
   "cell_type": "code",
   "execution_count": 10,
   "metadata": {},
   "outputs": [],
   "source": [
    "# !pip install afinn\n",
    "from afinn import Afinn"
   ]
  },
  {
   "cell_type": "code",
   "execution_count": 11,
   "metadata": {
    "scrolled": true
   },
   "outputs": [],
   "source": [
    "# ##Import review data obtained from tripadvisor crawler\n",
    "# dataset = pd.read_csv(\"cleaned_comments.csv\", parse_dates=True, usecols=['SOURCE', 'REVIEW DATE', 'REVIEW SUBJECT',\n",
    "#                                                                         'text', 'REVIEW RATING', 'Target'],\n",
    "#                       encoding = \"ISO-8859-1\")\n",
    "# dataset.head()"
   ]
  },
  {
   "cell_type": "code",
   "execution_count": 12,
   "metadata": {},
   "outputs": [
    {
     "data": {
      "text/html": [
       "<div>\n",
       "<style scoped>\n",
       "    .dataframe tbody tr th:only-of-type {\n",
       "        vertical-align: middle;\n",
       "    }\n",
       "\n",
       "    .dataframe tbody tr th {\n",
       "        vertical-align: top;\n",
       "    }\n",
       "\n",
       "    .dataframe thead th {\n",
       "        text-align: right;\n",
       "    }\n",
       "</style>\n",
       "<table border=\"1\" class=\"dataframe\">\n",
       "  <thead>\n",
       "    <tr style=\"text-align: right;\">\n",
       "      <th></th>\n",
       "      <th>SOURCE</th>\n",
       "      <th>REVIEW DATE</th>\n",
       "      <th>REVIEW SUBJECT</th>\n",
       "      <th>text</th>\n",
       "      <th>REVIEW RATING</th>\n",
       "      <th>Target</th>\n",
       "    </tr>\n",
       "  </thead>\n",
       "  <tbody>\n",
       "    <tr>\n",
       "      <th>0</th>\n",
       "      <td>Trip Advisor</td>\n",
       "      <td>30-04-2014</td>\n",
       "      <td>To commercial</td>\n",
       "      <td>This reativly new temple was a big hindu versi...</td>\n",
       "      <td>2</td>\n",
       "      <td>NEGATIVE</td>\n",
       "    </tr>\n",
       "    <tr>\n",
       "      <th>1</th>\n",
       "      <td>Trip Advisor</td>\n",
       "      <td>24-07-2015</td>\n",
       "      <td>?Amazing temple in Bangalore?</td>\n",
       "      <td>Me and my friends enjoyed a lot in ISKCON temp...</td>\n",
       "      <td>5</td>\n",
       "      <td>POSITIVE</td>\n",
       "    </tr>\n",
       "    <tr>\n",
       "      <th>2</th>\n",
       "      <td>Trip Advisor</td>\n",
       "      <td>28-07-2016</td>\n",
       "      <td>A well maintained temple</td>\n",
       "      <td>Otherworldly vibrations throuout the sanctuary...</td>\n",
       "      <td>5</td>\n",
       "      <td>POSITIVE</td>\n",
       "    </tr>\n",
       "    <tr>\n",
       "      <th>3</th>\n",
       "      <td>Trip Advisor</td>\n",
       "      <td>23-08-2016</td>\n",
       "      <td>Temple</td>\n",
       "      <td>ISKCON temple is very good, located in west of...</td>\n",
       "      <td>5</td>\n",
       "      <td>POSITIVE</td>\n",
       "    </tr>\n",
       "  </tbody>\n",
       "</table>\n",
       "</div>"
      ],
      "text/plain": [
       "         SOURCE REVIEW DATE                 REVIEW SUBJECT  \\\n",
       "0  Trip Advisor  30-04-2014                  To commercial   \n",
       "1  Trip Advisor  24-07-2015  ?Amazing temple in Bangalore?   \n",
       "2  Trip Advisor  28-07-2016       A well maintained temple   \n",
       "3  Trip Advisor  23-08-2016                         Temple   \n",
       "\n",
       "                                                text  REVIEW RATING    Target  \n",
       "0  This reativly new temple was a big hindu versi...              2  NEGATIVE  \n",
       "1  Me and my friends enjoyed a lot in ISKCON temp...              5  POSITIVE  \n",
       "2  Otherworldly vibrations throuout the sanctuary...              5  POSITIVE  \n",
       "3  ISKCON temple is very good, located in west of...              5  POSITIVE  "
      ]
     },
     "execution_count": 12,
     "metadata": {},
     "output_type": "execute_result"
    }
   ],
   "source": [
    "#Import review data obtained from tripadvisor crawler\n",
    "url = \"https://raw.githubusercontent.com/arimitramaiti/datasets/master/articles/cleaned_comments.csv\"\n",
    "dataset = pd.read_csv(url, error_bad_lines = False, header=0, index_col=None, parse_dates=True,\n",
    "                      usecols=['SOURCE', 'REVIEW DATE', 'REVIEW SUBJECT','text', 'REVIEW RATING', 'Target'],\n",
    "                      encoding = \"ISO-8859-1\")\n",
    "dataset.head(4)"
   ]
  },
  {
   "cell_type": "code",
   "execution_count": 13,
   "metadata": {},
   "outputs": [],
   "source": [
    "##Rename columns\n",
    "dataset.columns = ['source', 'date', 'title', 'review', 'score', 'target']\n",
    "\n",
    "\n",
    "dataset.date = pd.to_datetime(dataset.date)\n",
    "##Sort data by date of review\n",
    "dataset = dataset.sort_values(by=['date'], ascending=True)"
   ]
  },
  {
   "cell_type": "code",
   "execution_count": 14,
   "metadata": {},
   "outputs": [
    {
     "data": {
      "text/html": [
       "<div>\n",
       "<style scoped>\n",
       "    .dataframe tbody tr th:only-of-type {\n",
       "        vertical-align: middle;\n",
       "    }\n",
       "\n",
       "    .dataframe tbody tr th {\n",
       "        vertical-align: top;\n",
       "    }\n",
       "\n",
       "    .dataframe thead th {\n",
       "        text-align: right;\n",
       "    }\n",
       "</style>\n",
       "<table border=\"1\" class=\"dataframe\">\n",
       "  <thead>\n",
       "    <tr style=\"text-align: right;\">\n",
       "      <th></th>\n",
       "      <th>source</th>\n",
       "      <th>date</th>\n",
       "      <th>title</th>\n",
       "      <th>review</th>\n",
       "      <th>score</th>\n",
       "      <th>target</th>\n",
       "    </tr>\n",
       "  </thead>\n",
       "  <tbody>\n",
       "    <tr>\n",
       "      <th>944</th>\n",
       "      <td>Trip Advisor</td>\n",
       "      <td>2013-01-03</td>\n",
       "      <td>Very neat place to see</td>\n",
       "      <td>Make the time to see this landmark, it really ...</td>\n",
       "      <td>4</td>\n",
       "      <td>POSITIVE</td>\n",
       "    </tr>\n",
       "    <tr>\n",
       "      <th>1188</th>\n",
       "      <td>Trip Advisor</td>\n",
       "      <td>2013-01-05</td>\n",
       "      <td>Very modern</td>\n",
       "      <td>Very modern. all made of marble and very organ...</td>\n",
       "      <td>3</td>\n",
       "      <td>MIXED</td>\n",
       "    </tr>\n",
       "    <tr>\n",
       "      <th>2092</th>\n",
       "      <td>Google + HK HILL</td>\n",
       "      <td>2013-01-06</td>\n",
       "      <td>iskcon temple beatiful place</td>\n",
       "      <td>the temple is vry crowded and the food is not ...</td>\n",
       "      <td>3</td>\n",
       "      <td>MIXED</td>\n",
       "    </tr>\n",
       "    <tr>\n",
       "      <th>493</th>\n",
       "      <td>Trip Advisor</td>\n",
       "      <td>2013-01-06</td>\n",
       "      <td>VERY PEACEFULL</td>\n",
       "      <td>The Temple is made beautifully and the presenc...</td>\n",
       "      <td>5</td>\n",
       "      <td>POSITIVE</td>\n",
       "    </tr>\n",
       "    <tr>\n",
       "      <th>2563</th>\n",
       "      <td>Facebook</td>\n",
       "      <td>2013-01-08</td>\n",
       "      <td>Must see in Bangalore</td>\n",
       "      <td>ISKCON temple is located on top of a hillock c...</td>\n",
       "      <td>5</td>\n",
       "      <td>POSITIVE</td>\n",
       "    </tr>\n",
       "  </tbody>\n",
       "</table>\n",
       "</div>"
      ],
      "text/plain": [
       "                source       date                         title  \\\n",
       "944       Trip Advisor 2013-01-03        Very neat place to see   \n",
       "1188      Trip Advisor 2013-01-05                   Very modern   \n",
       "2092  Google + HK HILL 2013-01-06  iskcon temple beatiful place   \n",
       "493       Trip Advisor 2013-01-06                VERY PEACEFULL   \n",
       "2563          Facebook 2013-01-08         Must see in Bangalore   \n",
       "\n",
       "                                                 review  score    target  \n",
       "944   Make the time to see this landmark, it really ...      4  POSITIVE  \n",
       "1188  Very modern. all made of marble and very organ...      3     MIXED  \n",
       "2092  the temple is vry crowded and the food is not ...      3     MIXED  \n",
       "493   The Temple is made beautifully and the presenc...      5  POSITIVE  \n",
       "2563  ISKCON temple is located on top of a hillock c...      5  POSITIVE  "
      ]
     },
     "execution_count": 14,
     "metadata": {},
     "output_type": "execute_result"
    }
   ],
   "source": [
    "dataset.head()"
   ]
  },
  {
   "cell_type": "code",
   "execution_count": 15,
   "metadata": {},
   "outputs": [
    {
     "data": {
      "text/plain": [
       "(4641, 6)"
      ]
     },
     "execution_count": 15,
     "metadata": {},
     "output_type": "execute_result"
    }
   ],
   "source": [
    "dataset.shape"
   ]
  },
  {
   "cell_type": "code",
   "execution_count": 16,
   "metadata": {},
   "outputs": [],
   "source": [
    "##Reset index\n",
    "dataset = dataset.reset_index(drop=\"index\")"
   ]
  },
  {
   "cell_type": "code",
   "execution_count": 17,
   "metadata": {},
   "outputs": [
    {
     "data": {
      "text/plain": [
       "source     0.064641\n",
       "date       0.000000\n",
       "title     40.400776\n",
       "review     0.086188\n",
       "score      0.000000\n",
       "target     0.000000\n",
       "dtype: float64"
      ]
     },
     "execution_count": 17,
     "metadata": {},
     "output_type": "execute_result"
    }
   ],
   "source": [
    "##Check for missing values in the dataset\n",
    "dataset.isnull().sum()/dataset.shape[0] * 100"
   ]
  },
  {
   "cell_type": "code",
   "execution_count": 18,
   "metadata": {},
   "outputs": [],
   "source": [
    "##Replace missing reviews only with titles\n",
    "dataset.review = np.where(dataset.index.isin(list(dataset[(dataset.review.isnull()==True) & (dataset.title.isnull()==False)].index)),\n",
    "                         dataset.title, dataset.review)"
   ]
  },
  {
   "cell_type": "code",
   "execution_count": 19,
   "metadata": {},
   "outputs": [],
   "source": [
    "##Delete rows where both title and reviews are missing as there is no information of customer comments\n",
    "dataset.drop(dataset[dataset.review.isnull()].index, inplace=True)"
   ]
  },
  {
   "cell_type": "code",
   "execution_count": 20,
   "metadata": {},
   "outputs": [
    {
     "data": {
      "text/plain": [
       "(4639, 6)"
      ]
     },
     "execution_count": 20,
     "metadata": {},
     "output_type": "execute_result"
    }
   ],
   "source": [
    "dataset.shape"
   ]
  },
  {
   "cell_type": "code",
   "execution_count": 21,
   "metadata": {},
   "outputs": [],
   "source": [
    "##Reset index\n",
    "dataset = dataset.reset_index(drop=\"index\")"
   ]
  },
  {
   "cell_type": "code",
   "execution_count": 22,
   "metadata": {},
   "outputs": [
    {
     "data": {
      "text/plain": [
       "source     0.064669\n",
       "date       0.000000\n",
       "title     40.375081\n",
       "review     0.000000\n",
       "score      0.000000\n",
       "target     0.000000\n",
       "dtype: float64"
      ]
     },
     "execution_count": 22,
     "metadata": {},
     "output_type": "execute_result"
    }
   ],
   "source": [
    "##Check for missing values in the dataset\n",
    "dataset.isnull().sum()/dataset.shape[0] * 100"
   ]
  },
  {
   "cell_type": "code",
   "execution_count": 23,
   "metadata": {},
   "outputs": [],
   "source": [
    "my_stop_list_ = [\"bangalore\",\"krishna\",\"iskcon\",\"place\",\"visit\",\"visited\",\"hare\",\"one\",\"also\",\"iskon\",\"etc\",\"can\",\"rama\",\"radha\",\"hindu\",\"idols\",\"sri\",\"god\",\"lord\",\"isckon\"]"
   ]
  },
  {
   "cell_type": "code",
   "execution_count": 24,
   "metadata": {},
   "outputs": [],
   "source": [
    "dataset_processing = dataset.copy()"
   ]
  },
  {
   "cell_type": "code",
   "execution_count": 25,
   "metadata": {},
   "outputs": [
    {
     "data": {
      "text/plain": [
       "(4639, 6)"
      ]
     },
     "execution_count": 25,
     "metadata": {},
     "output_type": "execute_result"
    }
   ],
   "source": [
    "dataset_processing.shape"
   ]
  },
  {
   "cell_type": "code",
   "execution_count": 26,
   "metadata": {},
   "outputs": [],
   "source": [
    "import warnings\n",
    "warnings.filterwarnings(\"ignore\")\n",
    "\n",
    "from nltk.corpus import sentiwordnet as swn"
   ]
  },
  {
   "cell_type": "code",
   "execution_count": 27,
   "metadata": {},
   "outputs": [],
   "source": [
    "def pre_processing(dataset, my_stop_list):\n",
    "    ##Use contractions\n",
    "    dataset['review_modified'] = dataset['review'].apply(lambda x: [contractions.fix(word) for word in x.split()])\n",
    "    ##convert list to string\n",
    "    dataset['review_modified_unlist'] = [' '.join(map(str, l)) for l in dataset['review_modified']]\n",
    "    ##convert string to tokens\n",
    "    dataset['review_mod_tokens'] = dataset['review_modified_unlist'].apply(nltk.word_tokenize)\n",
    "    ##convert token to lower case\n",
    "    dataset['review_mod_tokens'] = dataset['review_mod_tokens'].apply(lambda x: [word.lower() for word in x])\n",
    "    ##remove punctuations\n",
    "    dataset['review_mod_tokens'] = dataset['review_mod_tokens'].apply(lambda x: [word for word in x if word not in string.punctuation])\n",
    "    stop_set = set(nltk.corpus.stopwords.words('english'))\n",
    "    stop_set.update(my_stop_list)\n",
    "    ##remove default and custom stop words\n",
    "    dataset['review_mod_tokens'] = dataset['review_mod_tokens'].apply(lambda x: [word for word in x if word not in stop_set])\n",
    "    ##extract parts of speech tags\n",
    "    dataset['review_tags'] = dataset['review_mod_tokens'].apply(nltk.tag.pos_tag)\n",
    "    \n",
    "    def get_wordnet_pos(tag):\n",
    "        if tag.startswith('J'):\n",
    "            return wordnet.ADJ\n",
    "        elif tag.startswith('V'):\n",
    "            return wordnet.VERB\n",
    "        elif tag.startswith('N'):\n",
    "            return wordnet.NOUN\n",
    "        elif tag.startswith('R'):\n",
    "            return wordnet.ADV\n",
    "        else:\n",
    "            return wordnet.NOUN\n",
    "    \n",
    "    dataset['review_wordnet'] = dataset['review_tags'].apply(lambda x: [(word, get_wordnet_pos(pos_tag)) for (word, pos_tag) in x])\n",
    "    ##use lemmatizer on parts of speech tags\n",
    "    lm = WordNetLemmatizer()\n",
    "    dataset['review_lemmatized'] = dataset['review_wordnet'].apply(lambda x: [lm.lemmatize(word, tag) for word, tag in x])\n",
    "    \n",
    "    dataset['review_str'] = [' '.join(map(str,l)) for l in dataset['review_lemmatized']]\n",
    "    ##extract sentiment score from parts of speech tags\n",
    "    dataset['sentiment_score_textblob'] = dataset['review_str'].apply(lambda x: TextBlob(x).sentiment.polarity)\n",
    "    \n",
    "    def afinn_polarity(text):\n",
    "        return Afinn().score(text)\n",
    "    \n",
    "    def score_sentiwordnet(doc):\n",
    "        synsets = (wordnet.synsets(w) for w in nltk.word_tokenize(doc) if w is not None) # tokenize and lookup synonyms in WordNet\n",
    "        words = (s[0].name() for s in synsets if s is not None and len(s) > 0) # use the first (most common) synonym\n",
    "        words = (swn.senti_synset(s) for s in words) # get sentiment scores which have pos, neg, and neutral parts\n",
    "        scores = ((1 - w.obj_score()) * (w.pos_score() - w.neg_score()) for w in words) # calculate individual word scores\n",
    "        return (sum(scores)) # classify document as positive if resulting score is positive\n",
    "    \n",
    "    def ifformula(score):\n",
    "        if score < 0:\n",
    "            return \"0\"\n",
    "        elif score == 0:\n",
    "            return \"1\"\n",
    "        else:\n",
    "            return \"2\"\n",
    "    \n",
    "    dataset['sentiment_score_afinn'] = dataset['review_str'].apply(afinn_polarity)\n",
    "    dataset['sentiment_score_sentinet'] = dataset['review_str'].apply(score_sentiwordnet)\n",
    "    \n",
    "    dataset['sentiment_score_afinn'] = dataset['sentiment_score_afinn'].apply(ifformula)\n",
    "    dataset['sentiment_score_textblob'] = dataset['sentiment_score_textblob'].apply(ifformula)\n",
    "    dataset['sentiment_score_sentinet'] = dataset['sentiment_score_sentinet'].apply(ifformula)\n",
    "    \n",
    "    dataset = dataset[['score', 'date', 'title', 'target', 'review_lemmatized', 'review',\n",
    "                       'review_str', 'sentiment_score_textblob', 'sentiment_score_sentinet', 'sentiment_score_afinn']]\n",
    "\n",
    "    return dataset"
   ]
  },
  {
   "cell_type": "code",
   "execution_count": 28,
   "metadata": {
    "scrolled": false
   },
   "outputs": [],
   "source": [
    "dataset_processing = pre_processing(dataset_processing, my_stop_list_)"
   ]
  },
  {
   "cell_type": "code",
   "execution_count": 29,
   "metadata": {},
   "outputs": [],
   "source": [
    "dataset_processing['word_count'] = dataset_processing['review_lemmatized'].apply(lambda x: len(str(x).split()))\n",
    "dataset_processing['review_length'] = dataset_processing['review_str'].astype(str).apply(len)"
   ]
  },
  {
   "cell_type": "code",
   "execution_count": 30,
   "metadata": {},
   "outputs": [
    {
     "data": {
      "text/plain": [
       "(4639, 12)"
      ]
     },
     "execution_count": 30,
     "metadata": {},
     "output_type": "execute_result"
    }
   ],
   "source": [
    "dataset_processing.shape"
   ]
  },
  {
   "cell_type": "code",
   "execution_count": 31,
   "metadata": {},
   "outputs": [],
   "source": [
    "# dataset_processing.to_csv(\"dataset_processing.csv\")"
   ]
  },
  {
   "cell_type": "code",
   "execution_count": 32,
   "metadata": {},
   "outputs": [
    {
     "name": "stdout",
     "output_type": "stream",
     "text": [
      "Topic 0:\n",
      "good food restaurant prasadam day spend serve high time prasad\n",
      "Topic 1:\n",
      "temple main take get inside go shop people book many\n",
      "Topic 2:\n",
      "temple like must experience go love really great feel see\n",
      "Topic 3:\n",
      "peace mind atmosphere chant feel temple good time best get\n",
      "Topic 4:\n",
      "temple well nice good clean maintain beautiful peaceful must city\n"
     ]
    }
   ],
   "source": [
    "##Process to extract LDA topics\n",
    "tf_vectorizer = CountVectorizer(max_df=0.9, min_df=25, max_features=5000)\n",
    "tf = tf_vectorizer.fit_transform(dataset_processing['review_str'].values.astype('U'))\n",
    "tf_feature_names = tf_vectorizer.get_feature_names()\n",
    "doc_term_matrix = pd.DataFrame(tf.toarray(), columns=list(tf_feature_names))\n",
    "\n",
    "lda_model = LatentDirichletAllocation(n_components=5, learning_method='online', max_iter=500, random_state=0).fit(tf)\n",
    "no_top_words = 10\n",
    "def display_topics(model, feature_names, no_top_words):\n",
    "    for topic_idx, topic in enumerate(model.components_):\n",
    "        print(\"Topic %d:\" % (topic_idx))\n",
    "        print(\" \".join([feature_names[i]\n",
    "                          for i in topic.argsort()[:-no_top_words - 1:-1]]))\n",
    "              \n",
    "display_topics(lda_model, tf_feature_names, no_top_words)"
   ]
  },
  {
   "cell_type": "code",
   "execution_count": 33,
   "metadata": {},
   "outputs": [],
   "source": [
    "lda_topic_values = lda_model.transform(tf)\n",
    "dataset_processing['lda_topic_id'] = lda_topic_values.argmax(axis=1)"
   ]
  },
  {
   "cell_type": "code",
   "execution_count": 34,
   "metadata": {},
   "outputs": [
    {
     "data": {
      "text/plain": [
       "0     270\n",
       "1      92\n",
       "2     277\n",
       "3    4000\n",
       "Name: target, dtype: int64"
      ]
     },
     "execution_count": 34,
     "metadata": {},
     "output_type": "execute_result"
    }
   ],
   "source": [
    "##Map bubble rating score to 3 classes, 1 having score 10 & 20, 2 having score 30, 3 having score of 40 & 50 \n",
    "score_mapping = {\"NEGATIVE\":0, \"NEUTRAL\":1, \"MIXED\":2, \"POSITIVE\":3}\n",
    "dataset_processing[\"target\"] = dataset_processing.target.map(score_mapping)\n",
    "\n",
    "dataset_processing.target.value_counts().sort_index()\n",
    "# dataset['Name'].unique()"
   ]
  },
  {
   "cell_type": "code",
   "execution_count": 35,
   "metadata": {},
   "outputs": [
    {
     "data": {
      "text/plain": [
       "Index(['score', 'date', 'title', 'target', 'review_lemmatized', 'review',\n",
       "       'review_str', 'sentiment_score_textblob', 'sentiment_score_sentinet',\n",
       "       'sentiment_score_afinn', 'word_count', 'review_length', 'lda_topic_id'],\n",
       "      dtype='object')"
      ]
     },
     "execution_count": 35,
     "metadata": {},
     "output_type": "execute_result"
    }
   ],
   "source": [
    "dataset_processing.columns"
   ]
  },
  {
   "cell_type": "code",
   "execution_count": 36,
   "metadata": {},
   "outputs": [],
   "source": [
    "##Extract month and year and store as categories\n",
    "dataset_processing['text_year'] = pd.DatetimeIndex(dataset_processing['date']).year\n",
    "dataset_processing['text_month'] = pd.DatetimeIndex(dataset_processing['date']).month\n",
    "\n",
    "dataset_processing['text_year'] = dataset_processing['text_year'].astype('O')\n",
    "dataset_processing['text_month'] = dataset_processing['text_month'].astype('O')"
   ]
  },
  {
   "cell_type": "code",
   "execution_count": 37,
   "metadata": {},
   "outputs": [],
   "source": [
    "###Consider sentiment scores as features derived from sentiment score binning and actual trip advisor scores\n",
    "##The target column remains untouched to avoid multicollinearity\n",
    "c1 = dataset_processing['sentiment_score_textblob'] == \"0\"\n",
    "c2 = dataset_processing['sentiment_score_sentinet'] == \"0\"\n",
    "c3 = dataset_processing['sentiment_score_afinn'] == \"0\"\n",
    "c4 = dataset_processing['score'] == 1\n",
    "c5 = dataset_processing['score'] == 2\n",
    "\n",
    "dataset_processing['neg_class'] = np.logical_or.reduce((c1, c2, c3, c4, c5))\n",
    "\n",
    "c1 = dataset_processing['sentiment_score_textblob'] == \"2\"\n",
    "c2 = dataset_processing['sentiment_score_sentinet'] == \"2\"\n",
    "c3 = dataset_processing['sentiment_score_afinn'] == \"2\"\n",
    "c4 = dataset_processing['score'] == 4\n",
    "c5 = dataset_processing['score'] == 5\n",
    "\n",
    "dataset_processing['pos_class'] = np.logical_and.reduce((c1, c2, c3, np.logical_or.reduce((c4, c5))))\n",
    "\n",
    "c1 = dataset_processing['neg_class'] == False\n",
    "c2 = dataset_processing['pos_class'] == False\n",
    "\n",
    "dataset_processing['neu_class'] = np.logical_and.reduce((c1, c2))\n",
    "\n",
    "del c1, c2, c3, c4, c5\n",
    "\n",
    "def bool_cat(score):\n",
    "    if score == True:\n",
    "        return \"1\"\n",
    "    else:\n",
    "        return \"0\"\n",
    "\n",
    "dataset_processing['neg_class'] = dataset_processing['neg_class'].apply(bool_cat)\n",
    "dataset_processing['pos_class'] = dataset_processing['pos_class'].apply(bool_cat)\n",
    "dataset_processing['neu_class'] = dataset_processing['neu_class'].apply(bool_cat)"
   ]
  },
  {
   "cell_type": "code",
   "execution_count": 38,
   "metadata": {},
   "outputs": [],
   "source": [
    "dataset_processing = dataset_processing[['target', 'word_count', 'lda_topic_id', 'pos_class', 'neg_class', 'neu_class', 'review_str', 'text_year', 'text_month']]"
   ]
  },
  {
   "cell_type": "code",
   "execution_count": 39,
   "metadata": {},
   "outputs": [
    {
     "data": {
      "text/plain": [
       "(4639, 9)"
      ]
     },
     "execution_count": 39,
     "metadata": {},
     "output_type": "execute_result"
    }
   ],
   "source": [
    "dataset_processing.shape"
   ]
  },
  {
   "cell_type": "code",
   "execution_count": 40,
   "metadata": {},
   "outputs": [],
   "source": [
    "# !python -m pip install -U gensim"
   ]
  },
  {
   "cell_type": "code",
   "execution_count": 41,
   "metadata": {},
   "outputs": [],
   "source": [
    "###First time download may take upto 30 minutes\n",
    "##Download google word2vec pre trained model from gensim\n",
    "import gensim.downloader as api\n",
    "wv = api.load('word2vec-google-news-300')"
   ]
  },
  {
   "cell_type": "code",
   "execution_count": 42,
   "metadata": {},
   "outputs": [],
   "source": [
    "##Create unique set of words from google model\n",
    "vocabulary = set(wv.index2word)"
   ]
  },
  {
   "cell_type": "code",
   "execution_count": 43,
   "metadata": {},
   "outputs": [],
   "source": [
    "##Dimension of each word\n",
    "embedding_size = wv.vector_size"
   ]
  },
  {
   "cell_type": "code",
   "execution_count": 44,
   "metadata": {},
   "outputs": [
    {
     "name": "stdout",
     "output_type": "stream",
     "text": [
      "Model contains 3000000 words\n"
     ]
    }
   ],
   "source": [
    "print(\"Model contains %d words\" %len(vocabulary))"
   ]
  },
  {
   "cell_type": "code",
   "execution_count": 45,
   "metadata": {},
   "outputs": [
    {
     "name": "stdout",
     "output_type": "stream",
     "text": [
      "Each word is represented by a 300 dimensional vector\n"
     ]
    }
   ],
   "source": [
    "print(\"Each word is represented by a %d dimensional vector\" %embedding_size)"
   ]
  },
  {
   "cell_type": "code",
   "execution_count": 46,
   "metadata": {},
   "outputs": [
    {
     "data": {
      "text/plain": [
       "((4639,), (4639, 1))"
      ]
     },
     "execution_count": 46,
     "metadata": {},
     "output_type": "execute_result"
    }
   ],
   "source": [
    "##Create X and y attrs, X here has only one column from the explicit dataset\n",
    "##We are yet to form the features\n",
    "X, y = dataset_processing['review_str'], dataset_processing[['target']]\n",
    "X.shape, y.shape"
   ]
  },
  {
   "cell_type": "code",
   "execution_count": 47,
   "metadata": {},
   "outputs": [],
   "source": [
    "##Define word2vec function where mean of the vectors would be considered if the word exists Else zero\n",
    "def mean_vector(review):\n",
    "    zero = np.zeros((embedding_size,), dtype=\"float32\")\n",
    "    if pd.isnull(review):\n",
    "        return zero\n",
    "    words = [w for w in review.split() if w in vocabulary]\n",
    "    if not words:\n",
    "        return zero\n",
    "    return np.mean([wv[w] for w in words], axis=0)"
   ]
  },
  {
   "cell_type": "code",
   "execution_count": 48,
   "metadata": {},
   "outputs": [],
   "source": [
    "cols = ['v_'+str(i) for i in range(embedding_size)]"
   ]
  },
  {
   "cell_type": "code",
   "execution_count": 49,
   "metadata": {},
   "outputs": [],
   "source": [
    "dfV = pd.DataFrame(list(map(mean_vector, X)), columns=cols)"
   ]
  },
  {
   "cell_type": "code",
   "execution_count": 50,
   "metadata": {},
   "outputs": [
    {
     "data": {
      "text/plain": [
       "((4639, 300), (4639, 1))"
      ]
     },
     "execution_count": 50,
     "metadata": {},
     "output_type": "execute_result"
    }
   ],
   "source": [
    "X, y = dfV, y\n",
    "X.shape, y.shape"
   ]
  },
  {
   "cell_type": "code",
   "execution_count": 51,
   "metadata": {},
   "outputs": [],
   "source": [
    "add_features = dataset_processing[['word_count', 'lda_topic_id', 'pos_class', 'neg_class', 'neu_class', 'text_year', 'text_month']]"
   ]
  },
  {
   "cell_type": "code",
   "execution_count": 52,
   "metadata": {},
   "outputs": [
    {
     "data": {
      "text/plain": [
       "((4639, 307), (4639, 1))"
      ]
     },
     "execution_count": 52,
     "metadata": {},
     "output_type": "execute_result"
    }
   ],
   "source": [
    "X_new = pd.concat([add_features, X], axis=1)\n",
    "X_new.shape, y.shape"
   ]
  },
  {
   "cell_type": "code",
   "execution_count": 53,
   "metadata": {},
   "outputs": [],
   "source": [
    "X_new['lda_topic_id'] = X_new['lda_topic_id'].astype('O')"
   ]
  },
  {
   "cell_type": "code",
   "execution_count": 54,
   "metadata": {},
   "outputs": [],
   "source": [
    "# !pip install scikit-multilearn\n",
    "\n",
    "import skmultilearn\n",
    "from skmultilearn.model_selection import iterative_train_test_split"
   ]
  },
  {
   "cell_type": "code",
   "execution_count": 55,
   "metadata": {},
   "outputs": [],
   "source": [
    "from sklearn.model_selection import train_test_split"
   ]
  },
  {
   "cell_type": "code",
   "execution_count": 56,
   "metadata": {},
   "outputs": [
    {
     "name": "stdout",
     "output_type": "stream",
     "text": [
      "Proportion for Target class:0 is 5.82 percent in parent set\n",
      "Proportion for Target class:1 is 1.98 percent in parent set\n",
      "Proportion for Target class:2 is 5.97 percent in parent set\n",
      "Proportion for Target class:3 is 86.23 percent in parent set\n"
     ]
    }
   ],
   "source": [
    "print(f\"Proportion for Target class:0 is {round((np.unique(y, return_counts=True)[1][0]/y.shape[0])*100,2)} percent in parent set\")\n",
    "print(f\"Proportion for Target class:1 is {round((np.unique(y, return_counts=True)[1][1]/y.shape[0])*100,2)} percent in parent set\")\n",
    "print(f\"Proportion for Target class:2 is {round((np.unique(y, return_counts=True)[1][2]/y.shape[0])*100,2)} percent in parent set\")\n",
    "print(f\"Proportion for Target class:3 is {round((np.unique(y, return_counts=True)[1][3]/y.shape[0])*100,2)} percent in parent set\")"
   ]
  },
  {
   "cell_type": "code",
   "execution_count": 57,
   "metadata": {},
   "outputs": [],
   "source": [
    "del X"
   ]
  },
  {
   "cell_type": "code",
   "execution_count": 58,
   "metadata": {},
   "outputs": [],
   "source": [
    "X = X_new.copy()"
   ]
  },
  {
   "cell_type": "code",
   "execution_count": 59,
   "metadata": {},
   "outputs": [
    {
     "data": {
      "text/plain": [
       "((3711, 307), (928, 307), (3711, 1), (928, 1))"
      ]
     },
     "execution_count": 59,
     "metadata": {},
     "output_type": "execute_result"
    }
   ],
   "source": [
    "X_data, X_test, y_data, y_test = train_test_split(X, y, test_size = 0.2, random_state = 0, stratify=y)\n",
    "\n",
    "X_data.shape, X_test.shape, y_data.shape, y_test.shape"
   ]
  },
  {
   "cell_type": "code",
   "execution_count": 60,
   "metadata": {},
   "outputs": [
    {
     "data": {
      "text/plain": [
       "((2968, 307), (743, 307), (2968, 1), (743, 1))"
      ]
     },
     "execution_count": 60,
     "metadata": {},
     "output_type": "execute_result"
    }
   ],
   "source": [
    "##Further Divide total rows of the 80 above, into 80:20 and keep the 20 for validation\n",
    "X = X_data.copy()\n",
    "y = y_data.copy()\n",
    "X_train, X_valid, y_train, y_valid = train_test_split(X, y, test_size = 0.2, random_state = 0, stratify=y)\n",
    "\n",
    "X_train.shape, X_valid.shape, y_train.shape, y_valid.shape"
   ]
  },
  {
   "cell_type": "code",
   "execution_count": 61,
   "metadata": {},
   "outputs": [
    {
     "data": {
      "text/plain": [
       "((3711, 307), (928, 307))"
      ]
     },
     "execution_count": 61,
     "metadata": {},
     "output_type": "execute_result"
    }
   ],
   "source": [
    "X_data.shape, X_test.shape"
   ]
  },
  {
   "cell_type": "code",
   "execution_count": 62,
   "metadata": {},
   "outputs": [
    {
     "name": "stdout",
     "output_type": "stream",
     "text": [
      "Proportion for Target class:0 is 5.83 percent in train set\n",
      "Proportion for Target class:1 is 1.99 percent in train set\n",
      "Proportion for Target class:2 is 5.96 percent in train set\n",
      "Proportion for Target class:3 is 86.22 percent in train set\n"
     ]
    }
   ],
   "source": [
    "print(f\"Proportion for Target class:0 is {round((np.unique(y_train, return_counts=True)[1][0]/y_train.shape[0])*100,2)} percent in train set\")\n",
    "print(f\"Proportion for Target class:1 is {round((np.unique(y_train, return_counts=True)[1][1]/y_train.shape[0])*100,2)} percent in train set\")\n",
    "print(f\"Proportion for Target class:2 is {round((np.unique(y_train, return_counts=True)[1][2]/y_train.shape[0])*100,2)} percent in train set\")\n",
    "print(f\"Proportion for Target class:3 is {round((np.unique(y_train, return_counts=True)[1][3]/y_train.shape[0])*100,2)} percent in train set\")"
   ]
  },
  {
   "cell_type": "code",
   "execution_count": 63,
   "metadata": {},
   "outputs": [
    {
     "name": "stdout",
     "output_type": "stream",
     "text": [
      "Proportion for Target class:0 is 5.79 percent in validation set\n",
      "Proportion for Target class:1 is 2.02 percent in validation set\n",
      "Proportion for Target class:2 is 5.92 percent in validation set\n",
      "Proportion for Target class:3 is 86.27 percent in validation set\n"
     ]
    }
   ],
   "source": [
    "print(f\"Proportion for Target class:0 is {round((np.unique(y_valid, return_counts=True)[1][0]/y_valid.shape[0])*100,2)} percent in validation set\")\n",
    "print(f\"Proportion for Target class:1 is {round((np.unique(y_valid, return_counts=True)[1][1]/y_valid.shape[0])*100,2)} percent in validation set\")\n",
    "print(f\"Proportion for Target class:2 is {round((np.unique(y_valid, return_counts=True)[1][2]/y_valid.shape[0])*100,2)} percent in validation set\")\n",
    "print(f\"Proportion for Target class:3 is {round((np.unique(y_valid, return_counts=True)[1][3]/y_valid.shape[0])*100,2)} percent in validation set\")"
   ]
  },
  {
   "cell_type": "code",
   "execution_count": 64,
   "metadata": {},
   "outputs": [
    {
     "name": "stdout",
     "output_type": "stream",
     "text": [
      "Proportion for Target class:0 is 5.82 percent in test set\n",
      "Proportion for Target class:1 is 1.94 percent in test set\n",
      "Proportion for Target class:2 is 6.03 percent in test set\n",
      "Proportion for Target class:3 is 86.21 percent in test set\n"
     ]
    }
   ],
   "source": [
    "print(f\"Proportion for Target class:0 is {round((np.unique(y_test, return_counts=True)[1][0]/y_test.shape[0])*100,2)} percent in test set\")\n",
    "print(f\"Proportion for Target class:1 is {round((np.unique(y_test, return_counts=True)[1][1]/y_test.shape[0])*100,2)} percent in test set\")\n",
    "print(f\"Proportion for Target class:2 is {round((np.unique(y_test, return_counts=True)[1][2]/y_test.shape[0])*100,2)} percent in test set\")\n",
    "print(f\"Proportion for Target class:3 is {round((np.unique(y_test, return_counts=True)[1][3]/y_test.shape[0])*100,2)} percent in test set\")"
   ]
  },
  {
   "cell_type": "code",
   "execution_count": 65,
   "metadata": {},
   "outputs": [
    {
     "name": "stdout",
     "output_type": "stream",
     "text": [
      "(2968, 307) (743, 307) (928, 307)\n"
     ]
    }
   ],
   "source": [
    "##check if any numerical features have any constant variance, i.e. standard deviation as zero\n",
    "store = []\n",
    "for i in range(len(X_train.columns)):\n",
    "    if X_train[X_train.columns[i]].dtype != 'object':\n",
    "        varname = X_train.columns[i]\n",
    "        store.append(varname)\n",
    "\n",
    "constant_features = [x for x in store if X_train[x].std() == 0]\n",
    "\n",
    "X_train.drop(labels=constant_features, axis=1, inplace=True)\n",
    "X_valid.drop(labels=constant_features, axis=1, inplace=True)\n",
    "X_test.drop(labels=constant_features, axis=1, inplace=True)\n",
    "\n",
    "print(X_train.shape, X_valid.shape, X_test.shape)"
   ]
  },
  {
   "cell_type": "code",
   "execution_count": 66,
   "metadata": {},
   "outputs": [],
   "source": [
    "del store"
   ]
  },
  {
   "cell_type": "code",
   "execution_count": 67,
   "metadata": {},
   "outputs": [
    {
     "data": {
      "text/plain": [
       "0"
      ]
     },
     "execution_count": 67,
     "metadata": {},
     "output_type": "execute_result"
    }
   ],
   "source": [
    "# create an empty list\n",
    "quasi_constant_feat = []\n",
    "\n",
    "# iterate over every attributes in the train set including numerical and object variables\n",
    "for k in X_train.columns:\n",
    "    # find the dominant value, that is the value that is shared by most observations\n",
    "    predominant = (X_train[k].value_counts() / np.float(\n",
    "        len(X_train))).sort_values(ascending=False).values[0]\n",
    "\n",
    "    # evaluate the dominant feature: do more than 99% of the observations show 1 single value?\n",
    "    if predominant > 0.998:\n",
    "        \n",
    "        # if yes, add the variable to the list\n",
    "        quasi_constant_feat.append(k)\n",
    "\n",
    "len(quasi_constant_feat)"
   ]
  },
  {
   "cell_type": "code",
   "execution_count": 68,
   "metadata": {},
   "outputs": [
    {
     "data": {
      "text/plain": [
       "[]"
      ]
     },
     "execution_count": 68,
     "metadata": {},
     "output_type": "execute_result"
    }
   ],
   "source": [
    "quasi_constant_feat"
   ]
  },
  {
   "cell_type": "code",
   "execution_count": 69,
   "metadata": {},
   "outputs": [
    {
     "name": "stdout",
     "output_type": "stream",
     "text": [
      "(2968, 307) (743, 307) (928, 307)\n"
     ]
    }
   ],
   "source": [
    "X_train.drop(labels=quasi_constant_feat, axis=1, inplace=True)\n",
    "X_valid.drop(labels=quasi_constant_feat, axis=1, inplace=True)\n",
    "X_test.drop(labels=quasi_constant_feat, axis=1, inplace=True)\n",
    "\n",
    "print(X_train.shape, X_valid.shape, X_test.shape)"
   ]
  },
  {
   "cell_type": "code",
   "execution_count": 70,
   "metadata": {},
   "outputs": [
    {
     "name": "stdout",
     "output_type": "stream",
     "text": [
      "0\n",
      "10\n",
      "20\n",
      "30\n",
      "40\n",
      "50\n",
      "60\n",
      "70\n",
      "80\n",
      "90\n",
      "100\n",
      "110\n",
      "120\n",
      "130\n",
      "140\n",
      "150\n",
      "160\n",
      "170\n",
      "180\n",
      "190\n",
      "200\n",
      "210\n",
      "220\n",
      "230\n",
      "240\n",
      "250\n",
      "260\n",
      "270\n",
      "280\n",
      "290\n",
      "300\n"
     ]
    }
   ],
   "source": [
    "##Check if we have features that despite having different names, are identical.\n",
    "# check for duplicated features in the training set:\n",
    "\n",
    "# create an empty dictionary, where we will store \n",
    "# the groups of duplicates\n",
    "duplicated_feat_pairs = {}\n",
    "\n",
    "# create an empty list to collect features\n",
    "# that were found to be duplicated\n",
    "_duplicated_feat = []\n",
    "\n",
    "\n",
    "# iterate over every feature in our dataset:\n",
    "for i in range(0, len(X_train.columns)):\n",
    "    \n",
    "    # this bit helps me understand where the loop is at:\n",
    "    if i % 10 == 0:  \n",
    "        print(i)\n",
    "    \n",
    "    # choose 1 feature:\n",
    "    feat_1 = X_train.columns[i]\n",
    "    \n",
    "    # check if this feature has already been identified\n",
    "    # as a duplicate of another one. If it was, it should be stored in\n",
    "    # our _duplicated_feat list.\n",
    "    \n",
    "    # If this feature was already identified as a duplicate, we skip it, if\n",
    "    # it has not yet been identified as a duplicate, then we proceed:\n",
    "    if feat_1 not in _duplicated_feat:\n",
    "    \n",
    "        # create an empty list as an entry for this feature in the dictionary:\n",
    "        duplicated_feat_pairs[feat_1] = []\n",
    "\n",
    "        # now, iterate over the remaining features of the dataset:\n",
    "        for feat_2 in X_train.columns[i + 1:]:\n",
    "\n",
    "            # check if this second feature is identical to the first one\n",
    "            if X_train[feat_1].equals(X_train[feat_2]):\n",
    "\n",
    "                # if it is identical, append it to the list in the dictionary\n",
    "                duplicated_feat_pairs[feat_1].append(feat_2)\n",
    "                \n",
    "                # and append it to our monitor list for duplicated variables\n",
    "                _duplicated_feat.append(feat_2)\n",
    "                \n",
    "                # done!"
   ]
  },
  {
   "cell_type": "code",
   "execution_count": 71,
   "metadata": {},
   "outputs": [
    {
     "data": {
      "text/plain": [
       "0"
      ]
     },
     "execution_count": 71,
     "metadata": {},
     "output_type": "execute_result"
    }
   ],
   "source": [
    "## If length is positive then we do have some duplicated features\n",
    "len(_duplicated_feat)\n",
    "# duplicated_feat_pairs"
   ]
  },
  {
   "cell_type": "code",
   "execution_count": 72,
   "metadata": {},
   "outputs": [],
   "source": [
    "import xgboost as xgb\n",
    "from sklearn.feature_selection import RFECV\n",
    "from lightgbm import LGBMClassifier\n",
    "from imblearn.under_sampling import EditedNearestNeighbours, TomekLinks\n",
    "from imblearn.over_sampling import SMOTE\n",
    "from imblearn.combine import SMOTEENN, SMOTETomek\n",
    "\n",
    "from sklearn.preprocessing import RobustScaler\n",
    "\n",
    "from sklearn.model_selection import cross_val_score\n",
    "from sklearn.model_selection import GridSearchCV, RandomizedSearchCV\n",
    "from sklearn.model_selection import StratifiedKFold\n",
    "from sklearn.metrics import plot_precision_recall_curve\n",
    "from sklearn.metrics import plot_roc_curve\n",
    "from sklearn.metrics import accuracy_score, f1_score"
   ]
  },
  {
   "cell_type": "code",
   "execution_count": 73,
   "metadata": {},
   "outputs": [],
   "source": [
    "from sklearn.feature_selection import mutual_info_classif\n",
    "from sklearn.feature_selection import SelectKBest, SelectPercentile\n",
    "from sklearn.ensemble import RandomForestClassifier\n",
    "from sklearn.feature_selection import SelectFromModel\n",
    "\n",
    "from sklearn.ensemble import GradientBoostingClassifier"
   ]
  },
  {
   "cell_type": "code",
   "execution_count": 74,
   "metadata": {},
   "outputs": [],
   "source": [
    "from feature_engine.categorical_encoders import RareLabelCategoricalEncoder\n",
    "from feature_engine.categorical_encoders import OrdinalCategoricalEncoder"
   ]
  },
  {
   "cell_type": "code",
   "execution_count": 75,
   "metadata": {},
   "outputs": [],
   "source": [
    "rare_label_encoder = RareLabelCategoricalEncoder(tol=0.03, n_categories=2,\n",
    "                                                 variables=['lda_topic_id', 'pos_class', 'neg_class', 'neu_class', 'text_year', 'text_month'])"
   ]
  },
  {
   "cell_type": "code",
   "execution_count": 76,
   "metadata": {},
   "outputs": [],
   "source": [
    "rare_label_encoder.fit(X_train)\n",
    "X_train_rlc = rare_label_encoder.transform(X_train)\n",
    "X_valid_rlc = rare_label_encoder.transform(X_valid)\n",
    "X_test_rlc = rare_label_encoder.transform(X_test)"
   ]
  },
  {
   "cell_type": "code",
   "execution_count": 77,
   "metadata": {},
   "outputs": [],
   "source": [
    "ordered_label_encoder = OrdinalCategoricalEncoder(\n",
    "    encoding_method='ordered',\n",
    "    variables=['lda_topic_id', 'pos_class', 'neg_class', 'neu_class', 'text_year', 'text_month'])"
   ]
  },
  {
   "cell_type": "code",
   "execution_count": 78,
   "metadata": {},
   "outputs": [
    {
     "data": {
      "text/plain": [
       "OrdinalCategoricalEncoder(variables=['lda_topic_id', 'pos_class', 'neg_class',\n",
       "                                     'neu_class', 'text_year', 'text_month'])"
      ]
     },
     "execution_count": 78,
     "metadata": {},
     "output_type": "execute_result"
    }
   ],
   "source": [
    "##Fit the transformer in trainset for both predictors and target labels, this is outside the above pipeline\n",
    "ordered_label_encoder.fit(X_train_rlc, y_train)"
   ]
  },
  {
   "cell_type": "code",
   "execution_count": 79,
   "metadata": {},
   "outputs": [],
   "source": [
    "##Fit the transformer to train, validation and test sets\n",
    "X_train1 = ordered_label_encoder.transform(X_train_rlc)\n",
    "X_valid1 = ordered_label_encoder.transform(X_valid_rlc)\n",
    "X_test1 = ordered_label_encoder.transform(X_test_rlc)"
   ]
  },
  {
   "cell_type": "code",
   "execution_count": 80,
   "metadata": {},
   "outputs": [],
   "source": [
    "del X_train, X_valid, X_test"
   ]
  },
  {
   "cell_type": "code",
   "execution_count": 81,
   "metadata": {},
   "outputs": [],
   "source": [
    "X_train = X_train1.copy()\n",
    "X_valid = X_valid1.copy()\n",
    "X_test = X_test1.copy()"
   ]
  },
  {
   "cell_type": "code",
   "execution_count": 82,
   "metadata": {},
   "outputs": [
    {
     "data": {
      "text/plain": [
       "((2968, 307), (743, 307), (928, 307))"
      ]
     },
     "execution_count": 82,
     "metadata": {},
     "output_type": "execute_result"
    }
   ],
   "source": [
    "X_train.shape, X_valid.shape, X_test.shape"
   ]
  },
  {
   "cell_type": "code",
   "execution_count": 83,
   "metadata": {},
   "outputs": [],
   "source": [
    "# ###RFECV using Light GBM\n",
    "# sel_ = RFECV(LGBMClassifier(boosting_type =\"gbdt\", objective = \"multiclass\", \n",
    "#                             n_estimators=500, learning_rate=0.05, num_leaves=32, colsample_bytree=0.2, \n",
    "#                             reg_alpha=3, reg_lambda=1, min_split_gain=0.01, min_child_weight=40, random_state=10, class_weight='balanced'\n",
    "#                    ),\n",
    "#              min_features_to_select=10, step=5, scoring=\"f1_micro\")\n",
    "\n",
    "# sel_.fit(X_train, y_train.values.flatten())\n",
    "\n",
    "# selected_attr_m2 = X_train.columns[(sel_.get_support())]\n",
    "# len(selected_attr_m2)"
   ]
  },
  {
   "cell_type": "code",
   "execution_count": 84,
   "metadata": {},
   "outputs": [],
   "source": [
    "sel_list = ['v_0','v_1','v_2','v_3','v_4','v_5','v_6','v_7','v_8','v_9','v_10','v_11','v_12','v_13','v_14','v_15','v_16','v_17','v_18','v_19','v_20','v_21','v_22','v_23','v_24','v_25','v_26','v_27','v_28','v_29','v_30','v_31','v_32','v_33','v_34','v_35','v_36','v_37','v_38','v_39','v_40','v_41','v_43','v_44','v_45','v_46','v_47','v_48','v_49','v_51','v_52','v_53','v_54','v_55','v_56','v_57','v_58','v_59','v_60','v_61','v_62','v_63','v_64','v_65','v_66','v_67','v_68','v_69','v_70','v_71','v_72','v_73','v_74','v_75','v_76','v_77','v_78','v_79','v_80','v_82','v_83','v_84','v_85','v_86','v_87','v_88','v_89','v_90','v_91','v_92','v_93','v_94','v_95','v_96','v_97','v_98','v_99','v_100','v_101','v_102','v_103','v_104','v_105','v_107','v_108','v_110','v_112','v_113','v_114','v_116','v_117','v_118','v_119','v_121','v_122','v_123','v_124','v_125','v_126','v_127','v_128','v_129','v_130','v_131','v_132','v_133','v_134','v_135','v_136','v_137','v_138','v_139','v_140','v_141','v_142','v_143','v_144','v_145','v_147','v_148','v_150','v_151','v_152','v_153','v_154','v_155','v_156','v_157','v_158','v_159','v_160','v_161','v_162','v_163','v_165','v_166','v_167','v_168','v_169','v_170','v_171','v_172','v_173','v_174','v_176','v_177','v_178','v_179','v_180','v_181','v_182','v_183','v_184','v_185','v_186','v_187','v_188','v_189','v_190','v_191','v_192','v_193','v_194','v_195','v_196','v_197','v_198','v_199','v_200','v_201','v_202','v_203','v_204','v_205','v_206','v_207','v_208','v_209','v_210','v_211','v_212','v_213','v_214','v_215','v_216','v_218','v_219','v_220','v_221','v_222','v_223','v_224','v_225','v_226','v_227','v_228','v_229','v_230','v_231','v_232','v_233','v_234','v_235','v_236','v_237','v_238','v_239','v_240','v_241','v_242','v_243','v_244','v_245','v_246','v_247','v_248','v_249','v_250','v_251','v_252','v_253','v_254','v_255','v_256','v_257','v_258','v_260','v_261','v_262','v_263','v_264','v_265','v_266','v_267','v_268','v_269','v_270','v_271','v_272','v_273','v_274','v_275','v_276','v_277','v_278','v_279','v_281','v_282','v_283','v_284','v_285','v_286','v_287','v_288','v_289','v_290','v_291','v_292','v_293','v_294','v_295','v_296','v_297','v_298','v_299', 'word_count', 'lda_topic_id', 'pos_class', 'neg_class', 'neu_class', 'text_year', 'text_month'\n",
    "]"
   ]
  },
  {
   "cell_type": "code",
   "execution_count": 85,
   "metadata": {},
   "outputs": [
    {
     "name": "stdout",
     "output_type": "stream",
     "text": [
      "(2968, 292) (743, 292) (928, 292)\n"
     ]
    }
   ],
   "source": [
    "X_train_ = X_train[sel_list]\n",
    "X_valid_ = X_valid[sel_list]\n",
    "X_test_ = X_test[sel_list]\n",
    "\n",
    "print(X_train_.shape, X_valid_.shape, X_test_.shape)"
   ]
  },
  {
   "cell_type": "code",
   "execution_count": 86,
   "metadata": {},
   "outputs": [],
   "source": [
    "##Import scaling module\n",
    "from sklearn.preprocessing import MinMaxScaler\n",
    "\n",
    "##Train the scaler in trainset\n",
    "sc = MinMaxScaler()\n",
    "sc.fit(X_train_)\n",
    "\n",
    "##Fit the scaler to all sets\n",
    "X_train_scaled = sc.transform(X_train_)\n",
    "X_valid_scaled = sc.transform(X_valid_)\n",
    "X_test_scaled = sc.transform(X_test_)"
   ]
  },
  {
   "cell_type": "code",
   "execution_count": 87,
   "metadata": {},
   "outputs": [],
   "source": [
    "y_train_series = pd.Series(y_train.values.flatten())\n",
    "y_valid_series = pd.Series(y_valid.values.flatten())\n",
    "y_test_series = pd.Series(y_test.values.flatten())"
   ]
  },
  {
   "cell_type": "code",
   "execution_count": 88,
   "metadata": {},
   "outputs": [],
   "source": [
    "import time"
   ]
  },
  {
   "cell_type": "code",
   "execution_count": 89,
   "metadata": {},
   "outputs": [],
   "source": [
    "from sklearn.model_selection import RepeatedStratifiedKFold"
   ]
  },
  {
   "cell_type": "code",
   "execution_count": 90,
   "metadata": {},
   "outputs": [],
   "source": [
    "from sklearn.multiclass import OneVsRestClassifier"
   ]
  },
  {
   "cell_type": "code",
   "execution_count": 91,
   "metadata": {},
   "outputs": [],
   "source": [
    "# define dataset\n",
    "# X, y = make_classification(n_samples=1000, n_features=10, n_informative=5, n_redundant=5, n_classes=3, random_state=1)\n",
    "# # define model\n",
    "# model = LogisticRegression(multi_class='ovr')\n",
    "# from sklearn.datasets import make_classification"
   ]
  },
  {
   "cell_type": "code",
   "execution_count": 92,
   "metadata": {},
   "outputs": [],
   "source": [
    "# ##Training of Random Forest\n",
    "# estimator = OneVsRestClassifier(RandomForestClassifier(class_weight='balanced'))\n",
    "# parameters = {\n",
    "#     \"estimator__n_estimators\": [1,2,4,8]\n",
    "# }\n",
    "\n",
    "# model_tunning = RandomizedSearchCV(estimator, param_distributions=parameters, scoring=\"f1_weighted\")\n",
    "\n",
    "# model_tunning.fit(X, y)\n",
    "\n",
    "# print(model_tunning.best_score_)\n",
    "# print(model_tunning.best_params_)"
   ]
  },
  {
   "cell_type": "markdown",
   "metadata": {},
   "source": [
    "**Light GBM**"
   ]
  },
  {
   "cell_type": "code",
   "execution_count": 93,
   "metadata": {},
   "outputs": [],
   "source": [
    "# ##Training of Light GBM\n",
    "# #First phase\n",
    "# estimator = LGBMClassifier(boosting_type =\"gbdt\",\n",
    "#                            objective = \"multiclass\", metric = 'multi_logloss',\n",
    "#                            random_state=10,\n",
    "#                            min_split_gain=0.01,\n",
    "#                            importance_type = \"gain\",\n",
    "#                            n_jobs=-1,\n",
    "#                            class_weight='balanced')\n",
    "\n",
    "# def lgb_parameter(X_data, y_data):\n",
    "#     learning_rate = np.arange(0.01,1,0.05)\n",
    "#     n_estimators = [int(x) for x in np.linspace(100, 1000, 200)]\n",
    "#     max_depth = [int(x) for x in np.linspace(5, 55, 11)]\n",
    "#     colsample_bytree = [0.3, 0.5, 0.8, 1.0]\n",
    "#     reg_alpha = [0, 0.5, 1, 1.5, 2]\n",
    "#     reg_lambda = [1, 1.5, 2, 3, 4.5, 5, 5.5, 6, 6.5, 7]\n",
    "#     num_leaves = np.linspace(10, 200, 10, dtype=np.int32)\n",
    "    \n",
    "#     param_grid = {'learning_rate': learning_rate,\n",
    "#                   'n_estimators': n_estimators,\n",
    "#                   'max_depth': max_depth,\n",
    "#                   'colsample_bytree' : colsample_bytree,\n",
    "#                   'reg_alpha' : reg_alpha,\n",
    "#                   'reg_lambda' : reg_lambda,\n",
    "#                   'num_boost_round' : [500], \n",
    "#                   'early_stopping_rounds' : [10],\n",
    "#                   \"num_leaves\" : num_leaves}\n",
    "    \n",
    "#     gs = RandomizedSearchCV(estimator=estimator, param_distributions=param_grid,\n",
    "#                             cv=RepeatedStratifiedKFold(n_splits=10, n_repeats=3, random_state=123),\n",
    "#                             scoring=\"f1_weighted\", random_state=123, return_train_score=True, verbose=2,\n",
    "#                             n_iter=50)\n",
    "#     gs.fit(X_data, y_data, eval_set=[(X_valid_scaled, y_valid_series)])\n",
    "#     gs.best_params_\n",
    "#     return gs.best_params_\n",
    "\n",
    "# training_start = time.perf_counter()\n",
    "# best_parameter = lgb_parameter(X_train_scaled, y_train_series)\n",
    "# print('Best parameters:', best_parameter)\n",
    "# training_end = time.perf_counter()\n",
    "# elapsed = training_end-training_start\n",
    "# print(\"Time consumed for training: %4.3f seconds\" % (elapsed))"
   ]
  },
  {
   "cell_type": "code",
   "execution_count": 94,
   "metadata": {},
   "outputs": [],
   "source": [
    "## ##Training time 7140.103 seconds=2 hours approximately\n",
    "## Best parameters: {'reg_lambda': 3, 'reg_alpha': 1, 'num_leaves': 10, 'num_boost_round': 500, 'n_estimators': 339, 'max_depth': 30, 'learning_rate': 0.060000000000000005, 'early_stopping_rounds': 10, 'colsample_bytree': 0.3}\n",
    "# Time consumed for training: 7140.103 seconds"
   ]
  },
  {
   "cell_type": "code",
   "execution_count": 95,
   "metadata": {},
   "outputs": [],
   "source": [
    "estimator1 = LGBMClassifier(boosting_type =\"gbdt\", objective = \"multiclass\", metric = 'multi_logloss',\n",
    "                            random_state=10, min_split_gain=0.01, importance_type = \"gain\",\n",
    "                            n_jobs=-1, reg_alpha=1, reg_lambda=3, num_leaves=10, \n",
    "                            n_estimators=339, max_depth=30, learning_rate=0.060000000000000005, colsample_bytree=0.3,\n",
    "                            class_weight='balanced',\n",
    "                            num_classes = 4)"
   ]
  },
  {
   "cell_type": "code",
   "execution_count": 96,
   "metadata": {},
   "outputs": [
    {
     "data": {
      "text/plain": [
       "LGBMClassifier(class_weight='balanced', colsample_bytree=0.3,\n",
       "               importance_type='gain', learning_rate=0.060000000000000005,\n",
       "               max_depth=30, metric='multi_logloss', min_split_gain=0.01,\n",
       "               n_estimators=339, num_classes=4, num_leaves=10,\n",
       "               objective='multiclass', random_state=10, reg_alpha=1,\n",
       "               reg_lambda=3)"
      ]
     },
     "execution_count": 96,
     "metadata": {},
     "output_type": "execute_result"
    }
   ],
   "source": [
    "estimator1.fit(X_train_scaled, y_train_series)"
   ]
  },
  {
   "cell_type": "code",
   "execution_count": 97,
   "metadata": {},
   "outputs": [],
   "source": [
    "from sklearn import metrics\n",
    "from sklearn.metrics import precision_recall_curve, roc_curve, classification_report\n",
    "from sklearn.calibration import CalibratedClassifierCV"
   ]
  },
  {
   "cell_type": "code",
   "execution_count": 98,
   "metadata": {},
   "outputs": [
    {
     "name": "stdout",
     "output_type": "stream",
     "text": [
      "              precision    recall  f1-score   support\n",
      "\n",
      "           0      0.538     0.488     0.512        43\n",
      "           1      0.200     0.067     0.100        15\n",
      "           2      0.394     0.295     0.338        44\n",
      "           3      0.923     0.959     0.941       641\n",
      "\n",
      "    accuracy                          0.875       743\n",
      "   macro avg      0.514     0.452     0.473       743\n",
      "weighted avg      0.855     0.875     0.864       743\n",
      "\n"
     ]
    }
   ],
   "source": [
    "y_pred_valid = estimator1.predict(X_valid_scaled)\n",
    "print(metrics.classification_report(y_valid_series, y_pred_valid, digits=3))"
   ]
  },
  {
   "cell_type": "code",
   "execution_count": 99,
   "metadata": {},
   "outputs": [],
   "source": [
    "cmat = metrics.classification_report(y_valid_series, y_pred_valid, digits=3, output_dict=True)\n",
    "cmat_df = pd.DataFrame(cmat).transpose()"
   ]
  },
  {
   "cell_type": "code",
   "execution_count": 100,
   "metadata": {},
   "outputs": [],
   "source": [
    "e1_valid_cal_macroavg = cmat_df[cmat_df.index.isin(['macro avg'])]['f1-score'].values\n",
    "e1_valid_cal_wavg = cmat_df[cmat_df.index.isin(['weighted avg'])]['f1-score'].values"
   ]
  },
  {
   "cell_type": "code",
   "execution_count": 101,
   "metadata": {},
   "outputs": [
    {
     "name": "stdout",
     "output_type": "stream",
     "text": [
      "0.5121951219512196 0.1 0.3376623376623376 0.9410864575363428\n"
     ]
    }
   ],
   "source": [
    "e1_valid_cal_perclass = cmat_df.iloc[:4, 2]\n",
    "\n",
    "print(e1_valid_cal_perclass[0], e1_valid_cal_perclass[1], e1_valid_cal_perclass[2], e1_valid_cal_perclass[3])"
   ]
  },
  {
   "cell_type": "code",
   "execution_count": 102,
   "metadata": {},
   "outputs": [
    {
     "name": "stdout",
     "output_type": "stream",
     "text": [
      "[0.47273598] [0.86355041]\n"
     ]
    }
   ],
   "source": [
    "print(e1_valid_cal_macroavg, e1_valid_cal_wavg)\n",
    "del cmat, cmat_df"
   ]
  },
  {
   "cell_type": "code",
   "execution_count": 103,
   "metadata": {},
   "outputs": [],
   "source": [
    "# cal_clf = CalibratedClassifierCV(estimator1, method=\"sigmoid\", cv=\"prefit\")\n",
    "# cal_clf.fit(X_valid_scaled, y_valid_series)\n",
    "\n",
    "# y_pred_valid_cal = cal_clf.predict(X_valid_scaled)\n",
    "# print(metrics.classification_report(y_valid_series, y_pred_valid_cal, digits=3))"
   ]
  },
  {
   "cell_type": "code",
   "execution_count": 104,
   "metadata": {},
   "outputs": [
    {
     "name": "stdout",
     "output_type": "stream",
     "text": [
      "              precision    recall  f1-score   support\n",
      "\n",
      "           0      0.536     0.556     0.545        54\n",
      "           1      0.100     0.056     0.071        18\n",
      "           2      0.476     0.357     0.408        56\n",
      "           3      0.930     0.954     0.942       800\n",
      "\n",
      "    accuracy                          0.877       928\n",
      "   macro avg      0.511     0.481     0.492       928\n",
      "weighted avg      0.864     0.877     0.870       928\n",
      "\n"
     ]
    }
   ],
   "source": [
    "y_pred_test = estimator1.predict(X_test_scaled)\n",
    "print(metrics.classification_report(y_test_series, y_pred_test, digits=3))"
   ]
  },
  {
   "cell_type": "code",
   "execution_count": 105,
   "metadata": {},
   "outputs": [],
   "source": [
    "# y_pred_test_cal = cal_clf.predict(X_test_scaled)\n",
    "# print(metrics.classification_report(y_test_series, y_pred_test_cal, digits=3))"
   ]
  },
  {
   "cell_type": "code",
   "execution_count": 106,
   "metadata": {},
   "outputs": [],
   "source": [
    "cmat = metrics.classification_report(y_test_series, y_pred_test, digits=3, output_dict=True)\n",
    "cmat_df = pd.DataFrame(cmat).transpose()"
   ]
  },
  {
   "cell_type": "code",
   "execution_count": 107,
   "metadata": {},
   "outputs": [],
   "source": [
    "e1_test_cal_macroavg = cmat_df[cmat_df.index.isin(['macro avg'])]['f1-score'].values\n",
    "e1_test_cal_wavg = cmat_df[cmat_df.index.isin(['weighted avg'])]['f1-score'].values"
   ]
  },
  {
   "cell_type": "code",
   "execution_count": 108,
   "metadata": {},
   "outputs": [
    {
     "name": "stdout",
     "output_type": "stream",
     "text": [
      "0.5454545454545454 0.07142857142857142 0.40816326530612246 0.9419753086419754\n"
     ]
    }
   ],
   "source": [
    "e1_test_cal_perclass = cmat_df.iloc[:4, 2]\n",
    "\n",
    "print(e1_test_cal_perclass[0], e1_test_cal_perclass[1], e1_test_cal_perclass[2], e1_test_cal_perclass[3])"
   ]
  },
  {
   "cell_type": "code",
   "execution_count": 109,
   "metadata": {},
   "outputs": [
    {
     "name": "stdout",
     "output_type": "stream",
     "text": [
      "[0.49175542] [0.8698035]\n"
     ]
    }
   ],
   "source": [
    "print(e1_test_cal_macroavg, e1_test_cal_wavg)\n",
    "del cmat, cmat_df"
   ]
  },
  {
   "cell_type": "markdown",
   "metadata": {},
   "source": [
    "**Random Forest**"
   ]
  },
  {
   "cell_type": "code",
   "execution_count": 110,
   "metadata": {},
   "outputs": [],
   "source": [
    "# ##Training of Random Forest\n",
    "# estimator = RandomForestClassifier(criterion='gini',\n",
    "#                                    max_features='auto',\n",
    "#                                    random_state=100,\n",
    "#                                    n_jobs=-1,class_weight='balanced')\n",
    "\n",
    "# def rf_parameter(X_data, y_data):\n",
    "#     n_estimators = [int(x) for x in np.linspace(100, 1000, 200)]\n",
    "#     max_depth = [int(x) for x in np.linspace(5, 110, 11)]\n",
    "#     max_features = ['auto', 'sqrt']\n",
    "#     min_samples_split = [2, 5, 10]\n",
    "#     min_samples_leaf = [1, 2, 4]\n",
    "#     bootstrap = [True, False]\n",
    "\n",
    "#     param_grid = {'n_estimators': n_estimators,\n",
    "#                   'max_depth': max_depth,\n",
    "#                   'max_features': max_features,\n",
    "#                   'min_samples_split' : min_samples_split,\n",
    "#                   'min_samples_leaf' : min_samples_leaf,\n",
    "#                   'bootstrap' : bootstrap}\n",
    "    \n",
    "#     gs = RandomizedSearchCV(estimator=estimator, param_distributions=param_grid,\n",
    "#                             cv=RepeatedStratifiedKFold(n_splits=10, n_repeats=3, random_state=123),\n",
    "#                             scoring=\"f1_weighted\", random_state=123, return_train_score=True, verbose=2,\n",
    "#                             n_iter=50)\n",
    "#     gs.fit(X_data, y_data)\n",
    "#     gs.best_params_\n",
    "#     return gs.best_params_\n",
    "\n",
    "# training_start = time.perf_counter()\n",
    "# best_parameter = rf_parameter(X_train_scaled, y_train_series)\n",
    "# print('Best parameters:', best_parameter)\n",
    "# training_end = time.perf_counter()\n",
    "# elapsed = training_end-training_start\n",
    "# print(\"Time consumed for training: %4.3f seconds\" % (elapsed))"
   ]
  },
  {
   "cell_type": "code",
   "execution_count": 111,
   "metadata": {},
   "outputs": [],
   "source": [
    "## ##Training time 11798.187 seconds=3.5 hours approximately\n",
    "####Best parameters: {'n_estimators': 240, 'min_samples_split': 2, 'min_samples_leaf': 4, 'max_features': 'auto', 'max_depth': 47, 'bootstrap': True}"
   ]
  },
  {
   "cell_type": "code",
   "execution_count": 112,
   "metadata": {},
   "outputs": [],
   "source": [
    "estimator2 = RandomForestClassifier(criterion='gini', max_features='auto', random_state=100,\n",
    "                                   n_estimators = 240, min_samples_split = 2, min_samples_leaf = 4,\n",
    "                                   max_depth = 47, bootstrap = True,\n",
    "                                   n_jobs=-1, class_weight='balanced')"
   ]
  },
  {
   "cell_type": "code",
   "execution_count": 113,
   "metadata": {},
   "outputs": [
    {
     "data": {
      "text/plain": [
       "RandomForestClassifier(class_weight='balanced', max_depth=47,\n",
       "                       min_samples_leaf=4, n_estimators=240, n_jobs=-1,\n",
       "                       random_state=100)"
      ]
     },
     "execution_count": 113,
     "metadata": {},
     "output_type": "execute_result"
    }
   ],
   "source": [
    "estimator2.fit(X_train_scaled, y_train_series)"
   ]
  },
  {
   "cell_type": "code",
   "execution_count": 114,
   "metadata": {},
   "outputs": [
    {
     "name": "stdout",
     "output_type": "stream",
     "text": [
      "              precision    recall  f1-score   support\n",
      "\n",
      "           0      0.581     0.419     0.486        43\n",
      "           1      0.000     0.000     0.000        15\n",
      "           2      0.545     0.136     0.218        44\n",
      "           3      0.899     0.981     0.938       641\n",
      "\n",
      "    accuracy                          0.879       743\n",
      "   macro avg      0.506     0.384     0.411       743\n",
      "weighted avg      0.841     0.879     0.850       743\n",
      "\n"
     ]
    }
   ],
   "source": [
    "cal_clf = CalibratedClassifierCV(estimator2, method=\"sigmoid\", cv=\"prefit\")\n",
    "cal_clf.fit(X_valid_scaled, y_valid_series)\n",
    "y_pred_valid_cal = cal_clf.predict(X_valid_scaled)\n",
    "print(metrics.classification_report(y_valid_series, y_pred_valid_cal, digits=3))"
   ]
  },
  {
   "cell_type": "code",
   "execution_count": 115,
   "metadata": {},
   "outputs": [],
   "source": [
    "cmat = metrics.classification_report(y_valid_series, y_pred_valid_cal, digits=3, output_dict=True)\n",
    "cmat_df = pd.DataFrame(cmat).transpose()"
   ]
  },
  {
   "cell_type": "code",
   "execution_count": 116,
   "metadata": {},
   "outputs": [],
   "source": [
    "e2_valid_cal_macroavg = cmat_df[cmat_df.index.isin(['macro avg'])]['f1-score'].values\n",
    "e2_valid_cal_wavg = cmat_df[cmat_df.index.isin(['weighted avg'])]['f1-score'].values"
   ]
  },
  {
   "cell_type": "code",
   "execution_count": 117,
   "metadata": {},
   "outputs": [
    {
     "name": "stdout",
     "output_type": "stream",
     "text": [
      "0.4864864864864865 0.0 0.21818181818181817 0.9381058911260254\n"
     ]
    }
   ],
   "source": [
    "e2_valid_cal_perclass = cmat_df.iloc[:4, 2]\n",
    "\n",
    "print(e2_valid_cal_perclass[0], e2_valid_cal_perclass[1], e2_valid_cal_perclass[2], e2_valid_cal_perclass[3])"
   ]
  },
  {
   "cell_type": "code",
   "execution_count": 118,
   "metadata": {},
   "outputs": [
    {
     "name": "stdout",
     "output_type": "stream",
     "text": [
      "[0.41069355] [0.85039676]\n"
     ]
    }
   ],
   "source": [
    "print(e2_valid_cal_macroavg, e2_valid_cal_wavg)\n",
    "del cmat, cmat_df"
   ]
  },
  {
   "cell_type": "code",
   "execution_count": 119,
   "metadata": {},
   "outputs": [
    {
     "name": "stdout",
     "output_type": "stream",
     "text": [
      "              precision    recall  f1-score   support\n",
      "\n",
      "           0      0.595     0.463     0.521        54\n",
      "           1      0.000     0.000     0.000        18\n",
      "           2      0.556     0.179     0.270        56\n",
      "           3      0.910     0.986     0.947       800\n",
      "\n",
      "    accuracy                          0.888       928\n",
      "   macro avg      0.515     0.407     0.434       928\n",
      "weighted avg      0.853     0.888     0.863       928\n",
      "\n"
     ]
    }
   ],
   "source": [
    "y_pred_test_cal = cal_clf.predict(X_test_scaled)\n",
    "print(metrics.classification_report(y_test_series, y_pred_test_cal, digits=3))"
   ]
  },
  {
   "cell_type": "code",
   "execution_count": 120,
   "metadata": {},
   "outputs": [],
   "source": [
    "cmat = metrics.classification_report(y_test_series, y_pred_test_cal, digits=3, output_dict=True)\n",
    "cmat_df = pd.DataFrame(cmat).transpose()"
   ]
  },
  {
   "cell_type": "code",
   "execution_count": 121,
   "metadata": {},
   "outputs": [],
   "source": [
    "e2_test_cal_macroavg = cmat_df[cmat_df.index.isin(['macro avg'])]['f1-score'].values\n",
    "e2_test_cal_wavg = cmat_df[cmat_df.index.isin(['weighted avg'])]['f1-score'].values"
   ]
  },
  {
   "cell_type": "code",
   "execution_count": 122,
   "metadata": {},
   "outputs": [
    {
     "name": "stdout",
     "output_type": "stream",
     "text": [
      "0.5208333333333334 0.0 0.2702702702702703 0.9466106778644271\n"
     ]
    }
   ],
   "source": [
    "e2_test_cal_perclass = cmat_df.iloc[:4, 2]\n",
    "\n",
    "print(e2_test_cal_perclass[0], e2_test_cal_perclass[1], e2_test_cal_perclass[2], e2_test_cal_perclass[3])"
   ]
  },
  {
   "cell_type": "code",
   "execution_count": 123,
   "metadata": {},
   "outputs": [
    {
     "name": "stdout",
     "output_type": "stream",
     "text": [
      "[0.43442857] [0.86266021]\n"
     ]
    }
   ],
   "source": [
    "print(e2_test_cal_macroavg, e2_test_cal_wavg)\n",
    "del cmat, cmat_df"
   ]
  },
  {
   "cell_type": "markdown",
   "metadata": {},
   "source": [
    "**SVC**"
   ]
  },
  {
   "cell_type": "code",
   "execution_count": 124,
   "metadata": {},
   "outputs": [],
   "source": [
    "from sklearn.svm import SVC"
   ]
  },
  {
   "cell_type": "code",
   "execution_count": 125,
   "metadata": {},
   "outputs": [],
   "source": [
    "# ###Training of Support Vector Classifier\n",
    "# estimator = SVC(random_state=100, decision_function_shape='ovo', class_weight='balanced')\n",
    "\n",
    "# def svc_parameter(X_data, y_data):\n",
    "#     C = [1,10,100,1000]\n",
    "#     gamma = [1,0.1,0.001,0.0001]\n",
    "#     kernel = ['linear','rbf']\n",
    "\n",
    "#     param_grid = {'C': C,\n",
    "#                   'gamma': gamma,\n",
    "#                   'kernel' : kernel}\n",
    "    \n",
    "#     gs = RandomizedSearchCV(estimator=estimator, param_distributions=param_grid,\n",
    "#                             cv=RepeatedStratifiedKFold(n_splits=10, n_repeats=3, random_state=123),\n",
    "#                             scoring=\"f1_weighted\", random_state=123, return_train_score=True, verbose=2,\n",
    "#                             n_iter=50)\n",
    "#     gs.fit(X_data, y_data)\n",
    "#     gs.best_params_\n",
    "#     return gs.best_params_\n",
    "\n",
    "# training_start = time.perf_counter()\n",
    "# best_parameter = svc_parameter(X_train_scaled, y_train_series)\n",
    "# print('Best parameters:', best_parameter)\n",
    "# training_end = time.perf_counter()\n",
    "# elapsed = training_end-training_start\n",
    "# print(\"Time consumed for training: %4.3f seconds\" % (elapsed))"
   ]
  },
  {
   "cell_type": "code",
   "execution_count": 126,
   "metadata": {},
   "outputs": [],
   "source": [
    "## ##Training time 7618.477 seconds=2 hours approximately\n",
    "##Best parameters: {'kernel': 'rbf', 'gamma': 0.1, 'C': 100}"
   ]
  },
  {
   "cell_type": "code",
   "execution_count": 127,
   "metadata": {},
   "outputs": [],
   "source": [
    "estimator3 = SVC(random_state=100, kernel='rbf', gamma=0.1, C=100, class_weight='balanced', decision_function_shape='ovo')"
   ]
  },
  {
   "cell_type": "code",
   "execution_count": 128,
   "metadata": {},
   "outputs": [
    {
     "data": {
      "text/plain": [
       "SVC(C=100, class_weight='balanced', decision_function_shape='ovo', gamma=0.1,\n",
       "    random_state=100)"
      ]
     },
     "execution_count": 128,
     "metadata": {},
     "output_type": "execute_result"
    }
   ],
   "source": [
    "estimator3.fit(X_train_scaled, y_train_series)"
   ]
  },
  {
   "cell_type": "code",
   "execution_count": 129,
   "metadata": {},
   "outputs": [
    {
     "name": "stdout",
     "output_type": "stream",
     "text": [
      "              precision    recall  f1-score   support\n",
      "\n",
      "           0      0.341     0.349     0.345        43\n",
      "           1      0.000     0.000     0.000        15\n",
      "           2      0.282     0.250     0.265        44\n",
      "           3      0.923     0.936     0.930       641\n",
      "\n",
      "    accuracy                          0.843       743\n",
      "   macro avg      0.387     0.384     0.385       743\n",
      "weighted avg      0.833     0.843     0.838       743\n",
      "\n"
     ]
    }
   ],
   "source": [
    "y_pred_valid = estimator3.predict(X_valid_scaled)\n",
    "print(metrics.classification_report(y_valid_series, y_pred_valid, digits=3))"
   ]
  },
  {
   "cell_type": "code",
   "execution_count": 130,
   "metadata": {},
   "outputs": [],
   "source": [
    "cmat = metrics.classification_report(y_valid_series, y_pred_valid, digits=3, output_dict=True)\n",
    "cmat_df = pd.DataFrame(cmat).transpose()"
   ]
  },
  {
   "cell_type": "code",
   "execution_count": 131,
   "metadata": {},
   "outputs": [],
   "source": [
    "e3_valid_cal_macroavg = cmat_df[cmat_df.index.isin(['macro avg'])]['f1-score'].values\n",
    "e3_valid_cal_wavg = cmat_df[cmat_df.index.isin(['weighted avg'])]['f1-score'].values"
   ]
  },
  {
   "cell_type": "code",
   "execution_count": 132,
   "metadata": {},
   "outputs": [
    {
     "name": "stdout",
     "output_type": "stream",
     "text": [
      "0.3448275862068966 0.0 0.26506024096385544 0.9295120061967468\n"
     ]
    }
   ],
   "source": [
    "e3_valid_cal_perclass = cmat_df.iloc[:4, 2]\n",
    "\n",
    "print(e3_valid_cal_perclass[0], e3_valid_cal_perclass[1], e3_valid_cal_perclass[2], e3_valid_cal_perclass[3])"
   ]
  },
  {
   "cell_type": "code",
   "execution_count": 133,
   "metadata": {},
   "outputs": [
    {
     "name": "stdout",
     "output_type": "stream",
     "text": [
      "[0.38484996] [0.83756047]\n"
     ]
    }
   ],
   "source": [
    "print(e3_valid_cal_macroavg, e3_valid_cal_wavg)\n",
    "del cmat, cmat_df"
   ]
  },
  {
   "cell_type": "code",
   "execution_count": 134,
   "metadata": {},
   "outputs": [
    {
     "name": "stdout",
     "output_type": "stream",
     "text": [
      "              precision    recall  f1-score   support\n",
      "\n",
      "           0      0.469     0.556     0.508        54\n",
      "           1      0.000     0.000     0.000        18\n",
      "           2      0.277     0.321     0.298        56\n",
      "           3      0.935     0.915     0.925       800\n",
      "\n",
      "    accuracy                          0.841       928\n",
      "   macro avg      0.420     0.448     0.433       928\n",
      "weighted avg      0.850     0.841     0.845       928\n",
      "\n"
     ]
    }
   ],
   "source": [
    "y_pred_test = estimator3.predict(X_test_scaled)\n",
    "print(metrics.classification_report(y_test_series, y_pred_test, digits=3))"
   ]
  },
  {
   "cell_type": "code",
   "execution_count": 135,
   "metadata": {},
   "outputs": [],
   "source": [
    "cmat = metrics.classification_report(y_test_series, y_pred_test, digits=3, output_dict=True)\n",
    "cmat_df = pd.DataFrame(cmat).transpose()"
   ]
  },
  {
   "cell_type": "code",
   "execution_count": 136,
   "metadata": {},
   "outputs": [],
   "source": [
    "e3_test_cal_macroavg = cmat_df[cmat_df.index.isin(['macro avg'])]['f1-score'].values\n",
    "e3_test_cal_wavg = cmat_df[cmat_df.index.isin(['weighted avg'])]['f1-score'].values"
   ]
  },
  {
   "cell_type": "code",
   "execution_count": 137,
   "metadata": {},
   "outputs": [
    {
     "name": "stdout",
     "output_type": "stream",
     "text": [
      "0.5084745762711864 0.0 0.2975206611570248 0.9248262792166773\n"
     ]
    }
   ],
   "source": [
    "e3_test_cal_perclass = cmat_df.iloc[:4, 2]\n",
    "\n",
    "print(e3_test_cal_perclass[0], e3_test_cal_perclass[1], e3_test_cal_perclass[2], e3_test_cal_perclass[3])"
   ]
  },
  {
   "cell_type": "code",
   "execution_count": 138,
   "metadata": {},
   "outputs": [
    {
     "name": "stdout",
     "output_type": "stream",
     "text": [
      "[0.43270538] [0.84480583]\n"
     ]
    }
   ],
   "source": [
    "print(e3_test_cal_macroavg, e3_test_cal_wavg)\n",
    "del cmat, cmat_df"
   ]
  },
  {
   "cell_type": "code",
   "execution_count": 139,
   "metadata": {},
   "outputs": [],
   "source": [
    "# cal_clf = CalibratedClassifierCV(estimator3, method=\"sigmoid\", cv=\"prefit\")\n",
    "# cal_clf.fit(X_valid_scaled, y_valid_series)\n",
    "# y_pred_valid_cal = cal_clf.predict(X_valid_scaled)\n",
    "# print(metrics.classification_report(y_valid_series, y_pred_valid_cal, digits=3))"
   ]
  },
  {
   "cell_type": "code",
   "execution_count": 140,
   "metadata": {},
   "outputs": [],
   "source": [
    "# y_pred_test_cal = cal_clf.predict(X_test_scaled)\n",
    "# print(metrics.classification_report(y_test_series, y_pred_test_cal, digits=3))"
   ]
  },
  {
   "cell_type": "markdown",
   "metadata": {},
   "source": [
    "**Multinomial Naive Bayes Classifier**"
   ]
  },
  {
   "cell_type": "code",
   "execution_count": 141,
   "metadata": {},
   "outputs": [
    {
     "data": {
      "text/plain": [
       "array([0, 1, 2, 3], dtype=int64)"
      ]
     },
     "execution_count": 141,
     "metadata": {},
     "output_type": "execute_result"
    }
   ],
   "source": [
    "from sklearn.naive_bayes import MultinomialNB\n",
    "from sklearn.utils import class_weight\n",
    "all_together = y_train_series.to_numpy()\n",
    "unique_classes = np.unique(y_train_series)\n",
    "\n",
    "unique_classes"
   ]
  },
  {
   "cell_type": "code",
   "execution_count": 142,
   "metadata": {},
   "outputs": [
    {
     "data": {
      "text/plain": [
       "array([ 4.28901734, 12.57627119,  4.1920904 ,  0.28995701])"
      ]
     },
     "execution_count": 142,
     "metadata": {},
     "output_type": "execute_result"
    }
   ],
   "source": [
    "c_w = class_weight.compute_class_weight('balanced', unique_classes, all_together)\n",
    "\n",
    "c_w"
   ]
  },
  {
   "cell_type": "code",
   "execution_count": 143,
   "metadata": {},
   "outputs": [],
   "source": [
    "# ##Training of Gaussian NB\n",
    "# np.random.seed(999)\n",
    "# estimator = MultinomialNB()\n",
    "\n",
    "# def gnb_parameter(X_data, y_data):\n",
    "#     var_smoothing = np.logspace(0,-9, num=100)\n",
    "\n",
    "#     param_grid = {'alpha': var_smoothing}\n",
    "    \n",
    "#     gs = RandomizedSearchCV(estimator=estimator, param_distributions=param_grid,\n",
    "#                             cv=RepeatedStratifiedKFold(n_splits=10, n_repeats=3, random_state=123),\n",
    "#                             scoring=\"f1_weighted\", random_state=123, return_train_score=True, verbose=2,\n",
    "#                             n_iter=50)\n",
    "#     gs.fit(X_data, y_data, sample_weight=[c_w[i] for i in all_together])\n",
    "#     gs.best_params_\n",
    "#     return gs.best_params_\n",
    "\n",
    "# training_start = time.perf_counter()\n",
    "# best_parameter = gnb_parameter(X_train_scaled, y_train_series)\n",
    "# print('Best parameters:', best_parameter)\n",
    "# training_end = time.perf_counter()\n",
    "# elapsed = training_end-training_start\n",
    "# print(\"Time consumed for training: %4.3f seconds\" % (elapsed))"
   ]
  },
  {
   "cell_type": "code",
   "execution_count": 144,
   "metadata": {},
   "outputs": [],
   "source": [
    "# Best parameters: {'estimator__alpha': 0.1873817422860384}"
   ]
  },
  {
   "cell_type": "code",
   "execution_count": 145,
   "metadata": {},
   "outputs": [],
   "source": [
    "np.random.seed(999)\n",
    "estimator4 = MultinomialNB(alpha=0.1873817422860384)"
   ]
  },
  {
   "cell_type": "code",
   "execution_count": 146,
   "metadata": {},
   "outputs": [
    {
     "data": {
      "text/plain": [
       "MultinomialNB(alpha=0.1873817422860384)"
      ]
     },
     "execution_count": 146,
     "metadata": {},
     "output_type": "execute_result"
    }
   ],
   "source": [
    "estimator4.fit(X_train_scaled, y_train_series, sample_weight=[c_w[i] for i in all_together])"
   ]
  },
  {
   "cell_type": "code",
   "execution_count": 147,
   "metadata": {},
   "outputs": [
    {
     "name": "stdout",
     "output_type": "stream",
     "text": [
      "              precision    recall  f1-score   support\n",
      "\n",
      "           0      0.236     0.581     0.336        43\n",
      "           1      0.045     0.200     0.074        15\n",
      "           2      0.173     0.591     0.268        44\n",
      "           3      0.981     0.644     0.778       641\n",
      "\n",
      "    accuracy                          0.629       743\n",
      "   macro avg      0.359     0.504     0.364       743\n",
      "weighted avg      0.871     0.629     0.708       743\n",
      "\n"
     ]
    }
   ],
   "source": [
    "y_pred_valid = estimator4.predict(X_valid_scaled)\n",
    "print(metrics.classification_report(y_valid_series, y_pred_valid, digits=3))"
   ]
  },
  {
   "cell_type": "code",
   "execution_count": 148,
   "metadata": {},
   "outputs": [],
   "source": [
    "cmat = metrics.classification_report(y_valid_series, y_pred_valid, digits=3, output_dict=True)\n",
    "cmat_df = pd.DataFrame(cmat).transpose()"
   ]
  },
  {
   "cell_type": "code",
   "execution_count": 149,
   "metadata": {},
   "outputs": [],
   "source": [
    "e4_valid_cal_macroavg = cmat_df[cmat_df.index.isin(['macro avg'])]['f1-score'].values\n",
    "e4_valid_cal_wavg = cmat_df[cmat_df.index.isin(['weighted avg'])]['f1-score'].values"
   ]
  },
  {
   "cell_type": "code",
   "execution_count": 150,
   "metadata": {},
   "outputs": [
    {
     "name": "stdout",
     "output_type": "stream",
     "text": [
      "0.33557046979865773 0.07407407407407407 0.26804123711340205 0.7777777777777778\n"
     ]
    }
   ],
   "source": [
    "e4_valid_cal_perclass = cmat_df.iloc[:4, 2]\n",
    "\n",
    "print(e4_valid_cal_perclass[0], e4_valid_cal_perclass[1], e4_valid_cal_perclass[2], e4_valid_cal_perclass[3])"
   ]
  },
  {
   "cell_type": "code",
   "execution_count": 151,
   "metadata": {},
   "outputs": [
    {
     "name": "stdout",
     "output_type": "stream",
     "text": [
      "[0.36386589] [0.70779275]\n"
     ]
    }
   ],
   "source": [
    "print(e4_valid_cal_macroavg, e4_valid_cal_wavg)\n",
    "del cmat, cmat_df"
   ]
  },
  {
   "cell_type": "code",
   "execution_count": 152,
   "metadata": {},
   "outputs": [],
   "source": [
    "# cal_clf = CalibratedClassifierCV(estimator4, method=\"sigmoid\", cv=\"prefit\", )\n",
    "# cal_clf.fit(X_valid_scaled, y_valid_series)\n",
    "# y_pred_valid_cal = cal_clf.predict(X_valid_scaled)\n",
    "# print(metrics.classification_report(y_valid_series, y_pred_valid_cal, digits=3))"
   ]
  },
  {
   "cell_type": "code",
   "execution_count": 153,
   "metadata": {},
   "outputs": [
    {
     "name": "stdout",
     "output_type": "stream",
     "text": [
      "              precision    recall  f1-score   support\n",
      "\n",
      "           0      0.311     0.685     0.428        54\n",
      "           1      0.045     0.222     0.075        18\n",
      "           2      0.155     0.536     0.241        56\n",
      "           3      0.979     0.646     0.779       800\n",
      "\n",
      "    accuracy                          0.634       928\n",
      "   macro avg      0.373     0.522     0.381       928\n",
      "weighted avg      0.872     0.634     0.712       928\n",
      "\n"
     ]
    }
   ],
   "source": [
    "y_pred_test = estimator4.predict(X_test_scaled)\n",
    "print(metrics.classification_report(y_test_series, y_pred_test, digits=3))"
   ]
  },
  {
   "cell_type": "code",
   "execution_count": 154,
   "metadata": {},
   "outputs": [],
   "source": [
    "# y_pred_test_cal = cal_clf.predict(X_test_scaled)\n",
    "# print(metrics.classification_report(y_test_series, y_pred_test_cal, digits=3))"
   ]
  },
  {
   "cell_type": "code",
   "execution_count": 155,
   "metadata": {},
   "outputs": [],
   "source": [
    "cmat = metrics.classification_report(y_test_series, y_pred_test, digits=3, output_dict=True)\n",
    "cmat_df = pd.DataFrame(cmat).transpose()"
   ]
  },
  {
   "cell_type": "code",
   "execution_count": 156,
   "metadata": {},
   "outputs": [],
   "source": [
    "e4_test_cal_macroavg = cmat_df[cmat_df.index.isin(['macro avg'])]['f1-score'].values\n",
    "e4_test_cal_wavg = cmat_df[cmat_df.index.isin(['weighted avg'])]['f1-score'].values"
   ]
  },
  {
   "cell_type": "code",
   "execution_count": 157,
   "metadata": {},
   "outputs": [
    {
     "name": "stdout",
     "output_type": "stream",
     "text": [
      "0.4277456647398844 0.07547169811320754 0.24096385542168677 0.7786144578313252\n"
     ]
    }
   ],
   "source": [
    "e4_test_cal_perclass = cmat_df.iloc[:4, 2]\n",
    "\n",
    "print(e4_test_cal_perclass[0], e4_test_cal_perclass[1], e4_test_cal_perclass[2], e4_test_cal_perclass[3])"
   ]
  },
  {
   "cell_type": "code",
   "execution_count": 158,
   "metadata": {},
   "outputs": [
    {
     "name": "stdout",
     "output_type": "stream",
     "text": [
      "[0.38069892] [0.71211455]\n"
     ]
    }
   ],
   "source": [
    "print(e4_test_cal_macroavg, e4_test_cal_wavg)\n",
    "del cmat, cmat_df"
   ]
  },
  {
   "cell_type": "markdown",
   "metadata": {},
   "source": [
    "**Comparisons**"
   ]
  },
  {
   "cell_type": "code",
   "execution_count": 159,
   "metadata": {},
   "outputs": [],
   "source": [
    "Model = [\"LightGBM\", \"LightGBM\", \"LightGBM\", \"LightGBM\",\n",
    "         \"RandomForest\", \"RandomForest\", \"RandomForest\", \"RandomForest\",\n",
    "         \"SVC\", \"SVC\", \"SVC\", \"SVC\",\n",
    "         \"MultinomialNB\", \"MultinomialNB\", \"MultinomialNB\", \"MultinomialNB\"]\n",
    "\n",
    "Set = [\"Validation\", \"Validation\", \"Test\", \"Test\",\n",
    "       \"Validation\", \"Validation\", \"Test\", \"Test\",\n",
    "       \"Validation\", \"Validation\", \"Test\", \"Test\",\n",
    "       \"Validation\", \"Validation\", \"Test\", \"Test\"]\n",
    "\n",
    "Measure = [\"Macro-Avgerage\", \"Weighted-Average\", \"Macro-Avgerage\", \"Weighted-Average\",\n",
    "           \"Macro-Avgerage\", \"Weighted-Average\", \"Macro-Avgerage\", \"Weighted-Average\",\n",
    "           \"Macro-Avgerage\", \"Weighted-Average\", \"Macro-Avgerage\", \"Weighted-Average\",\n",
    "           \"Macro-Avgerage\", \"Weighted-Average\", \"Macro-Avgerage\", \"Weighted-Average\"]\n",
    "\n",
    "Score = [e1_valid_cal_macroavg, e1_valid_cal_wavg, e1_test_cal_macroavg, e1_test_cal_wavg,\n",
    "         e2_valid_cal_macroavg, e2_valid_cal_wavg, e2_test_cal_macroavg, e2_test_cal_wavg,\n",
    "         e3_valid_cal_macroavg, e3_valid_cal_wavg, e3_test_cal_macroavg, e3_test_cal_wavg,\n",
    "         e4_valid_cal_macroavg, e4_valid_cal_wavg, e4_test_cal_macroavg, e4_test_cal_wavg]"
   ]
  },
  {
   "cell_type": "code",
   "execution_count": 160,
   "metadata": {},
   "outputs": [],
   "source": [
    "plot_data = pd.DataFrame([Model, Set, Measure, Score]).transpose()\n",
    "plot_data.columns = [\"Method\", \"Set\", \"Measure\", \"Score\"]\n",
    "plot_data[\"Score\"] = plot_data[\"Score\"].astype(float)"
   ]
  },
  {
   "cell_type": "code",
   "execution_count": 161,
   "metadata": {},
   "outputs": [
    {
     "data": {
      "image/png": "[encoded data removed]",
      "text/plain": [
       "<Figure size 1080x432 with 1 Axes>"
      ]
     },
     "metadata": {},
     "output_type": "display_data"
    }
   ],
   "source": [
    "sns.set(font_scale = 1.2)\n",
    "fig, axes = plt.subplots(figsize=(15,6))\n",
    "fig.subplots_adjust(top=0.7)\n",
    "splot = sns.barplot(x='Method', y=\"Score\", hue=\"Set\", data=plot_data[plot_data['Measure']==\"Macro-Avgerage\"], ax=axes);\n",
    "axes.spines['top'].set_visible(False)\n",
    "axes.spines['right'].set_visible(False)\n",
    "axes.set_title('Macro Average score comparison on Validation and Test Set post CalibratedClassifierCV', fontsize=16, weight='bold')\n",
    "axes.set_xlabel('Models', fontsize=13, weight='bold')\n",
    "axes.set_ylabel('Macro Average Score', fontsize=13, weight='bold')\n",
    "axes.legend(loc='lower right', shadow=True,fontsize='medium')\n",
    "##Source Code: Start\n",
    "##Link : https://github.com/mwaskom/seaborn/issues/1582\n",
    "for p in splot.patches:\n",
    "    splot.annotate(\n",
    "        format(p.get_height(), '.4f'),\n",
    "        (p.get_x() + p.get_width() / 2.,\n",
    "         p.get_height()), ha = 'center', va = 'center',\n",
    "        xytext = (0, 10), textcoords = 'offset points')\n",
    "##Source Code: End\n",
    "# axes.legend(loc='best', shadow=True,fontsize='medium')\n",
    "fig.tight_layout()\n",
    "plt.show()"
   ]
  },
  {
   "cell_type": "code",
   "execution_count": 162,
   "metadata": {},
   "outputs": [
    {
     "data": {
      "image/png": "[encoded data removed]",
      "text/plain": [
       "<Figure size 1080x432 with 1 Axes>"
      ]
     },
     "metadata": {},
     "output_type": "display_data"
    }
   ],
   "source": [
    "sns.set(font_scale = 1.2)\n",
    "fig, axes = plt.subplots(figsize=(15,6))\n",
    "fig.subplots_adjust(top=0.7)\n",
    "splot = sns.barplot(x='Method', y=\"Score\", hue=\"Set\", data=plot_data[plot_data['Measure']==\"Weighted-Average\"], ax=axes);\n",
    "axes.spines['top'].set_visible(False)\n",
    "axes.spines['right'].set_visible(False)\n",
    "axes.set_title('Weighted Average score comparison on Validation and Test Set post CalibratedClassifierCV', fontsize=16, weight='bold')\n",
    "axes.set_xlabel('Models', fontsize=13, weight='bold')\n",
    "axes.set_ylabel('Weighted Average Score', fontsize=13, weight='bold')\n",
    "axes.legend(loc='lower right', shadow=True,fontsize='medium')\n",
    "##Source Code: Start\n",
    "##Link : https://github.com/mwaskom/seaborn/issues/1582\n",
    "for p in splot.patches:\n",
    "    splot.annotate(\n",
    "        format(p.get_height(), '.4f'),\n",
    "        (p.get_x() + p.get_width() / 2.,\n",
    "         p.get_height()), ha = 'center', va = 'center',\n",
    "        xytext = (0, 10), textcoords = 'offset points')\n",
    "##Source Code: End\n",
    "# axes.legend(loc='best', shadow=True,fontsize='medium')\n",
    "fig.tight_layout()\n",
    "plt.show()"
   ]
  },
  {
   "cell_type": "code",
   "execution_count": 163,
   "metadata": {},
   "outputs": [],
   "source": [
    "Model1 = [\"LightGBM\", \"LightGBM\", \"LightGBM\", \"LightGBM\",\n",
    "         \"RandomForest\", \"RandomForest\", \"RandomForest\", \"RandomForest\",\n",
    "         \"SVC\", \"SVC\", \"SVC\", \"SVC\",\n",
    "         \"MultinomialNB\", \"MultinomialNB\", \"MultinomialNB\", \"MultinomialNB\"]\n",
    "\n",
    "Set1 = [\"Class-0\", \"Class-1\", \"Class-2\", \"Class-3\",\n",
    "       \"Class-0\", \"Class-1\", \"Class-2\", \"Class-3\", \n",
    "       \"Class-0\", \"Class-1\", \"Class-2\", \"Class-3\",\n",
    "       \"Class-0\", \"Class-1\", \"Class-2\", \"Class-3\"]\n",
    "\n",
    "Measure1 = [\"F1-Score\", \"F1-Score\", \"F1-Score\", \"F1-Score\",\n",
    "           \"F1-Score\", \"F1-Score\", \"F1-Score\", \"F1-Score\",\n",
    "           \"F1-Score\", \"F1-Score\", \"F1-Score\", \"F1-Score\",\n",
    "           \"F1-Score\", \"F1-Score\", \"F1-Score\", \"F1-Score\"]\n",
    "\n",
    "Score1 = [e1_valid_cal_perclass[0], e1_valid_cal_perclass[1], e1_valid_cal_perclass[2], e1_valid_cal_perclass[3],\n",
    "            e2_valid_cal_perclass[0], e2_valid_cal_perclass[1], e2_valid_cal_perclass[2], e2_valid_cal_perclass[3],\n",
    "            e3_valid_cal_perclass[0], e3_valid_cal_perclass[1], e3_valid_cal_perclass[2], e3_valid_cal_perclass[3], \n",
    "            e4_valid_cal_perclass[0], e4_valid_cal_perclass[1], e4_valid_cal_perclass[2], e4_valid_cal_perclass[3]\n",
    "         ]"
   ]
  },
  {
   "cell_type": "code",
   "execution_count": 164,
   "metadata": {},
   "outputs": [],
   "source": [
    "plot_data1 = pd.DataFrame([Model1, Set1, Measure1, Score1]).transpose()\n",
    "plot_data1.columns = [\"Method1\", \"Set1\", \"Measure1\", \"Score1\"]\n",
    "plot_data1[\"Score1\"] = plot_data1[\"Score1\"].astype(float)"
   ]
  },
  {
   "cell_type": "code",
   "execution_count": 165,
   "metadata": {},
   "outputs": [
    {
     "data": {
      "image/png": "[encoded data removed]",
      "text/plain": [
       "<Figure size 1080x432 with 1 Axes>"
      ]
     },
     "metadata": {},
     "output_type": "display_data"
    }
   ],
   "source": [
    "sns.set(font_scale = 1.2)\n",
    "fig, axes = plt.subplots(figsize=(15,6))\n",
    "fig.subplots_adjust(top=0.7)\n",
    "splot = sns.barplot(x='Method1', y=\"Score1\", hue=\"Set1\", data=plot_data1, ax=axes);\n",
    "axes.spines['top'].set_visible(False)\n",
    "axes.spines['right'].set_visible(False)\n",
    "axes.set_title('F1 score comparison on Validation Set post CalibratedClassifierCV', fontsize=16, weight='bold')\n",
    "axes.set_xlabel('Models', fontsize=13, weight='bold')\n",
    "axes.set_ylabel('F1-Score', fontsize=13, weight='bold')\n",
    "axes.legend(loc='upper left', shadow=True,fontsize='medium')\n",
    "##Source Code: Start\n",
    "##Link : https://github.com/mwaskom/seaborn/issues/1582\n",
    "for p in splot.patches:\n",
    "    splot.annotate(\n",
    "        format(p.get_height(), '.4f'),\n",
    "        (p.get_x() + p.get_width() / 2.,\n",
    "         p.get_height()), ha = 'center', va = 'center',\n",
    "        xytext = (0, 10), textcoords = 'offset points')\n",
    "##Source Code: End\n",
    "# axes.legend(loc='best', shadow=True,fontsize='medium')\n",
    "fig.tight_layout()\n",
    "plt.show()"
   ]
  },
  {
   "cell_type": "code",
   "execution_count": 166,
   "metadata": {},
   "outputs": [],
   "source": [
    "Model2 = [\"LightGBM\", \"LightGBM\", \"LightGBM\", \"LightGBM\",\n",
    "         \"RandomForest\", \"RandomForest\", \"RandomForest\", \"RandomForest\",\n",
    "         \"SVC\", \"SVC\", \"SVC\", \"SVC\",\n",
    "         \"MultinomialNB\", \"MultinomialNB\", \"MultinomialNB\", \"MultinomialNB\"]\n",
    "\n",
    "Set2 = [\"Class-0\", \"Class-1\", \"Class-2\", \"Class-3\",\n",
    "       \"Class-0\", \"Class-1\", \"Class-2\", \"Class-3\", \n",
    "       \"Class-0\", \"Class-1\", \"Class-2\", \"Class-3\",\n",
    "       \"Class-0\", \"Class-1\", \"Class-2\", \"Class-3\"]\n",
    "\n",
    "Measure2 = [\"F1-Score\", \"F1-Score\", \"F1-Score\", \"F1-Score\",\n",
    "           \"F1-Score\", \"F1-Score\", \"F1-Score\", \"F1-Score\",\n",
    "           \"F1-Score\", \"F1-Score\", \"F1-Score\", \"F1-Score\",\n",
    "           \"F1-Score\", \"F1-Score\", \"F1-Score\", \"F1-Score\"]\n",
    "\n",
    "Score2 = [e1_test_cal_perclass[0], e1_test_cal_perclass[1], e1_test_cal_perclass[2], e1_test_cal_perclass[3],\n",
    "            e2_test_cal_perclass[0], e2_test_cal_perclass[1], e2_test_cal_perclass[2], e2_test_cal_perclass[3],\n",
    "            e3_test_cal_perclass[0], e3_test_cal_perclass[1], e3_test_cal_perclass[2], e3_test_cal_perclass[3],\n",
    "            e4_test_cal_perclass[0], e4_test_cal_perclass[1], e4_test_cal_perclass[2], e4_test_cal_perclass[3]\n",
    "         ]"
   ]
  },
  {
   "cell_type": "code",
   "execution_count": 167,
   "metadata": {},
   "outputs": [],
   "source": [
    "plot_data2 = pd.DataFrame([Model2, Set2, Measure2, Score2]).transpose()\n",
    "plot_data2.columns = [\"Method2\", \"Set2\", \"Measure2\", \"Score2\"]\n",
    "plot_data2[\"Score2\"] = plot_data2[\"Score2\"].astype(float)"
   ]
  },
  {
   "cell_type": "code",
   "execution_count": 168,
   "metadata": {},
   "outputs": [
    {
     "data": {
      "image/png": "[encoded data removed]",
      "text/plain": [
       "<Figure size 1080x432 with 1 Axes>"
      ]
     },
     "metadata": {},
     "output_type": "display_data"
    }
   ],
   "source": [
    "sns.set(font_scale = 1.2)\n",
    "fig, axes = plt.subplots(figsize=(15,6))\n",
    "fig.subplots_adjust(top=0.7)\n",
    "splot = sns.barplot(x='Method2', y=\"Score2\", hue=\"Set2\", data=plot_data2, ax=axes);\n",
    "axes.spines['top'].set_visible(False)\n",
    "axes.spines['right'].set_visible(False)\n",
    "axes.set_title('F1 score comparison on Test Set post CalibratedClassifierCV', fontsize=16, weight='bold')\n",
    "axes.set_xlabel('Models', fontsize=13, weight='bold')\n",
    "axes.set_ylabel('F1-Score', fontsize=13, weight='bold')\n",
    "axes.legend(loc='upper left', shadow=True,fontsize='medium')\n",
    "##Source Code: Start\n",
    "##Link : https://github.com/mwaskom/seaborn/issues/1582\n",
    "for p in splot.patches:\n",
    "    splot.annotate(\n",
    "        format(p.get_height(), '.4f'),\n",
    "        (p.get_x() + p.get_width() / 2.,\n",
    "         p.get_height()), ha = 'center', va = 'center',\n",
    "        xytext = (0, 10), textcoords = 'offset points')\n",
    "##Source Code: End\n",
    "# axes.legend(loc='best', shadow=True,fontsize='medium')\n",
    "fig.tight_layout()\n",
    "plt.show()"
   ]
  },
  {
   "cell_type": "markdown",
   "metadata": {},
   "source": [
    "**Plot learning curves**"
   ]
  },
  {
   "cell_type": "code",
   "execution_count": 169,
   "metadata": {},
   "outputs": [],
   "source": [
    "###Function to plot learning curves post model training\n",
    "def plot_learning_curves(estimator, X_train, y_train, X_val, y_val,\n",
    "                         suptitle='', title='', xlabel='', ylabel=''):\n",
    "    \"\"\"\n",
    "    Plots learning curves for a given estimator.\n",
    "\n",
    "    Parameters\n",
    "    ----------\n",
    "\n",
    "    estimator : sklearn estimator\n",
    "    X_train : pd.DataFrame\n",
    "        training set (features)\n",
    "    y_train : pd.Series\n",
    "        training set (response)\n",
    "    X_val : pd.DataFrame\n",
    "        validation set (features)\n",
    "    y_val : pd.Series\n",
    "        validation set (response)\n",
    "    suptitle : str\n",
    "        Chart suptitle\n",
    "    title: str\n",
    "        Chart title\n",
    "    xlabel: str\n",
    "        Label for the X axis\n",
    "    ylabel: str\n",
    "        Label for the y axis\n",
    "\n",
    "    Returns\n",
    "    -------\n",
    "\n",
    "    Plot of learning curves\n",
    "    \"\"\"\n",
    "    \n",
    "\n",
    "    # create lists to store train and validation scores\n",
    "    train_score = []\n",
    "    val_score = []\n",
    "    # create ten incremental training set sizes\n",
    "    training_set_sizes = np.linspace(30, len(X_train), 10, dtype='int')\n",
    "\n",
    "    # for each one of those training set sizes\n",
    "    for i in training_set_sizes:\n",
    "        # fit the model only using that many training examples\n",
    "        estimator.fit(X_train.iloc[0:i, :], y_train.iloc[0:i])\n",
    "        # calculate the training accuracy only using those training examples\n",
    "        train_accuracy = f1_score(\n",
    "                                    y_train.iloc[0:i],\n",
    "                                    estimator.predict(X_train.iloc[0:i, :]), average='weighted'\n",
    "                                    )\n",
    "        # calculate the validation accuracy using the whole validation set\n",
    "        val_accuracy = f1_score(\n",
    "                                    y_val,\n",
    "                                    estimator.predict(X_val), average='weighted'\n",
    "                                    )\n",
    "        # store the scores in their respective lists\n",
    "        train_score.append(train_accuracy)\n",
    "        val_score.append(val_accuracy)\n",
    "        \n",
    "    # plot learning curves\n",
    "    fig, ax = plt.subplots(figsize=(15, 6))\n",
    "    ax.plot(training_set_sizes, train_score, c='gold')\n",
    "    ax.plot(training_set_sizes, val_score, c='steelblue')\n",
    "\n",
    "    # format the chart to make it look nice\n",
    "    fig.suptitle(suptitle, fontweight='bold', fontsize='20')\n",
    "    ax.set_title(title, size=20)\n",
    "    ax.set_xlabel(xlabel, size=16)\n",
    "    ax.set_ylabel(ylabel, size=16)\n",
    "    ax.legend(['training set', 'validation set'], fontsize=16)\n",
    "    ax.tick_params(axis='both', labelsize=12)\n",
    "    ax.set_ylim(0, 1)\n",
    "\n",
    "    def percentages(x, pos):\n",
    "        \"\"\"The two args are the value and tick position\"\"\"\n",
    "        if x < 1:\n",
    "            return '{:1.0f}'.format(x*100)\n",
    "        return '{:1.0f}%'.format(x*100)\n",
    "\n",
    "    def numbers(x, pos):\n",
    "        \"\"\"The two args are the value and tick position\"\"\"\n",
    "        if x >= 1000:\n",
    "            return '{:1,.0f}'.format(x)\n",
    "        return '{:1.0f}'.format(x)\n",
    "\n",
    "    y_formatter = percentages\n",
    "    ax.yaxis.set_major_formatter(y_formatter)\n",
    "\n",
    "    x_formatter = numbers\n",
    "    ax.xaxis.set_major_formatter(x_formatter)"
   ]
  },
  {
   "cell_type": "code",
   "execution_count": 170,
   "metadata": {},
   "outputs": [
    {
     "data": {
      "image/png": "[encoded data removed]",
      "text/plain": [
       "<Figure size 1080x432 with 1 Axes>"
      ]
     },
     "metadata": {},
     "output_type": "display_data"
    }
   ],
   "source": [
    "plot_learning_curves(estimator=estimator1,\n",
    "                     X_train=pd.DataFrame(X_train_scaled),\n",
    "                     y_train=y_train_series,\n",
    "                     X_val=pd.DataFrame(X_valid_scaled),\n",
    "                     y_val=y_valid_series,\n",
    "                     suptitle='LightGBM',\n",
    "                     title='Learning curve for LightGBM Model',\n",
    "                     xlabel='Training set size',\n",
    "                     ylabel='Weighted F1-Score')"
   ]
  },
  {
   "cell_type": "code",
   "execution_count": 171,
   "metadata": {},
   "outputs": [
    {
     "data": {
      "image/png": "[encoded data removed]",
      "text/plain": [
       "<Figure size 1080x432 with 1 Axes>"
      ]
     },
     "metadata": {},
     "output_type": "display_data"
    }
   ],
   "source": [
    "plot_learning_curves(estimator=estimator2,\n",
    "                     X_train=pd.DataFrame(X_train_scaled),\n",
    "                     y_train=y_train_series,\n",
    "                     X_val=pd.DataFrame(X_valid_scaled),\n",
    "                     y_val=y_valid_series,\n",
    "                     suptitle='Random-Forest',\n",
    "                     title='Learning curve for Random Forest Model',\n",
    "                     xlabel='Training set size',\n",
    "                     ylabel='Weighted F1-Score')"
   ]
  },
  {
   "cell_type": "code",
   "execution_count": 172,
   "metadata": {},
   "outputs": [
    {
     "data": {
      "image/png": "[encoded data removed]",
      "text/plain": [
       "<Figure size 1080x432 with 1 Axes>"
      ]
     },
     "metadata": {},
     "output_type": "display_data"
    }
   ],
   "source": [
    "plot_learning_curves(estimator=estimator3,\n",
    "                     X_train=pd.DataFrame(X_train_scaled),\n",
    "                     y_train=y_train_series,\n",
    "                     X_val=pd.DataFrame(X_valid_scaled),\n",
    "                     y_val=y_valid_series,\n",
    "                     suptitle='Support Vector Classifier',\n",
    "                     title='Learning curve for SVC Model',\n",
    "                     xlabel='Training set size',\n",
    "                     ylabel='Weighted F1-Score')"
   ]
  },
  {
   "cell_type": "code",
   "execution_count": 173,
   "metadata": {},
   "outputs": [
    {
     "data": {
      "image/png": "[encoded data removed]",
      "text/plain": [
       "<Figure size 1080x432 with 1 Axes>"
      ]
     },
     "metadata": {},
     "output_type": "display_data"
    }
   ],
   "source": [
    "plot_learning_curves(estimator=estimator4,\n",
    "                     X_train=pd.DataFrame(X_train_scaled),\n",
    "                     y_train=y_train_series,\n",
    "                     X_val=pd.DataFrame(X_valid_scaled),\n",
    "                     y_val=y_valid_series,\n",
    "                     suptitle='Gaussian Naive Bayes Classifier',\n",
    "                     title='Learning curve for Gaussian Naive Bayes Model',\n",
    "                     xlabel='Training set size',\n",
    "                     ylabel='Weighted F1-Score')"
   ]
  },
  {
   "cell_type": "markdown",
   "metadata": {},
   "source": [
    "**Thank You**"
   ]
  }
 ],
 "metadata": {
  "kernelspec": {
   "display_name": "Python 3",
   "language": "python",
   "name": "python3"
  },
  "language_info": {
   "codemirror_mode": {
    "name": "ipython",
    "version": 3
   },
   "file_extension": ".py",
   "mimetype": "text/x-python",
   "name": "python",
   "nbconvert_exporter": "python",
   "pygments_lexer": "ipython3",
   "version": "3.8.5"
  }
 },
 "nbformat": 4,
 "nbformat_minor": 4
}
