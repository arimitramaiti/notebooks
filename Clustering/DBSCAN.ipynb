{
 "cells": [
  {
   "cell_type": "code",
   "execution_count": 1,
   "metadata": {
    "ExecuteTime": {
     "end_time": "2020-05-19T05:39:53.949146Z",
     "start_time": "2020-05-19T05:39:52.991316Z"
    }
   },
   "outputs": [],
   "source": [
    "import numpy as np\n",
    "import pandas as pd\n",
    "import matplotlib.pyplot as plt\n",
    "import seaborn as sns\n",
    "%matplotlib inline\n",
    "from sklearn.datasets import load_digits"
   ]
  },
  {
   "cell_type": "code",
   "execution_count": 2,
   "metadata": {
    "ExecuteTime": {
     "end_time": "2020-05-19T05:39:56.242245Z",
     "start_time": "2020-05-19T05:39:56.163226Z"
    }
   },
   "outputs": [
    {
     "data": {
      "text/plain": [
       "((1797, 64), (1797,))"
      ]
     },
     "execution_count": 2,
     "metadata": {},
     "output_type": "execute_result"
    }
   ],
   "source": [
    "dataset = load_digits()\n",
    "digits_x, digits_y = dataset.data, dataset.target\n",
    "digits_x.shape, digits_y.shape"
   ]
  },
  {
   "cell_type": "code",
   "execution_count": 3,
   "metadata": {
    "ExecuteTime": {
     "end_time": "2020-05-19T05:39:58.714653Z",
     "start_time": "2020-05-19T05:39:58.708669Z"
    }
   },
   "outputs": [
    {
     "data": {
      "text/plain": [
       "{0: 178,\n",
       " 1: 182,\n",
       " 2: 177,\n",
       " 3: 183,\n",
       " 4: 181,\n",
       " 5: 182,\n",
       " 6: 181,\n",
       " 7: 179,\n",
       " 8: 174,\n",
       " 9: 180}"
      ]
     },
     "execution_count": 3,
     "metadata": {},
     "output_type": "execute_result"
    }
   ],
   "source": [
    "actual, counts = np.unique(digits_y), np.bincount(digits_y)\n",
    "dict(zip(actual, counts))"
   ]
  },
  {
   "cell_type": "code",
   "execution_count": 4,
   "metadata": {
    "ExecuteTime": {
     "end_time": "2020-05-19T05:40:06.202644Z",
     "start_time": "2020-05-19T05:40:06.084291Z"
    }
   },
   "outputs": [],
   "source": [
    "from sklearn.cluster import DBSCAN"
   ]
  },
  {
   "cell_type": "code",
   "execution_count": 21,
   "metadata": {
    "ExecuteTime": {
     "end_time": "2020-05-19T05:43:21.325766Z",
     "start_time": "2020-05-19T05:43:20.827970Z"
    }
   },
   "outputs": [],
   "source": [
    "model = DBSCAN(eps=20,min_samples=10).fit(digits_x)\n",
    "labels = model.labels_"
   ]
  },
  {
   "cell_type": "code",
   "execution_count": 30,
   "metadata": {
    "ExecuteTime": {
     "end_time": "2020-05-19T05:48:39.901448Z",
     "start_time": "2020-05-19T05:48:39.894431Z"
    }
   },
   "outputs": [
    {
     "data": {
      "text/plain": [
       "{-1: 827,\n",
       " 0: 166,\n",
       " 1: 163,\n",
       " 2: 114,\n",
       " 3: 13,\n",
       " 4: 106,\n",
       " 5: 104,\n",
       " 6: 82,\n",
       " 7: 18,\n",
       " 8: 83,\n",
       " 9: 57,\n",
       " 10: 8,\n",
       " 11: 18,\n",
       " 12: 24,\n",
       " 13: 14}"
      ]
     },
     "execution_count": 30,
     "metadata": {},
     "output_type": "execute_result"
    }
   ],
   "source": [
    "cluster, counts = np.unique(labels, return_counts=True)\n",
    "d = dict(zip(cluster, counts))\n",
    "d"
   ]
  },
  {
   "cell_type": "code",
   "execution_count": 31,
   "metadata": {
    "ExecuteTime": {
     "end_time": "2020-05-19T05:48:43.250287Z",
     "start_time": "2020-05-19T05:48:43.243337Z"
    }
   },
   "outputs": [
    {
     "data": {
      "text/plain": [
       "{0: 166, 1: 163, 2: 114, 3: 13, 4: 106, 5: 104, 6: 82, 7: 18, 8: 83, 9: 57}"
      ]
     },
     "execution_count": 31,
     "metadata": {},
     "output_type": "execute_result"
    }
   ],
   "source": [
    "filter_keys = (0,1,2,3,4,5,6,7,8,9)\n",
    "{keys: d[keys] for keys in filter_keys}"
   ]
  },
  {
   "cell_type": "markdown",
   "metadata": {},
   "source": [
    " - DBSCAN can handle large datasets\n",
    " - User does not have specify number of clusters in the beginning\n",
    " - Finding proper values for epsilon and minimum samples is not easy\n",
    " - It may not perform well in datasets with varying density"
   ]
  }
 ],
 "metadata": {
  "hide_input": false,
  "kernelspec": {
   "display_name": "Python 3",
   "language": "python",
   "name": "python3"
  },
  "language_info": {
   "codemirror_mode": {
    "name": "ipython",
    "version": 3
   },
   "file_extension": ".py",
   "mimetype": "text/x-python",
   "name": "python",
   "nbconvert_exporter": "python",
   "pygments_lexer": "ipython3",
   "version": "3.7.7"
  },
  "toc": {
   "base_numbering": 1,
   "nav_menu": {},
   "number_sections": true,
   "sideBar": true,
   "skip_h1_title": false,
   "title_cell": "Table of Contents",
   "title_sidebar": "Contents",
   "toc_cell": false,
   "toc_position": {},
   "toc_section_display": true,
   "toc_window_display": false
  },
  "varInspector": {
   "cols": {
    "lenName": 16,
    "lenType": 16,
    "lenVar": 40
   },
   "kernels_config": {
    "python": {
     "delete_cmd_postfix": "",
     "delete_cmd_prefix": "del ",
     "library": "var_list.py",
     "varRefreshCmd": "print(var_dic_list())"
    },
    "r": {
     "delete_cmd_postfix": ") ",
     "delete_cmd_prefix": "rm(",
     "library": "var_list.r",
     "varRefreshCmd": "cat(var_dic_list()) "
    }
   },
   "types_to_exclude": [
    "module",
    "function",
    "builtin_function_or_method",
    "instance",
    "_Feature"
   ],
   "window_display": false
  }
 },
 "nbformat": 4,
 "nbformat_minor": 4
}
