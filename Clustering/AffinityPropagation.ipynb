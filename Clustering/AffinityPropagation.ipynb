{
 "cells": [
  {
   "cell_type": "code",
   "execution_count": 33,
   "metadata": {
    "ExecuteTime": {
     "end_time": "2020-05-18T07:48:03.009954Z",
     "start_time": "2020-05-18T07:48:03.002993Z"
    }
   },
   "outputs": [],
   "source": [
    "import numpy as np\n",
    "import pandas as pd\n",
    "import matplotlib.pyplot as plt\n",
    "import seaborn as sns\n",
    "%matplotlib inline\n",
    "from sklearn.datasets import load_iris"
   ]
  },
  {
   "cell_type": "code",
   "execution_count": 5,
   "metadata": {
    "ExecuteTime": {
     "end_time": "2020-05-18T07:12:53.018336Z",
     "start_time": "2020-05-18T07:12:53.005208Z"
    }
   },
   "outputs": [],
   "source": [
    "dataset = load_iris()\n",
    "iris_x = pd.DataFrame(dataset.data, columns=dataset.feature_names)\n",
    "iris_y = pd.DataFrame(dataset.target, columns=[\"target\"])\n",
    "iris_y.target.value_counts().sort_index()"
   ]
  },
  {
   "cell_type": "code",
   "execution_count": 83,
   "metadata": {
    "ExecuteTime": {
     "end_time": "2020-05-18T08:14:14.829362Z",
     "start_time": "2020-05-18T08:14:14.824376Z"
    }
   },
   "outputs": [],
   "source": [
    "from sklearn.preprocessing import RobustScaler"
   ]
  },
  {
   "cell_type": "code",
   "execution_count": 84,
   "metadata": {
    "ExecuteTime": {
     "end_time": "2020-05-18T08:15:01.907583Z",
     "start_time": "2020-05-18T08:15:01.895642Z"
    }
   },
   "outputs": [],
   "source": [
    "sc = RobustScaler()\n",
    "iris_x_scaled = sc.fit_transform(iris_x)"
   ]
  },
  {
   "cell_type": "code",
   "execution_count": 28,
   "metadata": {
    "ExecuteTime": {
     "end_time": "2020-05-18T07:46:04.016740Z",
     "start_time": "2020-05-18T07:46:03.635827Z"
    }
   },
   "outputs": [],
   "source": [
    "from sklearn.cluster import AffinityPropagation"
   ]
  },
  {
   "cell_type": "code",
   "execution_count": 164,
   "metadata": {
    "ExecuteTime": {
     "end_time": "2020-05-18T10:46:13.949382Z",
     "start_time": "2020-05-18T10:46:10.214266Z"
    },
    "scrolled": true
   },
   "outputs": [
    {
     "data": {
      "text/plain": [
       "3"
      ]
     },
     "execution_count": 164,
     "metadata": {},
     "output_type": "execute_result"
    }
   ],
   "source": [
    "model = AffinityPropagation(preference=-50,\n",
    "                        damping=0.5,\n",
    "                        affinity='euclidean',\n",
    "                        max_iter=5000,\n",
    "                        convergence_iter=2500,\n",
    "                        verbose=False).fit(iris_x_scaled)\n",
    "cluster_centers_indices = model.cluster_centers_indices_\n",
    "labels = model.labels_\n",
    "no_clusters = len(cluster_centers_indices)\n",
    "no_clusters"
   ]
  },
  {
   "cell_type": "code",
   "execution_count": 165,
   "metadata": {
    "ExecuteTime": {
     "end_time": "2020-05-18T10:46:15.815869Z",
     "start_time": "2020-05-18T10:46:15.810807Z"
    }
   },
   "outputs": [
    {
     "data": {
      "text/plain": [
       "2534"
      ]
     },
     "execution_count": 165,
     "metadata": {},
     "output_type": "execute_result"
    }
   ],
   "source": [
    "model.n_iter_"
   ]
  },
  {
   "cell_type": "code",
   "execution_count": 166,
   "metadata": {
    "ExecuteTime": {
     "end_time": "2020-05-18T10:46:17.962905Z",
     "start_time": "2020-05-18T10:46:17.955748Z"
    }
   },
   "outputs": [
    {
     "data": {
      "text/plain": [
       "{0: 49, 1: 54, 2: 47}"
      ]
     },
     "execution_count": 166,
     "metadata": {},
     "output_type": "execute_result"
    }
   ],
   "source": [
    "cluster, counts = np.unique(labels, return_counts=True)\n",
    "dict(zip(unique, counts))"
   ]
  },
  {
   "cell_type": "code",
   "execution_count": 167,
   "metadata": {
    "ExecuteTime": {
     "end_time": "2020-05-18T10:46:20.024404Z",
     "start_time": "2020-05-18T10:46:20.015395Z"
    }
   },
   "outputs": [
    {
     "data": {
      "text/plain": [
       "{0: 50, 1: 50, 2: 50}"
      ]
     },
     "execution_count": 167,
     "metadata": {},
     "output_type": "execute_result"
    }
   ],
   "source": [
    "actual, counts = iris_y.target.unique(), iris_y.target.value_counts().sort_index().values\n",
    "dict(zip(actual, counts))"
   ]
  },
  {
   "cell_type": "code",
   "execution_count": 119,
   "metadata": {
    "ExecuteTime": {
     "end_time": "2020-05-18T09:17:20.172232Z",
     "start_time": "2020-05-18T09:17:20.167718Z"
    }
   },
   "outputs": [],
   "source": [
    "from sklearn.metrics import accuracy_score, recall_score, silhouette_score, homogeneity_score, completeness_score, v_measure_score, adjusted_mutual_info_score"
   ]
  },
  {
   "cell_type": "code",
   "execution_count": 168,
   "metadata": {
    "ExecuteTime": {
     "end_time": "2020-05-18T10:46:23.902810Z",
     "start_time": "2020-05-18T10:46:23.875569Z"
    }
   },
   "outputs": [],
   "source": [
    "acc = round(accuracy_score(iris_y.target, labels),3)\n",
    "rec = round(recall_score(iris_y.target, labels,average=\"macro\"),3)\n",
    "sil = round(silhouette_score(iris_x_scaled, labels,metric='sqeuclidean'),3)\n",
    "homg = round(homogeneity_score(iris_y.target, labels),3)\n",
    "comp = round(completeness_score(iris_y.target, labels),3)\n",
    "vms = round(v_measure_score(iris_y.target, labels),3)\n",
    "mis = round(adjusted_mutual_info_score(iris_y.target, labels),3)"
   ]
  },
  {
   "cell_type": "code",
   "execution_count": 169,
   "metadata": {
    "ExecuteTime": {
     "end_time": "2020-05-18T10:46:28.512818Z",
     "start_time": "2020-05-18T10:46:28.501853Z"
    }
   },
   "outputs": [
    {
     "name": "stdout",
     "output_type": "stream",
     "text": [
      "The accuracy score for the model is: 0.813\n",
      "The recall score for the model is: 0.813\n",
      "The silhouette score for the model is: 0.628\n",
      "The homogeneity score for the model is: 0.616\n",
      "The completeness score for the model is: 0.616\n",
      "The V-measure score for the model is: 0.617\n",
      "The Adjusted Mutual Information score for the model is: 0.612\n"
     ]
    }
   ],
   "source": [
    "print(\"The accuracy score for the model is: {}\".format(acc))\n",
    "print(\"The recall score for the model is: {}\".format(rec))\n",
    "print(\"The silhouette score for the model is: {}\".format(sil))\n",
    "print(\"The homogeneity score for the model is: {}\".format(homg))\n",
    "print(\"The completeness score for the model is: {}\".format(homg))\n",
    "print(\"The V-measure score for the model is: {}\".format(vms))\n",
    "print(\"The Adjusted Mutual Information score for the model is: {}\".format(mis))"
   ]
  },
  {
   "cell_type": "markdown",
   "metadata": {},
   "source": [
    "https://www.geeksforgeeks.org/ml-v-measure-for-evaluating-clustering-performance/"
   ]
  },
  {
   "cell_type": "markdown",
   "metadata": {},
   "source": [
    " - __Search for best damping parameter__"
   ]
  },
  {
   "cell_type": "code",
   "execution_count": 170,
   "metadata": {
    "ExecuteTime": {
     "end_time": "2020-05-18T10:47:10.851866Z",
     "start_time": "2020-05-18T10:46:52.150107Z"
    }
   },
   "outputs": [],
   "source": [
    "damping = np.linspace(0.50, 1.0, 5, endpoint=False)\n",
    "acc_score = []\n",
    "vms_score = []\n",
    "for i in damping:\n",
    "    model = AffinityPropagation(preference=-50,\n",
    "                        damping=round(i,1),\n",
    "                        affinity='euclidean',\n",
    "                        max_iter=5000,\n",
    "                        convergence_iter=2500,\n",
    "                        verbose=False).fit(iris_x_scaled)\n",
    "    cluster_centers_indices = model.cluster_centers_indices_\n",
    "    labels = model.labels_\n",
    "    no_clusters = len(cluster_centers_indices)\n",
    "    acc = round(accuracy_score(iris_y.target, labels),3)\n",
    "    vms = round(v_measure_score(iris_y.target, labels),3)\n",
    "    acc_score.append(acc)\n",
    "    vms_score.append(vms)"
   ]
  },
  {
   "cell_type": "code",
   "execution_count": 171,
   "metadata": {
    "ExecuteTime": {
     "end_time": "2020-05-18T10:47:13.196622Z",
     "start_time": "2020-05-18T10:47:13.190721Z"
    }
   },
   "outputs": [
    {
     "data": {
      "text/plain": [
       "[0.813, 0.773, 0.66, 0.66, 0.66]"
      ]
     },
     "execution_count": 171,
     "metadata": {},
     "output_type": "execute_result"
    }
   ],
   "source": [
    "acc_score"
   ]
  },
  {
   "cell_type": "code",
   "execution_count": 172,
   "metadata": {
    "ExecuteTime": {
     "end_time": "2020-05-18T10:47:14.989662Z",
     "start_time": "2020-05-18T10:47:14.982627Z"
    }
   },
   "outputs": [
    {
     "data": {
      "text/plain": [
       "[0.617, 0.603, 0.692, 0.692, 0.692]"
      ]
     },
     "execution_count": 172,
     "metadata": {},
     "output_type": "execute_result"
    }
   ],
   "source": [
    "vms_score"
   ]
  },
  {
   "cell_type": "code",
   "execution_count": null,
   "metadata": {
    "ExecuteTime": {
     "end_time": "2020-05-18T09:38:06.428001Z",
     "start_time": "2020-05-18T09:38:06.395105Z"
    }
   },
   "outputs": [],
   "source": []
  }
 ],
 "metadata": {
  "hide_input": false,
  "kernelspec": {
   "display_name": "Python 3",
   "language": "python",
   "name": "python3"
  },
  "language_info": {
   "codemirror_mode": {
    "name": "ipython",
    "version": 3
   },
   "file_extension": ".py",
   "mimetype": "text/x-python",
   "name": "python",
   "nbconvert_exporter": "python",
   "pygments_lexer": "ipython3",
   "version": "3.7.7"
  },
  "toc": {
   "base_numbering": 1,
   "nav_menu": {},
   "number_sections": true,
   "sideBar": true,
   "skip_h1_title": false,
   "title_cell": "Table of Contents",
   "title_sidebar": "Contents",
   "toc_cell": false,
   "toc_position": {},
   "toc_section_display": true,
   "toc_window_display": false
  },
  "varInspector": {
   "cols": {
    "lenName": 16,
    "lenType": 16,
    "lenVar": 40
   },
   "kernels_config": {
    "python": {
     "delete_cmd_postfix": "",
     "delete_cmd_prefix": "del ",
     "library": "var_list.py",
     "varRefreshCmd": "print(var_dic_list())"
    },
    "r": {
     "delete_cmd_postfix": ") ",
     "delete_cmd_prefix": "rm(",
     "library": "var_list.r",
     "varRefreshCmd": "cat(var_dic_list()) "
    }
   },
   "types_to_exclude": [
    "module",
    "function",
    "builtin_function_or_method",
    "instance",
    "_Feature"
   ],
   "window_display": false
  }
 },
 "nbformat": 4,
 "nbformat_minor": 4
}
