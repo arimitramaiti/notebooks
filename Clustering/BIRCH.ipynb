{
 "cells": [
  {
   "cell_type": "code",
   "execution_count": 1,
   "metadata": {
    "ExecuteTime": {
     "end_time": "2020-05-19T04:30:12.105730Z",
     "start_time": "2020-05-19T04:30:05.748943Z"
    }
   },
   "outputs": [],
   "source": [
    "import numpy as np\n",
    "import pandas as pd\n",
    "import matplotlib.pyplot as plt\n",
    "import seaborn as sns\n",
    "%matplotlib inline\n",
    "from sklearn.datasets import load_digits"
   ]
  },
  {
   "cell_type": "code",
   "execution_count": 2,
   "metadata": {
    "ExecuteTime": {
     "end_time": "2020-05-19T04:31:28.258558Z",
     "start_time": "2020-05-19T04:31:28.173841Z"
    }
   },
   "outputs": [
    {
     "data": {
      "text/plain": [
       "((1797, 64), (1797,))"
      ]
     },
     "execution_count": 2,
     "metadata": {},
     "output_type": "execute_result"
    }
   ],
   "source": [
    "dataset = load_digits()\n",
    "digits_x, digits_y = dataset.data, dataset.target\n",
    "digits_x.shape, digits_y.shape"
   ]
  },
  {
   "cell_type": "code",
   "execution_count": 13,
   "metadata": {
    "ExecuteTime": {
     "end_time": "2020-05-19T05:06:42.538505Z",
     "start_time": "2020-05-19T05:06:42.530823Z"
    }
   },
   "outputs": [
    {
     "data": {
      "text/plain": [
       "{0: 178,\n",
       " 1: 182,\n",
       " 2: 177,\n",
       " 3: 183,\n",
       " 4: 181,\n",
       " 5: 182,\n",
       " 6: 181,\n",
       " 7: 179,\n",
       " 8: 174,\n",
       " 9: 180}"
      ]
     },
     "execution_count": 13,
     "metadata": {},
     "output_type": "execute_result"
    }
   ],
   "source": [
    "actual, counts = np.unique(digits_y), np.bincount(digits_y)\n",
    "dict(zip(actual, counts))"
   ]
  },
  {
   "cell_type": "code",
   "execution_count": 15,
   "metadata": {
    "ExecuteTime": {
     "end_time": "2020-05-19T05:08:20.682763Z",
     "start_time": "2020-05-19T05:08:20.677779Z"
    }
   },
   "outputs": [],
   "source": [
    "from sklearn.cluster import Birch"
   ]
  },
  {
   "cell_type": "code",
   "execution_count": 17,
   "metadata": {
    "ExecuteTime": {
     "end_time": "2020-05-19T05:09:55.123350Z",
     "start_time": "2020-05-19T05:09:54.834807Z"
    }
   },
   "outputs": [],
   "source": [
    "model = Birch(n_clusters=10, compute_labels=True, threshold=0.5, branching_factor=50).fit(digits_x)\n",
    "labels = model.labels_"
   ]
  },
  {
   "cell_type": "code",
   "execution_count": 18,
   "metadata": {
    "ExecuteTime": {
     "end_time": "2020-05-19T05:10:10.965128Z",
     "start_time": "2020-05-19T05:10:10.958188Z"
    }
   },
   "outputs": [
    {
     "data": {
      "text/plain": [
       "{0: 181, 1: 317, 2: 197, 3: 196, 4: 191, 5: 178, 6: 181, 7: 178, 8: 80, 9: 98}"
      ]
     },
     "execution_count": 18,
     "metadata": {},
     "output_type": "execute_result"
    }
   ],
   "source": [
    "cluster, counts = np.unique(labels, return_counts=True)\n",
    "dict(zip(cluster, counts))"
   ]
  },
  {
   "cell_type": "code",
   "execution_count": 19,
   "metadata": {
    "ExecuteTime": {
     "end_time": "2020-05-19T05:10:41.218228Z",
     "start_time": "2020-05-19T05:10:41.214276Z"
    }
   },
   "outputs": [],
   "source": [
    "from sklearn.metrics import accuracy_score, recall_score, silhouette_score, homogeneity_score, completeness_score, v_measure_score, adjusted_mutual_info_score"
   ]
  },
  {
   "cell_type": "code",
   "execution_count": 22,
   "metadata": {
    "ExecuteTime": {
     "end_time": "2020-05-19T05:12:06.459698Z",
     "start_time": "2020-05-19T05:12:06.297718Z"
    },
    "scrolled": true
   },
   "outputs": [],
   "source": [
    "acc = round(accuracy_score(digits_y, labels),3)\n",
    "rec = round(recall_score(digits_y, labels,average=\"macro\"),3)\n",
    "sil = round(silhouette_score(digits_x, labels,metric='sqeuclidean'),3)\n",
    "homg = round(homogeneity_score(digits_y, labels),3)\n",
    "comp = round(completeness_score(digits_y, labels),3)\n",
    "vms = round(v_measure_score(digits_y, labels),3)\n",
    "mis = round(adjusted_mutual_info_score(digits_y, labels),3)"
   ]
  },
  {
   "cell_type": "code",
   "execution_count": 23,
   "metadata": {
    "ExecuteTime": {
     "end_time": "2020-05-19T05:12:39.981507Z",
     "start_time": "2020-05-19T05:12:39.976517Z"
    }
   },
   "outputs": [
    {
     "name": "stdout",
     "output_type": "stream",
     "text": [
      "The accuracy score for the model is: 0.194\n",
      "The recall score for the model is: 0.194\n",
      "The silhouette score for the model is: 0.289\n",
      "The homogeneity score for the model is: 0.858\n",
      "The completeness score for the model is: 0.858\n",
      "The V-measure score for the model is: 0.868\n",
      "The Adjusted Mutual Information score for the model is: 0.867\n"
     ]
    }
   ],
   "source": [
    "print(\"The accuracy score for the model is: {}\".format(acc))\n",
    "print(\"The recall score for the model is: {}\".format(rec))\n",
    "print(\"The silhouette score for the model is: {}\".format(sil))\n",
    "print(\"The homogeneity score for the model is: {}\".format(homg))\n",
    "print(\"The completeness score for the model is: {}\".format(homg))\n",
    "print(\"The V-measure score for the model is: {}\".format(vms))\n",
    "print(\"The Adjusted Mutual Information score for the model is: {}\".format(mis))"
   ]
  },
  {
   "cell_type": "markdown",
   "metadata": {},
   "source": [
    " - Birch can handle large datasets\n",
    " - User does not have specify number of clusters in the beginning\n",
    " - Birch may not perform well in a datasets having excessive number of features"
   ]
  },
  {
   "cell_type": "code",
   "execution_count": 28,
   "metadata": {
    "ExecuteTime": {
     "end_time": "2020-05-19T05:23:34.436071Z",
     "start_time": "2020-05-19T05:23:31.495933Z"
    }
   },
   "outputs": [],
   "source": [
    "threshold = np.linspace(0.10, 1.0, 10, endpoint=False)\n",
    "mi = []\n",
    "v = []\n",
    "for i in threshold:\n",
    "    model = Birch(n_clusters=10,\n",
    "                 threshold=i,\n",
    "                 branching_factor=50,\n",
    "                 compute_labels=True).fit(digits_x)\n",
    "    labels = model.labels_\n",
    "    mis = round(adjusted_mutual_info_score(digits_y, labels),3)\n",
    "    vms = round(v_measure_score(digits_y, labels),3)\n",
    "    mi.append(mis)\n",
    "    v.append(vms)"
   ]
  },
  {
   "cell_type": "code",
   "execution_count": 29,
   "metadata": {
    "ExecuteTime": {
     "end_time": "2020-05-19T05:23:41.050551Z",
     "start_time": "2020-05-19T05:23:41.045600Z"
    }
   },
   "outputs": [
    {
     "data": {
      "text/plain": [
       "[0.867, 0.867, 0.867, 0.867, 0.867, 0.867, 0.867, 0.867, 0.867, 0.867]"
      ]
     },
     "execution_count": 29,
     "metadata": {},
     "output_type": "execute_result"
    }
   ],
   "source": [
    "mi"
   ]
  },
  {
   "cell_type": "code",
   "execution_count": 30,
   "metadata": {
    "ExecuteTime": {
     "end_time": "2020-05-19T05:23:49.760772Z",
     "start_time": "2020-05-19T05:23:49.754789Z"
    }
   },
   "outputs": [
    {
     "data": {
      "text/plain": [
       "[0.868, 0.868, 0.868, 0.868, 0.868, 0.868, 0.868, 0.868, 0.868, 0.868]"
      ]
     },
     "execution_count": 30,
     "metadata": {},
     "output_type": "execute_result"
    }
   ],
   "source": [
    "v"
   ]
  }
 ],
 "metadata": {
  "hide_input": false,
  "kernelspec": {
   "display_name": "Python 3",
   "language": "python",
   "name": "python3"
  },
  "language_info": {
   "codemirror_mode": {
    "name": "ipython",
    "version": 3
   },
   "file_extension": ".py",
   "mimetype": "text/x-python",
   "name": "python",
   "nbconvert_exporter": "python",
   "pygments_lexer": "ipython3",
   "version": "3.7.7"
  },
  "toc": {
   "base_numbering": 1,
   "nav_menu": {},
   "number_sections": true,
   "sideBar": true,
   "skip_h1_title": false,
   "title_cell": "Table of Contents",
   "title_sidebar": "Contents",
   "toc_cell": false,
   "toc_position": {},
   "toc_section_display": true,
   "toc_window_display": false
  },
  "varInspector": {
   "cols": {
    "lenName": 16,
    "lenType": 16,
    "lenVar": 40
   },
   "kernels_config": {
    "python": {
     "delete_cmd_postfix": "",
     "delete_cmd_prefix": "del ",
     "library": "var_list.py",
     "varRefreshCmd": "print(var_dic_list())"
    },
    "r": {
     "delete_cmd_postfix": ") ",
     "delete_cmd_prefix": "rm(",
     "library": "var_list.r",
     "varRefreshCmd": "cat(var_dic_list()) "
    }
   },
   "types_to_exclude": [
    "module",
    "function",
    "builtin_function_or_method",
    "instance",
    "_Feature"
   ],
   "window_display": false
  }
 },
 "nbformat": 4,
 "nbformat_minor": 4
}
