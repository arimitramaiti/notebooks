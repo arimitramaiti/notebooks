{
 "cells": [
  {
   "cell_type": "code",
   "execution_count": 1,
   "metadata": {
    "ExecuteTime": {
     "end_time": "2020-05-18T12:38:19.804416Z",
     "start_time": "2020-05-18T12:38:17.455457Z"
    }
   },
   "outputs": [],
   "source": [
    "import numpy as np\n",
    "import pandas as pd\n",
    "import matplotlib.pyplot as plt\n",
    "import seaborn as sns\n",
    "%matplotlib inline\n",
    "from sklearn.datasets import load_iris"
   ]
  },
  {
   "cell_type": "code",
   "execution_count": 2,
   "metadata": {
    "ExecuteTime": {
     "end_time": "2020-05-18T12:38:19.837515Z",
     "start_time": "2020-05-18T12:38:19.809606Z"
    }
   },
   "outputs": [
    {
     "data": {
      "text/plain": [
       "0    50\n",
       "1    50\n",
       "2    50\n",
       "Name: target, dtype: int64"
      ]
     },
     "execution_count": 2,
     "metadata": {},
     "output_type": "execute_result"
    }
   ],
   "source": [
    "dataset = load_iris()\n",
    "iris_x = pd.DataFrame(dataset.data, columns=dataset.feature_names)\n",
    "iris_y = pd.DataFrame(dataset.target, columns=[\"target\"])\n",
    "iris_y.target.value_counts().sort_index()"
   ]
  },
  {
   "cell_type": "code",
   "execution_count": 3,
   "metadata": {
    "ExecuteTime": {
     "end_time": "2020-05-18T12:38:19.845647Z",
     "start_time": "2020-05-18T12:38:19.841142Z"
    }
   },
   "outputs": [],
   "source": [
    "from sklearn.preprocessing import RobustScaler"
   ]
  },
  {
   "cell_type": "code",
   "execution_count": 4,
   "metadata": {
    "ExecuteTime": {
     "end_time": "2020-05-18T12:38:19.865051Z",
     "start_time": "2020-05-18T12:38:19.850682Z"
    }
   },
   "outputs": [],
   "source": [
    "sc = RobustScaler()\n",
    "iris_x_scaled = sc.fit_transform(iris_x)"
   ]
  },
  {
   "cell_type": "code",
   "execution_count": 5,
   "metadata": {
    "ExecuteTime": {
     "end_time": "2020-05-18T12:38:20.087249Z",
     "start_time": "2020-05-18T12:38:19.871035Z"
    }
   },
   "outputs": [],
   "source": [
    "from sklearn.cluster import AgglomerativeClustering"
   ]
  },
  {
   "cell_type": "code",
   "execution_count": 6,
   "metadata": {
    "ExecuteTime": {
     "end_time": "2020-05-18T12:38:20.100726Z",
     "start_time": "2020-05-18T12:38:20.091066Z"
    },
    "scrolled": true
   },
   "outputs": [],
   "source": [
    "model = AgglomerativeClustering(n_clusters=3,\n",
    "                                affinity=\"euclidean\",\n",
    "                                linkage=\"ward\").fit(iris_x_scaled)\n",
    "labels = model.labels_"
   ]
  },
  {
   "cell_type": "code",
   "execution_count": 7,
   "metadata": {
    "ExecuteTime": {
     "end_time": "2020-05-18T12:38:20.118605Z",
     "start_time": "2020-05-18T12:38:20.108633Z"
    }
   },
   "outputs": [
    {
     "data": {
      "text/plain": [
       "{0: 49, 1: 62, 2: 39}"
      ]
     },
     "execution_count": 7,
     "metadata": {},
     "output_type": "execute_result"
    }
   ],
   "source": [
    "cluster, counts = np.unique(labels, return_counts=True)\n",
    "dict(zip(cluster, counts))"
   ]
  },
  {
   "cell_type": "code",
   "execution_count": 8,
   "metadata": {
    "ExecuteTime": {
     "end_time": "2020-05-18T12:38:20.140214Z",
     "start_time": "2020-05-18T12:38:20.122775Z"
    }
   },
   "outputs": [
    {
     "data": {
      "text/plain": [
       "{0: 50, 1: 50, 2: 50}"
      ]
     },
     "execution_count": 8,
     "metadata": {},
     "output_type": "execute_result"
    }
   ],
   "source": [
    "actual, counts = iris_y.target.unique(), iris_y.target.value_counts().sort_index().values\n",
    "dict(zip(actual, counts))"
   ]
  },
  {
   "cell_type": "code",
   "execution_count": 9,
   "metadata": {
    "ExecuteTime": {
     "end_time": "2020-05-18T12:38:20.150190Z",
     "start_time": "2020-05-18T12:38:20.143207Z"
    }
   },
   "outputs": [],
   "source": [
    "from sklearn.metrics import accuracy_score, recall_score, silhouette_score, homogeneity_score, completeness_score, v_measure_score, adjusted_mutual_info_score"
   ]
  },
  {
   "cell_type": "code",
   "execution_count": 10,
   "metadata": {
    "ExecuteTime": {
     "end_time": "2020-05-18T12:38:20.191198Z",
     "start_time": "2020-05-18T12:38:20.153206Z"
    }
   },
   "outputs": [],
   "source": [
    "acc = round(accuracy_score(iris_y.target, labels),3)\n",
    "rec = round(recall_score(iris_y.target, labels,average=\"macro\"),3)\n",
    "sil = round(silhouette_score(iris_x_scaled, labels,metric='sqeuclidean'),3)\n",
    "homg = round(homogeneity_score(iris_y.target, labels),3)\n",
    "comp = round(completeness_score(iris_y.target, labels),3)\n",
    "vms = round(v_measure_score(iris_y.target, labels),3)\n",
    "mis = round(adjusted_mutual_info_score(iris_y.target, labels),3)"
   ]
  },
  {
   "cell_type": "code",
   "execution_count": 11,
   "metadata": {
    "ExecuteTime": {
     "end_time": "2020-05-18T12:38:20.207856Z",
     "start_time": "2020-05-18T12:38:20.194768Z"
    }
   },
   "outputs": [
    {
     "name": "stdout",
     "output_type": "stream",
     "text": [
      "The accuracy score for the model is: 0.8\n",
      "The recall score for the model is: 0.8\n",
      "The silhouette score for the model is: 0.629\n",
      "The homogeneity score for the model is: 0.607\n",
      "The completeness score for the model is: 0.607\n",
      "The V-measure score for the model is: 0.612\n",
      "The Adjusted Mutual Information score for the model is: 0.607\n"
     ]
    }
   ],
   "source": [
    "print(\"The accuracy score for the model is: {}\".format(acc))\n",
    "print(\"The recall score for the model is: {}\".format(rec))\n",
    "print(\"The silhouette score for the model is: {}\".format(sil))\n",
    "print(\"The homogeneity score for the model is: {}\".format(homg))\n",
    "print(\"The completeness score for the model is: {}\".format(homg))\n",
    "print(\"The V-measure score for the model is: {}\".format(vms))\n",
    "print(\"The Adjusted Mutual Information score for the model is: {}\".format(mis))"
   ]
  },
  {
   "cell_type": "markdown",
   "metadata": {},
   "source": [
    "https://www.geeksforgeeks.org/ml-v-measure-for-evaluating-clustering-performance/"
   ]
  },
  {
   "cell_type": "markdown",
   "metadata": {},
   "source": [
    " - __Search for best affinity & linkage parameter__\n",
    " - __ward method does not work with l2,l2__"
   ]
  },
  {
   "cell_type": "code",
   "execution_count": 12,
   "metadata": {
    "ExecuteTime": {
     "end_time": "2020-05-18T12:38:20.296075Z",
     "start_time": "2020-05-18T12:38:20.211843Z"
    }
   },
   "outputs": [],
   "source": [
    "affinity = [\"euclidean\", \"l1\", \"l2\", \"manhattan\", \"cosine\"]\n",
    "linkage = [\"complete\", \"average\", \"single\"]\n",
    "acc_score = []\n",
    "vms_score = []\n",
    "method = []\n",
    "for i in affinity:\n",
    "    for j in linkage:\n",
    "        model = AgglomerativeClustering(n_clusters=3,\n",
    "                                        affinity=i,\n",
    "                                        linkage=j).fit(iris_x_scaled)\n",
    "        labels = model.labels_\n",
    "        acc = round(accuracy_score(iris_y.target, labels),3)\n",
    "        vms = round(v_measure_score(iris_y.target, labels),3)\n",
    "        iter_n = i+\"-\"+j\n",
    "        acc_score.append(acc)\n",
    "        vms_score.append(vms)\n",
    "        method.append(iter_n)"
   ]
  },
  {
   "cell_type": "code",
   "execution_count": 13,
   "metadata": {
    "ExecuteTime": {
     "end_time": "2020-05-18T12:38:20.325258Z",
     "start_time": "2020-05-18T12:38:20.298954Z"
    }
   },
   "outputs": [
    {
     "data": {
      "text/html": [
       "<div>\n",
       "<style scoped>\n",
       "    .dataframe tbody tr th:only-of-type {\n",
       "        vertical-align: middle;\n",
       "    }\n",
       "\n",
       "    .dataframe tbody tr th {\n",
       "        vertical-align: top;\n",
       "    }\n",
       "\n",
       "    .dataframe thead th {\n",
       "        text-align: right;\n",
       "    }\n",
       "</style>\n",
       "<table border=\"1\" class=\"dataframe\">\n",
       "  <thead>\n",
       "    <tr style=\"text-align: right;\">\n",
       "      <th></th>\n",
       "      <th>Method</th>\n",
       "      <th>Accuracy</th>\n",
       "      <th>V_Measure</th>\n",
       "    </tr>\n",
       "  </thead>\n",
       "  <tbody>\n",
       "    <tr>\n",
       "      <th>0</th>\n",
       "      <td>euclidean-complete</td>\n",
       "      <td>0.547</td>\n",
       "      <td>0.395</td>\n",
       "    </tr>\n",
       "    <tr>\n",
       "      <th>1</th>\n",
       "      <td>euclidean-average</td>\n",
       "      <td>0.68</td>\n",
       "      <td>0.674</td>\n",
       "    </tr>\n",
       "    <tr>\n",
       "      <th>2</th>\n",
       "      <td>euclidean-single</td>\n",
       "      <td>0.0</td>\n",
       "      <td>0.72</td>\n",
       "    </tr>\n",
       "    <tr>\n",
       "      <th>3</th>\n",
       "      <td>l1-complete</td>\n",
       "      <td>0.02</td>\n",
       "      <td>0.68</td>\n",
       "    </tr>\n",
       "    <tr>\n",
       "      <th>4</th>\n",
       "      <td>l1-average</td>\n",
       "      <td>0.687</td>\n",
       "      <td>0.713</td>\n",
       "    </tr>\n",
       "    <tr>\n",
       "      <th>5</th>\n",
       "      <td>l1-single</td>\n",
       "      <td>0.0</td>\n",
       "      <td>0.72</td>\n",
       "    </tr>\n",
       "    <tr>\n",
       "      <th>6</th>\n",
       "      <td>l2-complete</td>\n",
       "      <td>0.547</td>\n",
       "      <td>0.395</td>\n",
       "    </tr>\n",
       "    <tr>\n",
       "      <th>7</th>\n",
       "      <td>l2-average</td>\n",
       "      <td>0.68</td>\n",
       "      <td>0.674</td>\n",
       "    </tr>\n",
       "    <tr>\n",
       "      <th>8</th>\n",
       "      <td>l2-single</td>\n",
       "      <td>0.0</td>\n",
       "      <td>0.72</td>\n",
       "    </tr>\n",
       "    <tr>\n",
       "      <th>9</th>\n",
       "      <td>manhattan-complete</td>\n",
       "      <td>0.02</td>\n",
       "      <td>0.68</td>\n",
       "    </tr>\n",
       "    <tr>\n",
       "      <th>10</th>\n",
       "      <td>manhattan-average</td>\n",
       "      <td>0.687</td>\n",
       "      <td>0.713</td>\n",
       "    </tr>\n",
       "    <tr>\n",
       "      <th>11</th>\n",
       "      <td>manhattan-single</td>\n",
       "      <td>0.0</td>\n",
       "      <td>0.72</td>\n",
       "    </tr>\n",
       "    <tr>\n",
       "      <th>12</th>\n",
       "      <td>cosine-complete</td>\n",
       "      <td>0.227</td>\n",
       "      <td>0.513</td>\n",
       "    </tr>\n",
       "    <tr>\n",
       "      <th>13</th>\n",
       "      <td>cosine-average</td>\n",
       "      <td>0.773</td>\n",
       "      <td>0.529</td>\n",
       "    </tr>\n",
       "    <tr>\n",
       "      <th>14</th>\n",
       "      <td>cosine-single</td>\n",
       "      <td>0.02</td>\n",
       "      <td>0.623</td>\n",
       "    </tr>\n",
       "  </tbody>\n",
       "</table>\n",
       "</div>"
      ],
      "text/plain": [
       "                Method Accuracy V_Measure\n",
       "0   euclidean-complete    0.547     0.395\n",
       "1    euclidean-average     0.68     0.674\n",
       "2     euclidean-single      0.0      0.72\n",
       "3          l1-complete     0.02      0.68\n",
       "4           l1-average    0.687     0.713\n",
       "5            l1-single      0.0      0.72\n",
       "6          l2-complete    0.547     0.395\n",
       "7           l2-average     0.68     0.674\n",
       "8            l2-single      0.0      0.72\n",
       "9   manhattan-complete     0.02      0.68\n",
       "10   manhattan-average    0.687     0.713\n",
       "11    manhattan-single      0.0      0.72\n",
       "12     cosine-complete    0.227     0.513\n",
       "13      cosine-average    0.773     0.529\n",
       "14       cosine-single     0.02     0.623"
      ]
     },
     "execution_count": 13,
     "metadata": {},
     "output_type": "execute_result"
    }
   ],
   "source": [
    "results = np.array((method, acc_score, vms_score)).T\n",
    "results = pd.DataFrame(results, columns=[\"Method\", \"Accuracy\", \"V_Measure\"])\n",
    "results"
   ]
  },
  {
   "cell_type": "code",
   "execution_count": null,
   "metadata": {
    "ExecuteTime": {
     "end_time": "2020-05-18T12:34:51.921687Z",
     "start_time": "2020-05-18T12:34:51.916325Z"
    }
   },
   "outputs": [],
   "source": []
  }
 ],
 "metadata": {
  "hide_input": false,
  "kernelspec": {
   "display_name": "Python 3",
   "language": "python",
   "name": "python3"
  },
  "language_info": {
   "codemirror_mode": {
    "name": "ipython",
    "version": 3
   },
   "file_extension": ".py",
   "mimetype": "text/x-python",
   "name": "python",
   "nbconvert_exporter": "python",
   "pygments_lexer": "ipython3",
   "version": "3.7.7"
  },
  "toc": {
   "base_numbering": 1,
   "nav_menu": {},
   "number_sections": true,
   "sideBar": true,
   "skip_h1_title": false,
   "title_cell": "Table of Contents",
   "title_sidebar": "Contents",
   "toc_cell": false,
   "toc_position": {},
   "toc_section_display": true,
   "toc_window_display": false
  },
  "varInspector": {
   "cols": {
    "lenName": 16,
    "lenType": 16,
    "lenVar": 40
   },
   "kernels_config": {
    "python": {
     "delete_cmd_postfix": "",
     "delete_cmd_prefix": "del ",
     "library": "var_list.py",
     "varRefreshCmd": "print(var_dic_list())"
    },
    "r": {
     "delete_cmd_postfix": ") ",
     "delete_cmd_prefix": "rm(",
     "library": "var_list.r",
     "varRefreshCmd": "cat(var_dic_list()) "
    }
   },
   "types_to_exclude": [
    "module",
    "function",
    "builtin_function_or_method",
    "instance",
    "_Feature"
   ],
   "window_display": false
  }
 },
 "nbformat": 4,
 "nbformat_minor": 4
}
