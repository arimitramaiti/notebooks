{
 "cells": [
  {
   "cell_type": "code",
   "execution_count": 1,
   "metadata": {
    "ExecuteTime": {
     "end_time": "2020-05-14T13:28:55.697202Z",
     "start_time": "2020-05-14T13:28:53.730620Z"
    }
   },
   "outputs": [],
   "source": [
    "import numpy as np\n",
    "import pandas as pd\n",
    "import matplotlib.pyplot as plt\n",
    "import seaborn as sns\n",
    "%matplotlib inline"
   ]
  },
  {
   "cell_type": "code",
   "execution_count": 2,
   "metadata": {
    "ExecuteTime": {
     "end_time": "2020-05-14T13:28:57.965836Z",
     "start_time": "2020-05-14T13:28:57.590468Z"
    }
   },
   "outputs": [
    {
     "name": "stdout",
     "output_type": "stream",
     "text": [
      "<class 'pandas.core.frame.DataFrame'>\n",
      "RangeIndex: 303 entries, 0 to 302\n",
      "Data columns (total 14 columns):\n",
      " #   Column    Non-Null Count  Dtype  \n",
      "---  ------    --------------  -----  \n",
      " 0   age       303 non-null    int64  \n",
      " 1   sex       303 non-null    int64  \n",
      " 2   cp        303 non-null    int64  \n",
      " 3   trestbps  303 non-null    int64  \n",
      " 4   chol      303 non-null    int64  \n",
      " 5   fbs       303 non-null    int64  \n",
      " 6   restecg   303 non-null    int64  \n",
      " 7   thalach   303 non-null    int64  \n",
      " 8   exang     303 non-null    int64  \n",
      " 9   oldpeak   303 non-null    float64\n",
      " 10  slope     303 non-null    int64  \n",
      " 11  ca        303 non-null    int64  \n",
      " 12  thal      303 non-null    int64  \n",
      " 13  target    303 non-null    int64  \n",
      "dtypes: float64(1), int64(13)\n",
      "memory usage: 33.3 KB\n"
     ]
    }
   ],
   "source": [
    "url = \"https://raw.githubusercontent.com/arimitramaiti/datasets/master/Classification/heart.csv\"\n",
    "dataset = pd.read_csv(url, error_bad_lines=False, header=0, index_col=None)\n",
    "dataset.head()\n",
    "dataset.info()"
   ]
  },
  {
   "cell_type": "markdown",
   "metadata": {},
   "source": [
    " - __Replicate Feature Selection methods and create train and test sets for each method separately__"
   ]
  },
  {
   "cell_type": "code",
   "execution_count": 3,
   "metadata": {
    "ExecuteTime": {
     "end_time": "2020-05-14T13:29:02.382412Z",
     "start_time": "2020-05-14T13:29:02.349775Z"
    }
   },
   "outputs": [],
   "source": [
    "sex_dummy = pd.get_dummies(dataset.sex)\n",
    "sex_dummy.columns = [\"Male\", \"Female\"]\n",
    "\n",
    "cp_dummy = pd.get_dummies(dataset.cp)\n",
    "cp_dummy.columns = [\"cp0\", \"cp1\", \"cp2\", \"cp3\"]\n",
    "\n",
    "fbs_dummy = pd.get_dummies(dataset.fbs)\n",
    "fbs_dummy.columns = [\"fbs0\", \"fbs1\"]\n",
    "\n",
    "restecg_dummy = pd.get_dummies(dataset.restecg)\n",
    "restecg_dummy.columns = [\"restecg0\", \"restecg1\", \"restecg2\"]\n",
    "\n",
    "exang_dummy = pd.get_dummies(dataset.exang)\n",
    "exang_dummy.columns = [\"exang0\", \"exang1\"]\n",
    "\n",
    "slope_dummy = pd.get_dummies(dataset.slope)\n",
    "slope_dummy.columns = [\"slope0\", \"slope1\", \"slope2\"]\n",
    "\n",
    "ca_dummy = pd.get_dummies(dataset.ca)\n",
    "ca_dummy.columns = [\"ca0\", \"ca1\", \"ca2\", \"ca3\", \"ca4\"]\n",
    "\n",
    "thal_dummy = pd.get_dummies(dataset.thal)\n",
    "thal_dummy.columns = [\"thal0\", \"thal1\", \"thal2\", \"thal3\"]\n",
    "\n",
    "tmp = dataset[[\"target\", \"age\", \"trestbps\", \"chol\", \"thalach\", \"oldpeak\"]]\n",
    "\n",
    "onehot_data = pd.concat([tmp, sex_dummy, cp_dummy, fbs_dummy, restecg_dummy, exang_dummy, slope_dummy, ca_dummy, thal_dummy],\n",
    "                       axis=1)"
   ]
  },
  {
   "cell_type": "code",
   "execution_count": 4,
   "metadata": {
    "ExecuteTime": {
     "end_time": "2020-05-14T13:29:06.292828Z",
     "start_time": "2020-05-14T13:29:05.974021Z"
    }
   },
   "outputs": [],
   "source": [
    "from sklearn.model_selection import train_test_split\n",
    "from sklearn.feature_selection import mutual_info_classif, SelectKBest, SelectPercentile, chi2, f_classif\n",
    "from mlxtend.feature_selection import SequentialFeatureSelector as SFS\n",
    "from mlxtend.feature_selection import ExhaustiveFeatureSelector as EFS\n",
    "from mlxtend.plotting import plot_sequential_feature_selection as plot_sfs\n",
    "from sklearn.ensemble import RandomForestClassifier\n",
    "from sklearn.metrics import accuracy_score, roc_auc_score\n",
    "from sklearn.feature_selection import RFECV\n",
    "from sklearn.model_selection import StratifiedKFold"
   ]
  },
  {
   "cell_type": "code",
   "execution_count": 5,
   "metadata": {
    "ExecuteTime": {
     "end_time": "2020-05-14T13:29:09.077417Z",
     "start_time": "2020-05-14T13:29:09.064127Z"
    }
   },
   "outputs": [
    {
     "data": {
      "text/plain": [
       "((303, 30), (303,))"
      ]
     },
     "execution_count": 5,
     "metadata": {},
     "output_type": "execute_result"
    }
   ],
   "source": [
    "X = onehot_data.drop('target', axis=1)\n",
    "y = onehot_data['target']\n",
    "X.shape, y.shape"
   ]
  },
  {
   "cell_type": "code",
   "execution_count": 6,
   "metadata": {
    "ExecuteTime": {
     "end_time": "2020-05-14T13:29:11.335340Z",
     "start_time": "2020-05-14T13:29:11.330047Z"
    }
   },
   "outputs": [],
   "source": [
    "from sklearn.preprocessing import RobustScaler"
   ]
  },
  {
   "cell_type": "markdown",
   "metadata": {},
   "source": [
    " - __Perform scaling unlike Decision Tree Classifier which do not require scaling__\n",
    " - __Following scaling before train test split and feature extraction process__"
   ]
  },
  {
   "cell_type": "code",
   "execution_count": 7,
   "metadata": {
    "ExecuteTime": {
     "end_time": "2020-05-14T13:29:13.878566Z",
     "start_time": "2020-05-14T13:29:13.860572Z"
    }
   },
   "outputs": [],
   "source": [
    "vars_to_scale = X[[\"age\", \"trestbps\", \"chol\", \"thalach\", \"oldpeak\"]]\n",
    "scaler = RobustScaler()\n",
    "vars_scaled = scaler.fit_transform(vars_to_scale)\n",
    "\n",
    "vars_scaled = pd.DataFrame(vars_scaled, columns=[\"age\", \"trestbps\", \"chol\", \"thalach\", \"oldpeak\"])\n",
    "vars_original = X[X.columns.difference(vars_to_scale.columns)]\n",
    "\n",
    "X_new = pd.concat([vars_original, vars_scaled], axis=1)"
   ]
  },
  {
   "cell_type": "code",
   "execution_count": 8,
   "metadata": {
    "ExecuteTime": {
     "end_time": "2020-05-14T13:29:16.707643Z",
     "start_time": "2020-05-14T13:29:16.693611Z"
    }
   },
   "outputs": [
    {
     "name": "stdout",
     "output_type": "stream",
     "text": [
      "(242, 30) (61, 30) (242,) (61,)\n"
     ]
    }
   ],
   "source": [
    "X_train, X_test, y_train, y_test = train_test_split(X_new, y, test_size=0.2, random_state=0, stratify=y)\n",
    "X_train = X_train.reset_index(drop=True)\n",
    "X_test = X_test.reset_index(drop=True)\n",
    "print(X_train.shape, X_test.shape, y_train.shape, y_test.shape)"
   ]
  },
  {
   "cell_type": "code",
   "execution_count": 9,
   "metadata": {
    "ExecuteTime": {
     "end_time": "2020-05-14T13:29:20.015400Z",
     "start_time": "2020-05-14T13:29:19.607303Z"
    }
   },
   "outputs": [
    {
     "data": {
      "text/plain": [
       "((242, 10), (61, 10))"
      ]
     },
     "execution_count": 9,
     "metadata": {},
     "output_type": "execute_result"
    }
   ],
   "source": [
    "mi = mutual_info_classif(X_train, y_train)\n",
    "mi = pd.Series(mi, index=X_train.columns)\n",
    "mi.sort_values(ascending=False, inplace=True)\n",
    "\n",
    "sel = SelectKBest(mutual_info_classif, 10).fit(X_train, y_train)\n",
    "\n",
    "train_copy = X_train\n",
    "test_copy = X_test\n",
    "train_copy.columns[sel.get_support()]\n",
    "test_copy.columns[sel.get_support()]\n",
    "\n",
    "X_train_mi = sel.transform(train_copy)\n",
    "X_test_mi = sel.transform(test_copy)\n",
    "\n",
    "del train_copy, test_copy\n",
    "X_train_mi.shape, X_test_mi.shape"
   ]
  },
  {
   "cell_type": "markdown",
   "metadata": {},
   "source": [
    " - __Chi Square Feature Extraction do not accept negative input values__\n",
    " - __Hence one way to use this could be to perform scaling post extraction, selecting only those numerical attributes that remain post extraction__"
   ]
  },
  {
   "cell_type": "code",
   "execution_count": 14,
   "metadata": {
    "ExecuteTime": {
     "end_time": "2020-05-14T08:10:29.696096Z",
     "start_time": "2020-05-14T08:10:29.691516Z"
    }
   },
   "outputs": [],
   "source": [
    "# f_score = chi2(X_train, y_train)\n",
    "# p_values = pd.Series(f_score[1], index=X_train.columns)\n",
    "# p_values.sort_values(ascending=False, inplace=True)\n",
    "\n",
    "# sel = SelectKBest(chi2, 10).fit(X_train, y_train)\n",
    "\n",
    "# train_copy = X_train\n",
    "# test_copy = X_test\n",
    "# train_copy.columns[sel.get_support()]\n",
    "# test_copy.columns[sel.get_support()]\n",
    "\n",
    "# X_train_chi = sel.transform(train_copy)\n",
    "# X_test_chi = sel.transform(test_copy)\n",
    "\n",
    "# X_train_chi.shape, X_test_chi.shape"
   ]
  },
  {
   "cell_type": "code",
   "execution_count": 10,
   "metadata": {
    "ExecuteTime": {
     "end_time": "2020-05-14T13:29:24.150718Z",
     "start_time": "2020-05-14T13:29:24.129735Z"
    }
   },
   "outputs": [
    {
     "data": {
      "text/plain": [
       "((242, 10), (61, 10))"
      ]
     },
     "execution_count": 10,
     "metadata": {},
     "output_type": "execute_result"
    }
   ],
   "source": [
    "anova_f = f_classif(X_train, y_train)\n",
    "p_values = pd.Series(anova_f[1], index=X_train.columns)\n",
    "p_values.sort_values(ascending=False, inplace=True)\n",
    "\n",
    "sel = SelectKBest(f_classif, 10).fit(X_train, y_train)\n",
    "\n",
    "train_copy = X_train\n",
    "test_copy = X_test\n",
    "train_copy.columns[sel.get_support()]\n",
    "test_copy.columns[sel.get_support()]\n",
    "\n",
    "X_train_f = sel.transform(train_copy)\n",
    "X_test_f = sel.transform(test_copy)\n",
    "\n",
    "del train_copy, test_copy\n",
    "\n",
    "X_train_f.shape, X_test_f.shape"
   ]
  },
  {
   "cell_type": "code",
   "execution_count": 11,
   "metadata": {
    "ExecuteTime": {
     "end_time": "2020-05-14T13:34:37.049407Z",
     "start_time": "2020-05-14T13:29:27.781136Z"
    }
   },
   "outputs": [
    {
     "name": "stderr",
     "output_type": "stream",
     "text": [
      "[Parallel(n_jobs=-1)]: Using backend LokyBackend with 4 concurrent workers.\n",
      "[Parallel(n_jobs=-1)]: Done  30 out of  30 | elapsed:   21.6s finished\n",
      "\n",
      "[2020-05-14 18:59:49] Features: 1/30 -- score: 0.76051912568306[Parallel(n_jobs=-1)]: Using backend LokyBackend with 4 concurrent workers.\n",
      "[Parallel(n_jobs=-1)]: Done  29 out of  29 | elapsed:   18.6s finished\n",
      "\n",
      "[2020-05-14 19:00:08] Features: 2/30 -- score: 0.7645491803278688[Parallel(n_jobs=-1)]: Using backend LokyBackend with 4 concurrent workers.\n",
      "[Parallel(n_jobs=-1)]: Done  28 out of  28 | elapsed:   17.2s finished\n",
      "\n",
      "[2020-05-14 19:00:25] Features: 3/30 -- score: 0.7810109289617486[Parallel(n_jobs=-1)]: Using backend LokyBackend with 4 concurrent workers.\n",
      "[Parallel(n_jobs=-1)]: Done  27 out of  27 | elapsed:   17.1s finished\n",
      "\n",
      "[2020-05-14 19:00:42] Features: 4/30 -- score: 0.8345628415300547[Parallel(n_jobs=-1)]: Using backend LokyBackend with 4 concurrent workers.\n",
      "[Parallel(n_jobs=-1)]: Done  26 out of  26 | elapsed:   17.1s finished\n",
      "\n",
      "[2020-05-14 19:00:59] Features: 5/30 -- score: 0.8427595628415301[Parallel(n_jobs=-1)]: Using backend LokyBackend with 4 concurrent workers.\n",
      "[Parallel(n_jobs=-1)]: Done  25 out of  25 | elapsed:   16.5s finished\n",
      "\n",
      "[2020-05-14 19:01:16] Features: 6/30 -- score: 0.8467896174863389[Parallel(n_jobs=-1)]: Using backend LokyBackend with 4 concurrent workers.\n",
      "[Parallel(n_jobs=-1)]: Done  24 out of  24 | elapsed:   15.0s finished\n",
      "\n",
      "[2020-05-14 19:01:31] Features: 7/30 -- score: 0.8509562841530056[Parallel(n_jobs=-1)]: Using backend LokyBackend with 4 concurrent workers.\n",
      "[Parallel(n_jobs=-1)]: Done  23 out of  23 | elapsed:   14.8s finished\n",
      "\n",
      "[2020-05-14 19:01:46] Features: 8/30 -- score: 0.8509562841530056[Parallel(n_jobs=-1)]: Using backend LokyBackend with 4 concurrent workers.\n",
      "[Parallel(n_jobs=-1)]: Done  22 out of  22 | elapsed:   14.1s finished\n",
      "\n",
      "[2020-05-14 19:02:00] Features: 9/30 -- score: 0.8550546448087433[Parallel(n_jobs=-1)]: Using backend LokyBackend with 4 concurrent workers.\n",
      "[Parallel(n_jobs=-1)]: Done  21 out of  21 | elapsed:   14.9s finished\n",
      "\n",
      "[2020-05-14 19:02:15] Features: 10/30 -- score: 0.8550546448087433[Parallel(n_jobs=-1)]: Using backend LokyBackend with 4 concurrent workers.\n",
      "[Parallel(n_jobs=-1)]: Done  20 out of  20 | elapsed:   12.0s finished\n",
      "\n",
      "[2020-05-14 19:02:27] Features: 11/30 -- score: 0.8509562841530056[Parallel(n_jobs=-1)]: Using backend LokyBackend with 4 concurrent workers.\n",
      "[Parallel(n_jobs=-1)]: Done  19 out of  19 | elapsed:   12.0s finished\n",
      "\n",
      "[2020-05-14 19:02:39] Features: 12/30 -- score: 0.8427595628415301[Parallel(n_jobs=-1)]: Using backend LokyBackend with 4 concurrent workers.\n",
      "[Parallel(n_jobs=-1)]: Done  18 out of  18 | elapsed:   11.9s finished\n",
      "\n",
      "[2020-05-14 19:02:51] Features: 13/30 -- score: 0.8345628415300548[Parallel(n_jobs=-1)]: Using backend LokyBackend with 4 concurrent workers.\n",
      "[Parallel(n_jobs=-1)]: Done  17 out of  17 | elapsed:   10.3s finished\n",
      "\n",
      "[2020-05-14 19:03:02] Features: 14/30 -- score: 0.8345628415300548[Parallel(n_jobs=-1)]: Using backend LokyBackend with 4 concurrent workers.\n",
      "[Parallel(n_jobs=-1)]: Done  16 out of  16 | elapsed:    8.5s finished\n",
      "\n",
      "[2020-05-14 19:03:10] Features: 15/30 -- score: 0.8385245901639344[Parallel(n_jobs=-1)]: Using backend LokyBackend with 4 concurrent workers.\n",
      "[Parallel(n_jobs=-1)]: Done  15 out of  15 | elapsed:    9.4s finished\n",
      "\n",
      "[2020-05-14 19:03:20] Features: 16/30 -- score: 0.8799180327868852[Parallel(n_jobs=-1)]: Using backend LokyBackend with 4 concurrent workers.\n",
      "[Parallel(n_jobs=-1)]: Done  14 out of  14 | elapsed:    9.7s finished\n",
      "\n",
      "[2020-05-14 19:03:30] Features: 17/30 -- score: 0.8675546448087432[Parallel(n_jobs=-1)]: Using backend LokyBackend with 4 concurrent workers.\n",
      "[Parallel(n_jobs=-1)]: Done  13 out of  13 | elapsed:    9.2s remaining:    0.0s\n",
      "[Parallel(n_jobs=-1)]: Done  13 out of  13 | elapsed:    9.2s finished\n",
      "\n",
      "[2020-05-14 19:03:39] Features: 18/30 -- score: 0.8717213114754099[Parallel(n_jobs=-1)]: Using backend LokyBackend with 4 concurrent workers.\n",
      "[Parallel(n_jobs=-1)]: Done  12 out of  12 | elapsed:    7.4s remaining:    0.0s\n",
      "[Parallel(n_jobs=-1)]: Done  12 out of  12 | elapsed:    7.4s finished\n",
      "\n",
      "[2020-05-14 19:03:47] Features: 19/30 -- score: 0.8717896174863389[Parallel(n_jobs=-1)]: Using backend LokyBackend with 4 concurrent workers.\n",
      "[Parallel(n_jobs=-1)]: Done  11 out of  11 | elapsed:    7.4s finished\n",
      "\n",
      "[2020-05-14 19:03:54] Features: 20/30 -- score: 0.8717213114754099[Parallel(n_jobs=-1)]: Using backend LokyBackend with 4 concurrent workers.\n",
      "[Parallel(n_jobs=-1)]: Done  10 out of  10 | elapsed:    7.1s finished\n",
      "\n",
      "[2020-05-14 19:04:01] Features: 21/30 -- score: 0.8717896174863388[Parallel(n_jobs=-1)]: Using backend LokyBackend with 4 concurrent workers.\n",
      "[Parallel(n_jobs=-1)]: Done   7 out of   9 | elapsed:    4.8s remaining:    1.3s\n",
      "[Parallel(n_jobs=-1)]: Done   9 out of   9 | elapsed:    6.9s finished\n",
      "\n",
      "[2020-05-14 19:04:08] Features: 22/30 -- score: 0.8717896174863388[Parallel(n_jobs=-1)]: Using backend LokyBackend with 4 concurrent workers.\n",
      "[Parallel(n_jobs=-1)]: Done   6 out of   8 | elapsed:    4.8s remaining:    1.5s\n",
      "[Parallel(n_jobs=-1)]: Done   8 out of   8 | elapsed:    5.1s finished\n",
      "\n",
      "[2020-05-14 19:04:13] Features: 23/30 -- score: 0.8634562841530053[Parallel(n_jobs=-1)]: Using backend LokyBackend with 4 concurrent workers.\n",
      "[Parallel(n_jobs=-1)]: Done   4 out of   7 | elapsed:    2.6s remaining:    1.9s\n",
      "[Parallel(n_jobs=-1)]: Done   7 out of   7 | elapsed:    4.7s finished\n",
      "\n",
      "[2020-05-14 19:04:18] Features: 24/30 -- score: 0.8634562841530053[Parallel(n_jobs=-1)]: Using backend LokyBackend with 4 concurrent workers.\n",
      "[Parallel(n_jobs=-1)]: Done   3 out of   6 | elapsed:    2.4s remaining:    2.4s\n",
      "[Parallel(n_jobs=-1)]: Done   6 out of   6 | elapsed:    4.6s finished\n",
      "\n",
      "[2020-05-14 19:04:23] Features: 25/30 -- score: 0.8635245901639345[Parallel(n_jobs=-1)]: Using backend LokyBackend with 4 concurrent workers.\n",
      "[Parallel(n_jobs=-1)]: Done   5 out of   5 | elapsed:    4.4s finished\n",
      "\n",
      "[2020-05-14 19:04:27] Features: 26/30 -- score: 0.8594262295081968[Parallel(n_jobs=-1)]: Using backend LokyBackend with 4 concurrent workers.\n",
      "[Parallel(n_jobs=-1)]: Done   4 out of   4 | elapsed:    2.6s finished\n",
      "\n",
      "[2020-05-14 19:04:30] Features: 27/30 -- score: 0.8469945355191257[Parallel(n_jobs=-1)]: Using backend LokyBackend with 4 concurrent workers.\n",
      "[Parallel(n_jobs=-1)]: Done   3 out of   3 | elapsed:    2.2s finished\n",
      "\n",
      "[2020-05-14 19:04:32] Features: 28/30 -- score: 0.8510928961748634[Parallel(n_jobs=-1)]: Using backend LokyBackend with 4 concurrent workers.\n",
      "[Parallel(n_jobs=-1)]: Done   2 out of   2 | elapsed:    2.1s finished\n",
      "\n",
      "[2020-05-14 19:04:35] Features: 29/30 -- score: 0.8344262295081968[Parallel(n_jobs=-1)]: Using backend LokyBackend with 4 concurrent workers.\n",
      "[Parallel(n_jobs=-1)]: Done   1 out of   1 | elapsed:    1.9s finished\n",
      "\n",
      "[2020-05-14 19:04:37] Features: 30/30 -- score: 0.8344262295081968"
     ]
    },
    {
     "data": {
      "text/plain": [
       "((242, 16), (61, 16))"
      ]
     },
     "execution_count": 11,
     "metadata": {},
     "output_type": "execute_result"
    }
   ],
   "source": [
    "del X_train, X_test, y_train, y_test\n",
    "X_train, X_test, y_train, y_test = train_test_split(X, y, test_size=0.2, random_state=0, stratify=y)\n",
    "X_train = X_train.reset_index(drop=True)\n",
    "X_test = X_test.reset_index(drop=True)\n",
    "\n",
    "sfs = SFS(RandomForestClassifier(n_estimators=100, random_state=0, n_jobs=-1), \n",
    "          k_features=(1, X_train.shape[1]), \n",
    "          forward=True, \n",
    "          floating=False, \n",
    "          verbose=2, \n",
    "          scoring='accuracy', \n",
    "          cv = 4, \n",
    "          n_jobs=-1).fit(X_train, y_train)\n",
    "\n",
    "X_train[list(sfs.k_feature_names_)]\n",
    "X_test[list(sfs.k_feature_names_)]\n",
    "\n",
    "X_train_sfsF = sfs.transform(X_train)\n",
    "X_test_sfsF = sfs.transform(X_test)\n",
    "\n",
    "X_train_sfsF.shape, X_test_sfsF.shape"
   ]
  },
  {
   "cell_type": "code",
   "execution_count": 12,
   "metadata": {
    "ExecuteTime": {
     "end_time": "2020-05-14T13:40:28.595864Z",
     "start_time": "2020-05-14T13:35:16.375028Z"
    }
   },
   "outputs": [
    {
     "name": "stderr",
     "output_type": "stream",
     "text": [
      "[Parallel(n_jobs=-1)]: Using backend LokyBackend with 4 concurrent workers.\n",
      "[Parallel(n_jobs=-1)]: Done  30 out of  30 | elapsed:   19.6s finished\n",
      "\n",
      "[2020-05-14 19:05:37] Features: 29/1 -- score: 0.8468579234972677[Parallel(n_jobs=-1)]: Using backend LokyBackend with 4 concurrent workers.\n",
      "[Parallel(n_jobs=-1)]: Done  29 out of  29 | elapsed:   19.2s finished\n",
      "\n",
      "[2020-05-14 19:05:57] Features: 28/1 -- score: 0.8469262295081967[Parallel(n_jobs=-1)]: Using backend LokyBackend with 4 concurrent workers.\n",
      "[Parallel(n_jobs=-1)]: Done  28 out of  28 | elapsed:   17.7s finished\n",
      "\n",
      "[2020-05-14 19:06:14] Features: 27/1 -- score: 0.8551912568306012[Parallel(n_jobs=-1)]: Using backend LokyBackend with 4 concurrent workers.\n",
      "[Parallel(n_jobs=-1)]: Done  27 out of  27 | elapsed:   15.7s finished\n",
      "\n",
      "[2020-05-14 19:06:30] Features: 26/1 -- score: 0.8511612021857924[Parallel(n_jobs=-1)]: Using backend LokyBackend with 4 concurrent workers.\n",
      "[Parallel(n_jobs=-1)]: Done  26 out of  26 | elapsed:   17.2s finished\n",
      "\n",
      "[2020-05-14 19:06:48] Features: 25/1 -- score: 0.8511612021857924[Parallel(n_jobs=-1)]: Using backend LokyBackend with 4 concurrent workers.\n",
      "[Parallel(n_jobs=-1)]: Done  25 out of  25 | elapsed:   17.1s finished\n",
      "\n",
      "[2020-05-14 19:07:05] Features: 24/1 -- score: 0.855327868852459[Parallel(n_jobs=-1)]: Using backend LokyBackend with 4 concurrent workers.\n",
      "[Parallel(n_jobs=-1)]: Done  24 out of  24 | elapsed:   15.2s finished\n",
      "\n",
      "[2020-05-14 19:07:20] Features: 23/1 -- score: 0.8634562841530056[Parallel(n_jobs=-1)]: Using backend LokyBackend with 4 concurrent workers.\n",
      "[Parallel(n_jobs=-1)]: Done  23 out of  23 | elapsed:   15.0s finished\n",
      "\n",
      "[2020-05-14 19:07:35] Features: 22/1 -- score: 0.855327868852459[Parallel(n_jobs=-1)]: Using backend LokyBackend with 4 concurrent workers.\n",
      "[Parallel(n_jobs=-1)]: Done  22 out of  22 | elapsed:   14.7s finished\n",
      "\n",
      "[2020-05-14 19:07:50] Features: 21/1 -- score: 0.8593579234972678[Parallel(n_jobs=-1)]: Using backend LokyBackend with 4 concurrent workers.\n",
      "[Parallel(n_jobs=-1)]: Done  21 out of  21 | elapsed:   14.1s finished\n",
      "\n",
      "[2020-05-14 19:08:04] Features: 20/1 -- score: 0.8634562841530056[Parallel(n_jobs=-1)]: Using backend LokyBackend with 4 concurrent workers.\n",
      "[Parallel(n_jobs=-1)]: Done  20 out of  20 | elapsed:   12.7s finished\n",
      "\n",
      "[2020-05-14 19:08:17] Features: 19/1 -- score: 0.8717896174863389[Parallel(n_jobs=-1)]: Using backend LokyBackend with 4 concurrent workers.\n",
      "[Parallel(n_jobs=-1)]: Done  19 out of  19 | elapsed:   12.3s finished\n",
      "\n",
      "[2020-05-14 19:08:29] Features: 18/1 -- score: 0.8593579234972678[Parallel(n_jobs=-1)]: Using backend LokyBackend with 4 concurrent workers.\n",
      "[Parallel(n_jobs=-1)]: Done  18 out of  18 | elapsed:   12.1s finished\n",
      "\n",
      "[2020-05-14 19:08:41] Features: 17/1 -- score: 0.8719945355191256[Parallel(n_jobs=-1)]: Using backend LokyBackend with 4 concurrent workers.\n",
      "[Parallel(n_jobs=-1)]: Done  17 out of  17 | elapsed:   11.5s finished\n",
      "\n",
      "[2020-05-14 19:08:53] Features: 16/1 -- score: 0.8801912568306011[Parallel(n_jobs=-1)]: Using backend LokyBackend with 4 concurrent workers.\n",
      "[Parallel(n_jobs=-1)]: Done  16 out of  16 | elapsed:   10.1s finished\n",
      "\n",
      "[2020-05-14 19:09:03] Features: 15/1 -- score: 0.8718579234972678[Parallel(n_jobs=-1)]: Using backend LokyBackend with 4 concurrent workers.\n",
      "[Parallel(n_jobs=-1)]: Done  15 out of  15 | elapsed:    9.9s finished\n",
      "\n",
      "[2020-05-14 19:09:13] Features: 14/1 -- score: 0.8760928961748634[Parallel(n_jobs=-1)]: Using backend LokyBackend with 4 concurrent workers.\n",
      "[Parallel(n_jobs=-1)]: Done  14 out of  14 | elapsed:    9.6s finished\n",
      "\n",
      "[2020-05-14 19:09:23] Features: 13/1 -- score: 0.8637295081967213[Parallel(n_jobs=-1)]: Using backend LokyBackend with 4 concurrent workers.\n",
      "[Parallel(n_jobs=-1)]: Done  13 out of  13 | elapsed:    9.1s remaining:    0.0s\n",
      "[Parallel(n_jobs=-1)]: Done  13 out of  13 | elapsed:    9.1s finished\n",
      "\n",
      "[2020-05-14 19:09:32] Features: 12/1 -- score: 0.8801229508196721[Parallel(n_jobs=-1)]: Using backend LokyBackend with 4 concurrent workers.\n",
      "[Parallel(n_jobs=-1)]: Done  12 out of  12 | elapsed:    7.7s remaining:    0.0s\n",
      "[Parallel(n_jobs=-1)]: Done  12 out of  12 | elapsed:    7.7s finished\n",
      "\n",
      "[2020-05-14 19:09:40] Features: 11/1 -- score: 0.867622950819672[Parallel(n_jobs=-1)]: Using backend LokyBackend with 4 concurrent workers.\n",
      "[Parallel(n_jobs=-1)]: Done  11 out of  11 | elapsed:    7.4s finished\n",
      "\n",
      "[2020-05-14 19:09:47] Features: 10/1 -- score: 0.8637295081967213[Parallel(n_jobs=-1)]: Using backend LokyBackend with 4 concurrent workers.\n",
      "[Parallel(n_jobs=-1)]: Done  10 out of  10 | elapsed:    7.1s finished\n",
      "\n",
      "[2020-05-14 19:09:55] Features: 9/1 -- score: 0.855327868852459[Parallel(n_jobs=-1)]: Using backend LokyBackend with 4 concurrent workers.\n",
      "[Parallel(n_jobs=-1)]: Done   7 out of   9 | elapsed:    5.0s remaining:    1.4s\n",
      "[Parallel(n_jobs=-1)]: Done   9 out of   9 | elapsed:    6.7s finished\n",
      "\n",
      "[2020-05-14 19:10:01] Features: 8/1 -- score: 0.855327868852459[Parallel(n_jobs=-1)]: Using backend LokyBackend with 4 concurrent workers.\n",
      "[Parallel(n_jobs=-1)]: Done   6 out of   8 | elapsed:    4.7s remaining:    1.5s\n",
      "[Parallel(n_jobs=-1)]: Done   8 out of   8 | elapsed:    5.1s finished\n",
      "\n",
      "[2020-05-14 19:10:07] Features: 7/1 -- score: 0.843032786885246[Parallel(n_jobs=-1)]: Using backend LokyBackend with 4 concurrent workers.\n",
      "[Parallel(n_jobs=-1)]: Done   4 out of   7 | elapsed:    2.7s remaining:    2.0s\n",
      "[Parallel(n_jobs=-1)]: Done   7 out of   7 | elapsed:    4.7s finished\n",
      "\n",
      "[2020-05-14 19:10:11] Features: 6/1 -- score: 0.8346994535519126[Parallel(n_jobs=-1)]: Using backend LokyBackend with 4 concurrent workers.\n",
      "[Parallel(n_jobs=-1)]: Done   3 out of   6 | elapsed:    2.5s remaining:    2.5s\n",
      "[Parallel(n_jobs=-1)]: Done   6 out of   6 | elapsed:    4.8s finished\n",
      "\n",
      "[2020-05-14 19:10:16] Features: 5/1 -- score: 0.8261612021857924[Parallel(n_jobs=-1)]: Using backend LokyBackend with 4 concurrent workers.\n",
      "[Parallel(n_jobs=-1)]: Done   5 out of   5 | elapsed:    4.4s finished\n",
      "\n",
      "[2020-05-14 19:10:21] Features: 4/1 -- score: 0.8014344262295081[Parallel(n_jobs=-1)]: Using backend LokyBackend with 4 concurrent workers.\n",
      "[Parallel(n_jobs=-1)]: Done   4 out of   4 | elapsed:    2.5s finished\n",
      "\n",
      "[2020-05-14 19:10:23] Features: 3/1 -- score: 0.8056010928961749[Parallel(n_jobs=-1)]: Using backend LokyBackend with 4 concurrent workers.\n",
      "[Parallel(n_jobs=-1)]: Done   3 out of   3 | elapsed:    2.2s finished\n",
      "\n",
      "[2020-05-14 19:10:26] Features: 2/1 -- score: 0.7767076502732241[Parallel(n_jobs=-1)]: Using backend LokyBackend with 4 concurrent workers.\n",
      "[Parallel(n_jobs=-1)]: Done   2 out of   2 | elapsed:    2.2s finished\n",
      "\n",
      "[2020-05-14 19:10:28] Features: 1/1 -- score: 0.7354508196721312"
     ]
    },
    {
     "data": {
      "text/plain": [
       "((242, 16), (61, 16))"
      ]
     },
     "execution_count": 12,
     "metadata": {},
     "output_type": "execute_result"
    }
   ],
   "source": [
    "del X_train, X_test, y_train, y_test\n",
    "X_train, X_test, y_train, y_test = train_test_split(X, y, test_size=0.2, random_state=0, stratify=y)\n",
    "X_train = X_train.reset_index(drop=True)\n",
    "X_test = X_test.reset_index(drop=True)\n",
    "\n",
    "sfs = SFS(RandomForestClassifier(n_estimators=100, random_state=0, n_jobs=-1), \n",
    "          k_features=(1, X_train.shape[1]), \n",
    "          forward=False, \n",
    "          floating=False, \n",
    "          verbose=2, \n",
    "          scoring='accuracy', \n",
    "          cv = 4, \n",
    "          n_jobs=-1).fit(X_train, y_train)\n",
    "\n",
    "X_train[list(sfs.k_feature_names_)]\n",
    "X_test[list(sfs.k_feature_names_)]\n",
    "\n",
    "X_train_sfsB = sfs.transform(X_train)\n",
    "X_test_sfsB = sfs.transform(X_test)\n",
    "\n",
    "X_train_sfsB.shape, X_test_sfsB.shape"
   ]
  },
  {
   "cell_type": "code",
   "execution_count": 13,
   "metadata": {
    "ExecuteTime": {
     "end_time": "2020-05-14T13:41:36.119356Z",
     "start_time": "2020-05-14T13:40:32.347457Z"
    }
   },
   "outputs": [
    {
     "data": {
      "text/plain": [
       "((242, 26), (61, 26))"
      ]
     },
     "execution_count": 13,
     "metadata": {},
     "output_type": "execute_result"
    }
   ],
   "source": [
    "del X_train, X_test, y_train, y_test\n",
    "X_train, X_test, y_train, y_test = train_test_split(X, y, test_size=0.2, random_state=0, stratify=y)\n",
    "X_train = X_train.reset_index(drop=True)\n",
    "X_test = X_test.reset_index(drop=True)\n",
    "\n",
    "rfe = RFECV(RandomForestClassifier(n_estimators=100, random_state=0, n_jobs=-1), \n",
    "          step=1, \n",
    "          cv=StratifiedKFold(10),\n",
    "          scoring='accuracy', \n",
    "          n_jobs=-1).fit(X_train, y_train)\n",
    "\n",
    "train_copy = X_train\n",
    "test_copy = X_test\n",
    "\n",
    "train_copy.drop(train_copy.columns[np.where(rfe.support_ == False)[0]], axis=1, inplace=True)\n",
    "test_copy.drop(test_copy.columns[np.where(rfe.support_ == False)[0]], axis=1, inplace=True)\n",
    "\n",
    "X_train_rfe = pd.DataFrame(train_copy)\n",
    "X_test_rfe = pd.DataFrame(test_copy)\n",
    "X_train_rfe.shape, X_test_rfe.shape"
   ]
  },
  {
   "cell_type": "markdown",
   "metadata": {
    "ExecuteTime": {
     "end_time": "2020-05-13T19:21:46.561057Z",
     "start_time": "2020-05-13T19:21:46.555097Z"
    }
   },
   "source": [
    " - __Import required modules__"
   ]
  },
  {
   "cell_type": "code",
   "execution_count": 14,
   "metadata": {
    "ExecuteTime": {
     "end_time": "2020-05-14T13:41:50.178716Z",
     "start_time": "2020-05-14T13:41:50.173204Z"
    }
   },
   "outputs": [],
   "source": [
    "from sklearn.svm import SVC\n",
    "from sklearn.model_selection import learning_curve\n",
    "from sklearn.metrics import recall_score, confusion_matrix\n",
    "from sklearn.model_selection import cross_val_score\n",
    "from sklearn.model_selection import GridSearchCV"
   ]
  },
  {
   "cell_type": "markdown",
   "metadata": {
    "ExecuteTime": {
     "end_time": "2020-05-13T20:15:06.363421Z",
     "start_time": "2020-05-13T20:15:06.358464Z"
    }
   },
   "source": [
    "# Build SVC Classifier"
   ]
  },
  {
   "cell_type": "code",
   "execution_count": 15,
   "metadata": {
    "ExecuteTime": {
     "end_time": "2020-05-14T13:42:10.632862Z",
     "start_time": "2020-05-14T13:42:10.606294Z"
    }
   },
   "outputs": [],
   "source": [
    "def build_classifier(X_train_data, y_train_data, X_test_data, y_test_data, text=\"ABC\"):\n",
    "    def svc_parameter(X_data, y_data):\n",
    "        C_val = [0.001, 0.01, 0.1, 1, 10]\n",
    "        gamma_val = [0.001, 0.01, 0.1, 1]\n",
    "        kernel_val = [\"linear\", \"rbf\", \"poly\", \"sigmoid\"]\n",
    "        degree_val = [0, 1, 2, 3, 4, 5, 6]\n",
    "        param_grid = {'C': C_val, 'gamma': gamma_val, 'kernel': kernel_val, 'degree': degree_val}\n",
    "\n",
    "        gs = GridSearchCV(SVC(), param_grid,\n",
    "                         cv=StratifiedKFold(10))\n",
    "        gs.fit(X_data, y_data)            \n",
    "        gs.best_params_\n",
    "        return gs.best_params_\n",
    "    \n",
    "    best_param_values = svc_parameter(X_train_data, y_train_data)\n",
    "    train_size = np.linspace(0.1, 1, 10)\n",
    "    \n",
    "    model = SVC(C=best_param_values['C'],\n",
    "                kernel=best_param_values['kernel'],\n",
    "                degree=best_param_values['degree'],\n",
    "                gamma=best_param_values['gamma'])\n",
    "    \n",
    "    train_sizes, train_scores, validation_scores = learning_curve(estimator = model,\n",
    "                                                                  X = X_train_data,\n",
    "                                                                  y = y_train_data,\n",
    "                                                                  train_sizes = train_size,\n",
    "                                                                  cv = StratifiedKFold(10),\n",
    "                                                                  scoring = 'accuracy',\n",
    "                                                                  shuffle = True,\n",
    "                                                                  random_state=1)\n",
    "\n",
    "    train_scores_mean = train_scores.mean(axis = 1)\n",
    "    validation_scores_mean = validation_scores.mean(axis = 1)\n",
    "    \n",
    "    model.fit(X_train_data, y_train_data)\n",
    "    y_pred = model.predict(X_test_data)\n",
    "    acc = round(accuracy_score(y_test_data, y_pred),3)\n",
    "    rec = round(recall_score(y_test_data, y_pred),3)\n",
    "    \n",
    "    print(\"The accuracy score for the model is: {}\".format(acc))\n",
    "    print(\"The recall score for the model is: {}\".format(rec))\n",
    "    \n",
    "    fig = plt.figure(figsize=(12,5))\n",
    "    plt.plot(train_sizes, train_scores_mean, label = 'Training error')\n",
    "    plt.plot(train_sizes, validation_scores_mean, label = 'Validation error')\n",
    "    plt.ylabel('Accuracy', fontsize = 12)\n",
    "    plt.xlabel('Training set size', fontsize = 12)\n",
    "    plt.title('Learning curves for a SVC model & FE Method:  ' + text, fontsize = 14, y = 1.03)\n",
    "    plt.legend()\n",
    "    plt.grid()\n",
    "    plt.show()\n",
    "\n",
    "    met = confusion_matrix(y_test_data, y_pred)\n",
    "    sns.heatmap(met, square=True, annot=True, fmt=\"d\", cbar=False)\n",
    "    plt.xlabel(\"Predicted\")\n",
    "    plt.ylabel(\"Actual\")"
   ]
  },
  {
   "cell_type": "markdown",
   "metadata": {},
   "source": [
    "# Run Classifier without any Feature Selection"
   ]
  },
  {
   "cell_type": "code",
   "execution_count": null,
   "metadata": {
    "ExecuteTime": {
     "start_time": "2020-05-14T13:42:16.268Z"
    }
   },
   "outputs": [],
   "source": [
    "build_classifier(X_train, y_train, X_test, y_test, text=\"None\")"
   ]
  },
  {
   "cell_type": "markdown",
   "metadata": {
    "ExecuteTime": {
     "end_time": "2020-05-13T20:22:58.423197Z",
     "start_time": "2020-05-13T20:22:58.275253Z"
    }
   },
   "source": [
    "# Run Classifier on Mutual Information"
   ]
  },
  {
   "cell_type": "code",
   "execution_count": null,
   "metadata": {
    "ExecuteTime": {
     "start_time": "2020-05-14T13:45:31.644Z"
    }
   },
   "outputs": [],
   "source": [
    "build_classifier(X_train_mi, y_train, X_test_mi, y_test, text=\"Mutual Information\")"
   ]
  },
  {
   "cell_type": "markdown",
   "metadata": {},
   "source": [
    "# Run Classifier on Anova Fischer Score"
   ]
  },
  {
   "cell_type": "code",
   "execution_count": null,
   "metadata": {
    "ExecuteTime": {
     "start_time": "2020-05-14T13:45:35.013Z"
    }
   },
   "outputs": [],
   "source": [
    "build_classifier(X_train_f, y_train, X_test_f, y_test, text=\"Anova Fischer Score\")"
   ]
  },
  {
   "cell_type": "markdown",
   "metadata": {},
   "source": [
    "# Run Classifier on SFS Forward"
   ]
  },
  {
   "cell_type": "code",
   "execution_count": null,
   "metadata": {
    "ExecuteTime": {
     "start_time": "2020-05-14T13:45:38.014Z"
    }
   },
   "outputs": [],
   "source": [
    "build_classifier(X_train_sfsF, y_train, X_test_sfsF, y_test, text=\"SFS Forward\")"
   ]
  },
  {
   "cell_type": "markdown",
   "metadata": {},
   "source": [
    "# Run Classifier on SFS Backward"
   ]
  },
  {
   "cell_type": "code",
   "execution_count": null,
   "metadata": {
    "ExecuteTime": {
     "start_time": "2020-05-14T13:45:40.401Z"
    }
   },
   "outputs": [],
   "source": [
    "build_classifier(X_train_sfsB, y_train, X_test_sfsB, y_test, text=\"SFS Backward\")"
   ]
  },
  {
   "cell_type": "markdown",
   "metadata": {},
   "source": [
    "# Run Classifier on RFE"
   ]
  },
  {
   "cell_type": "code",
   "execution_count": null,
   "metadata": {
    "ExecuteTime": {
     "start_time": "2020-05-14T13:45:43.127Z"
    }
   },
   "outputs": [],
   "source": [
    "build_classifier(X_train_rfe, y_train, X_test_rfe, y_test, text=\"RFE\")"
   ]
  },
  {
   "cell_type": "code",
   "execution_count": null,
   "metadata": {
    "ExecuteTime": {
     "end_time": "2020-05-14T07:50:00.735430Z",
     "start_time": "2020-05-14T07:50:00.729539Z"
    }
   },
   "outputs": [],
   "source": []
  },
  {
   "cell_type": "code",
   "execution_count": null,
   "metadata": {},
   "outputs": [],
   "source": []
  }
 ],
 "metadata": {
  "hide_input": false,
  "kernelspec": {
   "display_name": "Python 3",
   "language": "python",
   "name": "python3"
  },
  "language_info": {
   "codemirror_mode": {
    "name": "ipython",
    "version": 3
   },
   "file_extension": ".py",
   "mimetype": "text/x-python",
   "name": "python",
   "nbconvert_exporter": "python",
   "pygments_lexer": "ipython3",
   "version": "3.7.7"
  },
  "toc": {
   "base_numbering": 1,
   "nav_menu": {},
   "number_sections": true,
   "sideBar": true,
   "skip_h1_title": false,
   "title_cell": "Table of Contents",
   "title_sidebar": "Contents",
   "toc_cell": false,
   "toc_position": {},
   "toc_section_display": true,
   "toc_window_display": false
  },
  "varInspector": {
   "cols": {
    "lenName": 16,
    "lenType": 16,
    "lenVar": 40
   },
   "kernels_config": {
    "python": {
     "delete_cmd_postfix": "",
     "delete_cmd_prefix": "del ",
     "library": "var_list.py",
     "varRefreshCmd": "print(var_dic_list())"
    },
    "r": {
     "delete_cmd_postfix": ") ",
     "delete_cmd_prefix": "rm(",
     "library": "var_list.r",
     "varRefreshCmd": "cat(var_dic_list()) "
    }
   },
   "types_to_exclude": [
    "module",
    "function",
    "builtin_function_or_method",
    "instance",
    "_Feature"
   ],
   "window_display": false
  }
 },
 "nbformat": 4,
 "nbformat_minor": 4
}
