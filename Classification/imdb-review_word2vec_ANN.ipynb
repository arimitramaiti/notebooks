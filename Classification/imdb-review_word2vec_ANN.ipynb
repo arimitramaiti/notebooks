{
 "cells": [
  {
   "cell_type": "markdown",
   "metadata": {},
   "source": [
    " - __Import base modules__"
   ]
  },
  {
   "cell_type": "code",
   "execution_count": 1,
   "metadata": {
    "ExecuteTime": {
     "end_time": "2020-05-28T09:43:58.760624Z",
     "start_time": "2020-05-28T09:43:57.701825Z"
    }
   },
   "outputs": [],
   "source": [
    "import numpy as np\n",
    "import pandas as pd\n",
    "import matplotlib.pyplot as plt\n",
    "import seaborn as sns\n",
    "%matplotlib inline"
   ]
  },
  {
   "cell_type": "markdown",
   "metadata": {},
   "source": [
    " - __Import sklearn modules__"
   ]
  },
  {
   "cell_type": "code",
   "execution_count": 2,
   "metadata": {
    "ExecuteTime": {
     "end_time": "2020-05-28T09:44:01.190797Z",
     "start_time": "2020-05-28T09:43:58.760624Z"
    }
   },
   "outputs": [
    {
     "name": "stderr",
     "output_type": "stream",
     "text": [
      "Using TensorFlow backend.\n"
     ]
    }
   ],
   "source": [
    "from sklearn.model_selection import train_test_split\n",
    "from sklearn.preprocessing import StandardScaler\n",
    "from sklearn.metrics import accuracy_score, roc_auc_score\n",
    "from sklearn.model_selection import learning_curve\n",
    "from sklearn.metrics import recall_score, confusion_matrix, classification_report\n",
    "from sklearn.model_selection import cross_val_score\n",
    "from sklearn.model_selection import GridSearchCV, RandomizedSearchCV\n",
    "from sklearn.model_selection import StratifiedKFold\n",
    "import time\n",
    "import warnings\n",
    "warnings.filterwarnings(\"ignore\", category=DeprecationWarning)\n",
    "from imblearn import under_sampling, over_sampling\n",
    "from imblearn.over_sampling import SMOTE"
   ]
  },
  {
   "cell_type": "markdown",
   "metadata": {},
   "source": [
    " - __Import the IMDB movie review dataset__\n",
    " - Data Link : https://www.kaggle.com/lakshmi25npathi/imdb-dataset-of-50k-movie-reviews?select=IMDB+Dataset.csv"
   ]
  },
  {
   "cell_type": "code",
   "execution_count": 3,
   "metadata": {
    "ExecuteTime": {
     "end_time": "2020-05-28T09:44:01.759431Z",
     "start_time": "2020-05-28T09:44:01.190797Z"
    }
   },
   "outputs": [
    {
     "data": {
      "text/plain": [
       "review       0\n",
       "sentiment    0\n",
       "dtype: int64"
      ]
     },
     "execution_count": 3,
     "metadata": {},
     "output_type": "execute_result"
    }
   ],
   "source": [
    "dataset = pd.read_csv(\"IMDBDataset.csv\", header=0, index_col=None)\n",
    "dataset.head(2)\n",
    "dataset.isnull().sum()"
   ]
  },
  {
   "cell_type": "markdown",
   "metadata": {
    "ExecuteTime": {
     "end_time": "2020-05-25T15:13:05.675447Z",
     "start_time": "2020-05-25T15:13:05.670014Z"
    }
   },
   "source": [
    " - __Check proportion of class values__"
   ]
  },
  {
   "cell_type": "code",
   "execution_count": 4,
   "metadata": {
    "ExecuteTime": {
     "end_time": "2020-05-28T09:44:01.772633Z",
     "start_time": "2020-05-28T09:44:01.761662Z"
    }
   },
   "outputs": [
    {
     "data": {
      "text/plain": [
       "positive    25000\n",
       "negative    25000\n",
       "Name: sentiment, dtype: int64"
      ]
     },
     "execution_count": 4,
     "metadata": {},
     "output_type": "execute_result"
    }
   ],
   "source": [
    "dataset.sentiment.value_counts()"
   ]
  },
  {
   "cell_type": "markdown",
   "metadata": {},
   "source": [
    " - __Check if NaN values are there and if yes then collect row indices__"
   ]
  },
  {
   "cell_type": "code",
   "execution_count": 5,
   "metadata": {
    "ExecuteTime": {
     "end_time": "2020-05-28T09:44:01.833472Z",
     "start_time": "2020-05-28T09:44:01.774627Z"
    }
   },
   "outputs": [
    {
     "name": "stdout",
     "output_type": "stream",
     "text": [
      "0 blanks:  []\n"
     ]
    }
   ],
   "source": [
    "blanks = []\n",
    "for index, label, review in dataset.itertuples():\n",
    "    if type(review)==str:\n",
    "        if review.isspace():\n",
    "            blanks.append(index)\n",
    "        \n",
    "print(len(blanks), 'blanks: ', blanks)"
   ]
  },
  {
   "cell_type": "markdown",
   "metadata": {},
   "source": [
    " - __Use Beautiful soup to remove html tags__\n",
    " - __Use regex to replace \"__< br / >__\" with blanks__\n",
    " - __Use regex to replace special characters with blanks__\n",
    " - __Split each word of a row__\n",
    " - __Perform stopword checklist__\n",
    " - __Rejoin the set of words for each row__\n",
    " - __Append the clean set of text in a list__"
   ]
  },
  {
   "cell_type": "code",
   "execution_count": 6,
   "metadata": {
    "ExecuteTime": {
     "end_time": "2020-05-28T09:44:02.302226Z",
     "start_time": "2020-05-28T09:44:01.834466Z"
    }
   },
   "outputs": [
    {
     "name": "stderr",
     "output_type": "stream",
     "text": [
      "[nltk_data] Downloading package stopwords to\n",
      "[nltk_data]     C:\\Users\\Debjani\\AppData\\Roaming\\nltk_data...\n",
      "[nltk_data]   Package stopwords is already up-to-date!\n"
     ]
    }
   ],
   "source": [
    "from bs4 import BeautifulSoup\n",
    "import nltk\n",
    "nltk.download('stopwords')\n",
    "from nltk.corpus import stopwords\n",
    "from nltk.stem import WordNetLemmatizer\n",
    "import re\n",
    "from tqdm import tqdm_notebook\n",
    "from tqdm import tqdm"
   ]
  },
  {
   "cell_type": "code",
   "execution_count": 7,
   "metadata": {
    "ExecuteTime": {
     "end_time": "2020-05-28T10:16:59.744082Z",
     "start_time": "2020-05-28T09:44:02.305178Z"
    }
   },
   "outputs": [
    {
     "name": "stderr",
     "output_type": "stream",
     "text": [
      "100%|████████████████████████████████████████████████████████████████████████████| 50000/50000 [32:57<00:00, 25.29it/s]\n"
     ]
    }
   ],
   "source": [
    "clean_text = []\n",
    "for i in tqdm(range(dataset.shape[0])):\n",
    "    soup = BeautifulSoup(dataset['review'].loc[i], \"html.parser\")\n",
    "    text = soup.get_text()\n",
    "    text = re.sub('\\<br />', '', text)\n",
    "    text = re.sub('[^a-zA-z0-9\\s]', '', text)\n",
    "    text = text.lower()\n",
    "    text = text.split()\n",
    "    text = [word for word in text if not word in set(stopwords.words('english'))]\n",
    "    lem = WordNetLemmatizer()\n",
    "    text = [lem.lemmatize(word) for word in text]\n",
    "    text = ' '.join(text)\n",
    "    clean_text.append(text)"
   ]
  },
  {
   "cell_type": "code",
   "execution_count": 8,
   "metadata": {
    "ExecuteTime": {
     "end_time": "2020-05-28T10:16:59.780983Z",
     "start_time": "2020-05-28T10:16:59.747049Z"
    }
   },
   "outputs": [
    {
     "data": {
      "text/html": [
       "<div>\n",
       "<style scoped>\n",
       "    .dataframe tbody tr th:only-of-type {\n",
       "        vertical-align: middle;\n",
       "    }\n",
       "\n",
       "    .dataframe tbody tr th {\n",
       "        vertical-align: top;\n",
       "    }\n",
       "\n",
       "    .dataframe thead th {\n",
       "        text-align: right;\n",
       "    }\n",
       "</style>\n",
       "<table border=\"1\" class=\"dataframe\">\n",
       "  <thead>\n",
       "    <tr style=\"text-align: right;\">\n",
       "      <th></th>\n",
       "      <th>sentiment</th>\n",
       "      <th>review_processed</th>\n",
       "    </tr>\n",
       "  </thead>\n",
       "  <tbody>\n",
       "    <tr>\n",
       "      <th>0</th>\n",
       "      <td>positive</td>\n",
       "      <td>one reviewer mentioned watching 1 oz episode y...</td>\n",
       "    </tr>\n",
       "    <tr>\n",
       "      <th>1</th>\n",
       "      <td>positive</td>\n",
       "      <td>wonderful little production filming technique ...</td>\n",
       "    </tr>\n",
       "  </tbody>\n",
       "</table>\n",
       "</div>"
      ],
      "text/plain": [
       "  sentiment                                   review_processed\n",
       "0  positive  one reviewer mentioned watching 1 oz episode y...\n",
       "1  positive  wonderful little production filming technique ..."
      ]
     },
     "execution_count": 8,
     "metadata": {},
     "output_type": "execute_result"
    }
   ],
   "source": [
    "df_processed = pd.DataFrame(clean_text,columns=['review_processed'])\n",
    "dataset_new = pd.concat([dataset, df_processed], axis=1)\n",
    "dataset_new.drop(labels=['review'], inplace=True, axis=1)\n",
    "dataset_new.head(2)"
   ]
  },
  {
   "cell_type": "markdown",
   "metadata": {},
   "source": [
    " - __Download google word2vec pre trained model from gensim__"
   ]
  },
  {
   "cell_type": "code",
   "execution_count": 9,
   "metadata": {
    "ExecuteTime": {
     "end_time": "2020-05-28T10:17:40.312121Z",
     "start_time": "2020-05-28T10:16:59.781981Z"
    }
   },
   "outputs": [],
   "source": [
    "import gensim.downloader as api\n",
    "wv = api.load('word2vec-google-news-300')"
   ]
  },
  {
   "cell_type": "markdown",
   "metadata": {},
   "source": [
    " - __Create unique set of words from google model__"
   ]
  },
  {
   "cell_type": "code",
   "execution_count": 10,
   "metadata": {
    "ExecuteTime": {
     "end_time": "2020-05-28T10:17:40.743896Z",
     "start_time": "2020-05-28T10:17:40.312121Z"
    }
   },
   "outputs": [],
   "source": [
    "vocabulary = set(wv.index2word)"
   ]
  },
  {
   "cell_type": "markdown",
   "metadata": {},
   "source": [
    " - __Dimension of each word__"
   ]
  },
  {
   "cell_type": "code",
   "execution_count": 11,
   "metadata": {
    "ExecuteTime": {
     "end_time": "2020-05-28T10:17:40.765836Z",
     "start_time": "2020-05-28T10:17:40.745889Z"
    }
   },
   "outputs": [],
   "source": [
    "embedding_size = wv.vector_size"
   ]
  },
  {
   "cell_type": "code",
   "execution_count": 12,
   "metadata": {
    "ExecuteTime": {
     "end_time": "2020-05-28T10:17:40.782791Z",
     "start_time": "2020-05-28T10:17:40.767831Z"
    }
   },
   "outputs": [
    {
     "name": "stdout",
     "output_type": "stream",
     "text": [
      "Model contains 3000000 words\n"
     ]
    }
   ],
   "source": [
    "print(\"Model contains %d words\" %len(vocabulary))"
   ]
  },
  {
   "cell_type": "code",
   "execution_count": 13,
   "metadata": {
    "ExecuteTime": {
     "end_time": "2020-05-28T10:17:40.811713Z",
     "start_time": "2020-05-28T10:17:40.787777Z"
    }
   },
   "outputs": [
    {
     "name": "stdout",
     "output_type": "stream",
     "text": [
      "Each word is represented by a 300 dimensional vector\n"
     ]
    }
   ],
   "source": [
    "print(\"Each word is represented by a %d dimensional vector\" %embedding_size)"
   ]
  },
  {
   "cell_type": "markdown",
   "metadata": {},
   "source": [
    " - __Create X and y attrs__"
   ]
  },
  {
   "cell_type": "code",
   "execution_count": 14,
   "metadata": {
    "ExecuteTime": {
     "end_time": "2020-05-28T10:17:40.919591Z",
     "start_time": "2020-05-28T10:17:40.813709Z"
    }
   },
   "outputs": [
    {
     "data": {
      "text/plain": [
       "((50000,), (50000,))"
      ]
     },
     "execution_count": 14,
     "metadata": {},
     "output_type": "execute_result"
    }
   ],
   "source": [
    "X, y = dataset_new['review_processed'], dataset_new['sentiment']\n",
    "sdict = {'positive': 1, 'negative': 0}\n",
    "y = y.map(sdict)\n",
    "X.shape, y.shape"
   ]
  },
  {
   "cell_type": "code",
   "execution_count": 15,
   "metadata": {
    "ExecuteTime": {
     "end_time": "2020-05-28T10:17:40.945524Z",
     "start_time": "2020-05-28T10:17:40.921585Z"
    }
   },
   "outputs": [
    {
     "name": "stdout",
     "output_type": "stream",
     "text": [
      "Number of messages = 50000.\n",
      "Number of labels = 50000.\n"
     ]
    }
   ],
   "source": [
    "print('Number of messages = %d.' %len(X))\n",
    "print('Number of labels = %d.' %len(y))"
   ]
  },
  {
   "cell_type": "code",
   "execution_count": 16,
   "metadata": {
    "ExecuteTime": {
     "end_time": "2020-05-28T10:17:41.111079Z",
     "start_time": "2020-05-28T10:17:40.947517Z"
    }
   },
   "outputs": [
    {
     "name": "stdout",
     "output_type": "stream",
     "text": [
      "Number of missing messages: 0.\n",
      "Number of distinct messages = 49578\n"
     ]
    }
   ],
   "source": [
    "print(\"Number of missing messages: %d.\" %(np.sum(pd.isnull(X))))\n",
    "print(\"Number of distinct messages = %d\" %(dataset_new.review_processed.nunique()))"
   ]
  },
  {
   "cell_type": "markdown",
   "metadata": {},
   "source": [
    " - __Define word2vec function where mean of the vectors would be considered if the word exists__\n",
    " - __Else zero__"
   ]
  },
  {
   "cell_type": "code",
   "execution_count": 17,
   "metadata": {
    "ExecuteTime": {
     "end_time": "2020-05-28T10:17:41.410278Z",
     "start_time": "2020-05-28T10:17:41.113074Z"
    }
   },
   "outputs": [],
   "source": [
    "def mean_vector(review):\n",
    "    zero = np.zeros((embedding_size,), dtype=\"float32\")\n",
    "    if pd.isnull(review):\n",
    "        return zero\n",
    "    words = [w for w in review.split() if w in vocabulary]\n",
    "    if not words:\n",
    "        return zero\n",
    "    return np.mean([wv[w] for w in words], axis=0)"
   ]
  },
  {
   "cell_type": "code",
   "execution_count": 18,
   "metadata": {
    "ExecuteTime": {
     "end_time": "2020-05-28T10:17:41.434216Z",
     "start_time": "2020-05-28T10:17:41.411276Z"
    }
   },
   "outputs": [],
   "source": [
    "cols = ['v_'+str(i) for i in range(embedding_size)]"
   ]
  },
  {
   "cell_type": "code",
   "execution_count": 19,
   "metadata": {
    "ExecuteTime": {
     "end_time": "2020-05-28T10:18:02.996355Z",
     "start_time": "2020-05-28T10:17:41.435212Z"
    }
   },
   "outputs": [],
   "source": [
    "dfV = pd.DataFrame(list(map(mean_vector, X)), columns=cols)"
   ]
  },
  {
   "cell_type": "code",
   "execution_count": 20,
   "metadata": {
    "ExecuteTime": {
     "end_time": "2020-05-28T10:18:03.020271Z",
     "start_time": "2020-05-28T10:18:02.996355Z"
    }
   },
   "outputs": [],
   "source": [
    "dfV.insert(0, 'target', dataset['sentiment'])"
   ]
  },
  {
   "cell_type": "code",
   "execution_count": 21,
   "metadata": {
    "ExecuteTime": {
     "end_time": "2020-05-28T10:18:03.028250Z",
     "start_time": "2020-05-28T10:18:03.023267Z"
    }
   },
   "outputs": [
    {
     "name": "stdout",
     "output_type": "stream",
     "text": [
      "Representation has 50000 rows and 301 columns\n"
     ]
    }
   ],
   "source": [
    "print('Representation has %d rows and %d columns' %dfV.shape)"
   ]
  },
  {
   "cell_type": "code",
   "execution_count": 22,
   "metadata": {
    "ExecuteTime": {
     "end_time": "2020-05-28T10:18:03.108038Z",
     "start_time": "2020-05-28T10:18:03.038227Z"
    }
   },
   "outputs": [
    {
     "data": {
      "text/plain": [
       "((50000, 300), (50000,))"
      ]
     },
     "execution_count": 22,
     "metadata": {},
     "output_type": "execute_result"
    }
   ],
   "source": [
    "X = dfV.drop(labels='target', axis=1)\n",
    "y = dfV.target\n",
    "y = y.map(sdict)\n",
    "X.shape, y.shape"
   ]
  },
  {
   "cell_type": "markdown",
   "metadata": {},
   "source": [
    " - __Create training and testing datasets__"
   ]
  },
  {
   "cell_type": "code",
   "execution_count": 23,
   "metadata": {
    "ExecuteTime": {
     "end_time": "2020-05-28T10:18:03.337674Z",
     "start_time": "2020-05-28T10:18:03.111029Z"
    }
   },
   "outputs": [
    {
     "data": {
      "text/plain": [
       "((35000, 300), (15000, 300), (35000,), (15000,))"
      ]
     },
     "execution_count": 23,
     "metadata": {},
     "output_type": "execute_result"
    }
   ],
   "source": [
    "X_train, X_test, y_train, y_test = train_test_split(X, y, test_size=0.30, stratify=y, random_state=123)\n",
    "X_train.shape, X_test.shape, y_train.shape, y_test.shape"
   ]
  },
  {
   "cell_type": "code",
   "execution_count": 24,
   "metadata": {
    "ExecuteTime": {
     "end_time": "2020-05-28T10:18:03.360611Z",
     "start_time": "2020-05-28T10:18:03.339668Z"
    }
   },
   "outputs": [
    {
     "name": "stdout",
     "output_type": "stream",
     "text": [
      "Before OverSampling, counts of label '1': 17500\n",
      "Before OverSampling, counts of label '0': 17500 \n",
      "\n"
     ]
    }
   ],
   "source": [
    "print(\"Before OverSampling, counts of label '1': {}\".format(sum(y_train == 1))) \n",
    "print(\"Before OverSampling, counts of label '0': {} \\n\".format(sum(y_train == 0)))"
   ]
  },
  {
   "cell_type": "markdown",
   "metadata": {},
   "source": [
    " - __Apply scaling before Neural operations__"
   ]
  },
  {
   "cell_type": "code",
   "execution_count": 25,
   "metadata": {
    "ExecuteTime": {
     "end_time": "2020-05-28T10:18:03.732660Z",
     "start_time": "2020-05-28T10:18:03.362606Z"
    }
   },
   "outputs": [
    {
     "data": {
      "text/plain": [
       "((35000, 300), (15000, 300))"
      ]
     },
     "execution_count": 25,
     "metadata": {},
     "output_type": "execute_result"
    }
   ],
   "source": [
    "sc = StandardScaler()\n",
    "X_train = sc.fit_transform(X_train)\n",
    "X_test = sc.transform(X_test)\n",
    "X_train.shape, X_test.shape"
   ]
  },
  {
   "cell_type": "markdown",
   "metadata": {
    "ExecuteTime": {
     "end_time": "2020-05-28T08:28:47.655013Z",
     "start_time": "2020-05-28T08:28:47.647034Z"
    }
   },
   "source": [
    " - __Perform a basic Auto Neural Network model__\n",
    " - __input dimensions are 300 as there are those many columns from word2vec model__\n",
    " - __Choosing 150 neurons approximately, about half of input dimensions__\n",
    " - __Choosing gradient descent adam optimizer with binary cross entropy as loss because of binary classification__\n",
    " - __Dropping 10% of neurons from fully connected layers__\n",
    " - __Choosing sigmoid function for back propagation__\n",
    " - __Choosing reactive for forward propagation__"
   ]
  },
  {
   "cell_type": "code",
   "execution_count": 26,
   "metadata": {
    "ExecuteTime": {
     "end_time": "2020-05-28T10:18:03.738645Z",
     "start_time": "2020-05-28T10:18:03.733658Z"
    }
   },
   "outputs": [],
   "source": [
    "from keras.models import Sequential\n",
    "from keras.layers import Dense\n",
    "from keras.layers import Dropout\n",
    "from keras.wrappers.scikit_learn import KerasClassifier"
   ]
  },
  {
   "cell_type": "code",
   "execution_count": 27,
   "metadata": {
    "ExecuteTime": {
     "end_time": "2020-05-28T10:40:12.171197Z",
     "start_time": "2020-05-28T10:18:03.739642Z"
    }
   },
   "outputs": [
    {
     "name": "stdout",
     "output_type": "stream",
     "text": [
      "Epoch 1/500\n",
      "35000/35000 [==============================] - 4s 101us/step - loss: 0.3586 - accuracy: 0.8465\n",
      "Epoch 2/500\n",
      "35000/35000 [==============================] - 3s 85us/step - loss: 0.3240 - accuracy: 0.8642\n",
      "Epoch 3/500\n",
      "35000/35000 [==============================] - 3s 84us/step - loss: 0.3071 - accuracy: 0.8716\n",
      "Epoch 4/500\n",
      "35000/35000 [==============================] - 3s 74us/step - loss: 0.2904 - accuracy: 0.8757\n",
      "Epoch 5/500\n",
      "35000/35000 [==============================] - 3s 74us/step - loss: 0.2725 - accuracy: 0.8837\n",
      "Epoch 6/500\n",
      "35000/35000 [==============================] - 3s 73us/step - loss: 0.2548 - accuracy: 0.8898\n",
      "Epoch 7/500\n",
      "35000/35000 [==============================] - 3s 74us/step - loss: 0.2358 - accuracy: 0.8955\n",
      "Epoch 8/500\n",
      "35000/35000 [==============================] - 3s 74us/step - loss: 0.2212 - accuracy: 0.9030\n",
      "Epoch 9/500\n",
      "35000/35000 [==============================] - 3s 74us/step - loss: 0.2032 - accuracy: 0.9106\n",
      "Epoch 10/500\n",
      "35000/35000 [==============================] - 3s 74us/step - loss: 0.1885 - accuracy: 0.9157\n",
      "Epoch 11/500\n",
      "35000/35000 [==============================] - 3s 73us/step - loss: 0.1747 - accuracy: 0.9224\n",
      "Epoch 12/500\n",
      "35000/35000 [==============================] - 3s 75us/step - loss: 0.1633 - accuracy: 0.9278\n",
      "Epoch 13/500\n",
      "35000/35000 [==============================] - 3s 74us/step - loss: 0.1542 - accuracy: 0.9337\n",
      "Epoch 14/500\n",
      "35000/35000 [==============================] - 3s 74us/step - loss: 0.1410 - accuracy: 0.9393\n",
      "Epoch 15/500\n",
      "35000/35000 [==============================] - 3s 74us/step - loss: 0.1369 - accuracy: 0.9407\n",
      "Epoch 16/500\n",
      "35000/35000 [==============================] - 3s 75us/step - loss: 0.1270 - accuracy: 0.9459\n",
      "Epoch 17/500\n",
      "35000/35000 [==============================] - 3s 74us/step - loss: 0.1199 - accuracy: 0.9492\n",
      "Epoch 18/500\n",
      "35000/35000 [==============================] - 3s 74us/step - loss: 0.1123 - accuracy: 0.9548\n",
      "Epoch 19/500\n",
      "35000/35000 [==============================] - 3s 74us/step - loss: 0.1099 - accuracy: 0.9555\n",
      "Epoch 20/500\n",
      "35000/35000 [==============================] - 3s 74us/step - loss: 0.1038 - accuracy: 0.9575\n",
      "Epoch 21/500\n",
      "35000/35000 [==============================] - 3s 74us/step - loss: 0.0993 - accuracy: 0.9596\n",
      "Epoch 22/500\n",
      "35000/35000 [==============================] - 3s 76us/step - loss: 0.0916 - accuracy: 0.9643\n",
      "Epoch 23/500\n",
      "35000/35000 [==============================] - 3s 75us/step - loss: 0.0867 - accuracy: 0.9646\n",
      "Epoch 24/500\n",
      "35000/35000 [==============================] - 3s 74us/step - loss: 0.0832 - accuracy: 0.9670\n",
      "Epoch 25/500\n",
      "35000/35000 [==============================] - 3s 74us/step - loss: 0.0810 - accuracy: 0.9686\n",
      "Epoch 26/500\n",
      "35000/35000 [==============================] - 3s 74us/step - loss: 0.0762 - accuracy: 0.9706\n",
      "Epoch 27/500\n",
      "35000/35000 [==============================] - 3s 74us/step - loss: 0.0760 - accuracy: 0.9707\n",
      "Epoch 28/500\n",
      "35000/35000 [==============================] - 3s 74us/step - loss: 0.0781 - accuracy: 0.9701\n",
      "Epoch 29/500\n",
      "35000/35000 [==============================] - 3s 74us/step - loss: 0.0741 - accuracy: 0.9719\n",
      "Epoch 30/500\n",
      "35000/35000 [==============================] - 3s 74us/step - loss: 0.0723 - accuracy: 0.9737\n",
      "Epoch 31/500\n",
      "35000/35000 [==============================] - 3s 91us/step - loss: 0.0693 - accuracy: 0.9748\n",
      "Epoch 32/500\n",
      "35000/35000 [==============================] - 3s 87us/step - loss: 0.0674 - accuracy: 0.9743\n",
      "Epoch 33/500\n",
      "35000/35000 [==============================] - 3s 88us/step - loss: 0.0695 - accuracy: 0.9751\n",
      "Epoch 34/500\n",
      "35000/35000 [==============================] - 3s 91us/step - loss: 0.0632 - accuracy: 0.9765\n",
      "Epoch 35/500\n",
      "35000/35000 [==============================] - 3s 94us/step - loss: 0.0631 - accuracy: 0.9773\n",
      "Epoch 36/500\n",
      "35000/35000 [==============================] - 3s 91us/step - loss: 0.0604 - accuracy: 0.9783\n",
      "Epoch 37/500\n",
      "35000/35000 [==============================] - 3s 79us/step - loss: 0.0607 - accuracy: 0.9778\n",
      "Epoch 38/500\n",
      "35000/35000 [==============================] - 3s 74us/step - loss: 0.0577 - accuracy: 0.9799\n",
      "Epoch 39/500\n",
      "35000/35000 [==============================] - 3s 75us/step - loss: 0.0601 - accuracy: 0.9781\n",
      "Epoch 40/500\n",
      "35000/35000 [==============================] - 3s 75us/step - loss: 0.0578 - accuracy: 0.9790\n",
      "Epoch 41/500\n",
      "35000/35000 [==============================] - 3s 74us/step - loss: 0.0535 - accuracy: 0.9807\n",
      "Epoch 42/500\n",
      "35000/35000 [==============================] - 3s 75us/step - loss: 0.0548 - accuracy: 0.9797\n",
      "Epoch 43/500\n",
      "35000/35000 [==============================] - 3s 74us/step - loss: 0.0544 - accuracy: 0.9814\n",
      "Epoch 44/500\n",
      "35000/35000 [==============================] - 3s 78us/step - loss: 0.0508 - accuracy: 0.9824\n",
      "Epoch 45/500\n",
      "35000/35000 [==============================] - 3s 76us/step - loss: 0.0526 - accuracy: 0.9826\n",
      "Epoch 46/500\n",
      "35000/35000 [==============================] - 3s 74us/step - loss: 0.0490 - accuracy: 0.9820\n",
      "Epoch 47/500\n",
      "35000/35000 [==============================] - 3s 75us/step - loss: 0.0494 - accuracy: 0.9820\n",
      "Epoch 48/500\n",
      "35000/35000 [==============================] - 3s 74us/step - loss: 0.0465 - accuracy: 0.9843\n",
      "Epoch 49/500\n",
      "35000/35000 [==============================] - 3s 80us/step - loss: 0.0507 - accuracy: 0.9829\n",
      "Epoch 50/500\n",
      "35000/35000 [==============================] - 3s 77us/step - loss: 0.0462 - accuracy: 0.9837\n",
      "Epoch 51/500\n",
      "35000/35000 [==============================] - 3s 77us/step - loss: 0.0448 - accuracy: 0.9837\n",
      "Epoch 52/500\n",
      "35000/35000 [==============================] - 3s 76us/step - loss: 0.0521 - accuracy: 0.9825\n",
      "Epoch 53/500\n",
      "35000/35000 [==============================] - 3s 75us/step - loss: 0.0457 - accuracy: 0.9836\n",
      "Epoch 54/500\n",
      "35000/35000 [==============================] - 3s 75us/step - loss: 0.0444 - accuracy: 0.9837\n",
      "Epoch 55/500\n",
      "35000/35000 [==============================] - 3s 74us/step - loss: 0.0461 - accuracy: 0.9837\n",
      "Epoch 56/500\n",
      "35000/35000 [==============================] - 3s 75us/step - loss: 0.0418 - accuracy: 0.9853\n",
      "Epoch 57/500\n",
      "35000/35000 [==============================] - 3s 74us/step - loss: 0.0404 - accuracy: 0.9861\n",
      "Epoch 58/500\n",
      "35000/35000 [==============================] - 3s 75us/step - loss: 0.0439 - accuracy: 0.9857\n",
      "Epoch 59/500\n",
      "35000/35000 [==============================] - 3s 75us/step - loss: 0.0422 - accuracy: 0.9855\n",
      "Epoch 60/500\n",
      "35000/35000 [==============================] - 3s 76us/step - loss: 0.0403 - accuracy: 0.9863\n",
      "Epoch 61/500\n",
      "35000/35000 [==============================] - 3s 75us/step - loss: 0.0446 - accuracy: 0.9843\n",
      "Epoch 62/500\n",
      "35000/35000 [==============================] - 3s 74us/step - loss: 0.0410 - accuracy: 0.9859\n",
      "Epoch 63/500\n",
      "35000/35000 [==============================] - 3s 75us/step - loss: 0.0382 - accuracy: 0.9869\n",
      "Epoch 64/500\n",
      "35000/35000 [==============================] - 3s 74us/step - loss: 0.0405 - accuracy: 0.9857\n",
      "Epoch 65/500\n",
      "35000/35000 [==============================] - 3s 74us/step - loss: 0.0388 - accuracy: 0.9860\n",
      "Epoch 66/500\n",
      "35000/35000 [==============================] - 3s 75us/step - loss: 0.0399 - accuracy: 0.9866\n",
      "Epoch 67/500\n",
      "35000/35000 [==============================] - 3s 74us/step - loss: 0.0387 - accuracy: 0.9873\n",
      "Epoch 68/500\n",
      "35000/35000 [==============================] - 3s 75us/step - loss: 0.0384 - accuracy: 0.9866\n",
      "Epoch 69/500\n",
      "35000/35000 [==============================] - 3s 75us/step - loss: 0.0373 - accuracy: 0.9873\n",
      "Epoch 70/500\n",
      "35000/35000 [==============================] - 3s 74us/step - loss: 0.0399 - accuracy: 0.9871\n",
      "Epoch 71/500\n",
      "35000/35000 [==============================] - 3s 75us/step - loss: 0.0398 - accuracy: 0.9867\n",
      "Epoch 72/500\n",
      "35000/35000 [==============================] - 3s 74us/step - loss: 0.0379 - accuracy: 0.9867\n",
      "Epoch 73/500\n",
      "35000/35000 [==============================] - 3s 75us/step - loss: 0.0344 - accuracy: 0.9879\n",
      "Epoch 74/500\n",
      "35000/35000 [==============================] - 3s 75us/step - loss: 0.0349 - accuracy: 0.9882\n",
      "Epoch 75/500\n",
      "35000/35000 [==============================] - 3s 74us/step - loss: 0.0359 - accuracy: 0.9880\n",
      "Epoch 76/500\n",
      "35000/35000 [==============================] - 3s 75us/step - loss: 0.0357 - accuracy: 0.9880\n",
      "Epoch 77/500\n"
     ]
    },
    {
     "name": "stdout",
     "output_type": "stream",
     "text": [
      "35000/35000 [==============================] - 3s 73us/step - loss: 0.0322 - accuracy: 0.9889\n",
      "Epoch 78/500\n",
      "35000/35000 [==============================] - 3s 73us/step - loss: 0.0332 - accuracy: 0.9885\n",
      "Epoch 79/500\n",
      "35000/35000 [==============================] - 3s 73us/step - loss: 0.0363 - accuracy: 0.9880\n",
      "Epoch 80/500\n",
      "35000/35000 [==============================] - 3s 74us/step - loss: 0.0332 - accuracy: 0.9890\n",
      "Epoch 81/500\n",
      "35000/35000 [==============================] - 3s 73us/step - loss: 0.0333 - accuracy: 0.9891\n",
      "Epoch 82/500\n",
      "35000/35000 [==============================] - 3s 73us/step - loss: 0.0351 - accuracy: 0.9886\n",
      "Epoch 83/500\n",
      "35000/35000 [==============================] - 3s 73us/step - loss: 0.0323 - accuracy: 0.9893\n",
      "Epoch 84/500\n",
      "35000/35000 [==============================] - 3s 73us/step - loss: 0.0311 - accuracy: 0.9901\n",
      "Epoch 85/500\n",
      "35000/35000 [==============================] - 3s 75us/step - loss: 0.0319 - accuracy: 0.9887\n",
      "Epoch 86/500\n",
      "35000/35000 [==============================] - 3s 73us/step - loss: 0.0309 - accuracy: 0.9896\n",
      "Epoch 87/500\n",
      "35000/35000 [==============================] - 3s 75us/step - loss: 0.0298 - accuracy: 0.9905\n",
      "Epoch 88/500\n",
      "35000/35000 [==============================] - 3s 73us/step - loss: 0.0319 - accuracy: 0.9892\n",
      "Epoch 89/500\n",
      "35000/35000 [==============================] - 3s 74us/step - loss: 0.0311 - accuracy: 0.9895\n",
      "Epoch 90/500\n",
      "35000/35000 [==============================] - 3s 76us/step - loss: 0.0325 - accuracy: 0.9900\n",
      "Epoch 91/500\n",
      "35000/35000 [==============================] - 3s 74us/step - loss: 0.0308 - accuracy: 0.9894\n",
      "Epoch 92/500\n",
      "35000/35000 [==============================] - 3s 73us/step - loss: 0.0319 - accuracy: 0.9889\n",
      "Epoch 93/500\n",
      "35000/35000 [==============================] - 3s 73us/step - loss: 0.0321 - accuracy: 0.9894\n",
      "Epoch 94/500\n",
      "35000/35000 [==============================] - 3s 74us/step - loss: 0.0340 - accuracy: 0.9886\n",
      "Epoch 95/500\n",
      "35000/35000 [==============================] - 3s 74us/step - loss: 0.0309 - accuracy: 0.9897\n",
      "Epoch 96/500\n",
      "35000/35000 [==============================] - 3s 73us/step - loss: 0.0280 - accuracy: 0.9910\n",
      "Epoch 97/500\n",
      "35000/35000 [==============================] - 3s 73us/step - loss: 0.0281 - accuracy: 0.9902\n",
      "Epoch 98/500\n",
      "35000/35000 [==============================] - 3s 74us/step - loss: 0.0316 - accuracy: 0.9896\n",
      "Epoch 99/500\n",
      "35000/35000 [==============================] - 3s 75us/step - loss: 0.0307 - accuracy: 0.9895\n",
      "Epoch 100/500\n",
      "35000/35000 [==============================] - 3s 74us/step - loss: 0.0313 - accuracy: 0.9900\n",
      "Epoch 101/500\n",
      "35000/35000 [==============================] - 3s 74us/step - loss: 0.0302 - accuracy: 0.9896\n",
      "Epoch 102/500\n",
      "35000/35000 [==============================] - 3s 74us/step - loss: 0.0273 - accuracy: 0.9911\n",
      "Epoch 103/500\n",
      "35000/35000 [==============================] - 3s 74us/step - loss: 0.0306 - accuracy: 0.9903\n",
      "Epoch 104/500\n",
      "35000/35000 [==============================] - 3s 76us/step - loss: 0.0266 - accuracy: 0.9908\n",
      "Epoch 105/500\n",
      "35000/35000 [==============================] - 3s 74us/step - loss: 0.0315 - accuracy: 0.9897\n",
      "Epoch 106/500\n",
      "35000/35000 [==============================] - 3s 74us/step - loss: 0.0288 - accuracy: 0.9904\n",
      "Epoch 107/500\n",
      "35000/35000 [==============================] - 3s 74us/step - loss: 0.0275 - accuracy: 0.9905\n",
      "Epoch 108/500\n",
      "35000/35000 [==============================] - 3s 76us/step - loss: 0.0258 - accuracy: 0.9914\n",
      "Epoch 109/500\n",
      "35000/35000 [==============================] - 3s 74us/step - loss: 0.0261 - accuracy: 0.9912\n",
      "Epoch 110/500\n",
      "35000/35000 [==============================] - 3s 74us/step - loss: 0.0287 - accuracy: 0.9905\n",
      "Epoch 111/500\n",
      "35000/35000 [==============================] - 3s 74us/step - loss: 0.0267 - accuracy: 0.9913\n",
      "Epoch 112/500\n",
      "35000/35000 [==============================] - 3s 74us/step - loss: 0.0290 - accuracy: 0.9903\n",
      "Epoch 113/500\n",
      "35000/35000 [==============================] - 3s 74us/step - loss: 0.0280 - accuracy: 0.9903\n",
      "Epoch 114/500\n",
      "35000/35000 [==============================] - 3s 74us/step - loss: 0.0291 - accuracy: 0.9901\n",
      "Epoch 115/500\n",
      "35000/35000 [==============================] - 3s 74us/step - loss: 0.0284 - accuracy: 0.9907\n",
      "Epoch 116/500\n",
      "35000/35000 [==============================] - 3s 75us/step - loss: 0.0268 - accuracy: 0.9917\n",
      "Epoch 117/500\n",
      "35000/35000 [==============================] - 3s 74us/step - loss: 0.0264 - accuracy: 0.9913\n",
      "Epoch 118/500\n",
      "35000/35000 [==============================] - 3s 74us/step - loss: 0.0247 - accuracy: 0.9917\n",
      "Epoch 119/500\n",
      "35000/35000 [==============================] - 3s 74us/step - loss: 0.0215 - accuracy: 0.9927\n",
      "Epoch 120/500\n",
      "35000/35000 [==============================] - 3s 74us/step - loss: 0.0285 - accuracy: 0.9904\n",
      "Epoch 121/500\n",
      "35000/35000 [==============================] - 3s 74us/step - loss: 0.0241 - accuracy: 0.9918\n",
      "Epoch 122/500\n",
      "35000/35000 [==============================] - 3s 75us/step - loss: 0.0264 - accuracy: 0.9912\n",
      "Epoch 123/500\n",
      "35000/35000 [==============================] - 3s 74us/step - loss: 0.0279 - accuracy: 0.9911\n",
      "Epoch 124/500\n",
      "35000/35000 [==============================] - 3s 75us/step - loss: 0.0242 - accuracy: 0.9917\n",
      "Epoch 125/500\n",
      "35000/35000 [==============================] - 3s 74us/step - loss: 0.0252 - accuracy: 0.9915\n",
      "Epoch 126/500\n",
      "35000/35000 [==============================] - 3s 75us/step - loss: 0.0252 - accuracy: 0.9918\n",
      "Epoch 127/500\n",
      "35000/35000 [==============================] - 3s 74us/step - loss: 0.0245 - accuracy: 0.9921\n",
      "Epoch 128/500\n",
      "35000/35000 [==============================] - 3s 74us/step - loss: 0.0275 - accuracy: 0.9909\n",
      "Epoch 129/500\n",
      "35000/35000 [==============================] - 3s 75us/step - loss: 0.0243 - accuracy: 0.9921\n",
      "Epoch 130/500\n",
      "35000/35000 [==============================] - 3s 75us/step - loss: 0.0244 - accuracy: 0.9919\n",
      "Epoch 131/500\n",
      "35000/35000 [==============================] - 3s 76us/step - loss: 0.0242 - accuracy: 0.9920\n",
      "Epoch 132/500\n",
      "35000/35000 [==============================] - 3s 75us/step - loss: 0.0275 - accuracy: 0.9911\n",
      "Epoch 133/500\n",
      "35000/35000 [==============================] - 3s 75us/step - loss: 0.0232 - accuracy: 0.9928\n",
      "Epoch 134/500\n",
      "35000/35000 [==============================] - 3s 74us/step - loss: 0.0204 - accuracy: 0.9934\n",
      "Epoch 135/500\n",
      "35000/35000 [==============================] - 3s 75us/step - loss: 0.0264 - accuracy: 0.9910\n",
      "Epoch 136/500\n",
      "35000/35000 [==============================] - 3s 75us/step - loss: 0.0273 - accuracy: 0.9916\n",
      "Epoch 137/500\n",
      "35000/35000 [==============================] - 3s 78us/step - loss: 0.0241 - accuracy: 0.9920\n",
      "Epoch 138/500\n",
      "35000/35000 [==============================] - 3s 74us/step - loss: 0.0218 - accuracy: 0.9930\n",
      "Epoch 139/500\n",
      "35000/35000 [==============================] - 3s 74us/step - loss: 0.0233 - accuracy: 0.9921\n",
      "Epoch 140/500\n",
      "35000/35000 [==============================] - 3s 75us/step - loss: 0.0246 - accuracy: 0.9911\n",
      "Epoch 141/500\n",
      "35000/35000 [==============================] - 3s 75us/step - loss: 0.0241 - accuracy: 0.9923\n",
      "Epoch 142/500\n",
      "35000/35000 [==============================] - 3s 75us/step - loss: 0.0249 - accuracy: 0.9923\n",
      "Epoch 143/500\n",
      "35000/35000 [==============================] - 3s 75us/step - loss: 0.0227 - accuracy: 0.9920\n",
      "Epoch 144/500\n",
      "35000/35000 [==============================] - 3s 75us/step - loss: 0.0217 - accuracy: 0.9924\n",
      "Epoch 145/500\n",
      "35000/35000 [==============================] - 3s 78us/step - loss: 0.0268 - accuracy: 0.9921\n",
      "Epoch 146/500\n",
      "35000/35000 [==============================] - 3s 75us/step - loss: 0.0225 - accuracy: 0.9924\n",
      "Epoch 147/500\n",
      "35000/35000 [==============================] - 3s 75us/step - loss: 0.0230 - accuracy: 0.9925\n",
      "Epoch 148/500\n",
      "35000/35000 [==============================] - 3s 74us/step - loss: 0.0239 - accuracy: 0.9924\n",
      "Epoch 149/500\n",
      "35000/35000 [==============================] - 3s 75us/step - loss: 0.0230 - accuracy: 0.9928\n",
      "Epoch 150/500\n",
      "35000/35000 [==============================] - 3s 76us/step - loss: 0.0228 - accuracy: 0.9924\n",
      "Epoch 151/500\n",
      "35000/35000 [==============================] - 3s 75us/step - loss: 0.0235 - accuracy: 0.9924\n",
      "Epoch 152/500\n",
      "35000/35000 [==============================] - 3s 75us/step - loss: 0.0234 - accuracy: 0.9928\n",
      "Epoch 153/500\n"
     ]
    },
    {
     "name": "stdout",
     "output_type": "stream",
     "text": [
      "35000/35000 [==============================] - 3s 73us/step - loss: 0.0255 - accuracy: 0.9926\n",
      "Epoch 154/500\n",
      "35000/35000 [==============================] - 3s 74us/step - loss: 0.0209 - accuracy: 0.9933\n",
      "Epoch 155/500\n",
      "35000/35000 [==============================] - 3s 73us/step - loss: 0.0222 - accuracy: 0.9925\n",
      "Epoch 156/500\n",
      "35000/35000 [==============================] - 3s 73us/step - loss: 0.0255 - accuracy: 0.9919\n",
      "Epoch 157/500\n",
      "35000/35000 [==============================] - 3s 74us/step - loss: 0.0205 - accuracy: 0.9930\n",
      "Epoch 158/500\n",
      "35000/35000 [==============================] - 3s 74us/step - loss: 0.0202 - accuracy: 0.9939\n",
      "Epoch 159/500\n",
      "35000/35000 [==============================] - 3s 74us/step - loss: 0.0240 - accuracy: 0.9924\n",
      "Epoch 160/500\n",
      "35000/35000 [==============================] - 3s 74us/step - loss: 0.0209 - accuracy: 0.9933\n",
      "Epoch 161/500\n",
      "35000/35000 [==============================] - 3s 74us/step - loss: 0.0197 - accuracy: 0.9933\n",
      "Epoch 162/500\n",
      "35000/35000 [==============================] - 3s 73us/step - loss: 0.0217 - accuracy: 0.9930\n",
      "Epoch 163/500\n",
      "35000/35000 [==============================] - 3s 74us/step - loss: 0.0236 - accuracy: 0.9918\n",
      "Epoch 164/500\n",
      "35000/35000 [==============================] - 3s 78us/step - loss: 0.0192 - accuracy: 0.9935\n",
      "Epoch 165/500\n",
      "35000/35000 [==============================] - 3s 83us/step - loss: 0.0212 - accuracy: 0.9931\n",
      "Epoch 166/500\n",
      "35000/35000 [==============================] - 3s 74us/step - loss: 0.0226 - accuracy: 0.9927\n",
      "Epoch 167/500\n",
      "35000/35000 [==============================] - 3s 74us/step - loss: 0.0203 - accuracy: 0.9934\n",
      "Epoch 168/500\n",
      "35000/35000 [==============================] - 3s 74us/step - loss: 0.0202 - accuracy: 0.9932\n",
      "Epoch 169/500\n",
      "35000/35000 [==============================] - 3s 74us/step - loss: 0.0212 - accuracy: 0.9928\n",
      "Epoch 170/500\n",
      "35000/35000 [==============================] - 3s 74us/step - loss: 0.0215 - accuracy: 0.9932\n",
      "Epoch 171/500\n",
      "35000/35000 [==============================] - 3s 74us/step - loss: 0.0206 - accuracy: 0.9935\n",
      "Epoch 172/500\n",
      "35000/35000 [==============================] - 3s 74us/step - loss: 0.0227 - accuracy: 0.9927\n",
      "Epoch 173/500\n",
      "35000/35000 [==============================] - 3s 74us/step - loss: 0.0213 - accuracy: 0.9935\n",
      "Epoch 174/500\n",
      "35000/35000 [==============================] - 3s 74us/step - loss: 0.0233 - accuracy: 0.9925\n",
      "Epoch 175/500\n",
      "35000/35000 [==============================] - 3s 89us/step - loss: 0.0233 - accuracy: 0.9925\n",
      "Epoch 176/500\n",
      "35000/35000 [==============================] - 3s 82us/step - loss: 0.0234 - accuracy: 0.9927\n",
      "Epoch 177/500\n",
      "35000/35000 [==============================] - 3s 74us/step - loss: 0.0199 - accuracy: 0.9937\n",
      "Epoch 178/500\n",
      "35000/35000 [==============================] - 3s 74us/step - loss: 0.0187 - accuracy: 0.9942\n",
      "Epoch 179/500\n",
      "35000/35000 [==============================] - 3s 74us/step - loss: 0.0195 - accuracy: 0.9932\n",
      "Epoch 180/500\n",
      "35000/35000 [==============================] - 3s 74us/step - loss: 0.0193 - accuracy: 0.9938\n",
      "Epoch 181/500\n",
      "35000/35000 [==============================] - 3s 74us/step - loss: 0.0230 - accuracy: 0.9928\n",
      "Epoch 182/500\n",
      "35000/35000 [==============================] - 3s 78us/step - loss: 0.0231 - accuracy: 0.9926\n",
      "Epoch 183/500\n",
      "35000/35000 [==============================] - 3s 73us/step - loss: 0.0201 - accuracy: 0.9934\n",
      "Epoch 184/500\n",
      "35000/35000 [==============================] - 3s 74us/step - loss: 0.0236 - accuracy: 0.9929\n",
      "Epoch 185/500\n",
      "35000/35000 [==============================] - 3s 74us/step - loss: 0.0197 - accuracy: 0.9938\n",
      "Epoch 186/500\n",
      "35000/35000 [==============================] - 3s 74us/step - loss: 0.0193 - accuracy: 0.9940\n",
      "Epoch 187/500\n",
      "35000/35000 [==============================] - 3s 74us/step - loss: 0.0212 - accuracy: 0.9931\n",
      "Epoch 188/500\n",
      "35000/35000 [==============================] - 3s 74us/step - loss: 0.0180 - accuracy: 0.9943\n",
      "Epoch 189/500\n",
      "35000/35000 [==============================] - 3s 74us/step - loss: 0.0209 - accuracy: 0.9929\n",
      "Epoch 190/500\n",
      "35000/35000 [==============================] - 3s 74us/step - loss: 0.0222 - accuracy: 0.9927\n",
      "Epoch 191/500\n",
      "35000/35000 [==============================] - 3s 75us/step - loss: 0.0210 - accuracy: 0.9935\n",
      "Epoch 192/500\n",
      "35000/35000 [==============================] - 3s 74us/step - loss: 0.0180 - accuracy: 0.9946\n",
      "Epoch 193/500\n",
      "35000/35000 [==============================] - 3s 74us/step - loss: 0.0201 - accuracy: 0.9938\n",
      "Epoch 194/500\n",
      "35000/35000 [==============================] - 3s 74us/step - loss: 0.0186 - accuracy: 0.9939\n",
      "Epoch 195/500\n",
      "35000/35000 [==============================] - 3s 75us/step - loss: 0.0196 - accuracy: 0.9941\n",
      "Epoch 196/500\n",
      "35000/35000 [==============================] - 3s 76us/step - loss: 0.0182 - accuracy: 0.9938\n",
      "Epoch 197/500\n",
      "35000/35000 [==============================] - 3s 74us/step - loss: 0.0202 - accuracy: 0.9933\n",
      "Epoch 198/500\n",
      "35000/35000 [==============================] - 3s 74us/step - loss: 0.0200 - accuracy: 0.9934\n",
      "Epoch 199/500\n",
      "35000/35000 [==============================] - 3s 74us/step - loss: 0.0226 - accuracy: 0.9928\n",
      "Epoch 200/500\n",
      "35000/35000 [==============================] - 3s 74us/step - loss: 0.0202 - accuracy: 0.9932\n",
      "Epoch 201/500\n",
      "35000/35000 [==============================] - 3s 74us/step - loss: 0.0182 - accuracy: 0.9938\n",
      "Epoch 202/500\n",
      "35000/35000 [==============================] - 3s 74us/step - loss: 0.0193 - accuracy: 0.9934\n",
      "Epoch 203/500\n",
      "35000/35000 [==============================] - 3s 74us/step - loss: 0.0174 - accuracy: 0.9947\n",
      "Epoch 204/500\n",
      "35000/35000 [==============================] - 3s 75us/step - loss: 0.0183 - accuracy: 0.9942\n",
      "Epoch 205/500\n",
      "35000/35000 [==============================] - 3s 74us/step - loss: 0.0197 - accuracy: 0.9939\n",
      "Epoch 206/500\n",
      "35000/35000 [==============================] - 3s 75us/step - loss: 0.0211 - accuracy: 0.9930\n",
      "Epoch 207/500\n",
      "35000/35000 [==============================] - 3s 75us/step - loss: 0.0172 - accuracy: 0.9945\n",
      "Epoch 208/500\n",
      "35000/35000 [==============================] - 3s 74us/step - loss: 0.0187 - accuracy: 0.9938\n",
      "Epoch 209/500\n",
      "35000/35000 [==============================] - 3s 74us/step - loss: 0.0188 - accuracy: 0.9938\n",
      "Epoch 210/500\n",
      "35000/35000 [==============================] - 3s 75us/step - loss: 0.0189 - accuracy: 0.9940\n",
      "Epoch 211/500\n",
      "35000/35000 [==============================] - 3s 75us/step - loss: 0.0204 - accuracy: 0.9940\n",
      "Epoch 212/500\n",
      "35000/35000 [==============================] - 3s 75us/step - loss: 0.0192 - accuracy: 0.9935\n",
      "Epoch 213/500\n",
      "35000/35000 [==============================] - 3s 74us/step - loss: 0.0204 - accuracy: 0.9933\n",
      "Epoch 214/500\n",
      "35000/35000 [==============================] - 3s 74us/step - loss: 0.0184 - accuracy: 0.9945\n",
      "Epoch 215/500\n",
      "35000/35000 [==============================] - 3s 74us/step - loss: 0.0179 - accuracy: 0.9945\n",
      "Epoch 216/500\n",
      "35000/35000 [==============================] - 3s 74us/step - loss: 0.0187 - accuracy: 0.9945\n",
      "Epoch 217/500\n",
      "35000/35000 [==============================] - 3s 76us/step - loss: 0.0210 - accuracy: 0.9932\n",
      "Epoch 218/500\n",
      "35000/35000 [==============================] - 3s 75us/step - loss: 0.0173 - accuracy: 0.9942\n",
      "Epoch 219/500\n",
      "35000/35000 [==============================] - 3s 79us/step - loss: 0.0181 - accuracy: 0.9942\n",
      "Epoch 220/500\n",
      "35000/35000 [==============================] - 3s 75us/step - loss: 0.0179 - accuracy: 0.9944\n",
      "Epoch 221/500\n",
      "35000/35000 [==============================] - 3s 75us/step - loss: 0.0190 - accuracy: 0.9942\n",
      "Epoch 222/500\n",
      "35000/35000 [==============================] - 3s 75us/step - loss: 0.0178 - accuracy: 0.9941\n",
      "Epoch 223/500\n",
      "35000/35000 [==============================] - 3s 83us/step - loss: 0.0155 - accuracy: 0.9950\n",
      "Epoch 224/500\n",
      "35000/35000 [==============================] - 3s 75us/step - loss: 0.0181 - accuracy: 0.9943\n",
      "Epoch 225/500\n",
      "35000/35000 [==============================] - 3s 76us/step - loss: 0.0178 - accuracy: 0.9944\n",
      "Epoch 226/500\n",
      "35000/35000 [==============================] - 3s 75us/step - loss: 0.0193 - accuracy: 0.9937\n",
      "Epoch 227/500\n",
      "35000/35000 [==============================] - 3s 75us/step - loss: 0.0186 - accuracy: 0.9940\n",
      "Epoch 228/500\n",
      "35000/35000 [==============================] - 3s 79us/step - loss: 0.0186 - accuracy: 0.9939\n"
     ]
    },
    {
     "name": "stdout",
     "output_type": "stream",
     "text": [
      "Epoch 229/500\n",
      "35000/35000 [==============================] - 3s 72us/step - loss: 0.0184 - accuracy: 0.9942\n",
      "Epoch 230/500\n",
      "35000/35000 [==============================] - 3s 74us/step - loss: 0.0183 - accuracy: 0.9941\n",
      "Epoch 231/500\n",
      "35000/35000 [==============================] - 3s 73us/step - loss: 0.0177 - accuracy: 0.9944\n",
      "Epoch 232/500\n",
      "35000/35000 [==============================] - 3s 73us/step - loss: 0.0165 - accuracy: 0.9952\n",
      "Epoch 233/500\n",
      "35000/35000 [==============================] - 3s 73us/step - loss: 0.0193 - accuracy: 0.9937\n",
      "Epoch 234/500\n",
      "35000/35000 [==============================] - 3s 74us/step - loss: 0.0184 - accuracy: 0.9941\n",
      "Epoch 235/500\n",
      "35000/35000 [==============================] - 3s 73us/step - loss: 0.0170 - accuracy: 0.9944\n",
      "Epoch 236/500\n",
      "35000/35000 [==============================] - 3s 74us/step - loss: 0.0178 - accuracy: 0.9939\n",
      "Epoch 237/500\n",
      "35000/35000 [==============================] - 3s 74us/step - loss: 0.0167 - accuracy: 0.9945\n",
      "Epoch 238/500\n",
      "35000/35000 [==============================] - 3s 74us/step - loss: 0.0187 - accuracy: 0.9942\n",
      "Epoch 239/500\n",
      "35000/35000 [==============================] - 3s 74us/step - loss: 0.0173 - accuracy: 0.9945\n",
      "Epoch 240/500\n",
      "35000/35000 [==============================] - 3s 73us/step - loss: 0.0201 - accuracy: 0.9940\n",
      "Epoch 241/500\n",
      "35000/35000 [==============================] - 3s 74us/step - loss: 0.0155 - accuracy: 0.9955\n",
      "Epoch 242/500\n",
      "35000/35000 [==============================] - 3s 75us/step - loss: 0.0202 - accuracy: 0.9939\n",
      "Epoch 243/500\n",
      "35000/35000 [==============================] - 3s 74us/step - loss: 0.0159 - accuracy: 0.9950\n",
      "Epoch 244/500\n",
      "35000/35000 [==============================] - 3s 74us/step - loss: 0.0190 - accuracy: 0.9942\n",
      "Epoch 245/500\n",
      "35000/35000 [==============================] - 3s 73us/step - loss: 0.0181 - accuracy: 0.9939\n",
      "Epoch 246/500\n",
      "35000/35000 [==============================] - 3s 74us/step - loss: 0.0178 - accuracy: 0.9949\n",
      "Epoch 247/500\n",
      "35000/35000 [==============================] - 3s 74us/step - loss: 0.0167 - accuracy: 0.9947\n",
      "Epoch 248/500\n",
      "35000/35000 [==============================] - 3s 74us/step - loss: 0.0173 - accuracy: 0.9942\n",
      "Epoch 249/500\n",
      "35000/35000 [==============================] - 3s 74us/step - loss: 0.0183 - accuracy: 0.9941\n",
      "Epoch 250/500\n",
      "35000/35000 [==============================] - 3s 74us/step - loss: 0.0184 - accuracy: 0.9941\n",
      "Epoch 251/500\n",
      "35000/35000 [==============================] - 3s 74us/step - loss: 0.0173 - accuracy: 0.9945\n",
      "Epoch 252/500\n",
      "35000/35000 [==============================] - 3s 74us/step - loss: 0.0153 - accuracy: 0.9945\n",
      "Epoch 253/500\n",
      "35000/35000 [==============================] - 3s 74us/step - loss: 0.0201 - accuracy: 0.9934\n",
      "Epoch 254/500\n",
      "35000/35000 [==============================] - 3s 74us/step - loss: 0.0153 - accuracy: 0.9949\n",
      "Epoch 255/500\n",
      "35000/35000 [==============================] - 3s 74us/step - loss: 0.0167 - accuracy: 0.9947\n",
      "Epoch 256/500\n",
      "35000/35000 [==============================] - 3s 74us/step - loss: 0.0155 - accuracy: 0.9951\n",
      "Epoch 257/500\n",
      "35000/35000 [==============================] - 3s 74us/step - loss: 0.0177 - accuracy: 0.9943\n",
      "Epoch 258/500\n",
      "35000/35000 [==============================] - 3s 74us/step - loss: 0.0170 - accuracy: 0.9944\n",
      "Epoch 259/500\n",
      "35000/35000 [==============================] - 3s 90us/step - loss: 0.0176 - accuracy: 0.9943\n",
      "Epoch 260/500\n",
      "35000/35000 [==============================] - 4s 104us/step - loss: 0.0180 - accuracy: 0.9942\n",
      "Epoch 261/500\n",
      "35000/35000 [==============================] - 3s 98us/step - loss: 0.0147 - accuracy: 0.9954\n",
      "Epoch 262/500\n",
      "35000/35000 [==============================] - 3s 94us/step - loss: 0.0183 - accuracy: 0.9946\n",
      "Epoch 263/500\n",
      "35000/35000 [==============================] - 3s 93us/step - loss: 0.0164 - accuracy: 0.9948\n",
      "Epoch 264/500\n",
      "35000/35000 [==============================] - 3s 94us/step - loss: 0.0167 - accuracy: 0.9947\n",
      "Epoch 265/500\n",
      "35000/35000 [==============================] - 3s 90us/step - loss: 0.0166 - accuracy: 0.9947\n",
      "Epoch 266/500\n",
      "35000/35000 [==============================] - 3s 77us/step - loss: 0.0173 - accuracy: 0.9945\n",
      "Epoch 267/500\n",
      "35000/35000 [==============================] - 3s 75us/step - loss: 0.0178 - accuracy: 0.9944\n",
      "Epoch 268/500\n",
      "35000/35000 [==============================] - 3s 76us/step - loss: 0.0154 - accuracy: 0.9949\n",
      "Epoch 269/500\n",
      "35000/35000 [==============================] - 3s 89us/step - loss: 0.0182 - accuracy: 0.9942\n",
      "Epoch 270/500\n",
      "35000/35000 [==============================] - 3s 91us/step - loss: 0.0173 - accuracy: 0.9946\n",
      "Epoch 271/500\n",
      "35000/35000 [==============================] - 3s 89us/step - loss: 0.0166 - accuracy: 0.9952\n",
      "Epoch 272/500\n",
      "35000/35000 [==============================] - 3s 96us/step - loss: 0.0165 - accuracy: 0.9943\n",
      "Epoch 273/500\n",
      "35000/35000 [==============================] - 3s 99us/step - loss: 0.0207 - accuracy: 0.9941\n",
      "Epoch 274/500\n",
      "35000/35000 [==============================] - 3s 93us/step - loss: 0.0174 - accuracy: 0.9948\n",
      "Epoch 275/500\n",
      "35000/35000 [==============================] - 3s 88us/step - loss: 0.0146 - accuracy: 0.9956\n",
      "Epoch 276/500\n",
      "35000/35000 [==============================] - 3s 90us/step - loss: 0.0161 - accuracy: 0.9949\n",
      "Epoch 277/500\n",
      "35000/35000 [==============================] - 3s 94us/step - loss: 0.0182 - accuracy: 0.9947\n",
      "Epoch 278/500\n",
      "35000/35000 [==============================] - 3s 91us/step - loss: 0.0176 - accuracy: 0.9950\n",
      "Epoch 279/500\n",
      "35000/35000 [==============================] - 3s 75us/step - loss: 0.0153 - accuracy: 0.9952\n",
      "Epoch 280/500\n",
      "35000/35000 [==============================] - 3s 75us/step - loss: 0.0176 - accuracy: 0.9945\n",
      "Epoch 281/500\n",
      "35000/35000 [==============================] - 3s 74us/step - loss: 0.0164 - accuracy: 0.9947\n",
      "Epoch 282/500\n",
      "35000/35000 [==============================] - 3s 75us/step - loss: 0.0181 - accuracy: 0.9947\n",
      "Epoch 283/500\n",
      "35000/35000 [==============================] - 3s 76us/step - loss: 0.0152 - accuracy: 0.9954\n",
      "Epoch 284/500\n",
      "35000/35000 [==============================] - 3s 74us/step - loss: 0.0198 - accuracy: 0.9942\n",
      "Epoch 285/500\n",
      "35000/35000 [==============================] - 3s 75us/step - loss: 0.0146 - accuracy: 0.9955\n",
      "Epoch 286/500\n",
      "35000/35000 [==============================] - 3s 75us/step - loss: 0.0171 - accuracy: 0.9953\n",
      "Epoch 287/500\n",
      "35000/35000 [==============================] - 3s 75us/step - loss: 0.0149 - accuracy: 0.9948\n",
      "Epoch 288/500\n",
      "35000/35000 [==============================] - 3s 78us/step - loss: 0.0152 - accuracy: 0.9961\n",
      "Epoch 289/500\n",
      "35000/35000 [==============================] - 3s 79us/step - loss: 0.0148 - accuracy: 0.9953\n",
      "Epoch 290/500\n",
      "35000/35000 [==============================] - 3s 79us/step - loss: 0.0199 - accuracy: 0.9941\n",
      "Epoch 291/500\n",
      "35000/35000 [==============================] - 3s 77us/step - loss: 0.0162 - accuracy: 0.9950\n",
      "Epoch 292/500\n",
      "35000/35000 [==============================] - 3s 77us/step - loss: 0.0153 - accuracy: 0.9953\n",
      "Epoch 293/500\n",
      "35000/35000 [==============================] - 3s 75us/step - loss: 0.0167 - accuracy: 0.9951\n",
      "Epoch 294/500\n",
      "35000/35000 [==============================] - 3s 75us/step - loss: 0.0155 - accuracy: 0.9951\n",
      "Epoch 295/500\n",
      "35000/35000 [==============================] - 3s 74us/step - loss: 0.0169 - accuracy: 0.9948\n",
      "Epoch 296/500\n",
      "35000/35000 [==============================] - 3s 75us/step - loss: 0.0189 - accuracy: 0.9946\n",
      "Epoch 297/500\n",
      "35000/35000 [==============================] - 3s 74us/step - loss: 0.0165 - accuracy: 0.9947\n",
      "Epoch 298/500\n",
      "35000/35000 [==============================] - 3s 75us/step - loss: 0.0136 - accuracy: 0.9958\n",
      "Epoch 299/500\n",
      "35000/35000 [==============================] - 3s 76us/step - loss: 0.0150 - accuracy: 0.9954\n",
      "Epoch 300/500\n",
      "35000/35000 [==============================] - 3s 76us/step - loss: 0.0151 - accuracy: 0.9951\n",
      "Epoch 301/500\n",
      "35000/35000 [==============================] - 3s 75us/step - loss: 0.0184 - accuracy: 0.9942\n",
      "Epoch 302/500\n",
      "35000/35000 [==============================] - 3s 75us/step - loss: 0.0132 - accuracy: 0.9959\n",
      "Epoch 303/500\n",
      "35000/35000 [==============================] - 3s 75us/step - loss: 0.0166 - accuracy: 0.9948\n",
      "Epoch 304/500\n"
     ]
    },
    {
     "name": "stdout",
     "output_type": "stream",
     "text": [
      "35000/35000 [==============================] - 3s 74us/step - loss: 0.0147 - accuracy: 0.9955\n",
      "Epoch 305/500\n",
      "35000/35000 [==============================] - 3s 73us/step - loss: 0.0170 - accuracy: 0.9949\n",
      "Epoch 306/500\n",
      "35000/35000 [==============================] - 3s 73us/step - loss: 0.0162 - accuracy: 0.9949\n",
      "Epoch 307/500\n",
      "35000/35000 [==============================] - 3s 73us/step - loss: 0.0166 - accuracy: 0.9945\n",
      "Epoch 308/500\n",
      "35000/35000 [==============================] - 3s 73us/step - loss: 0.0131 - accuracy: 0.9956\n",
      "Epoch 309/500\n",
      "35000/35000 [==============================] - 3s 75us/step - loss: 0.0174 - accuracy: 0.9947\n",
      "Epoch 310/500\n",
      "35000/35000 [==============================] - 3s 74us/step - loss: 0.0174 - accuracy: 0.9946\n",
      "Epoch 311/500\n",
      "35000/35000 [==============================] - 3s 73us/step - loss: 0.0157 - accuracy: 0.9955\n",
      "Epoch 312/500\n",
      "35000/35000 [==============================] - 3s 74us/step - loss: 0.0142 - accuracy: 0.9956\n",
      "Epoch 313/500\n",
      "35000/35000 [==============================] - 3s 73us/step - loss: 0.0139 - accuracy: 0.9953\n",
      "Epoch 314/500\n",
      "35000/35000 [==============================] - 3s 74us/step - loss: 0.0161 - accuracy: 0.9946\n",
      "Epoch 315/500\n",
      "35000/35000 [==============================] - 3s 74us/step - loss: 0.0155 - accuracy: 0.9954\n",
      "Epoch 316/500\n",
      "35000/35000 [==============================] - 3s 77us/step - loss: 0.0141 - accuracy: 0.9959\n",
      "Epoch 317/500\n",
      "35000/35000 [==============================] - 3s 73us/step - loss: 0.0171 - accuracy: 0.9947\n",
      "Epoch 318/500\n",
      "35000/35000 [==============================] - 3s 73us/step - loss: 0.0129 - accuracy: 0.9955\n",
      "Epoch 319/500\n",
      "35000/35000 [==============================] - 3s 74us/step - loss: 0.0148 - accuracy: 0.9953\n",
      "Epoch 320/500\n",
      "35000/35000 [==============================] - 3s 73us/step - loss: 0.0173 - accuracy: 0.9947\n",
      "Epoch 321/500\n",
      "35000/35000 [==============================] - 3s 73us/step - loss: 0.0164 - accuracy: 0.9948\n",
      "Epoch 322/500\n",
      "35000/35000 [==============================] - 3s 74us/step - loss: 0.0180 - accuracy: 0.9947\n",
      "Epoch 323/500\n",
      "35000/35000 [==============================] - 3s 74us/step - loss: 0.0150 - accuracy: 0.9956\n",
      "Epoch 324/500\n",
      "35000/35000 [==============================] - 3s 74us/step - loss: 0.0125 - accuracy: 0.9958\n",
      "Epoch 325/500\n",
      "35000/35000 [==============================] - 3s 75us/step - loss: 0.0152 - accuracy: 0.9953\n",
      "Epoch 326/500\n",
      "35000/35000 [==============================] - 3s 73us/step - loss: 0.0186 - accuracy: 0.9946\n",
      "Epoch 327/500\n",
      "35000/35000 [==============================] - 3s 74us/step - loss: 0.0152 - accuracy: 0.9949\n",
      "Epoch 328/500\n",
      "35000/35000 [==============================] - 3s 74us/step - loss: 0.0118 - accuracy: 0.9958\n",
      "Epoch 329/500\n",
      "35000/35000 [==============================] - 3s 73us/step - loss: 0.0142 - accuracy: 0.9955\n",
      "Epoch 330/500\n",
      "35000/35000 [==============================] - 3s 79us/step - loss: 0.0164 - accuracy: 0.9953\n",
      "Epoch 331/500\n",
      "35000/35000 [==============================] - 3s 74us/step - loss: 0.0164 - accuracy: 0.9953\n",
      "Epoch 332/500\n",
      "35000/35000 [==============================] - 3s 74us/step - loss: 0.0134 - accuracy: 0.9955\n",
      "Epoch 333/500\n",
      "35000/35000 [==============================] - 3s 75us/step - loss: 0.0145 - accuracy: 0.9959\n",
      "Epoch 334/500\n",
      "35000/35000 [==============================] - 3s 74us/step - loss: 0.0151 - accuracy: 0.9954\n",
      "Epoch 335/500\n",
      "35000/35000 [==============================] - 3s 74us/step - loss: 0.0188 - accuracy: 0.9947\n",
      "Epoch 336/500\n",
      "35000/35000 [==============================] - 3s 74us/step - loss: 0.0156 - accuracy: 0.9955\n",
      "Epoch 337/500\n",
      "35000/35000 [==============================] - 3s 74us/step - loss: 0.0149 - accuracy: 0.9952\n",
      "Epoch 338/500\n",
      "35000/35000 [==============================] - 3s 74us/step - loss: 0.0160 - accuracy: 0.9948\n",
      "Epoch 339/500\n",
      "35000/35000 [==============================] - 3s 74us/step - loss: 0.0122 - accuracy: 0.9965\n",
      "Epoch 340/500\n",
      "35000/35000 [==============================] - 3s 74us/step - loss: 0.0173 - accuracy: 0.9949\n",
      "Epoch 341/500\n",
      "35000/35000 [==============================] - 3s 74us/step - loss: 0.0150 - accuracy: 0.9956\n",
      "Epoch 342/500\n",
      "35000/35000 [==============================] - 3s 74us/step - loss: 0.0151 - accuracy: 0.9957\n",
      "Epoch 343/500\n",
      "35000/35000 [==============================] - 3s 75us/step - loss: 0.0140 - accuracy: 0.9955\n",
      "Epoch 344/500\n",
      "35000/35000 [==============================] - 3s 74us/step - loss: 0.0149 - accuracy: 0.9955\n",
      "Epoch 345/500\n",
      "35000/35000 [==============================] - 3s 74us/step - loss: 0.0146 - accuracy: 0.9953\n",
      "Epoch 346/500\n",
      "35000/35000 [==============================] - 3s 74us/step - loss: 0.0159 - accuracy: 0.9949\n",
      "Epoch 347/500\n",
      "35000/35000 [==============================] - 3s 76us/step - loss: 0.0156 - accuracy: 0.9951\n",
      "Epoch 348/500\n",
      "35000/35000 [==============================] - 3s 75us/step - loss: 0.0142 - accuracy: 0.9957\n",
      "Epoch 349/500\n",
      "35000/35000 [==============================] - 3s 74us/step - loss: 0.0134 - accuracy: 0.9953\n",
      "Epoch 350/500\n",
      "35000/35000 [==============================] - 3s 74us/step - loss: 0.0147 - accuracy: 0.9962\n",
      "Epoch 351/500\n",
      "35000/35000 [==============================] - 3s 75us/step - loss: 0.0135 - accuracy: 0.9960\n",
      "Epoch 352/500\n",
      "35000/35000 [==============================] - 3s 75us/step - loss: 0.0157 - accuracy: 0.9955\n",
      "Epoch 353/500\n",
      "35000/35000 [==============================] - 3s 74us/step - loss: 0.0164 - accuracy: 0.9951\n",
      "Epoch 354/500\n",
      "35000/35000 [==============================] - 3s 74us/step - loss: 0.0151 - accuracy: 0.9950\n",
      "Epoch 355/500\n",
      "35000/35000 [==============================] - 3s 75us/step - loss: 0.0140 - accuracy: 0.9957\n",
      "Epoch 356/500\n",
      "35000/35000 [==============================] - 3s 75us/step - loss: 0.0166 - accuracy: 0.9957\n",
      "Epoch 357/500\n",
      "35000/35000 [==============================] - 3s 74us/step - loss: 0.0150 - accuracy: 0.9956\n",
      "Epoch 358/500\n",
      "35000/35000 [==============================] - 3s 74us/step - loss: 0.0150 - accuracy: 0.9952\n",
      "Epoch 359/500\n",
      "35000/35000 [==============================] - 3s 74us/step - loss: 0.0148 - accuracy: 0.9951\n",
      "Epoch 360/500\n",
      "35000/35000 [==============================] - 3s 74us/step - loss: 0.0135 - accuracy: 0.9959\n",
      "Epoch 361/500\n",
      "35000/35000 [==============================] - 3s 75us/step - loss: 0.0138 - accuracy: 0.9959\n",
      "Epoch 362/500\n",
      "35000/35000 [==============================] - 3s 78us/step - loss: 0.0143 - accuracy: 0.9953\n",
      "Epoch 363/500\n",
      "35000/35000 [==============================] - 3s 73us/step - loss: 0.0149 - accuracy: 0.9957\n",
      "Epoch 364/500\n",
      "35000/35000 [==============================] - 3s 77us/step - loss: 0.0150 - accuracy: 0.9956\n",
      "Epoch 365/500\n",
      "35000/35000 [==============================] - 3s 78us/step - loss: 0.0135 - accuracy: 0.9955\n",
      "Epoch 366/500\n",
      "35000/35000 [==============================] - 3s 78us/step - loss: 0.0186 - accuracy: 0.9949\n",
      "Epoch 367/500\n",
      "35000/35000 [==============================] - 3s 78us/step - loss: 0.0169 - accuracy: 0.9950\n",
      "Epoch 368/500\n",
      "35000/35000 [==============================] - 3s 77us/step - loss: 0.0115 - accuracy: 0.9966\n",
      "Epoch 369/500\n",
      "35000/35000 [==============================] - 3s 75us/step - loss: 0.0164 - accuracy: 0.9953\n",
      "Epoch 370/500\n",
      "35000/35000 [==============================] - 3s 75us/step - loss: 0.0154 - accuracy: 0.9953\n",
      "Epoch 371/500\n",
      "35000/35000 [==============================] - 3s 75us/step - loss: 0.0142 - accuracy: 0.9955\n",
      "Epoch 372/500\n",
      "35000/35000 [==============================] - 3s 75us/step - loss: 0.0146 - accuracy: 0.9954\n",
      "Epoch 373/500\n",
      "35000/35000 [==============================] - 3s 75us/step - loss: 0.0153 - accuracy: 0.9957\n",
      "Epoch 374/500\n",
      "35000/35000 [==============================] - 3s 75us/step - loss: 0.0155 - accuracy: 0.9957\n",
      "Epoch 375/500\n",
      "35000/35000 [==============================] - 3s 75us/step - loss: 0.0157 - accuracy: 0.9953\n",
      "Epoch 376/500\n",
      "35000/35000 [==============================] - 3s 75us/step - loss: 0.0148 - accuracy: 0.9955\n",
      "Epoch 377/500\n",
      "35000/35000 [==============================] - 3s 75us/step - loss: 0.0140 - accuracy: 0.9958\n",
      "Epoch 378/500\n",
      "35000/35000 [==============================] - 3s 77us/step - loss: 0.0137 - accuracy: 0.9957\n",
      "Epoch 379/500\n",
      "35000/35000 [==============================] - 3s 75us/step - loss: 0.0177 - accuracy: 0.9956\n"
     ]
    },
    {
     "name": "stdout",
     "output_type": "stream",
     "text": [
      "Epoch 380/500\n",
      "35000/35000 [==============================] - 3s 74us/step - loss: 0.0128 - accuracy: 0.9956\n",
      "Epoch 381/500\n",
      "35000/35000 [==============================] - 3s 73us/step - loss: 0.0134 - accuracy: 0.9957\n",
      "Epoch 382/500\n",
      "35000/35000 [==============================] - 3s 74us/step - loss: 0.0173 - accuracy: 0.9954\n",
      "Epoch 383/500\n",
      "35000/35000 [==============================] - 3s 74us/step - loss: 0.0148 - accuracy: 0.9951\n",
      "Epoch 384/500\n",
      "35000/35000 [==============================] - 3s 74us/step - loss: 0.0130 - accuracy: 0.9958\n",
      "Epoch 385/500\n",
      "35000/35000 [==============================] - 3s 74us/step - loss: 0.0134 - accuracy: 0.9957\n",
      "Epoch 386/500\n",
      "35000/35000 [==============================] - 3s 73us/step - loss: 0.0127 - accuracy: 0.9964\n",
      "Epoch 387/500\n",
      "35000/35000 [==============================] - 3s 74us/step - loss: 0.0114 - accuracy: 0.9964\n",
      "Epoch 388/500\n",
      "35000/35000 [==============================] - 3s 74us/step - loss: 0.0167 - accuracy: 0.9953\n",
      "Epoch 389/500\n",
      "35000/35000 [==============================] - 3s 73us/step - loss: 0.0159 - accuracy: 0.9954\n",
      "Epoch 390/500\n",
      "35000/35000 [==============================] - 3s 74us/step - loss: 0.0123 - accuracy: 0.9964\n",
      "Epoch 391/500\n",
      "35000/35000 [==============================] - 3s 74us/step - loss: 0.0126 - accuracy: 0.9960\n",
      "Epoch 392/500\n",
      "35000/35000 [==============================] - 3s 76us/step - loss: 0.0130 - accuracy: 0.9958\n",
      "Epoch 393/500\n",
      "35000/35000 [==============================] - 3s 80us/step - loss: 0.0168 - accuracy: 0.9955\n",
      "Epoch 394/500\n",
      "35000/35000 [==============================] - 3s 77us/step - loss: 0.0124 - accuracy: 0.9963\n",
      "Epoch 395/500\n",
      "35000/35000 [==============================] - 3s 76us/step - loss: 0.0124 - accuracy: 0.9959\n",
      "Epoch 396/500\n",
      "35000/35000 [==============================] - 3s 75us/step - loss: 0.0146 - accuracy: 0.9955\n",
      "Epoch 397/500\n",
      "35000/35000 [==============================] - 3s 75us/step - loss: 0.0135 - accuracy: 0.9959\n",
      "Epoch 398/500\n",
      "35000/35000 [==============================] - 3s 74us/step - loss: 0.0155 - accuracy: 0.9955\n",
      "Epoch 399/500\n",
      "35000/35000 [==============================] - 3s 75us/step - loss: 0.0125 - accuracy: 0.9959\n",
      "Epoch 400/500\n",
      "35000/35000 [==============================] - 3s 74us/step - loss: 0.0113 - accuracy: 0.9965\n",
      "Epoch 401/500\n",
      "35000/35000 [==============================] - 3s 75us/step - loss: 0.0132 - accuracy: 0.9961\n",
      "Epoch 402/500\n",
      "35000/35000 [==============================] - 3s 74us/step - loss: 0.0132 - accuracy: 0.9961\n",
      "Epoch 403/500\n",
      "35000/35000 [==============================] - 3s 75us/step - loss: 0.0131 - accuracy: 0.9959\n",
      "Epoch 404/500\n",
      "35000/35000 [==============================] - 3s 75us/step - loss: 0.0115 - accuracy: 0.9963\n",
      "Epoch 405/500\n",
      "35000/35000 [==============================] - 3s 74us/step - loss: 0.0136 - accuracy: 0.9963\n",
      "Epoch 406/500\n",
      "35000/35000 [==============================] - 3s 75us/step - loss: 0.0162 - accuracy: 0.9952\n",
      "Epoch 407/500\n",
      "35000/35000 [==============================] - 3s 75us/step - loss: 0.0147 - accuracy: 0.9961\n",
      "Epoch 408/500\n",
      "35000/35000 [==============================] - 3s 75us/step - loss: 0.0137 - accuracy: 0.9960\n",
      "Epoch 409/500\n",
      "35000/35000 [==============================] - 3s 75us/step - loss: 0.0149 - accuracy: 0.9955\n",
      "Epoch 410/500\n",
      "35000/35000 [==============================] - 3s 76us/step - loss: 0.0137 - accuracy: 0.9956\n",
      "Epoch 411/500\n",
      "35000/35000 [==============================] - 3s 75us/step - loss: 0.0142 - accuracy: 0.9955\n",
      "Epoch 412/500\n",
      "35000/35000 [==============================] - 3s 75us/step - loss: 0.0137 - accuracy: 0.9956\n",
      "Epoch 413/500\n",
      "35000/35000 [==============================] - 3s 75us/step - loss: 0.0137 - accuracy: 0.9957\n",
      "Epoch 414/500\n",
      "35000/35000 [==============================] - 3s 75us/step - loss: 0.0144 - accuracy: 0.9958\n",
      "Epoch 415/500\n",
      "35000/35000 [==============================] - 3s 75us/step - loss: 0.0140 - accuracy: 0.9959\n",
      "Epoch 416/500\n",
      "35000/35000 [==============================] - 3s 75us/step - loss: 0.0138 - accuracy: 0.9960\n",
      "Epoch 417/500\n",
      "35000/35000 [==============================] - 3s 75us/step - loss: 0.0127 - accuracy: 0.9963\n",
      "Epoch 418/500\n",
      "35000/35000 [==============================] - 3s 75us/step - loss: 0.0136 - accuracy: 0.9956\n",
      "Epoch 419/500\n",
      "35000/35000 [==============================] - 3s 75us/step - loss: 0.0140 - accuracy: 0.9962\n",
      "Epoch 420/500\n",
      "35000/35000 [==============================] - 3s 75us/step - loss: 0.0152 - accuracy: 0.9955\n",
      "Epoch 421/500\n",
      "35000/35000 [==============================] - 3s 75us/step - loss: 0.0120 - accuracy: 0.9964\n",
      "Epoch 422/500\n",
      "35000/35000 [==============================] - 3s 75us/step - loss: 0.0138 - accuracy: 0.9961\n",
      "Epoch 423/500\n",
      "35000/35000 [==============================] - 3s 75us/step - loss: 0.0151 - accuracy: 0.9959\n",
      "Epoch 424/500\n",
      "35000/35000 [==============================] - 3s 75us/step - loss: 0.0156 - accuracy: 0.9954\n",
      "Epoch 425/500\n",
      "35000/35000 [==============================] - 3s 75us/step - loss: 0.0145 - accuracy: 0.9954\n",
      "Epoch 426/500\n",
      "35000/35000 [==============================] - 3s 75us/step - loss: 0.0152 - accuracy: 0.9955\n",
      "Epoch 427/500\n",
      "35000/35000 [==============================] - 3s 75us/step - loss: 0.0137 - accuracy: 0.9957\n",
      "Epoch 428/500\n",
      "35000/35000 [==============================] - 3s 75us/step - loss: 0.0127 - accuracy: 0.9968\n",
      "Epoch 429/500\n",
      "35000/35000 [==============================] - 3s 75us/step - loss: 0.0152 - accuracy: 0.9958\n",
      "Epoch 430/500\n",
      "35000/35000 [==============================] - 3s 75us/step - loss: 0.0145 - accuracy: 0.9956\n",
      "Epoch 431/500\n",
      "35000/35000 [==============================] - 3s 76us/step - loss: 0.0120 - accuracy: 0.9965\n",
      "Epoch 432/500\n",
      "35000/35000 [==============================] - 3s 77us/step - loss: 0.0135 - accuracy: 0.9958\n",
      "Epoch 433/500\n",
      "35000/35000 [==============================] - 3s 75us/step - loss: 0.0148 - accuracy: 0.9960\n",
      "Epoch 434/500\n",
      "35000/35000 [==============================] - 3s 76us/step - loss: 0.0133 - accuracy: 0.9956\n",
      "Epoch 435/500\n",
      "35000/35000 [==============================] - 3s 75us/step - loss: 0.0137 - accuracy: 0.9957\n",
      "Epoch 436/500\n",
      "35000/35000 [==============================] - 3s 75us/step - loss: 0.0097 - accuracy: 0.9969\n",
      "Epoch 437/500\n",
      "35000/35000 [==============================] - 3s 77us/step - loss: 0.0133 - accuracy: 0.9965\n",
      "Epoch 438/500\n",
      "35000/35000 [==============================] - 3s 76us/step - loss: 0.0132 - accuracy: 0.9962\n",
      "Epoch 439/500\n",
      "35000/35000 [==============================] - 3s 75us/step - loss: 0.0144 - accuracy: 0.9956\n",
      "Epoch 440/500\n",
      "35000/35000 [==============================] - 3s 76us/step - loss: 0.0143 - accuracy: 0.9960\n",
      "Epoch 441/500\n",
      "35000/35000 [==============================] - 3s 75us/step - loss: 0.0119 - accuracy: 0.9964\n",
      "Epoch 442/500\n",
      "35000/35000 [==============================] - 3s 75us/step - loss: 0.0144 - accuracy: 0.9957\n",
      "Epoch 443/500\n",
      "35000/35000 [==============================] - 3s 76us/step - loss: 0.0144 - accuracy: 0.9959\n",
      "Epoch 444/500\n",
      "35000/35000 [==============================] - 3s 79us/step - loss: 0.0157 - accuracy: 0.9953\n",
      "Epoch 445/500\n",
      "35000/35000 [==============================] - 3s 78us/step - loss: 0.0116 - accuracy: 0.9961\n",
      "Epoch 446/500\n",
      "35000/35000 [==============================] - 3s 76us/step - loss: 0.0132 - accuracy: 0.9959\n",
      "Epoch 447/500\n",
      "35000/35000 [==============================] - 3s 76us/step - loss: 0.0140 - accuracy: 0.9959\n",
      "Epoch 448/500\n",
      "35000/35000 [==============================] - 3s 76us/step - loss: 0.0122 - accuracy: 0.9965\n",
      "Epoch 449/500\n",
      "35000/35000 [==============================] - 3s 76us/step - loss: 0.0132 - accuracy: 0.9956\n",
      "Epoch 450/500\n",
      "35000/35000 [==============================] - 3s 75us/step - loss: 0.0147 - accuracy: 0.9962\n",
      "Epoch 451/500\n",
      "35000/35000 [==============================] - 3s 77us/step - loss: 0.0130 - accuracy: 0.9963\n",
      "Epoch 452/500\n",
      "35000/35000 [==============================] - 3s 76us/step - loss: 0.0116 - accuracy: 0.9966\n",
      "Epoch 453/500\n",
      "35000/35000 [==============================] - 3s 80us/step - loss: 0.0147 - accuracy: 0.9954\n",
      "Epoch 454/500\n",
      "35000/35000 [==============================] - 3s 74us/step - loss: 0.0124 - accuracy: 0.9961\n",
      "Epoch 455/500\n"
     ]
    },
    {
     "name": "stdout",
     "output_type": "stream",
     "text": [
      "35000/35000 [==============================] - 3s 73us/step - loss: 0.0146 - accuracy: 0.9956\n",
      "Epoch 456/500\n",
      "35000/35000 [==============================] - 3s 73us/step - loss: 0.0140 - accuracy: 0.9961\n",
      "Epoch 457/500\n",
      "35000/35000 [==============================] - 3s 73us/step - loss: 0.0143 - accuracy: 0.9956\n",
      "Epoch 458/500\n",
      "35000/35000 [==============================] - 3s 73us/step - loss: 0.0116 - accuracy: 0.9967\n",
      "Epoch 459/500\n",
      "35000/35000 [==============================] - 3s 73us/step - loss: 0.0136 - accuracy: 0.9957\n",
      "Epoch 460/500\n",
      "35000/35000 [==============================] - 3s 73us/step - loss: 0.0130 - accuracy: 0.9962\n",
      "Epoch 461/500\n",
      "35000/35000 [==============================] - 3s 74us/step - loss: 0.0132 - accuracy: 0.9963\n",
      "Epoch 462/500\n",
      "35000/35000 [==============================] - 3s 73us/step - loss: 0.0104 - accuracy: 0.9965\n",
      "Epoch 463/500\n",
      "35000/35000 [==============================] - 3s 74us/step - loss: 0.0139 - accuracy: 0.9961\n",
      "Epoch 464/500\n",
      "35000/35000 [==============================] - 3s 74us/step - loss: 0.0132 - accuracy: 0.9963\n",
      "Epoch 465/500\n",
      "35000/35000 [==============================] - 3s 74us/step - loss: 0.0126 - accuracy: 0.9966\n",
      "Epoch 466/500\n",
      "35000/35000 [==============================] - 3s 74us/step - loss: 0.0140 - accuracy: 0.9963\n",
      "Epoch 467/500\n",
      "35000/35000 [==============================] - 3s 74us/step - loss: 0.0124 - accuracy: 0.9968\n",
      "Epoch 468/500\n",
      "35000/35000 [==============================] - 3s 73us/step - loss: 0.0146 - accuracy: 0.9956\n",
      "Epoch 469/500\n",
      "35000/35000 [==============================] - 3s 74us/step - loss: 0.0114 - accuracy: 0.9962\n",
      "Epoch 470/500\n",
      "35000/35000 [==============================] - 3s 74us/step - loss: 0.0120 - accuracy: 0.9965\n",
      "Epoch 471/500\n",
      "35000/35000 [==============================] - 3s 73us/step - loss: 0.0143 - accuracy: 0.9961\n",
      "Epoch 472/500\n",
      "35000/35000 [==============================] - 3s 74us/step - loss: 0.0142 - accuracy: 0.9962\n",
      "Epoch 473/500\n",
      "35000/35000 [==============================] - 3s 74us/step - loss: 0.0123 - accuracy: 0.9962\n",
      "Epoch 474/500\n",
      "35000/35000 [==============================] - 3s 74us/step - loss: 0.0117 - accuracy: 0.9960\n",
      "Epoch 475/500\n",
      "35000/35000 [==============================] - 3s 74us/step - loss: 0.0124 - accuracy: 0.9962\n",
      "Epoch 476/500\n",
      "35000/35000 [==============================] - 3s 76us/step - loss: 0.0139 - accuracy: 0.9964\n",
      "Epoch 477/500\n",
      "35000/35000 [==============================] - 3s 74us/step - loss: 0.0147 - accuracy: 0.9955\n",
      "Epoch 478/500\n",
      "35000/35000 [==============================] - 3s 74us/step - loss: 0.0122 - accuracy: 0.9967\n",
      "Epoch 479/500\n",
      "35000/35000 [==============================] - 3s 74us/step - loss: 0.0124 - accuracy: 0.9964\n",
      "Epoch 480/500\n",
      "35000/35000 [==============================] - 3s 74us/step - loss: 0.0135 - accuracy: 0.9960\n",
      "Epoch 481/500\n",
      "35000/35000 [==============================] - 3s 74us/step - loss: 0.0123 - accuracy: 0.9963\n",
      "Epoch 482/500\n",
      "35000/35000 [==============================] - 3s 74us/step - loss: 0.0135 - accuracy: 0.9960\n",
      "Epoch 483/500\n",
      "35000/35000 [==============================] - 3s 74us/step - loss: 0.0116 - accuracy: 0.9967\n",
      "Epoch 484/500\n",
      "35000/35000 [==============================] - 3s 88us/step - loss: 0.0141 - accuracy: 0.9959\n",
      "Epoch 485/500\n",
      "35000/35000 [==============================] - 3s 88us/step - loss: 0.0139 - accuracy: 0.9959\n",
      "Epoch 486/500\n",
      "35000/35000 [==============================] - 3s 88us/step - loss: 0.0142 - accuracy: 0.9960\n",
      "Epoch 487/500\n",
      "35000/35000 [==============================] - 3s 95us/step - loss: 0.0162 - accuracy: 0.9960\n",
      "Epoch 488/500\n",
      "35000/35000 [==============================] - 3s 95us/step - loss: 0.0123 - accuracy: 0.9965\n",
      "Epoch 489/500\n",
      "35000/35000 [==============================] - 3s 91us/step - loss: 0.0132 - accuracy: 0.9962\n",
      "Epoch 490/500\n",
      "35000/35000 [==============================] - 3s 77us/step - loss: 0.0144 - accuracy: 0.9960\n",
      "Epoch 491/500\n",
      "35000/35000 [==============================] - 3s 74us/step - loss: 0.0130 - accuracy: 0.9960\n",
      "Epoch 492/500\n",
      "35000/35000 [==============================] - 3s 74us/step - loss: 0.0125 - accuracy: 0.9963\n",
      "Epoch 493/500\n",
      "35000/35000 [==============================] - 3s 74us/step - loss: 0.0122 - accuracy: 0.9965\n",
      "Epoch 494/500\n",
      "35000/35000 [==============================] - 3s 74us/step - loss: 0.0127 - accuracy: 0.9964\n",
      "Epoch 495/500\n",
      "35000/35000 [==============================] - 3s 74us/step - loss: 0.0139 - accuracy: 0.9961\n",
      "Epoch 496/500\n",
      "35000/35000 [==============================] - 3s 75us/step - loss: 0.0150 - accuracy: 0.9962\n",
      "Epoch 497/500\n",
      "35000/35000 [==============================] - 3s 74us/step - loss: 0.0142 - accuracy: 0.9959\n",
      "Epoch 498/500\n",
      "35000/35000 [==============================] - 3s 80us/step - loss: 0.0130 - accuracy: 0.9961\n",
      "Epoch 499/500\n",
      "35000/35000 [==============================] - 3s 76us/step - loss: 0.0115 - accuracy: 0.9965\n",
      "Epoch 500/500\n",
      "35000/35000 [==============================] - 3s 79us/step - loss: 0.0153 - accuracy: 0.9957\n"
     ]
    },
    {
     "data": {
      "text/plain": [
       "<keras.callbacks.callbacks.History at 0x18a410e1508>"
      ]
     },
     "execution_count": 27,
     "metadata": {},
     "output_type": "execute_result"
    }
   ],
   "source": [
    "classifier = Sequential()\n",
    "\n",
    "classifier.add(Dense(units=150, kernel_initializer='uniform', activation='relu', input_dim=300))\n",
    "classifier.add(Dropout(rate=0.1))\n",
    "\n",
    "classifier.add(Dense(units=150, kernel_initializer='uniform', activation='relu'))\n",
    "classifier.add(Dropout(rate=0.1))\n",
    "\n",
    "classifier.add(Dense(units=1, kernel_initializer='uniform', activation='sigmoid'))\n",
    "\n",
    "classifier.compile(optimizer='adam', loss='binary_crossentropy', metrics=['accuracy'])\n",
    "\n",
    "classifier.fit(X_train, y_train, batch_size=25, epochs=500)"
   ]
  },
  {
   "cell_type": "code",
   "execution_count": 28,
   "metadata": {
    "ExecuteTime": {
     "end_time": "2020-05-28T10:40:12.414515Z",
     "start_time": "2020-05-28T10:40:12.173192Z"
    }
   },
   "outputs": [],
   "source": [
    "y_pred = classifier.predict(X_test)\n",
    "y_pred = (y_pred > 0.5)"
   ]
  },
  {
   "cell_type": "code",
   "execution_count": 29,
   "metadata": {
    "ExecuteTime": {
     "end_time": "2020-05-28T10:40:13.256138Z",
     "start_time": "2020-05-28T10:40:12.415506Z"
    }
   },
   "outputs": [
    {
     "name": "stdout",
     "output_type": "stream",
     "text": [
      "The accuracy score for the model is: 0.848\n",
      "The recall score for the model is: 0.848\n",
      "              precision    recall  f1-score   support\n",
      "\n",
      "           0       0.84      0.86      0.85      7500\n",
      "           1       0.85      0.84      0.85      7500\n",
      "\n",
      "    accuracy                           0.85     15000\n",
      "   macro avg       0.85      0.85      0.85     15000\n",
      "weighted avg       0.85      0.85      0.85     15000\n",
      "\n"
     ]
    },
    {
     "data": {
      "text/plain": [
       "Text(91.68, 0.5, 'Actual')"
      ]
     },
     "execution_count": 29,
     "metadata": {},
     "output_type": "execute_result"
    },
    {
     "data": {
      "image/png": "[encoded data removed]",
      "text/plain": [
       "<Figure size 432x288 with 1 Axes>"
      ]
     },
     "metadata": {
      "needs_background": "light"
     },
     "output_type": "display_data"
    }
   ],
   "source": [
    "acc = round(accuracy_score(y_test, y_pred),3)\n",
    "rec = round(recall_score(y_test, y_pred, average=\"macro\"), 3)\n",
    "cre = classification_report(y_test,y_pred)\n",
    "print(\"The accuracy score for the model is: {}\".format(acc))\n",
    "print(\"The recall score for the model is: {}\".format(rec))\n",
    "print(cre)\n",
    "met = confusion_matrix(y_test, y_pred)\n",
    "sns.heatmap(met, square=True, annot=True, fmt=\"d\", cbar=False, xticklabels=['Negative', 'Positive'], yticklabels=['Negative', 'Positive'])\n",
    "plt.xlabel(\"Predicted\")\n",
    "plt.ylabel(\"Actual\")"
   ]
  },
  {
   "cell_type": "code",
   "execution_count": null,
   "metadata": {
    "ExecuteTime": {
     "end_time": "2020-05-28T10:40:13.296031Z",
     "start_time": "2020-05-28T10:40:13.258150Z"
    }
   },
   "outputs": [],
   "source": []
  },
  {
   "cell_type": "code",
   "execution_count": null,
   "metadata": {},
   "outputs": [],
   "source": []
  }
 ],
 "metadata": {
  "hide_input": false,
  "kernelspec": {
   "display_name": "Python 3",
   "language": "python",
   "name": "python3"
  },
  "language_info": {
   "codemirror_mode": {
    "name": "ipython",
    "version": 3
   },
   "file_extension": ".py",
   "mimetype": "text/x-python",
   "name": "python",
   "nbconvert_exporter": "python",
   "pygments_lexer": "ipython3",
   "version": "3.7.7"
  },
  "toc": {
   "base_numbering": 1,
   "nav_menu": {},
   "number_sections": true,
   "sideBar": true,
   "skip_h1_title": false,
   "title_cell": "Table of Contents",
   "title_sidebar": "Contents",
   "toc_cell": false,
   "toc_position": {},
   "toc_section_display": true,
   "toc_window_display": false
  },
  "varInspector": {
   "cols": {
    "lenName": 16,
    "lenType": 16,
    "lenVar": 40
   },
   "kernels_config": {
    "python": {
     "delete_cmd_postfix": "",
     "delete_cmd_prefix": "del ",
     "library": "var_list.py",
     "varRefreshCmd": "print(var_dic_list())"
    },
    "r": {
     "delete_cmd_postfix": ") ",
     "delete_cmd_prefix": "rm(",
     "library": "var_list.r",
     "varRefreshCmd": "cat(var_dic_list()) "
    }
   },
   "types_to_exclude": [
    "module",
    "function",
    "builtin_function_or_method",
    "instance",
    "_Feature"
   ],
   "window_display": false
  }
 },
 "nbformat": 4,
 "nbformat_minor": 4
}
