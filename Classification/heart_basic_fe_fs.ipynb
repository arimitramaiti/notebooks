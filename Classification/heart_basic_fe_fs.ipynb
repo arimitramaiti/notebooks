{
 "cells": [
  {
   "cell_type": "code",
   "execution_count": 1,
   "metadata": {
    "ExecuteTime": {
     "end_time": "2020-05-13T06:08:04.284044Z",
     "start_time": "2020-05-13T06:07:59.217940Z"
    }
   },
   "outputs": [],
   "source": [
    "import numpy as np\n",
    "import pandas as pd\n",
    "import matplotlib.pyplot as plt\n",
    "import seaborn as sns\n",
    "%matplotlib inline"
   ]
  },
  {
   "cell_type": "code",
   "execution_count": 2,
   "metadata": {
    "ExecuteTime": {
     "end_time": "2020-05-13T06:08:06.376858Z",
     "start_time": "2020-05-13T06:08:05.968245Z"
    }
   },
   "outputs": [
    {
     "name": "stdout",
     "output_type": "stream",
     "text": [
      "<class 'pandas.core.frame.DataFrame'>\n",
      "RangeIndex: 303 entries, 0 to 302\n",
      "Data columns (total 14 columns):\n",
      " #   Column    Non-Null Count  Dtype  \n",
      "---  ------    --------------  -----  \n",
      " 0   age       303 non-null    int64  \n",
      " 1   sex       303 non-null    int64  \n",
      " 2   cp        303 non-null    int64  \n",
      " 3   trestbps  303 non-null    int64  \n",
      " 4   chol      303 non-null    int64  \n",
      " 5   fbs       303 non-null    int64  \n",
      " 6   restecg   303 non-null    int64  \n",
      " 7   thalach   303 non-null    int64  \n",
      " 8   exang     303 non-null    int64  \n",
      " 9   oldpeak   303 non-null    float64\n",
      " 10  slope     303 non-null    int64  \n",
      " 11  ca        303 non-null    int64  \n",
      " 12  thal      303 non-null    int64  \n",
      " 13  target    303 non-null    int64  \n",
      "dtypes: float64(1), int64(13)\n",
      "memory usage: 33.3 KB\n"
     ]
    }
   ],
   "source": [
    "url = \"https://raw.githubusercontent.com/arimitramaiti/datasets/master/Classification/heart.csv\"\n",
    "dataset = pd.read_csv(url, error_bad_lines=False, header=0, index_col=None)\n",
    "dataset.head()\n",
    "dataset.info()"
   ]
  },
  {
   "cell_type": "markdown",
   "metadata": {},
   "source": [
    "# One hot encoding"
   ]
  },
  {
   "cell_type": "markdown",
   "metadata": {},
   "source": [
    " - __Perform pandas one hot encoding through get_dummies() method and convert categorical attributes to dummy variables__\n",
    " - __Inititally refraining from drop_first=True arguement so that dropped features are not ignored from feature selection__"
   ]
  },
  {
   "cell_type": "code",
   "execution_count": 3,
   "metadata": {
    "ExecuteTime": {
     "end_time": "2020-05-13T06:08:12.197031Z",
     "start_time": "2020-05-13T06:08:12.162090Z"
    }
   },
   "outputs": [],
   "source": [
    "sex_dummy = pd.get_dummies(dataset.sex)\n",
    "sex_dummy.columns = [\"Male\", \"Female\"]\n",
    "\n",
    "cp_dummy = pd.get_dummies(dataset.cp)\n",
    "cp_dummy.columns = [\"cp0\", \"cp1\", \"cp2\", \"cp3\"]\n",
    "\n",
    "fbs_dummy = pd.get_dummies(dataset.fbs)\n",
    "fbs_dummy.columns = [\"fbs0\", \"fbs1\"]\n",
    "\n",
    "restecg_dummy = pd.get_dummies(dataset.restecg)\n",
    "restecg_dummy.columns = [\"restecg0\", \"restecg1\", \"restecg2\"]\n",
    "\n",
    "exang_dummy = pd.get_dummies(dataset.exang)\n",
    "exang_dummy.columns = [\"exang0\", \"exang1\"]\n",
    "\n",
    "slope_dummy = pd.get_dummies(dataset.slope)\n",
    "slope_dummy.columns = [\"slope0\", \"slope1\", \"slope2\"]\n",
    "\n",
    "ca_dummy = pd.get_dummies(dataset.ca)\n",
    "ca_dummy.columns = [\"ca0\", \"ca1\", \"ca2\", \"ca3\", \"ca4\"]\n",
    "\n",
    "thal_dummy = pd.get_dummies(dataset.thal)\n",
    "thal_dummy.columns = [\"thal0\", \"thal1\", \"thal2\", \"thal3\"]\n",
    "\n",
    "tmp = dataset[[\"target\", \"age\", \"trestbps\", \"chol\", \"thalach\", \"oldpeak\"]]\n",
    "\n",
    "onehot_data = pd.concat([tmp, sex_dummy, cp_dummy, fbs_dummy, restecg_dummy, exang_dummy, slope_dummy, ca_dummy, thal_dummy],\n",
    "                       axis=1)"
   ]
  },
  {
   "cell_type": "markdown",
   "metadata": {},
   "source": [
    "# Import required modules"
   ]
  },
  {
   "cell_type": "markdown",
   "metadata": {},
   "source": [
    " - __Import modules for train test split and feature selection__"
   ]
  },
  {
   "cell_type": "code",
   "execution_count": 85,
   "metadata": {
    "ExecuteTime": {
     "end_time": "2020-05-13T12:31:04.689568Z",
     "start_time": "2020-05-13T12:31:04.680774Z"
    }
   },
   "outputs": [],
   "source": [
    "from sklearn.model_selection import train_test_split\n",
    "from sklearn.feature_selection import mutual_info_classif, SelectKBest, SelectPercentile, chi2, f_classif\n",
    "from mlxtend.feature_selection import SequentialFeatureSelector as SFS\n",
    "from mlxtend.feature_selection import ExhaustiveFeatureSelector as EFS\n",
    "from mlxtend.plotting import plot_sequential_feature_selection as plot_sfs\n",
    "from sklearn.ensemble import RandomForestClassifier\n",
    "from sklearn.metrics import accuracy_score, roc_auc_score\n",
    "from sklearn.feature_selection import RFECV\n",
    "from sklearn.model_selection import StratifiedKFold"
   ]
  },
  {
   "cell_type": "markdown",
   "metadata": {},
   "source": [
    "# Split into Train & Test"
   ]
  },
  {
   "cell_type": "markdown",
   "metadata": {},
   "source": [
    " - __Create separate datasets for independent and dependent attributes__\n",
    " - __Create 80% rows in training and 20% in testing using stratified sampling__"
   ]
  },
  {
   "cell_type": "code",
   "execution_count": 86,
   "metadata": {
    "ExecuteTime": {
     "end_time": "2020-05-13T12:33:26.967077Z",
     "start_time": "2020-05-13T12:33:26.948589Z"
    }
   },
   "outputs": [
    {
     "name": "stdout",
     "output_type": "stream",
     "text": [
      "(242, 30) (61, 30) (242,) (61,)\n"
     ]
    }
   ],
   "source": [
    "X = onehot_data.drop('target', axis=1)\n",
    "y = onehot_data['target']\n",
    "X.shape, y.shape\n",
    "\n",
    "X_train, X_test, y_train, y_test = train_test_split(X, y, test_size=0.2, random_state=0, stratify=y)\n",
    "print(X_train.shape, X_test.shape, y_train.shape, y_test.shape)"
   ]
  },
  {
   "cell_type": "markdown",
   "metadata": {},
   "source": [
    "# Univariate Filter Method : Mutual Information for Classification"
   ]
  },
  {
   "cell_type": "markdown",
   "metadata": {
    "ExecuteTime": {
     "end_time": "2020-05-13T06:45:56.397456Z",
     "start_time": "2020-05-13T06:45:56.388888Z"
    }
   },
   "source": [
    " - __Use mutual_info_classif() function using independent and dependent training data__\n",
    " - __measures the dependency between the variables__\n",
    " - __It is equal to zero if and only if two random variables are independent, and higher values mean higher dependency__\n",
    " - __Transfer the output into a pandas series and assign index as column values for identification__\n",
    " - __Sort the mutual info dataset with highest score at the top__\n",
    " - __Plot the scores to see which attributes are not adding any information__"
   ]
  },
  {
   "cell_type": "code",
   "execution_count": 28,
   "metadata": {
    "ExecuteTime": {
     "end_time": "2020-05-13T07:01:24.990513Z",
     "start_time": "2020-05-13T07:01:24.309494Z"
    }
   },
   "outputs": [
    {
     "data": {
      "text/plain": [
       "<matplotlib.axes._subplots.AxesSubplot at 0x20c5503e208>"
      ]
     },
     "execution_count": 28,
     "metadata": {},
     "output_type": "execute_result"
    },
    {
     "data": {
      "image/png": "[encoded data removed]",
      "text/plain": [
       "<Figure size 864x360 with 1 Axes>"
      ]
     },
     "metadata": {
      "needs_background": "light"
     },
     "output_type": "display_data"
    }
   ],
   "source": [
    "mi = mutual_info_classif(X_train, y_train)\n",
    "mi = pd.Series(mi, index=X_train.columns)\n",
    "mi.sort_values(ascending=False, inplace=True)\n",
    "mi.plot.bar(figsize=(12,5))"
   ]
  },
  {
   "cell_type": "markdown",
   "metadata": {},
   "source": [
    " - __We may use SelectPercentile() or SelectKBest() filtering method to select top attributes based on mutual info score__\n",
    " - __Here we select top 10 attributes__\n",
    " - __get_support() is the method to see which columns are selected as top contributors__"
   ]
  },
  {
   "cell_type": "code",
   "execution_count": 19,
   "metadata": {
    "ExecuteTime": {
     "end_time": "2020-05-13T06:24:49.214292Z",
     "start_time": "2020-05-13T06:24:49.005566Z"
    }
   },
   "outputs": [
    {
     "data": {
      "text/plain": [
       "((242, 10), (61, 10))"
      ]
     },
     "execution_count": 19,
     "metadata": {},
     "output_type": "execute_result"
    }
   ],
   "source": [
    "# sel = SelectPercentile(mutual_info_classif, 25).fit(X_train, y_train)\n",
    "sel = SelectKBest(mutual_info_classif, 10).fit(X_train, y_train)\n",
    "X_train.columns[sel.get_support()]\n",
    "X_test.columns[sel.get_support()]\n",
    "\n",
    "X_train_mi = sel.transform(X_train)\n",
    "X_test_mi = sel.transform(X_test)\n",
    "\n",
    "X_train_mi.shape, X_test_mi.shape"
   ]
  },
  {
   "cell_type": "markdown",
   "metadata": {},
   "source": [
    "# Univariate Filter Method : Chi Square and Fischer Score"
   ]
  },
  {
   "cell_type": "markdown",
   "metadata": {
    "ExecuteTime": {
     "end_time": "2020-05-13T06:24:01.725431Z",
     "start_time": "2020-05-13T06:24:01.514898Z"
    }
   },
   "source": [
    " - __Using chi square method we can select those features which at the far end of the graph below__\n",
    " - __The Null hypothesis is that there is NO association between target and independent variables one at a time__\n",
    " - __The Alternate hypothesis says there is evidence to suggest there is an association between the two variables__"
   ]
  },
  {
   "cell_type": "code",
   "execution_count": 29,
   "metadata": {
    "ExecuteTime": {
     "end_time": "2020-05-13T07:01:40.946987Z",
     "start_time": "2020-05-13T07:01:40.458887Z"
    }
   },
   "outputs": [
    {
     "data": {
      "text/plain": [
       "<matplotlib.axes._subplots.AxesSubplot at 0x20c551383c8>"
      ]
     },
     "execution_count": 29,
     "metadata": {},
     "output_type": "execute_result"
    },
    {
     "data": {
      "image/png": "[encoded data removed]",
      "text/plain": [
       "<Figure size 864x360 with 1 Axes>"
      ]
     },
     "metadata": {
      "needs_background": "light"
     },
     "output_type": "display_data"
    }
   ],
   "source": [
    "f_score = chi2(X_train, y_train)\n",
    "p_values = pd.Series(f_score[1], index=X_train.columns)\n",
    "p_values.sort_values(ascending=False, inplace=True)\n",
    "p_values.plot.bar(figsize=(12,5))"
   ]
  },
  {
   "cell_type": "markdown",
   "metadata": {},
   "source": [
    " - __SelectKBest() filtering method again helps in selecting k best features based on chi square__"
   ]
  },
  {
   "cell_type": "code",
   "execution_count": 31,
   "metadata": {
    "ExecuteTime": {
     "end_time": "2020-05-13T07:05:04.787341Z",
     "start_time": "2020-05-13T07:05:04.770958Z"
    }
   },
   "outputs": [
    {
     "data": {
      "text/plain": [
       "((242, 10), (61, 10))"
      ]
     },
     "execution_count": 31,
     "metadata": {},
     "output_type": "execute_result"
    }
   ],
   "source": [
    "sel = SelectKBest(chi2, 10).fit(X_train, y_train)\n",
    "X_train.columns[sel.get_support()]\n",
    "X_test.columns[sel.get_support()]\n",
    "\n",
    "X_train_chi = sel.transform(X_train)\n",
    "X_test_chi = sel.transform(X_test)\n",
    "\n",
    "X_train_chi.shape, X_test_chi.shape"
   ]
  },
  {
   "cell_type": "markdown",
   "metadata": {},
   "source": [
    "# Univariate Filter Method : Anova f score"
   ]
  },
  {
   "cell_type": "markdown",
   "metadata": {},
   "source": [
    " - __f_classif is done on a feature by feature basis__\n",
    " - __calculates anova f-value between feature for classification tasks__"
   ]
  },
  {
   "cell_type": "code",
   "execution_count": 34,
   "metadata": {
    "ExecuteTime": {
     "end_time": "2020-05-13T07:18:57.362699Z",
     "start_time": "2020-05-13T07:18:56.879941Z"
    }
   },
   "outputs": [
    {
     "data": {
      "text/plain": [
       "<matplotlib.axes._subplots.AxesSubplot at 0x20c554d7288>"
      ]
     },
     "execution_count": 34,
     "metadata": {},
     "output_type": "execute_result"
    },
    {
     "data": {
      "image/png": "[encoded data removed]",
      "text/plain": [
       "<Figure size 864x360 with 1 Axes>"
      ]
     },
     "metadata": {
      "needs_background": "light"
     },
     "output_type": "display_data"
    }
   ],
   "source": [
    "anova_f = f_classif(X_train, y_train)\n",
    "p_values = pd.Series(anova_f[1], index=X_train.columns)\n",
    "p_values.sort_values(ascending=False, inplace=True)\n",
    "p_values.plot.bar(figsize=(12,5))"
   ]
  },
  {
   "cell_type": "code",
   "execution_count": 35,
   "metadata": {
    "ExecuteTime": {
     "end_time": "2020-05-13T07:19:18.260971Z",
     "start_time": "2020-05-13T07:19:18.243118Z"
    }
   },
   "outputs": [
    {
     "data": {
      "text/plain": [
       "((242, 10), (61, 10))"
      ]
     },
     "execution_count": 35,
     "metadata": {},
     "output_type": "execute_result"
    }
   ],
   "source": [
    "sel = SelectKBest(f_classif, 10).fit(X_train, y_train)\n",
    "X_train.columns[sel.get_support()]\n",
    "X_test.columns[sel.get_support()]\n",
    "\n",
    "X_train_chi = sel.transform(X_train)\n",
    "X_test_chi = sel.transform(X_test)\n",
    "\n",
    "X_train_chi.shape, X_test_chi.shape"
   ]
  },
  {
   "cell_type": "markdown",
   "metadata": {},
   "source": [
    "# Wrapper : Sequential FORWARD Feature Selection"
   ]
  },
  {
   "cell_type": "markdown",
   "metadata": {},
   "source": [
    " - __Start with a null model and then start fitting the model with each individual feature one at a time and select the feature with the minimum p-value__\n",
    " - __Now fit a model with two features by trying combinations of the earlier selected feature with all other remaining features. Continue the minimum p-value selection criteria__\n",
    " - __Repeat this process until we have a set of selected features with a p-value of individual feature less than the significance level__"
   ]
  },
  {
   "cell_type": "code",
   "execution_count": 73,
   "metadata": {
    "ExecuteTime": {
     "end_time": "2020-05-13T09:22:16.238528Z",
     "start_time": "2020-05-13T09:17:00.640209Z"
    }
   },
   "outputs": [
    {
     "name": "stderr",
     "output_type": "stream",
     "text": [
      "[Parallel(n_jobs=-1)]: Using backend LokyBackend with 4 concurrent workers.\n",
      "[Parallel(n_jobs=-1)]: Done  30 out of  30 | elapsed:   21.3s finished\n",
      "\n",
      "[2020-05-13 14:47:22] Features: 1/30 -- score: 0.76051912568306[Parallel(n_jobs=-1)]: Using backend LokyBackend with 4 concurrent workers.\n",
      "[Parallel(n_jobs=-1)]: Done  29 out of  29 | elapsed:   18.6s finished\n",
      "\n",
      "[2020-05-13 14:47:40] Features: 2/30 -- score: 0.7645491803278688[Parallel(n_jobs=-1)]: Using backend LokyBackend with 4 concurrent workers.\n",
      "[Parallel(n_jobs=-1)]: Done  28 out of  28 | elapsed:   17.5s finished\n",
      "\n",
      "[2020-05-13 14:47:58] Features: 3/30 -- score: 0.7810109289617486[Parallel(n_jobs=-1)]: Using backend LokyBackend with 4 concurrent workers.\n",
      "[Parallel(n_jobs=-1)]: Done  27 out of  27 | elapsed:   18.0s finished\n",
      "\n",
      "[2020-05-13 14:48:16] Features: 4/30 -- score: 0.8345628415300547[Parallel(n_jobs=-1)]: Using backend LokyBackend with 4 concurrent workers.\n",
      "[Parallel(n_jobs=-1)]: Done  26 out of  26 | elapsed:   17.4s finished\n",
      "\n",
      "[2020-05-13 14:48:33] Features: 5/30 -- score: 0.8427595628415301[Parallel(n_jobs=-1)]: Using backend LokyBackend with 4 concurrent workers.\n",
      "[Parallel(n_jobs=-1)]: Done  25 out of  25 | elapsed:   17.7s finished\n",
      "\n",
      "[2020-05-13 14:48:51] Features: 6/30 -- score: 0.8467896174863389[Parallel(n_jobs=-1)]: Using backend LokyBackend with 4 concurrent workers.\n",
      "[Parallel(n_jobs=-1)]: Done  24 out of  24 | elapsed:   16.0s finished\n",
      "\n",
      "[2020-05-13 14:49:07] Features: 7/30 -- score: 0.8509562841530056[Parallel(n_jobs=-1)]: Using backend LokyBackend with 4 concurrent workers.\n",
      "[Parallel(n_jobs=-1)]: Done  23 out of  23 | elapsed:   15.4s finished\n",
      "\n",
      "[2020-05-13 14:49:23] Features: 8/30 -- score: 0.8509562841530056[Parallel(n_jobs=-1)]: Using backend LokyBackend with 4 concurrent workers.\n",
      "[Parallel(n_jobs=-1)]: Done  22 out of  22 | elapsed:   15.9s finished\n",
      "\n",
      "[2020-05-13 14:49:39] Features: 9/30 -- score: 0.8550546448087433[Parallel(n_jobs=-1)]: Using backend LokyBackend with 4 concurrent workers.\n",
      "[Parallel(n_jobs=-1)]: Done  21 out of  21 | elapsed:   15.2s finished\n",
      "\n",
      "[2020-05-13 14:49:54] Features: 10/30 -- score: 0.8550546448087433[Parallel(n_jobs=-1)]: Using backend LokyBackend with 4 concurrent workers.\n",
      "[Parallel(n_jobs=-1)]: Done  20 out of  20 | elapsed:   13.0s finished\n",
      "\n",
      "[2020-05-13 14:50:07] Features: 11/30 -- score: 0.8509562841530056[Parallel(n_jobs=-1)]: Using backend LokyBackend with 4 concurrent workers.\n",
      "[Parallel(n_jobs=-1)]: Done  19 out of  19 | elapsed:   12.3s finished\n",
      "\n",
      "[2020-05-13 14:50:20] Features: 12/30 -- score: 0.8427595628415301[Parallel(n_jobs=-1)]: Using backend LokyBackend with 4 concurrent workers.\n",
      "[Parallel(n_jobs=-1)]: Done  18 out of  18 | elapsed:   12.0s finished\n",
      "\n",
      "[2020-05-13 14:50:32] Features: 13/30 -- score: 0.8345628415300548[Parallel(n_jobs=-1)]: Using backend LokyBackend with 4 concurrent workers.\n",
      "[Parallel(n_jobs=-1)]: Done  17 out of  17 | elapsed:   11.5s finished\n",
      "\n",
      "[2020-05-13 14:50:43] Features: 14/30 -- score: 0.8345628415300548[Parallel(n_jobs=-1)]: Using backend LokyBackend with 4 concurrent workers.\n",
      "[Parallel(n_jobs=-1)]: Done  16 out of  16 | elapsed:   10.0s finished\n",
      "\n",
      "[2020-05-13 14:50:53] Features: 15/30 -- score: 0.8385245901639344[Parallel(n_jobs=-1)]: Using backend LokyBackend with 4 concurrent workers.\n",
      "[Parallel(n_jobs=-1)]: Done  15 out of  15 | elapsed:    9.8s finished\n",
      "\n",
      "[2020-05-13 14:51:03] Features: 16/30 -- score: 0.8799180327868852[Parallel(n_jobs=-1)]: Using backend LokyBackend with 4 concurrent workers.\n",
      "[Parallel(n_jobs=-1)]: Done  14 out of  14 | elapsed:    9.6s finished\n",
      "\n",
      "[2020-05-13 14:51:13] Features: 17/30 -- score: 0.8675546448087432[Parallel(n_jobs=-1)]: Using backend LokyBackend with 4 concurrent workers.\n",
      "[Parallel(n_jobs=-1)]: Done  13 out of  13 | elapsed:    9.0s remaining:    0.0s\n",
      "[Parallel(n_jobs=-1)]: Done  13 out of  13 | elapsed:    9.0s finished\n",
      "\n",
      "[2020-05-13 14:51:22] Features: 18/30 -- score: 0.8717213114754099[Parallel(n_jobs=-1)]: Using backend LokyBackend with 4 concurrent workers.\n",
      "[Parallel(n_jobs=-1)]: Done  12 out of  12 | elapsed:    7.5s remaining:    0.0s\n",
      "[Parallel(n_jobs=-1)]: Done  12 out of  12 | elapsed:    7.5s finished\n",
      "\n",
      "[2020-05-13 14:51:30] Features: 19/30 -- score: 0.8717896174863389[Parallel(n_jobs=-1)]: Using backend LokyBackend with 4 concurrent workers.\n",
      "[Parallel(n_jobs=-1)]: Done  11 out of  11 | elapsed:    7.4s finished\n",
      "\n",
      "[2020-05-13 14:51:37] Features: 20/30 -- score: 0.8717213114754099[Parallel(n_jobs=-1)]: Using backend LokyBackend with 4 concurrent workers.\n",
      "[Parallel(n_jobs=-1)]: Done  10 out of  10 | elapsed:    5.2s finished\n",
      "\n",
      "[2020-05-13 14:51:43] Features: 21/30 -- score: 0.8717896174863388[Parallel(n_jobs=-1)]: Using backend LokyBackend with 4 concurrent workers.\n",
      "[Parallel(n_jobs=-1)]: Done   7 out of   9 | elapsed:    3.4s remaining:    0.9s\n",
      "[Parallel(n_jobs=-1)]: Done   9 out of   9 | elapsed:    4.7s finished\n",
      "\n",
      "[2020-05-13 14:51:47] Features: 22/30 -- score: 0.8717896174863388[Parallel(n_jobs=-1)]: Using backend LokyBackend with 4 concurrent workers.\n",
      "[Parallel(n_jobs=-1)]: Done   6 out of   8 | elapsed:    4.8s remaining:    1.5s\n",
      "[Parallel(n_jobs=-1)]: Done   8 out of   8 | elapsed:    5.2s finished\n",
      "\n",
      "[2020-05-13 14:51:53] Features: 23/30 -- score: 0.8634562841530053[Parallel(n_jobs=-1)]: Using backend LokyBackend with 4 concurrent workers.\n",
      "[Parallel(n_jobs=-1)]: Done   4 out of   7 | elapsed:    2.5s remaining:    1.9s\n",
      "[Parallel(n_jobs=-1)]: Done   7 out of   7 | elapsed:    4.8s finished\n",
      "\n",
      "[2020-05-13 14:51:58] Features: 24/30 -- score: 0.8634562841530053[Parallel(n_jobs=-1)]: Using backend LokyBackend with 4 concurrent workers.\n",
      "[Parallel(n_jobs=-1)]: Done   3 out of   6 | elapsed:    2.4s remaining:    2.4s\n",
      "[Parallel(n_jobs=-1)]: Done   6 out of   6 | elapsed:    4.6s finished\n",
      "\n",
      "[2020-05-13 14:52:02] Features: 25/30 -- score: 0.8635245901639345[Parallel(n_jobs=-1)]: Using backend LokyBackend with 4 concurrent workers.\n",
      "[Parallel(n_jobs=-1)]: Done   5 out of   5 | elapsed:    4.1s finished\n",
      "\n",
      "[2020-05-13 14:52:06] Features: 26/30 -- score: 0.8594262295081968[Parallel(n_jobs=-1)]: Using backend LokyBackend with 4 concurrent workers.\n",
      "[Parallel(n_jobs=-1)]: Done   4 out of   4 | elapsed:    2.5s finished\n",
      "\n",
      "[2020-05-13 14:52:09] Features: 27/30 -- score: 0.8469945355191257[Parallel(n_jobs=-1)]: Using backend LokyBackend with 4 concurrent workers.\n",
      "[Parallel(n_jobs=-1)]: Done   3 out of   3 | elapsed:    2.3s finished\n",
      "\n",
      "[2020-05-13 14:52:11] Features: 28/30 -- score: 0.8510928961748634[Parallel(n_jobs=-1)]: Using backend LokyBackend with 4 concurrent workers.\n",
      "[Parallel(n_jobs=-1)]: Done   2 out of   2 | elapsed:    2.2s finished\n",
      "\n",
      "[2020-05-13 14:52:14] Features: 29/30 -- score: 0.8344262295081968[Parallel(n_jobs=-1)]: Using backend LokyBackend with 4 concurrent workers.\n",
      "[Parallel(n_jobs=-1)]: Done   1 out of   1 | elapsed:    2.0s finished\n",
      "\n",
      "[2020-05-13 14:52:16] Features: 30/30 -- score: 0.8344262295081968"
     ]
    }
   ],
   "source": [
    "sfs = SFS(RandomForestClassifier(n_estimators=100, random_state=0, n_jobs=-1), \n",
    "          k_features=(1, X_train.shape[1]), \n",
    "          forward=True, \n",
    "          floating=False, \n",
    "          verbose=2, \n",
    "          scoring='accuracy', \n",
    "          cv = 4, \n",
    "          n_jobs=-1).fit(X_train, y_train)"
   ]
  },
  {
   "cell_type": "markdown",
   "metadata": {},
   "source": [
    " - __k_score_ gives the score of the model with best set of features__\n",
    " - __k_feature_names_ gives the tuple of feature names selected best__\n",
    " - __k_feature_idx_ gives the tuple of feature index based on train data__\n",
    " - __We need to convert the tuple into list so that that best features can selected from the entire list of training/test data__\n",
    " - __We finally use the transform() method to transform our train/test data__"
   ]
  },
  {
   "cell_type": "code",
   "execution_count": 74,
   "metadata": {
    "ExecuteTime": {
     "end_time": "2020-05-13T09:22:16.841394Z",
     "start_time": "2020-05-13T09:22:16.824301Z"
    }
   },
   "outputs": [
    {
     "data": {
      "text/plain": [
       "((242, 16), (61, 16))"
      ]
     },
     "execution_count": 74,
     "metadata": {},
     "output_type": "execute_result"
    }
   ],
   "source": [
    "sfs.k_score_\n",
    "sfs.k_feature_names_\n",
    "sfs.k_feature_idx_\n",
    "\n",
    "X_train[list(sfs.k_feature_names_)]\n",
    "X_test[list(sfs.k_feature_names_)]\n",
    "\n",
    "X_train_sfsF = sfs.transform(X_train)\n",
    "X_test_sfsF = sfs.transform(X_test)\n",
    "\n",
    "X_train_sfsF.shape, X_test_sfsF.shape"
   ]
  },
  {
   "cell_type": "markdown",
   "metadata": {},
   "source": [
    "# Wrapper : Sequential BACKWARD Feature Selection"
   ]
  },
  {
   "cell_type": "markdown",
   "metadata": {
    "ExecuteTime": {
     "end_time": "2020-05-13T09:15:26.583430Z",
     "start_time": "2020-05-13T09:15:26.574810Z"
    }
   },
   "source": [
    " - __We start with all the independent variables and then remove the insignificant feature with highest p-value__\n",
    " - __This process repeats again and again until we have the final set of significant features__"
   ]
  },
  {
   "cell_type": "code",
   "execution_count": 76,
   "metadata": {
    "ExecuteTime": {
     "end_time": "2020-05-13T09:31:10.891593Z",
     "start_time": "2020-05-13T09:25:56.660882Z"
    }
   },
   "outputs": [
    {
     "name": "stderr",
     "output_type": "stream",
     "text": [
      "[Parallel(n_jobs=-1)]: Using backend LokyBackend with 4 concurrent workers.\n",
      "[Parallel(n_jobs=-1)]: Done  30 out of  30 | elapsed:   19.6s finished\n",
      "\n",
      "[2020-05-13 14:56:18] Features: 29/1 -- score: 0.8468579234972677[Parallel(n_jobs=-1)]: Using backend LokyBackend with 4 concurrent workers.\n",
      "[Parallel(n_jobs=-1)]: Done  29 out of  29 | elapsed:   20.0s finished\n",
      "\n",
      "[2020-05-13 14:56:38] Features: 28/1 -- score: 0.8469262295081967[Parallel(n_jobs=-1)]: Using backend LokyBackend with 4 concurrent workers.\n",
      "[Parallel(n_jobs=-1)]: Done  28 out of  28 | elapsed:   18.3s finished\n",
      "\n",
      "[2020-05-13 14:56:56] Features: 27/1 -- score: 0.8551912568306012[Parallel(n_jobs=-1)]: Using backend LokyBackend with 4 concurrent workers.\n",
      "[Parallel(n_jobs=-1)]: Done  27 out of  27 | elapsed:   18.2s finished\n",
      "\n",
      "[2020-05-13 14:57:14] Features: 26/1 -- score: 0.8511612021857924[Parallel(n_jobs=-1)]: Using backend LokyBackend with 4 concurrent workers.\n",
      "[Parallel(n_jobs=-1)]: Done  26 out of  26 | elapsed:   16.9s finished\n",
      "\n",
      "[2020-05-13 14:57:31] Features: 25/1 -- score: 0.8511612021857924[Parallel(n_jobs=-1)]: Using backend LokyBackend with 4 concurrent workers.\n",
      "[Parallel(n_jobs=-1)]: Done  25 out of  25 | elapsed:   16.3s finished\n",
      "\n",
      "[2020-05-13 14:57:48] Features: 24/1 -- score: 0.855327868852459[Parallel(n_jobs=-1)]: Using backend LokyBackend with 4 concurrent workers.\n",
      "[Parallel(n_jobs=-1)]: Done  24 out of  24 | elapsed:   15.2s finished\n",
      "\n",
      "[2020-05-13 14:58:03] Features: 23/1 -- score: 0.8634562841530056[Parallel(n_jobs=-1)]: Using backend LokyBackend with 4 concurrent workers.\n",
      "[Parallel(n_jobs=-1)]: Done  23 out of  23 | elapsed:   14.7s finished\n",
      "\n",
      "[2020-05-13 14:58:18] Features: 22/1 -- score: 0.855327868852459[Parallel(n_jobs=-1)]: Using backend LokyBackend with 4 concurrent workers.\n",
      "[Parallel(n_jobs=-1)]: Done  22 out of  22 | elapsed:   14.5s finished\n",
      "\n",
      "[2020-05-13 14:58:33] Features: 21/1 -- score: 0.8593579234972678[Parallel(n_jobs=-1)]: Using backend LokyBackend with 4 concurrent workers.\n",
      "[Parallel(n_jobs=-1)]: Done  21 out of  21 | elapsed:   14.2s finished\n",
      "\n",
      "[2020-05-13 14:58:47] Features: 20/1 -- score: 0.8634562841530056[Parallel(n_jobs=-1)]: Using backend LokyBackend with 4 concurrent workers.\n",
      "[Parallel(n_jobs=-1)]: Done  20 out of  20 | elapsed:   12.7s finished\n",
      "\n",
      "[2020-05-13 14:59:00] Features: 19/1 -- score: 0.8717896174863389[Parallel(n_jobs=-1)]: Using backend LokyBackend with 4 concurrent workers.\n",
      "[Parallel(n_jobs=-1)]: Done  19 out of  19 | elapsed:   12.2s finished\n",
      "\n",
      "[2020-05-13 14:59:12] Features: 18/1 -- score: 0.8593579234972678[Parallel(n_jobs=-1)]: Using backend LokyBackend with 4 concurrent workers.\n",
      "[Parallel(n_jobs=-1)]: Done  18 out of  18 | elapsed:   12.2s finished\n",
      "\n",
      "[2020-05-13 14:59:24] Features: 17/1 -- score: 0.8719945355191256[Parallel(n_jobs=-1)]: Using backend LokyBackend with 4 concurrent workers.\n",
      "[Parallel(n_jobs=-1)]: Done  17 out of  17 | elapsed:   11.6s finished\n",
      "\n",
      "[2020-05-13 14:59:36] Features: 16/1 -- score: 0.8801912568306011[Parallel(n_jobs=-1)]: Using backend LokyBackend with 4 concurrent workers.\n",
      "[Parallel(n_jobs=-1)]: Done  16 out of  16 | elapsed:   10.1s finished\n",
      "\n",
      "[2020-05-13 14:59:46] Features: 15/1 -- score: 0.8718579234972678[Parallel(n_jobs=-1)]: Using backend LokyBackend with 4 concurrent workers.\n",
      "[Parallel(n_jobs=-1)]: Done  15 out of  15 | elapsed:    9.9s finished\n",
      "\n",
      "[2020-05-13 14:59:56] Features: 14/1 -- score: 0.8760928961748634[Parallel(n_jobs=-1)]: Using backend LokyBackend with 4 concurrent workers.\n",
      "[Parallel(n_jobs=-1)]: Done  14 out of  14 | elapsed:    9.7s finished\n",
      "\n",
      "[2020-05-13 15:00:06] Features: 13/1 -- score: 0.8637295081967213[Parallel(n_jobs=-1)]: Using backend LokyBackend with 4 concurrent workers.\n",
      "[Parallel(n_jobs=-1)]: Done  13 out of  13 | elapsed:    9.4s remaining:    0.0s\n",
      "[Parallel(n_jobs=-1)]: Done  13 out of  13 | elapsed:    9.4s finished\n",
      "\n",
      "[2020-05-13 15:00:15] Features: 12/1 -- score: 0.8801229508196721[Parallel(n_jobs=-1)]: Using backend LokyBackend with 4 concurrent workers.\n",
      "[Parallel(n_jobs=-1)]: Done  12 out of  12 | elapsed:    7.6s remaining:    0.0s\n",
      "[Parallel(n_jobs=-1)]: Done  12 out of  12 | elapsed:    7.6s finished\n",
      "\n",
      "[2020-05-13 15:00:23] Features: 11/1 -- score: 0.867622950819672[Parallel(n_jobs=-1)]: Using backend LokyBackend with 4 concurrent workers.\n",
      "[Parallel(n_jobs=-1)]: Done  11 out of  11 | elapsed:    7.3s finished\n",
      "\n",
      "[2020-05-13 15:00:31] Features: 10/1 -- score: 0.8637295081967213[Parallel(n_jobs=-1)]: Using backend LokyBackend with 4 concurrent workers.\n",
      "[Parallel(n_jobs=-1)]: Done  10 out of  10 | elapsed:    7.0s finished\n",
      "\n",
      "[2020-05-13 15:00:38] Features: 9/1 -- score: 0.855327868852459[Parallel(n_jobs=-1)]: Using backend LokyBackend with 4 concurrent workers.\n",
      "[Parallel(n_jobs=-1)]: Done   7 out of   9 | elapsed:    5.0s remaining:    1.4s\n",
      "[Parallel(n_jobs=-1)]: Done   9 out of   9 | elapsed:    6.8s finished\n",
      "\n",
      "[2020-05-13 15:00:45] Features: 8/1 -- score: 0.855327868852459[Parallel(n_jobs=-1)]: Using backend LokyBackend with 4 concurrent workers.\n",
      "[Parallel(n_jobs=-1)]: Done   6 out of   8 | elapsed:    5.0s remaining:    1.6s\n",
      "[Parallel(n_jobs=-1)]: Done   8 out of   8 | elapsed:    5.2s finished\n",
      "\n",
      "[2020-05-13 15:00:50] Features: 7/1 -- score: 0.843032786885246[Parallel(n_jobs=-1)]: Using backend LokyBackend with 4 concurrent workers.\n",
      "[Parallel(n_jobs=-1)]: Done   4 out of   7 | elapsed:    2.6s remaining:    2.0s\n",
      "[Parallel(n_jobs=-1)]: Done   7 out of   7 | elapsed:    4.8s finished\n",
      "\n",
      "[2020-05-13 15:00:55] Features: 6/1 -- score: 0.8346994535519126[Parallel(n_jobs=-1)]: Using backend LokyBackend with 4 concurrent workers.\n",
      "[Parallel(n_jobs=-1)]: Done   3 out of   6 | elapsed:    2.4s remaining:    2.4s\n",
      "[Parallel(n_jobs=-1)]: Done   6 out of   6 | elapsed:    4.2s finished\n",
      "\n",
      "[2020-05-13 15:00:59] Features: 5/1 -- score: 0.8261612021857924[Parallel(n_jobs=-1)]: Using backend LokyBackend with 4 concurrent workers.\n",
      "[Parallel(n_jobs=-1)]: Done   5 out of   5 | elapsed:    3.9s finished\n",
      "\n",
      "[2020-05-13 15:01:03] Features: 4/1 -- score: 0.8014344262295081[Parallel(n_jobs=-1)]: Using backend LokyBackend with 4 concurrent workers.\n",
      "[Parallel(n_jobs=-1)]: Done   4 out of   4 | elapsed:    2.6s finished\n",
      "\n",
      "[2020-05-13 15:01:06] Features: 3/1 -- score: 0.8056010928961749[Parallel(n_jobs=-1)]: Using backend LokyBackend with 4 concurrent workers.\n",
      "[Parallel(n_jobs=-1)]: Done   3 out of   3 | elapsed:    2.2s finished\n",
      "\n",
      "[2020-05-13 15:01:08] Features: 2/1 -- score: 0.7767076502732241[Parallel(n_jobs=-1)]: Using backend LokyBackend with 4 concurrent workers.\n",
      "[Parallel(n_jobs=-1)]: Done   2 out of   2 | elapsed:    2.2s finished\n",
      "\n",
      "[2020-05-13 15:01:10] Features: 1/1 -- score: 0.7354508196721312"
     ]
    }
   ],
   "source": [
    "sfs = SFS(RandomForestClassifier(n_estimators=100, random_state=0, n_jobs=-1), \n",
    "          k_features=(1, X_train.shape[1]), \n",
    "          forward=False, \n",
    "          floating=False, \n",
    "          verbose=2, \n",
    "          scoring='accuracy', \n",
    "          cv = 4, \n",
    "          n_jobs=-1).fit(X_train, y_train)"
   ]
  },
  {
   "cell_type": "code",
   "execution_count": 77,
   "metadata": {
    "ExecuteTime": {
     "end_time": "2020-05-13T09:31:11.530001Z",
     "start_time": "2020-05-13T09:31:11.511679Z"
    }
   },
   "outputs": [
    {
     "data": {
      "text/plain": [
       "((242, 16), (61, 16))"
      ]
     },
     "execution_count": 77,
     "metadata": {},
     "output_type": "execute_result"
    }
   ],
   "source": [
    "sfs.k_score_\n",
    "sfs.k_feature_names_\n",
    "sfs.k_feature_idx_\n",
    "\n",
    "X_train[list(sfs.k_feature_names_)]\n",
    "X_test[list(sfs.k_feature_names_)]\n",
    "\n",
    "X_train_sfsB = sfs.transform(X_train)\n",
    "X_test_sfsB = sfs.transform(X_test)\n",
    "\n",
    "X_train_sfsB.shape, X_test_sfsB.shape"
   ]
  },
  {
   "cell_type": "markdown",
   "metadata": {},
   "source": [
    " - __plot_sfs() allows to plot visual inorder to select best number of features with highest accuracy__"
   ]
  },
  {
   "cell_type": "code",
   "execution_count": 79,
   "metadata": {
    "ExecuteTime": {
     "end_time": "2020-05-13T09:33:46.336491Z",
     "start_time": "2020-05-13T09:33:45.846545Z"
    }
   },
   "outputs": [
    {
     "data": {
      "image/png": "[encoded data removed]",
      "text/plain": [
       "<Figure size 864x360 with 1 Axes>"
      ]
     },
     "metadata": {
      "needs_background": "light"
     },
     "output_type": "display_data"
    }
   ],
   "source": [
    "plot_sfs(sfs.get_metric_dict(),\n",
    "                kind='std_dev',\n",
    "                figsize=(12, 5))\n",
    "\n",
    "plt.title('Sequential Forward Selection (w. StdDev)')\n",
    "plt.grid()\n",
    "plt.show()"
   ]
  },
  {
   "cell_type": "markdown",
   "metadata": {},
   "source": [
    "# Wrapper : Exhaustive Feature Selection"
   ]
  },
  {
   "cell_type": "markdown",
   "metadata": {},
   "source": [
    " - __Wrapper approach for brute-force evaluation of feature subsets__\n",
    " - __The best subset is selected by optimizing a specified performance metric given an arbitrary regressor or classifier__\n",
    " - __Extremely slow relative to sfs and computer intensive__\n",
    " - Link for further study: http://rasbt.github.io/mlxtend/user_guide/feature_selection/ExhaustiveFeatureSelector/"
   ]
  },
  {
   "cell_type": "code",
   "execution_count": 84,
   "metadata": {
    "ExecuteTime": {
     "end_time": "2020-05-13T11:53:56.383663Z",
     "start_time": "2020-05-13T11:53:56.379674Z"
    }
   },
   "outputs": [],
   "source": [
    "efs = EFS(RandomForestClassifier(n_estimators=100, random_state=0, n_jobs=-1), \n",
    "          min_features=10, \n",
    "          max_features=16,\n",
    "          scoring='accuracy', \n",
    "          cv = None, \n",
    "          n_jobs=-1).fit(X_train, y_train)"
   ]
  },
  {
   "cell_type": "code",
   "execution_count": null,
   "metadata": {
    "ExecuteTime": {
     "end_time": "2020-05-13T11:41:24.443390Z",
     "start_time": "2020-05-13T09:40:17.305Z"
    }
   },
   "outputs": [],
   "source": [
    "efs.k_score_\n",
    "efs.k_feature_names_\n",
    "efs.k_feature_idx_\n",
    "\n",
    "X_train[list(efs.k_feature_names_)]\n",
    "X_test[list(efs.k_feature_names_)]\n",
    "\n",
    "X_train_EFS = efs.transform(X_train)\n",
    "X_test_EFS = efs.transform(X_test)\n",
    "\n",
    "X_train_EFS.shape, X_test_EFS.shape"
   ]
  },
  {
   "cell_type": "code",
   "execution_count": null,
   "metadata": {
    "ExecuteTime": {
     "end_time": "2020-05-13T11:41:24.448377Z",
     "start_time": "2020-05-13T09:40:20.120Z"
    }
   },
   "outputs": [],
   "source": [
    "plot_sfs(efs.get_metric_dict(),\n",
    "                kind='std_dev',\n",
    "                figsize=(12, 5))\n",
    "\n",
    "plt.title('Sequential Forward Selection (w. StdDev)')\n",
    "plt.grid()\n",
    "plt.show()"
   ]
  },
  {
   "cell_type": "markdown",
   "metadata": {},
   "source": [
    "# Embed : Recursive Feature Extraction with Cross Validation"
   ]
  },
  {
   "cell_type": "markdown",
   "metadata": {},
   "source": [
    " - __RFE is a kind of backward selection of the predictors__\n",
    " - __This technique begins by building a model on the entire set of predictors and computing an importance score for each predictor__\n",
    " - __The least important predictor(s) are then removed, the model is re-built, and importance scores are computed again__"
   ]
  },
  {
   "cell_type": "code",
   "execution_count": 87,
   "metadata": {
    "ExecuteTime": {
     "end_time": "2020-05-13T12:35:51.483807Z",
     "start_time": "2020-05-13T12:34:45.633824Z"
    }
   },
   "outputs": [],
   "source": [
    "rfe = RFECV(RandomForestClassifier(n_estimators=100, random_state=0, n_jobs=-1), \n",
    "          step=1, \n",
    "          cv=StratifiedKFold(10),\n",
    "          scoring='accuracy', \n",
    "          n_jobs=-1).fit(X_train, y_train)"
   ]
  },
  {
   "cell_type": "code",
   "execution_count": 88,
   "metadata": {
    "ExecuteTime": {
     "end_time": "2020-05-13T12:36:38.734114Z",
     "start_time": "2020-05-13T12:36:38.727711Z"
    }
   },
   "outputs": [
    {
     "data": {
      "text/plain": [
       "26"
      ]
     },
     "execution_count": 88,
     "metadata": {},
     "output_type": "execute_result"
    }
   ],
   "source": [
    "rfe.n_features_"
   ]
  },
  {
   "cell_type": "markdown",
   "metadata": {},
   "source": [
    " - __Plot the accuracy for each set of features, here we see the accuracy peak is mostly at 26 features__"
   ]
  },
  {
   "cell_type": "code",
   "execution_count": 93,
   "metadata": {
    "ExecuteTime": {
     "end_time": "2020-05-13T12:40:20.565477Z",
     "start_time": "2020-05-13T12:40:20.268146Z"
    }
   },
   "outputs": [
    {
     "data": {
      "image/png": "[encoded data removed]",
      "text/plain": [
       "<Figure size 864x360 with 1 Axes>"
      ]
     },
     "metadata": {
      "needs_background": "light"
     },
     "output_type": "display_data"
    }
   ],
   "source": [
    "fig = plt.figure(figsize=(12, 5))\n",
    "plt.plot(range(1, len(rfe.grid_scores_) +1), rfe.grid_scores_)\n",
    "plt.title('RFECV Grid Scores')\n",
    "plt.grid()\n",
    "plt.show()"
   ]
  },
  {
   "cell_type": "markdown",
   "metadata": {},
   "source": [
    " - __Select the important features__"
   ]
  },
  {
   "cell_type": "code",
   "execution_count": 112,
   "metadata": {
    "ExecuteTime": {
     "end_time": "2020-05-13T12:53:10.213368Z",
     "start_time": "2020-05-13T12:53:10.209582Z"
    }
   },
   "outputs": [],
   "source": [
    "X_train.drop(X_train.columns[np.where(rfe.support_ == False)[0]], axis=1, inplace=True)\n",
    "X_test.drop(X_test.columns[np.where(rfe.support_ == False)[0]], axis=1, inplace=True)\n",
    "\n",
    "X_train_ref = pd.DataFrame(X_train)\n",
    "X_test_rfe = pd.DataFrame(X_test)\n",
    "X_train_rfe.shape, X_test_rfe.shape"
   ]
  },
  {
   "cell_type": "markdown",
   "metadata": {
    "ExecuteTime": {
     "end_time": "2020-05-13T12:56:06.668458Z",
     "start_time": "2020-05-13T12:56:06.662434Z"
    }
   },
   "source": [
    " - __Plot feature importances__"
   ]
  },
  {
   "cell_type": "code",
   "execution_count": 124,
   "metadata": {
    "ExecuteTime": {
     "end_time": "2020-05-13T13:00:54.046405Z",
     "start_time": "2020-05-13T13:00:53.448195Z"
    }
   },
   "outputs": [
    {
     "data": {
      "image/png": "[encoded data removed]",
      "text/plain": [
       "<Figure size 864x576 with 1 Axes>"
      ]
     },
     "metadata": {
      "needs_background": "light"
     },
     "output_type": "display_data"
    }
   ],
   "source": [
    "imp = pd.DataFrame()\n",
    "imp['features'] = X_train.columns\n",
    "imp['score'] = rfe.estimator_.feature_importances_\n",
    "imp = imp.sort_values(by='score', ascending=True)\n",
    "imp\n",
    "\n",
    "fig = plt.figure(figsize=(12, 8))\n",
    "plt.barh(imp[\"features\"], width=imp[\"score\"], height=0.8)\n",
    "plt.grid()\n",
    "plt.show()"
   ]
  },
  {
   "cell_type": "code",
   "execution_count": null,
   "metadata": {
    "ExecuteTime": {
     "end_time": "2020-05-13T13:00:09.003173Z",
     "start_time": "2020-05-13T13:00:08.506216Z"
    }
   },
   "outputs": [],
   "source": []
  },
  {
   "cell_type": "code",
   "execution_count": null,
   "metadata": {},
   "outputs": [],
   "source": []
  }
 ],
 "metadata": {
  "hide_input": false,
  "kernelspec": {
   "display_name": "Python 3",
   "language": "python",
   "name": "python3"
  },
  "language_info": {
   "codemirror_mode": {
    "name": "ipython",
    "version": 3
   },
   "file_extension": ".py",
   "mimetype": "text/x-python",
   "name": "python",
   "nbconvert_exporter": "python",
   "pygments_lexer": "ipython3",
   "version": "3.7.7"
  },
  "toc": {
   "base_numbering": 1,
   "nav_menu": {},
   "number_sections": true,
   "sideBar": true,
   "skip_h1_title": false,
   "title_cell": "Table of Contents",
   "title_sidebar": "Contents",
   "toc_cell": false,
   "toc_position": {},
   "toc_section_display": true,
   "toc_window_display": false
  },
  "varInspector": {
   "cols": {
    "lenName": 16,
    "lenType": 16,
    "lenVar": 40
   },
   "kernels_config": {
    "python": {
     "delete_cmd_postfix": "",
     "delete_cmd_prefix": "del ",
     "library": "var_list.py",
     "varRefreshCmd": "print(var_dic_list())"
    },
    "r": {
     "delete_cmd_postfix": ") ",
     "delete_cmd_prefix": "rm(",
     "library": "var_list.r",
     "varRefreshCmd": "cat(var_dic_list()) "
    }
   },
   "types_to_exclude": [
    "module",
    "function",
    "builtin_function_or_method",
    "instance",
    "_Feature"
   ],
   "window_display": false
  }
 },
 "nbformat": 4,
 "nbformat_minor": 4
}
