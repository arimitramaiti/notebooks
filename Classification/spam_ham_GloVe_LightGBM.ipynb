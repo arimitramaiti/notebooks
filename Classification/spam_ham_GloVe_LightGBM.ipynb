{
 "cells": [
  {
   "cell_type": "markdown",
   "metadata": {},
   "source": [
    " - __Import base modules__"
   ]
  },
  {
   "cell_type": "code",
   "execution_count": 1,
   "metadata": {
    "ExecuteTime": {
     "end_time": "2020-05-26T11:25:00.616587Z",
     "start_time": "2020-05-26T11:24:57.507311Z"
    }
   },
   "outputs": [],
   "source": [
    "import numpy as np\n",
    "import pandas as pd\n",
    "import matplotlib.pyplot as plt\n",
    "import seaborn as sns\n",
    "%matplotlib inline"
   ]
  },
  {
   "cell_type": "markdown",
   "metadata": {},
   "source": [
    " - __Import sklearn modules__"
   ]
  },
  {
   "cell_type": "code",
   "execution_count": 2,
   "metadata": {
    "ExecuteTime": {
     "end_time": "2020-05-26T11:25:08.121117Z",
     "start_time": "2020-05-26T11:25:00.619580Z"
    }
   },
   "outputs": [
    {
     "name": "stderr",
     "output_type": "stream",
     "text": [
      "Using TensorFlow backend.\n"
     ]
    }
   ],
   "source": [
    "from sklearn.model_selection import train_test_split\n",
    "from sklearn.preprocessing import MinMaxScaler\n",
    "from sklearn.metrics import accuracy_score, roc_auc_score\n",
    "from sklearn.model_selection import learning_curve\n",
    "from sklearn.metrics import recall_score, confusion_matrix, classification_report\n",
    "from sklearn.model_selection import cross_val_score\n",
    "from sklearn.model_selection import GridSearchCV, RandomizedSearchCV\n",
    "from sklearn.model_selection import StratifiedKFold\n",
    "import time\n",
    "import warnings\n",
    "warnings.filterwarnings(\"ignore\", category=DeprecationWarning)\n",
    "from imblearn import under_sampling, over_sampling\n",
    "from imblearn.over_sampling import SMOTE"
   ]
  },
  {
   "cell_type": "markdown",
   "metadata": {},
   "source": [
    " - __Import the spam/ham dataset__"
   ]
  },
  {
   "cell_type": "code",
   "execution_count": 3,
   "metadata": {
    "ExecuteTime": {
     "end_time": "2020-05-26T11:25:08.697601Z",
     "start_time": "2020-05-26T11:25:08.121117Z"
    }
   },
   "outputs": [
    {
     "data": {
      "text/html": [
       "<div>\n",
       "<style scoped>\n",
       "    .dataframe tbody tr th:only-of-type {\n",
       "        vertical-align: middle;\n",
       "    }\n",
       "\n",
       "    .dataframe tbody tr th {\n",
       "        vertical-align: top;\n",
       "    }\n",
       "\n",
       "    .dataframe thead th {\n",
       "        text-align: right;\n",
       "    }\n",
       "</style>\n",
       "<table border=\"1\" class=\"dataframe\">\n",
       "  <thead>\n",
       "    <tr style=\"text-align: right;\">\n",
       "      <th></th>\n",
       "      <th>Category</th>\n",
       "      <th>Message</th>\n",
       "    </tr>\n",
       "  </thead>\n",
       "  <tbody>\n",
       "    <tr>\n",
       "      <th>0</th>\n",
       "      <td>ham</td>\n",
       "      <td>Go until jurong point, crazy.. Available only ...</td>\n",
       "    </tr>\n",
       "    <tr>\n",
       "      <th>1</th>\n",
       "      <td>ham</td>\n",
       "      <td>Ok lar... Joking wif u oni...</td>\n",
       "    </tr>\n",
       "    <tr>\n",
       "      <th>2</th>\n",
       "      <td>spam</td>\n",
       "      <td>Free entry in 2 a wkly comp to win FA Cup fina...</td>\n",
       "    </tr>\n",
       "    <tr>\n",
       "      <th>3</th>\n",
       "      <td>ham</td>\n",
       "      <td>U dun say so early hor... U c already then say...</td>\n",
       "    </tr>\n",
       "  </tbody>\n",
       "</table>\n",
       "</div>"
      ],
      "text/plain": [
       "  Category                                            Message\n",
       "0      ham  Go until jurong point, crazy.. Available only ...\n",
       "1      ham                      Ok lar... Joking wif u oni...\n",
       "2     spam  Free entry in 2 a wkly comp to win FA Cup fina...\n",
       "3      ham  U dun say so early hor... U c already then say..."
      ]
     },
     "execution_count": 3,
     "metadata": {},
     "output_type": "execute_result"
    }
   ],
   "source": [
    "url=\"https://raw.githubusercontent.com/arimitramaiti/datasets/master/Classification/spam_ham_text_classification.csv\"\n",
    "dataset = pd.read_csv(url, error_bad_lines=False, header=0)\n",
    "dataset.head(4)"
   ]
  },
  {
   "cell_type": "markdown",
   "metadata": {},
   "source": [
    " - __Check if missing values exist__"
   ]
  },
  {
   "cell_type": "code",
   "execution_count": 4,
   "metadata": {
    "ExecuteTime": {
     "end_time": "2020-05-26T11:25:08.706545Z",
     "start_time": "2020-05-26T11:25:08.699562Z"
    }
   },
   "outputs": [
    {
     "data": {
      "text/plain": [
       "Category    0\n",
       "Message     0\n",
       "dtype: int64"
      ]
     },
     "execution_count": 4,
     "metadata": {},
     "output_type": "execute_result"
    }
   ],
   "source": [
    "dataset.isnull().sum()"
   ]
  },
  {
   "cell_type": "markdown",
   "metadata": {
    "ExecuteTime": {
     "end_time": "2020-05-25T15:13:05.675447Z",
     "start_time": "2020-05-25T15:13:05.670014Z"
    }
   },
   "source": [
    " - __Check proportion of class values__\n",
    " - __Yes, fair imbalance exists__"
   ]
  },
  {
   "cell_type": "code",
   "execution_count": 5,
   "metadata": {
    "ExecuteTime": {
     "end_time": "2020-05-26T11:25:08.720508Z",
     "start_time": "2020-05-26T11:25:08.708538Z"
    }
   },
   "outputs": [
    {
     "data": {
      "text/plain": [
       "ham     4825\n",
       "spam     747\n",
       "Name: Category, dtype: int64"
      ]
     },
     "execution_count": 5,
     "metadata": {},
     "output_type": "execute_result"
    }
   ],
   "source": [
    "dataset.Category.value_counts()"
   ]
  },
  {
   "cell_type": "markdown",
   "metadata": {},
   "source": [
    " - __Check if NaN values are there and if yes then collect row indices__"
   ]
  },
  {
   "cell_type": "code",
   "execution_count": 6,
   "metadata": {
    "ExecuteTime": {
     "end_time": "2020-05-26T11:25:08.739455Z",
     "start_time": "2020-05-26T11:25:08.724496Z"
    }
   },
   "outputs": [
    {
     "name": "stdout",
     "output_type": "stream",
     "text": [
      "0 blanks:  []\n"
     ]
    }
   ],
   "source": [
    "blanks = []\n",
    "for index, label, review in dataset.itertuples():\n",
    "    if type(review)==str:\n",
    "        if review.isspace():\n",
    "            blanks.append(index)\n",
    "        \n",
    "print(len(blanks), 'blanks: ', blanks)"
   ]
  },
  {
   "cell_type": "markdown",
   "metadata": {},
   "source": [
    " - __Create X and y attrs__"
   ]
  },
  {
   "cell_type": "code",
   "execution_count": 7,
   "metadata": {
    "ExecuteTime": {
     "end_time": "2020-05-26T11:25:08.756411Z",
     "start_time": "2020-05-26T11:25:08.741450Z"
    }
   },
   "outputs": [
    {
     "data": {
      "text/plain": [
       "((5572,), (5572,))"
      ]
     },
     "execution_count": 7,
     "metadata": {},
     "output_type": "execute_result"
    }
   ],
   "source": [
    "X, y = dataset['Message'], dataset['Category']\n",
    "sdict = {'spam': 1, 'ham': 0}\n",
    "y = y.map(sdict)\n",
    "X.shape, y.shape"
   ]
  },
  {
   "cell_type": "markdown",
   "metadata": {},
   "source": [
    " - __Read glove pre trained data file glove.6B.100d.txt__\n",
    " - https://nlp.stanford.edu/projects/glove/\n",
    " - __Code credits to transform into features : StackOverflow__\n",
    " - __Other glove files which can be used are glove.6B.50d, glove.6B.200d, glove.6B.300d, glove.840B.300d__"
   ]
  },
  {
   "cell_type": "code",
   "execution_count": 8,
   "metadata": {
    "ExecuteTime": {
     "end_time": "2020-05-26T11:25:22.507582Z",
     "start_time": "2020-05-26T11:25:08.758405Z"
    }
   },
   "outputs": [],
   "source": [
    "def read_glove_vecs(glove_file):\n",
    "    with open(glove_file, 'r', encoding='utf-8') as f:\n",
    "        words = set()\n",
    "        word_to_vec_map = {}\n",
    "        for line in f:\n",
    "            line = line.strip().split()\n",
    "            curr_word = line[0]\n",
    "            words.add(curr_word)\n",
    "            word_to_vec_map[curr_word] = np.array(line[1:], dtype=np.float64)\n",
    "    return word_to_vec_map\n",
    "word_to_vec_map = read_glove_vecs('glove.6B.100d.txt')"
   ]
  },
  {
   "cell_type": "code",
   "execution_count": 9,
   "metadata": {
    "ExecuteTime": {
     "end_time": "2020-05-26T11:25:22.534586Z",
     "start_time": "2020-05-26T11:25:22.507582Z"
    }
   },
   "outputs": [],
   "source": [
    "from tqdm import tqdm_notebook\n",
    "from tqdm import tqdm"
   ]
  },
  {
   "cell_type": "code",
   "execution_count": 10,
   "metadata": {
    "ExecuteTime": {
     "end_time": "2020-05-26T11:25:22.541566Z",
     "start_time": "2020-05-26T11:25:22.535576Z"
    }
   },
   "outputs": [],
   "source": [
    "def prepare_sequence(ds, word_to_vec_map):\n",
    "    df = []\n",
    "    for sentence in tqdm(ds.values):\n",
    "        sequence_words = np.zeros((100,))\n",
    "        for word in sentence.split():\n",
    "            if word in word_to_vec_map.keys():\n",
    "                temp_X = word_to_vec_map[word]\n",
    "            else:\n",
    "                temp_X = word_to_vec_map['#']\n",
    "            sequence_words+=(temp_X)/len(sentence)\n",
    "        df.append(sequence_words)\n",
    "    return np.array(df)"
   ]
  },
  {
   "cell_type": "code",
   "execution_count": 11,
   "metadata": {
    "ExecuteTime": {
     "end_time": "2020-05-26T11:25:22.797983Z",
     "start_time": "2020-05-26T11:25:22.542559Z"
    }
   },
   "outputs": [
    {
     "name": "stderr",
     "output_type": "stream",
     "text": [
      "100%|███████████████████████████████████████████████████████████████████████████| 5572/5572 [00:00<00:00, 23269.58it/s]\n"
     ]
    }
   ],
   "source": [
    "X_w2v = prepare_sequence(X, word_to_vec_map)"
   ]
  },
  {
   "cell_type": "code",
   "execution_count": 12,
   "metadata": {
    "ExecuteTime": {
     "end_time": "2020-05-26T11:25:22.805962Z",
     "start_time": "2020-05-26T11:25:22.799978Z"
    }
   },
   "outputs": [
    {
     "data": {
      "text/plain": [
       "(5572, 100)"
      ]
     },
     "execution_count": 12,
     "metadata": {},
     "output_type": "execute_result"
    }
   ],
   "source": [
    "X_w2v.shape"
   ]
  },
  {
   "cell_type": "markdown",
   "metadata": {},
   "source": [
    " - __Create training and testing datasets__"
   ]
  },
  {
   "cell_type": "code",
   "execution_count": 13,
   "metadata": {
    "ExecuteTime": {
     "end_time": "2020-05-26T11:25:22.829899Z",
     "start_time": "2020-05-26T11:25:22.807958Z"
    }
   },
   "outputs": [
    {
     "data": {
      "text/plain": [
       "((3900, 100), (1672, 100), (3900,), (1672,))"
      ]
     },
     "execution_count": 13,
     "metadata": {},
     "output_type": "execute_result"
    }
   ],
   "source": [
    "X_train, X_test, y_train, y_test = train_test_split(X_w2v, y, test_size=0.30, stratify=y, random_state=123)\n",
    "X_train.shape, X_test.shape, y_train.shape, y_test.shape"
   ]
  },
  {
   "cell_type": "code",
   "execution_count": 14,
   "metadata": {
    "ExecuteTime": {
     "end_time": "2020-05-26T11:25:22.839872Z",
     "start_time": "2020-05-26T11:25:22.831893Z"
    }
   },
   "outputs": [
    {
     "name": "stdout",
     "output_type": "stream",
     "text": [
      "Before OverSampling, counts of label '1': 523\n",
      "Before OverSampling, counts of label '0': 3377 \n",
      "\n"
     ]
    }
   ],
   "source": [
    "print(\"Before OverSampling, counts of label '1': {}\".format(sum(y_train == 1))) \n",
    "print(\"Before OverSampling, counts of label '0': {} \\n\".format(sum(y_train == 0)))"
   ]
  },
  {
   "cell_type": "markdown",
   "metadata": {},
   "source": [
    " - __Apply SMOTE to uplift class imbalance only in training data__"
   ]
  },
  {
   "cell_type": "code",
   "execution_count": 15,
   "metadata": {
    "ExecuteTime": {
     "end_time": "2020-05-26T11:25:22.919062Z",
     "start_time": "2020-05-26T11:25:22.841870Z"
    }
   },
   "outputs": [],
   "source": [
    "sm = SMOTE(random_state = 2) \n",
    "X_train_res, y_train_res = sm.fit_sample(X_train, y_train.ravel())"
   ]
  },
  {
   "cell_type": "code",
   "execution_count": 16,
   "metadata": {
    "ExecuteTime": {
     "end_time": "2020-05-26T11:25:22.958192Z",
     "start_time": "2020-05-26T11:25:22.920940Z"
    }
   },
   "outputs": [
    {
     "name": "stdout",
     "output_type": "stream",
     "text": [
      "After OverSampling, counts of label '1': 3377\n",
      "After OverSampling, counts of label '0': 3377\n"
     ]
    },
    {
     "data": {
      "text/plain": [
       "((6754, 100), (1672, 100), (6754,), (1672,))"
      ]
     },
     "execution_count": 16,
     "metadata": {},
     "output_type": "execute_result"
    }
   ],
   "source": [
    "print(\"After OverSampling, counts of label '1': {}\".format(sum(y_train_res == 1))) \n",
    "print(\"After OverSampling, counts of label '0': {}\".format(sum(y_train_res == 0)))\n",
    "X_train_res.shape, X_test.shape, y_train_res.shape, y_test.shape"
   ]
  },
  {
   "cell_type": "markdown",
   "metadata": {},
   "source": [
    " - __Import Light GBM module__"
   ]
  },
  {
   "cell_type": "code",
   "execution_count": 17,
   "metadata": {
    "ExecuteTime": {
     "end_time": "2020-05-26T11:25:23.015330Z",
     "start_time": "2020-05-26T11:25:22.960162Z"
    }
   },
   "outputs": [],
   "source": [
    "import lightgbm as lgb"
   ]
  },
  {
   "cell_type": "markdown",
   "metadata": {},
   "source": [
    " - __Declare estimator__"
   ]
  },
  {
   "cell_type": "code",
   "execution_count": 18,
   "metadata": {
    "ExecuteTime": {
     "end_time": "2020-05-26T11:25:23.023309Z",
     "start_time": "2020-05-26T11:25:23.019322Z"
    }
   },
   "outputs": [],
   "source": [
    "estimator = lgb.LGBMClassifier(boosting_type =\"goss\", random_state=1)"
   ]
  },
  {
   "cell_type": "markdown",
   "metadata": {},
   "source": [
    " - __Declare a decimal range of learning rates__\n",
    " - __Declare a range of tree counts__\n",
    " - __Declare a set of max depth values__\n",
    " - __Declare a set of minimum child weight__\n",
    " - __Declare a set of sample proportions to be used in attribute sampling__\n",
    " - __Create dictionary which is a must for Random Search function__"
   ]
  },
  {
   "cell_type": "code",
   "execution_count": 19,
   "metadata": {
    "ExecuteTime": {
     "end_time": "2020-05-26T11:25:23.034305Z",
     "start_time": "2020-05-26T11:25:23.026301Z"
    }
   },
   "outputs": [],
   "source": [
    "learning_rate = np.arange(0.01,1,0.05)\n",
    "n_estimators = np.arange(100, 500, 50)\n",
    "max_depth = [2, 5, 10, 20, 30, 40, 50]\n",
    "min_child_weight = [1,3,6]\n",
    "colsample_bytree = [0.1, 0.5, 0.8, 1]\n",
    "num_leaves = [300, 900, 1200]\n",
    "\n",
    "param_grid = {'learning_rate': learning_rate,\n",
    "              'n_estimators': n_estimators,\n",
    "              'max_depth': max_depth,\n",
    "              'min_child_weight': min_child_weight,\n",
    "              'colsample_bytree': colsample_bytree,\n",
    "              'num_leaves': num_leaves}"
   ]
  },
  {
   "cell_type": "markdown",
   "metadata": {
    "ExecuteTime": {
     "end_time": "2020-05-25T15:18:31.653604Z",
     "start_time": "2020-05-25T15:18:31.644608Z"
    }
   },
   "source": [
    " - __Instantiate the RandomizedSearchCV object with accuracy as scoring metric__\n",
    " - __Push the parameter dictionary inside the object__"
   ]
  },
  {
   "cell_type": "code",
   "execution_count": 20,
   "metadata": {
    "ExecuteTime": {
     "end_time": "2020-05-26T11:25:23.047245Z",
     "start_time": "2020-05-26T11:25:23.036274Z"
    }
   },
   "outputs": [],
   "source": [
    "randomized_accuracy_fit = RandomizedSearchCV(estimator=estimator,\n",
    "                                            param_distributions=param_grid,\n",
    "                                            n_iter=50,\n",
    "                                            scoring=\"accuracy\",\n",
    "                                            n_jobs=-1,\n",
    "                                            refit=True,\n",
    "                                            random_state=123,\n",
    "                                            return_train_score=True,\n",
    "                                            verbose=1,\n",
    "                                            cv=StratifiedKFold(n_splits=10, shuffle=True, random_state=123)\n",
    "                                            )"
   ]
  },
  {
   "cell_type": "markdown",
   "metadata": {},
   "source": [
    " - __Fit the RandomizedSearchCV object on X_train & y_train__"
   ]
  },
  {
   "cell_type": "code",
   "execution_count": 21,
   "metadata": {
    "ExecuteTime": {
     "end_time": "2020-05-26T11:30:11.870224Z",
     "start_time": "2020-05-26T11:25:23.049239Z"
    }
   },
   "outputs": [
    {
     "name": "stdout",
     "output_type": "stream",
     "text": [
      "Fitting 10 folds for each of 50 candidates, totalling 500 fits\n"
     ]
    },
    {
     "name": "stderr",
     "output_type": "stream",
     "text": [
      "[Parallel(n_jobs=-1)]: Using backend LokyBackend with 4 concurrent workers.\n",
      "[Parallel(n_jobs=-1)]: Done  42 tasks      | elapsed:   20.7s\n",
      "C:\\Users\\Debjani\\anaconda3\\lib\\site-packages\\joblib\\externals\\loky\\process_executor.py:706: UserWarning: A worker stopped while some jobs were given to the executor. This can be caused by a too short worker timeout or by a memory leak.\n",
      "  \"timeout or by a memory leak.\", UserWarning\n",
      "[Parallel(n_jobs=-1)]: Done 192 tasks      | elapsed:  1.9min\n",
      "[Parallel(n_jobs=-1)]: Done 442 tasks      | elapsed:  4.1min\n",
      "[Parallel(n_jobs=-1)]: Done 500 out of 500 | elapsed:  4.8min finished\n"
     ]
    },
    {
     "name": "stdout",
     "output_type": "stream",
     "text": [
      "Time consumed for training: 288.812 seconds\n"
     ]
    }
   ],
   "source": [
    "training_start = time.perf_counter()\n",
    "randomized_accuracy_fit.fit(X_train_res, y_train_res)\n",
    "training_end = time.perf_counter()\n",
    "lgb_train_time = training_end-training_start\n",
    "print(\"Time consumed for training: %4.3f seconds\" % (lgb_train_time))"
   ]
  },
  {
   "cell_type": "markdown",
   "metadata": {},
   "source": [
    " - __Print the best score found by RandomizedSearchCV__\n",
    " - __Print the best model found by RandomizedSearchCV__"
   ]
  },
  {
   "cell_type": "code",
   "execution_count": 22,
   "metadata": {
    "ExecuteTime": {
     "end_time": "2020-05-26T11:30:11.881194Z",
     "start_time": "2020-05-26T11:30:11.872218Z"
    }
   },
   "outputs": [
    {
     "name": "stdout",
     "output_type": "stream",
     "text": [
      "0.9853410037256192\n",
      "LGBMClassifier(boosting_type='goss', class_weight=None, colsample_bytree=0.5,\n",
      "               importance_type='split', learning_rate=0.21000000000000002,\n",
      "               max_depth=30, min_child_samples=20, min_child_weight=1,\n",
      "               min_split_gain=0.0, n_estimators=250, n_jobs=-1, num_leaves=900,\n",
      "               objective=None, random_state=1, reg_alpha=0.0, reg_lambda=0.0,\n",
      "               silent=True, subsample=1.0, subsample_for_bin=200000,\n",
      "               subsample_freq=0)\n"
     ]
    }
   ],
   "source": [
    "print(randomized_accuracy_fit.best_score_)\n",
    "print(randomized_accuracy_fit.best_estimator_)"
   ]
  },
  {
   "cell_type": "markdown",
   "metadata": {},
   "source": [
    " - __Store the best model in an object__\n",
    " - __Create predictions from the best model__"
   ]
  },
  {
   "cell_type": "code",
   "execution_count": 23,
   "metadata": {
    "ExecuteTime": {
     "end_time": "2020-05-26T11:30:11.919092Z",
     "start_time": "2020-05-26T11:30:11.885183Z"
    }
   },
   "outputs": [
    {
     "name": "stdout",
     "output_type": "stream",
     "text": [
      "Time consumed for prediction: 0.02701 seconds\n"
     ]
    }
   ],
   "source": [
    "best_estimator = randomized_accuracy_fit.best_estimator_\n",
    "prediction_start = time.perf_counter()\n",
    "y_pred = best_estimator.predict(X_test)\n",
    "prediction_end = time.perf_counter()\n",
    "lgb_prediction_time = prediction_end-prediction_start\n",
    "print(\"Time consumed for prediction: %6.5f seconds\" % (lgb_prediction_time))"
   ]
  },
  {
   "cell_type": "markdown",
   "metadata": {},
   "source": [
    " - __Calculate Accuracy and Recall Scores__\n",
    " - __Print the respective values__\n",
    " - __Create confusion matrix and print it using heatmap__"
   ]
  },
  {
   "cell_type": "code",
   "execution_count": 24,
   "metadata": {
    "ExecuteTime": {
     "end_time": "2020-05-26T11:30:12.126808Z",
     "start_time": "2020-05-26T11:30:11.921087Z"
    }
   },
   "outputs": [
    {
     "name": "stdout",
     "output_type": "stream",
     "text": [
      "The accuracy score for the model is: 0.969\n",
      "The recall score for the model is: 0.927\n",
      "              precision    recall  f1-score   support\n",
      "\n",
      "           0       0.98      0.98      0.98      1448\n",
      "           1       0.89      0.87      0.88       224\n",
      "\n",
      "    accuracy                           0.97      1672\n",
      "   macro avg       0.94      0.93      0.93      1672\n",
      "weighted avg       0.97      0.97      0.97      1672\n",
      "\n"
     ]
    },
    {
     "data": {
      "text/plain": [
       "Text(91.68, 0.5, 'Actual')"
      ]
     },
     "execution_count": 24,
     "metadata": {},
     "output_type": "execute_result"
    },
    {
     "data": {
      "image/png": "[encoded data removed]",
      "text/plain": [
       "<Figure size 432x288 with 1 Axes>"
      ]
     },
     "metadata": {
      "needs_background": "light"
     },
     "output_type": "display_data"
    }
   ],
   "source": [
    "acc = round(accuracy_score(y_test, y_pred),3)\n",
    "rec = round(recall_score(y_test, y_pred, average=\"macro\"), 3)\n",
    "cre = classification_report(y_test,y_pred)\n",
    "print(\"The accuracy score for the model is: {}\".format(acc))\n",
    "print(\"The recall score for the model is: {}\".format(rec))\n",
    "print(cre)\n",
    "met = confusion_matrix(y_test, y_pred)\n",
    "sns.heatmap(met, square=True, annot=True, fmt=\"d\", cbar=False, xticklabels=['ham', 'spam'], yticklabels=['ham', 'spam'])\n",
    "plt.xlabel(\"Predicted\")\n",
    "plt.ylabel(\"Actual\")"
   ]
  },
  {
   "cell_type": "code",
   "execution_count": null,
   "metadata": {
    "ExecuteTime": {
     "end_time": "2020-05-25T15:32:50.708890Z",
     "start_time": "2020-05-25T15:32:38.719553Z"
    },
    "scrolled": true
   },
   "outputs": [],
   "source": []
  },
  {
   "cell_type": "code",
   "execution_count": null,
   "metadata": {},
   "outputs": [],
   "source": []
  }
 ],
 "metadata": {
  "hide_input": false,
  "kernelspec": {
   "display_name": "Python 3",
   "language": "python",
   "name": "python3"
  },
  "language_info": {
   "codemirror_mode": {
    "name": "ipython",
    "version": 3
   },
   "file_extension": ".py",
   "mimetype": "text/x-python",
   "name": "python",
   "nbconvert_exporter": "python",
   "pygments_lexer": "ipython3",
   "version": "3.7.7"
  },
  "toc": {
   "base_numbering": 1,
   "nav_menu": {},
   "number_sections": true,
   "sideBar": true,
   "skip_h1_title": false,
   "title_cell": "Table of Contents",
   "title_sidebar": "Contents",
   "toc_cell": false,
   "toc_position": {},
   "toc_section_display": true,
   "toc_window_display": false
  },
  "varInspector": {
   "cols": {
    "lenName": 16,
    "lenType": 16,
    "lenVar": 40
   },
   "kernels_config": {
    "python": {
     "delete_cmd_postfix": "",
     "delete_cmd_prefix": "del ",
     "library": "var_list.py",
     "varRefreshCmd": "print(var_dic_list())"
    },
    "r": {
     "delete_cmd_postfix": ") ",
     "delete_cmd_prefix": "rm(",
     "library": "var_list.r",
     "varRefreshCmd": "cat(var_dic_list()) "
    }
   },
   "types_to_exclude": [
    "module",
    "function",
    "builtin_function_or_method",
    "instance",
    "_Feature"
   ],
   "window_display": false
  }
 },
 "nbformat": 4,
 "nbformat_minor": 4
}
