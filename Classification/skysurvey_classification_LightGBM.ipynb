{
 "cells": [
  {
   "cell_type": "code",
   "execution_count": 1,
   "metadata": {
    "ExecuteTime": {
     "end_time": "2020-05-21T09:30:52.018694Z",
     "start_time": "2020-05-21T09:30:48.900092Z"
    }
   },
   "outputs": [],
   "source": [
    "import numpy as np\n",
    "import pandas as pd\n",
    "import matplotlib.pyplot as plt\n",
    "import seaborn as sns\n",
    "%matplotlib inline"
   ]
  },
  {
   "cell_type": "code",
   "execution_count": 2,
   "metadata": {
    "ExecuteTime": {
     "end_time": "2020-05-21T09:30:54.328355Z",
     "start_time": "2020-05-21T09:30:54.143090Z"
    }
   },
   "outputs": [],
   "source": [
    "from sklearn.model_selection import train_test_split\n",
    "from sklearn.preprocessing import MinMaxScaler\n",
    "from sklearn.metrics import accuracy_score, roc_auc_score\n",
    "from sklearn.model_selection import learning_curve\n",
    "from sklearn.metrics import recall_score, confusion_matrix\n",
    "from sklearn.model_selection import cross_val_score\n",
    "from sklearn.model_selection import GridSearchCV, RandomizedSearchCV\n",
    "from sklearn.model_selection import StratifiedKFold\n",
    "import time\n",
    "import warnings\n",
    "warnings.filterwarnings(\"ignore\", category=DeprecationWarning)"
   ]
  },
  {
   "cell_type": "code",
   "execution_count": 3,
   "metadata": {
    "ExecuteTime": {
     "end_time": "2020-05-21T09:31:27.372115Z",
     "start_time": "2020-05-21T09:31:27.307969Z"
    }
   },
   "outputs": [],
   "source": [
    "import lightgbm as lgb"
   ]
  },
  {
   "cell_type": "markdown",
   "metadata": {},
   "source": [
    " - __Import data, drop extra information and check count of target in class attribute__"
   ]
  },
  {
   "cell_type": "code",
   "execution_count": 4,
   "metadata": {
    "ExecuteTime": {
     "end_time": "2020-05-21T09:31:31.847369Z",
     "start_time": "2020-05-21T09:31:30.537194Z"
    }
   },
   "outputs": [
    {
     "name": "stdout",
     "output_type": "stream",
     "text": [
      "<class 'pandas.core.frame.DataFrame'>\n",
      "RangeIndex: 10000 entries, 0 to 9999\n",
      "Data columns (total 12 columns):\n",
      " #   Column    Non-Null Count  Dtype  \n",
      "---  ------    --------------  -----  \n",
      " 0   ra        10000 non-null  float64\n",
      " 1   dec       10000 non-null  float64\n",
      " 2   u         10000 non-null  float64\n",
      " 3   g         10000 non-null  float64\n",
      " 4   r         10000 non-null  float64\n",
      " 5   i         10000 non-null  float64\n",
      " 6   z         10000 non-null  float64\n",
      " 7   class     10000 non-null  object \n",
      " 8   redshift  10000 non-null  float64\n",
      " 9   plate     10000 non-null  int64  \n",
      " 10  mjd       10000 non-null  int64  \n",
      " 11  fiberid   10000 non-null  int64  \n",
      "dtypes: float64(8), int64(3), object(1)\n",
      "memory usage: 937.6+ KB\n"
     ]
    },
    {
     "data": {
      "text/plain": [
       "GALAXY    4998\n",
       "STAR      4152\n",
       "QSO        850\n",
       "Name: class, dtype: int64"
      ]
     },
     "execution_count": 4,
     "metadata": {},
     "output_type": "execute_result"
    }
   ],
   "source": [
    "url = \"https://raw.githubusercontent.com/arimitramaiti/datasets/master/Classification/Skyserver_SQL2_27_2018%206_51_39%20PM.csv\"\n",
    "dataset = pd.read_csv(url, error_bad_lines=False, header=0)\n",
    "dataset.drop(['objid', 'run', 'rerun', 'camcol', 'field', 'specobjid'], axis=1, inplace=True)\n",
    "dataset.shape\n",
    "dataset.info()\n",
    "dataset[\"class\"].value_counts()"
   ]
  },
  {
   "cell_type": "markdown",
   "metadata": {},
   "source": [
    " - __Create X and y datasets having independent vars and target var respectively__\n",
    " - __Apply Min max scaler on independent vars__\n",
    " - __Create 70:30 split for training and testing datasets__"
   ]
  },
  {
   "cell_type": "code",
   "execution_count": 5,
   "metadata": {
    "ExecuteTime": {
     "end_time": "2020-05-21T09:31:35.718157Z",
     "start_time": "2020-05-21T09:31:35.674279Z"
    }
   },
   "outputs": [
    {
     "data": {
      "text/plain": [
       "((7000, 11), (3000, 11), (7000,), (3000,))"
      ]
     },
     "execution_count": 5,
     "metadata": {},
     "output_type": "execute_result"
    }
   ],
   "source": [
    "X = dataset.drop([\"class\"], axis=1)\n",
    "y = dataset[\"class\"]\n",
    "\n",
    "sc = MinMaxScaler()\n",
    "X_scaled = sc.fit_transform(X)\n",
    "\n",
    "X_train, X_test, y_train, y_test = train_test_split(X_scaled, y, test_size=0.30, stratify=y, random_state=123)\n",
    "X_train.shape, X_test.shape, y_train.shape, y_test.shape"
   ]
  },
  {
   "cell_type": "markdown",
   "metadata": {},
   "source": [
    "# Random Search"
   ]
  },
  {
   "cell_type": "markdown",
   "metadata": {},
   "source": [
    " - __Instantiate a lgb classifier with Gradient-based One-Side Sampling__\n",
    " - __This is because we have a target having more than 2 outcomes__"
   ]
  },
  {
   "cell_type": "code",
   "execution_count": 6,
   "metadata": {
    "ExecuteTime": {
     "end_time": "2020-05-21T09:32:01.421818Z",
     "start_time": "2020-05-21T09:32:01.417829Z"
    }
   },
   "outputs": [],
   "source": [
    "estimator = lgb.LGBMClassifier(boosting_type =\"goss\", random_state=1)"
   ]
  },
  {
   "cell_type": "markdown",
   "metadata": {},
   "source": [
    " - __Declare a decimal range of learning rates__\n",
    " - __Declare a range of tree counts__\n",
    " - __Declare a set of max depth values__\n",
    " - __Declare a set of minimum child weight__\n",
    " - __Declare a set of sample proportions to be used in attribute sampling__\n",
    " - __Create dictionary which is a must for Random Search function__"
   ]
  },
  {
   "cell_type": "code",
   "execution_count": 7,
   "metadata": {
    "ExecuteTime": {
     "end_time": "2020-05-21T09:33:23.488066Z",
     "start_time": "2020-05-21T09:33:23.481084Z"
    }
   },
   "outputs": [],
   "source": [
    "learning_rate = np.arange(0.01,1,0.05)\n",
    "n_estimators = np.arange(100, 500, 50)\n",
    "max_depth = [2, 5, 10, 20, 30, 40, 50]\n",
    "min_child_weight = [1,3,6]\n",
    "colsample_bytree = [0.1, 0.5, 0.8, 1]\n",
    "num_leaves = [300, 900, 1200]\n",
    "\n",
    "param_grid = {'learning_rate': learning_rate,\n",
    "              'n_estimators': n_estimators,\n",
    "              'max_depth': max_depth,\n",
    "              'min_child_weight': min_child_weight,\n",
    "              'colsample_bytree': colsample_bytree,\n",
    "              'num_leaves': num_leaves}"
   ]
  },
  {
   "cell_type": "markdown",
   "metadata": {},
   "source": [
    " - __Instantiate the RandomizedSearchCV object with accuracy as scoring metric__\n",
    " - __Push the parameter dictionary inside the object__"
   ]
  },
  {
   "cell_type": "code",
   "execution_count": 8,
   "metadata": {
    "ExecuteTime": {
     "end_time": "2020-05-21T09:34:24.959367Z",
     "start_time": "2020-05-21T09:34:24.954382Z"
    }
   },
   "outputs": [],
   "source": [
    "randomized_accuracy_fit = RandomizedSearchCV(estimator=estimator,\n",
    "                                            param_distributions=param_grid,\n",
    "                                            n_iter=50,\n",
    "                                            scoring=\"accuracy\",\n",
    "                                            n_jobs=-1,\n",
    "                                            refit=True,\n",
    "                                            random_state=123,\n",
    "                                            return_train_score=True,\n",
    "                                            verbose=1,\n",
    "                                            cv=StratifiedKFold(n_splits=10, shuffle=True, random_state=123)\n",
    "                                            )"
   ]
  },
  {
   "cell_type": "markdown",
   "metadata": {},
   "source": [
    " - __Fit the RandomizedSearchCV object on X_train & y_train__"
   ]
  },
  {
   "cell_type": "code",
   "execution_count": 9,
   "metadata": {
    "ExecuteTime": {
     "end_time": "2020-05-21T09:39:35.583621Z",
     "start_time": "2020-05-21T09:36:39.118266Z"
    }
   },
   "outputs": [
    {
     "name": "stdout",
     "output_type": "stream",
     "text": [
      "Fitting 10 folds for each of 50 candidates, totalling 500 fits\n"
     ]
    },
    {
     "name": "stderr",
     "output_type": "stream",
     "text": [
      "[Parallel(n_jobs=-1)]: Using backend LokyBackend with 4 concurrent workers.\n",
      "[Parallel(n_jobs=-1)]: Done  42 tasks      | elapsed:   12.3s\n",
      "C:\\Users\\Debjani\\anaconda3\\lib\\site-packages\\joblib\\externals\\loky\\process_executor.py:706: UserWarning: A worker stopped while some jobs were given to the executor. This can be caused by a too short worker timeout or by a memory leak.\n",
      "  \"timeout or by a memory leak.\", UserWarning\n",
      "[Parallel(n_jobs=-1)]: Done 192 tasks      | elapsed:  1.1min\n",
      "[Parallel(n_jobs=-1)]: Done 442 tasks      | elapsed:  2.6min\n",
      "[Parallel(n_jobs=-1)]: Done 500 out of 500 | elapsed:  2.9min finished\n"
     ]
    },
    {
     "name": "stdout",
     "output_type": "stream",
     "text": [
      "Time consumed for training: 176.459 seconds\n"
     ]
    }
   ],
   "source": [
    "training_start = time.perf_counter()\n",
    "randomized_accuracy_fit.fit(X_train, y_train)\n",
    "training_end = time.perf_counter()\n",
    "lgb_train_time = training_end-training_start\n",
    "print(\"Time consumed for training: %4.3f seconds\" % (lgb_train_time))"
   ]
  },
  {
   "cell_type": "markdown",
   "metadata": {},
   "source": [
    " - __Print the best score found by RandomizedSearchCV__\n",
    " - __Print the best model found by RandomizedSearchCV__"
   ]
  },
  {
   "cell_type": "code",
   "execution_count": 10,
   "metadata": {
    "ExecuteTime": {
     "end_time": "2020-05-21T09:40:00.108827Z",
     "start_time": "2020-05-21T09:40:00.102842Z"
    }
   },
   "outputs": [
    {
     "name": "stdout",
     "output_type": "stream",
     "text": [
      "0.9901428571428573\n",
      "LGBMClassifier(boosting_type='goss', class_weight=None, colsample_bytree=1,\n",
      "               importance_type='split', learning_rate=0.51, max_depth=40,\n",
      "               min_child_samples=20, min_child_weight=1, min_split_gain=0.0,\n",
      "               n_estimators=450, n_jobs=-1, num_leaves=900, objective=None,\n",
      "               random_state=1, reg_alpha=0.0, reg_lambda=0.0, silent=True,\n",
      "               subsample=1.0, subsample_for_bin=200000, subsample_freq=0)\n"
     ]
    }
   ],
   "source": [
    "print(randomized_accuracy_fit.best_score_)\n",
    "print(randomized_accuracy_fit.best_estimator_)"
   ]
  },
  {
   "cell_type": "markdown",
   "metadata": {},
   "source": [
    " - __Store the best model in an object__\n",
    " - __Create predictions from the best model__"
   ]
  },
  {
   "cell_type": "code",
   "execution_count": 11,
   "metadata": {
    "ExecuteTime": {
     "end_time": "2020-05-21T09:41:04.177104Z",
     "start_time": "2020-05-21T09:41:04.112279Z"
    }
   },
   "outputs": [
    {
     "name": "stdout",
     "output_type": "stream",
     "text": [
      "Time consumed for prediction: 0.05930 seconds\n"
     ]
    }
   ],
   "source": [
    "best_estimator = randomized_accuracy_fit.best_estimator_\n",
    "prediction_start = time.perf_counter()\n",
    "y_pred = best_estimator.predict(X_test)\n",
    "prediction_end = time.perf_counter()\n",
    "lgb_prediction_time = prediction_end-prediction_start\n",
    "print(\"Time consumed for prediction: %6.5f seconds\" % (lgb_prediction_time))"
   ]
  },
  {
   "cell_type": "markdown",
   "metadata": {},
   "source": [
    " - __Calculate Accuracy and Recall Scores__\n",
    " - __Print the respective values__\n",
    " - __Create confusion matrix and print it using heatmap__"
   ]
  },
  {
   "cell_type": "code",
   "execution_count": 12,
   "metadata": {
    "ExecuteTime": {
     "end_time": "2020-05-21T09:41:24.161815Z",
     "start_time": "2020-05-21T09:41:23.935122Z"
    }
   },
   "outputs": [
    {
     "name": "stdout",
     "output_type": "stream",
     "text": [
      "The accuracy score for the model is: 0.99\n",
      "The recall score for the model is: 0.975\n"
     ]
    },
    {
     "data": {
      "text/plain": [
       "Text(91.68, 0.5, 'Actual')"
      ]
     },
     "execution_count": 12,
     "metadata": {},
     "output_type": "execute_result"
    },
    {
     "data": {
      "image/png": "[encoded data removed]",
      "text/plain": [
       "<Figure size 432x288 with 1 Axes>"
      ]
     },
     "metadata": {
      "needs_background": "light"
     },
     "output_type": "display_data"
    }
   ],
   "source": [
    "acc = round(accuracy_score(y_test, y_pred),3)\n",
    "rec = round(recall_score(y_test, y_pred, average=\"macro\"), 3)\n",
    "print(\"The accuracy score for the model is: {}\".format(acc))\n",
    "print(\"The recall score for the model is: {}\".format(rec))\n",
    "met = confusion_matrix(y_test, y_pred)\n",
    "sns.heatmap(met, square=True, annot=True, fmt=\"d\", cbar=False, xticklabels=['GALAXY', 'QSO', 'STAR'], yticklabels=['GALAXY', 'QSO', 'STAR'])\n",
    "plt.xlabel(\"Predicted\")\n",
    "plt.ylabel(\"Actual\")"
   ]
  },
  {
   "cell_type": "markdown",
   "metadata": {},
   "source": [
    "# Bayesian Search"
   ]
  },
  {
   "cell_type": "code",
   "execution_count": 13,
   "metadata": {
    "ExecuteTime": {
     "end_time": "2020-05-21T09:41:40.358872Z",
     "start_time": "2020-05-21T09:41:40.327475Z"
    }
   },
   "outputs": [],
   "source": [
    "from bayes_opt import BayesianOptimization"
   ]
  },
  {
   "cell_type": "markdown",
   "metadata": {},
   "source": [
    " - __Create lower and upper bounds of hyper parameters to be searched for__"
   ]
  },
  {
   "cell_type": "code",
   "execution_count": 14,
   "metadata": {
    "ExecuteTime": {
     "end_time": "2020-05-21T09:42:45.155253Z",
     "start_time": "2020-05-21T09:42:45.150265Z"
    }
   },
   "outputs": [],
   "source": [
    "pbounds = {\n",
    "    'learning_rate': (0.01, 1.0),\n",
    "    'n_estimators': (100, 1000),\n",
    "    'max_depth': (3,20),\n",
    "    'childweight': (1, 6),\n",
    "    'colsample': (0.1, 1.0),\n",
    "    'num_leaves': (300, 1200),\n",
    "    'gamma': (0, 5)}"
   ]
  },
  {
   "cell_type": "markdown",
   "metadata": {},
   "source": [
    " - __Declare a function which would use the hyper-paramter bounds in a lgb classifier__\n",
    " - __Compute mean accuracy of cross folds__"
   ]
  },
  {
   "cell_type": "code",
   "execution_count": 20,
   "metadata": {
    "ExecuteTime": {
     "end_time": "2020-05-21T09:47:21.059665Z",
     "start_time": "2020-05-21T09:47:21.052685Z"
    }
   },
   "outputs": [],
   "source": [
    "def lgboost_hyper_param(learning_rate,\n",
    "                        n_estimators,\n",
    "                        max_depth,\n",
    "                        childweight,\n",
    "                        colsample,\n",
    "                        num_leaves,\n",
    "                        gamma):\n",
    "    max_depth = int(max_depth)\n",
    "    n_estimators = int(n_estimators)\n",
    "    num_leaves = int(num_leaves)\n",
    "    clf = lgb.LGBMClassifier(\n",
    "        boosting_type =\"goss\",\n",
    "        max_depth=max_depth,\n",
    "        learning_rate=learning_rate,\n",
    "        n_estimators=n_estimators,\n",
    "        colsample_bytree=colsample,\n",
    "        min_child_weight=childweight,\n",
    "        num_leaves=num_leaves,\n",
    "        gamma=gamma)\n",
    "    return np.mean(cross_val_score(clf, X_train, y_train, cv=StratifiedKFold(10), scoring='accuracy'))"
   ]
  },
  {
   "cell_type": "markdown",
   "metadata": {},
   "source": [
    " - __Instantiate the BayesianOptimization object__\n",
    " - __First arguement is the function that declares a lgb classifier with certain set of hyper parameters__\n",
    " - __Second arguement is the set of hyper parameter bounds__"
   ]
  },
  {
   "cell_type": "code",
   "execution_count": 23,
   "metadata": {
    "ExecuteTime": {
     "end_time": "2020-05-21T09:49:23.992989Z",
     "start_time": "2020-05-21T09:49:23.988004Z"
    }
   },
   "outputs": [],
   "source": [
    "optimizer = BayesianOptimization(\n",
    "    f=lgboost_hyper_param,\n",
    "    pbounds=pbounds,\n",
    "    random_state=1)"
   ]
  },
  {
   "cell_type": "markdown",
   "metadata": {},
   "source": [
    " - __Create 100 bayesian steps of optimization and 8 steps of random exploration__"
   ]
  },
  {
   "cell_type": "code",
   "execution_count": 24,
   "metadata": {
    "ExecuteTime": {
     "end_time": "2020-05-21T09:57:59.317422Z",
     "start_time": "2020-05-21T09:49:44.732818Z"
    }
   },
   "outputs": [
    {
     "name": "stdout",
     "output_type": "stream",
     "text": [
      "|   iter    |  target   | childw... | colsample |   gamma   | learni... | max_depth | n_esti... | num_le... |\n",
      "-------------------------------------------------------------------------------------------------------------\n",
      "| \u001b[0m 1       \u001b[0m | \u001b[0m 0.989   \u001b[0m | \u001b[0m 3.085   \u001b[0m | \u001b[0m 0.7483  \u001b[0m | \u001b[0m 0.000571\u001b[0m | \u001b[0m 0.3093  \u001b[0m | \u001b[0m 5.495   \u001b[0m | \u001b[0m 183.1   \u001b[0m | \u001b[0m 467.6   \u001b[0m |\n",
      "| \u001b[95m 2       \u001b[0m | \u001b[95m 0.9896  \u001b[0m | \u001b[95m 2.728   \u001b[0m | \u001b[95m 0.4571  \u001b[0m | \u001b[95m 2.694   \u001b[0m | \u001b[95m 0.425   \u001b[0m | \u001b[95m 14.65   \u001b[0m | \u001b[95m 284.0   \u001b[0m | \u001b[95m 1.09e+03\u001b[0m |\n",
      "| \u001b[0m 3       \u001b[0m | \u001b[0m 0.989   \u001b[0m | \u001b[0m 1.137   \u001b[0m | \u001b[0m 0.7034  \u001b[0m | \u001b[0m 2.087   \u001b[0m | \u001b[0m 0.5631  \u001b[0m | \u001b[0m 5.387   \u001b[0m | \u001b[0m 278.3   \u001b[0m | \u001b[0m 1.021e+0\u001b[0m |\n",
      "| \u001b[0m 4       \u001b[0m | \u001b[0m 0.9893  \u001b[0m | \u001b[0m 5.841   \u001b[0m | \u001b[0m 0.3821  \u001b[0m | \u001b[0m 3.462   \u001b[0m | \u001b[0m 0.8776  \u001b[0m | \u001b[0m 18.21   \u001b[0m | \u001b[0m 176.5   \u001b[0m | \u001b[0m 335.1   \u001b[0m |\n",
      "| \u001b[0m 5       \u001b[0m | \u001b[0m 0.9896  \u001b[0m | \u001b[0m 1.849   \u001b[0m | \u001b[0m 0.8903  \u001b[0m | \u001b[0m 0.4917  \u001b[0m | \u001b[0m 0.4269  \u001b[0m | \u001b[0m 19.28   \u001b[0m | \u001b[0m 579.8   \u001b[0m | \u001b[0m 922.7   \u001b[0m |\n",
      "| \u001b[95m 6       \u001b[0m | \u001b[95m 0.9897  \u001b[0m | \u001b[95m 2.578   \u001b[0m | \u001b[95m 0.7179  \u001b[0m | \u001b[95m 4.173   \u001b[0m | \u001b[95m 0.02811 \u001b[0m | \u001b[95m 15.75   \u001b[0m | \u001b[95m 990.0   \u001b[0m | \u001b[95m 973.3   \u001b[0m |\n",
      "| \u001b[95m 7       \u001b[0m | \u001b[95m 0.99    \u001b[0m | \u001b[95m 2.402   \u001b[0m | \u001b[95m 0.8104  \u001b[0m | \u001b[95m 0.5161  \u001b[0m | \u001b[95m 0.4534  \u001b[0m | \u001b[95m 18.45   \u001b[0m | \u001b[95m 364.3   \u001b[0m | \u001b[95m 559.0   \u001b[0m |\n",
      "| \u001b[0m 8       \u001b[0m | \u001b[0m 0.9893  \u001b[0m | \u001b[0m 1.65    \u001b[0m | \u001b[0m 0.1174  \u001b[0m | \u001b[0m 3.394   \u001b[0m | \u001b[0m 0.2195  \u001b[0m | \u001b[0m 7.514   \u001b[0m | \u001b[0m 542.4   \u001b[0m | \u001b[0m 348.0   \u001b[0m |\n",
      "| \u001b[0m 9       \u001b[0m | \u001b[0m 0.9891  \u001b[0m | \u001b[0m 3.797   \u001b[0m | \u001b[0m 0.7238  \u001b[0m | \u001b[0m 0.1021  \u001b[0m | \u001b[0m 0.2748  \u001b[0m | \u001b[0m 6.49    \u001b[0m | \u001b[0m 997.4   \u001b[0m | \u001b[0m 317.3   \u001b[0m |\n",
      "| \u001b[0m 10      \u001b[0m | \u001b[0m 0.9891  \u001b[0m | \u001b[0m 2.941   \u001b[0m | \u001b[0m 0.507   \u001b[0m | \u001b[0m 1.826   \u001b[0m | \u001b[0m 0.2234  \u001b[0m | \u001b[0m 19.99   \u001b[0m | \u001b[0m 998.6   \u001b[0m | \u001b[0m 1.192e+0\u001b[0m |\n",
      "| \u001b[0m 11      \u001b[0m | \u001b[0m 0.9884  \u001b[0m | \u001b[0m 5.916   \u001b[0m | \u001b[0m 0.5371  \u001b[0m | \u001b[0m 3.582   \u001b[0m | \u001b[0m 0.848   \u001b[0m | \u001b[0m 4.522   \u001b[0m | \u001b[0m 101.8   \u001b[0m | \u001b[0m 1.189e+0\u001b[0m |\n",
      "| \u001b[0m 12      \u001b[0m | \u001b[0m 0.9886  \u001b[0m | \u001b[0m 5.763   \u001b[0m | \u001b[0m 0.7105  \u001b[0m | \u001b[0m 0.8902  \u001b[0m | \u001b[0m 0.8013  \u001b[0m | \u001b[0m 16.17   \u001b[0m | \u001b[0m 999.0   \u001b[0m | \u001b[0m 312.9   \u001b[0m |\n",
      "| \u001b[0m 13      \u001b[0m | \u001b[0m 0.989   \u001b[0m | \u001b[0m 1.92    \u001b[0m | \u001b[0m 0.3315  \u001b[0m | \u001b[0m 4.453   \u001b[0m | \u001b[0m 0.3297  \u001b[0m | \u001b[0m 12.03   \u001b[0m | \u001b[0m 995.8   \u001b[0m | \u001b[0m 1.191e+0\u001b[0m |\n",
      "| \u001b[0m 14      \u001b[0m | \u001b[0m 0.9891  \u001b[0m | \u001b[0m 4.21    \u001b[0m | \u001b[0m 0.8366  \u001b[0m | \u001b[0m 2.684   \u001b[0m | \u001b[0m 0.6655  \u001b[0m | \u001b[0m 18.37   \u001b[0m | \u001b[0m 100.1   \u001b[0m | \u001b[0m 301.1   \u001b[0m |\n",
      "| \u001b[0m 15      \u001b[0m | \u001b[0m 0.9879  \u001b[0m | \u001b[0m 4.947   \u001b[0m | \u001b[0m 0.2689  \u001b[0m | \u001b[0m 1.704   \u001b[0m | \u001b[0m 0.4867  \u001b[0m | \u001b[0m 18.41   \u001b[0m | \u001b[0m 101.8   \u001b[0m | \u001b[0m 1.2e+03 \u001b[0m |\n",
      "| \u001b[0m 16      \u001b[0m | \u001b[0m 0.9894  \u001b[0m | \u001b[0m 5.847   \u001b[0m | \u001b[0m 0.7752  \u001b[0m | \u001b[0m 2.376   \u001b[0m | \u001b[0m 0.2685  \u001b[0m | \u001b[0m 11.6    \u001b[0m | \u001b[0m 999.1   \u001b[0m | \u001b[0m 302.6   \u001b[0m |\n",
      "| \u001b[0m 17      \u001b[0m | \u001b[0m 0.9889  \u001b[0m | \u001b[0m 1.16    \u001b[0m | \u001b[0m 0.6306  \u001b[0m | \u001b[0m 4.232   \u001b[0m | \u001b[0m 0.7836  \u001b[0m | \u001b[0m 4.115   \u001b[0m | \u001b[0m 988.1   \u001b[0m | \u001b[0m 308.3   \u001b[0m |\n",
      "| \u001b[0m 18      \u001b[0m | \u001b[0m 0.9893  \u001b[0m | \u001b[0m 1.504   \u001b[0m | \u001b[0m 0.9405  \u001b[0m | \u001b[0m 3.539   \u001b[0m | \u001b[0m 0.7505  \u001b[0m | \u001b[0m 11.39   \u001b[0m | \u001b[0m 988.5   \u001b[0m | \u001b[0m 301.0   \u001b[0m |\n",
      "| \u001b[0m 19      \u001b[0m | \u001b[0m 0.9884  \u001b[0m | \u001b[0m 5.698   \u001b[0m | \u001b[0m 0.292   \u001b[0m | \u001b[0m 1.142   \u001b[0m | \u001b[0m 0.4743  \u001b[0m | \u001b[0m 19.8    \u001b[0m | \u001b[0m 112.1   \u001b[0m | \u001b[0m 301.8   \u001b[0m |\n",
      "| \u001b[0m 20      \u001b[0m | \u001b[0m 0.9894  \u001b[0m | \u001b[0m 3.776   \u001b[0m | \u001b[0m 0.5432  \u001b[0m | \u001b[0m 2.296   \u001b[0m | \u001b[0m 0.2219  \u001b[0m | \u001b[0m 14.69   \u001b[0m | \u001b[0m 999.6   \u001b[0m | \u001b[0m 1.192e+0\u001b[0m |\n",
      "| \u001b[0m 21      \u001b[0m | \u001b[0m 0.9889  \u001b[0m | \u001b[0m 5.676   \u001b[0m | \u001b[0m 0.4182  \u001b[0m | \u001b[0m 3.848   \u001b[0m | \u001b[0m 0.9278  \u001b[0m | \u001b[0m 19.51   \u001b[0m | \u001b[0m 997.4   \u001b[0m | \u001b[0m 1.18e+03\u001b[0m |\n",
      "| \u001b[0m 22      \u001b[0m | \u001b[0m 0.9891  \u001b[0m | \u001b[0m 4.628   \u001b[0m | \u001b[0m 0.9065  \u001b[0m | \u001b[0m 2.624   \u001b[0m | \u001b[0m 0.4481  \u001b[0m | \u001b[0m 17.78   \u001b[0m | \u001b[0m 999.6   \u001b[0m | \u001b[0m 319.8   \u001b[0m |\n",
      "| \u001b[0m 23      \u001b[0m | \u001b[0m 0.9893  \u001b[0m | \u001b[0m 5.985   \u001b[0m | \u001b[0m 0.8685  \u001b[0m | \u001b[0m 4.355   \u001b[0m | \u001b[0m 0.6799  \u001b[0m | \u001b[0m 19.25   \u001b[0m | \u001b[0m 991.4   \u001b[0m | \u001b[0m 306.6   \u001b[0m |\n",
      "| \u001b[0m 24      \u001b[0m | \u001b[0m 0.9886  \u001b[0m | \u001b[0m 5.214   \u001b[0m | \u001b[0m 0.8103  \u001b[0m | \u001b[0m 1.505   \u001b[0m | \u001b[0m 0.7658  \u001b[0m | \u001b[0m 3.991   \u001b[0m | \u001b[0m 989.1   \u001b[0m | \u001b[0m 1.186e+0\u001b[0m |\n",
      "| \u001b[0m 25      \u001b[0m | \u001b[0m 0.988   \u001b[0m | \u001b[0m 4.61    \u001b[0m | \u001b[0m 0.2554  \u001b[0m | \u001b[0m 4.765   \u001b[0m | \u001b[0m 0.8232  \u001b[0m | \u001b[0m 6.504   \u001b[0m | \u001b[0m 999.1   \u001b[0m | \u001b[0m 301.3   \u001b[0m |\n",
      "| \u001b[95m 26      \u001b[0m | \u001b[95m 0.9901  \u001b[0m | \u001b[95m 4.596   \u001b[0m | \u001b[95m 0.3617  \u001b[0m | \u001b[95m 2.585   \u001b[0m | \u001b[95m 0.1612  \u001b[0m | \u001b[95m 16.02   \u001b[0m | \u001b[95m 279.4   \u001b[0m | \u001b[95m 1.089e+0\u001b[0m |\n",
      "| \u001b[0m 27      \u001b[0m | \u001b[0m 0.9899  \u001b[0m | \u001b[0m 1.595   \u001b[0m | \u001b[0m 0.3502  \u001b[0m | \u001b[0m 1.87    \u001b[0m | \u001b[0m 0.5283  \u001b[0m | \u001b[0m 19.38   \u001b[0m | \u001b[0m 101.9   \u001b[0m | \u001b[0m 1.174e+0\u001b[0m |\n",
      "| \u001b[0m 28      \u001b[0m | \u001b[0m 0.9893  \u001b[0m | \u001b[0m 5.17    \u001b[0m | \u001b[0m 0.7879  \u001b[0m | \u001b[0m 4.683   \u001b[0m | \u001b[0m 0.7828  \u001b[0m | \u001b[0m 17.44   \u001b[0m | \u001b[0m 101.2   \u001b[0m | \u001b[0m 304.1   \u001b[0m |\n",
      "| \u001b[0m 29      \u001b[0m | \u001b[0m 0.9869  \u001b[0m | \u001b[0m 2.18    \u001b[0m | \u001b[0m 0.2699  \u001b[0m | \u001b[0m 3.146   \u001b[0m | \u001b[0m 0.9     \u001b[0m | \u001b[0m 5.061   \u001b[0m | \u001b[0m 100.6   \u001b[0m | \u001b[0m 1.197e+0\u001b[0m |\n",
      "| \u001b[0m 30      \u001b[0m | \u001b[0m 0.989   \u001b[0m | \u001b[0m 2.316   \u001b[0m | \u001b[0m 0.1249  \u001b[0m | \u001b[0m 2.822   \u001b[0m | \u001b[0m 0.1059  \u001b[0m | \u001b[0m 19.54   \u001b[0m | \u001b[0m 999.6   \u001b[0m | \u001b[0m 1.196e+0\u001b[0m |\n",
      "| \u001b[0m 31      \u001b[0m | \u001b[0m 0.9899  \u001b[0m | \u001b[0m 2.886   \u001b[0m | \u001b[0m 0.8614  \u001b[0m | \u001b[0m 2.661   \u001b[0m | \u001b[0m 0.2911  \u001b[0m | \u001b[0m 18.57   \u001b[0m | \u001b[0m 106.8   \u001b[0m | \u001b[0m 301.9   \u001b[0m |\n",
      "| \u001b[0m 32      \u001b[0m | \u001b[0m 0.9889  \u001b[0m | \u001b[0m 3.911   \u001b[0m | \u001b[0m 0.8362  \u001b[0m | \u001b[0m 0.4963  \u001b[0m | \u001b[0m 0.03699 \u001b[0m | \u001b[0m 19.6    \u001b[0m | \u001b[0m 108.4   \u001b[0m | \u001b[0m 301.1   \u001b[0m |\n",
      "| \u001b[0m 33      \u001b[0m | \u001b[0m 0.989   \u001b[0m | \u001b[0m 3.101   \u001b[0m | \u001b[0m 0.8166  \u001b[0m | \u001b[0m 3.32    \u001b[0m | \u001b[0m 0.708   \u001b[0m | \u001b[0m 19.62   \u001b[0m | \u001b[0m 967.7   \u001b[0m | \u001b[0m 307.1   \u001b[0m |\n",
      "| \u001b[0m 34      \u001b[0m | \u001b[0m 0.9897  \u001b[0m | \u001b[0m 5.487   \u001b[0m | \u001b[0m 0.8084  \u001b[0m | \u001b[0m 2.957   \u001b[0m | \u001b[0m 0.4442  \u001b[0m | \u001b[0m 19.82   \u001b[0m | \u001b[0m 110.0   \u001b[0m | \u001b[0m 329.7   \u001b[0m |\n",
      "| \u001b[0m 35      \u001b[0m | \u001b[0m 0.9889  \u001b[0m | \u001b[0m 5.64    \u001b[0m | \u001b[0m 0.9926  \u001b[0m | \u001b[0m 1.394   \u001b[0m | \u001b[0m 0.2238  \u001b[0m | \u001b[0m 19.26   \u001b[0m | \u001b[0m 125.3   \u001b[0m | \u001b[0m 302.5   \u001b[0m |\n",
      "| \u001b[0m 36      \u001b[0m | \u001b[0m 0.9896  \u001b[0m | \u001b[0m 2.108   \u001b[0m | \u001b[0m 0.6754  \u001b[0m | \u001b[0m 3.419   \u001b[0m | \u001b[0m 0.3393  \u001b[0m | \u001b[0m 19.99   \u001b[0m | \u001b[0m 106.2   \u001b[0m | \u001b[0m 308.7   \u001b[0m |\n",
      "| \u001b[0m 37      \u001b[0m | \u001b[0m 0.9889  \u001b[0m | \u001b[0m 4.347   \u001b[0m | \u001b[0m 0.9926  \u001b[0m | \u001b[0m 4.504   \u001b[0m | \u001b[0m 0.4217  \u001b[0m | \u001b[0m 19.61   \u001b[0m | \u001b[0m 999.2   \u001b[0m | \u001b[0m 329.4   \u001b[0m |\n",
      "| \u001b[0m 38      \u001b[0m | \u001b[0m 0.9896  \u001b[0m | \u001b[0m 2.526   \u001b[0m | \u001b[0m 0.9838  \u001b[0m | \u001b[0m 3.808   \u001b[0m | \u001b[0m 0.8189  \u001b[0m | \u001b[0m 3.062   \u001b[0m | \u001b[0m 111.9   \u001b[0m | \u001b[0m 308.7   \u001b[0m |\n",
      "| \u001b[0m 39      \u001b[0m | \u001b[0m 0.9897  \u001b[0m | \u001b[0m 5.583   \u001b[0m | \u001b[0m 0.4833  \u001b[0m | \u001b[0m 1.092   \u001b[0m | \u001b[0m 0.1794  \u001b[0m | \u001b[0m 19.54   \u001b[0m | \u001b[0m 124.6   \u001b[0m | \u001b[0m 1.199e+0\u001b[0m |\n",
      "| \u001b[0m 40      \u001b[0m | \u001b[0m 0.9896  \u001b[0m | \u001b[0m 1.849   \u001b[0m | \u001b[0m 0.5971  \u001b[0m | \u001b[0m 0.5799  \u001b[0m | \u001b[0m 0.2842  \u001b[0m | \u001b[0m 19.59   \u001b[0m | \u001b[0m 122.4   \u001b[0m | \u001b[0m 1.195e+0\u001b[0m |\n",
      "| \u001b[0m 41      \u001b[0m | \u001b[0m 0.9901  \u001b[0m | \u001b[0m 1.207   \u001b[0m | \u001b[0m 0.7435  \u001b[0m | \u001b[0m 3.247   \u001b[0m | \u001b[0m 0.3302  \u001b[0m | \u001b[0m 19.49   \u001b[0m | \u001b[0m 103.1   \u001b[0m | \u001b[0m 1.183e+0\u001b[0m |\n",
      "| \u001b[0m 42      \u001b[0m | \u001b[0m 0.9887  \u001b[0m | \u001b[0m 1.782   \u001b[0m | \u001b[0m 0.5787  \u001b[0m | \u001b[0m 2.657   \u001b[0m | \u001b[0m 0.1065  \u001b[0m | \u001b[0m 19.62   \u001b[0m | \u001b[0m 120.5   \u001b[0m | \u001b[0m 305.9   \u001b[0m |\n",
      "| \u001b[0m 43      \u001b[0m | \u001b[0m 0.9889  \u001b[0m | \u001b[0m 4.455   \u001b[0m | \u001b[0m 0.9973  \u001b[0m | \u001b[0m 3.285   \u001b[0m | \u001b[0m 0.644   \u001b[0m | \u001b[0m 19.66   \u001b[0m | \u001b[0m 994.5   \u001b[0m | \u001b[0m 1.174e+0\u001b[0m |\n",
      "| \u001b[0m 44      \u001b[0m | \u001b[0m 0.9893  \u001b[0m | \u001b[0m 2.626   \u001b[0m | \u001b[0m 0.5196  \u001b[0m | \u001b[0m 0.1411  \u001b[0m | \u001b[0m 0.4878  \u001b[0m | \u001b[0m 17.95   \u001b[0m | \u001b[0m 101.6   \u001b[0m | \u001b[0m 1.199e+0\u001b[0m |\n"
     ]
    },
    {
     "name": "stdout",
     "output_type": "stream",
     "text": [
      "| \u001b[0m 45      \u001b[0m | \u001b[0m 0.9899  \u001b[0m | \u001b[0m 1.954   \u001b[0m | \u001b[0m 0.8855  \u001b[0m | \u001b[0m 0.4395  \u001b[0m | \u001b[0m 0.5318  \u001b[0m | \u001b[0m 19.26   \u001b[0m | \u001b[0m 113.3   \u001b[0m | \u001b[0m 1.169e+0\u001b[0m |\n",
      "| \u001b[0m 46      \u001b[0m | \u001b[0m 0.9893  \u001b[0m | \u001b[0m 1.894   \u001b[0m | \u001b[0m 0.1095  \u001b[0m | \u001b[0m 0.8502  \u001b[0m | \u001b[0m 0.3833  \u001b[0m | \u001b[0m 19.0    \u001b[0m | \u001b[0m 117.9   \u001b[0m | \u001b[0m 1.195e+0\u001b[0m |\n",
      "| \u001b[0m 47      \u001b[0m | \u001b[0m 0.9899  \u001b[0m | \u001b[0m 2.457   \u001b[0m | \u001b[0m 0.4093  \u001b[0m | \u001b[0m 0.3415  \u001b[0m | \u001b[0m 0.3103  \u001b[0m | \u001b[0m 4.219   \u001b[0m | \u001b[0m 108.5   \u001b[0m | \u001b[0m 1.195e+0\u001b[0m |\n",
      "| \u001b[0m 48      \u001b[0m | \u001b[0m 0.9889  \u001b[0m | \u001b[0m 4.868   \u001b[0m | \u001b[0m 0.5411  \u001b[0m | \u001b[0m 1.249   \u001b[0m | \u001b[0m 0.9845  \u001b[0m | \u001b[0m 4.237   \u001b[0m | \u001b[0m 101.8   \u001b[0m | \u001b[0m 1.195e+0\u001b[0m |\n",
      "| \u001b[0m 49      \u001b[0m | \u001b[0m 0.9894  \u001b[0m | \u001b[0m 4.113   \u001b[0m | \u001b[0m 0.597   \u001b[0m | \u001b[0m 1.507   \u001b[0m | \u001b[0m 0.932   \u001b[0m | \u001b[0m 19.71   \u001b[0m | \u001b[0m 109.3   \u001b[0m | \u001b[0m 330.0   \u001b[0m |\n",
      "| \u001b[0m 50      \u001b[0m | \u001b[0m 0.9891  \u001b[0m | \u001b[0m 1.098   \u001b[0m | \u001b[0m 0.5716  \u001b[0m | \u001b[0m 3.882   \u001b[0m | \u001b[0m 0.3922  \u001b[0m | \u001b[0m 18.05   \u001b[0m | \u001b[0m 987.0   \u001b[0m | \u001b[0m 1.188e+0\u001b[0m |\n",
      "| \u001b[0m 51      \u001b[0m | \u001b[0m 0.9901  \u001b[0m | \u001b[0m 4.573   \u001b[0m | \u001b[0m 0.6298  \u001b[0m | \u001b[0m 0.2105  \u001b[0m | \u001b[0m 0.8949  \u001b[0m | \u001b[0m 3.07    \u001b[0m | \u001b[0m 111.1   \u001b[0m | \u001b[0m 316.3   \u001b[0m |\n",
      "| \u001b[0m 52      \u001b[0m | \u001b[0m 0.989   \u001b[0m | \u001b[0m 3.036   \u001b[0m | \u001b[0m 0.8516  \u001b[0m | \u001b[0m 0.1811  \u001b[0m | \u001b[0m 0.7337  \u001b[0m | \u001b[0m 3.336   \u001b[0m | \u001b[0m 122.3   \u001b[0m | \u001b[0m 316.8   \u001b[0m |\n",
      "| \u001b[0m 53      \u001b[0m | \u001b[0m 0.9887  \u001b[0m | \u001b[0m 5.344   \u001b[0m | \u001b[0m 0.3179  \u001b[0m | \u001b[0m 1.512   \u001b[0m | \u001b[0m 0.1335  \u001b[0m | \u001b[0m 19.87   \u001b[0m | \u001b[0m 102.9   \u001b[0m | \u001b[0m 313.5   \u001b[0m |\n",
      "| \u001b[0m 54      \u001b[0m | \u001b[0m 0.9891  \u001b[0m | \u001b[0m 4.395   \u001b[0m | \u001b[0m 0.6275  \u001b[0m | \u001b[0m 1.713   \u001b[0m | \u001b[0m 0.5873  \u001b[0m | \u001b[0m 3.982   \u001b[0m | \u001b[0m 101.9   \u001b[0m | \u001b[0m 1.191e+0\u001b[0m |\n",
      "| \u001b[0m 55      \u001b[0m | \u001b[0m 0.9891  \u001b[0m | \u001b[0m 5.474   \u001b[0m | \u001b[0m 0.6974  \u001b[0m | \u001b[0m 4.71    \u001b[0m | \u001b[0m 0.07023 \u001b[0m | \u001b[0m 19.51   \u001b[0m | \u001b[0m 111.3   \u001b[0m | \u001b[0m 1.182e+0\u001b[0m |\n",
      "| \u001b[0m 56      \u001b[0m | \u001b[0m 0.9894  \u001b[0m | \u001b[0m 3.409   \u001b[0m | \u001b[0m 0.9608  \u001b[0m | \u001b[0m 3.392   \u001b[0m | \u001b[0m 0.132   \u001b[0m | \u001b[0m 19.41   \u001b[0m | \u001b[0m 100.7   \u001b[0m | \u001b[0m 1.189e+0\u001b[0m |\n",
      "| \u001b[0m 57      \u001b[0m | \u001b[0m 0.9884  \u001b[0m | \u001b[0m 5.142   \u001b[0m | \u001b[0m 0.2584  \u001b[0m | \u001b[0m 0.8938  \u001b[0m | \u001b[0m 0.4951  \u001b[0m | \u001b[0m 18.73   \u001b[0m | \u001b[0m 992.8   \u001b[0m | \u001b[0m 1.194e+0\u001b[0m |\n",
      "| \u001b[0m 58      \u001b[0m | \u001b[0m 0.9897  \u001b[0m | \u001b[0m 1.441   \u001b[0m | \u001b[0m 0.4883  \u001b[0m | \u001b[0m 4.361   \u001b[0m | \u001b[0m 0.1502  \u001b[0m | \u001b[0m 3.325   \u001b[0m | \u001b[0m 125.4   \u001b[0m | \u001b[0m 308.9   \u001b[0m |\n",
      "| \u001b[0m 59      \u001b[0m | \u001b[0m 0.9899  \u001b[0m | \u001b[0m 2.488   \u001b[0m | \u001b[0m 0.5544  \u001b[0m | \u001b[0m 3.353   \u001b[0m | \u001b[0m 0.8587  \u001b[0m | \u001b[0m 3.077   \u001b[0m | \u001b[0m 108.3   \u001b[0m | \u001b[0m 341.4   \u001b[0m |\n",
      "| \u001b[0m 60      \u001b[0m | \u001b[0m 0.9896  \u001b[0m | \u001b[0m 4.129   \u001b[0m | \u001b[0m 0.5658  \u001b[0m | \u001b[0m 0.01377 \u001b[0m | \u001b[0m 0.5359  \u001b[0m | \u001b[0m 3.155   \u001b[0m | \u001b[0m 104.2   \u001b[0m | \u001b[0m 304.0   \u001b[0m |\n",
      "| \u001b[0m 61      \u001b[0m | \u001b[0m 0.9894  \u001b[0m | \u001b[0m 1.222   \u001b[0m | \u001b[0m 0.7057  \u001b[0m | \u001b[0m 2.054   \u001b[0m | \u001b[0m 0.4665  \u001b[0m | \u001b[0m 18.9    \u001b[0m | \u001b[0m 115.6   \u001b[0m | \u001b[0m 315.1   \u001b[0m |\n",
      "| \u001b[0m 62      \u001b[0m | \u001b[0m 0.989   \u001b[0m | \u001b[0m 5.367   \u001b[0m | \u001b[0m 0.8922  \u001b[0m | \u001b[0m 3.387   \u001b[0m | \u001b[0m 0.5596  \u001b[0m | \u001b[0m 3.389   \u001b[0m | \u001b[0m 111.3   \u001b[0m | \u001b[0m 1.191e+0\u001b[0m |\n",
      "| \u001b[0m 63      \u001b[0m | \u001b[0m 0.9901  \u001b[0m | \u001b[0m 2.136   \u001b[0m | \u001b[0m 0.784   \u001b[0m | \u001b[0m 1.684   \u001b[0m | \u001b[0m 0.5775  \u001b[0m | \u001b[0m 3.106   \u001b[0m | \u001b[0m 112.5   \u001b[0m | \u001b[0m 306.6   \u001b[0m |\n",
      "| \u001b[0m 64      \u001b[0m | \u001b[0m 0.9899  \u001b[0m | \u001b[0m 1.987   \u001b[0m | \u001b[0m 0.9921  \u001b[0m | \u001b[0m 1.739   \u001b[0m | \u001b[0m 0.1573  \u001b[0m | \u001b[0m 19.77   \u001b[0m | \u001b[0m 134.2   \u001b[0m | \u001b[0m 302.8   \u001b[0m |\n",
      "| \u001b[0m 65      \u001b[0m | \u001b[0m 0.9897  \u001b[0m | \u001b[0m 3.016   \u001b[0m | \u001b[0m 0.5046  \u001b[0m | \u001b[0m 1.025   \u001b[0m | \u001b[0m 0.328   \u001b[0m | \u001b[0m 3.77    \u001b[0m | \u001b[0m 101.9   \u001b[0m | \u001b[0m 320.8   \u001b[0m |\n",
      "| \u001b[0m 66      \u001b[0m | \u001b[0m 0.9894  \u001b[0m | \u001b[0m 1.295   \u001b[0m | \u001b[0m 0.9699  \u001b[0m | \u001b[0m 3.082   \u001b[0m | \u001b[0m 0.4325  \u001b[0m | \u001b[0m 3.022   \u001b[0m | \u001b[0m 128.0   \u001b[0m | \u001b[0m 302.3   \u001b[0m |\n",
      "| \u001b[0m 67      \u001b[0m | \u001b[0m 0.9896  \u001b[0m | \u001b[0m 2.93    \u001b[0m | \u001b[0m 0.1933  \u001b[0m | \u001b[0m 3.268   \u001b[0m | \u001b[0m 0.9548  \u001b[0m | \u001b[0m 19.75   \u001b[0m | \u001b[0m 106.1   \u001b[0m | \u001b[0m 349.6   \u001b[0m |\n",
      "| \u001b[0m 68      \u001b[0m | \u001b[0m 0.9894  \u001b[0m | \u001b[0m 4.645   \u001b[0m | \u001b[0m 0.3795  \u001b[0m | \u001b[0m 0.5371  \u001b[0m | \u001b[0m 0.9628  \u001b[0m | \u001b[0m 18.79   \u001b[0m | \u001b[0m 118.9   \u001b[0m | \u001b[0m 314.0   \u001b[0m |\n",
      "| \u001b[0m 69      \u001b[0m | \u001b[0m 0.9894  \u001b[0m | \u001b[0m 2.163   \u001b[0m | \u001b[0m 0.3274  \u001b[0m | \u001b[0m 0.2763  \u001b[0m | \u001b[0m 0.7533  \u001b[0m | \u001b[0m 5.7     \u001b[0m | \u001b[0m 102.6   \u001b[0m | \u001b[0m 308.9   \u001b[0m |\n",
      "| \u001b[0m 70      \u001b[0m | \u001b[0m 0.9887  \u001b[0m | \u001b[0m 1.052   \u001b[0m | \u001b[0m 0.2234  \u001b[0m | \u001b[0m 2.408   \u001b[0m | \u001b[0m 0.6211  \u001b[0m | \u001b[0m 3.42    \u001b[0m | \u001b[0m 994.0   \u001b[0m | \u001b[0m 302.7   \u001b[0m |\n",
      "| \u001b[0m 71      \u001b[0m | \u001b[0m 0.9886  \u001b[0m | \u001b[0m 3.033   \u001b[0m | \u001b[0m 0.6045  \u001b[0m | \u001b[0m 4.178   \u001b[0m | \u001b[0m 0.8527  \u001b[0m | \u001b[0m 19.87   \u001b[0m | \u001b[0m 112.5   \u001b[0m | \u001b[0m 321.8   \u001b[0m |\n",
      "| \u001b[0m 72      \u001b[0m | \u001b[0m 0.989   \u001b[0m | \u001b[0m 5.276   \u001b[0m | \u001b[0m 0.9277  \u001b[0m | \u001b[0m 2.812   \u001b[0m | \u001b[0m 0.4076  \u001b[0m | \u001b[0m 4.791   \u001b[0m | \u001b[0m 103.3   \u001b[0m | \u001b[0m 1.195e+0\u001b[0m |\n",
      "| \u001b[0m 73      \u001b[0m | \u001b[0m 0.9891  \u001b[0m | \u001b[0m 4.388   \u001b[0m | \u001b[0m 0.3864  \u001b[0m | \u001b[0m 3.95    \u001b[0m | \u001b[0m 0.12    \u001b[0m | \u001b[0m 3.408   \u001b[0m | \u001b[0m 101.4   \u001b[0m | \u001b[0m 1.188e+0\u001b[0m |\n",
      "| \u001b[95m 74      \u001b[0m | \u001b[95m 0.9903  \u001b[0m | \u001b[95m 3.923   \u001b[0m | \u001b[95m 0.6337  \u001b[0m | \u001b[95m 3.987   \u001b[0m | \u001b[95m 0.6023  \u001b[0m | \u001b[95m 3.21    \u001b[0m | \u001b[95m 104.7   \u001b[0m | \u001b[95m 307.6   \u001b[0m |\n",
      "| \u001b[0m 75      \u001b[0m | \u001b[0m 0.9899  \u001b[0m | \u001b[0m 2.411   \u001b[0m | \u001b[0m 0.7623  \u001b[0m | \u001b[0m 3.208   \u001b[0m | \u001b[0m 0.5212  \u001b[0m | \u001b[0m 3.779   \u001b[0m | \u001b[0m 120.7   \u001b[0m | \u001b[0m 303.7   \u001b[0m |\n",
      "| \u001b[0m 76      \u001b[0m | \u001b[0m 0.989   \u001b[0m | \u001b[0m 3.588   \u001b[0m | \u001b[0m 0.6605  \u001b[0m | \u001b[0m 0.787   \u001b[0m | \u001b[0m 0.3114  \u001b[0m | \u001b[0m 3.537   \u001b[0m | \u001b[0m 986.8   \u001b[0m | \u001b[0m 319.9   \u001b[0m |\n",
      "| \u001b[0m 77      \u001b[0m | \u001b[0m 0.9894  \u001b[0m | \u001b[0m 5.311   \u001b[0m | \u001b[0m 0.3721  \u001b[0m | \u001b[0m 1.163   \u001b[0m | \u001b[0m 0.9871  \u001b[0m | \u001b[0m 19.28   \u001b[0m | \u001b[0m 111.5   \u001b[0m | \u001b[0m 309.0   \u001b[0m |\n",
      "| \u001b[0m 78      \u001b[0m | \u001b[0m 0.9881  \u001b[0m | \u001b[0m 1.779   \u001b[0m | \u001b[0m 0.3016  \u001b[0m | \u001b[0m 3.469   \u001b[0m | \u001b[0m 0.1553  \u001b[0m | \u001b[0m 3.097   \u001b[0m | \u001b[0m 103.3   \u001b[0m | \u001b[0m 1.151e+0\u001b[0m |\n",
      "| \u001b[0m 79      \u001b[0m | \u001b[0m 0.9894  \u001b[0m | \u001b[0m 3.208   \u001b[0m | \u001b[0m 0.6622  \u001b[0m | \u001b[0m 0.6122  \u001b[0m | \u001b[0m 0.7901  \u001b[0m | \u001b[0m 3.261   \u001b[0m | \u001b[0m 995.5   \u001b[0m | \u001b[0m 302.3   \u001b[0m |\n",
      "| \u001b[0m 80      \u001b[0m | \u001b[0m 0.9896  \u001b[0m | \u001b[0m 3.234   \u001b[0m | \u001b[0m 0.5535  \u001b[0m | \u001b[0m 1.209   \u001b[0m | \u001b[0m 0.9039  \u001b[0m | \u001b[0m 3.73    \u001b[0m | \u001b[0m 110.0   \u001b[0m | \u001b[0m 323.9   \u001b[0m |\n",
      "| \u001b[0m 81      \u001b[0m | \u001b[0m 0.9896  \u001b[0m | \u001b[0m 5.314   \u001b[0m | \u001b[0m 0.9328  \u001b[0m | \u001b[0m 1.058   \u001b[0m | \u001b[0m 0.04118 \u001b[0m | \u001b[0m 19.42   \u001b[0m | \u001b[0m 998.1   \u001b[0m | \u001b[0m 306.7   \u001b[0m |\n",
      "| \u001b[0m 82      \u001b[0m | \u001b[0m 0.9894  \u001b[0m | \u001b[0m 1.51    \u001b[0m | \u001b[0m 0.9483  \u001b[0m | \u001b[0m 4.899   \u001b[0m | \u001b[0m 0.6875  \u001b[0m | \u001b[0m 18.48   \u001b[0m | \u001b[0m 107.0   \u001b[0m | \u001b[0m 357.7   \u001b[0m |\n",
      "| \u001b[0m 83      \u001b[0m | \u001b[0m 0.9893  \u001b[0m | \u001b[0m 3.702   \u001b[0m | \u001b[0m 0.5178  \u001b[0m | \u001b[0m 4.955   \u001b[0m | \u001b[0m 0.7848  \u001b[0m | \u001b[0m 19.75   \u001b[0m | \u001b[0m 102.5   \u001b[0m | \u001b[0m 304.1   \u001b[0m |\n",
      "| \u001b[0m 84      \u001b[0m | \u001b[0m 0.9889  \u001b[0m | \u001b[0m 4.58    \u001b[0m | \u001b[0m 0.891   \u001b[0m | \u001b[0m 2.224   \u001b[0m | \u001b[0m 0.5043  \u001b[0m | \u001b[0m 19.06   \u001b[0m | \u001b[0m 986.2   \u001b[0m | \u001b[0m 321.5   \u001b[0m |\n",
      "| \u001b[0m 85      \u001b[0m | \u001b[0m 0.9891  \u001b[0m | \u001b[0m 5.071   \u001b[0m | \u001b[0m 0.1538  \u001b[0m | \u001b[0m 1.473   \u001b[0m | \u001b[0m 0.2199  \u001b[0m | \u001b[0m 19.93   \u001b[0m | \u001b[0m 115.2   \u001b[0m | \u001b[0m 314.6   \u001b[0m |\n",
      "| \u001b[0m 86      \u001b[0m | \u001b[0m 0.989   \u001b[0m | \u001b[0m 3.465   \u001b[0m | \u001b[0m 0.6898  \u001b[0m | \u001b[0m 4.434   \u001b[0m | \u001b[0m 0.3952  \u001b[0m | \u001b[0m 3.664   \u001b[0m | \u001b[0m 993.8   \u001b[0m | \u001b[0m 1.163e+0\u001b[0m |\n",
      "| \u001b[0m 87      \u001b[0m | \u001b[0m 0.9887  \u001b[0m | \u001b[0m 5.611   \u001b[0m | \u001b[0m 0.5371  \u001b[0m | \u001b[0m 0.4999  \u001b[0m | \u001b[0m 0.8231  \u001b[0m | \u001b[0m 3.183   \u001b[0m | \u001b[0m 129.4   \u001b[0m | \u001b[0m 310.7   \u001b[0m |\n",
      "| \u001b[0m 88      \u001b[0m | \u001b[0m 0.9894  \u001b[0m | \u001b[0m 2.892   \u001b[0m | \u001b[0m 0.369   \u001b[0m | \u001b[0m 0.2905  \u001b[0m | \u001b[0m 0.7866  \u001b[0m | \u001b[0m 19.94   \u001b[0m | \u001b[0m 133.8   \u001b[0m | \u001b[0m 302.5   \u001b[0m |\n",
      "| \u001b[0m 89      \u001b[0m | \u001b[0m 0.9871  \u001b[0m | \u001b[0m 1.628   \u001b[0m | \u001b[0m 0.3066  \u001b[0m | \u001b[0m 4.893   \u001b[0m | \u001b[0m 0.8277  \u001b[0m | \u001b[0m 4.247   \u001b[0m | \u001b[0m 960.0   \u001b[0m | \u001b[0m 317.8   \u001b[0m |\n"
     ]
    },
    {
     "name": "stdout",
     "output_type": "stream",
     "text": [
      "| \u001b[0m 90      \u001b[0m | \u001b[0m 0.9901  \u001b[0m | \u001b[0m 4.561   \u001b[0m | \u001b[0m 0.683   \u001b[0m | \u001b[0m 0.8354  \u001b[0m | \u001b[0m 0.2857  \u001b[0m | \u001b[0m 19.5    \u001b[0m | \u001b[0m 143.7   \u001b[0m | \u001b[0m 1.197e+0\u001b[0m |\n",
      "| \u001b[0m 91      \u001b[0m | \u001b[0m 0.9891  \u001b[0m | \u001b[0m 1.861   \u001b[0m | \u001b[0m 0.6573  \u001b[0m | \u001b[0m 4.555   \u001b[0m | \u001b[0m 0.8321  \u001b[0m | \u001b[0m 19.04   \u001b[0m | \u001b[0m 107.5   \u001b[0m | \u001b[0m 1.19e+03\u001b[0m |\n",
      "| \u001b[0m 92      \u001b[0m | \u001b[0m 0.9896  \u001b[0m | \u001b[0m 2.219   \u001b[0m | \u001b[0m 0.9395  \u001b[0m | \u001b[0m 0.4472  \u001b[0m | \u001b[0m 0.3124  \u001b[0m | \u001b[0m 16.32   \u001b[0m | \u001b[0m 113.3   \u001b[0m | \u001b[0m 1.193e+0\u001b[0m |\n",
      "| \u001b[0m 93      \u001b[0m | \u001b[0m 0.9891  \u001b[0m | \u001b[0m 1.364   \u001b[0m | \u001b[0m 0.1503  \u001b[0m | \u001b[0m 3.888   \u001b[0m | \u001b[0m 0.9421  \u001b[0m | \u001b[0m 19.96   \u001b[0m | \u001b[0m 155.6   \u001b[0m | \u001b[0m 1.198e+0\u001b[0m |\n",
      "| \u001b[0m 94      \u001b[0m | \u001b[0m 0.9897  \u001b[0m | \u001b[0m 2.227   \u001b[0m | \u001b[0m 0.6173  \u001b[0m | \u001b[0m 0.3664  \u001b[0m | \u001b[0m 0.5339  \u001b[0m | \u001b[0m 4.236   \u001b[0m | \u001b[0m 105.1   \u001b[0m | \u001b[0m 1.189e+0\u001b[0m |\n",
      "| \u001b[0m 95      \u001b[0m | \u001b[0m 0.989   \u001b[0m | \u001b[0m 4.784   \u001b[0m | \u001b[0m 0.6352  \u001b[0m | \u001b[0m 3.766   \u001b[0m | \u001b[0m 0.863   \u001b[0m | \u001b[0m 19.96   \u001b[0m | \u001b[0m 116.3   \u001b[0m | \u001b[0m 308.6   \u001b[0m |\n",
      "| \u001b[0m 96      \u001b[0m | \u001b[0m 0.9886  \u001b[0m | \u001b[0m 5.477   \u001b[0m | \u001b[0m 0.8999  \u001b[0m | \u001b[0m 4.994   \u001b[0m | \u001b[0m 0.7531  \u001b[0m | \u001b[0m 3.82    \u001b[0m | \u001b[0m 990.4   \u001b[0m | \u001b[0m 1.184e+0\u001b[0m |\n",
      "| \u001b[0m 97      \u001b[0m | \u001b[0m 0.9893  \u001b[0m | \u001b[0m 3.285   \u001b[0m | \u001b[0m 0.1058  \u001b[0m | \u001b[0m 2.034   \u001b[0m | \u001b[0m 0.6443  \u001b[0m | \u001b[0m 4.648   \u001b[0m | \u001b[0m 100.2   \u001b[0m | \u001b[0m 316.5   \u001b[0m |\n",
      "| \u001b[0m 98      \u001b[0m | \u001b[0m 0.9889  \u001b[0m | \u001b[0m 2.66    \u001b[0m | \u001b[0m 0.7553  \u001b[0m | \u001b[0m 4.2     \u001b[0m | \u001b[0m 0.8795  \u001b[0m | \u001b[0m 18.45   \u001b[0m | \u001b[0m 110.1   \u001b[0m | \u001b[0m 1.196e+0\u001b[0m |\n",
      "| \u001b[0m 99      \u001b[0m | \u001b[0m 0.9894  \u001b[0m | \u001b[0m 5.96    \u001b[0m | \u001b[0m 0.5315  \u001b[0m | \u001b[0m 3.755   \u001b[0m | \u001b[0m 0.4827  \u001b[0m | \u001b[0m 18.26   \u001b[0m | \u001b[0m 101.6   \u001b[0m | \u001b[0m 1.195e+0\u001b[0m |\n",
      "| \u001b[0m 100     \u001b[0m | \u001b[0m 0.989   \u001b[0m | \u001b[0m 1.315   \u001b[0m | \u001b[0m 0.2418  \u001b[0m | \u001b[0m 4.247   \u001b[0m | \u001b[0m 0.3816  \u001b[0m | \u001b[0m 4.825   \u001b[0m | \u001b[0m 111.6   \u001b[0m | \u001b[0m 1.148e+0\u001b[0m |\n",
      "| \u001b[0m 101     \u001b[0m | \u001b[0m 0.9894  \u001b[0m | \u001b[0m 4.421   \u001b[0m | \u001b[0m 0.3197  \u001b[0m | \u001b[0m 2.473   \u001b[0m | \u001b[0m 0.4201  \u001b[0m | \u001b[0m 3.997   \u001b[0m | \u001b[0m 987.2   \u001b[0m | \u001b[0m 1.191e+0\u001b[0m |\n",
      "| \u001b[0m 102     \u001b[0m | \u001b[0m 0.99    \u001b[0m | \u001b[0m 4.571   \u001b[0m | \u001b[0m 0.5902  \u001b[0m | \u001b[0m 3.53    \u001b[0m | \u001b[0m 0.2873  \u001b[0m | \u001b[0m 4.483   \u001b[0m | \u001b[0m 103.2   \u001b[0m | \u001b[0m 1.193e+0\u001b[0m |\n",
      "| \u001b[0m 103     \u001b[0m | \u001b[0m 0.9884  \u001b[0m | \u001b[0m 2.298   \u001b[0m | \u001b[0m 0.8107  \u001b[0m | \u001b[0m 0.36    \u001b[0m | \u001b[0m 0.9904  \u001b[0m | \u001b[0m 4.1     \u001b[0m | \u001b[0m 110.5   \u001b[0m | \u001b[0m 329.3   \u001b[0m |\n",
      "| \u001b[0m 104     \u001b[0m | \u001b[0m 0.9897  \u001b[0m | \u001b[0m 1.445   \u001b[0m | \u001b[0m 0.4853  \u001b[0m | \u001b[0m 1.473   \u001b[0m | \u001b[0m 0.5662  \u001b[0m | \u001b[0m 19.6    \u001b[0m | \u001b[0m 122.9   \u001b[0m | \u001b[0m 1.183e+0\u001b[0m |\n",
      "| \u001b[0m 105     \u001b[0m | \u001b[0m 0.9889  \u001b[0m | \u001b[0m 3.231   \u001b[0m | \u001b[0m 0.5136  \u001b[0m | \u001b[0m 1.182   \u001b[0m | \u001b[0m 0.08353 \u001b[0m | \u001b[0m 3.592   \u001b[0m | \u001b[0m 108.7   \u001b[0m | \u001b[0m 1.185e+0\u001b[0m |\n",
      "| \u001b[0m 106     \u001b[0m | \u001b[0m 0.9889  \u001b[0m | \u001b[0m 3.889   \u001b[0m | \u001b[0m 0.8607  \u001b[0m | \u001b[0m 3.717   \u001b[0m | \u001b[0m 0.06216 \u001b[0m | \u001b[0m 3.04    \u001b[0m | \u001b[0m 106.2   \u001b[0m | \u001b[0m 300.8   \u001b[0m |\n",
      "| \u001b[0m 107     \u001b[0m | \u001b[0m 0.9896  \u001b[0m | \u001b[0m 2.439   \u001b[0m | \u001b[0m 0.6948  \u001b[0m | \u001b[0m 0.06765 \u001b[0m | \u001b[0m 0.4277  \u001b[0m | \u001b[0m 3.171   \u001b[0m | \u001b[0m 103.8   \u001b[0m | \u001b[0m 1.196e+0\u001b[0m |\n",
      "| \u001b[0m 108     \u001b[0m | \u001b[0m 0.9881  \u001b[0m | \u001b[0m 5.827   \u001b[0m | \u001b[0m 0.4622  \u001b[0m | \u001b[0m 1.158   \u001b[0m | \u001b[0m 0.6458  \u001b[0m | \u001b[0m 18.38   \u001b[0m | \u001b[0m 981.4   \u001b[0m | \u001b[0m 1.183e+0\u001b[0m |\n",
      "=============================================================================================================\n",
      "Time consumed for training: 494.580 seconds\n"
     ]
    }
   ],
   "source": [
    "training_start = time.perf_counter()\n",
    "optimizer.maximize(n_iter=100, init_points=8, acq='ei')\n",
    "training_end = time.perf_counter()\n",
    "lgb_train_time = training_end-training_start\n",
    "print(\"Time consumed for training: %4.3f seconds\" % (lgb_train_time))"
   ]
  },
  {
   "cell_type": "markdown",
   "metadata": {},
   "source": [
    " - __Print the best set of hyper parameter values__"
   ]
  },
  {
   "cell_type": "code",
   "execution_count": 25,
   "metadata": {
    "ExecuteTime": {
     "end_time": "2020-05-21T09:58:09.504192Z",
     "start_time": "2020-05-21T09:58:09.498211Z"
    }
   },
   "outputs": [
    {
     "name": "stdout",
     "output_type": "stream",
     "text": [
      "{'childweight': 3.9228104280950444, 'colsample': 0.6337031176054476, 'gamma': 3.986580139221042, 'learning_rate': 0.6022803491030518, 'max_depth': 3.2103487195710434, 'n_estimators': 104.72353569316859, 'num_leaves': 307.57145582504506}\n"
     ]
    }
   ],
   "source": [
    "best_params = optimizer.max['params']\n",
    "print(best_params)"
   ]
  },
  {
   "cell_type": "code",
   "execution_count": 26,
   "metadata": {
    "ExecuteTime": {
     "end_time": "2020-05-21T10:07:32.553798Z",
     "start_time": "2020-05-21T10:07:32.547815Z"
    }
   },
   "outputs": [],
   "source": [
    "best_params['max_depth'] = int(best_params['max_depth'])\n",
    "best_params['n_estimators'] = int(best_params['n_estimators'])\n",
    "best_params['learning_rate'] = round(best_params['learning_rate'],2)\n",
    "best_params['gamma'] = round(best_params['gamma'],2)\n",
    "best_params['colsample'] = round(best_params['colsample'],2)\n",
    "best_params['childweight'] = int(best_params['childweight'])\n",
    "best_params['num_leaves'] = int(best_params['num_leaves'])"
   ]
  },
  {
   "cell_type": "code",
   "execution_count": 27,
   "metadata": {
    "ExecuteTime": {
     "end_time": "2020-05-21T10:07:43.031672Z",
     "start_time": "2020-05-21T10:07:43.026655Z"
    }
   },
   "outputs": [
    {
     "name": "stdout",
     "output_type": "stream",
     "text": [
      "3 104 0.6 3.99 0.63 3 307\n"
     ]
    }
   ],
   "source": [
    "print(best_params['max_depth'], best_params['n_estimators'], best_params['learning_rate'], best_params['gamma'], best_params['colsample'],\n",
    "     best_params['childweight'], best_params['num_leaves'])"
   ]
  },
  {
   "cell_type": "markdown",
   "metadata": {},
   "source": [
    " - __Fit the best found model using the best found hyper parameter values__"
   ]
  },
  {
   "cell_type": "code",
   "execution_count": 28,
   "metadata": {
    "ExecuteTime": {
     "end_time": "2020-05-21T10:08:52.462682Z",
     "start_time": "2020-05-21T10:08:52.457693Z"
    }
   },
   "outputs": [],
   "source": [
    "best_bayesian_estimator = lgb.LGBMClassifier(boosting_type =\"goss\",\n",
    "                                            max_depth=best_params['max_depth'],\n",
    "                                            learning_rate=best_params['learning_rate'],\n",
    "                                            n_estimators=best_params['n_estimators'],\n",
    "                                            gamma=best_params['gamma'],\n",
    "                                            colsample_bytree=best_params['colsample'],\n",
    "                                            min_child_weight=best_params['childweight'],\n",
    "                                            num_leaves=best_params['num_leaves'])"
   ]
  },
  {
   "cell_type": "markdown",
   "metadata": {},
   "source": [
    " - __Create predictions from the best found model__"
   ]
  },
  {
   "cell_type": "code",
   "execution_count": 29,
   "metadata": {
    "ExecuteTime": {
     "end_time": "2020-05-21T10:09:02.021970Z",
     "start_time": "2020-05-21T10:09:01.876718Z"
    }
   },
   "outputs": [],
   "source": [
    "y_pred_bayesian = best_bayesian_estimator.fit(X_train, y_train).predict(X_test)"
   ]
  },
  {
   "cell_type": "markdown",
   "metadata": {},
   "source": [
    " - __Calculate Accuracy and Recall Scores__\n",
    " - __Print the respective values__\n",
    " - __Create confusion matrix and print it using heatmap__"
   ]
  },
  {
   "cell_type": "code",
   "execution_count": 30,
   "metadata": {
    "ExecuteTime": {
     "end_time": "2020-05-21T10:09:06.941295Z",
     "start_time": "2020-05-21T10:09:06.795349Z"
    }
   },
   "outputs": [
    {
     "name": "stdout",
     "output_type": "stream",
     "text": [
      "The accuracy score for the model is: 0.989\n",
      "The recall score for the model is: 0.974\n"
     ]
    },
    {
     "data": {
      "text/plain": [
       "Text(91.68, 0.5, 'Actual')"
      ]
     },
     "execution_count": 30,
     "metadata": {},
     "output_type": "execute_result"
    },
    {
     "data": {
      "image/png": "[encoded data removed]",
      "text/plain": [
       "<Figure size 432x288 with 1 Axes>"
      ]
     },
     "metadata": {
      "needs_background": "light"
     },
     "output_type": "display_data"
    }
   ],
   "source": [
    "acc = round(accuracy_score(y_test, y_pred_bayesian),3)\n",
    "rec = round(recall_score(y_test, y_pred_bayesian, average=\"macro\"), 3)\n",
    "print(\"The accuracy score for the model is: {}\".format(acc))\n",
    "print(\"The recall score for the model is: {}\".format(rec))\n",
    "met = confusion_matrix(y_test, y_pred_bayesian)\n",
    "sns.heatmap(met, square=True, annot=True, fmt=\"d\", cbar=False, xticklabels=['GALAXY', 'QSO', 'STAR'], yticklabels=['GALAXY', 'QSO', 'STAR'])\n",
    "plt.xlabel(\"Predicted\")\n",
    "plt.ylabel(\"Actual\")"
   ]
  },
  {
   "cell_type": "markdown",
   "metadata": {},
   "source": [
    " - __Useful links__"
   ]
  },
  {
   "cell_type": "markdown",
   "metadata": {},
   "source": [
    "https://github.com/fmfn/BayesianOptimization\n",
    "\n",
    "https://aiinpractice.com/xgboost-hyperparameter-tuning-with-bayesian-optimization/\n",
    "    \n",
    "https://analyticsindiamag.com/implementing-bayesian-optimization-on-xgboost-a-beginners-guide/"
   ]
  }
 ],
 "metadata": {
  "hide_input": false,
  "kernelspec": {
   "display_name": "Python 3",
   "language": "python",
   "name": "python3"
  },
  "language_info": {
   "codemirror_mode": {
    "name": "ipython",
    "version": 3
   },
   "file_extension": ".py",
   "mimetype": "text/x-python",
   "name": "python",
   "nbconvert_exporter": "python",
   "pygments_lexer": "ipython3",
   "version": "3.7.7"
  },
  "toc": {
   "base_numbering": 1,
   "nav_menu": {},
   "number_sections": true,
   "sideBar": true,
   "skip_h1_title": false,
   "title_cell": "Table of Contents",
   "title_sidebar": "Contents",
   "toc_cell": false,
   "toc_position": {},
   "toc_section_display": true,
   "toc_window_display": false
  },
  "varInspector": {
   "cols": {
    "lenName": 16,
    "lenType": 16,
    "lenVar": 40
   },
   "kernels_config": {
    "python": {
     "delete_cmd_postfix": "",
     "delete_cmd_prefix": "del ",
     "library": "var_list.py",
     "varRefreshCmd": "print(var_dic_list())"
    },
    "r": {
     "delete_cmd_postfix": ") ",
     "delete_cmd_prefix": "rm(",
     "library": "var_list.r",
     "varRefreshCmd": "cat(var_dic_list()) "
    }
   },
   "types_to_exclude": [
    "module",
    "function",
    "builtin_function_or_method",
    "instance",
    "_Feature"
   ],
   "window_display": false
  }
 },
 "nbformat": 4,
 "nbformat_minor": 4
}
