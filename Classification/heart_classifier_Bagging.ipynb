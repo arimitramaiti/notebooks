{
 "cells": [
  {
   "cell_type": "code",
   "execution_count": 1,
   "metadata": {
    "ExecuteTime": {
     "end_time": "2020-05-15T08:49:05.214294Z",
     "start_time": "2020-05-15T08:49:03.070960Z"
    }
   },
   "outputs": [],
   "source": [
    "import numpy as np\n",
    "import pandas as pd\n",
    "import matplotlib.pyplot as plt\n",
    "import seaborn as sns\n",
    "%matplotlib inline"
   ]
  },
  {
   "cell_type": "code",
   "execution_count": 2,
   "metadata": {
    "ExecuteTime": {
     "end_time": "2020-05-15T08:49:07.414115Z",
     "start_time": "2020-05-15T08:49:07.043259Z"
    }
   },
   "outputs": [
    {
     "name": "stdout",
     "output_type": "stream",
     "text": [
      "<class 'pandas.core.frame.DataFrame'>\n",
      "RangeIndex: 303 entries, 0 to 302\n",
      "Data columns (total 14 columns):\n",
      " #   Column    Non-Null Count  Dtype  \n",
      "---  ------    --------------  -----  \n",
      " 0   age       303 non-null    int64  \n",
      " 1   sex       303 non-null    int64  \n",
      " 2   cp        303 non-null    int64  \n",
      " 3   trestbps  303 non-null    int64  \n",
      " 4   chol      303 non-null    int64  \n",
      " 5   fbs       303 non-null    int64  \n",
      " 6   restecg   303 non-null    int64  \n",
      " 7   thalach   303 non-null    int64  \n",
      " 8   exang     303 non-null    int64  \n",
      " 9   oldpeak   303 non-null    float64\n",
      " 10  slope     303 non-null    int64  \n",
      " 11  ca        303 non-null    int64  \n",
      " 12  thal      303 non-null    int64  \n",
      " 13  target    303 non-null    int64  \n",
      "dtypes: float64(1), int64(13)\n",
      "memory usage: 33.3 KB\n"
     ]
    }
   ],
   "source": [
    "url = \"https://raw.githubusercontent.com/arimitramaiti/datasets/master/Classification/heart.csv\"\n",
    "dataset = pd.read_csv(url, error_bad_lines=False, header=0, index_col=None)\n",
    "dataset.head()\n",
    "dataset.info()"
   ]
  },
  {
   "cell_type": "markdown",
   "metadata": {},
   "source": [
    " - __Replicate Feature Selection methods and create train and test sets for each method separately__"
   ]
  },
  {
   "cell_type": "code",
   "execution_count": 3,
   "metadata": {
    "ExecuteTime": {
     "end_time": "2020-05-15T08:49:12.541256Z",
     "start_time": "2020-05-15T08:49:12.500251Z"
    }
   },
   "outputs": [],
   "source": [
    "sex_dummy = pd.get_dummies(dataset.sex)\n",
    "sex_dummy.columns = [\"Male\", \"Female\"]\n",
    "\n",
    "cp_dummy = pd.get_dummies(dataset.cp)\n",
    "cp_dummy.columns = [\"cp0\", \"cp1\", \"cp2\", \"cp3\"]\n",
    "\n",
    "fbs_dummy = pd.get_dummies(dataset.fbs)\n",
    "fbs_dummy.columns = [\"fbs0\", \"fbs1\"]\n",
    "\n",
    "restecg_dummy = pd.get_dummies(dataset.restecg)\n",
    "restecg_dummy.columns = [\"restecg0\", \"restecg1\", \"restecg2\"]\n",
    "\n",
    "exang_dummy = pd.get_dummies(dataset.exang)\n",
    "exang_dummy.columns = [\"exang0\", \"exang1\"]\n",
    "\n",
    "slope_dummy = pd.get_dummies(dataset.slope)\n",
    "slope_dummy.columns = [\"slope0\", \"slope1\", \"slope2\"]\n",
    "\n",
    "ca_dummy = pd.get_dummies(dataset.ca)\n",
    "ca_dummy.columns = [\"ca0\", \"ca1\", \"ca2\", \"ca3\", \"ca4\"]\n",
    "\n",
    "thal_dummy = pd.get_dummies(dataset.thal)\n",
    "thal_dummy.columns = [\"thal0\", \"thal1\", \"thal2\", \"thal3\"]\n",
    "\n",
    "tmp = dataset[[\"target\", \"age\", \"trestbps\", \"chol\", \"thalach\", \"oldpeak\"]]\n",
    "\n",
    "onehot_data = pd.concat([tmp, sex_dummy, cp_dummy, fbs_dummy, restecg_dummy, exang_dummy, slope_dummy, ca_dummy, thal_dummy],\n",
    "                       axis=1)"
   ]
  },
  {
   "cell_type": "code",
   "execution_count": 4,
   "metadata": {
    "ExecuteTime": {
     "end_time": "2020-05-15T08:49:15.636744Z",
     "start_time": "2020-05-15T08:49:15.288275Z"
    }
   },
   "outputs": [],
   "source": [
    "from sklearn.model_selection import train_test_split\n",
    "from sklearn.feature_selection import mutual_info_classif, SelectKBest, SelectPercentile, chi2, f_classif\n",
    "from mlxtend.feature_selection import SequentialFeatureSelector as SFS\n",
    "from mlxtend.feature_selection import ExhaustiveFeatureSelector as EFS\n",
    "from mlxtend.plotting import plot_sequential_feature_selection as plot_sfs\n",
    "from sklearn.ensemble import RandomForestClassifier\n",
    "from sklearn.metrics import accuracy_score, roc_auc_score\n",
    "from sklearn.feature_selection import RFECV\n",
    "from sklearn.model_selection import StratifiedKFold"
   ]
  },
  {
   "cell_type": "code",
   "execution_count": 5,
   "metadata": {
    "ExecuteTime": {
     "end_time": "2020-05-15T08:49:19.901306Z",
     "start_time": "2020-05-15T08:49:19.887619Z"
    }
   },
   "outputs": [
    {
     "data": {
      "text/plain": [
       "((303, 30), (303,))"
      ]
     },
     "execution_count": 5,
     "metadata": {},
     "output_type": "execute_result"
    }
   ],
   "source": [
    "X = onehot_data.drop('target', axis=1)\n",
    "y = onehot_data['target']\n",
    "X.shape, y.shape"
   ]
  },
  {
   "cell_type": "code",
   "execution_count": 6,
   "metadata": {
    "ExecuteTime": {
     "end_time": "2020-05-15T08:49:22.778468Z",
     "start_time": "2020-05-15T08:49:22.774497Z"
    }
   },
   "outputs": [],
   "source": [
    "from sklearn.preprocessing import RobustScaler"
   ]
  },
  {
   "cell_type": "markdown",
   "metadata": {},
   "source": [
    " - __Perform scaling unlike Decision Tree Classifier which do not require scaling__\n",
    " - __Following scaling before train test split and feature extraction process__"
   ]
  },
  {
   "cell_type": "code",
   "execution_count": 7,
   "metadata": {
    "ExecuteTime": {
     "end_time": "2020-05-15T08:49:25.996867Z",
     "start_time": "2020-05-15T08:49:25.980656Z"
    }
   },
   "outputs": [],
   "source": [
    "vars_to_scale = X[[\"age\", \"trestbps\", \"chol\", \"thalach\", \"oldpeak\"]]\n",
    "scaler = RobustScaler()\n",
    "vars_scaled = scaler.fit_transform(vars_to_scale)\n",
    "\n",
    "vars_scaled = pd.DataFrame(vars_scaled, columns=[\"age\", \"trestbps\", \"chol\", \"thalach\", \"oldpeak\"])\n",
    "vars_original = X[X.columns.difference(vars_to_scale.columns)]\n",
    "\n",
    "X_new = pd.concat([vars_original, vars_scaled], axis=1)"
   ]
  },
  {
   "cell_type": "code",
   "execution_count": 8,
   "metadata": {
    "ExecuteTime": {
     "end_time": "2020-05-15T08:49:28.667681Z",
     "start_time": "2020-05-15T08:49:28.651863Z"
    }
   },
   "outputs": [
    {
     "name": "stdout",
     "output_type": "stream",
     "text": [
      "(242, 30) (61, 30) (242,) (61,)\n"
     ]
    }
   ],
   "source": [
    "X_train, X_test, y_train, y_test = train_test_split(X_new, y, test_size=0.2, random_state=0, stratify=y)\n",
    "X_train = X_train.reset_index(drop=True)\n",
    "X_test = X_test.reset_index(drop=True)\n",
    "print(X_train.shape, X_test.shape, y_train.shape, y_test.shape)"
   ]
  },
  {
   "cell_type": "code",
   "execution_count": 9,
   "metadata": {
    "ExecuteTime": {
     "end_time": "2020-05-15T08:51:41.083237Z",
     "start_time": "2020-05-15T08:51:41.077793Z"
    }
   },
   "outputs": [],
   "source": [
    "from sklearn.neighbors import KNeighborsClassifier\n",
    "from sklearn.svm import SVC\n",
    "from sklearn.model_selection import learning_curve\n",
    "from sklearn.metrics import recall_score, confusion_matrix\n",
    "from sklearn.model_selection import cross_val_score\n",
    "from sklearn.model_selection import GridSearchCV"
   ]
  },
  {
   "cell_type": "markdown",
   "metadata": {},
   "source": [
    "# Find SVC best parameter for X_train (without any FE method)"
   ]
  },
  {
   "cell_type": "code",
   "execution_count": 10,
   "metadata": {
    "ExecuteTime": {
     "end_time": "2020-05-15T08:52:05.654053Z",
     "start_time": "2020-05-15T08:52:05.646451Z"
    }
   },
   "outputs": [],
   "source": [
    "def svc_parameter(X_data, y_data):\n",
    "    C_val = [0.001, 0.01, 0.1, 1, 10]\n",
    "    gamma_val = [0.001, 0.01, 0.1, 1]\n",
    "    kernel_val = [\"rbf\"]\n",
    "    degree_val = [0, 1, 2, 3, 4, 5, 6]\n",
    "    param_grid = {'C': C_val, 'gamma': gamma_val, 'kernel': kernel_val, 'degree': degree_val}\n",
    "    \n",
    "    gs = GridSearchCV(SVC(), param_grid, cv=StratifiedKFold(10))\n",
    "    gs.fit(X_data, y_data)\n",
    "    gs.best_params_\n",
    "    return gs.best_params_"
   ]
  },
  {
   "cell_type": "code",
   "execution_count": 11,
   "metadata": {
    "ExecuteTime": {
     "end_time": "2020-05-15T08:52:24.987613Z",
     "start_time": "2020-05-15T08:52:09.282171Z"
    }
   },
   "outputs": [],
   "source": [
    "best_param_values = svc_parameter(X_train, y_train)"
   ]
  },
  {
   "cell_type": "code",
   "execution_count": 12,
   "metadata": {
    "ExecuteTime": {
     "end_time": "2020-05-15T08:52:33.363203Z",
     "start_time": "2020-05-15T08:52:31.731581Z"
    }
   },
   "outputs": [
    {
     "name": "stdout",
     "output_type": "stream",
     "text": [
      "The accuracy score for the model is: 0.885\n",
      "The recall score for the model is: 0.939\n",
      "The C value for the model is: 10\n",
      "The kernel value for the model is: rbf\n",
      "The degree value for the model is: 0\n",
      "The gamma value for the model is: 0.001\n"
     ]
    },
    {
     "data": {
      "image/png": "[encoded data removed]",
      "text/plain": [
       "<Figure size 864x360 with 1 Axes>"
      ]
     },
     "metadata": {
      "needs_background": "light"
     },
     "output_type": "display_data"
    },
    {
     "data": {
      "text/plain": [
       "Text(91.68, 0.5, 'Actual')"
      ]
     },
     "execution_count": 12,
     "metadata": {},
     "output_type": "execute_result"
    },
    {
     "data": {
      "image/png": "[encoded data removed]",
      "text/plain": [
       "<Figure size 432x288 with 1 Axes>"
      ]
     },
     "metadata": {
      "needs_background": "light"
     },
     "output_type": "display_data"
    }
   ],
   "source": [
    "train_size = np.linspace(0.1, 1, 10)\n",
    "    \n",
    "model = SVC(C=best_param_values['C'],\n",
    "            kernel=best_param_values['kernel'],\n",
    "            degree=best_param_values['degree'],\n",
    "            gamma=best_param_values['gamma'])\n",
    "    \n",
    "train_sizes, train_scores, validation_scores = learning_curve(estimator = model,\n",
    "                                                                X = X_train,\n",
    "                                                                y = y_train,\n",
    "                                                                train_sizes = train_size,\n",
    "                                                                cv = StratifiedKFold(10),\n",
    "                                                                scoring = 'accuracy',\n",
    "                                                                shuffle = True,\n",
    "                                                                random_state=1)\n",
    "\n",
    "train_scores_mean = train_scores.mean(axis = 1)\n",
    "validation_scores_mean = validation_scores.mean(axis = 1)\n",
    "    \n",
    "model.fit(X_train, y_train)\n",
    "y_pred = model.predict(X_test)\n",
    "acc = round(accuracy_score(y_test, y_pred),3)\n",
    "rec = round(recall_score(y_test, y_pred),3)\n",
    "   \n",
    "print(\"The accuracy score for the model is: {}\".format(acc))\n",
    "print(\"The recall score for the model is: {}\".format(rec))\n",
    "print(\"The C value for the model is: {}\".format(best_param_values['C']))\n",
    "print(\"The kernel value for the model is: {}\".format(best_param_values['kernel']))\n",
    "print(\"The degree value for the model is: {}\".format(best_param_values['degree']))\n",
    "print(\"The gamma value for the model is: {}\".format(best_param_values['gamma']))\n",
    "\n",
    "\n",
    "fig = plt.figure(figsize=(12,5))\n",
    "plt.plot(train_sizes, train_scores_mean, label = 'Training error')\n",
    "plt.plot(train_sizes, validation_scores_mean, label = 'Validation error')\n",
    "plt.ylabel('Accuracy', fontsize = 12)\n",
    "plt.xlabel('Training set size', fontsize = 12)\n",
    "plt.title('Learning curves for a SVC model & FE Method None', fontsize = 14, y = 1.03)\n",
    "plt.legend()\n",
    "plt.grid()\n",
    "plt.show()\n",
    "\n",
    "met = confusion_matrix(y_test, y_pred)\n",
    "sns.heatmap(met, square=True, annot=True, fmt=\"d\", cbar=False)\n",
    "plt.xlabel(\"Predicted\")\n",
    "plt.ylabel(\"Actual\")"
   ]
  },
  {
   "cell_type": "code",
   "execution_count": 13,
   "metadata": {
    "ExecuteTime": {
     "end_time": "2020-05-15T08:52:49.993165Z",
     "start_time": "2020-05-15T08:52:49.989038Z"
    }
   },
   "outputs": [],
   "source": [
    "from sklearn.ensemble import BaggingClassifier"
   ]
  },
  {
   "cell_type": "markdown",
   "metadata": {},
   "source": [
    "# Bagging Classifier for X_train (w/o any FE method)"
   ]
  },
  {
   "cell_type": "code",
   "execution_count": 18,
   "metadata": {
    "ExecuteTime": {
     "end_time": "2020-05-15T08:58:09.655835Z",
     "start_time": "2020-05-15T08:58:09.416225Z"
    }
   },
   "outputs": [
    {
     "name": "stdout",
     "output_type": "stream",
     "text": [
      "The accuracy score for the model is: 0.885\n",
      "The recall score for the model is: 0.939\n"
     ]
    },
    {
     "name": "stderr",
     "output_type": "stream",
     "text": [
      "[Parallel(n_jobs=4)]: Using backend LokyBackend with 4 concurrent workers.\n",
      "[Parallel(n_jobs=4)]: Done   4 out of   4 | elapsed:    0.0s finished\n"
     ]
    },
    {
     "data": {
      "text/plain": [
       "Text(91.68, 0.5, 'Actual')"
      ]
     },
     "execution_count": 18,
     "metadata": {},
     "output_type": "execute_result"
    },
    {
     "data": {
      "image/png": "[encoded data removed]",
      "text/plain": [
       "<Figure size 432x288 with 1 Axes>"
      ]
     },
     "metadata": {
      "needs_background": "light"
     },
     "output_type": "display_data"
    }
   ],
   "source": [
    "estimator = SVC(C=best_param_values['C'],\n",
    "            kernel=best_param_values['kernel'],\n",
    "            degree=best_param_values['degree'],\n",
    "            gamma=best_param_values['gamma'])\n",
    "\n",
    "Bagging_model = BaggingClassifier(base_estimator=estimator,\n",
    "                                 n_estimators=50,\n",
    "                                 max_samples=0.90,\n",
    "                                 max_features=0.90,\n",
    "                                 bootstrap=True,\n",
    "                                 n_jobs=-1,\n",
    "                                 random_state=1,\n",
    "                                 verbose=2)\n",
    "\n",
    "Bagging_model.fit(X_train, y_train)\n",
    "\n",
    "Bagging_model_pred = Bagging_model.predict(X_test)\n",
    "acc = round(accuracy_score(y_test, Bagging_model_pred),3)\n",
    "rec = round(recall_score(y_test, Bagging_model_pred), 3)\n",
    "print(\"The accuracy score for the model is: {}\".format(acc))\n",
    "print(\"The recall score for the model is: {}\".format(rec))\n",
    "met = confusion_matrix(y_test, Bagging_model_pred)\n",
    "sns.heatmap(met, square=True, annot=True, fmt=\"d\", cbar=False)\n",
    "plt.xlabel(\"Predicted\")\n",
    "plt.ylabel(\"Actual\")"
   ]
  },
  {
   "cell_type": "markdown",
   "metadata": {},
   "source": [
    "# Find SVC best parameter for X_train (FE method-RFECV)"
   ]
  },
  {
   "cell_type": "code",
   "execution_count": 19,
   "metadata": {
    "ExecuteTime": {
     "end_time": "2020-05-15T09:01:01.442188Z",
     "start_time": "2020-05-15T08:59:57.372590Z"
    }
   },
   "outputs": [
    {
     "data": {
      "text/plain": [
       "((242, 26), (61, 26))"
      ]
     },
     "execution_count": 19,
     "metadata": {},
     "output_type": "execute_result"
    }
   ],
   "source": [
    "del X_train, X_test, y_train, y_test\n",
    "X_train, X_test, y_train, y_test = train_test_split(X, y, test_size=0.2, random_state=0, stratify=y)\n",
    "X_train = X_train.reset_index(drop=True)\n",
    "X_test = X_test.reset_index(drop=True)\n",
    "\n",
    "rfe = RFECV(RandomForestClassifier(n_estimators=100, random_state=0, n_jobs=-1), \n",
    "          step=1, \n",
    "          cv=StratifiedKFold(10),\n",
    "          scoring='accuracy', \n",
    "          n_jobs=-1).fit(X_train, y_train)\n",
    "\n",
    "train_copy = X_train\n",
    "test_copy = X_test\n",
    "\n",
    "train_copy.drop(train_copy.columns[np.where(rfe.support_ == False)[0]], axis=1, inplace=True)\n",
    "test_copy.drop(test_copy.columns[np.where(rfe.support_ == False)[0]], axis=1, inplace=True)\n",
    "\n",
    "X_train_rfe = pd.DataFrame(train_copy)\n",
    "X_test_rfe = pd.DataFrame(test_copy)\n",
    "X_train_rfe.shape, X_test_rfe.shape"
   ]
  },
  {
   "cell_type": "code",
   "execution_count": 20,
   "metadata": {
    "ExecuteTime": {
     "end_time": "2020-05-15T09:01:59.437881Z",
     "start_time": "2020-05-15T09:01:39.866203Z"
    }
   },
   "outputs": [],
   "source": [
    "best_param_values = svc_parameter(X_train_rfe, y_train)"
   ]
  },
  {
   "cell_type": "code",
   "execution_count": 21,
   "metadata": {
    "ExecuteTime": {
     "end_time": "2020-05-15T09:02:41.922484Z",
     "start_time": "2020-05-15T09:02:40.312106Z"
    }
   },
   "outputs": [
    {
     "name": "stdout",
     "output_type": "stream",
     "text": [
      "The accuracy score for the model is: 0.754\n",
      "The recall score for the model is: 0.788\n",
      "The C value for the model is: 1\n",
      "The kernel value for the model is: rbf\n",
      "The degree value for the model is: 0\n",
      "The gamma value for the model is: 0.001\n"
     ]
    },
    {
     "data": {
      "image/png": "[encoded data removed]",
      "text/plain": [
       "<Figure size 864x360 with 1 Axes>"
      ]
     },
     "metadata": {
      "needs_background": "light"
     },
     "output_type": "display_data"
    },
    {
     "data": {
      "text/plain": [
       "Text(91.68, 0.5, 'Actual')"
      ]
     },
     "execution_count": 21,
     "metadata": {},
     "output_type": "execute_result"
    },
    {
     "data": {
      "image/png": "[encoded data removed]",
      "text/plain": [
       "<Figure size 432x288 with 1 Axes>"
      ]
     },
     "metadata": {
      "needs_background": "light"
     },
     "output_type": "display_data"
    }
   ],
   "source": [
    "train_size = np.linspace(0.1, 1, 10)\n",
    "    \n",
    "model = SVC(C=best_param_values['C'],\n",
    "            kernel=best_param_values['kernel'],\n",
    "            degree=best_param_values['degree'],\n",
    "            gamma=best_param_values['gamma'])\n",
    "    \n",
    "train_sizes, train_scores, validation_scores = learning_curve(estimator = model,\n",
    "                                                                X = X_train_rfe,\n",
    "                                                                y = y_train,\n",
    "                                                                train_sizes = train_size,\n",
    "                                                                cv = StratifiedKFold(10),\n",
    "                                                                scoring = 'accuracy',\n",
    "                                                                shuffle = True,\n",
    "                                                                random_state=1)\n",
    "\n",
    "train_scores_mean = train_scores.mean(axis = 1)\n",
    "validation_scores_mean = validation_scores.mean(axis = 1)\n",
    "    \n",
    "model.fit(X_train_rfe, y_train)\n",
    "y_pred = model.predict(X_test_rfe)\n",
    "acc = round(accuracy_score(y_test, y_pred),3)\n",
    "rec = round(recall_score(y_test, y_pred),3)\n",
    "   \n",
    "print(\"The accuracy score for the model is: {}\".format(acc))\n",
    "print(\"The recall score for the model is: {}\".format(rec))\n",
    "print(\"The C value for the model is: {}\".format(best_param_values['C']))\n",
    "print(\"The kernel value for the model is: {}\".format(best_param_values['kernel']))\n",
    "print(\"The degree value for the model is: {}\".format(best_param_values['degree']))\n",
    "print(\"The gamma value for the model is: {}\".format(best_param_values['gamma']))\n",
    "\n",
    "\n",
    "fig = plt.figure(figsize=(12,5))\n",
    "plt.plot(train_sizes, train_scores_mean, label = 'Training error')\n",
    "plt.plot(train_sizes, validation_scores_mean, label = 'Validation error')\n",
    "plt.ylabel('Accuracy', fontsize = 12)\n",
    "plt.xlabel('Training set size', fontsize = 12)\n",
    "plt.title('Learning curves for a SVC model & FE Method None', fontsize = 14, y = 1.03)\n",
    "plt.legend()\n",
    "plt.grid()\n",
    "plt.show()\n",
    "\n",
    "met = confusion_matrix(y_test, y_pred)\n",
    "sns.heatmap(met, square=True, annot=True, fmt=\"d\", cbar=False)\n",
    "plt.xlabel(\"Predicted\")\n",
    "plt.ylabel(\"Actual\")"
   ]
  },
  {
   "cell_type": "markdown",
   "metadata": {},
   "source": [
    "# Bagging Classifier using SVC for X_train (FE method-RFECV)"
   ]
  },
  {
   "cell_type": "code",
   "execution_count": 22,
   "metadata": {
    "ExecuteTime": {
     "end_time": "2020-05-15T09:04:59.709668Z",
     "start_time": "2020-05-15T09:04:59.300741Z"
    }
   },
   "outputs": [
    {
     "name": "stderr",
     "output_type": "stream",
     "text": [
      "[Parallel(n_jobs=4)]: Using backend LokyBackend with 4 concurrent workers.\n",
      "[Parallel(n_jobs=4)]: Done   4 out of   4 | elapsed:    0.0s finished\n",
      "[Parallel(n_jobs=4)]: Using backend LokyBackend with 4 concurrent workers.\n"
     ]
    },
    {
     "name": "stdout",
     "output_type": "stream",
     "text": [
      "The accuracy score for the model is: 0.754\n",
      "The recall score for the model is: 0.758\n"
     ]
    },
    {
     "name": "stderr",
     "output_type": "stream",
     "text": [
      "[Parallel(n_jobs=4)]: Done   4 out of   4 | elapsed:    0.0s finished\n"
     ]
    },
    {
     "data": {
      "text/plain": [
       "Text(91.68, 0.5, 'Actual')"
      ]
     },
     "execution_count": 22,
     "metadata": {},
     "output_type": "execute_result"
    },
    {
     "data": {
      "image/png": "[encoded data removed]",
      "text/plain": [
       "<Figure size 432x288 with 1 Axes>"
      ]
     },
     "metadata": {
      "needs_background": "light"
     },
     "output_type": "display_data"
    }
   ],
   "source": [
    "estimator = SVC(C=best_param_values['C'],\n",
    "            kernel=best_param_values['kernel'],\n",
    "            degree=best_param_values['degree'],\n",
    "            gamma=best_param_values['gamma'])\n",
    "\n",
    "Bagging_model = BaggingClassifier(base_estimator=estimator,\n",
    "                                 n_estimators=50,\n",
    "                                 max_samples=0.90,\n",
    "                                 max_features=0.90,\n",
    "                                 bootstrap=True,\n",
    "                                 n_jobs=-1,\n",
    "                                 random_state=1,\n",
    "                                 verbose=2)\n",
    "\n",
    "Bagging_model.fit(X_train_rfe, y_train)\n",
    "\n",
    "Bagging_model_pred = Bagging_model.predict(X_test_rfe)\n",
    "acc = round(accuracy_score(y_test, Bagging_model_pred),3)\n",
    "rec = round(recall_score(y_test, Bagging_model_pred), 3)\n",
    "print(\"The accuracy score for the model is: {}\".format(acc))\n",
    "print(\"The recall score for the model is: {}\".format(rec))\n",
    "met = confusion_matrix(y_test, Bagging_model_pred)\n",
    "sns.heatmap(met, square=True, annot=True, fmt=\"d\", cbar=False)\n",
    "plt.xlabel(\"Predicted\")\n",
    "plt.ylabel(\"Actual\")"
   ]
  },
  {
   "cell_type": "markdown",
   "metadata": {
    "ExecuteTime": {
     "end_time": "2020-05-15T09:05:34.432549Z",
     "start_time": "2020-05-15T09:05:34.425601Z"
    }
   },
   "source": [
    "# Find KNN best parameter for X_train (FE method-RFECV)"
   ]
  },
  {
   "cell_type": "code",
   "execution_count": 24,
   "metadata": {
    "ExecuteTime": {
     "end_time": "2020-05-15T09:10:49.580174Z",
     "start_time": "2020-05-15T09:10:46.702129Z"
    }
   },
   "outputs": [
    {
     "data": {
      "image/png": "[encoded data removed]",
      "text/plain": [
       "<Figure size 864x360 with 1 Axes>"
      ]
     },
     "metadata": {
      "needs_background": "light"
     },
     "output_type": "display_data"
    }
   ],
   "source": [
    "neighbors = list(range(1, 50, 2))\n",
    "cv_score = []\n",
    "\n",
    "for k in neighbors:\n",
    "    knn = KNeighborsClassifier(n_neighbors=k)\n",
    "    scores = cross_val_score(estimator=knn, X=X_train_rfe, y=y_train, cv=StratifiedKFold(10), scoring=\"accuracy\")\n",
    "    cv_score.append(scores.mean())\n",
    "\n",
    "MSE = [1- x for x in cv_score]\n",
    "\n",
    "optimal_k = neighbors[MSE.index(min(MSE))]\n",
    "\n",
    "fig = plt.figure(figsize=(12,5))\n",
    "plt.plot(neighbors, MSE, label = 'MSE for each neighbour')\n",
    "plt.ylabel('Mean Squared Error', fontsize = 12)\n",
    "plt.xlabel('K Size', fontsize = 12)\n",
    "plt.title('The optimal value of neighbor is at: ' + str(optimal_k), fontsize = 14, y = 1.03)\n",
    "plt.legend()\n",
    "plt.grid()\n",
    "plt.show()"
   ]
  },
  {
   "cell_type": "code",
   "execution_count": 26,
   "metadata": {
    "ExecuteTime": {
     "end_time": "2020-05-15T09:11:06.185560Z",
     "start_time": "2020-05-15T09:11:03.837413Z"
    }
   },
   "outputs": [
    {
     "name": "stdout",
     "output_type": "stream",
     "text": [
      "The accuracy score for the model is: 0.77\n",
      "The recall score for the model is: 0.848\n"
     ]
    },
    {
     "data": {
      "image/png": "[encoded data removed]",
      "text/plain": [
       "<Figure size 864x360 with 1 Axes>"
      ]
     },
     "metadata": {
      "needs_background": "light"
     },
     "output_type": "display_data"
    },
    {
     "data": {
      "text/plain": [
       "Text(91.68, 0.5, 'Actual')"
      ]
     },
     "execution_count": 26,
     "metadata": {},
     "output_type": "execute_result"
    },
    {
     "data": {
      "image/png": "[encoded data removed]",
      "text/plain": [
       "<Figure size 432x288 with 1 Axes>"
      ]
     },
     "metadata": {
      "needs_background": "light"
     },
     "output_type": "display_data"
    }
   ],
   "source": [
    "train_size = np.arange(optimal_k+1, (X_train_rfe.shape[0] - X_test_rfe.shape[1]) + 1, 25)\n",
    "    \n",
    "model = KNeighborsClassifier(n_neighbors=optimal_k)\n",
    "train_sizes, train_scores, validation_scores = learning_curve(estimator = model,\n",
    "                                                                  X = X_train_rfe,\n",
    "                                                                  y = y_train,\n",
    "                                                                  train_sizes = train_size,\n",
    "                                                                  cv = StratifiedKFold(10),\n",
    "                                                                  scoring = 'accuracy',\n",
    "                                                                  shuffle = True,\n",
    "                                                                  random_state=1)\n",
    "\n",
    "train_scores_mean = train_scores.mean(axis = 1)\n",
    "validation_scores_mean = validation_scores.mean(axis = 1)\n",
    "    \n",
    "model.fit(X_train_rfe, y_train)\n",
    "y_pred = model.predict(X_test_rfe)\n",
    "acc = round(accuracy_score(y_test, y_pred),3)\n",
    "rec = round(recall_score(y_test, y_pred),3)\n",
    "    \n",
    "print(\"The accuracy score for the model is: {}\".format(acc))\n",
    "print(\"The recall score for the model is: {}\".format(rec))\n",
    "    \n",
    "fig = plt.figure(figsize=(12,5))\n",
    "plt.plot(train_sizes, train_scores_mean, label = 'Training error')\n",
    "plt.plot(train_sizes, validation_scores_mean, label = 'Validation error')\n",
    "plt.ylabel('Accuracy', fontsize = 12)\n",
    "plt.xlabel('Training set size', fontsize = 12)\n",
    "plt.title('Learning curves for a Nearest Neighbor model & FE RFECV', fontsize = 14, y = 1.03)\n",
    "plt.legend()\n",
    "plt.grid()\n",
    "plt.show()\n",
    "\n",
    "met = confusion_matrix(y_test, y_pred)\n",
    "sns.heatmap(met, square=True, annot=True, fmt=\"d\", cbar=False)\n",
    "plt.xlabel(\"Predicted\")\n",
    "plt.ylabel(\"Actual\")"
   ]
  },
  {
   "cell_type": "markdown",
   "metadata": {},
   "source": [
    "# Bagging Classifier using KNN for X_train (FE method-RFECV)"
   ]
  },
  {
   "cell_type": "code",
   "execution_count": 27,
   "metadata": {
    "ExecuteTime": {
     "end_time": "2020-05-15T09:12:57.865839Z",
     "start_time": "2020-05-15T09:12:55.651480Z"
    }
   },
   "outputs": [
    {
     "name": "stderr",
     "output_type": "stream",
     "text": [
      "[Parallel(n_jobs=4)]: Using backend LokyBackend with 4 concurrent workers.\n"
     ]
    },
    {
     "name": "stdout",
     "output_type": "stream",
     "text": [
      "The accuracy score for the model is: 0.705\n",
      "The recall score for the model is: 0.758\n"
     ]
    },
    {
     "name": "stderr",
     "output_type": "stream",
     "text": [
      "[Parallel(n_jobs=4)]: Done   4 out of   4 | elapsed:    1.8s finished\n",
      "[Parallel(n_jobs=4)]: Using backend LokyBackend with 4 concurrent workers.\n",
      "[Parallel(n_jobs=4)]: Done   4 out of   4 | elapsed:    0.0s finished\n"
     ]
    },
    {
     "data": {
      "text/plain": [
       "Text(91.68, 0.5, 'Actual')"
      ]
     },
     "execution_count": 27,
     "metadata": {},
     "output_type": "execute_result"
    },
    {
     "data": {
      "image/png": "[encoded data removed]",
      "text/plain": [
       "<Figure size 432x288 with 1 Axes>"
      ]
     },
     "metadata": {
      "needs_background": "light"
     },
     "output_type": "display_data"
    }
   ],
   "source": [
    "estimator = KNeighborsClassifier(n_neighbors=optimal_k)\n",
    "\n",
    "Bagging_model = BaggingClassifier(base_estimator=estimator,\n",
    "                                 n_estimators=50,\n",
    "                                 max_samples=0.90,\n",
    "                                 max_features=0.90,\n",
    "                                 bootstrap=True,\n",
    "                                 n_jobs=-1,\n",
    "                                 random_state=1,\n",
    "                                 verbose=2)\n",
    "\n",
    "Bagging_model.fit(X_train_rfe, y_train)\n",
    "\n",
    "Bagging_model_pred = Bagging_model.predict(X_test_rfe)\n",
    "acc = round(accuracy_score(y_test, Bagging_model_pred),3)\n",
    "rec = round(recall_score(y_test, Bagging_model_pred), 3)\n",
    "print(\"The accuracy score for the model is: {}\".format(acc))\n",
    "print(\"The recall score for the model is: {}\".format(rec))\n",
    "met = confusion_matrix(y_test, Bagging_model_pred)\n",
    "sns.heatmap(met, square=True, annot=True, fmt=\"d\", cbar=False)\n",
    "plt.xlabel(\"Predicted\")\n",
    "plt.ylabel(\"Actual\")"
   ]
  },
  {
   "cell_type": "code",
   "execution_count": null,
   "metadata": {},
   "outputs": [],
   "source": []
  }
 ],
 "metadata": {
  "hide_input": false,
  "kernelspec": {
   "display_name": "Python 3",
   "language": "python",
   "name": "python3"
  },
  "language_info": {
   "codemirror_mode": {
    "name": "ipython",
    "version": 3
   },
   "file_extension": ".py",
   "mimetype": "text/x-python",
   "name": "python",
   "nbconvert_exporter": "python",
   "pygments_lexer": "ipython3",
   "version": "3.7.7"
  },
  "toc": {
   "base_numbering": 1,
   "nav_menu": {},
   "number_sections": true,
   "sideBar": true,
   "skip_h1_title": false,
   "title_cell": "Table of Contents",
   "title_sidebar": "Contents",
   "toc_cell": false,
   "toc_position": {},
   "toc_section_display": true,
   "toc_window_display": false
  },
  "varInspector": {
   "cols": {
    "lenName": 16,
    "lenType": 16,
    "lenVar": 40
   },
   "kernels_config": {
    "python": {
     "delete_cmd_postfix": "",
     "delete_cmd_prefix": "del ",
     "library": "var_list.py",
     "varRefreshCmd": "print(var_dic_list())"
    },
    "r": {
     "delete_cmd_postfix": ") ",
     "delete_cmd_prefix": "rm(",
     "library": "var_list.r",
     "varRefreshCmd": "cat(var_dic_list()) "
    }
   },
   "types_to_exclude": [
    "module",
    "function",
    "builtin_function_or_method",
    "instance",
    "_Feature"
   ],
   "window_display": false
  }
 },
 "nbformat": 4,
 "nbformat_minor": 4
}
