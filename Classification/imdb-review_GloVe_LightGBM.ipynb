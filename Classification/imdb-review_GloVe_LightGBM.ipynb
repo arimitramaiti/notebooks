{
 "cells": [
  {
   "cell_type": "markdown",
   "metadata": {},
   "source": [
    " - __Import base modules__"
   ]
  },
  {
   "cell_type": "code",
   "execution_count": 1,
   "metadata": {
    "ExecuteTime": {
     "end_time": "2020-05-27T08:32:50.230829Z",
     "start_time": "2020-05-27T08:32:47.527195Z"
    }
   },
   "outputs": [],
   "source": [
    "import numpy as np\n",
    "import pandas as pd\n",
    "import matplotlib.pyplot as plt\n",
    "import seaborn as sns\n",
    "%matplotlib inline"
   ]
  },
  {
   "cell_type": "markdown",
   "metadata": {},
   "source": [
    " - __Import sklearn modules__"
   ]
  },
  {
   "cell_type": "code",
   "execution_count": 2,
   "metadata": {
    "ExecuteTime": {
     "end_time": "2020-05-27T08:33:02.419671Z",
     "start_time": "2020-05-27T08:32:52.940459Z"
    }
   },
   "outputs": [
    {
     "name": "stderr",
     "output_type": "stream",
     "text": [
      "Using TensorFlow backend.\n"
     ]
    }
   ],
   "source": [
    "from sklearn.model_selection import train_test_split\n",
    "from sklearn.preprocessing import MinMaxScaler\n",
    "from sklearn.metrics import accuracy_score, roc_auc_score\n",
    "from sklearn.model_selection import learning_curve\n",
    "from sklearn.metrics import recall_score, confusion_matrix, classification_report\n",
    "from sklearn.model_selection import cross_val_score\n",
    "from sklearn.model_selection import GridSearchCV, RandomizedSearchCV\n",
    "from sklearn.model_selection import StratifiedKFold\n",
    "import time\n",
    "import warnings\n",
    "warnings.filterwarnings(\"ignore\", category=DeprecationWarning)\n",
    "from imblearn import under_sampling, over_sampling\n",
    "from imblearn.over_sampling import SMOTE"
   ]
  },
  {
   "cell_type": "markdown",
   "metadata": {},
   "source": [
    " - __Import the IMDB movie review dataset__\n",
    " - Data Link : https://www.kaggle.com/lakshmi25npathi/imdb-dataset-of-50k-movie-reviews?select=IMDB+Dataset.csv"
   ]
  },
  {
   "cell_type": "code",
   "execution_count": 3,
   "metadata": {
    "ExecuteTime": {
     "end_time": "2020-05-27T08:34:04.296879Z",
     "start_time": "2020-05-27T08:34:03.729720Z"
    }
   },
   "outputs": [
    {
     "data": {
      "text/html": [
       "<div>\n",
       "<style scoped>\n",
       "    .dataframe tbody tr th:only-of-type {\n",
       "        vertical-align: middle;\n",
       "    }\n",
       "\n",
       "    .dataframe tbody tr th {\n",
       "        vertical-align: top;\n",
       "    }\n",
       "\n",
       "    .dataframe thead th {\n",
       "        text-align: right;\n",
       "    }\n",
       "</style>\n",
       "<table border=\"1\" class=\"dataframe\">\n",
       "  <thead>\n",
       "    <tr style=\"text-align: right;\">\n",
       "      <th></th>\n",
       "      <th>review</th>\n",
       "      <th>sentiment</th>\n",
       "    </tr>\n",
       "  </thead>\n",
       "  <tbody>\n",
       "    <tr>\n",
       "      <th>0</th>\n",
       "      <td>One of the other reviewers has mentioned that ...</td>\n",
       "      <td>positive</td>\n",
       "    </tr>\n",
       "    <tr>\n",
       "      <th>1</th>\n",
       "      <td>A wonderful little production. &lt;br /&gt;&lt;br /&gt;The...</td>\n",
       "      <td>positive</td>\n",
       "    </tr>\n",
       "  </tbody>\n",
       "</table>\n",
       "</div>"
      ],
      "text/plain": [
       "                                              review sentiment\n",
       "0  One of the other reviewers has mentioned that ...  positive\n",
       "1  A wonderful little production. <br /><br />The...  positive"
      ]
     },
     "execution_count": 3,
     "metadata": {},
     "output_type": "execute_result"
    }
   ],
   "source": [
    "dataset = pd.read_csv(\"IMDBDataset.csv\", header=0, index_col=None)\n",
    "dataset.head(2)"
   ]
  },
  {
   "cell_type": "markdown",
   "metadata": {},
   "source": [
    " - __Use regex to replace \"__< br / >__\" with blanks__"
   ]
  },
  {
   "cell_type": "code",
   "execution_count": 5,
   "metadata": {
    "ExecuteTime": {
     "end_time": "2020-05-27T08:34:41.807098Z",
     "start_time": "2020-05-27T08:34:41.012366Z"
    }
   },
   "outputs": [
    {
     "data": {
      "text/html": [
       "<div>\n",
       "<style scoped>\n",
       "    .dataframe tbody tr th:only-of-type {\n",
       "        vertical-align: middle;\n",
       "    }\n",
       "\n",
       "    .dataframe tbody tr th {\n",
       "        vertical-align: top;\n",
       "    }\n",
       "\n",
       "    .dataframe thead th {\n",
       "        text-align: right;\n",
       "    }\n",
       "</style>\n",
       "<table border=\"1\" class=\"dataframe\">\n",
       "  <thead>\n",
       "    <tr style=\"text-align: right;\">\n",
       "      <th></th>\n",
       "      <th>review</th>\n",
       "      <th>sentiment</th>\n",
       "    </tr>\n",
       "  </thead>\n",
       "  <tbody>\n",
       "    <tr>\n",
       "      <th>0</th>\n",
       "      <td>One of the other reviewers has mentioned that ...</td>\n",
       "      <td>positive</td>\n",
       "    </tr>\n",
       "    <tr>\n",
       "      <th>1</th>\n",
       "      <td>A wonderful little production. The filming tec...</td>\n",
       "      <td>positive</td>\n",
       "    </tr>\n",
       "  </tbody>\n",
       "</table>\n",
       "</div>"
      ],
      "text/plain": [
       "                                              review sentiment\n",
       "0  One of the other reviewers has mentioned that ...  positive\n",
       "1  A wonderful little production. The filming tec...  positive"
      ]
     },
     "execution_count": 5,
     "metadata": {},
     "output_type": "execute_result"
    }
   ],
   "source": [
    "import re\n",
    "dataset['review'] = dataset.apply(lambda row: re.sub(r'\\<br />', '', row['review']), axis=1)\n",
    "dataset.head(2)"
   ]
  },
  {
   "cell_type": "markdown",
   "metadata": {},
   "source": [
    " - __Check if missing values exist__"
   ]
  },
  {
   "cell_type": "code",
   "execution_count": 4,
   "metadata": {
    "ExecuteTime": {
     "end_time": "2020-05-27T08:34:07.292698Z",
     "start_time": "2020-05-27T08:34:07.276625Z"
    }
   },
   "outputs": [
    {
     "data": {
      "text/plain": [
       "review       0\n",
       "sentiment    0\n",
       "dtype: int64"
      ]
     },
     "execution_count": 4,
     "metadata": {},
     "output_type": "execute_result"
    }
   ],
   "source": [
    "dataset.isnull().sum()"
   ]
  },
  {
   "cell_type": "markdown",
   "metadata": {
    "ExecuteTime": {
     "end_time": "2020-05-25T15:13:05.675447Z",
     "start_time": "2020-05-25T15:13:05.670014Z"
    }
   },
   "source": [
    " - __Check proportion of class values__"
   ]
  },
  {
   "cell_type": "code",
   "execution_count": 6,
   "metadata": {
    "ExecuteTime": {
     "end_time": "2020-05-27T08:35:23.819755Z",
     "start_time": "2020-05-27T08:35:23.809781Z"
    }
   },
   "outputs": [
    {
     "data": {
      "text/plain": [
       "negative    25000\n",
       "positive    25000\n",
       "Name: sentiment, dtype: int64"
      ]
     },
     "execution_count": 6,
     "metadata": {},
     "output_type": "execute_result"
    }
   ],
   "source": [
    "dataset.sentiment.value_counts()"
   ]
  },
  {
   "cell_type": "markdown",
   "metadata": {},
   "source": [
    " - __Check if NaN values are there and if yes then collect row indices__"
   ]
  },
  {
   "cell_type": "code",
   "execution_count": 7,
   "metadata": {
    "ExecuteTime": {
     "end_time": "2020-05-27T08:35:26.926567Z",
     "start_time": "2020-05-27T08:35:26.872486Z"
    }
   },
   "outputs": [
    {
     "name": "stdout",
     "output_type": "stream",
     "text": [
      "0 blanks:  []\n"
     ]
    }
   ],
   "source": [
    "blanks = []\n",
    "for index, label, review in dataset.itertuples():\n",
    "    if type(review)==str:\n",
    "        if review.isspace():\n",
    "            blanks.append(index)\n",
    "        \n",
    "print(len(blanks), 'blanks: ', blanks)"
   ]
  },
  {
   "cell_type": "markdown",
   "metadata": {},
   "source": [
    " - __Create X and y attrs__"
   ]
  },
  {
   "cell_type": "code",
   "execution_count": 8,
   "metadata": {
    "ExecuteTime": {
     "end_time": "2020-05-27T08:35:59.100882Z",
     "start_time": "2020-05-27T08:35:59.087905Z"
    }
   },
   "outputs": [
    {
     "data": {
      "text/plain": [
       "((50000,), (50000,))"
      ]
     },
     "execution_count": 8,
     "metadata": {},
     "output_type": "execute_result"
    }
   ],
   "source": [
    "X, y = dataset['review'], dataset['sentiment']\n",
    "sdict = {'positive': 1, 'negative': 0}\n",
    "y = y.map(sdict)\n",
    "X.shape, y.shape"
   ]
  },
  {
   "cell_type": "markdown",
   "metadata": {},
   "source": [
    " - __Read glove pre trained data file glove.6B.100d.txt__\n",
    " - https://nlp.stanford.edu/projects/glove/\n",
    " - __Code credits to transform into features : StackOverflow__\n",
    " - __Other glove files which can be used are glove.6B.50d, glove.6B.200d, glove.6B.300d, glove.840B.300d__"
   ]
  },
  {
   "cell_type": "code",
   "execution_count": 9,
   "metadata": {
    "ExecuteTime": {
     "end_time": "2020-05-27T08:36:23.993090Z",
     "start_time": "2020-05-27T08:36:11.918019Z"
    }
   },
   "outputs": [],
   "source": [
    "def read_glove_vecs(glove_file):\n",
    "    with open(glove_file, 'r', encoding='utf-8') as f:\n",
    "        words = set()\n",
    "        word_to_vec_map = {}\n",
    "        for line in f:\n",
    "            line = line.strip().split()\n",
    "            curr_word = line[0]\n",
    "            words.add(curr_word)\n",
    "            word_to_vec_map[curr_word] = np.array(line[1:], dtype=np.float64)\n",
    "    return word_to_vec_map\n",
    "word_to_vec_map = read_glove_vecs('glove.6B.100d.txt')"
   ]
  },
  {
   "cell_type": "code",
   "execution_count": 10,
   "metadata": {
    "ExecuteTime": {
     "end_time": "2020-05-27T08:36:47.529073Z",
     "start_time": "2020-05-27T08:36:47.499480Z"
    }
   },
   "outputs": [],
   "source": [
    "from tqdm import tqdm_notebook\n",
    "from tqdm import tqdm"
   ]
  },
  {
   "cell_type": "code",
   "execution_count": 11,
   "metadata": {
    "ExecuteTime": {
     "end_time": "2020-05-27T08:36:59.786417Z",
     "start_time": "2020-05-27T08:36:59.775447Z"
    }
   },
   "outputs": [],
   "source": [
    "def prepare_sequence(ds, word_to_vec_map):\n",
    "    df = []\n",
    "    for sentence in tqdm(ds.values):\n",
    "        sequence_words = np.zeros((100,))\n",
    "        for word in sentence.split():\n",
    "            if word in word_to_vec_map.keys():\n",
    "                temp_X = word_to_vec_map[word]\n",
    "            else:\n",
    "                temp_X = word_to_vec_map['#']\n",
    "            sequence_words+=(temp_X)/len(sentence)\n",
    "        df.append(sequence_words)\n",
    "    return np.array(df)"
   ]
  },
  {
   "cell_type": "code",
   "execution_count": 12,
   "metadata": {
    "ExecuteTime": {
     "end_time": "2020-05-27T08:37:36.913764Z",
     "start_time": "2020-05-27T08:37:08.550745Z"
    }
   },
   "outputs": [
    {
     "name": "stderr",
     "output_type": "stream",
     "text": [
      "100%|██████████████████████████████████████████████████████████████████████████| 50000/50000 [00:28<00:00, 1767.10it/s]\n"
     ]
    }
   ],
   "source": [
    "X_w2v = prepare_sequence(X, word_to_vec_map)"
   ]
  },
  {
   "cell_type": "code",
   "execution_count": 13,
   "metadata": {
    "ExecuteTime": {
     "end_time": "2020-05-27T08:37:42.236375Z",
     "start_time": "2020-05-27T08:37:42.230394Z"
    }
   },
   "outputs": [
    {
     "data": {
      "text/plain": [
       "(50000, 100)"
      ]
     },
     "execution_count": 13,
     "metadata": {},
     "output_type": "execute_result"
    }
   ],
   "source": [
    "X_w2v.shape"
   ]
  },
  {
   "cell_type": "markdown",
   "metadata": {},
   "source": [
    " - __Create training and testing datasets__"
   ]
  },
  {
   "cell_type": "code",
   "execution_count": 14,
   "metadata": {
    "ExecuteTime": {
     "end_time": "2020-05-27T08:37:48.118224Z",
     "start_time": "2020-05-27T08:37:48.068349Z"
    }
   },
   "outputs": [
    {
     "data": {
      "text/plain": [
       "((35000, 100), (15000, 100), (35000,), (15000,))"
      ]
     },
     "execution_count": 14,
     "metadata": {},
     "output_type": "execute_result"
    }
   ],
   "source": [
    "X_train, X_test, y_train, y_test = train_test_split(X_w2v, y, test_size=0.30, stratify=y, random_state=123)\n",
    "X_train.shape, X_test.shape, y_train.shape, y_test.shape"
   ]
  },
  {
   "cell_type": "code",
   "execution_count": 15,
   "metadata": {
    "ExecuteTime": {
     "end_time": "2020-05-27T08:37:54.034529Z",
     "start_time": "2020-05-27T08:37:54.016579Z"
    }
   },
   "outputs": [
    {
     "name": "stdout",
     "output_type": "stream",
     "text": [
      "Before OverSampling, counts of label '1': 17500\n",
      "Before OverSampling, counts of label '0': 17500 \n",
      "\n"
     ]
    }
   ],
   "source": [
    "print(\"Before OverSampling, counts of label '1': {}\".format(sum(y_train == 1))) \n",
    "print(\"Before OverSampling, counts of label '0': {} \\n\".format(sum(y_train == 0)))"
   ]
  },
  {
   "cell_type": "markdown",
   "metadata": {},
   "source": [
    " - __Apply SMOTE to uplift class imbalance only in training data (Not applied for this dataset)__"
   ]
  },
  {
   "cell_type": "code",
   "execution_count": 16,
   "metadata": {
    "ExecuteTime": {
     "end_time": "2020-05-27T08:38:50.244724Z",
     "start_time": "2020-05-27T08:38:50.240705Z"
    }
   },
   "outputs": [],
   "source": [
    "# sm = SMOTE(random_state = 2) \n",
    "# X_train_res, y_train_res = sm.fit_sample(X_train, y_train.ravel())"
   ]
  },
  {
   "cell_type": "code",
   "execution_count": 17,
   "metadata": {
    "ExecuteTime": {
     "end_time": "2020-05-27T08:38:55.377784Z",
     "start_time": "2020-05-27T08:38:55.374828Z"
    }
   },
   "outputs": [],
   "source": [
    "# print(\"After OverSampling, counts of label '1': {}\".format(sum(y_train_res == 1))) \n",
    "# print(\"After OverSampling, counts of label '0': {}\".format(sum(y_train_res == 0)))\n",
    "# X_train_res.shape, X_test.shape, y_train_res.shape, y_test.shape"
   ]
  },
  {
   "cell_type": "markdown",
   "metadata": {},
   "source": [
    " - __Import Light GBM module__"
   ]
  },
  {
   "cell_type": "code",
   "execution_count": 18,
   "metadata": {
    "ExecuteTime": {
     "end_time": "2020-05-27T08:39:01.438770Z",
     "start_time": "2020-05-27T08:39:01.389443Z"
    }
   },
   "outputs": [],
   "source": [
    "import lightgbm as lgb"
   ]
  },
  {
   "cell_type": "markdown",
   "metadata": {},
   "source": [
    " - __Declare estimator__"
   ]
  },
  {
   "cell_type": "code",
   "execution_count": 19,
   "metadata": {
    "ExecuteTime": {
     "end_time": "2020-05-27T08:39:06.765036Z",
     "start_time": "2020-05-27T08:39:06.760050Z"
    }
   },
   "outputs": [],
   "source": [
    "estimator = lgb.LGBMClassifier(boosting_type =\"goss\", random_state=1)"
   ]
  },
  {
   "cell_type": "markdown",
   "metadata": {},
   "source": [
    " - __Declare a decimal range of learning rates__\n",
    " - __Declare a range of tree counts__\n",
    " - __Declare a set of max depth values__\n",
    " - __Declare a set of minimum child weight__\n",
    " - __Declare a set of sample proportions to be used in attribute sampling__\n",
    " - __Create dictionary which is a must for Random Search function__"
   ]
  },
  {
   "cell_type": "code",
   "execution_count": 20,
   "metadata": {
    "ExecuteTime": {
     "end_time": "2020-05-27T08:39:12.691791Z",
     "start_time": "2020-05-27T08:39:12.684809Z"
    }
   },
   "outputs": [],
   "source": [
    "learning_rate = np.arange(0.01,1,0.05)\n",
    "n_estimators = np.arange(100, 500, 50)\n",
    "max_depth = [2, 5, 10, 20, 30, 40, 50]\n",
    "min_child_weight = [1,3,6]\n",
    "colsample_bytree = [0.1, 0.5, 0.8, 1]\n",
    "num_leaves = [300, 900, 1200]\n",
    "\n",
    "param_grid = {'learning_rate': learning_rate,\n",
    "              'n_estimators': n_estimators,\n",
    "              'max_depth': max_depth,\n",
    "              'min_child_weight': min_child_weight,\n",
    "              'colsample_bytree': colsample_bytree,\n",
    "              'num_leaves': num_leaves}"
   ]
  },
  {
   "cell_type": "markdown",
   "metadata": {
    "ExecuteTime": {
     "end_time": "2020-05-25T15:18:31.653604Z",
     "start_time": "2020-05-25T15:18:31.644608Z"
    }
   },
   "source": [
    " - __Instantiate the RandomizedSearchCV object with accuracy as scoring metric__\n",
    " - __Push the parameter dictionary inside the object__"
   ]
  },
  {
   "cell_type": "code",
   "execution_count": 21,
   "metadata": {
    "ExecuteTime": {
     "end_time": "2020-05-27T08:39:19.597147Z",
     "start_time": "2020-05-27T08:39:19.589208Z"
    }
   },
   "outputs": [],
   "source": [
    "randomized_accuracy_fit = RandomizedSearchCV(estimator=estimator,\n",
    "                                            param_distributions=param_grid,\n",
    "                                            n_iter=50,\n",
    "                                            scoring=\"accuracy\",\n",
    "                                            n_jobs=-1,\n",
    "                                            refit=True,\n",
    "                                            random_state=123,\n",
    "                                            return_train_score=True,\n",
    "                                            verbose=1,\n",
    "                                            cv=StratifiedKFold(n_splits=10, shuffle=True, random_state=123)\n",
    "                                            )"
   ]
  },
  {
   "cell_type": "markdown",
   "metadata": {},
   "source": [
    " - __Fit the RandomizedSearchCV object on X_train & y_train__"
   ]
  },
  {
   "cell_type": "code",
   "execution_count": 23,
   "metadata": {
    "ExecuteTime": {
     "end_time": "2020-05-27T09:20:50.608297Z",
     "start_time": "2020-05-27T08:39:39.025774Z"
    }
   },
   "outputs": [
    {
     "name": "stdout",
     "output_type": "stream",
     "text": [
      "Fitting 10 folds for each of 50 candidates, totalling 500 fits\n"
     ]
    },
    {
     "name": "stderr",
     "output_type": "stream",
     "text": [
      "[Parallel(n_jobs=-1)]: Using backend LokyBackend with 4 concurrent workers.\n",
      "[Parallel(n_jobs=-1)]: Done  42 tasks      | elapsed:  3.6min\n",
      "[Parallel(n_jobs=-1)]: Done 192 tasks      | elapsed: 17.6min\n",
      "C:\\Users\\Debjani\\anaconda3\\lib\\site-packages\\joblib\\externals\\loky\\process_executor.py:706: UserWarning: A worker stopped while some jobs were given to the executor. This can be caused by a too short worker timeout or by a memory leak.\n",
      "  \"timeout or by a memory leak.\", UserWarning\n",
      "[Parallel(n_jobs=-1)]: Done 442 tasks      | elapsed: 36.0min\n",
      "[Parallel(n_jobs=-1)]: Done 500 out of 500 | elapsed: 41.1min finished\n"
     ]
    },
    {
     "name": "stdout",
     "output_type": "stream",
     "text": [
      "Time consumed for training: 2471.576 seconds\n"
     ]
    }
   ],
   "source": [
    "training_start = time.perf_counter()\n",
    "randomized_accuracy_fit.fit(X_train, y_train)\n",
    "training_end = time.perf_counter()\n",
    "lgb_train_time = training_end-training_start\n",
    "print(\"Time consumed for training: %4.3f seconds\" % (lgb_train_time))"
   ]
  },
  {
   "cell_type": "markdown",
   "metadata": {},
   "source": [
    " - __Print the best score found by RandomizedSearchCV__\n",
    " - __Print the best model found by RandomizedSearchCV__"
   ]
  },
  {
   "cell_type": "code",
   "execution_count": 24,
   "metadata": {
    "ExecuteTime": {
     "end_time": "2020-05-27T09:21:42.504379Z",
     "start_time": "2020-05-27T09:21:42.497602Z"
    }
   },
   "outputs": [
    {
     "name": "stdout",
     "output_type": "stream",
     "text": [
      "0.7747714285714287\n",
      "LGBMClassifier(boosting_type='goss', class_weight=None, colsample_bytree=1,\n",
      "               importance_type='split', learning_rate=0.060000000000000005,\n",
      "               max_depth=5, min_child_samples=20, min_child_weight=6,\n",
      "               min_split_gain=0.0, n_estimators=300, n_jobs=-1, num_leaves=1200,\n",
      "               objective=None, random_state=1, reg_alpha=0.0, reg_lambda=0.0,\n",
      "               silent=True, subsample=1.0, subsample_for_bin=200000,\n",
      "               subsample_freq=0)\n"
     ]
    }
   ],
   "source": [
    "print(randomized_accuracy_fit.best_score_)\n",
    "print(randomized_accuracy_fit.best_estimator_)"
   ]
  },
  {
   "cell_type": "markdown",
   "metadata": {},
   "source": [
    " - __Store the best model in an object__\n",
    " - __Create predictions from the best model__"
   ]
  },
  {
   "cell_type": "code",
   "execution_count": 25,
   "metadata": {
    "ExecuteTime": {
     "end_time": "2020-05-27T09:21:50.572049Z",
     "start_time": "2020-05-27T09:21:50.418885Z"
    }
   },
   "outputs": [
    {
     "name": "stdout",
     "output_type": "stream",
     "text": [
      "Time consumed for prediction: 0.14738 seconds\n"
     ]
    }
   ],
   "source": [
    "best_estimator = randomized_accuracy_fit.best_estimator_\n",
    "prediction_start = time.perf_counter()\n",
    "y_pred = best_estimator.predict(X_test)\n",
    "prediction_end = time.perf_counter()\n",
    "lgb_prediction_time = prediction_end-prediction_start\n",
    "print(\"Time consumed for prediction: %6.5f seconds\" % (lgb_prediction_time))"
   ]
  },
  {
   "cell_type": "markdown",
   "metadata": {},
   "source": [
    " - __Calculate Accuracy and Recall Scores__\n",
    " - __Print the respective values__\n",
    " - __Create confusion matrix and print it using heatmap__"
   ]
  },
  {
   "cell_type": "code",
   "execution_count": 26,
   "metadata": {
    "ExecuteTime": {
     "end_time": "2020-05-27T09:21:57.099949Z",
     "start_time": "2020-05-27T09:21:56.964021Z"
    }
   },
   "outputs": [
    {
     "name": "stdout",
     "output_type": "stream",
     "text": [
      "The accuracy score for the model is: 0.778\n",
      "The recall score for the model is: 0.778\n",
      "              precision    recall  f1-score   support\n",
      "\n",
      "           0       0.78      0.78      0.78      7500\n",
      "           1       0.78      0.77      0.78      7500\n",
      "\n",
      "    accuracy                           0.78     15000\n",
      "   macro avg       0.78      0.78      0.78     15000\n",
      "weighted avg       0.78      0.78      0.78     15000\n",
      "\n"
     ]
    },
    {
     "data": {
      "text/plain": [
       "Text(91.68, 0.5, 'Actual')"
      ]
     },
     "execution_count": 26,
     "metadata": {},
     "output_type": "execute_result"
    },
    {
     "data": {
      "image/png": "[encoded data removed]",
      "text/plain": [
       "<Figure size 432x288 with 1 Axes>"
      ]
     },
     "metadata": {
      "needs_background": "light"
     },
     "output_type": "display_data"
    }
   ],
   "source": [
    "acc = round(accuracy_score(y_test, y_pred),3)\n",
    "rec = round(recall_score(y_test, y_pred, average=\"macro\"), 3)\n",
    "cre = classification_report(y_test,y_pred)\n",
    "print(\"The accuracy score for the model is: {}\".format(acc))\n",
    "print(\"The recall score for the model is: {}\".format(rec))\n",
    "print(cre)\n",
    "met = confusion_matrix(y_test, y_pred)\n",
    "sns.heatmap(met, square=True, annot=True, fmt=\"d\", cbar=False, xticklabels=['ham', 'spam'], yticklabels=['ham', 'spam'])\n",
    "plt.xlabel(\"Predicted\")\n",
    "plt.ylabel(\"Actual\")"
   ]
  },
  {
   "cell_type": "code",
   "execution_count": null,
   "metadata": {
    "ExecuteTime": {
     "end_time": "2020-05-25T15:32:50.708890Z",
     "start_time": "2020-05-25T15:32:38.719553Z"
    },
    "scrolled": true
   },
   "outputs": [],
   "source": []
  },
  {
   "cell_type": "code",
   "execution_count": null,
   "metadata": {},
   "outputs": [],
   "source": []
  }
 ],
 "metadata": {
  "hide_input": false,
  "kernelspec": {
   "display_name": "Python 3",
   "language": "python",
   "name": "python3"
  },
  "language_info": {
   "codemirror_mode": {
    "name": "ipython",
    "version": 3
   },
   "file_extension": ".py",
   "mimetype": "text/x-python",
   "name": "python",
   "nbconvert_exporter": "python",
   "pygments_lexer": "ipython3",
   "version": "3.7.7"
  },
  "toc": {
   "base_numbering": 1,
   "nav_menu": {},
   "number_sections": true,
   "sideBar": true,
   "skip_h1_title": false,
   "title_cell": "Table of Contents",
   "title_sidebar": "Contents",
   "toc_cell": false,
   "toc_position": {},
   "toc_section_display": true,
   "toc_window_display": false
  },
  "varInspector": {
   "cols": {
    "lenName": 16,
    "lenType": 16,
    "lenVar": 40
   },
   "kernels_config": {
    "python": {
     "delete_cmd_postfix": "",
     "delete_cmd_prefix": "del ",
     "library": "var_list.py",
     "varRefreshCmd": "print(var_dic_list())"
    },
    "r": {
     "delete_cmd_postfix": ") ",
     "delete_cmd_prefix": "rm(",
     "library": "var_list.r",
     "varRefreshCmd": "cat(var_dic_list()) "
    }
   },
   "types_to_exclude": [
    "module",
    "function",
    "builtin_function_or_method",
    "instance",
    "_Feature"
   ],
   "window_display": false
  }
 },
 "nbformat": 4,
 "nbformat_minor": 4
}
