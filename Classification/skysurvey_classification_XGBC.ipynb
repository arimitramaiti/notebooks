{
 "cells": [
  {
   "cell_type": "code",
   "execution_count": 1,
   "metadata": {
    "ExecuteTime": {
     "end_time": "2020-05-20T11:41:15.629694Z",
     "start_time": "2020-05-20T11:41:10.388147Z"
    }
   },
   "outputs": [],
   "source": [
    "import numpy as np\n",
    "import pandas as pd\n",
    "import matplotlib.pyplot as plt\n",
    "import seaborn as sns\n",
    "%matplotlib inline"
   ]
  },
  {
   "cell_type": "code",
   "execution_count": 30,
   "metadata": {
    "ExecuteTime": {
     "end_time": "2020-05-20T12:39:32.905200Z",
     "start_time": "2020-05-20T12:39:32.896099Z"
    }
   },
   "outputs": [],
   "source": [
    "from sklearn.model_selection import train_test_split\n",
    "from sklearn.preprocessing import MinMaxScaler\n",
    "from sklearn.metrics import accuracy_score, roc_auc_score\n",
    "from sklearn.model_selection import learning_curve\n",
    "from sklearn.metrics import recall_score, confusion_matrix\n",
    "from sklearn.model_selection import cross_val_score\n",
    "from sklearn.model_selection import GridSearchCV, RandomizedSearchCV\n",
    "from sklearn.model_selection import StratifiedKFold\n",
    "import time\n",
    "import warnings\n",
    "warnings.filterwarnings(\"ignore\", category=DeprecationWarning)"
   ]
  },
  {
   "cell_type": "code",
   "execution_count": 21,
   "metadata": {
    "ExecuteTime": {
     "end_time": "2020-05-20T12:23:41.208682Z",
     "start_time": "2020-05-20T12:23:41.204438Z"
    }
   },
   "outputs": [],
   "source": [
    "import xgboost as xgb"
   ]
  },
  {
   "cell_type": "markdown",
   "metadata": {},
   "source": [
    " - __Import data, drop extra information and check count of target in class attribute__"
   ]
  },
  {
   "cell_type": "code",
   "execution_count": 12,
   "metadata": {
    "ExecuteTime": {
     "end_time": "2020-05-20T12:03:39.648845Z",
     "start_time": "2020-05-20T12:03:39.344881Z"
    }
   },
   "outputs": [
    {
     "name": "stdout",
     "output_type": "stream",
     "text": [
      "<class 'pandas.core.frame.DataFrame'>\n",
      "RangeIndex: 10000 entries, 0 to 9999\n",
      "Data columns (total 12 columns):\n",
      " #   Column    Non-Null Count  Dtype  \n",
      "---  ------    --------------  -----  \n",
      " 0   ra        10000 non-null  float64\n",
      " 1   dec       10000 non-null  float64\n",
      " 2   u         10000 non-null  float64\n",
      " 3   g         10000 non-null  float64\n",
      " 4   r         10000 non-null  float64\n",
      " 5   i         10000 non-null  float64\n",
      " 6   z         10000 non-null  float64\n",
      " 7   class     10000 non-null  object \n",
      " 8   redshift  10000 non-null  float64\n",
      " 9   plate     10000 non-null  int64  \n",
      " 10  mjd       10000 non-null  int64  \n",
      " 11  fiberid   10000 non-null  int64  \n",
      "dtypes: float64(8), int64(3), object(1)\n",
      "memory usage: 937.6+ KB\n"
     ]
    },
    {
     "data": {
      "text/plain": [
       "GALAXY    4998\n",
       "STAR      4152\n",
       "QSO        850\n",
       "Name: class, dtype: int64"
      ]
     },
     "execution_count": 12,
     "metadata": {},
     "output_type": "execute_result"
    }
   ],
   "source": [
    "url = \"https://raw.githubusercontent.com/arimitramaiti/datasets/master/Classification/Skyserver_SQL2_27_2018%206_51_39%20PM.csv\"\n",
    "dataset = pd.read_csv(url, error_bad_lines=False, header=0)\n",
    "dataset.drop(['objid', 'run', 'rerun', 'camcol', 'field', 'specobjid'], axis=1, inplace=True)\n",
    "dataset.shape\n",
    "dataset.info()\n",
    "dataset[\"class\"].value_counts()"
   ]
  },
  {
   "cell_type": "markdown",
   "metadata": {},
   "source": [
    " - __Create X and y datasets having independent vars and target var respectively__\n",
    " - __Apply Min max scaler on independent vars__\n",
    " - __Create 70:30 split for training and testing datasets__"
   ]
  },
  {
   "cell_type": "code",
   "execution_count": 18,
   "metadata": {
    "ExecuteTime": {
     "end_time": "2020-05-20T12:19:19.157527Z",
     "start_time": "2020-05-20T12:19:19.122647Z"
    }
   },
   "outputs": [
    {
     "data": {
      "text/plain": [
       "((7000, 11), (3000, 11), (7000,), (3000,))"
      ]
     },
     "execution_count": 18,
     "metadata": {},
     "output_type": "execute_result"
    }
   ],
   "source": [
    "X = dataset.drop([\"class\"], axis=1)\n",
    "y = dataset[\"class\"]\n",
    "\n",
    "sc = MinMaxScaler()\n",
    "X_scaled = sc.fit_transform(X)\n",
    "\n",
    "X_train, X_test, y_train, y_test = train_test_split(X_scaled, y, test_size=0.30, stratify=y, random_state=123)\n",
    "X_train.shape, X_test.shape, y_train.shape, y_test.shape"
   ]
  },
  {
   "cell_type": "markdown",
   "metadata": {},
   "source": [
    "# Random Search"
   ]
  },
  {
   "cell_type": "markdown",
   "metadata": {},
   "source": [
    " - __Instantiate a xgb classifier with softmax objective__\n",
    " - __This is because we have a target having more than 2 outcomes__"
   ]
  },
  {
   "cell_type": "code",
   "execution_count": 28,
   "metadata": {
    "ExecuteTime": {
     "end_time": "2020-05-20T12:29:08.608228Z",
     "start_time": "2020-05-20T12:29:08.603743Z"
    }
   },
   "outputs": [],
   "source": [
    "estimator = xgb.XGBClassifier(objective=\"multi:softmax\", num_class=3, random_state=1)"
   ]
  },
  {
   "cell_type": "markdown",
   "metadata": {},
   "source": [
    " - __Declare a decimal range of learning rates__\n",
    " - __Declare a range of tree counts__\n",
    " - __Declare a set of max depth values__\n",
    " - __Declare a set of minimum child weight__\n",
    " - __Declare a set of sample proportions to be used in attribute sampling__\n",
    " - __Create dictionary which is a must for Random Search function__"
   ]
  },
  {
   "cell_type": "code",
   "execution_count": 29,
   "metadata": {
    "ExecuteTime": {
     "end_time": "2020-05-20T12:35:40.252012Z",
     "start_time": "2020-05-20T12:35:40.244781Z"
    }
   },
   "outputs": [],
   "source": [
    "learning_rate = np.arange(0.01,1,0.05)\n",
    "n_estimators = np.arange(100, 500, 50)\n",
    "max_depth = [2, 5, 10, 20, 30, 40, 50]\n",
    "min_child_weight = [1,3,6]\n",
    "colsample_bytree = [0.1, 0.5, 0.8, 1]\n",
    "\n",
    "param_grid = {'learning_rate': learning_rate,\n",
    "              'n_estimators': n_estimators,\n",
    "              'max_depth': max_depth,\n",
    "              'min_child_weight': min_child_weight,\n",
    "              'colsample_bytree': colsample_bytree}"
   ]
  },
  {
   "cell_type": "markdown",
   "metadata": {},
   "source": [
    " - __Instantiate the RandomizedSearchCV object with accuracy as scoring metric__\n",
    " - __Push the parameter dictionary inside the object__"
   ]
  },
  {
   "cell_type": "code",
   "execution_count": 31,
   "metadata": {
    "ExecuteTime": {
     "end_time": "2020-05-20T12:40:41.725047Z",
     "start_time": "2020-05-20T12:40:41.717015Z"
    }
   },
   "outputs": [],
   "source": [
    "randomized_accuracy_fit = RandomizedSearchCV(estimator=estimator,\n",
    "                                            param_distributions=param_grid,\n",
    "                                            n_iter=50,\n",
    "                                            scoring=\"accuracy\",\n",
    "                                            n_jobs=-1,\n",
    "                                            refit=True,\n",
    "                                            random_state=123,\n",
    "                                            return_train_score=True,\n",
    "                                            verbose=1,\n",
    "                                            cv=StratifiedKFold(10)\n",
    "                                            )"
   ]
  },
  {
   "cell_type": "markdown",
   "metadata": {},
   "source": [
    " - __Fit the RandomizedSearchCV object on X_train & y_train__"
   ]
  },
  {
   "cell_type": "code",
   "execution_count": 32,
   "metadata": {
    "ExecuteTime": {
     "end_time": "2020-05-20T13:10:05.731345Z",
     "start_time": "2020-05-20T12:42:05.453348Z"
    }
   },
   "outputs": [
    {
     "name": "stdout",
     "output_type": "stream",
     "text": [
      "Fitting 10 folds for each of 50 candidates, totalling 500 fits\n"
     ]
    },
    {
     "name": "stderr",
     "output_type": "stream",
     "text": [
      "[Parallel(n_jobs=-1)]: Using backend LokyBackend with 4 concurrent workers.\n",
      "[Parallel(n_jobs=-1)]: Done  42 tasks      | elapsed:  3.1min\n",
      "[Parallel(n_jobs=-1)]: Done 192 tasks      | elapsed: 12.4min\n",
      "[Parallel(n_jobs=-1)]: Done 442 tasks      | elapsed: 25.3min\n",
      "[Parallel(n_jobs=-1)]: Done 500 out of 500 | elapsed: 27.8min finished\n"
     ]
    },
    {
     "data": {
      "text/plain": [
       "RandomizedSearchCV(cv=StratifiedKFold(n_splits=10, random_state=None, shuffle=False),\n",
       "                   error_score=nan,\n",
       "                   estimator=XGBClassifier(base_score=None, booster=None,\n",
       "                                           colsample_bylevel=None,\n",
       "                                           colsample_bynode=None,\n",
       "                                           colsample_bytree=None, gamma=None,\n",
       "                                           gpu_id=None, importance_type='gain',\n",
       "                                           interaction_constraints=None,\n",
       "                                           learning_rate=None,\n",
       "                                           max_delta_step=None, max_depth=None,\n",
       "                                           mi...\n",
       "                   param_distributions={'colsample_bytree': [0.1, 0.5, 0.8, 1],\n",
       "                                        'learning_rate': array([0.01, 0.06, 0.11, 0.16, 0.21, 0.26, 0.31, 0.36, 0.41, 0.46, 0.51,\n",
       "       0.56, 0.61, 0.66, 0.71, 0.76, 0.81, 0.86, 0.91, 0.96]),\n",
       "                                        'max_depth': [2, 5, 10, 20, 30, 40, 50],\n",
       "                                        'min_child_weight': [1, 3, 6],\n",
       "                                        'n_estimators': array([100, 150, 200, 250, 300, 350, 400, 450])},\n",
       "                   pre_dispatch='2*n_jobs', random_state=123, refit=True,\n",
       "                   return_train_score=True, scoring='accuracy', verbose=1)"
      ]
     },
     "execution_count": 32,
     "metadata": {},
     "output_type": "execute_result"
    }
   ],
   "source": [
    "randomized_accuracy_fit.fit(X_train, y_train)"
   ]
  },
  {
   "cell_type": "markdown",
   "metadata": {},
   "source": [
    " - __Print the best score found by RandomizedSearchCV__\n",
    " - __Print the best model found by RandomizedSearchCV__"
   ]
  },
  {
   "cell_type": "code",
   "execution_count": 33,
   "metadata": {
    "ExecuteTime": {
     "end_time": "2020-05-20T13:11:52.372408Z",
     "start_time": "2020-05-20T13:11:52.356003Z"
    }
   },
   "outputs": [
    {
     "name": "stdout",
     "output_type": "stream",
     "text": [
      "0.991\n",
      "XGBClassifier(base_score=0.5, booster=None, colsample_bylevel=1,\n",
      "              colsample_bynode=1, colsample_bytree=1, gamma=0, gpu_id=-1,\n",
      "              importance_type='gain', interaction_constraints=None,\n",
      "              learning_rate=0.46, max_delta_step=0, max_depth=10,\n",
      "              min_child_weight=1, missing=nan, monotone_constraints=None,\n",
      "              n_estimators=400, n_jobs=0, num_class=3, num_parallel_tree=1,\n",
      "              objective='multi:softprob', random_state=1, reg_alpha=0,\n",
      "              reg_lambda=1, scale_pos_weight=None, subsample=1,\n",
      "              tree_method=None, validate_parameters=False, verbosity=None)\n"
     ]
    }
   ],
   "source": [
    "print(randomized_accuracy_fit.best_score_)\n",
    "print(randomized_accuracy_fit.best_estimator_)"
   ]
  },
  {
   "cell_type": "markdown",
   "metadata": {},
   "source": [
    " - __Store the best model in an object__\n",
    " - __Create predictions from the best model__"
   ]
  },
  {
   "cell_type": "code",
   "execution_count": 34,
   "metadata": {
    "ExecuteTime": {
     "end_time": "2020-05-20T13:13:27.046590Z",
     "start_time": "2020-05-20T13:13:26.970641Z"
    }
   },
   "outputs": [],
   "source": [
    "best_estimator = randomized_accuracy_fit.best_estimator_\n",
    "y_pred = best_estimator.predict(X_test)"
   ]
  },
  {
   "cell_type": "markdown",
   "metadata": {},
   "source": [
    " - __Calculate Accuracy and Recall Scores__\n",
    " - __Print the respective values__\n",
    " - __Create confusion matrix and print it using heatmap__"
   ]
  },
  {
   "cell_type": "code",
   "execution_count": 42,
   "metadata": {
    "ExecuteTime": {
     "end_time": "2020-05-20T13:19:43.813328Z",
     "start_time": "2020-05-20T13:19:43.575219Z"
    }
   },
   "outputs": [
    {
     "name": "stdout",
     "output_type": "stream",
     "text": [
      "The accuracy score for the model is: 0.99\n",
      "The recall score for the model is: 0.977\n"
     ]
    },
    {
     "data": {
      "text/plain": [
       "Text(91.68, 0.5, 'Actual')"
      ]
     },
     "execution_count": 42,
     "metadata": {},
     "output_type": "execute_result"
    },
    {
     "data": {
      "image/png": "[encoded data removed]",
      "text/plain": [
       "<Figure size 432x288 with 1 Axes>"
      ]
     },
     "metadata": {
      "needs_background": "light"
     },
     "output_type": "display_data"
    }
   ],
   "source": [
    "acc = round(accuracy_score(y_test, y_pred),3)\n",
    "rec = round(recall_score(y_test, y_pred, average=\"macro\"), 3)\n",
    "print(\"The accuracy score for the model is: {}\".format(acc))\n",
    "print(\"The recall score for the model is: {}\".format(rec))\n",
    "met = confusion_matrix(y_test, y_pred)\n",
    "sns.heatmap(met, square=True, annot=True, fmt=\"d\", cbar=False, xticklabels=['GALAXY', 'QSO', 'STAR'], yticklabels=['GALAXY', 'QSO', 'STAR'])\n",
    "plt.xlabel(\"Predicted\")\n",
    "plt.ylabel(\"Actual\")"
   ]
  },
  {
   "cell_type": "markdown",
   "metadata": {},
   "source": [
    "# Bayesian Search"
   ]
  },
  {
   "cell_type": "code",
   "execution_count": 53,
   "metadata": {
    "ExecuteTime": {
     "end_time": "2020-05-20T14:36:42.352231Z",
     "start_time": "2020-05-20T14:36:42.322336Z"
    }
   },
   "outputs": [],
   "source": [
    "from bayes_opt import BayesianOptimization"
   ]
  },
  {
   "cell_type": "markdown",
   "metadata": {},
   "source": [
    " - __Create lower and upper bounds of hyper parameters to be searched for__"
   ]
  },
  {
   "cell_type": "code",
   "execution_count": 55,
   "metadata": {
    "ExecuteTime": {
     "end_time": "2020-05-20T14:49:33.202173Z",
     "start_time": "2020-05-20T14:49:33.195191Z"
    }
   },
   "outputs": [],
   "source": [
    "pbounds = {\n",
    "    'learning_rate': (0.01, 1.0),\n",
    "    'n_estimators': (100, 1000),\n",
    "    'max_depth': (3,20),\n",
    "    'childweight': (1, 6),\n",
    "    'colsample': (0.1, 1.0),\n",
    "    'gamma': (0, 5)}"
   ]
  },
  {
   "cell_type": "markdown",
   "metadata": {},
   "source": [
    " - __Declare a function which would use the hyper-paramter bounds in a xgb classifier__\n",
    " - __Compute mean accuracy of cross folds__"
   ]
  },
  {
   "cell_type": "code",
   "execution_count": 60,
   "metadata": {
    "ExecuteTime": {
     "end_time": "2020-05-20T14:54:53.972665Z",
     "start_time": "2020-05-20T14:54:53.966682Z"
    }
   },
   "outputs": [],
   "source": [
    "def xgboost_hyper_param(learning_rate,\n",
    "                        n_estimators,\n",
    "                        max_depth,\n",
    "                        childweight,\n",
    "                        colsample,\n",
    "                        gamma):\n",
    "    max_depth = int(max_depth)\n",
    "    n_estimators = int(n_estimators)\n",
    "    clf = xgb.XGBClassifier(\n",
    "        objective=\"multi:softmax\",\n",
    "        num_class=3,\n",
    "        max_depth=max_depth,\n",
    "        learning_rate=learning_rate,\n",
    "        n_estimators=n_estimators,\n",
    "        colsample_bytree=colsample,\n",
    "        min_child_weight=childweight,\n",
    "        gamma=gamma)\n",
    "    return np.mean(cross_val_score(clf, X_train, y_train, cv=StratifiedKFold(10), scoring='accuracy'))"
   ]
  },
  {
   "cell_type": "markdown",
   "metadata": {},
   "source": [
    " - __Instantiate the BayesianOptimization object__\n",
    " - __First arguement is the function that declares a xgb classifier with certain set of hyper parameters__\n",
    " - __Second arguement is the set of hyper parameter bounds__"
   ]
  },
  {
   "cell_type": "code",
   "execution_count": 61,
   "metadata": {
    "ExecuteTime": {
     "end_time": "2020-05-20T14:55:09.846501Z",
     "start_time": "2020-05-20T14:55:09.841515Z"
    }
   },
   "outputs": [],
   "source": [
    "optimizer = BayesianOptimization(\n",
    "    f=xgboost_hyper_param,\n",
    "    pbounds=pbounds,\n",
    "    random_state=1)"
   ]
  },
  {
   "cell_type": "markdown",
   "metadata": {},
   "source": [
    " - __Create 100 bayesian steps of optimization and 8 steps of random exploration__"
   ]
  },
  {
   "cell_type": "code",
   "execution_count": 62,
   "metadata": {
    "ExecuteTime": {
     "end_time": "2020-05-20T16:33:01.913330Z",
     "start_time": "2020-05-20T14:55:13.586858Z"
    }
   },
   "outputs": [
    {
     "name": "stdout",
     "output_type": "stream",
     "text": [
      "|   iter    |  target   | childw... | colsample |   gamma   | learni... | max_depth | n_esti... |\n",
      "-------------------------------------------------------------------------------------------------\n",
      "| \u001b[0m 1       \u001b[0m | \u001b[0m 0.9901  \u001b[0m | \u001b[0m 3.085   \u001b[0m | \u001b[0m 0.7483  \u001b[0m | \u001b[0m 0.000571\u001b[0m | \u001b[0m 0.3093  \u001b[0m | \u001b[0m 5.495   \u001b[0m | \u001b[0m 183.1   \u001b[0m |\n",
      "| \u001b[0m 2       \u001b[0m | \u001b[0m 0.99    \u001b[0m | \u001b[0m 1.931   \u001b[0m | \u001b[0m 0.411   \u001b[0m | \u001b[0m 1.984   \u001b[0m | \u001b[0m 0.5434  \u001b[0m | \u001b[0m 10.13   \u001b[0m | \u001b[0m 716.7   \u001b[0m |\n",
      "| \u001b[95m 3       \u001b[0m | \u001b[95m 0.9909  \u001b[0m | \u001b[95m 2.022   \u001b[0m | \u001b[95m 0.8903  \u001b[0m | \u001b[95m 0.1369  \u001b[0m | \u001b[95m 0.6738  \u001b[0m | \u001b[95m 10.09   \u001b[0m | \u001b[95m 602.8   \u001b[0m |\n",
      "| \u001b[0m 4       \u001b[0m | \u001b[0m 0.9894  \u001b[0m | \u001b[0m 1.702   \u001b[0m | \u001b[0m 0.2783  \u001b[0m | \u001b[0m 4.004   \u001b[0m | \u001b[0m 0.9686  \u001b[0m | \u001b[0m 8.328   \u001b[0m | \u001b[0m 723.1   \u001b[0m |\n",
      "| \u001b[0m 5       \u001b[0m | \u001b[0m 0.99    \u001b[0m | \u001b[0m 5.382   \u001b[0m | \u001b[0m 0.9051  \u001b[0m | \u001b[0m 0.4252  \u001b[0m | \u001b[0m 0.04866 \u001b[0m | \u001b[0m 5.887   \u001b[0m | \u001b[0m 890.3   \u001b[0m |\n",
      "| \u001b[0m 6       \u001b[0m | \u001b[0m 0.9893  \u001b[0m | \u001b[0m 1.492   \u001b[0m | \u001b[0m 0.479   \u001b[0m | \u001b[0m 4.789   \u001b[0m | \u001b[0m 0.5378  \u001b[0m | \u001b[0m 14.76   \u001b[0m | \u001b[0m 384.0   \u001b[0m |\n",
      "| \u001b[0m 7       \u001b[0m | \u001b[0m 0.9897  \u001b[0m | \u001b[0m 4.433   \u001b[0m | \u001b[0m 0.8512  \u001b[0m | \u001b[0m 0.09144 \u001b[0m | \u001b[0m 0.7526  \u001b[0m | \u001b[0m 19.81   \u001b[0m | \u001b[0m 773.3   \u001b[0m |\n",
      "| \u001b[0m 8       \u001b[0m | \u001b[0m 0.9904  \u001b[0m | \u001b[0m 2.402   \u001b[0m | \u001b[0m 0.8104  \u001b[0m | \u001b[0m 0.5161  \u001b[0m | \u001b[0m 0.4534  \u001b[0m | \u001b[0m 18.45   \u001b[0m | \u001b[0m 364.3   \u001b[0m |\n",
      "| \u001b[0m 9       \u001b[0m | \u001b[0m 0.9896  \u001b[0m | \u001b[0m 4.855   \u001b[0m | \u001b[0m 0.3485  \u001b[0m | \u001b[0m 0.978   \u001b[0m | \u001b[0m 0.8851  \u001b[0m | \u001b[0m 3.895   \u001b[0m | \u001b[0m 100.6   \u001b[0m |\n",
      "| \u001b[0m 10      \u001b[0m | \u001b[0m 0.9903  \u001b[0m | \u001b[0m 2.719   \u001b[0m | \u001b[0m 0.9553  \u001b[0m | \u001b[0m 0.9541  \u001b[0m | \u001b[0m 0.05328 \u001b[0m | \u001b[0m 3.31    \u001b[0m | \u001b[0m 998.5   \u001b[0m |\n",
      "| \u001b[0m 11      \u001b[0m | \u001b[0m 0.9889  \u001b[0m | \u001b[0m 3.51    \u001b[0m | \u001b[0m 0.1089  \u001b[0m | \u001b[0m 1.262   \u001b[0m | \u001b[0m 0.272   \u001b[0m | \u001b[0m 19.59   \u001b[0m | \u001b[0m 999.6   \u001b[0m |\n",
      "| \u001b[0m 12      \u001b[0m | \u001b[0m 0.9909  \u001b[0m | \u001b[0m 1.111   \u001b[0m | \u001b[0m 0.3912  \u001b[0m | \u001b[0m 0.9259  \u001b[0m | \u001b[0m 0.4488  \u001b[0m | \u001b[0m 3.569   \u001b[0m | \u001b[0m 100.8   \u001b[0m |\n",
      "| \u001b[0m 13      \u001b[0m | \u001b[0m 0.9907  \u001b[0m | \u001b[0m 2.046   \u001b[0m | \u001b[0m 0.8232  \u001b[0m | \u001b[0m 0.02458 \u001b[0m | \u001b[0m 0.189   \u001b[0m | \u001b[0m 19.61   \u001b[0m | \u001b[0m 100.2   \u001b[0m |\n",
      "| \u001b[0m 14      \u001b[0m | \u001b[0m 0.99    \u001b[0m | \u001b[0m 2.831   \u001b[0m | \u001b[0m 0.6978  \u001b[0m | \u001b[0m 2.908   \u001b[0m | \u001b[0m 0.9411  \u001b[0m | \u001b[0m 3.001   \u001b[0m | \u001b[0m 100.5   \u001b[0m |\n",
      "| \u001b[0m 15      \u001b[0m | \u001b[0m 0.9899  \u001b[0m | \u001b[0m 4.604   \u001b[0m | \u001b[0m 0.8083  \u001b[0m | \u001b[0m 1.238   \u001b[0m | \u001b[0m 0.5652  \u001b[0m | \u001b[0m 19.93   \u001b[0m | \u001b[0m 100.2   \u001b[0m |\n",
      "| \u001b[0m 16      \u001b[0m | \u001b[0m 0.9899  \u001b[0m | \u001b[0m 2.86    \u001b[0m | \u001b[0m 0.6791  \u001b[0m | \u001b[0m 2.194   \u001b[0m | \u001b[0m 0.4821  \u001b[0m | \u001b[0m 3.335   \u001b[0m | \u001b[0m 104.2   \u001b[0m |\n",
      "| \u001b[0m 17      \u001b[0m | \u001b[0m 0.9867  \u001b[0m | \u001b[0m 4.17    \u001b[0m | \u001b[0m 0.3557  \u001b[0m | \u001b[0m 3.965   \u001b[0m | \u001b[0m 0.05919 \u001b[0m | \u001b[0m 19.9    \u001b[0m | \u001b[0m 100.4   \u001b[0m |\n",
      "| \u001b[0m 18      \u001b[0m | \u001b[0m 0.9909  \u001b[0m | \u001b[0m 2.274   \u001b[0m | \u001b[0m 0.8598  \u001b[0m | \u001b[0m 0.0172  \u001b[0m | \u001b[0m 0.1004  \u001b[0m | \u001b[0m 3.56    \u001b[0m | \u001b[0m 998.8   \u001b[0m |\n",
      "| \u001b[0m 19      \u001b[0m | \u001b[0m 0.9903  \u001b[0m | \u001b[0m 5.574   \u001b[0m | \u001b[0m 0.5669  \u001b[0m | \u001b[0m 0.4024  \u001b[0m | \u001b[0m 0.2976  \u001b[0m | \u001b[0m 3.163   \u001b[0m | \u001b[0m 997.7   \u001b[0m |\n",
      "| \u001b[0m 20      \u001b[0m | \u001b[0m 0.9899  \u001b[0m | \u001b[0m 4.931   \u001b[0m | \u001b[0m 0.9351  \u001b[0m | \u001b[0m 3.3     \u001b[0m | \u001b[0m 0.8712  \u001b[0m | \u001b[0m 3.234   \u001b[0m | \u001b[0m 998.4   \u001b[0m |\n",
      "| \u001b[0m 21      \u001b[0m | \u001b[0m 0.9901  \u001b[0m | \u001b[0m 2.114   \u001b[0m | \u001b[0m 0.9589  \u001b[0m | \u001b[0m 0.7298  \u001b[0m | \u001b[0m 0.6728  \u001b[0m | \u001b[0m 3.036   \u001b[0m | \u001b[0m 997.7   \u001b[0m |\n",
      "| \u001b[0m 22      \u001b[0m | \u001b[0m 0.9897  \u001b[0m | \u001b[0m 2.066   \u001b[0m | \u001b[0m 0.9053  \u001b[0m | \u001b[0m 4.73    \u001b[0m | \u001b[0m 0.9257  \u001b[0m | \u001b[0m 3.796   \u001b[0m | \u001b[0m 996.7   \u001b[0m |\n",
      "| \u001b[0m 23      \u001b[0m | \u001b[0m 0.9901  \u001b[0m | \u001b[0m 2.024   \u001b[0m | \u001b[0m 0.8584  \u001b[0m | \u001b[0m 0.2641  \u001b[0m | \u001b[0m 0.9189  \u001b[0m | \u001b[0m 3.419   \u001b[0m | \u001b[0m 996.5   \u001b[0m |\n",
      "| \u001b[95m 24      \u001b[0m | \u001b[95m 0.9914  \u001b[0m | \u001b[95m 1.453   \u001b[0m | \u001b[95m 0.8284  \u001b[0m | \u001b[95m 0.2098  \u001b[0m | \u001b[95m 0.1121  \u001b[0m | \u001b[95m 3.134   \u001b[0m | \u001b[95m 999.1   \u001b[0m |\n",
      "| \u001b[0m 25      \u001b[0m | \u001b[0m 0.9894  \u001b[0m | \u001b[0m 5.903   \u001b[0m | \u001b[0m 0.3613  \u001b[0m | \u001b[0m 0.865   \u001b[0m | \u001b[0m 0.2569  \u001b[0m | \u001b[0m 19.91   \u001b[0m | \u001b[0m 996.0   \u001b[0m |\n",
      "| \u001b[0m 26      \u001b[0m | \u001b[0m 0.9899  \u001b[0m | \u001b[0m 1.98    \u001b[0m | \u001b[0m 0.6058  \u001b[0m | \u001b[0m 1.523   \u001b[0m | \u001b[0m 0.4644  \u001b[0m | \u001b[0m 19.62   \u001b[0m | \u001b[0m 997.7   \u001b[0m |\n",
      "| \u001b[0m 27      \u001b[0m | \u001b[0m 0.9901  \u001b[0m | \u001b[0m 4.568   \u001b[0m | \u001b[0m 0.8991  \u001b[0m | \u001b[0m 3.816   \u001b[0m | \u001b[0m 0.9517  \u001b[0m | \u001b[0m 3.167   \u001b[0m | \u001b[0m 103.7   \u001b[0m |\n",
      "| \u001b[0m 28      \u001b[0m | \u001b[0m 0.9889  \u001b[0m | \u001b[0m 5.965   \u001b[0m | \u001b[0m 0.1692  \u001b[0m | \u001b[0m 3.479   \u001b[0m | \u001b[0m 0.08777 \u001b[0m | \u001b[0m 3.239   \u001b[0m | \u001b[0m 999.7   \u001b[0m |\n",
      "| \u001b[0m 29      \u001b[0m | \u001b[0m 0.99    \u001b[0m | \u001b[0m 1.87    \u001b[0m | \u001b[0m 0.6386  \u001b[0m | \u001b[0m 2.007   \u001b[0m | \u001b[0m 0.9455  \u001b[0m | \u001b[0m 3.123   \u001b[0m | \u001b[0m 105.5   \u001b[0m |\n",
      "| \u001b[0m 30      \u001b[0m | \u001b[0m 0.9901  \u001b[0m | \u001b[0m 1.837   \u001b[0m | \u001b[0m 0.3432  \u001b[0m | \u001b[0m 1.821   \u001b[0m | \u001b[0m 0.2799  \u001b[0m | \u001b[0m 3.061   \u001b[0m | \u001b[0m 112.1   \u001b[0m |\n",
      "| \u001b[0m 31      \u001b[0m | \u001b[0m 0.9843  \u001b[0m | \u001b[0m 1.706   \u001b[0m | \u001b[0m 0.4001  \u001b[0m | \u001b[0m 0.9957  \u001b[0m | \u001b[0m 0.02054 \u001b[0m | \u001b[0m 3.088   \u001b[0m | \u001b[0m 102.0   \u001b[0m |\n",
      "| \u001b[0m 32      \u001b[0m | \u001b[0m 0.9891  \u001b[0m | \u001b[0m 1.201   \u001b[0m | \u001b[0m 0.6952  \u001b[0m | \u001b[0m 3.596   \u001b[0m | \u001b[0m 0.9717  \u001b[0m | \u001b[0m 19.77   \u001b[0m | \u001b[0m 997.1   \u001b[0m |\n",
      "| \u001b[0m 33      \u001b[0m | \u001b[0m 0.9897  \u001b[0m | \u001b[0m 4.175   \u001b[0m | \u001b[0m 0.6156  \u001b[0m | \u001b[0m 4.415   \u001b[0m | \u001b[0m 0.3623  \u001b[0m | \u001b[0m 19.69   \u001b[0m | \u001b[0m 998.9   \u001b[0m |\n",
      "| \u001b[0m 34      \u001b[0m | \u001b[0m 0.9897  \u001b[0m | \u001b[0m 5.545   \u001b[0m | \u001b[0m 0.3069  \u001b[0m | \u001b[0m 0.5144  \u001b[0m | \u001b[0m 0.9732  \u001b[0m | \u001b[0m 3.36    \u001b[0m | \u001b[0m 998.1   \u001b[0m |\n",
      "| \u001b[0m 35      \u001b[0m | \u001b[0m 0.9904  \u001b[0m | \u001b[0m 4.183   \u001b[0m | \u001b[0m 0.8656  \u001b[0m | \u001b[0m 3.046   \u001b[0m | \u001b[0m 0.9356  \u001b[0m | \u001b[0m 19.72   \u001b[0m | \u001b[0m 999.0   \u001b[0m |\n",
      "| \u001b[0m 36      \u001b[0m | \u001b[0m 0.9896  \u001b[0m | \u001b[0m 5.844   \u001b[0m | \u001b[0m 0.6488  \u001b[0m | \u001b[0m 4.624   \u001b[0m | \u001b[0m 0.8273  \u001b[0m | \u001b[0m 19.86   \u001b[0m | \u001b[0m 999.6   \u001b[0m |\n",
      "| \u001b[0m 37      \u001b[0m | \u001b[0m 0.9906  \u001b[0m | \u001b[0m 5.72    \u001b[0m | \u001b[0m 0.9523  \u001b[0m | \u001b[0m 0.6368  \u001b[0m | \u001b[0m 0.9093  \u001b[0m | \u001b[0m 3.576   \u001b[0m | \u001b[0m 989.7   \u001b[0m |\n",
      "| \u001b[0m 38      \u001b[0m | \u001b[0m 0.9887  \u001b[0m | \u001b[0m 4.723   \u001b[0m | \u001b[0m 0.4329  \u001b[0m | \u001b[0m 4.442   \u001b[0m | \u001b[0m 0.8958  \u001b[0m | \u001b[0m 3.135   \u001b[0m | \u001b[0m 992.2   \u001b[0m |\n",
      "| \u001b[0m 39      \u001b[0m | \u001b[0m 0.9893  \u001b[0m | \u001b[0m 4.379   \u001b[0m | \u001b[0m 0.7225  \u001b[0m | \u001b[0m 4.932   \u001b[0m | \u001b[0m 0.2917  \u001b[0m | \u001b[0m 19.38   \u001b[0m | \u001b[0m 996.0   \u001b[0m |\n",
      "| \u001b[0m 40      \u001b[0m | \u001b[0m 0.9896  \u001b[0m | \u001b[0m 1.036   \u001b[0m | \u001b[0m 0.4357  \u001b[0m | \u001b[0m 4.481   \u001b[0m | \u001b[0m 0.7076  \u001b[0m | \u001b[0m 3.374   \u001b[0m | \u001b[0m 991.8   \u001b[0m |\n",
      "| \u001b[0m 41      \u001b[0m | \u001b[0m 0.9897  \u001b[0m | \u001b[0m 2.851   \u001b[0m | \u001b[0m 0.4135  \u001b[0m | \u001b[0m 0.1058  \u001b[0m | \u001b[0m 0.6345  \u001b[0m | \u001b[0m 19.77   \u001b[0m | \u001b[0m 995.2   \u001b[0m |\n",
      "| \u001b[0m 42      \u001b[0m | \u001b[0m 0.9897  \u001b[0m | \u001b[0m 1.069   \u001b[0m | \u001b[0m 0.5467  \u001b[0m | \u001b[0m 0.3146  \u001b[0m | \u001b[0m 0.276   \u001b[0m | \u001b[0m 19.9    \u001b[0m | \u001b[0m 107.7   \u001b[0m |\n",
      "| \u001b[0m 43      \u001b[0m | \u001b[0m 0.99    \u001b[0m | \u001b[0m 1.193   \u001b[0m | \u001b[0m 0.4783  \u001b[0m | \u001b[0m 0.6635  \u001b[0m | \u001b[0m 0.8673  \u001b[0m | \u001b[0m 3.189   \u001b[0m | \u001b[0m 997.8   \u001b[0m |\n",
      "| \u001b[0m 44      \u001b[0m | \u001b[0m 0.99    \u001b[0m | \u001b[0m 5.702   \u001b[0m | \u001b[0m 0.8883  \u001b[0m | \u001b[0m 4.769   \u001b[0m | \u001b[0m 0.4084  \u001b[0m | \u001b[0m 19.76   \u001b[0m | \u001b[0m 112.4   \u001b[0m |\n",
      "| \u001b[0m 45      \u001b[0m | \u001b[0m 0.9904  \u001b[0m | \u001b[0m 1.9     \u001b[0m | \u001b[0m 0.8726  \u001b[0m | \u001b[0m 0.1275  \u001b[0m | \u001b[0m 0.8092  \u001b[0m | \u001b[0m 19.6    \u001b[0m | \u001b[0m 997.6   \u001b[0m |\n",
      "| \u001b[0m 46      \u001b[0m | \u001b[0m 0.9903  \u001b[0m | \u001b[0m 1.004   \u001b[0m | \u001b[0m 0.3482  \u001b[0m | \u001b[0m 1.712   \u001b[0m | \u001b[0m 0.6722  \u001b[0m | \u001b[0m 3.071   \u001b[0m | \u001b[0m 987.0   \u001b[0m |\n",
      "| \u001b[0m 47      \u001b[0m | \u001b[0m 0.9896  \u001b[0m | \u001b[0m 1.444   \u001b[0m | \u001b[0m 0.5647  \u001b[0m | \u001b[0m 4.948   \u001b[0m | \u001b[0m 0.4803  \u001b[0m | \u001b[0m 19.88   \u001b[0m | \u001b[0m 997.0   \u001b[0m |\n",
      "| \u001b[0m 48      \u001b[0m | \u001b[0m 0.9891  \u001b[0m | \u001b[0m 2.485   \u001b[0m | \u001b[0m 0.1007  \u001b[0m | \u001b[0m 4.657   \u001b[0m | \u001b[0m 0.8772  \u001b[0m | \u001b[0m 3.137   \u001b[0m | \u001b[0m 100.5   \u001b[0m |\n",
      "| \u001b[0m 49      \u001b[0m | \u001b[0m 0.9891  \u001b[0m | \u001b[0m 1.008   \u001b[0m | \u001b[0m 0.4897  \u001b[0m | \u001b[0m 0.9665  \u001b[0m | \u001b[0m 0.01789 \u001b[0m | \u001b[0m 19.84   \u001b[0m | \u001b[0m 994.4   \u001b[0m |\n",
      "| \u001b[0m 50      \u001b[0m | \u001b[0m 0.989   \u001b[0m | \u001b[0m 5.172   \u001b[0m | \u001b[0m 0.418   \u001b[0m | \u001b[0m 0.6077  \u001b[0m | \u001b[0m 0.1286  \u001b[0m | \u001b[0m 19.44   \u001b[0m | \u001b[0m 101.0   \u001b[0m |\n"
     ]
    },
    {
     "name": "stdout",
     "output_type": "stream",
     "text": [
      "| \u001b[0m 51      \u001b[0m | \u001b[0m 0.9887  \u001b[0m | \u001b[0m 5.567   \u001b[0m | \u001b[0m 0.3746  \u001b[0m | \u001b[0m 4.755   \u001b[0m | \u001b[0m 0.7435  \u001b[0m | \u001b[0m 3.092   \u001b[0m | \u001b[0m 989.6   \u001b[0m |\n",
      "| \u001b[0m 52      \u001b[0m | \u001b[0m 0.9893  \u001b[0m | \u001b[0m 5.871   \u001b[0m | \u001b[0m 0.1137  \u001b[0m | \u001b[0m 0.6427  \u001b[0m | \u001b[0m 0.931   \u001b[0m | \u001b[0m 3.056   \u001b[0m | \u001b[0m 106.6   \u001b[0m |\n",
      "| \u001b[0m 53      \u001b[0m | \u001b[0m 0.989   \u001b[0m | \u001b[0m 4.562   \u001b[0m | \u001b[0m 0.4366  \u001b[0m | \u001b[0m 1.244   \u001b[0m | \u001b[0m 0.3326  \u001b[0m | \u001b[0m 19.64   \u001b[0m | \u001b[0m 991.3   \u001b[0m |\n",
      "| \u001b[0m 54      \u001b[0m | \u001b[0m 0.9893  \u001b[0m | \u001b[0m 4.717   \u001b[0m | \u001b[0m 0.5779  \u001b[0m | \u001b[0m 3.76    \u001b[0m | \u001b[0m 0.2224  \u001b[0m | \u001b[0m 19.9    \u001b[0m | \u001b[0m 102.8   \u001b[0m |\n",
      "| \u001b[0m 55      \u001b[0m | \u001b[0m 0.9893  \u001b[0m | \u001b[0m 5.689   \u001b[0m | \u001b[0m 0.9579  \u001b[0m | \u001b[0m 3.596   \u001b[0m | \u001b[0m 0.9672  \u001b[0m | \u001b[0m 3.539   \u001b[0m | \u001b[0m 998.8   \u001b[0m |\n",
      "| \u001b[0m 56      \u001b[0m | \u001b[0m 0.9897  \u001b[0m | \u001b[0m 5.555   \u001b[0m | \u001b[0m 0.6261  \u001b[0m | \u001b[0m 3.246   \u001b[0m | \u001b[0m 0.8636  \u001b[0m | \u001b[0m 19.93   \u001b[0m | \u001b[0m 102.1   \u001b[0m |\n",
      "| \u001b[0m 57      \u001b[0m | \u001b[0m 0.989   \u001b[0m | \u001b[0m 3.614   \u001b[0m | \u001b[0m 0.3982  \u001b[0m | \u001b[0m 4.507   \u001b[0m | \u001b[0m 0.8823  \u001b[0m | \u001b[0m 3.01    \u001b[0m | \u001b[0m 110.2   \u001b[0m |\n",
      "| \u001b[0m 58      \u001b[0m | \u001b[0m 0.9903  \u001b[0m | \u001b[0m 1.461   \u001b[0m | \u001b[0m 0.3807  \u001b[0m | \u001b[0m 0.8085  \u001b[0m | \u001b[0m 0.01768 \u001b[0m | \u001b[0m 3.173   \u001b[0m | \u001b[0m 996.5   \u001b[0m |\n",
      "| \u001b[0m 59      \u001b[0m | \u001b[0m 0.9884  \u001b[0m | \u001b[0m 1.913   \u001b[0m | \u001b[0m 0.1125  \u001b[0m | \u001b[0m 0.2795  \u001b[0m | \u001b[0m 0.3314  \u001b[0m | \u001b[0m 19.79   \u001b[0m | \u001b[0m 994.7   \u001b[0m |\n",
      "| \u001b[0m 60      \u001b[0m | \u001b[0m 0.9907  \u001b[0m | \u001b[0m 1.075   \u001b[0m | \u001b[0m 0.6709  \u001b[0m | \u001b[0m 1.289   \u001b[0m | \u001b[0m 0.7876  \u001b[0m | \u001b[0m 3.209   \u001b[0m | \u001b[0m 107.4   \u001b[0m |\n",
      "| \u001b[0m 61      \u001b[0m | \u001b[0m 0.9909  \u001b[0m | \u001b[0m 1.472   \u001b[0m | \u001b[0m 0.528   \u001b[0m | \u001b[0m 0.1217  \u001b[0m | \u001b[0m 0.4925  \u001b[0m | \u001b[0m 3.308   \u001b[0m | \u001b[0m 107.9   \u001b[0m |\n",
      "| \u001b[0m 62      \u001b[0m | \u001b[0m 0.9897  \u001b[0m | \u001b[0m 1.034   \u001b[0m | \u001b[0m 0.5251  \u001b[0m | \u001b[0m 1.829   \u001b[0m | \u001b[0m 0.8462  \u001b[0m | \u001b[0m 3.022   \u001b[0m | \u001b[0m 114.7   \u001b[0m |\n",
      "| \u001b[0m 63      \u001b[0m | \u001b[0m 0.9896  \u001b[0m | \u001b[0m 4.322   \u001b[0m | \u001b[0m 0.4326  \u001b[0m | \u001b[0m 0.2914  \u001b[0m | \u001b[0m 0.362   \u001b[0m | \u001b[0m 4.394   \u001b[0m | \u001b[0m 102.8   \u001b[0m |\n",
      "| \u001b[0m 64      \u001b[0m | \u001b[0m 0.9893  \u001b[0m | \u001b[0m 2.03    \u001b[0m | \u001b[0m 0.3235  \u001b[0m | \u001b[0m 0.2398  \u001b[0m | \u001b[0m 0.601   \u001b[0m | \u001b[0m 19.42   \u001b[0m | \u001b[0m 100.2   \u001b[0m |\n",
      "| \u001b[0m 65      \u001b[0m | \u001b[0m 0.9903  \u001b[0m | \u001b[0m 3.565   \u001b[0m | \u001b[0m 0.936   \u001b[0m | \u001b[0m 1.312   \u001b[0m | \u001b[0m 0.03938 \u001b[0m | \u001b[0m 3.046   \u001b[0m | \u001b[0m 992.1   \u001b[0m |\n",
      "| \u001b[0m 66      \u001b[0m | \u001b[0m 0.9889  \u001b[0m | \u001b[0m 5.714   \u001b[0m | \u001b[0m 0.7508  \u001b[0m | \u001b[0m 4.715   \u001b[0m | \u001b[0m 0.7738  \u001b[0m | \u001b[0m 3.36    \u001b[0m | \u001b[0m 993.4   \u001b[0m |\n",
      "| \u001b[0m 67      \u001b[0m | \u001b[0m 0.9903  \u001b[0m | \u001b[0m 1.071   \u001b[0m | \u001b[0m 0.8718  \u001b[0m | \u001b[0m 0.1235  \u001b[0m | \u001b[0m 0.4084  \u001b[0m | \u001b[0m 19.57   \u001b[0m | \u001b[0m 130.3   \u001b[0m |\n",
      "| \u001b[0m 68      \u001b[0m | \u001b[0m 0.9894  \u001b[0m | \u001b[0m 5.859   \u001b[0m | \u001b[0m 0.3157  \u001b[0m | \u001b[0m 1.679   \u001b[0m | \u001b[0m 0.1088  \u001b[0m | \u001b[0m 19.94   \u001b[0m | \u001b[0m 991.3   \u001b[0m |\n",
      "| \u001b[0m 69      \u001b[0m | \u001b[0m 0.9886  \u001b[0m | \u001b[0m 5.694   \u001b[0m | \u001b[0m 0.2032  \u001b[0m | \u001b[0m 4.976   \u001b[0m | \u001b[0m 0.314   \u001b[0m | \u001b[0m 3.546   \u001b[0m | \u001b[0m 101.8   \u001b[0m |\n",
      "| \u001b[0m 70      \u001b[0m | \u001b[0m 0.9904  \u001b[0m | \u001b[0m 1.404   \u001b[0m | \u001b[0m 0.8483  \u001b[0m | \u001b[0m 1.245   \u001b[0m | \u001b[0m 0.1436  \u001b[0m | \u001b[0m 19.93   \u001b[0m | \u001b[0m 995.9   \u001b[0m |\n",
      "| \u001b[0m 71      \u001b[0m | \u001b[0m 0.99    \u001b[0m | \u001b[0m 1.273   \u001b[0m | \u001b[0m 0.5056  \u001b[0m | \u001b[0m 3.236   \u001b[0m | \u001b[0m 0.2909  \u001b[0m | \u001b[0m 19.67   \u001b[0m | \u001b[0m 107.5   \u001b[0m |\n",
      "| \u001b[0m 72      \u001b[0m | \u001b[0m 0.9896  \u001b[0m | \u001b[0m 2.297   \u001b[0m | \u001b[0m 0.1553  \u001b[0m | \u001b[0m 3.732   \u001b[0m | \u001b[0m 0.9089  \u001b[0m | \u001b[0m 3.503   \u001b[0m | \u001b[0m 998.7   \u001b[0m |\n",
      "| \u001b[0m 73      \u001b[0m | \u001b[0m 0.9893  \u001b[0m | \u001b[0m 1.061   \u001b[0m | \u001b[0m 0.2954  \u001b[0m | \u001b[0m 1.687   \u001b[0m | \u001b[0m 0.4394  \u001b[0m | \u001b[0m 19.89   \u001b[0m | \u001b[0m 104.0   \u001b[0m |\n",
      "| \u001b[0m 74      \u001b[0m | \u001b[0m 0.9897  \u001b[0m | \u001b[0m 4.617   \u001b[0m | \u001b[0m 0.7095  \u001b[0m | \u001b[0m 1.954   \u001b[0m | \u001b[0m 0.1487  \u001b[0m | \u001b[0m 3.456   \u001b[0m | \u001b[0m 992.8   \u001b[0m |\n",
      "| \u001b[0m 75      \u001b[0m | \u001b[0m 0.9899  \u001b[0m | \u001b[0m 5.033   \u001b[0m | \u001b[0m 0.6718  \u001b[0m | \u001b[0m 3.81    \u001b[0m | \u001b[0m 0.5248  \u001b[0m | \u001b[0m 3.043   \u001b[0m | \u001b[0m 985.1   \u001b[0m |\n",
      "| \u001b[0m 76      \u001b[0m | \u001b[0m 0.9896  \u001b[0m | \u001b[0m 2.095   \u001b[0m | \u001b[0m 0.6568  \u001b[0m | \u001b[0m 2.112   \u001b[0m | \u001b[0m 0.3399  \u001b[0m | \u001b[0m 20.0    \u001b[0m | \u001b[0m 971.5   \u001b[0m |\n",
      "| \u001b[0m 77      \u001b[0m | \u001b[0m 0.9897  \u001b[0m | \u001b[0m 5.762   \u001b[0m | \u001b[0m 0.8514  \u001b[0m | \u001b[0m 0.112   \u001b[0m | \u001b[0m 0.7015  \u001b[0m | \u001b[0m 19.61   \u001b[0m | \u001b[0m 989.1   \u001b[0m |\n",
      "| \u001b[0m 78      \u001b[0m | \u001b[0m 0.989   \u001b[0m | \u001b[0m 5.892   \u001b[0m | \u001b[0m 0.3469  \u001b[0m | \u001b[0m 2.315   \u001b[0m | \u001b[0m 0.1716  \u001b[0m | \u001b[0m 19.47   \u001b[0m | \u001b[0m 101.1   \u001b[0m |\n",
      "| \u001b[0m 79      \u001b[0m | \u001b[0m 0.9903  \u001b[0m | \u001b[0m 1.252   \u001b[0m | \u001b[0m 0.9175  \u001b[0m | \u001b[0m 1.727   \u001b[0m | \u001b[0m 0.1608  \u001b[0m | \u001b[0m 3.525   \u001b[0m | \u001b[0m 999.7   \u001b[0m |\n",
      "| \u001b[0m 80      \u001b[0m | \u001b[0m 0.9877  \u001b[0m | \u001b[0m 5.141   \u001b[0m | \u001b[0m 0.1753  \u001b[0m | \u001b[0m 0.07238 \u001b[0m | \u001b[0m 0.2936  \u001b[0m | \u001b[0m 19.39   \u001b[0m | \u001b[0m 989.3   \u001b[0m |\n",
      "| \u001b[0m 81      \u001b[0m | \u001b[0m 0.9894  \u001b[0m | \u001b[0m 5.822   \u001b[0m | \u001b[0m 0.1067  \u001b[0m | \u001b[0m 0.7413  \u001b[0m | \u001b[0m 0.5901  \u001b[0m | \u001b[0m 3.156   \u001b[0m | \u001b[0m 104.3   \u001b[0m |\n",
      "| \u001b[0m 82      \u001b[0m | \u001b[0m 0.9904  \u001b[0m | \u001b[0m 1.525   \u001b[0m | \u001b[0m 0.7838  \u001b[0m | \u001b[0m 0.2946  \u001b[0m | \u001b[0m 0.7247  \u001b[0m | \u001b[0m 3.954   \u001b[0m | \u001b[0m 998.7   \u001b[0m |\n",
      "| \u001b[0m 83      \u001b[0m | \u001b[0m 0.9913  \u001b[0m | \u001b[0m 1.084   \u001b[0m | \u001b[0m 0.6933  \u001b[0m | \u001b[0m 0.01927 \u001b[0m | \u001b[0m 0.3772  \u001b[0m | \u001b[0m 3.343   \u001b[0m | \u001b[0m 100.8   \u001b[0m |\n",
      "| \u001b[0m 84      \u001b[0m | \u001b[0m 0.99    \u001b[0m | \u001b[0m 4.572   \u001b[0m | \u001b[0m 0.6453  \u001b[0m | \u001b[0m 1.704   \u001b[0m | \u001b[0m 0.2722  \u001b[0m | \u001b[0m 3.476   \u001b[0m | \u001b[0m 106.0   \u001b[0m |\n",
      "| \u001b[0m 85      \u001b[0m | \u001b[0m 0.9894  \u001b[0m | \u001b[0m 5.947   \u001b[0m | \u001b[0m 0.3175  \u001b[0m | \u001b[0m 4.068   \u001b[0m | \u001b[0m 0.5656  \u001b[0m | \u001b[0m 3.309   \u001b[0m | \u001b[0m 105.9   \u001b[0m |\n",
      "| \u001b[0m 86      \u001b[0m | \u001b[0m 0.9894  \u001b[0m | \u001b[0m 1.457   \u001b[0m | \u001b[0m 0.4877  \u001b[0m | \u001b[0m 3.33    \u001b[0m | \u001b[0m 0.1029  \u001b[0m | \u001b[0m 18.18   \u001b[0m | \u001b[0m 101.7   \u001b[0m |\n",
      "| \u001b[0m 87      \u001b[0m | \u001b[0m 0.9901  \u001b[0m | \u001b[0m 1.029   \u001b[0m | \u001b[0m 0.4302  \u001b[0m | \u001b[0m 2.499   \u001b[0m | \u001b[0m 0.4876  \u001b[0m | \u001b[0m 3.681   \u001b[0m | \u001b[0m 119.7   \u001b[0m |\n",
      "| \u001b[0m 88      \u001b[0m | \u001b[0m 0.9906  \u001b[0m | \u001b[0m 3.196   \u001b[0m | \u001b[0m 0.7009  \u001b[0m | \u001b[0m 0.6365  \u001b[0m | \u001b[0m 0.3731  \u001b[0m | \u001b[0m 3.312   \u001b[0m | \u001b[0m 985.5   \u001b[0m |\n",
      "| \u001b[0m 89      \u001b[0m | \u001b[0m 0.9913  \u001b[0m | \u001b[0m 1.739   \u001b[0m | \u001b[0m 0.6966  \u001b[0m | \u001b[0m 0.3675  \u001b[0m | \u001b[0m 0.6692  \u001b[0m | \u001b[0m 4.116   \u001b[0m | \u001b[0m 122.2   \u001b[0m |\n",
      "| \u001b[0m 90      \u001b[0m | \u001b[0m 0.9899  \u001b[0m | \u001b[0m 5.858   \u001b[0m | \u001b[0m 0.9609  \u001b[0m | \u001b[0m 4.436   \u001b[0m | \u001b[0m 0.4892  \u001b[0m | \u001b[0m 5.532   \u001b[0m | \u001b[0m 114.4   \u001b[0m |\n",
      "| \u001b[0m 91      \u001b[0m | \u001b[0m 0.9893  \u001b[0m | \u001b[0m 1.413   \u001b[0m | \u001b[0m 0.6731  \u001b[0m | \u001b[0m 3.141   \u001b[0m | \u001b[0m 0.107   \u001b[0m | \u001b[0m 3.778   \u001b[0m | \u001b[0m 108.8   \u001b[0m |\n",
      "| \u001b[0m 92      \u001b[0m | \u001b[0m 0.99    \u001b[0m | \u001b[0m 3.727   \u001b[0m | \u001b[0m 0.1849  \u001b[0m | \u001b[0m 1.515   \u001b[0m | \u001b[0m 0.2655  \u001b[0m | \u001b[0m 3.113   \u001b[0m | \u001b[0m 107.2   \u001b[0m |\n",
      "| \u001b[0m 93      \u001b[0m | \u001b[0m 0.9904  \u001b[0m | \u001b[0m 2.739   \u001b[0m | \u001b[0m 0.7437  \u001b[0m | \u001b[0m 1.996   \u001b[0m | \u001b[0m 0.05177 \u001b[0m | \u001b[0m 3.037   \u001b[0m | \u001b[0m 992.6   \u001b[0m |\n",
      "| \u001b[0m 94      \u001b[0m | \u001b[0m 0.9884  \u001b[0m | \u001b[0m 5.934   \u001b[0m | \u001b[0m 0.6502  \u001b[0m | \u001b[0m 4.868   \u001b[0m | \u001b[0m 0.2361  \u001b[0m | \u001b[0m 3.257   \u001b[0m | \u001b[0m 990.3   \u001b[0m |\n",
      "| \u001b[0m 95      \u001b[0m | \u001b[0m 0.9906  \u001b[0m | \u001b[0m 3.258   \u001b[0m | \u001b[0m 0.4627  \u001b[0m | \u001b[0m 0.03608 \u001b[0m | \u001b[0m 0.5756  \u001b[0m | \u001b[0m 4.886   \u001b[0m | \u001b[0m 996.1   \u001b[0m |\n",
      "| \u001b[0m 96      \u001b[0m | \u001b[0m 0.9897  \u001b[0m | \u001b[0m 4.555   \u001b[0m | \u001b[0m 0.5326  \u001b[0m | \u001b[0m 1.391   \u001b[0m | \u001b[0m 0.3113  \u001b[0m | \u001b[0m 3.3     \u001b[0m | \u001b[0m 104.6   \u001b[0m |\n",
      "| \u001b[0m 97      \u001b[0m | \u001b[0m 0.99    \u001b[0m | \u001b[0m 1.857   \u001b[0m | \u001b[0m 0.3489  \u001b[0m | \u001b[0m 1.151   \u001b[0m | \u001b[0m 0.1788  \u001b[0m | \u001b[0m 3.186   \u001b[0m | \u001b[0m 112.6   \u001b[0m |\n",
      "| \u001b[0m 98      \u001b[0m | \u001b[0m 0.9901  \u001b[0m | \u001b[0m 1.229   \u001b[0m | \u001b[0m 0.8711  \u001b[0m | \u001b[0m 1.821   \u001b[0m | \u001b[0m 0.06961 \u001b[0m | \u001b[0m 3.448   \u001b[0m | \u001b[0m 995.7   \u001b[0m |\n",
      "| \u001b[0m 99      \u001b[0m | \u001b[0m 0.9897  \u001b[0m | \u001b[0m 2.088   \u001b[0m | \u001b[0m 0.4644  \u001b[0m | \u001b[0m 2.883   \u001b[0m | \u001b[0m 0.432   \u001b[0m | \u001b[0m 18.76   \u001b[0m | \u001b[0m 960.5   \u001b[0m |\n",
      "| \u001b[0m 100     \u001b[0m | \u001b[0m 0.9907  \u001b[0m | \u001b[0m 1.44    \u001b[0m | \u001b[0m 0.6319  \u001b[0m | \u001b[0m 0.2048  \u001b[0m | \u001b[0m 0.8197  \u001b[0m | \u001b[0m 5.956   \u001b[0m | \u001b[0m 991.0   \u001b[0m |\n",
      "| \u001b[0m 101     \u001b[0m | \u001b[0m 0.9897  \u001b[0m | \u001b[0m 1.445   \u001b[0m | \u001b[0m 0.5615  \u001b[0m | \u001b[0m 0.9579  \u001b[0m | \u001b[0m 0.4852  \u001b[0m | \u001b[0m 5.612   \u001b[0m | \u001b[0m 991.4   \u001b[0m |\n"
     ]
    },
    {
     "name": "stdout",
     "output_type": "stream",
     "text": [
      "| \u001b[0m 102     \u001b[0m | \u001b[0m 0.9894  \u001b[0m | \u001b[0m 3.89    \u001b[0m | \u001b[0m 0.7787  \u001b[0m | \u001b[0m 4.174   \u001b[0m | \u001b[0m 0.865   \u001b[0m | \u001b[0m 3.108   \u001b[0m | \u001b[0m 986.8   \u001b[0m |\n",
      "| \u001b[0m 103     \u001b[0m | \u001b[0m 0.9899  \u001b[0m | \u001b[0m 5.153   \u001b[0m | \u001b[0m 0.2458  \u001b[0m | \u001b[0m 1.411   \u001b[0m | \u001b[0m 0.8277  \u001b[0m | \u001b[0m 17.13   \u001b[0m | \u001b[0m 127.6   \u001b[0m |\n",
      "| \u001b[0m 104     \u001b[0m | \u001b[0m 0.9913  \u001b[0m | \u001b[0m 1.354   \u001b[0m | \u001b[0m 0.4172  \u001b[0m | \u001b[0m 0.9366  \u001b[0m | \u001b[0m 0.3987  \u001b[0m | \u001b[0m 3.044   \u001b[0m | \u001b[0m 969.6   \u001b[0m |\n",
      "| \u001b[0m 105     \u001b[0m | \u001b[0m 0.991   \u001b[0m | \u001b[0m 1.579   \u001b[0m | \u001b[0m 0.7049  \u001b[0m | \u001b[0m 0.05145 \u001b[0m | \u001b[0m 0.235   \u001b[0m | \u001b[0m 3.128   \u001b[0m | \u001b[0m 531.4   \u001b[0m |\n",
      "| \u001b[0m 106     \u001b[0m | \u001b[0m 0.9909  \u001b[0m | \u001b[0m 1.194   \u001b[0m | \u001b[0m 0.8437  \u001b[0m | \u001b[0m 0.08758 \u001b[0m | \u001b[0m 0.8646  \u001b[0m | \u001b[0m 4.566   \u001b[0m | \u001b[0m 543.4   \u001b[0m |\n",
      "| \u001b[0m 107     \u001b[0m | \u001b[0m 0.9906  \u001b[0m | \u001b[0m 1.174   \u001b[0m | \u001b[0m 0.7407  \u001b[0m | \u001b[0m 0.1847  \u001b[0m | \u001b[0m 0.8905  \u001b[0m | \u001b[0m 5.776   \u001b[0m | \u001b[0m 553.9   \u001b[0m |\n",
      "| \u001b[0m 108     \u001b[0m | \u001b[0m 0.989   \u001b[0m | \u001b[0m 1.017   \u001b[0m | \u001b[0m 0.1855  \u001b[0m | \u001b[0m 0.5934  \u001b[0m | \u001b[0m 0.0391  \u001b[0m | \u001b[0m 3.114   \u001b[0m | \u001b[0m 592.0   \u001b[0m |\n",
      "=================================================================================================\n"
     ]
    }
   ],
   "source": [
    "optimizer.maximize(n_iter=100, init_points=8, acq='ei')"
   ]
  },
  {
   "cell_type": "markdown",
   "metadata": {},
   "source": [
    " - __Print the best set of hyper parameter values__"
   ]
  },
  {
   "cell_type": "code",
   "execution_count": 64,
   "metadata": {
    "ExecuteTime": {
     "end_time": "2020-05-20T16:34:05.267654Z",
     "start_time": "2020-05-20T16:34:05.261729Z"
    }
   },
   "outputs": [
    {
     "name": "stdout",
     "output_type": "stream",
     "text": [
      "{'childweight': 1.4529900447169222, 'colsample': 0.8283858724460365, 'gamma': 0.20976940564329416, 'learning_rate': 0.11214619161615742, 'max_depth': 3.1343617409832794, 'n_estimators': 999.0943020190314}\n"
     ]
    }
   ],
   "source": [
    "best_params = optimizer.max['params']\n",
    "print(best_params)"
   ]
  },
  {
   "cell_type": "code",
   "execution_count": 67,
   "metadata": {
    "ExecuteTime": {
     "end_time": "2020-05-20T16:38:49.836267Z",
     "start_time": "2020-05-20T16:38:49.831261Z"
    }
   },
   "outputs": [],
   "source": [
    "best_params['max_depth'] = int(best_params['max_depth'])\n",
    "best_params['n_estimators'] = int(best_params['n_estimators'])\n",
    "best_params['learning_rate'] = round(best_params['learning_rate'],2)\n",
    "best_params['gamma'] = round(best_params['gamma'],2)\n",
    "best_params['colsample'] = round(best_params['colsample'],2)\n",
    "best_params['childweight'] = int(best_params['childweight'])"
   ]
  },
  {
   "cell_type": "code",
   "execution_count": 68,
   "metadata": {
    "ExecuteTime": {
     "end_time": "2020-05-20T16:38:51.751334Z",
     "start_time": "2020-05-20T16:38:51.741828Z"
    }
   },
   "outputs": [
    {
     "name": "stdout",
     "output_type": "stream",
     "text": [
      "3 999 0.11 0.21 0.83 1\n"
     ]
    }
   ],
   "source": [
    "print(best_params['max_depth'], best_params['n_estimators'], best_params['learning_rate'], best_params['gamma'], best_params['colsample'],\n",
    "     best_params['childweight'])"
   ]
  },
  {
   "cell_type": "markdown",
   "metadata": {},
   "source": [
    " - __Fit the best found model using the best found hyper parameter values__"
   ]
  },
  {
   "cell_type": "code",
   "execution_count": 73,
   "metadata": {
    "ExecuteTime": {
     "end_time": "2020-05-20T16:45:44.370458Z",
     "start_time": "2020-05-20T16:45:44.363687Z"
    }
   },
   "outputs": [],
   "source": [
    "best_bayesian_estimator = xgb.XGBClassifier(objective=\"multi:softmax\",\n",
    "                                            num_class=3,\n",
    "                                            max_depth=best_params['max_depth'],\n",
    "                                            learning_rate=best_params['learning_rate'],\n",
    "                                            n_estimators=best_params['n_estimators'],\n",
    "                                            gamma=best_params['gamma'],\n",
    "                                            colsample_bytree=best_params['colsample'],\n",
    "                                            min_child_weight=best_params['childweight'])"
   ]
  },
  {
   "cell_type": "markdown",
   "metadata": {},
   "source": [
    " - __Create predictions from the best found model__"
   ]
  },
  {
   "cell_type": "code",
   "execution_count": 75,
   "metadata": {
    "ExecuteTime": {
     "end_time": "2020-05-20T16:46:47.274409Z",
     "start_time": "2020-05-20T16:46:29.394900Z"
    }
   },
   "outputs": [],
   "source": [
    "y_pred_bayesian = best_bayesian_estimator.fit(X_train, y_train).predict(X_test)"
   ]
  },
  {
   "cell_type": "markdown",
   "metadata": {},
   "source": [
    " - __Calculate Accuracy and Recall Scores__\n",
    " - __Print the respective values__\n",
    " - __Create confusion matrix and print it using heatmap__"
   ]
  },
  {
   "cell_type": "code",
   "execution_count": 76,
   "metadata": {
    "ExecuteTime": {
     "end_time": "2020-05-20T16:47:12.589697Z",
     "start_time": "2020-05-20T16:47:12.402307Z"
    }
   },
   "outputs": [
    {
     "name": "stdout",
     "output_type": "stream",
     "text": [
      "The accuracy score for the model is: 0.991\n",
      "The recall score for the model is: 0.977\n"
     ]
    },
    {
     "data": {
      "text/plain": [
       "Text(91.68, 0.5, 'Actual')"
      ]
     },
     "execution_count": 76,
     "metadata": {},
     "output_type": "execute_result"
    },
    {
     "data": {
      "image/png": "[encoded data removed]",
      "text/plain": [
       "<Figure size 432x288 with 1 Axes>"
      ]
     },
     "metadata": {
      "needs_background": "light"
     },
     "output_type": "display_data"
    }
   ],
   "source": [
    "acc = round(accuracy_score(y_test, y_pred_bayesian),3)\n",
    "rec = round(recall_score(y_test, y_pred_bayesian, average=\"macro\"), 3)\n",
    "print(\"The accuracy score for the model is: {}\".format(acc))\n",
    "print(\"The recall score for the model is: {}\".format(rec))\n",
    "met = confusion_matrix(y_test, y_pred_bayesian)\n",
    "sns.heatmap(met, square=True, annot=True, fmt=\"d\", cbar=False, xticklabels=['GALAXY', 'QSO', 'STAR'], yticklabels=['GALAXY', 'QSO', 'STAR'])\n",
    "plt.xlabel(\"Predicted\")\n",
    "plt.ylabel(\"Actual\")"
   ]
  },
  {
   "cell_type": "markdown",
   "metadata": {},
   "source": [
    " - __Useful links__"
   ]
  },
  {
   "cell_type": "markdown",
   "metadata": {},
   "source": [
    "https://github.com/fmfn/BayesianOptimization\n",
    "\n",
    "https://aiinpractice.com/xgboost-hyperparameter-tuning-with-bayesian-optimization/\n",
    "    \n",
    "https://analyticsindiamag.com/implementing-bayesian-optimization-on-xgboost-a-beginners-guide/"
   ]
  }
 ],
 "metadata": {
  "hide_input": false,
  "kernelspec": {
   "display_name": "Python 3",
   "language": "python",
   "name": "python3"
  },
  "language_info": {
   "codemirror_mode": {
    "name": "ipython",
    "version": 3
   },
   "file_extension": ".py",
   "mimetype": "text/x-python",
   "name": "python",
   "nbconvert_exporter": "python",
   "pygments_lexer": "ipython3",
   "version": "3.7.7"
  },
  "toc": {
   "base_numbering": 1,
   "nav_menu": {},
   "number_sections": true,
   "sideBar": true,
   "skip_h1_title": false,
   "title_cell": "Table of Contents",
   "title_sidebar": "Contents",
   "toc_cell": false,
   "toc_position": {},
   "toc_section_display": true,
   "toc_window_display": false
  },
  "varInspector": {
   "cols": {
    "lenName": 16,
    "lenType": 16,
    "lenVar": 40
   },
   "kernels_config": {
    "python": {
     "delete_cmd_postfix": "",
     "delete_cmd_prefix": "del ",
     "library": "var_list.py",
     "varRefreshCmd": "print(var_dic_list())"
    },
    "r": {
     "delete_cmd_postfix": ") ",
     "delete_cmd_prefix": "rm(",
     "library": "var_list.r",
     "varRefreshCmd": "cat(var_dic_list()) "
    }
   },
   "types_to_exclude": [
    "module",
    "function",
    "builtin_function_or_method",
    "instance",
    "_Feature"
   ],
   "window_display": false
  }
 },
 "nbformat": 4,
 "nbformat_minor": 4
}
