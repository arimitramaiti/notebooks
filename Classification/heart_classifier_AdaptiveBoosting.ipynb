{
 "cells": [
  {
   "cell_type": "code",
   "execution_count": 1,
   "metadata": {
    "ExecuteTime": {
     "end_time": "2020-05-15T10:16:26.519649Z",
     "start_time": "2020-05-15T10:16:24.503655Z"
    }
   },
   "outputs": [],
   "source": [
    "import numpy as np\n",
    "import pandas as pd\n",
    "import matplotlib.pyplot as plt\n",
    "import seaborn as sns\n",
    "%matplotlib inline"
   ]
  },
  {
   "cell_type": "code",
   "execution_count": 2,
   "metadata": {
    "ExecuteTime": {
     "end_time": "2020-05-15T10:16:28.696153Z",
     "start_time": "2020-05-15T10:16:28.335279Z"
    }
   },
   "outputs": [
    {
     "name": "stdout",
     "output_type": "stream",
     "text": [
      "<class 'pandas.core.frame.DataFrame'>\n",
      "RangeIndex: 303 entries, 0 to 302\n",
      "Data columns (total 14 columns):\n",
      " #   Column    Non-Null Count  Dtype  \n",
      "---  ------    --------------  -----  \n",
      " 0   age       303 non-null    int64  \n",
      " 1   sex       303 non-null    int64  \n",
      " 2   cp        303 non-null    int64  \n",
      " 3   trestbps  303 non-null    int64  \n",
      " 4   chol      303 non-null    int64  \n",
      " 5   fbs       303 non-null    int64  \n",
      " 6   restecg   303 non-null    int64  \n",
      " 7   thalach   303 non-null    int64  \n",
      " 8   exang     303 non-null    int64  \n",
      " 9   oldpeak   303 non-null    float64\n",
      " 10  slope     303 non-null    int64  \n",
      " 11  ca        303 non-null    int64  \n",
      " 12  thal      303 non-null    int64  \n",
      " 13  target    303 non-null    int64  \n",
      "dtypes: float64(1), int64(13)\n",
      "memory usage: 33.3 KB\n"
     ]
    }
   ],
   "source": [
    "url = \"https://raw.githubusercontent.com/arimitramaiti/datasets/master/Classification/heart.csv\"\n",
    "dataset = pd.read_csv(url, error_bad_lines=False, header=0, index_col=None)\n",
    "dataset.head()\n",
    "dataset.info()"
   ]
  },
  {
   "cell_type": "markdown",
   "metadata": {},
   "source": [
    " - __Replicate Feature Selection methods and create train and test sets for each method separately__"
   ]
  },
  {
   "cell_type": "code",
   "execution_count": 3,
   "metadata": {
    "ExecuteTime": {
     "end_time": "2020-05-15T10:16:32.729725Z",
     "start_time": "2020-05-15T10:16:32.697262Z"
    }
   },
   "outputs": [],
   "source": [
    "sex_dummy = pd.get_dummies(dataset.sex)\n",
    "sex_dummy.columns = [\"Male\", \"Female\"]\n",
    "\n",
    "cp_dummy = pd.get_dummies(dataset.cp)\n",
    "cp_dummy.columns = [\"cp0\", \"cp1\", \"cp2\", \"cp3\"]\n",
    "\n",
    "fbs_dummy = pd.get_dummies(dataset.fbs)\n",
    "fbs_dummy.columns = [\"fbs0\", \"fbs1\"]\n",
    "\n",
    "restecg_dummy = pd.get_dummies(dataset.restecg)\n",
    "restecg_dummy.columns = [\"restecg0\", \"restecg1\", \"restecg2\"]\n",
    "\n",
    "exang_dummy = pd.get_dummies(dataset.exang)\n",
    "exang_dummy.columns = [\"exang0\", \"exang1\"]\n",
    "\n",
    "slope_dummy = pd.get_dummies(dataset.slope)\n",
    "slope_dummy.columns = [\"slope0\", \"slope1\", \"slope2\"]\n",
    "\n",
    "ca_dummy = pd.get_dummies(dataset.ca)\n",
    "ca_dummy.columns = [\"ca0\", \"ca1\", \"ca2\", \"ca3\", \"ca4\"]\n",
    "\n",
    "thal_dummy = pd.get_dummies(dataset.thal)\n",
    "thal_dummy.columns = [\"thal0\", \"thal1\", \"thal2\", \"thal3\"]\n",
    "\n",
    "tmp = dataset[[\"target\", \"age\", \"trestbps\", \"chol\", \"thalach\", \"oldpeak\"]]\n",
    "\n",
    "onehot_data = pd.concat([tmp, sex_dummy, cp_dummy, fbs_dummy, restecg_dummy, exang_dummy, slope_dummy, ca_dummy, thal_dummy],\n",
    "                       axis=1)"
   ]
  },
  {
   "cell_type": "code",
   "execution_count": 4,
   "metadata": {
    "ExecuteTime": {
     "end_time": "2020-05-15T10:16:35.670611Z",
     "start_time": "2020-05-15T10:16:35.349633Z"
    }
   },
   "outputs": [],
   "source": [
    "from sklearn.model_selection import train_test_split\n",
    "from sklearn.feature_selection import mutual_info_classif, SelectKBest, SelectPercentile, chi2, f_classif\n",
    "from mlxtend.feature_selection import SequentialFeatureSelector as SFS\n",
    "from mlxtend.feature_selection import ExhaustiveFeatureSelector as EFS\n",
    "from mlxtend.plotting import plot_sequential_feature_selection as plot_sfs\n",
    "from sklearn.ensemble import RandomForestClassifier\n",
    "from sklearn.metrics import accuracy_score, roc_auc_score\n",
    "from sklearn.feature_selection import RFECV\n",
    "from sklearn.model_selection import StratifiedKFold"
   ]
  },
  {
   "cell_type": "code",
   "execution_count": 5,
   "metadata": {
    "ExecuteTime": {
     "end_time": "2020-05-15T10:16:38.492921Z",
     "start_time": "2020-05-15T10:16:38.478169Z"
    }
   },
   "outputs": [
    {
     "data": {
      "text/plain": [
       "((303, 30), (303,))"
      ]
     },
     "execution_count": 5,
     "metadata": {},
     "output_type": "execute_result"
    }
   ],
   "source": [
    "X = onehot_data.drop('target', axis=1)\n",
    "y = onehot_data['target']\n",
    "X.shape, y.shape"
   ]
  },
  {
   "cell_type": "code",
   "execution_count": 6,
   "metadata": {
    "ExecuteTime": {
     "end_time": "2020-05-15T10:16:40.853532Z",
     "start_time": "2020-05-15T10:16:40.849596Z"
    }
   },
   "outputs": [],
   "source": [
    "from sklearn.preprocessing import RobustScaler"
   ]
  },
  {
   "cell_type": "markdown",
   "metadata": {},
   "source": [
    " - __Perform scaling unlike Decision Tree Classifier which do not require scaling__\n",
    " - __Following scaling before train test split and feature extraction process__"
   ]
  },
  {
   "cell_type": "code",
   "execution_count": 7,
   "metadata": {
    "ExecuteTime": {
     "end_time": "2020-05-15T10:16:44.678467Z",
     "start_time": "2020-05-15T10:16:44.659695Z"
    }
   },
   "outputs": [],
   "source": [
    "vars_to_scale = X[[\"age\", \"trestbps\", \"chol\", \"thalach\", \"oldpeak\"]]\n",
    "scaler = RobustScaler()\n",
    "vars_scaled = scaler.fit_transform(vars_to_scale)\n",
    "\n",
    "vars_scaled = pd.DataFrame(vars_scaled, columns=[\"age\", \"trestbps\", \"chol\", \"thalach\", \"oldpeak\"])\n",
    "vars_original = X[X.columns.difference(vars_to_scale.columns)]\n",
    "\n",
    "X_new = pd.concat([vars_original, vars_scaled], axis=1)"
   ]
  },
  {
   "cell_type": "code",
   "execution_count": 8,
   "metadata": {
    "ExecuteTime": {
     "end_time": "2020-05-15T10:16:46.874503Z",
     "start_time": "2020-05-15T10:16:46.857569Z"
    }
   },
   "outputs": [
    {
     "name": "stdout",
     "output_type": "stream",
     "text": [
      "(242, 30) (61, 30) (242,) (61,)\n"
     ]
    }
   ],
   "source": [
    "X_train, X_test, y_train, y_test = train_test_split(X_new, y, test_size=0.2, random_state=0, stratify=y)\n",
    "X_train = X_train.reset_index(drop=True)\n",
    "X_test = X_test.reset_index(drop=True)\n",
    "print(X_train.shape, X_test.shape, y_train.shape, y_test.shape)"
   ]
  },
  {
   "cell_type": "code",
   "execution_count": 9,
   "metadata": {
    "ExecuteTime": {
     "end_time": "2020-05-15T10:16:49.280181Z",
     "start_time": "2020-05-15T10:16:49.273363Z"
    }
   },
   "outputs": [],
   "source": [
    "from sklearn.neighbors import KNeighborsClassifier\n",
    "from sklearn.svm import SVC\n",
    "from sklearn.model_selection import learning_curve\n",
    "from sklearn.metrics import recall_score, confusion_matrix\n",
    "from sklearn.model_selection import cross_val_score\n",
    "from sklearn.model_selection import GridSearchCV"
   ]
  },
  {
   "cell_type": "markdown",
   "metadata": {},
   "source": [
    "# Find SVC best parameter for X_train (without any FE method)"
   ]
  },
  {
   "cell_type": "code",
   "execution_count": 10,
   "metadata": {
    "ExecuteTime": {
     "end_time": "2020-05-15T10:17:06.592574Z",
     "start_time": "2020-05-15T10:17:06.584014Z"
    }
   },
   "outputs": [],
   "source": [
    "def svc_parameter(X_data, y_data):\n",
    "    C_val = [0.001, 0.01, 0.1, 1, 10]\n",
    "    gamma_val = [0.001, 0.01, 0.1, 1]\n",
    "    kernel_val = [\"rbf\"]\n",
    "    degree_val = [0, 1, 2, 3, 4, 5, 6]\n",
    "    param_grid = {'C': C_val, 'gamma': gamma_val, 'kernel': kernel_val, 'degree': degree_val}\n",
    "    \n",
    "    gs = GridSearchCV(SVC(), param_grid, cv=StratifiedKFold(10))\n",
    "    gs.fit(X_data, y_data)\n",
    "    gs.best_params_\n",
    "    return gs.best_params_"
   ]
  },
  {
   "cell_type": "code",
   "execution_count": 11,
   "metadata": {
    "ExecuteTime": {
     "end_time": "2020-05-15T10:17:25.435381Z",
     "start_time": "2020-05-15T10:17:09.716924Z"
    }
   },
   "outputs": [],
   "source": [
    "best_param_values = svc_parameter(X_train, y_train)"
   ]
  },
  {
   "cell_type": "code",
   "execution_count": 12,
   "metadata": {
    "ExecuteTime": {
     "end_time": "2020-05-15T10:17:33.598841Z",
     "start_time": "2020-05-15T10:17:31.993685Z"
    }
   },
   "outputs": [
    {
     "name": "stdout",
     "output_type": "stream",
     "text": [
      "The accuracy score for the model is: 0.885\n",
      "The recall score for the model is: 0.939\n",
      "The C value for the model is: 10\n",
      "The kernel value for the model is: rbf\n",
      "The degree value for the model is: 0\n",
      "The gamma value for the model is: 0.001\n"
     ]
    },
    {
     "data": {
      "image/png": "[encoded data removed]",
      "text/plain": [
       "<Figure size 864x360 with 1 Axes>"
      ]
     },
     "metadata": {
      "needs_background": "light"
     },
     "output_type": "display_data"
    },
    {
     "data": {
      "text/plain": [
       "Text(91.68, 0.5, 'Actual')"
      ]
     },
     "execution_count": 12,
     "metadata": {},
     "output_type": "execute_result"
    },
    {
     "data": {
      "image/png": "[encoded data removed]",
      "text/plain": [
       "<Figure size 432x288 with 1 Axes>"
      ]
     },
     "metadata": {
      "needs_background": "light"
     },
     "output_type": "display_data"
    }
   ],
   "source": [
    "train_size = np.linspace(0.1, 1, 10)\n",
    "    \n",
    "model = SVC(C=best_param_values['C'],\n",
    "            kernel=best_param_values['kernel'],\n",
    "            degree=best_param_values['degree'],\n",
    "            gamma=best_param_values['gamma'])\n",
    "    \n",
    "train_sizes, train_scores, validation_scores = learning_curve(estimator = model,\n",
    "                                                                X = X_train,\n",
    "                                                                y = y_train,\n",
    "                                                                train_sizes = train_size,\n",
    "                                                                cv = StratifiedKFold(10),\n",
    "                                                                scoring = 'accuracy',\n",
    "                                                                shuffle = True,\n",
    "                                                                random_state=1)\n",
    "\n",
    "train_scores_mean = train_scores.mean(axis = 1)\n",
    "validation_scores_mean = validation_scores.mean(axis = 1)\n",
    "    \n",
    "model.fit(X_train, y_train)\n",
    "y_pred = model.predict(X_test)\n",
    "acc = round(accuracy_score(y_test, y_pred),3)\n",
    "rec = round(recall_score(y_test, y_pred),3)\n",
    "   \n",
    "print(\"The accuracy score for the model is: {}\".format(acc))\n",
    "print(\"The recall score for the model is: {}\".format(rec))\n",
    "print(\"The C value for the model is: {}\".format(best_param_values['C']))\n",
    "print(\"The kernel value for the model is: {}\".format(best_param_values['kernel']))\n",
    "print(\"The degree value for the model is: {}\".format(best_param_values['degree']))\n",
    "print(\"The gamma value for the model is: {}\".format(best_param_values['gamma']))\n",
    "\n",
    "\n",
    "fig = plt.figure(figsize=(12,5))\n",
    "plt.plot(train_sizes, train_scores_mean, label = 'Training error')\n",
    "plt.plot(train_sizes, validation_scores_mean, label = 'Validation error')\n",
    "plt.ylabel('Accuracy', fontsize = 12)\n",
    "plt.xlabel('Training set size', fontsize = 12)\n",
    "plt.title('Learning curves for a SVC model & FE Method None', fontsize = 14, y = 1.03)\n",
    "plt.legend()\n",
    "plt.grid()\n",
    "plt.show()\n",
    "\n",
    "met = confusion_matrix(y_test, y_pred)\n",
    "sns.heatmap(met, square=True, annot=True, fmt=\"d\", cbar=False)\n",
    "plt.xlabel(\"Predicted\")\n",
    "plt.ylabel(\"Actual\")"
   ]
  },
  {
   "cell_type": "code",
   "execution_count": 13,
   "metadata": {
    "ExecuteTime": {
     "end_time": "2020-05-15T10:17:53.393063Z",
     "start_time": "2020-05-15T10:17:53.388107Z"
    }
   },
   "outputs": [],
   "source": [
    "from sklearn.ensemble import AdaBoostClassifier"
   ]
  },
  {
   "cell_type": "markdown",
   "metadata": {},
   "source": [
    "# Adaptive Boost Classifier for X_train (w/o any FE method)"
   ]
  },
  {
   "cell_type": "code",
   "execution_count": 21,
   "metadata": {
    "ExecuteTime": {
     "end_time": "2020-05-15T10:26:19.149828Z",
     "start_time": "2020-05-15T10:26:19.143774Z"
    }
   },
   "outputs": [],
   "source": [
    "estimator = SVC(C=best_param_values['C'],\n",
    "            kernel=best_param_values['kernel'],\n",
    "            degree=best_param_values['degree'],\n",
    "            gamma=best_param_values['gamma'],\n",
    "            probability=True)\n",
    "\n",
    "adaboost_model = AdaBoostClassifier(base_estimator=estimator,\n",
    "                                    algorithm='SAMME.R',\n",
    "                                    random_state=1)"
   ]
  },
  {
   "cell_type": "code",
   "execution_count": 28,
   "metadata": {
    "ExecuteTime": {
     "end_time": "2020-05-15T10:49:34.109317Z",
     "start_time": "2020-05-15T10:49:34.103001Z"
    }
   },
   "outputs": [],
   "source": [
    "def adaboost_parameter(X_data, y_data):\n",
    "#     n_estimators = np.arange(10,100,10)\n",
    "    n_estimators = np.arange(100,200,100)\n",
    "    learning_rate = np.arange(0.01,1,0.01)\n",
    "    param_grid = {'n_estimators': n_estimators, 'learning_rate': learning_rate}\n",
    "    \n",
    "    gs = GridSearchCV(adaboost_model, param_grid, cv=StratifiedKFold(10))\n",
    "    gs.fit(X_data, y_data)\n",
    "    gs.best_params_\n",
    "    return gs.best_params_"
   ]
  },
  {
   "cell_type": "code",
   "execution_count": 29,
   "metadata": {
    "ExecuteTime": {
     "end_time": "2020-05-15T11:37:44.226389Z",
     "start_time": "2020-05-15T10:49:39.732992Z"
    }
   },
   "outputs": [
    {
     "data": {
      "text/plain": [
       "{'learning_rate': 0.02, 'n_estimators': 100}"
      ]
     },
     "execution_count": 29,
     "metadata": {},
     "output_type": "execute_result"
    }
   ],
   "source": [
    "adaboost_parameter(X_train, y_train)"
   ]
  },
  {
   "cell_type": "code",
   "execution_count": 30,
   "metadata": {
    "ExecuteTime": {
     "end_time": "2020-05-15T11:59:59.453887Z",
     "start_time": "2020-05-15T11:59:59.448338Z"
    }
   },
   "outputs": [],
   "source": [
    "adaboost_model_best = AdaBoostClassifier(base_estimator=estimator,\n",
    "                                    algorithm='SAMME.R',\n",
    "                                    learning_rate=0.02,\n",
    "                                    n_estimators=100,\n",
    "                                    random_state=1)"
   ]
  },
  {
   "cell_type": "code",
   "execution_count": 31,
   "metadata": {
    "ExecuteTime": {
     "end_time": "2020-05-15T12:01:12.624808Z",
     "start_time": "2020-05-15T12:01:08.696027Z"
    }
   },
   "outputs": [
    {
     "name": "stdout",
     "output_type": "stream",
     "text": [
      "The accuracy score for the model is: 0.869\n",
      "The recall score for the model is: 0.909\n"
     ]
    },
    {
     "data": {
      "text/plain": [
       "Text(91.68, 0.5, 'Actual')"
      ]
     },
     "execution_count": 31,
     "metadata": {},
     "output_type": "execute_result"
    },
    {
     "data": {
      "image/png": "[encoded data removed]",
      "text/plain": [
       "<Figure size 432x288 with 1 Axes>"
      ]
     },
     "metadata": {
      "needs_background": "light"
     },
     "output_type": "display_data"
    }
   ],
   "source": [
    "adaboost_model_best.fit(X_train, y_train)\n",
    "adaboost_model_best_pred = adaboost_model_best.predict(X_test)\n",
    "acc = round(accuracy_score(y_test, adaboost_model_best_pred),3)\n",
    "rec = round(recall_score(y_test, adaboost_model_best_pred), 3)\n",
    "print(\"The accuracy score for the model is: {}\".format(acc))\n",
    "print(\"The recall score for the model is: {}\".format(rec))\n",
    "met = confusion_matrix(y_test, adaboost_model_best_pred)\n",
    "sns.heatmap(met, square=True, annot=True, fmt=\"d\", cbar=False)\n",
    "plt.xlabel(\"Predicted\")\n",
    "plt.ylabel(\"Actual\")"
   ]
  },
  {
   "cell_type": "markdown",
   "metadata": {},
   "source": [
    "# Find SVC best parameter for X_train (FE method-RFECV)"
   ]
  },
  {
   "cell_type": "code",
   "execution_count": 32,
   "metadata": {
    "ExecuteTime": {
     "end_time": "2020-05-15T12:11:04.639337Z",
     "start_time": "2020-05-15T12:09:58.808723Z"
    }
   },
   "outputs": [
    {
     "data": {
      "text/plain": [
       "((242, 26), (61, 26))"
      ]
     },
     "execution_count": 32,
     "metadata": {},
     "output_type": "execute_result"
    }
   ],
   "source": [
    "del X_train, X_test, y_train, y_test\n",
    "X_train, X_test, y_train, y_test = train_test_split(X, y, test_size=0.2, random_state=0, stratify=y)\n",
    "X_train = X_train.reset_index(drop=True)\n",
    "X_test = X_test.reset_index(drop=True)\n",
    "\n",
    "rfe = RFECV(RandomForestClassifier(n_estimators=100, random_state=0, n_jobs=-1), \n",
    "          step=1, \n",
    "          cv=StratifiedKFold(10),\n",
    "          scoring='accuracy', \n",
    "          n_jobs=-1).fit(X_train, y_train)\n",
    "\n",
    "train_copy = X_train\n",
    "test_copy = X_test\n",
    "\n",
    "train_copy.drop(train_copy.columns[np.where(rfe.support_ == False)[0]], axis=1, inplace=True)\n",
    "test_copy.drop(test_copy.columns[np.where(rfe.support_ == False)[0]], axis=1, inplace=True)\n",
    "\n",
    "X_train_rfe = pd.DataFrame(train_copy)\n",
    "X_test_rfe = pd.DataFrame(test_copy)\n",
    "X_train_rfe.shape, X_test_rfe.shape"
   ]
  },
  {
   "cell_type": "code",
   "execution_count": 34,
   "metadata": {
    "ExecuteTime": {
     "end_time": "2020-05-15T13:23:56.834079Z",
     "start_time": "2020-05-15T13:23:56.151559Z"
    }
   },
   "outputs": [
    {
     "name": "stdout",
     "output_type": "stream",
     "text": [
      "The accuracy score for the model is: 0.689\n",
      "The recall score for the model is: 0.758\n",
      "The C value for the model is: 10\n",
      "The kernel value for the model is: rbf\n",
      "The degree value for the model is: 0\n",
      "The gamma value for the model is: 0.001\n"
     ]
    },
    {
     "data": {
      "image/png": "[encoded data removed]",
      "text/plain": [
       "<Figure size 864x360 with 1 Axes>"
      ]
     },
     "metadata": {
      "needs_background": "light"
     },
     "output_type": "display_data"
    },
    {
     "data": {
      "text/plain": [
       "Text(91.68, 0.5, 'Actual')"
      ]
     },
     "execution_count": 34,
     "metadata": {},
     "output_type": "execute_result"
    },
    {
     "data": {
      "image/png": "[encoded data removed]",
      "text/plain": [
       "<Figure size 432x288 with 1 Axes>"
      ]
     },
     "metadata": {
      "needs_background": "light"
     },
     "output_type": "display_data"
    }
   ],
   "source": [
    "train_size = np.linspace(0.1, 1, 10)\n",
    "    \n",
    "model = SVC(C=best_param_values['C'],\n",
    "            kernel=best_param_values['kernel'],\n",
    "            degree=best_param_values['degree'],\n",
    "            gamma=best_param_values['gamma'])\n",
    "    \n",
    "train_sizes, train_scores, validation_scores = learning_curve(estimator = model,\n",
    "                                                                X = X_train_rfe,\n",
    "                                                                y = y_train,\n",
    "                                                                train_sizes = train_size,\n",
    "                                                                cv = StratifiedKFold(10),\n",
    "                                                                scoring = 'accuracy',\n",
    "                                                                shuffle = True,\n",
    "                                                                random_state=1)\n",
    "\n",
    "train_scores_mean = train_scores.mean(axis = 1)\n",
    "validation_scores_mean = validation_scores.mean(axis = 1)\n",
    "    \n",
    "model.fit(X_train_rfe, y_train)\n",
    "y_pred = model.predict(X_test_rfe)\n",
    "acc = round(accuracy_score(y_test, y_pred),3)\n",
    "rec = round(recall_score(y_test, y_pred),3)\n",
    "   \n",
    "print(\"The accuracy score for the model is: {}\".format(acc))\n",
    "print(\"The recall score for the model is: {}\".format(rec))\n",
    "print(\"The C value for the model is: {}\".format(best_param_values['C']))\n",
    "print(\"The kernel value for the model is: {}\".format(best_param_values['kernel']))\n",
    "print(\"The degree value for the model is: {}\".format(best_param_values['degree']))\n",
    "print(\"The gamma value for the model is: {}\".format(best_param_values['gamma']))\n",
    "\n",
    "\n",
    "fig = plt.figure(figsize=(12,5))\n",
    "plt.plot(train_sizes, train_scores_mean, label = 'Training error')\n",
    "plt.plot(train_sizes, validation_scores_mean, label = 'Validation error')\n",
    "plt.ylabel('Accuracy', fontsize = 12)\n",
    "plt.xlabel('Training set size', fontsize = 12)\n",
    "plt.title('Learning curves for a SVC model & FE RFECV', fontsize = 14, y = 1.03)\n",
    "plt.legend()\n",
    "plt.grid()\n",
    "plt.show()\n",
    "\n",
    "met = confusion_matrix(y_test, y_pred)\n",
    "sns.heatmap(met, square=True, annot=True, fmt=\"d\", cbar=False)\n",
    "plt.xlabel(\"Predicted\")\n",
    "plt.ylabel(\"Actual\")"
   ]
  },
  {
   "cell_type": "code",
   "execution_count": 35,
   "metadata": {
    "ExecuteTime": {
     "end_time": "2020-05-15T13:24:27.636996Z",
     "start_time": "2020-05-15T13:24:26.067232Z"
    }
   },
   "outputs": [
    {
     "name": "stdout",
     "output_type": "stream",
     "text": [
      "The accuracy score for the model is: 0.689\n",
      "The recall score for the model is: 0.818\n"
     ]
    },
    {
     "data": {
      "text/plain": [
       "Text(91.68, 0.5, 'Actual')"
      ]
     },
     "execution_count": 35,
     "metadata": {},
     "output_type": "execute_result"
    },
    {
     "data": {
      "image/png": "[encoded data removed]",
      "text/plain": [
       "<Figure size 432x288 with 1 Axes>"
      ]
     },
     "metadata": {
      "needs_background": "light"
     },
     "output_type": "display_data"
    }
   ],
   "source": [
    "adaboost_model_best.fit(X_train_rfe, y_train)\n",
    "adaboost_model_best_pred = adaboost_model_best.predict(X_test_rfe)\n",
    "acc = round(accuracy_score(y_test, adaboost_model_best_pred),3)\n",
    "rec = round(recall_score(y_test, adaboost_model_best_pred), 3)\n",
    "print(\"The accuracy score for the model is: {}\".format(acc))\n",
    "print(\"The recall score for the model is: {}\".format(rec))\n",
    "met = confusion_matrix(y_test, adaboost_model_best_pred)\n",
    "sns.heatmap(met, square=True, annot=True, fmt=\"d\", cbar=False)\n",
    "plt.xlabel(\"Predicted\")\n",
    "plt.ylabel(\"Actual\")"
   ]
  },
  {
   "cell_type": "code",
   "execution_count": null,
   "metadata": {},
   "outputs": [],
   "source": []
  }
 ],
 "metadata": {
  "hide_input": false,
  "kernelspec": {
   "display_name": "Python 3",
   "language": "python",
   "name": "python3"
  },
  "language_info": {
   "codemirror_mode": {
    "name": "ipython",
    "version": 3
   },
   "file_extension": ".py",
   "mimetype": "text/x-python",
   "name": "python",
   "nbconvert_exporter": "python",
   "pygments_lexer": "ipython3",
   "version": "3.7.7"
  },
  "toc": {
   "base_numbering": 1,
   "nav_menu": {},
   "number_sections": true,
   "sideBar": true,
   "skip_h1_title": false,
   "title_cell": "Table of Contents",
   "title_sidebar": "Contents",
   "toc_cell": false,
   "toc_position": {},
   "toc_section_display": true,
   "toc_window_display": false
  },
  "varInspector": {
   "cols": {
    "lenName": 16,
    "lenType": 16,
    "lenVar": 40
   },
   "kernels_config": {
    "python": {
     "delete_cmd_postfix": "",
     "delete_cmd_prefix": "del ",
     "library": "var_list.py",
     "varRefreshCmd": "print(var_dic_list())"
    },
    "r": {
     "delete_cmd_postfix": ") ",
     "delete_cmd_prefix": "rm(",
     "library": "var_list.r",
     "varRefreshCmd": "cat(var_dic_list()) "
    }
   },
   "types_to_exclude": [
    "module",
    "function",
    "builtin_function_or_method",
    "instance",
    "_Feature"
   ],
   "window_display": false
  }
 },
 "nbformat": 4,
 "nbformat_minor": 4
}
