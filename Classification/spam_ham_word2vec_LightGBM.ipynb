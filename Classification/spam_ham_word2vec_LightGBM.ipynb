{
 "cells": [
  {
   "cell_type": "markdown",
   "metadata": {},
   "source": [
    " - __Import base modules__"
   ]
  },
  {
   "cell_type": "code",
   "execution_count": 1,
   "metadata": {
    "ExecuteTime": {
     "end_time": "2020-05-25T17:39:38.757293Z",
     "start_time": "2020-05-25T17:39:33.406109Z"
    }
   },
   "outputs": [],
   "source": [
    "import numpy as np\n",
    "import pandas as pd\n",
    "import matplotlib.pyplot as plt\n",
    "import seaborn as sns\n",
    "%matplotlib inline"
   ]
  },
  {
   "cell_type": "markdown",
   "metadata": {},
   "source": [
    " - __Import sklearn modules__"
   ]
  },
  {
   "cell_type": "code",
   "execution_count": 2,
   "metadata": {
    "ExecuteTime": {
     "end_time": "2020-05-25T17:40:00.460290Z",
     "start_time": "2020-05-25T17:39:48.065808Z"
    }
   },
   "outputs": [
    {
     "name": "stderr",
     "output_type": "stream",
     "text": [
      "Using TensorFlow backend.\n"
     ]
    }
   ],
   "source": [
    "from sklearn.model_selection import train_test_split\n",
    "from sklearn.preprocessing import MinMaxScaler\n",
    "from sklearn.metrics import accuracy_score, roc_auc_score\n",
    "from sklearn.model_selection import learning_curve\n",
    "from sklearn.metrics import recall_score, confusion_matrix, classification_report\n",
    "from sklearn.model_selection import cross_val_score\n",
    "from sklearn.model_selection import GridSearchCV, RandomizedSearchCV\n",
    "from sklearn.model_selection import StratifiedKFold\n",
    "import time\n",
    "import warnings\n",
    "warnings.filterwarnings(\"ignore\", category=DeprecationWarning)\n",
    "from imblearn import under_sampling, over_sampling\n",
    "from imblearn.over_sampling import SMOTE"
   ]
  },
  {
   "cell_type": "markdown",
   "metadata": {},
   "source": [
    " - __Import TfidfVectorizer__"
   ]
  },
  {
   "cell_type": "code",
   "execution_count": 5,
   "metadata": {
    "ExecuteTime": {
     "end_time": "2020-05-25T17:42:50.881979Z",
     "start_time": "2020-05-25T17:42:50.363898Z"
    }
   },
   "outputs": [],
   "source": [
    "from gensim.models import KeyedVectors"
   ]
  },
  {
   "cell_type": "markdown",
   "metadata": {},
   "source": [
    " - __Import the spam/ham dataset__"
   ]
  },
  {
   "cell_type": "code",
   "execution_count": 6,
   "metadata": {
    "ExecuteTime": {
     "end_time": "2020-05-25T17:42:57.530158Z",
     "start_time": "2020-05-25T17:42:56.072708Z"
    }
   },
   "outputs": [
    {
     "data": {
      "text/html": [
       "<div>\n",
       "<style scoped>\n",
       "    .dataframe tbody tr th:only-of-type {\n",
       "        vertical-align: middle;\n",
       "    }\n",
       "\n",
       "    .dataframe tbody tr th {\n",
       "        vertical-align: top;\n",
       "    }\n",
       "\n",
       "    .dataframe thead th {\n",
       "        text-align: right;\n",
       "    }\n",
       "</style>\n",
       "<table border=\"1\" class=\"dataframe\">\n",
       "  <thead>\n",
       "    <tr style=\"text-align: right;\">\n",
       "      <th></th>\n",
       "      <th>Category</th>\n",
       "      <th>Message</th>\n",
       "    </tr>\n",
       "  </thead>\n",
       "  <tbody>\n",
       "    <tr>\n",
       "      <th>0</th>\n",
       "      <td>ham</td>\n",
       "      <td>Go until jurong point, crazy.. Available only ...</td>\n",
       "    </tr>\n",
       "    <tr>\n",
       "      <th>1</th>\n",
       "      <td>ham</td>\n",
       "      <td>Ok lar... Joking wif u oni...</td>\n",
       "    </tr>\n",
       "    <tr>\n",
       "      <th>2</th>\n",
       "      <td>spam</td>\n",
       "      <td>Free entry in 2 a wkly comp to win FA Cup fina...</td>\n",
       "    </tr>\n",
       "    <tr>\n",
       "      <th>3</th>\n",
       "      <td>ham</td>\n",
       "      <td>U dun say so early hor... U c already then say...</td>\n",
       "    </tr>\n",
       "  </tbody>\n",
       "</table>\n",
       "</div>"
      ],
      "text/plain": [
       "  Category                                            Message\n",
       "0      ham  Go until jurong point, crazy.. Available only ...\n",
       "1      ham                      Ok lar... Joking wif u oni...\n",
       "2     spam  Free entry in 2 a wkly comp to win FA Cup fina...\n",
       "3      ham  U dun say so early hor... U c already then say..."
      ]
     },
     "execution_count": 6,
     "metadata": {},
     "output_type": "execute_result"
    }
   ],
   "source": [
    "url=\"https://raw.githubusercontent.com/arimitramaiti/datasets/master/Classification/spam_ham_text_classification.csv\"\n",
    "dataset = pd.read_csv(url, error_bad_lines=False, header=0)\n",
    "dataset.head(4)"
   ]
  },
  {
   "cell_type": "markdown",
   "metadata": {},
   "source": [
    " - __Check if missing values exist__"
   ]
  },
  {
   "cell_type": "code",
   "execution_count": 7,
   "metadata": {
    "ExecuteTime": {
     "end_time": "2020-05-25T17:43:00.226695Z",
     "start_time": "2020-05-25T17:43:00.217545Z"
    }
   },
   "outputs": [
    {
     "data": {
      "text/plain": [
       "Category    0\n",
       "Message     0\n",
       "dtype: int64"
      ]
     },
     "execution_count": 7,
     "metadata": {},
     "output_type": "execute_result"
    }
   ],
   "source": [
    "dataset.isnull().sum()"
   ]
  },
  {
   "cell_type": "markdown",
   "metadata": {
    "ExecuteTime": {
     "end_time": "2020-05-25T15:13:05.675447Z",
     "start_time": "2020-05-25T15:13:05.670014Z"
    }
   },
   "source": [
    " - __Check proportion of class values__\n",
    " - __Yes, fair imbalance exists__"
   ]
  },
  {
   "cell_type": "code",
   "execution_count": 8,
   "metadata": {
    "ExecuteTime": {
     "end_time": "2020-05-25T17:43:02.820057Z",
     "start_time": "2020-05-25T17:43:02.807689Z"
    }
   },
   "outputs": [
    {
     "data": {
      "text/plain": [
       "ham     4825\n",
       "spam     747\n",
       "Name: Category, dtype: int64"
      ]
     },
     "execution_count": 8,
     "metadata": {},
     "output_type": "execute_result"
    }
   ],
   "source": [
    "dataset.Category.value_counts()"
   ]
  },
  {
   "cell_type": "markdown",
   "metadata": {},
   "source": [
    " - __Check if NaN values are there and if yes then collect row indices__"
   ]
  },
  {
   "cell_type": "code",
   "execution_count": 9,
   "metadata": {
    "ExecuteTime": {
     "end_time": "2020-05-25T17:43:05.714097Z",
     "start_time": "2020-05-25T17:43:05.696267Z"
    }
   },
   "outputs": [
    {
     "name": "stdout",
     "output_type": "stream",
     "text": [
      "0 blanks:  []\n"
     ]
    }
   ],
   "source": [
    "blanks = []\n",
    "for index, label, review in dataset.itertuples():\n",
    "    if type(review)==str:\n",
    "        if review.isspace():\n",
    "            blanks.append(index)\n",
    "        \n",
    "print(len(blanks), 'blanks: ', blanks)"
   ]
  },
  {
   "cell_type": "markdown",
   "metadata": {},
   "source": [
    " - __Download google word2vec pre trained model from gensim__"
   ]
  },
  {
   "cell_type": "code",
   "execution_count": 12,
   "metadata": {
    "ExecuteTime": {
     "end_time": "2020-05-25T17:56:28.876169Z",
     "start_time": "2020-05-25T17:49:11.503450Z"
    }
   },
   "outputs": [
    {
     "name": "stdout",
     "output_type": "stream",
     "text": [
      "[==================================================] 100.0% 1662.8/1662.8MB downloaded\n"
     ]
    }
   ],
   "source": [
    "import gensim.downloader as api\n",
    "wv = api.load('word2vec-google-news-300')"
   ]
  },
  {
   "cell_type": "markdown",
   "metadata": {},
   "source": [
    " - __Create unique set of words from google model__"
   ]
  },
  {
   "cell_type": "code",
   "execution_count": 13,
   "metadata": {
    "ExecuteTime": {
     "end_time": "2020-05-25T17:57:02.988492Z",
     "start_time": "2020-05-25T17:57:02.125732Z"
    }
   },
   "outputs": [],
   "source": [
    "vocabulary = set(wv.index2word)"
   ]
  },
  {
   "cell_type": "markdown",
   "metadata": {},
   "source": [
    " - __Dimension of each word__"
   ]
  },
  {
   "cell_type": "code",
   "execution_count": 14,
   "metadata": {
    "ExecuteTime": {
     "end_time": "2020-05-25T17:57:28.298184Z",
     "start_time": "2020-05-25T17:57:28.293300Z"
    }
   },
   "outputs": [],
   "source": [
    "embedding_size = wv.vector_size"
   ]
  },
  {
   "cell_type": "code",
   "execution_count": 15,
   "metadata": {
    "ExecuteTime": {
     "end_time": "2020-05-25T17:57:50.211447Z",
     "start_time": "2020-05-25T17:57:50.206689Z"
    }
   },
   "outputs": [
    {
     "name": "stdout",
     "output_type": "stream",
     "text": [
      "Model contains 3000000 words\n"
     ]
    }
   ],
   "source": [
    "print(\"Model contains %d words\" %len(vocabulary))"
   ]
  },
  {
   "cell_type": "code",
   "execution_count": 16,
   "metadata": {
    "ExecuteTime": {
     "end_time": "2020-05-25T17:58:11.000267Z",
     "start_time": "2020-05-25T17:58:10.993296Z"
    }
   },
   "outputs": [
    {
     "name": "stdout",
     "output_type": "stream",
     "text": [
      "Each word is represented by a 300 dimensional vector\n"
     ]
    }
   ],
   "source": [
    "print(\"Each word is represented by a %d dimensional vector\" %embedding_size)"
   ]
  },
  {
   "cell_type": "markdown",
   "metadata": {},
   "source": [
    " - __Create X and y attrs__"
   ]
  },
  {
   "cell_type": "code",
   "execution_count": 17,
   "metadata": {
    "ExecuteTime": {
     "end_time": "2020-05-25T18:00:41.961311Z",
     "start_time": "2020-05-25T18:00:41.932120Z"
    }
   },
   "outputs": [
    {
     "data": {
      "text/plain": [
       "((5572,), (5572,))"
      ]
     },
     "execution_count": 17,
     "metadata": {},
     "output_type": "execute_result"
    }
   ],
   "source": [
    "X, y = dataset['Message'], dataset['Category']\n",
    "sdict = {'spam': 1, 'ham': 0}\n",
    "y = y.map(sdict)\n",
    "X.shape, y.shape"
   ]
  },
  {
   "cell_type": "code",
   "execution_count": 19,
   "metadata": {
    "ExecuteTime": {
     "end_time": "2020-05-25T18:01:35.825323Z",
     "start_time": "2020-05-25T18:01:35.819886Z"
    }
   },
   "outputs": [
    {
     "name": "stdout",
     "output_type": "stream",
     "text": [
      "Number of messages = 5572.\n",
      "Number of labels = 5572.\n"
     ]
    }
   ],
   "source": [
    "print('Number of messages = %d.' %len(X))\n",
    "print('Number of labels = %d.' %len(y))"
   ]
  },
  {
   "cell_type": "code",
   "execution_count": 20,
   "metadata": {
    "ExecuteTime": {
     "end_time": "2020-05-25T18:02:26.200070Z",
     "start_time": "2020-05-25T18:02:26.177870Z"
    }
   },
   "outputs": [
    {
     "name": "stdout",
     "output_type": "stream",
     "text": [
      "Number of missing messages: 0.\n",
      "Number of distinct messages = 5157\n"
     ]
    }
   ],
   "source": [
    "print(\"Number of missing messages: %d.\" %(np.sum(pd.isnull(X))))\n",
    "print(\"Number of distinct messages = %d\" %(dataset.Message.nunique()))"
   ]
  },
  {
   "cell_type": "markdown",
   "metadata": {},
   "source": [
    " - __Define word2vec function where mean of the vectors would be considered if the word exists__\n",
    " - __Else zero__"
   ]
  },
  {
   "cell_type": "code",
   "execution_count": 24,
   "metadata": {
    "ExecuteTime": {
     "end_time": "2020-05-25T18:08:09.520424Z",
     "start_time": "2020-05-25T18:08:09.510535Z"
    }
   },
   "outputs": [],
   "source": [
    "def mean_vector(review):\n",
    "    zero = np.zeros((embedding_size,), dtype=\"float32\")\n",
    "    if pd.isnull(review):\n",
    "        return zero\n",
    "    words = [w for w in review.split() if w in vocabulary]\n",
    "    if not words:\n",
    "        return zero\n",
    "    return np.mean([wv[w] for w in words], axis=0)"
   ]
  },
  {
   "cell_type": "code",
   "execution_count": 22,
   "metadata": {
    "ExecuteTime": {
     "end_time": "2020-05-25T18:06:29.961912Z",
     "start_time": "2020-05-25T18:06:29.956007Z"
    }
   },
   "outputs": [],
   "source": [
    "cols = ['v_'+str(i) for i in range(embedding_size)]"
   ]
  },
  {
   "cell_type": "code",
   "execution_count": 25,
   "metadata": {
    "ExecuteTime": {
     "end_time": "2020-05-25T18:08:16.572437Z",
     "start_time": "2020-05-25T18:08:13.749471Z"
    }
   },
   "outputs": [],
   "source": [
    "dfV = pd.DataFrame(list(map(mean_vector, X)), columns=cols)"
   ]
  },
  {
   "cell_type": "code",
   "execution_count": 26,
   "metadata": {
    "ExecuteTime": {
     "end_time": "2020-05-25T18:08:58.734446Z",
     "start_time": "2020-05-25T18:08:58.726834Z"
    }
   },
   "outputs": [],
   "source": [
    "dfV.insert(0, 'target', dataset['Category'])"
   ]
  },
  {
   "cell_type": "code",
   "execution_count": 27,
   "metadata": {
    "ExecuteTime": {
     "end_time": "2020-05-25T18:09:16.460854Z",
     "start_time": "2020-05-25T18:09:16.455436Z"
    }
   },
   "outputs": [
    {
     "name": "stdout",
     "output_type": "stream",
     "text": [
      "Representation has 5572 rows and 301 columns\n"
     ]
    }
   ],
   "source": [
    "print('Representation has %d rows and %d columns' %dfV.shape)"
   ]
  },
  {
   "cell_type": "code",
   "execution_count": 33,
   "metadata": {
    "ExecuteTime": {
     "end_time": "2020-05-25T18:13:01.033234Z",
     "start_time": "2020-05-25T18:13:01.011600Z"
    }
   },
   "outputs": [
    {
     "data": {
      "text/plain": [
       "((5572, 300), (5572,))"
      ]
     },
     "execution_count": 33,
     "metadata": {},
     "output_type": "execute_result"
    }
   ],
   "source": [
    "X = dfV.drop(labels='target', axis=1)\n",
    "y = dfV.target\n",
    "y = y.map(sdict)\n",
    "X.shape, y.shape"
   ]
  },
  {
   "cell_type": "markdown",
   "metadata": {},
   "source": [
    " - __Create training and testing datasets__"
   ]
  },
  {
   "cell_type": "code",
   "execution_count": 34,
   "metadata": {
    "ExecuteTime": {
     "end_time": "2020-05-25T18:13:06.176536Z",
     "start_time": "2020-05-25T18:13:06.141211Z"
    }
   },
   "outputs": [
    {
     "data": {
      "text/plain": [
       "((3900, 300), (1672, 300), (3900,), (1672,))"
      ]
     },
     "execution_count": 34,
     "metadata": {},
     "output_type": "execute_result"
    }
   ],
   "source": [
    "X_train, X_test, y_train, y_test = train_test_split(X, y, test_size=0.30, stratify=y, random_state=123)\n",
    "X_train.shape, X_test.shape, y_train.shape, y_test.shape"
   ]
  },
  {
   "cell_type": "code",
   "execution_count": 35,
   "metadata": {
    "ExecuteTime": {
     "end_time": "2020-05-25T18:13:08.964200Z",
     "start_time": "2020-05-25T18:13:08.954411Z"
    }
   },
   "outputs": [
    {
     "name": "stdout",
     "output_type": "stream",
     "text": [
      "Before OverSampling, counts of label '1': 523\n",
      "Before OverSampling, counts of label '0': 3377 \n",
      "\n"
     ]
    }
   ],
   "source": [
    "print(\"Before OverSampling, counts of label '1': {}\".format(sum(y_train == 1))) \n",
    "print(\"Before OverSampling, counts of label '0': {} \\n\".format(sum(y_train == 0)))"
   ]
  },
  {
   "cell_type": "markdown",
   "metadata": {},
   "source": [
    " - __Apply SMOTE to uplift class imbalance only in training data__"
   ]
  },
  {
   "cell_type": "code",
   "execution_count": 36,
   "metadata": {
    "ExecuteTime": {
     "end_time": "2020-05-25T18:13:14.182784Z",
     "start_time": "2020-05-25T18:13:13.551727Z"
    }
   },
   "outputs": [],
   "source": [
    "sm = SMOTE(random_state = 2) \n",
    "X_train_res, y_train_res = sm.fit_sample(X_train, y_train.ravel())"
   ]
  },
  {
   "cell_type": "code",
   "execution_count": 37,
   "metadata": {
    "ExecuteTime": {
     "end_time": "2020-05-25T18:13:16.629128Z",
     "start_time": "2020-05-25T18:13:16.532624Z"
    }
   },
   "outputs": [
    {
     "name": "stdout",
     "output_type": "stream",
     "text": [
      "After OverSampling, counts of label '1': 3377\n",
      "After OverSampling, counts of label '0': 3377\n"
     ]
    },
    {
     "data": {
      "text/plain": [
       "((6754, 300), (1672, 300), (6754,), (1672,))"
      ]
     },
     "execution_count": 37,
     "metadata": {},
     "output_type": "execute_result"
    }
   ],
   "source": [
    "print(\"After OverSampling, counts of label '1': {}\".format(sum(y_train_res == 1))) \n",
    "print(\"After OverSampling, counts of label '0': {}\".format(sum(y_train_res == 0)))\n",
    "X_train_res.shape, X_test.shape, y_train_res.shape, y_test.shape"
   ]
  },
  {
   "cell_type": "markdown",
   "metadata": {},
   "source": [
    " - __Import Light GBM module__"
   ]
  },
  {
   "cell_type": "code",
   "execution_count": 38,
   "metadata": {
    "ExecuteTime": {
     "end_time": "2020-05-25T18:13:20.718317Z",
     "start_time": "2020-05-25T18:13:20.619902Z"
    }
   },
   "outputs": [],
   "source": [
    "import lightgbm as lgb"
   ]
  },
  {
   "cell_type": "markdown",
   "metadata": {},
   "source": [
    " - __Declare estimator__"
   ]
  },
  {
   "cell_type": "code",
   "execution_count": 39,
   "metadata": {
    "ExecuteTime": {
     "end_time": "2020-05-25T18:13:23.587788Z",
     "start_time": "2020-05-25T18:13:23.582323Z"
    }
   },
   "outputs": [],
   "source": [
    "estimator = lgb.LGBMClassifier(boosting_type =\"goss\", random_state=1)"
   ]
  },
  {
   "cell_type": "markdown",
   "metadata": {},
   "source": [
    " - __Declare a decimal range of learning rates__\n",
    " - __Declare a range of tree counts__\n",
    " - __Declare a set of max depth values__\n",
    " - __Declare a set of minimum child weight__\n",
    " - __Declare a set of sample proportions to be used in attribute sampling__\n",
    " - __Create dictionary which is a must for Random Search function__"
   ]
  },
  {
   "cell_type": "code",
   "execution_count": 40,
   "metadata": {
    "ExecuteTime": {
     "end_time": "2020-05-25T18:13:26.805445Z",
     "start_time": "2020-05-25T18:13:26.797507Z"
    }
   },
   "outputs": [],
   "source": [
    "learning_rate = np.arange(0.01,1,0.05)\n",
    "n_estimators = np.arange(100, 500, 50)\n",
    "max_depth = [2, 5, 10, 20, 30, 40, 50]\n",
    "min_child_weight = [1,3,6]\n",
    "colsample_bytree = [0.1, 0.5, 0.8, 1]\n",
    "num_leaves = [300, 900, 1200]\n",
    "\n",
    "param_grid = {'learning_rate': learning_rate,\n",
    "              'n_estimators': n_estimators,\n",
    "              'max_depth': max_depth,\n",
    "              'min_child_weight': min_child_weight,\n",
    "              'colsample_bytree': colsample_bytree,\n",
    "              'num_leaves': num_leaves}"
   ]
  },
  {
   "cell_type": "markdown",
   "metadata": {
    "ExecuteTime": {
     "end_time": "2020-05-25T15:18:31.653604Z",
     "start_time": "2020-05-25T15:18:31.644608Z"
    }
   },
   "source": [
    " - __Instantiate the RandomizedSearchCV object with accuracy as scoring metric__\n",
    " - __Push the parameter dictionary inside the object__"
   ]
  },
  {
   "cell_type": "code",
   "execution_count": 41,
   "metadata": {
    "ExecuteTime": {
     "end_time": "2020-05-25T18:13:30.799100Z",
     "start_time": "2020-05-25T18:13:30.790811Z"
    }
   },
   "outputs": [],
   "source": [
    "randomized_accuracy_fit = RandomizedSearchCV(estimator=estimator,\n",
    "                                            param_distributions=param_grid,\n",
    "                                            n_iter=50,\n",
    "                                            scoring=\"accuracy\",\n",
    "                                            n_jobs=-1,\n",
    "                                            refit=True,\n",
    "                                            random_state=123,\n",
    "                                            return_train_score=True,\n",
    "                                            verbose=1,\n",
    "                                            cv=StratifiedKFold(n_splits=10, shuffle=True, random_state=123)\n",
    "                                            )"
   ]
  },
  {
   "cell_type": "markdown",
   "metadata": {},
   "source": [
    " - __Fit the RandomizedSearchCV object on X_train & y_train__"
   ]
  },
  {
   "cell_type": "code",
   "execution_count": 42,
   "metadata": {
    "ExecuteTime": {
     "end_time": "2020-05-25T18:35:01.496336Z",
     "start_time": "2020-05-25T18:13:34.293948Z"
    }
   },
   "outputs": [
    {
     "name": "stdout",
     "output_type": "stream",
     "text": [
      "Fitting 10 folds for each of 50 candidates, totalling 500 fits\n"
     ]
    },
    {
     "name": "stderr",
     "output_type": "stream",
     "text": [
      "[Parallel(n_jobs=-1)]: Using backend LokyBackend with 4 concurrent workers.\n",
      "[Parallel(n_jobs=-1)]: Done  42 tasks      | elapsed:  1.5min\n",
      "[Parallel(n_jobs=-1)]: Done 192 tasks      | elapsed:  8.6min\n",
      "[Parallel(n_jobs=-1)]: Done 442 tasks      | elapsed: 18.5min\n",
      "[Parallel(n_jobs=-1)]: Done 500 out of 500 | elapsed: 21.4min finished\n"
     ]
    },
    {
     "name": "stdout",
     "output_type": "stream",
     "text": [
      "Time consumed for training: 1287.169 seconds\n"
     ]
    }
   ],
   "source": [
    "training_start = time.perf_counter()\n",
    "randomized_accuracy_fit.fit(X_train_res, y_train_res)\n",
    "training_end = time.perf_counter()\n",
    "lgb_train_time = training_end-training_start\n",
    "print(\"Time consumed for training: %4.3f seconds\" % (lgb_train_time))"
   ]
  },
  {
   "cell_type": "markdown",
   "metadata": {},
   "source": [
    " - __Print the best score found by RandomizedSearchCV__\n",
    " - __Print the best model found by RandomizedSearchCV__"
   ]
  },
  {
   "cell_type": "code",
   "execution_count": 43,
   "metadata": {
    "ExecuteTime": {
     "end_time": "2020-05-25T18:35:15.121908Z",
     "start_time": "2020-05-25T18:35:15.109941Z"
    }
   },
   "outputs": [
    {
     "name": "stdout",
     "output_type": "stream",
     "text": [
      "0.9927451238220468\n",
      "LGBMClassifier(boosting_type='goss', class_weight=None, colsample_bytree=0.1,\n",
      "               importance_type='split', learning_rate=0.11, max_depth=50,\n",
      "               min_child_samples=20, min_child_weight=1, min_split_gain=0.0,\n",
      "               n_estimators=100, n_jobs=-1, num_leaves=1200, objective=None,\n",
      "               random_state=1, reg_alpha=0.0, reg_lambda=0.0, silent=True,\n",
      "               subsample=1.0, subsample_for_bin=200000, subsample_freq=0)\n"
     ]
    }
   ],
   "source": [
    "print(randomized_accuracy_fit.best_score_)\n",
    "print(randomized_accuracy_fit.best_estimator_)"
   ]
  },
  {
   "cell_type": "markdown",
   "metadata": {},
   "source": [
    " - __Store the best model in an object__\n",
    " - __Create predictions from the best model__"
   ]
  },
  {
   "cell_type": "code",
   "execution_count": 44,
   "metadata": {
    "ExecuteTime": {
     "end_time": "2020-05-25T18:35:24.291395Z",
     "start_time": "2020-05-25T18:35:24.193695Z"
    }
   },
   "outputs": [
    {
     "name": "stdout",
     "output_type": "stream",
     "text": [
      "Time consumed for prediction: 0.07650 seconds\n"
     ]
    }
   ],
   "source": [
    "best_estimator = randomized_accuracy_fit.best_estimator_\n",
    "prediction_start = time.perf_counter()\n",
    "y_pred = best_estimator.predict(X_test)\n",
    "prediction_end = time.perf_counter()\n",
    "lgb_prediction_time = prediction_end-prediction_start\n",
    "print(\"Time consumed for prediction: %6.5f seconds\" % (lgb_prediction_time))"
   ]
  },
  {
   "cell_type": "markdown",
   "metadata": {},
   "source": [
    " - __Calculate Accuracy and Recall Scores__\n",
    " - __Print the respective values__\n",
    " - __Create confusion matrix and print it using heatmap__"
   ]
  },
  {
   "cell_type": "code",
   "execution_count": 45,
   "metadata": {
    "ExecuteTime": {
     "end_time": "2020-05-25T18:35:31.741478Z",
     "start_time": "2020-05-25T18:35:29.707950Z"
    }
   },
   "outputs": [
    {
     "name": "stdout",
     "output_type": "stream",
     "text": [
      "The accuracy score for the model is: 0.977\n",
      "The recall score for the model is: 0.928\n",
      "              precision    recall  f1-score   support\n",
      "\n",
      "           0       0.98      0.99      0.99      1448\n",
      "           1       0.96      0.86      0.91       224\n",
      "\n",
      "    accuracy                           0.98      1672\n",
      "   macro avg       0.97      0.93      0.95      1672\n",
      "weighted avg       0.98      0.98      0.98      1672\n",
      "\n"
     ]
    },
    {
     "data": {
      "text/plain": [
       "Text(91.68, 0.5, 'Actual')"
      ]
     },
     "execution_count": 45,
     "metadata": {},
     "output_type": "execute_result"
    },
    {
     "data": {
      "image/png": "[encoded data removed]",
      "text/plain": [
       "<Figure size 432x288 with 1 Axes>"
      ]
     },
     "metadata": {
      "needs_background": "light"
     },
     "output_type": "display_data"
    }
   ],
   "source": [
    "acc = round(accuracy_score(y_test, y_pred),3)\n",
    "rec = round(recall_score(y_test, y_pred, average=\"macro\"), 3)\n",
    "cre = classification_report(y_test,y_pred)\n",
    "print(\"The accuracy score for the model is: {}\".format(acc))\n",
    "print(\"The recall score for the model is: {}\".format(rec))\n",
    "print(cre)\n",
    "met = confusion_matrix(y_test, y_pred)\n",
    "sns.heatmap(met, square=True, annot=True, fmt=\"d\", cbar=False, xticklabels=['ham', 'spam'], yticklabels=['ham', 'spam'])\n",
    "plt.xlabel(\"Predicted\")\n",
    "plt.ylabel(\"Actual\")"
   ]
  },
  {
   "cell_type": "code",
   "execution_count": null,
   "metadata": {
    "ExecuteTime": {
     "end_time": "2020-05-25T15:32:50.708890Z",
     "start_time": "2020-05-25T15:32:38.719553Z"
    },
    "scrolled": true
   },
   "outputs": [],
   "source": []
  },
  {
   "cell_type": "code",
   "execution_count": null,
   "metadata": {},
   "outputs": [],
   "source": []
  }
 ],
 "metadata": {
  "hide_input": false,
  "kernelspec": {
   "display_name": "Python 3",
   "language": "python",
   "name": "python3"
  },
  "language_info": {
   "codemirror_mode": {
    "name": "ipython",
    "version": 3
   },
   "file_extension": ".py",
   "mimetype": "text/x-python",
   "name": "python",
   "nbconvert_exporter": "python",
   "pygments_lexer": "ipython3",
   "version": "3.7.7"
  },
  "toc": {
   "base_numbering": 1,
   "nav_menu": {},
   "number_sections": true,
   "sideBar": true,
   "skip_h1_title": false,
   "title_cell": "Table of Contents",
   "title_sidebar": "Contents",
   "toc_cell": false,
   "toc_position": {},
   "toc_section_display": true,
   "toc_window_display": false
  },
  "varInspector": {
   "cols": {
    "lenName": 16,
    "lenType": 16,
    "lenVar": 40
   },
   "kernels_config": {
    "python": {
     "delete_cmd_postfix": "",
     "delete_cmd_prefix": "del ",
     "library": "var_list.py",
     "varRefreshCmd": "print(var_dic_list())"
    },
    "r": {
     "delete_cmd_postfix": ") ",
     "delete_cmd_prefix": "rm(",
     "library": "var_list.r",
     "varRefreshCmd": "cat(var_dic_list()) "
    }
   },
   "types_to_exclude": [
    "module",
    "function",
    "builtin_function_or_method",
    "instance",
    "_Feature"
   ],
   "window_display": false
  }
 },
 "nbformat": 4,
 "nbformat_minor": 4
}
