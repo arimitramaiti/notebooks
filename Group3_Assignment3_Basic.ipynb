{
  "nbformat": 4,
  "nbformat_minor": 0,
  "metadata": {
    "hide_input": false,
    "kernelspec": {
      "display_name": "Python 3",
      "language": "python",
      "name": "python3"
    },
    "language_info": {
      "codemirror_mode": {
        "name": "ipython",
        "version": 3
      },
      "file_extension": ".py",
      "mimetype": "text/x-python",
      "name": "python",
      "nbconvert_exporter": "python",
      "pygments_lexer": "ipython3",
      "version": "3.8.5"
    },
    "toc": {
      "base_numbering": 1,
      "nav_menu": {},
      "number_sections": true,
      "sideBar": true,
      "skip_h1_title": false,
      "title_cell": "Table of Contents",
      "title_sidebar": "Contents",
      "toc_cell": false,
      "toc_position": {},
      "toc_section_display": true,
      "toc_window_display": false
    },
    "varInspector": {
      "cols": {
        "lenName": 16,
        "lenType": 16,
        "lenVar": 40
      },
      "kernels_config": {
        "python": {
          "delete_cmd_postfix": "",
          "delete_cmd_prefix": "del ",
          "library": "var_list.py",
          "varRefreshCmd": "print(var_dic_list())"
        },
        "r": {
          "delete_cmd_postfix": ") ",
          "delete_cmd_prefix": "rm(",
          "library": "var_list.r",
          "varRefreshCmd": "cat(var_dic_list()) "
        }
      },
      "types_to_exclude": [
        "module",
        "function",
        "builtin_function_or_method",
        "instance",
        "_Feature"
      ],
      "window_display": false
    },
    "colab": {
      "name": "Group3_Assignment3_Basic.ipynb",
      "provenance": [],
      "include_colab_link": true
    }
  },
  "cells": [
    {
      "cell_type": "markdown",
      "metadata": {
        "id": "view-in-github",
        "colab_type": "text"
      },
      "source": [
        "<a href=\"https://colab.research.google.com/github/arimitramaiti/notebooks/blob/master/Group3_Assignment3_Basic.ipynb\" target=\"_parent\"><img src=\"https://colab.research.google.com/assets/colab-badge.svg\" alt=\"Open In Colab\"/></a>"
      ]
    },
    {
      "cell_type": "markdown",
      "metadata": {
        "id": "8cvDXq2mSZzN"
      },
      "source": [
        "### <center>Term Deposit Subscription Example in Jupyter</center>\r\n",
        "<center>Machine Learning with Big Data (Week-3)</center>\r\n",
        "<center>ePGD ABA 2020-21</center>"
      ]
    },
    {
      "cell_type": "code",
      "metadata": {
        "id": "XKtIIcOSSlqX"
      },
      "source": [
        "!pip install --quiet feature_engine\r\n",
        "!pip install --quiet feature_engine --upgrade --no-deps\r\n",
        "!pip install --quiet sklearn\r\n",
        "!pip install --quiet sklearn --upgrade --no-deps\r\n",
        "!pip install --quiet xgboost"
      ],
      "execution_count": null,
      "outputs": []
    },
    {
      "cell_type": "markdown",
      "metadata": {
        "id": "Lk671nALS8tZ"
      },
      "source": [
        "**CAUTION: This notebook may consume 15 minutes to finish the output computations**"
      ]
    },
    {
      "cell_type": "markdown",
      "metadata": {
        "id": "CoVN73KhTBcJ"
      },
      "source": [
        "**Group-3 includes : Nitin Raheja, Rohan Singh, Anand Dattani, Anand Aggarwal and Arimitra Maiti**"
      ]
    },
    {
      "cell_type": "markdown",
      "metadata": {
        "id": "Lw3pKOcZTJS6"
      },
      "source": [
        "**Week-3 : Classification using Cost Matrix Exercise on Bank Data**"
      ]
    },
    {
      "cell_type": "markdown",
      "metadata": {
        "id": "z5_1MncLTXn0"
      },
      "source": [
        "__Overall approach__"
      ]
    },
    {
      "cell_type": "markdown",
      "metadata": {
        "id": "OHYGb22tWrol"
      },
      "source": [
        "![](https://drive.google.com/uc?export=view&id=19oaW3c79KEUUfCh21LQVmi6LOjBvL2uQ)"
      ]
    },
    {
      "cell_type": "markdown",
      "metadata": {
        "id": "ViwjjhhRW5q-"
      },
      "source": [
        "**Q1) Build a suitable analytical model to assess whether a customer will subscribe to a term deposit or not. Evaluate your model performance.**"
      ]
    },
    {
      "cell_type": "markdown",
      "metadata": {
        "id": "L8w7zD45W91y"
      },
      "source": [
        "![](https://drive.google.com/uc?export=view&id=1eX1KdJGFJtLwgAtVd6X7ylg_8e17igfI)"
      ]
    },
    {
      "cell_type": "markdown",
      "metadata": {
        "id": "pBCDVMjwYPAe"
      },
      "source": [
        "**Q2) Perform model diagnostic investigation and suggest steps to improve the performance of your model.**"
      ]
    },
    {
      "cell_type": "markdown",
      "metadata": {
        "id": "dUXhSxlhYZug"
      },
      "source": [
        "![](https://drive.google.com/uc?export=view&id=1QCR0FbqqFAjof7pebA5zPPLwyCrLrIVw)"
      ]
    },
    {
      "cell_type": "markdown",
      "metadata": {
        "id": "XqeXs9cSbK0g"
      },
      "source": [
        "**Q3) Suppose that you are given the following mis-classification matrix: What are the implications for your model? Explain with suitable data analysis steps.**"
      ]
    },
    {
      "cell_type": "markdown",
      "metadata": {
        "id": "Sf15aB2sbPoO"
      },
      "source": [
        "![](https://drive.google.com/uc?export=view&id=1K10Ph9-X64vChHSS3pR6gtnvhTjwQPmB)"
      ]
    },
    {
      "cell_type": "markdown",
      "metadata": {
        "id": "15kSq6Z-k4Kk"
      },
      "source": [
        "**Q4) Design a customer targeting plan for improving term deposit subscription performance.**"
      ]
    },
    {
      "cell_type": "markdown",
      "metadata": {
        "id": "fj8UnKijk8pS"
      },
      "source": [
        "![](https://drive.google.com/uc?export=view&id=1xG4S90ig3naXXzfG5ASYLpxTPiQ5eJA_)"
      ]
    },
    {
      "cell_type": "markdown",
      "metadata": {
        "id": "gKQcVHbpvVyh"
      },
      "source": [
        "**Q5) Suppose that you wish to apply your best predictive model on a new promotional campaign. The predictive model is required to be applied on 5000 hold-out customer instances. Assume that the promotional cost is 5 dollars per customer and the expected revenue is 30 dollars per customer.**"
      ]
    },
    {
      "cell_type": "markdown",
      "metadata": {
        "id": "TtuTjQ_rv7Bg"
      },
      "source": [
        "![](https://drive.google.com/uc?export=view&id=1BoPPvxlViqvkEqorDnP51GVvNEFoGFrt)"
      ]
    },
    {
      "cell_type": "markdown",
      "metadata": {
        "id": "c-zFRjlI7O7c"
      },
      "source": [
        "**What is the minimum marketing budget that you need to identify targets from your model so that you can maximize your profits?**"
      ]
    },
    {
      "cell_type": "markdown",
      "metadata": {
        "id": "KICT0t7L7Q5Y"
      },
      "source": [
        "The minimum budget is $2500.00"
      ]
    },
    {
      "cell_type": "markdown",
      "metadata": {
        "id": "ZdHTpQKJ7aUx"
      },
      "source": [
        "**What is the maximum marketing budget that you need to achieve maximum reach of customers without incurring any loss?**"
      ]
    },
    {
      "cell_type": "markdown",
      "metadata": {
        "id": "l6vB7PJ17i8Q"
      },
      "source": [
        "The maximum budget could be when 90% cumulative lift is assessed. The cost would be $22,500.00 dollars and the revenue would be positive because response would be a number greater than 0.10 which would then get multiplied by revenue per customer"
      ]
    },
    {
      "cell_type": "code",
      "metadata": {
        "ExecuteTime": {
          "end_time": "2020-12-07T17:24:42.261381Z",
          "start_time": "2020-12-07T17:24:41.236337Z"
        },
        "id": "uzoVz9brSBsu"
      },
      "source": [
        "##Import basic modules\n",
        "import numpy as np\n",
        "import pandas as pd\n",
        "import matplotlib.pyplot as plt\n",
        "import seaborn as sns\n",
        "%matplotlib inline\n",
        "import scipy.stats as stats\n",
        "import math"
      ],
      "execution_count": null,
      "outputs": []
    },
    {
      "cell_type": "code",
      "metadata": {
        "ExecuteTime": {
          "end_time": "2020-12-07T17:24:43.488468Z",
          "start_time": "2020-12-07T17:24:42.261381Z"
        },
        "id": "PuFsmRBQSBsw",
        "colab": {
          "base_uri": "https://localhost:8080/",
          "height": 166
        },
        "outputId": "bb57b1be-a6a3-45a1-9fc2-fbc6714f0fff"
      },
      "source": [
        "##Import data\n",
        "url = \"https://raw.githubusercontent.com/arimitramaiti/datasets/master/Classification/bank-term-deposit-subscription.csv\"\n",
        "dataset = pd.read_csv(url, error_bad_lines = False, header=0, index_col=None)\n",
        "dataset.head(4)"
      ],
      "execution_count": null,
      "outputs": [
        {
          "output_type": "execute_result",
          "data": {
            "text/html": [
              "<div>\n",
              "<style scoped>\n",
              "    .dataframe tbody tr th:only-of-type {\n",
              "        vertical-align: middle;\n",
              "    }\n",
              "\n",
              "    .dataframe tbody tr th {\n",
              "        vertical-align: top;\n",
              "    }\n",
              "\n",
              "    .dataframe thead th {\n",
              "        text-align: right;\n",
              "    }\n",
              "</style>\n",
              "<table border=\"1\" class=\"dataframe\">\n",
              "  <thead>\n",
              "    <tr style=\"text-align: right;\">\n",
              "      <th></th>\n",
              "      <th>age</th>\n",
              "      <th>occupation</th>\n",
              "      <th>maritalStatus</th>\n",
              "      <th>education</th>\n",
              "      <th>creditDefault</th>\n",
              "      <th>housingLoan</th>\n",
              "      <th>personalLoan</th>\n",
              "      <th>contactMode</th>\n",
              "      <th>month</th>\n",
              "      <th>dayOfWeek</th>\n",
              "      <th>duration</th>\n",
              "      <th>campaign</th>\n",
              "      <th>pdays</th>\n",
              "      <th>previous</th>\n",
              "      <th>poutcome</th>\n",
              "      <th>subscribed</th>\n",
              "    </tr>\n",
              "  </thead>\n",
              "  <tbody>\n",
              "    <tr>\n",
              "      <th>0</th>\n",
              "      <td>54</td>\n",
              "      <td>housemaid</td>\n",
              "      <td>married</td>\n",
              "      <td>basic.9y</td>\n",
              "      <td>no</td>\n",
              "      <td>no</td>\n",
              "      <td>no</td>\n",
              "      <td>cellular</td>\n",
              "      <td>nov</td>\n",
              "      <td>wed</td>\n",
              "      <td>362</td>\n",
              "      <td>3</td>\n",
              "      <td>999</td>\n",
              "      <td>0</td>\n",
              "      <td>nonexistent</td>\n",
              "      <td>no</td>\n",
              "    </tr>\n",
              "    <tr>\n",
              "      <th>1</th>\n",
              "      <td>62</td>\n",
              "      <td>technician</td>\n",
              "      <td>married</td>\n",
              "      <td>unknown</td>\n",
              "      <td>no</td>\n",
              "      <td>no</td>\n",
              "      <td>no</td>\n",
              "      <td>cellular</td>\n",
              "      <td>mar</td>\n",
              "      <td>mon</td>\n",
              "      <td>105</td>\n",
              "      <td>2</td>\n",
              "      <td>999</td>\n",
              "      <td>0</td>\n",
              "      <td>nonexistent</td>\n",
              "      <td>no</td>\n",
              "    </tr>\n",
              "    <tr>\n",
              "      <th>2</th>\n",
              "      <td>58</td>\n",
              "      <td>unemployed</td>\n",
              "      <td>divorced</td>\n",
              "      <td>high.school</td>\n",
              "      <td>no</td>\n",
              "      <td>no</td>\n",
              "      <td>no</td>\n",
              "      <td>cellular</td>\n",
              "      <td>jul</td>\n",
              "      <td>mon</td>\n",
              "      <td>377</td>\n",
              "      <td>4</td>\n",
              "      <td>999</td>\n",
              "      <td>0</td>\n",
              "      <td>nonexistent</td>\n",
              "      <td>no</td>\n",
              "    </tr>\n",
              "    <tr>\n",
              "      <th>3</th>\n",
              "      <td>25</td>\n",
              "      <td>admin.</td>\n",
              "      <td>single</td>\n",
              "      <td>university.degree</td>\n",
              "      <td>no</td>\n",
              "      <td>yes</td>\n",
              "      <td>no</td>\n",
              "      <td>cellular</td>\n",
              "      <td>jul</td>\n",
              "      <td>thu</td>\n",
              "      <td>174</td>\n",
              "      <td>2</td>\n",
              "      <td>999</td>\n",
              "      <td>0</td>\n",
              "      <td>nonexistent</td>\n",
              "      <td>no</td>\n",
              "    </tr>\n",
              "  </tbody>\n",
              "</table>\n",
              "</div>"
            ],
            "text/plain": [
              "   age  occupation maritalStatus  ... previous     poutcome subscribed\n",
              "0   54   housemaid       married  ...        0  nonexistent         no\n",
              "1   62  technician       married  ...        0  nonexistent         no\n",
              "2   58  unemployed      divorced  ...        0  nonexistent         no\n",
              "3   25      admin.        single  ...        0  nonexistent         no\n",
              "\n",
              "[4 rows x 16 columns]"
            ]
          },
          "metadata": {
            "tags": []
          },
          "execution_count": 3
        }
      ]
    },
    {
      "cell_type": "code",
      "metadata": {
        "ExecuteTime": {
          "end_time": "2020-12-07T17:24:43.520382Z",
          "start_time": "2020-12-07T17:24:43.493423Z"
        },
        "id": "vevsr_Q6SBsz",
        "colab": {
          "base_uri": "https://localhost:8080/"
        },
        "outputId": "0bc82527-d5e7-47f7-9b35-cb766f0bd9ba"
      },
      "source": [
        "##Check for missing values in the dataset\n",
        "dataset.isnull().sum()/dataset.shape[0] * 100"
      ],
      "execution_count": null,
      "outputs": [
        {
          "output_type": "execute_result",
          "data": {
            "text/plain": [
              "age              0.0\n",
              "occupation       0.0\n",
              "maritalStatus    0.0\n",
              "education        0.0\n",
              "creditDefault    0.0\n",
              "housingLoan      0.0\n",
              "personalLoan     0.0\n",
              "contactMode      0.0\n",
              "month            0.0\n",
              "dayOfWeek        0.0\n",
              "duration         0.0\n",
              "campaign         0.0\n",
              "pdays            0.0\n",
              "previous         0.0\n",
              "poutcome         0.0\n",
              "subscribed       0.0\n",
              "dtype: float64"
            ]
          },
          "metadata": {
            "tags": []
          },
          "execution_count": 4
        }
      ]
    },
    {
      "cell_type": "code",
      "metadata": {
        "ExecuteTime": {
          "end_time": "2020-12-07T17:24:43.536346Z",
          "start_time": "2020-12-07T17:24:43.522346Z"
        },
        "id": "FYBmtwpBSBs0",
        "colab": {
          "base_uri": "https://localhost:8080/"
        },
        "outputId": "7516d8a4-de3b-4ea4-d6f5-7809da3b290c"
      },
      "source": [
        "dataset.subscribed.value_counts().sort_index()"
      ],
      "execution_count": null,
      "outputs": [
        {
          "output_type": "execute_result",
          "data": {
            "text/plain": [
              "no     2742\n",
              "yes     348\n",
              "Name: subscribed, dtype: int64"
            ]
          },
          "metadata": {
            "tags": []
          },
          "execution_count": 5
        }
      ]
    },
    {
      "cell_type": "code",
      "metadata": {
        "ExecuteTime": {
          "end_time": "2020-12-07T17:24:43.566360Z",
          "start_time": "2020-12-07T17:24:43.538303Z"
        },
        "id": "GbU8adOQSBs1",
        "colab": {
          "base_uri": "https://localhost:8080/"
        },
        "outputId": "ac9e45a2-4fe0-4246-8be8-87efbbd8783c"
      },
      "source": [
        "for i in range(len(dataset.columns)):\n",
        "    if dataset[dataset.columns[i]].dtype == 'object':\n",
        "        mylist = dataset[dataset.columns[i]].unique()\n",
        "        varname = dataset.columns[i]\n",
        "        l = len(mylist)\n",
        "        print(f\"{varname} has {l} unique values which are as follows: \\n {mylist}\")"
      ],
      "execution_count": null,
      "outputs": [
        {
          "output_type": "stream",
          "text": [
            "occupation has 12 unique values which are as follows: \n",
            " ['housemaid' 'technician' 'unemployed' 'admin.' 'blue-collar' 'management'\n",
            " 'services' 'entrepreneur' 'student' 'retired' 'self-employed' 'unknown']\n",
            "maritalStatus has 4 unique values which are as follows: \n",
            " ['married' 'divorced' 'single' 'unknown']\n",
            "education has 8 unique values which are as follows: \n",
            " ['basic.9y' 'unknown' 'high.school' 'university.degree' 'basic.4y'\n",
            " 'professional.course' 'basic.6y' 'illiterate']\n",
            "creditDefault has 2 unique values which are as follows: \n",
            " ['no' 'unknown']\n",
            "housingLoan has 3 unique values which are as follows: \n",
            " ['no' 'yes' 'unknown']\n",
            "personalLoan has 3 unique values which are as follows: \n",
            " ['no' 'yes' 'unknown']\n",
            "contactMode has 2 unique values which are as follows: \n",
            " ['cellular' 'telephone']\n",
            "month has 10 unique values which are as follows: \n",
            " ['nov' 'mar' 'jul' 'may' 'jun' 'dec' 'oct' 'aug' 'sep' 'apr']\n",
            "dayOfWeek has 5 unique values which are as follows: \n",
            " ['wed' 'mon' 'thu' 'fri' 'tue']\n",
            "poutcome has 3 unique values which are as follows: \n",
            " ['nonexistent' 'failure' 'success']\n",
            "subscribed has 2 unique values which are as follows: \n",
            " ['no' 'yes']\n"
          ],
          "name": "stdout"
        }
      ]
    },
    {
      "cell_type": "code",
      "metadata": {
        "ExecuteTime": {
          "end_time": "2020-12-07T17:24:43.612513Z",
          "start_time": "2020-12-07T17:24:43.571369Z"
        },
        "id": "L6dMekIESBs2",
        "colab": {
          "base_uri": "https://localhost:8080/"
        },
        "outputId": "db810912-65c6-425a-82a3-f6ae30c78f2b"
      },
      "source": [
        "for i in range(len(dataset.columns)):\n",
        "    if dataset[dataset.columns[i]].dtype != 'object':\n",
        "        varname = dataset.columns[i]\n",
        "        mylist = dataset[dataset.columns[i]].describe()\n",
        "        print(f\"{varname} is numeric and descriptive measures are as follows: \\n {mylist}\")"
      ],
      "execution_count": null,
      "outputs": [
        {
          "output_type": "stream",
          "text": [
            "age is numeric and descriptive measures are as follows: \n",
            " count    3090.000000\n",
            "mean       40.203560\n",
            "std        10.505775\n",
            "min        17.000000\n",
            "25%        32.000000\n",
            "50%        38.000000\n",
            "75%        47.000000\n",
            "max        98.000000\n",
            "Name: age, dtype: float64\n",
            "duration is numeric and descriptive measures are as follows: \n",
            " count    3090.000000\n",
            "mean      256.970227\n",
            "std       249.708123\n",
            "min         2.000000\n",
            "25%       102.000000\n",
            "50%       181.000000\n",
            "75%       320.000000\n",
            "max      3322.000000\n",
            "Name: duration, dtype: float64\n",
            "campaign is numeric and descriptive measures are as follows: \n",
            " count    3090.000000\n",
            "mean        2.504854\n",
            "std         2.730618\n",
            "min         1.000000\n",
            "25%         1.000000\n",
            "50%         2.000000\n",
            "75%         3.000000\n",
            "max        43.000000\n",
            "Name: campaign, dtype: float64\n",
            "pdays is numeric and descriptive measures are as follows: \n",
            " count    3090.000000\n",
            "mean      963.961489\n",
            "std       183.267936\n",
            "min         1.000000\n",
            "25%       999.000000\n",
            "50%       999.000000\n",
            "75%       999.000000\n",
            "max       999.000000\n",
            "Name: pdays, dtype: float64\n",
            "previous is numeric and descriptive measures are as follows: \n",
            " count    3090.000000\n",
            "mean        0.163754\n",
            "std         0.477781\n",
            "min         0.000000\n",
            "25%         0.000000\n",
            "50%         0.000000\n",
            "75%         0.000000\n",
            "max         5.000000\n",
            "Name: previous, dtype: float64\n"
          ],
          "name": "stdout"
        }
      ]
    },
    {
      "cell_type": "code",
      "metadata": {
        "ExecuteTime": {
          "end_time": "2020-12-07T17:24:43.628548Z",
          "start_time": "2020-12-07T17:24:43.614515Z"
        },
        "id": "LZi43SlQSBs2"
      },
      "source": [
        "mylist = []\n",
        "for i in range(len(dataset.columns)):\n",
        "    if dataset[dataset.columns[i]].dtype != 'object':\n",
        "        varname = dataset.columns[i]\n",
        "        mylist.append(varname)"
      ],
      "execution_count": null,
      "outputs": []
    },
    {
      "cell_type": "code",
      "metadata": {
        "id": "Ljx7PaqaSBs3",
        "colab": {
          "base_uri": "https://localhost:8080/",
          "height": 621
        },
        "outputId": "94bb3545-c0ea-42ea-ef84-2c2e164e8d9a"
      },
      "source": [
        "##Source code: Professor Srikumar Krishnamoorthy-IIMA Faculty\n",
        "fig = plt.figure(figsize=(20,10))\n",
        "i = 1\n",
        "for k in mylist:\n",
        "    plt.subplot(2, 4, i)\n",
        "    i += 1\n",
        "    x = dataset[[k, 'subscribed']]\n",
        "    y = x.loc[dataset.subscribed == 'no', ]\n",
        "    sns.kdeplot(y.iloc[:, 0])\n",
        "    plt.title(\"subscribed:no=\"+str(k))"
      ],
      "execution_count": null,
      "outputs": [
        {
          "output_type": "display_data",
          "data": {
            "image/png": "[encoded data removed]",
            "text/plain": [
              "<Figure size 1440x720 with 5 Axes>"
            ]
          },
          "metadata": {
            "tags": [],
            "needs_background": "light"
          }
        }
      ]
    },
    {
      "cell_type": "code",
      "metadata": {
        "id": "D8kW-It-SBs3",
        "colab": {
          "base_uri": "https://localhost:8080/",
          "height": 621
        },
        "outputId": "7dec37d8-f6c8-4f3d-ff47-d38a27f426ca"
      },
      "source": [
        "##Source code: Professor Srikumar Krishnamoorthy-IIMA Faculty\n",
        "fig = plt.figure(figsize=(20,10))\n",
        "i = 1\n",
        "for k in mylist:\n",
        "    plt.subplot(2, 4, i)\n",
        "    i += 1\n",
        "    x = dataset[[k, 'subscribed']]\n",
        "    y = x.loc[dataset.subscribed == 'yes', ]\n",
        "    sns.kdeplot(y.iloc[:, 0])\n",
        "    plt.title(\"subscribed:no=\"+str(k))"
      ],
      "execution_count": null,
      "outputs": [
        {
          "output_type": "display_data",
          "data": {
            "image/png": "[encoded data removed]",
            "text/plain": [
              "<Figure size 1440x720 with 5 Axes>"
            ]
          },
          "metadata": {
            "tags": [],
            "needs_background": "light"
          }
        }
      ]
    },
    {
      "cell_type": "code",
      "metadata": {
        "ExecuteTime": {
          "end_time": "2020-12-07T17:24:44.010441Z",
          "start_time": "2020-12-07T17:24:43.630504Z"
        },
        "scrolled": false,
        "id": "hdwx0DEtSBs4",
        "colab": {
          "base_uri": "https://localhost:8080/",
          "height": 594
        },
        "outputId": "6b09868d-50a1-4d57-c6a6-adaf6aaf5877"
      },
      "source": [
        "##Source code: Professor Srikumar Krishnamoorthy-IIMA Faculty\n",
        "fig = plt.figure(figsize=(20,10))\n",
        "i = 1\n",
        "for k in mylist:\n",
        "    plt.subplot(2, 4, i)\n",
        "    i += 1\n",
        "    x = dataset[[k, 'subscribed']]\n",
        "    y = x.loc[dataset.subscribed == 'no', ]\n",
        "    sns.boxplot(y=y.iloc[:, 0])\n",
        "    plt.title(\"subscribed:no=\"+str(k))"
      ],
      "execution_count": null,
      "outputs": [
        {
          "output_type": "display_data",
          "data": {
            "image/png": "[encoded data removed]",
            "text/plain": [
              "<Figure size 1440x720 with 5 Axes>"
            ]
          },
          "metadata": {
            "tags": [],
            "needs_background": "light"
          }
        }
      ]
    },
    {
      "cell_type": "code",
      "metadata": {
        "ExecuteTime": {
          "end_time": "2020-12-07T17:24:44.385804Z",
          "start_time": "2020-12-07T17:24:44.012621Z"
        },
        "id": "kZwcvuE_SBs5",
        "colab": {
          "base_uri": "https://localhost:8080/",
          "height": 594
        },
        "outputId": "f94424c4-f4fd-40a7-9cfc-cfe4cebda44c"
      },
      "source": [
        "##Source code: Professor Srikumar Krishnamoorthy-IIMA Faculty\n",
        "fig = plt.figure(figsize=(20,10))\n",
        "i = 1\n",
        "for k in mylist:\n",
        "    plt.subplot(2, 4, i)\n",
        "    i += 1\n",
        "    x = dataset[[k, 'subscribed']]\n",
        "    y = x.loc[dataset.subscribed == 'yes', ]\n",
        "    sns.boxplot(y=y.iloc[:, 0])\n",
        "    plt.title(\"subscribed:yes=\"+str(k))"
      ],
      "execution_count": null,
      "outputs": [
        {
          "output_type": "display_data",
          "data": {
            "image/png": "[encoded data removed]",
            "text/plain": [
              "<Figure size 1440x720 with 5 Axes>"
            ]
          },
          "metadata": {
            "tags": [],
            "needs_background": "light"
          }
        }
      ]
    },
    {
      "cell_type": "code",
      "metadata": {
        "ExecuteTime": {
          "end_time": "2020-12-07T17:08:04.391728Z",
          "start_time": "2020-12-07T17:08:04.291602Z"
        },
        "id": "oxXriDyqSBs5",
        "colab": {
          "base_uri": "https://localhost:8080/",
          "height": 585
        },
        "outputId": "1a396800-87fb-4463-f4a3-ac262291094c"
      },
      "source": [
        "fig, axes = plt.subplots(figsize=(10,8))\n",
        "fig.subplots_adjust(top=0.7)\n",
        "splot = sns.countplot(y='occupation', data=dataset, hue='subscribed', ax=axes);\n",
        "axes.spines['top'].set_visible(False)\n",
        "axes.spines['right'].set_visible(False)\n",
        "axes.set_title('Occupation of the customer vs Subscribed Status', fontsize=14)\n",
        "axes.set_ylabel('Occupation', fontsize=12, weight='bold')\n",
        "axes.set_xlabel('Frequency', fontsize=12, weight='bold')\n",
        "\n",
        "for p in splot.patches:\n",
        "    count =format(p.get_width(), '.0f')\n",
        "    width, height =p.get_width(),p.get_height()\n",
        "    x=p.get_x()+width+0.02\n",
        "    y=p.get_y()+height/2\n",
        "    splot.annotate(count,(x,y))\n",
        "    \n",
        "axes.legend(loc='best', shadow=True,fontsize='medium')\n",
        "fig.tight_layout()\n",
        "plt.show()"
      ],
      "execution_count": null,
      "outputs": [
        {
          "output_type": "display_data",
          "data": {
            "image/png": "[encoded data removed]",
            "text/plain": [
              "<Figure size 720x576 with 1 Axes>"
            ]
          },
          "metadata": {
            "tags": [],
            "needs_background": "light"
          }
        }
      ]
    },
    {
      "cell_type": "code",
      "metadata": {
        "id": "kNWdQsDOSBs6",
        "colab": {
          "base_uri": "https://localhost:8080/",
          "height": 369
        },
        "outputId": "dde8904d-0a01-4336-cad6-7f86d1123d82"
      },
      "source": [
        "fig, axes = plt.subplots(figsize=(10,5))\n",
        "fig.subplots_adjust(top=0.7)\n",
        "splot = sns.countplot(x='maritalStatus', data=dataset, hue='subscribed', ax=axes);\n",
        "axes.spines['top'].set_visible(False)\n",
        "axes.spines['right'].set_visible(False)\n",
        "axes.set_title('Marital Status vs Response', fontsize=14)\n",
        "axes.set_xlabel('Marital Status', fontsize=12, weight='bold')\n",
        "axes.set_ylabel('Frequency', fontsize=12, weight='bold')\n",
        "##Source Code: Start\n",
        "##Link : https://github.com/mwaskom/seaborn/issues/1582\n",
        "for p in splot.patches:\n",
        "    splot.annotate(\n",
        "        format(p.get_height(), '.0f'),\n",
        "        (p.get_x() + p.get_width() / 2.,\n",
        "         p.get_height()), ha = 'center', va = 'center',\n",
        "        xytext = (0, 10), textcoords = 'offset points')\n",
        "##Source Code: End\n",
        "axes.legend(loc='best', shadow=True,fontsize='medium')\n",
        "fig.tight_layout()\n",
        "plt.show()"
      ],
      "execution_count": null,
      "outputs": [
        {
          "output_type": "display_data",
          "data": {
            "image/png": "[encoded data removed]",
            "text/plain": [
              "<Figure size 720x360 with 1 Axes>"
            ]
          },
          "metadata": {
            "tags": [],
            "needs_background": "light"
          }
        }
      ]
    },
    {
      "cell_type": "code",
      "metadata": {
        "id": "BdWaz5KWSBs7",
        "colab": {
          "base_uri": "https://localhost:8080/",
          "height": 585
        },
        "outputId": "08a70c02-dc77-4559-8a1c-754ad1ba60ff"
      },
      "source": [
        "fig, axes = plt.subplots(figsize=(10,8))\n",
        "fig.subplots_adjust(top=0.7)\n",
        "splot = sns.countplot(y='education', data=dataset, hue='subscribed', ax=axes, \n",
        "                      order=['illiterate', 'basic.4y', 'basic.6y', 'basic.9y', 'high.school', 'university.degree',\n",
        "                      'professional.course', 'unknown']);\n",
        "axes.spines['top'].set_visible(False)\n",
        "axes.spines['right'].set_visible(False)\n",
        "axes.set_title('Educational background of the customer vs Subscribed Status', fontsize=14)\n",
        "axes.set_ylabel('Educational background', fontsize=12, weight='bold')\n",
        "axes.set_xlabel('Frequency', fontsize=12, weight='bold')\n",
        "\n",
        "for p in splot.patches:\n",
        "    count =format(p.get_width(), '.0f')\n",
        "    width, height =p.get_width(),p.get_height()\n",
        "    x=p.get_x()+width+0.02\n",
        "    y=p.get_y()+height/2\n",
        "    splot.annotate(count,(x,y))\n",
        "\n",
        "axes.legend(loc='best', shadow=True,fontsize='medium')\n",
        "fig.tight_layout()\n",
        "plt.show()"
      ],
      "execution_count": null,
      "outputs": [
        {
          "output_type": "display_data",
          "data": {
            "image/png": "[encoded data removed]",
            "text/plain": [
              "<Figure size 720x576 with 1 Axes>"
            ]
          },
          "metadata": {
            "tags": [],
            "needs_background": "light"
          }
        }
      ]
    },
    {
      "cell_type": "code",
      "metadata": {
        "id": "FkHhDxKwSBs8",
        "colab": {
          "base_uri": "https://localhost:8080/",
          "height": 369
        },
        "outputId": "3e1638ad-23fd-47a5-83da-7cfa9b42e96a"
      },
      "source": [
        "fig, axes = plt.subplots(figsize=(10,5))\n",
        "fig.subplots_adjust(top=0.7)\n",
        "splot = sns.countplot(x='creditDefault', data=dataset, hue='subscribed', ax=axes);\n",
        "axes.spines['top'].set_visible(False)\n",
        "axes.spines['right'].set_visible(False)\n",
        "axes.set_title('Customer has Credit Default', fontsize=14)\n",
        "axes.set_xlabel('Default Status', fontsize=12, weight='bold')\n",
        "axes.set_ylabel('Frequency', fontsize=12, weight='bold')\n",
        "##Source Code: Start\n",
        "##Link : https://github.com/mwaskom/seaborn/issues/1582\n",
        "for p in splot.patches:\n",
        "    splot.annotate(\n",
        "        format(p.get_height(), '.0f'),\n",
        "        (p.get_x() + p.get_width() / 2.,\n",
        "         p.get_height()), ha = 'center', va = 'center',\n",
        "        xytext = (0, 10), textcoords = 'offset points')\n",
        "##Source Code: End\n",
        "axes.legend(loc='best', shadow=True,fontsize='medium')\n",
        "fig.tight_layout()\n",
        "plt.show()"
      ],
      "execution_count": null,
      "outputs": [
        {
          "output_type": "display_data",
          "data": {
            "image/png": "[encoded data removed]",
            "text/plain": [
              "<Figure size 720x360 with 1 Axes>"
            ]
          },
          "metadata": {
            "tags": [],
            "needs_background": "light"
          }
        }
      ]
    },
    {
      "cell_type": "code",
      "metadata": {
        "id": "oipIcEM_SBs8",
        "colab": {
          "base_uri": "https://localhost:8080/",
          "height": 369
        },
        "outputId": "ecad4d4c-2cb2-4a6b-cfee-fb1a7346b43d"
      },
      "source": [
        "fig, axes = plt.subplots(figsize=(10,5))\n",
        "fig.subplots_adjust(top=0.7)\n",
        "splot = sns.countplot(x='housingLoan', data=dataset, hue='subscribed', ax=axes);\n",
        "axes.spines['top'].set_visible(False)\n",
        "axes.spines['right'].set_visible(False)\n",
        "axes.set_title('Customer has Housing Loan', fontsize=14)\n",
        "axes.set_xlabel('Loan Status', fontsize=12, weight='bold')\n",
        "axes.set_ylabel('Frequency', fontsize=12, weight='bold')\n",
        "##Source Code: Start\n",
        "##Link : https://github.com/mwaskom/seaborn/issues/1582\n",
        "for p in splot.patches:\n",
        "    splot.annotate(\n",
        "        format(p.get_height(), '.0f'),\n",
        "        (p.get_x() + p.get_width() / 2.,\n",
        "         p.get_height()), ha = 'center', va = 'center',\n",
        "        xytext = (0, 10), textcoords = 'offset points')\n",
        "##Source Code: End\n",
        "axes.legend(loc='best', shadow=True,fontsize='medium')\n",
        "fig.tight_layout()\n",
        "plt.show()"
      ],
      "execution_count": null,
      "outputs": [
        {
          "output_type": "display_data",
          "data": {
            "image/png": "[encoded data removed]",
            "text/plain": [
              "<Figure size 720x360 with 1 Axes>"
            ]
          },
          "metadata": {
            "tags": [],
            "needs_background": "light"
          }
        }
      ]
    },
    {
      "cell_type": "code",
      "metadata": {
        "id": "XUQs5WDpSBs-",
        "colab": {
          "base_uri": "https://localhost:8080/",
          "height": 369
        },
        "outputId": "a4b1ea4f-255c-4dc3-926e-8ce386f3c7fb"
      },
      "source": [
        "fig, axes = plt.subplots(figsize=(10,5))\n",
        "fig.subplots_adjust(top=0.7)\n",
        "splot = sns.countplot(x='personalLoan', data=dataset, hue='subscribed', ax=axes);\n",
        "axes.spines['top'].set_visible(False)\n",
        "axes.spines['right'].set_visible(False)\n",
        "axes.set_title('Customer has Personal Loan', fontsize=14)\n",
        "axes.set_xlabel('Loan Status', fontsize=12, weight='bold')\n",
        "axes.set_ylabel('Frequency', fontsize=12, weight='bold')\n",
        "##Source Code: Start\n",
        "##Link : https://github.com/mwaskom/seaborn/issues/1582\n",
        "for p in splot.patches:\n",
        "    splot.annotate(\n",
        "        format(p.get_height(), '.0f'),\n",
        "        (p.get_x() + p.get_width() / 2.,\n",
        "         p.get_height()), ha = 'center', va = 'center',\n",
        "        xytext = (0, 10), textcoords = 'offset points')\n",
        "##Source Code: End\n",
        "axes.legend(loc='best', shadow=True,fontsize='medium')\n",
        "fig.tight_layout()\n",
        "plt.show()"
      ],
      "execution_count": null,
      "outputs": [
        {
          "output_type": "display_data",
          "data": {
            "image/png": "[encoded data removed]",
            "text/plain": [
              "<Figure size 720x360 with 1 Axes>"
            ]
          },
          "metadata": {
            "tags": [],
            "needs_background": "light"
          }
        }
      ]
    },
    {
      "cell_type": "code",
      "metadata": {
        "id": "VYdWW_MGSBs-",
        "colab": {
          "base_uri": "https://localhost:8080/",
          "height": 369
        },
        "outputId": "60668d7b-871b-49c8-c8fc-ceecfa2c6bab"
      },
      "source": [
        "fig, axes = plt.subplots(figsize=(10,5))\n",
        "fig.subplots_adjust(top=0.7)\n",
        "splot = sns.countplot(x='contactMode', data=dataset, hue='subscribed', ax=axes);\n",
        "axes.spines['top'].set_visible(False)\n",
        "axes.spines['right'].set_visible(False)\n",
        "axes.set_title('Customer Communication mode', fontsize=14)\n",
        "axes.set_xlabel('Communication mode', fontsize=12, weight='bold')\n",
        "axes.set_ylabel('Frequency', fontsize=12, weight='bold')\n",
        "##Source Code: Start\n",
        "##Link : https://github.com/mwaskom/seaborn/issues/1582\n",
        "for p in splot.patches:\n",
        "    splot.annotate(\n",
        "        format(p.get_height(), '.0f'),\n",
        "        (p.get_x() + p.get_width() / 2.,\n",
        "         p.get_height()), ha = 'center', va = 'center',\n",
        "        xytext = (0, 10), textcoords = 'offset points')\n",
        "##Source Code: End\n",
        "axes.legend(loc='best', shadow=True,fontsize='medium')\n",
        "fig.tight_layout()\n",
        "plt.show()"
      ],
      "execution_count": null,
      "outputs": [
        {
          "output_type": "display_data",
          "data": {
            "image/png": "[encoded data removed]",
            "text/plain": [
              "<Figure size 720x360 with 1 Axes>"
            ]
          },
          "metadata": {
            "tags": [],
            "needs_background": "light"
          }
        }
      ]
    },
    {
      "cell_type": "code",
      "metadata": {
        "id": "Mivgk8QeSBs_",
        "colab": {
          "base_uri": "https://localhost:8080/",
          "height": 585
        },
        "outputId": "04f22a7e-6683-4214-8524-b827427bc356"
      },
      "source": [
        "fig, axes = plt.subplots(figsize=(10,8))\n",
        "fig.subplots_adjust(top=0.7)\n",
        "splot = sns.countplot(y='month', data=dataset, hue='subscribed', ax=axes,\n",
        "                     order=['mar', 'apr', 'may', 'jun', 'jul', 'aug', 'sep', 'oct', 'nov', 'dec']);\n",
        "axes.spines['top'].set_visible(False)\n",
        "axes.spines['right'].set_visible(False)\n",
        "axes.set_title('Last Contact Month vs Subscribed Status', fontsize=14)\n",
        "axes.set_ylabel('Last contact Month', fontsize=12, weight='bold')\n",
        "axes.set_xlabel('Frequency', fontsize=12, weight='bold')\n",
        "\n",
        "for p in splot.patches:\n",
        "    count =format(p.get_width(), '.0f')\n",
        "    width, height =p.get_width(),p.get_height()\n",
        "    x=p.get_x()+width+0.02\n",
        "    y=p.get_y()+height/2\n",
        "    splot.annotate(count,(x,y))\n",
        "\n",
        "axes.legend(loc='best', shadow=True,fontsize='medium')\n",
        "fig.tight_layout()\n",
        "plt.show()"
      ],
      "execution_count": null,
      "outputs": [
        {
          "output_type": "display_data",
          "data": {
            "image/png": "[encoded data removed]",
            "text/plain": [
              "<Figure size 720x576 with 1 Axes>"
            ]
          },
          "metadata": {
            "tags": [],
            "needs_background": "light"
          }
        }
      ]
    },
    {
      "cell_type": "code",
      "metadata": {
        "id": "GpkhrvYoSBtA",
        "colab": {
          "base_uri": "https://localhost:8080/",
          "height": 585
        },
        "outputId": "08815f61-f9f2-46ca-ba86-10de0164c9cf"
      },
      "source": [
        "fig, axes = plt.subplots(figsize=(10,8))\n",
        "fig.subplots_adjust(top=0.7)\n",
        "splot = sns.countplot(y='dayOfWeek', data=dataset, hue='subscribed', ax=axes,\n",
        "                     order=['mon', 'tue', 'wed', 'thu', 'fri']);\n",
        "axes.spines['top'].set_visible(False)\n",
        "axes.spines['right'].set_visible(False)\n",
        "axes.set_title('Last Contact Day vs Subscribed Status', fontsize=14)\n",
        "axes.set_ylabel('Last contact Day', fontsize=12, weight='bold')\n",
        "axes.set_xlabel('Frequency', fontsize=12, weight='bold')\n",
        "\n",
        "for p in splot.patches:\n",
        "    count =format(p.get_width(), '.0f')\n",
        "    width, height =p.get_width(),p.get_height()\n",
        "    x=p.get_x()+width+0.02\n",
        "    y=p.get_y()+height/2\n",
        "    splot.annotate(count,(x,y))\n",
        "\n",
        "axes.legend(loc='best', shadow=True,fontsize='medium')\n",
        "fig.tight_layout()\n",
        "plt.show()"
      ],
      "execution_count": null,
      "outputs": [
        {
          "output_type": "display_data",
          "data": {
            "image/png": "[encoded data removed]",
            "text/plain": [
              "<Figure size 720x576 with 1 Axes>"
            ]
          },
          "metadata": {
            "tags": [],
            "needs_background": "light"
          }
        }
      ]
    },
    {
      "cell_type": "code",
      "metadata": {
        "id": "Y3Qexr1DSBtB",
        "colab": {
          "base_uri": "https://localhost:8080/",
          "height": 369
        },
        "outputId": "b09451f6-a64f-4004-f477-c0c859031e84"
      },
      "source": [
        "fig, axes = plt.subplots(figsize=(10,5))\n",
        "fig.subplots_adjust(top=0.7)\n",
        "splot = sns.countplot(x='poutcome', data=dataset, hue='subscribed', ax=axes);\n",
        "axes.spines['top'].set_visible(False)\n",
        "axes.spines['right'].set_visible(False)\n",
        "axes.set_title('Outcome of the previous marketing campaign vs Subscribed Status', fontsize=14)\n",
        "axes.set_xlabel('Outcome', fontsize=12, weight='bold')\n",
        "axes.set_ylabel('Frequency', fontsize=12, weight='bold')\n",
        "##Source Code: Start\n",
        "##Link : https://github.com/mwaskom/seaborn/issues/1582\n",
        "for p in splot.patches:\n",
        "    splot.annotate(\n",
        "        format(p.get_height(), '.0f'),\n",
        "        (p.get_x() + p.get_width() / 2.,\n",
        "         p.get_height()), ha = 'center', va = 'center',\n",
        "        xytext = (0, 10), textcoords = 'offset points')\n",
        "##Source Code: End\n",
        "axes.legend(loc='best', shadow=True,fontsize='medium')\n",
        "fig.tight_layout()\n",
        "plt.show()"
      ],
      "execution_count": null,
      "outputs": [
        {
          "output_type": "display_data",
          "data": {
            "image/png": "[encoded data removed]",
            "text/plain": [
              "<Figure size 720x360 with 1 Axes>"
            ]
          },
          "metadata": {
            "tags": [],
            "needs_background": "light"
          }
        }
      ]
    },
    {
      "cell_type": "code",
      "metadata": {
        "id": "7zAWZtJhSBtB",
        "colab": {
          "base_uri": "https://localhost:8080/"
        },
        "outputId": "7bef2a68-5e19-458b-9c46-0750ef590a2b"
      },
      "source": [
        "dataset.previous.value_counts().sort_index()"
      ],
      "execution_count": null,
      "outputs": [
        {
          "output_type": "execute_result",
          "data": {
            "text/plain": [
              "0    2689\n",
              "1     323\n",
              "2      59\n",
              "3      12\n",
              "4       6\n",
              "5       1\n",
              "Name: previous, dtype: int64"
            ]
          },
          "metadata": {
            "tags": []
          },
          "execution_count": 23
        }
      ]
    },
    {
      "cell_type": "code",
      "metadata": {
        "id": "1eIi437jSBtC",
        "colab": {
          "base_uri": "https://localhost:8080/"
        },
        "outputId": "c9bc2e17-7a77-4689-e2cc-7148f3158b20"
      },
      "source": [
        "dataset.previous.astype(\"str\")"
      ],
      "execution_count": null,
      "outputs": [
        {
          "output_type": "execute_result",
          "data": {
            "text/plain": [
              "0       0\n",
              "1       0\n",
              "2       0\n",
              "3       0\n",
              "4       1\n",
              "       ..\n",
              "3085    0\n",
              "3086    0\n",
              "3087    0\n",
              "3088    1\n",
              "3089    0\n",
              "Name: previous, Length: 3090, dtype: object"
            ]
          },
          "metadata": {
            "tags": []
          },
          "execution_count": 24
        }
      ]
    },
    {
      "cell_type": "code",
      "metadata": {
        "id": "q9GgCBBYSBtC"
      },
      "source": [
        "previous_mapping = {0:\"Zero\", 1:\"One\", 2:\"Two\", 3:\"Three\", 4:\"Four\", 5:\"Five\"}\n",
        "dataset[\"previous_\"] = dataset.previous.map(previous_mapping)"
      ],
      "execution_count": null,
      "outputs": []
    },
    {
      "cell_type": "code",
      "metadata": {
        "id": "DwdmdCp2SBtD",
        "colab": {
          "base_uri": "https://localhost:8080/",
          "height": 215
        },
        "outputId": "7e7cf20e-2d2e-43cb-c1d1-0b35963e5cd5"
      },
      "source": [
        "dataset.head()"
      ],
      "execution_count": null,
      "outputs": [
        {
          "output_type": "execute_result",
          "data": {
            "text/html": [
              "<div>\n",
              "<style scoped>\n",
              "    .dataframe tbody tr th:only-of-type {\n",
              "        vertical-align: middle;\n",
              "    }\n",
              "\n",
              "    .dataframe tbody tr th {\n",
              "        vertical-align: top;\n",
              "    }\n",
              "\n",
              "    .dataframe thead th {\n",
              "        text-align: right;\n",
              "    }\n",
              "</style>\n",
              "<table border=\"1\" class=\"dataframe\">\n",
              "  <thead>\n",
              "    <tr style=\"text-align: right;\">\n",
              "      <th></th>\n",
              "      <th>age</th>\n",
              "      <th>occupation</th>\n",
              "      <th>maritalStatus</th>\n",
              "      <th>education</th>\n",
              "      <th>creditDefault</th>\n",
              "      <th>housingLoan</th>\n",
              "      <th>personalLoan</th>\n",
              "      <th>contactMode</th>\n",
              "      <th>month</th>\n",
              "      <th>dayOfWeek</th>\n",
              "      <th>duration</th>\n",
              "      <th>campaign</th>\n",
              "      <th>pdays</th>\n",
              "      <th>previous</th>\n",
              "      <th>poutcome</th>\n",
              "      <th>subscribed</th>\n",
              "      <th>previous_</th>\n",
              "    </tr>\n",
              "  </thead>\n",
              "  <tbody>\n",
              "    <tr>\n",
              "      <th>0</th>\n",
              "      <td>54</td>\n",
              "      <td>housemaid</td>\n",
              "      <td>married</td>\n",
              "      <td>basic.9y</td>\n",
              "      <td>no</td>\n",
              "      <td>no</td>\n",
              "      <td>no</td>\n",
              "      <td>cellular</td>\n",
              "      <td>nov</td>\n",
              "      <td>wed</td>\n",
              "      <td>362</td>\n",
              "      <td>3</td>\n",
              "      <td>999</td>\n",
              "      <td>0</td>\n",
              "      <td>nonexistent</td>\n",
              "      <td>no</td>\n",
              "      <td>Zero</td>\n",
              "    </tr>\n",
              "    <tr>\n",
              "      <th>1</th>\n",
              "      <td>62</td>\n",
              "      <td>technician</td>\n",
              "      <td>married</td>\n",
              "      <td>unknown</td>\n",
              "      <td>no</td>\n",
              "      <td>no</td>\n",
              "      <td>no</td>\n",
              "      <td>cellular</td>\n",
              "      <td>mar</td>\n",
              "      <td>mon</td>\n",
              "      <td>105</td>\n",
              "      <td>2</td>\n",
              "      <td>999</td>\n",
              "      <td>0</td>\n",
              "      <td>nonexistent</td>\n",
              "      <td>no</td>\n",
              "      <td>Zero</td>\n",
              "    </tr>\n",
              "    <tr>\n",
              "      <th>2</th>\n",
              "      <td>58</td>\n",
              "      <td>unemployed</td>\n",
              "      <td>divorced</td>\n",
              "      <td>high.school</td>\n",
              "      <td>no</td>\n",
              "      <td>no</td>\n",
              "      <td>no</td>\n",
              "      <td>cellular</td>\n",
              "      <td>jul</td>\n",
              "      <td>mon</td>\n",
              "      <td>377</td>\n",
              "      <td>4</td>\n",
              "      <td>999</td>\n",
              "      <td>0</td>\n",
              "      <td>nonexistent</td>\n",
              "      <td>no</td>\n",
              "      <td>Zero</td>\n",
              "    </tr>\n",
              "    <tr>\n",
              "      <th>3</th>\n",
              "      <td>25</td>\n",
              "      <td>admin.</td>\n",
              "      <td>single</td>\n",
              "      <td>university.degree</td>\n",
              "      <td>no</td>\n",
              "      <td>yes</td>\n",
              "      <td>no</td>\n",
              "      <td>cellular</td>\n",
              "      <td>jul</td>\n",
              "      <td>thu</td>\n",
              "      <td>174</td>\n",
              "      <td>2</td>\n",
              "      <td>999</td>\n",
              "      <td>0</td>\n",
              "      <td>nonexistent</td>\n",
              "      <td>no</td>\n",
              "      <td>Zero</td>\n",
              "    </tr>\n",
              "    <tr>\n",
              "      <th>4</th>\n",
              "      <td>29</td>\n",
              "      <td>admin.</td>\n",
              "      <td>married</td>\n",
              "      <td>high.school</td>\n",
              "      <td>no</td>\n",
              "      <td>yes</td>\n",
              "      <td>yes</td>\n",
              "      <td>cellular</td>\n",
              "      <td>nov</td>\n",
              "      <td>mon</td>\n",
              "      <td>58</td>\n",
              "      <td>1</td>\n",
              "      <td>999</td>\n",
              "      <td>1</td>\n",
              "      <td>failure</td>\n",
              "      <td>no</td>\n",
              "      <td>One</td>\n",
              "    </tr>\n",
              "  </tbody>\n",
              "</table>\n",
              "</div>"
            ],
            "text/plain": [
              "   age  occupation maritalStatus  ...     poutcome subscribed previous_\n",
              "0   54   housemaid       married  ...  nonexistent         no      Zero\n",
              "1   62  technician       married  ...  nonexistent         no      Zero\n",
              "2   58  unemployed      divorced  ...  nonexistent         no      Zero\n",
              "3   25      admin.        single  ...  nonexistent         no      Zero\n",
              "4   29      admin.       married  ...      failure         no       One\n",
              "\n",
              "[5 rows x 17 columns]"
            ]
          },
          "metadata": {
            "tags": []
          },
          "execution_count": 26
        }
      ]
    },
    {
      "cell_type": "code",
      "metadata": {
        "id": "AR59bfmMSBtD",
        "colab": {
          "base_uri": "https://localhost:8080/",
          "height": 369
        },
        "outputId": "c487c909-d691-4074-ff8c-d72f7bdaa83c"
      },
      "source": [
        "fig, axes = plt.subplots(figsize=(10,5))\n",
        "fig.subplots_adjust(top=0.7)\n",
        "splot = sns.countplot(x='previous_', data=dataset, hue='subscribed', ax=axes,\n",
        "                     order=[\"Zero\", \"One\", \"Two\", \"Three\", \"Four\", \"Five\"]);\n",
        "axes.spines['top'].set_visible(False)\n",
        "axes.spines['right'].set_visible(False)\n",
        "axes.set_title('Number of contacts performed before this campaign', fontsize=14)\n",
        "axes.set_xlabel('Contacts number', fontsize=12, weight='bold')\n",
        "axes.set_ylabel('Frequency', fontsize=12, weight='bold')\n",
        "##Source Code: Start\n",
        "##Link : https://github.com/mwaskom/seaborn/issues/1582\n",
        "for p in splot.patches:\n",
        "    splot.annotate(\n",
        "        format(p.get_height(), '.0f'),\n",
        "        (p.get_x() + p.get_width() / 2.,\n",
        "         p.get_height()), ha = 'center', va = 'center',\n",
        "        xytext = (0, 10), textcoords = 'offset points')\n",
        "##Source Code: End\n",
        "axes.legend(loc='upper right', shadow=True,fontsize='medium')\n",
        "fig.tight_layout()\n",
        "plt.show()"
      ],
      "execution_count": null,
      "outputs": [
        {
          "output_type": "display_data",
          "data": {
            "image/png": "[encoded data removed]",
            "text/plain": [
              "<Figure size 720x360 with 1 Axes>"
            ]
          },
          "metadata": {
            "tags": [],
            "needs_background": "light"
          }
        }
      ]
    },
    {
      "cell_type": "code",
      "metadata": {
        "id": "Z8icmfuqSBtD",
        "colab": {
          "base_uri": "https://localhost:8080/"
        },
        "outputId": "12b5cc85-1dbf-468c-a9b1-a83dc63b61a4"
      },
      "source": [
        "dataset.pdays.value_counts().sort_index()"
      ],
      "execution_count": null,
      "outputs": [
        {
          "output_type": "execute_result",
          "data": {
            "text/plain": [
              "1         2\n",
              "2         9\n",
              "3        28\n",
              "4        13\n",
              "5         4\n",
              "6        29\n",
              "7         1\n",
              "8         1\n",
              "9         5\n",
              "10        4\n",
              "11        3\n",
              "12        3\n",
              "13        3\n",
              "14        1\n",
              "15        1\n",
              "17        1\n",
              "18        1\n",
              "999    2981\n",
              "Name: pdays, dtype: int64"
            ]
          },
          "metadata": {
            "tags": []
          },
          "execution_count": 28
        }
      ]
    },
    {
      "cell_type": "code",
      "metadata": {
        "id": "YA_QEKvtSBtE"
      },
      "source": [
        "customer_mapping = {\"no\":0, \"yes\":1}\n",
        "dataset[\"target\"] = dataset.subscribed.map(customer_mapping)"
      ],
      "execution_count": null,
      "outputs": []
    },
    {
      "cell_type": "code",
      "metadata": {
        "id": "c_K5f6jMSBtE",
        "colab": {
          "base_uri": "https://localhost:8080/"
        },
        "outputId": "bc35e026-9ec7-4515-d66b-657947b8c584"
      },
      "source": [
        "dataset.target.value_counts().sort_index()"
      ],
      "execution_count": null,
      "outputs": [
        {
          "output_type": "execute_result",
          "data": {
            "text/plain": [
              "0    2742\n",
              "1     348\n",
              "Name: target, dtype: int64"
            ]
          },
          "metadata": {
            "tags": []
          },
          "execution_count": 30
        }
      ]
    },
    {
      "cell_type": "code",
      "metadata": {
        "id": "tNyRXn3DSBtE"
      },
      "source": [
        "dataset.drop([\"subscribed\", \"previous\"], axis=1, inplace=True)"
      ],
      "execution_count": null,
      "outputs": []
    },
    {
      "cell_type": "code",
      "metadata": {
        "id": "f07HprcfSBtE"
      },
      "source": [
        "from sklearn.model_selection import train_test_split"
      ],
      "execution_count": null,
      "outputs": []
    },
    {
      "cell_type": "code",
      "metadata": {
        "id": "7jQT5G68SBtF",
        "colab": {
          "base_uri": "https://localhost:8080/"
        },
        "outputId": "89687bcc-1f2d-4fcd-a0b8-09211244fc05"
      },
      "source": [
        "y = dataset.loc[:, [\"target\"]]\n",
        "X = dataset.loc[:, ['age', 'occupation', 'maritalStatus', 'education', 'creditDefault',\n",
        "       'housingLoan', 'personalLoan', 'contactMode', 'month', 'dayOfWeek',\n",
        "       'duration', 'campaign', 'pdays', 'previous_', 'poutcome']]\n",
        "\n",
        "##Push 40% to test data\n",
        "X_train, X_test, y_train, y_test = train_test_split(X, y, test_size = 0.4, random_state = 0)\n",
        "\n",
        "X_train.shape, X_test.shape, y_train.shape, y_test.shape"
      ],
      "execution_count": null,
      "outputs": [
        {
          "output_type": "execute_result",
          "data": {
            "text/plain": [
              "((1854, 15), (1236, 15), (1854, 1), (1236, 1))"
            ]
          },
          "metadata": {
            "tags": []
          },
          "execution_count": 33
        }
      ]
    },
    {
      "cell_type": "code",
      "metadata": {
        "id": "ijmjsyL-SBtF"
      },
      "source": [
        "##!pip install feature_engine\n",
        "from feature_engine.outlier_removers import Winsorizer"
      ],
      "execution_count": null,
      "outputs": []
    },
    {
      "cell_type": "code",
      "metadata": {
        "id": "mPTWIbfJSBtF"
      },
      "source": [
        "windsoriser = Winsorizer(distribution='quantiles',\n",
        "                          tail='both',\n",
        "                          fold=0.05,\n",
        "                          variables=['age', 'duration', 'campaign'])"
      ],
      "execution_count": null,
      "outputs": []
    },
    {
      "cell_type": "code",
      "metadata": {
        "id": "uA2P1tQxSBtG",
        "colab": {
          "base_uri": "https://localhost:8080/"
        },
        "outputId": "121b92b1-5d9b-46a8-cfe8-bdedcd4ec66e"
      },
      "source": [
        "windsoriser.fit(X_train)"
      ],
      "execution_count": null,
      "outputs": [
        {
          "output_type": "execute_result",
          "data": {
            "text/plain": [
              "Winsorizer(distribution='quantiles', fold=0.05, missing_values='raise',\n",
              "           tail='both', variables=['age', 'duration', 'campaign'])"
            ]
          },
          "metadata": {
            "tags": []
          },
          "execution_count": 36
        }
      ]
    },
    {
      "cell_type": "code",
      "metadata": {
        "id": "zJ_1y7imSBtG"
      },
      "source": [
        "X_train1 = windsoriser.transform(X_train)\n",
        "X_test1 = windsoriser.transform(X_test)"
      ],
      "execution_count": null,
      "outputs": []
    },
    {
      "cell_type": "code",
      "metadata": {
        "id": "VTnjFZm4SBtG"
      },
      "source": [
        "from feature_engine.discretisers import EqualWidthDiscretiser"
      ],
      "execution_count": null,
      "outputs": []
    },
    {
      "cell_type": "code",
      "metadata": {
        "id": "6bQcWMIZSBtG"
      },
      "source": [
        "eqfdisctr1 = EqualWidthDiscretiser(bins=10, variables = ['age', 'duration', 'campaign', 'pdays'], return_object=True)"
      ],
      "execution_count": null,
      "outputs": []
    },
    {
      "cell_type": "code",
      "metadata": {
        "id": "zj52SHevSBtH",
        "colab": {
          "base_uri": "https://localhost:8080/"
        },
        "outputId": "5ba94ca2-0985-4b86-e776-9a01872101f5"
      },
      "source": [
        "eqfdisctr1.fit(X_train1)"
      ],
      "execution_count": null,
      "outputs": [
        {
          "output_type": "execute_result",
          "data": {
            "text/plain": [
              "EqualWidthDiscretiser(bins=10, return_boundaries=False, return_object=True,\n",
              "                      variables=['age', 'duration', 'campaign', 'pdays'])"
            ]
          },
          "metadata": {
            "tags": []
          },
          "execution_count": 40
        }
      ]
    },
    {
      "cell_type": "code",
      "metadata": {
        "id": "28LmGjFWSBtH"
      },
      "source": [
        "X_train2 = eqfdisctr1.transform(X_train1)\n",
        "X_test2 = eqfdisctr1.transform(X_test1)"
      ],
      "execution_count": null,
      "outputs": []
    },
    {
      "cell_type": "code",
      "metadata": {
        "id": "YejZmqfjSBtH",
        "colab": {
          "base_uri": "https://localhost:8080/"
        },
        "outputId": "5ce5b682-8b97-4fcc-8aa5-70711ba0b8e0"
      },
      "source": [
        "X_train2.pdays.value_counts().sort_index()"
      ],
      "execution_count": null,
      "outputs": [
        {
          "output_type": "execute_result",
          "data": {
            "text/plain": [
              "0      60\n",
              "9    1794\n",
              "Name: pdays, dtype: int64"
            ]
          },
          "metadata": {
            "tags": []
          },
          "execution_count": 42
        }
      ]
    },
    {
      "cell_type": "code",
      "metadata": {
        "id": "9NtUGdz7SBtH",
        "colab": {
          "base_uri": "https://localhost:8080/"
        },
        "outputId": "f2ec9ced-6778-4ba8-c0bd-9b8df1907426"
      },
      "source": [
        "X_train2.info()"
      ],
      "execution_count": null,
      "outputs": [
        {
          "output_type": "stream",
          "text": [
            "<class 'pandas.core.frame.DataFrame'>\n",
            "Int64Index: 1854 entries, 665 to 2732\n",
            "Data columns (total 15 columns):\n",
            " #   Column         Non-Null Count  Dtype \n",
            "---  ------         --------------  ----- \n",
            " 0   age            1854 non-null   object\n",
            " 1   occupation     1854 non-null   object\n",
            " 2   maritalStatus  1854 non-null   object\n",
            " 3   education      1854 non-null   object\n",
            " 4   creditDefault  1854 non-null   object\n",
            " 5   housingLoan    1854 non-null   object\n",
            " 6   personalLoan   1854 non-null   object\n",
            " 7   contactMode    1854 non-null   object\n",
            " 8   month          1854 non-null   object\n",
            " 9   dayOfWeek      1854 non-null   object\n",
            " 10  duration       1854 non-null   object\n",
            " 11  campaign       1854 non-null   object\n",
            " 12  pdays          1854 non-null   object\n",
            " 13  previous_      1854 non-null   object\n",
            " 14  poutcome       1854 non-null   object\n",
            "dtypes: object(15)\n",
            "memory usage: 231.8+ KB\n"
          ],
          "name": "stdout"
        }
      ]
    },
    {
      "cell_type": "code",
      "metadata": {
        "id": "SEjIoPXSSBtI",
        "colab": {
          "base_uri": "https://localhost:8080/",
          "height": 296
        },
        "outputId": "65baa3b0-ffa9-4ed8-ec5a-10468df817ff"
      },
      "source": [
        "t1 = X_train2.groupby(['age'])['age'].count() / len(X_train2)\n",
        "t2 = X_test2.groupby(['age'])['age'].count() / len(X_test2)\n",
        "\n",
        "tmp = pd.concat([t1, t2], axis=1)\n",
        "tmp.columns = ['train', 'test']\n",
        "tmp.plot.bar()\n",
        "plt.xticks(rotation=0)\n",
        "plt.ylabel('Number of observations per bin')"
      ],
      "execution_count": null,
      "outputs": [
        {
          "output_type": "execute_result",
          "data": {
            "text/plain": [
              "Text(0, 0.5, 'Number of observations per bin')"
            ]
          },
          "metadata": {
            "tags": []
          },
          "execution_count": 44
        },
        {
          "output_type": "display_data",
          "data": {
            "image/png": "[encoded data removed]",
            "text/plain": [
              "<Figure size 432x288 with 1 Axes>"
            ]
          },
          "metadata": {
            "tags": [],
            "needs_background": "light"
          }
        }
      ]
    },
    {
      "cell_type": "code",
      "metadata": {
        "id": "GCW_kxIGSBtI",
        "colab": {
          "base_uri": "https://localhost:8080/",
          "height": 299
        },
        "outputId": "97035bc2-7aa4-4dc4-c2b5-07b8a91eeab4"
      },
      "source": [
        "t1 = X_train2.groupby(['duration'])['duration'].count() / len(X_train2)\n",
        "t2 = X_test2.groupby(['duration'])['duration'].count() / len(X_test2)\n",
        "\n",
        "tmp = pd.concat([t1, t2], axis=1)\n",
        "tmp.columns = ['train', 'test']\n",
        "tmp.plot.bar()\n",
        "plt.xticks(rotation=0)\n",
        "plt.ylabel('Number of observations per bin')"
      ],
      "execution_count": null,
      "outputs": [
        {
          "output_type": "execute_result",
          "data": {
            "text/plain": [
              "Text(0, 0.5, 'Number of observations per bin')"
            ]
          },
          "metadata": {
            "tags": []
          },
          "execution_count": 45
        },
        {
          "output_type": "display_data",
          "data": {
            "image/png": "[encoded data removed]",
            "text/plain": [
              "<Figure size 432x288 with 1 Axes>"
            ]
          },
          "metadata": {
            "tags": [],
            "needs_background": "light"
          }
        }
      ]
    },
    {
      "cell_type": "code",
      "metadata": {
        "id": "xIb-RD-tSBtI",
        "colab": {
          "base_uri": "https://localhost:8080/",
          "height": 296
        },
        "outputId": "c8a30830-7397-452c-8246-c73450b6f505"
      },
      "source": [
        "t1 = X_train2.groupby(['campaign'])['campaign'].count() / len(X_train2)\n",
        "t2 = X_test2.groupby(['campaign'])['campaign'].count() / len(X_test2)\n",
        "\n",
        "tmp = pd.concat([t1, t2], axis=1)\n",
        "tmp.columns = ['train', 'test']\n",
        "tmp.plot.bar()\n",
        "plt.xticks(rotation=0)\n",
        "plt.ylabel('Number of observations per bin')"
      ],
      "execution_count": null,
      "outputs": [
        {
          "output_type": "execute_result",
          "data": {
            "text/plain": [
              "Text(0, 0.5, 'Number of observations per bin')"
            ]
          },
          "metadata": {
            "tags": []
          },
          "execution_count": 46
        },
        {
          "output_type": "display_data",
          "data": {
            "image/png": "[encoded data removed]",
            "text/plain": [
              "<Figure size 432x288 with 1 Axes>"
            ]
          },
          "metadata": {
            "tags": [],
            "needs_background": "light"
          }
        }
      ]
    },
    {
      "cell_type": "code",
      "metadata": {
        "id": "3H-kKAt1SBtJ",
        "colab": {
          "base_uri": "https://localhost:8080/",
          "height": 297
        },
        "outputId": "75b22b94-095a-48c3-cd43-146f19037038"
      },
      "source": [
        "t1 = X_train2.groupby(['pdays'])['pdays'].count() / len(X_train2)\n",
        "t2 = X_test2.groupby(['pdays'])['pdays'].count() / len(X_test2)\n",
        "\n",
        "tmp = pd.concat([t1, t2], axis=1)\n",
        "tmp.columns = ['train', 'test']\n",
        "tmp.plot.bar()\n",
        "plt.xticks(rotation=0)\n",
        "plt.ylabel('Number of observations per bin')"
      ],
      "execution_count": null,
      "outputs": [
        {
          "output_type": "execute_result",
          "data": {
            "text/plain": [
              "Text(0, 0.5, 'Number of observations per bin')"
            ]
          },
          "metadata": {
            "tags": []
          },
          "execution_count": 47
        },
        {
          "output_type": "display_data",
          "data": {
            "image/png": "[encoded data removed]",
            "text/plain": [
              "<Figure size 432x288 with 1 Axes>"
            ]
          },
          "metadata": {
            "tags": [],
            "needs_background": "light"
          }
        }
      ]
    },
    {
      "cell_type": "code",
      "metadata": {
        "id": "QDohvSXdSBtJ"
      },
      "source": [
        "from feature_engine.categorical_encoders import RareLabelCategoricalEncoder"
      ],
      "execution_count": null,
      "outputs": []
    },
    {
      "cell_type": "code",
      "metadata": {
        "id": "yS8YGamNSBtJ",
        "colab": {
          "base_uri": "https://localhost:8080/"
        },
        "outputId": "f6da429a-4797-41eb-fc6b-fe434e9c9727"
      },
      "source": [
        "rare_label_encoder = RareLabelCategoricalEncoder(\n",
        "    tol=0.01,\n",
        "    n_categories=2,\n",
        "    variables=['age', 'occupation', 'maritalStatus', 'education', 'creditDefault', 'housingLoan', 'personalLoan',\n",
        "              'contactMode', 'month', 'dayOfWeek', 'duration', 'campaign', 'pdays', 'previous_', 'poutcome']\n",
        ")\n",
        "\n",
        "rare_label_encoder.fit(X_train2)\n",
        "\n",
        "X_train3 = eqfdisctr1.transform(X_train2)\n",
        "X_test3 = eqfdisctr1.transform(X_test2)"
      ],
      "execution_count": null,
      "outputs": [
        {
          "output_type": "stream",
          "text": [
            "/usr/local/lib/python3.6/dist-packages/feature_engine/categorical_encoders.py:786: UserWarning: The number of unique categories for variable creditDefault is less than that indicated in n_categories. Thus, all categories will be considered frequent\n",
            "  \"n_categories. Thus, all categories will be considered frequent\".format(var))\n",
            "/usr/local/lib/python3.6/dist-packages/feature_engine/categorical_encoders.py:786: UserWarning: The number of unique categories for variable contactMode is less than that indicated in n_categories. Thus, all categories will be considered frequent\n",
            "  \"n_categories. Thus, all categories will be considered frequent\".format(var))\n",
            "/usr/local/lib/python3.6/dist-packages/feature_engine/categorical_encoders.py:786: UserWarning: The number of unique categories for variable pdays is less than that indicated in n_categories. Thus, all categories will be considered frequent\n",
            "  \"n_categories. Thus, all categories will be considered frequent\".format(var))\n"
          ],
          "name": "stderr"
        }
      ]
    },
    {
      "cell_type": "code",
      "metadata": {
        "id": "2TIxDQ4zSBtJ"
      },
      "source": [
        "from feature_engine.categorical_encoders import OrdinalCategoricalEncoder"
      ],
      "execution_count": null,
      "outputs": []
    },
    {
      "cell_type": "code",
      "metadata": {
        "id": "rfwR5cBcSBtJ"
      },
      "source": [
        "ordered_label_encoder = OrdinalCategoricalEncoder(\n",
        "    encoding_method='ordered',\n",
        "    variables=['age', 'occupation', 'maritalStatus', 'education', 'creditDefault', 'housingLoan', 'personalLoan',\n",
        "              'contactMode', 'month', 'dayOfWeek', 'duration', 'campaign', 'pdays', 'previous_', 'poutcome'])"
      ],
      "execution_count": null,
      "outputs": []
    },
    {
      "cell_type": "code",
      "metadata": {
        "id": "x7a_RuutSBtJ",
        "colab": {
          "base_uri": "https://localhost:8080/"
        },
        "outputId": "1e6ce80a-1abf-4e8e-8693-3cf2a85966b9"
      },
      "source": [
        "ordered_label_encoder.fit(X_train3, y_train)"
      ],
      "execution_count": null,
      "outputs": [
        {
          "output_type": "execute_result",
          "data": {
            "text/plain": [
              "OrdinalCategoricalEncoder(encoding_method='ordered',\n",
              "                          variables=['age', 'occupation', 'maritalStatus',\n",
              "                                     'education', 'creditDefault',\n",
              "                                     'housingLoan', 'personalLoan',\n",
              "                                     'contactMode', 'month', 'dayOfWeek',\n",
              "                                     'duration', 'campaign', 'pdays',\n",
              "                                     'previous_', 'poutcome'])"
            ]
          },
          "metadata": {
            "tags": []
          },
          "execution_count": 52
        }
      ]
    },
    {
      "cell_type": "code",
      "metadata": {
        "id": "MHMcRAKDSBtK",
        "colab": {
          "base_uri": "https://localhost:8080/"
        },
        "outputId": "7d16c4d6-1ddc-4c82-9096-57cf37bd1e3e"
      },
      "source": [
        "ordered_label_encoder.encoder_dict_"
      ],
      "execution_count": null,
      "outputs": [
        {
          "output_type": "execute_result",
          "data": {
            "text/plain": [
              "{'age': {0: 0},\n",
              " 'campaign': {0: 4, 3: 2, 4: 1, 8: 3, 9: 0},\n",
              " 'contactMode': {'cellular': 1, 'telephone': 0},\n",
              " 'creditDefault': {'no': 1, 'unknown': 0},\n",
              " 'dayOfWeek': {'fri': 2, 'mon': 0, 'thu': 3, 'tue': 4, 'wed': 1},\n",
              " 'duration': {0: 0},\n",
              " 'education': {'basic.4y': 7,\n",
              "  'basic.6y': 1,\n",
              "  'basic.9y': 3,\n",
              "  'high.school': 4,\n",
              "  'illiterate': 0,\n",
              "  'professional.course': 5,\n",
              "  'university.degree': 6,\n",
              "  'unknown': 2},\n",
              " 'housingLoan': {'no': 2, 'unknown': 0, 'yes': 1},\n",
              " 'maritalStatus': {'divorced': 1, 'married': 2, 'single': 3, 'unknown': 0},\n",
              " 'month': {'apr': 5,\n",
              "  'aug': 3,\n",
              "  'dec': 8,\n",
              "  'jul': 4,\n",
              "  'jun': 2,\n",
              "  'mar': 9,\n",
              "  'may': 0,\n",
              "  'nov': 1,\n",
              "  'oct': 6,\n",
              "  'sep': 7},\n",
              " 'occupation': {'admin.': 9,\n",
              "  'blue-collar': 1,\n",
              "  'entrepreneur': 2,\n",
              "  'housemaid': 8,\n",
              "  'management': 4,\n",
              "  'retired': 11,\n",
              "  'self-employed': 3,\n",
              "  'services': 5,\n",
              "  'student': 10,\n",
              "  'technician': 7,\n",
              "  'unemployed': 6,\n",
              "  'unknown': 0},\n",
              " 'pdays': {0: 0},\n",
              " 'personalLoan': {'no': 2, 'unknown': 1, 'yes': 0},\n",
              " 'poutcome': {'failure': 1, 'nonexistent': 0, 'success': 2},\n",
              " 'previous_': {'Five': 5,\n",
              "  'Four': 4,\n",
              "  'One': 2,\n",
              "  'Three': 1,\n",
              "  'Two': 3,\n",
              "  'Zero': 0}}"
            ]
          },
          "metadata": {
            "tags": []
          },
          "execution_count": 53
        }
      ]
    },
    {
      "cell_type": "code",
      "metadata": {
        "id": "j7o5r2ZCSBtK",
        "colab": {
          "base_uri": "https://localhost:8080/"
        },
        "outputId": "d93223be-a17d-407e-a46b-e2fb4e92baa0"
      },
      "source": [
        "ordered_label_encoder.variables"
      ],
      "execution_count": null,
      "outputs": [
        {
          "output_type": "execute_result",
          "data": {
            "text/plain": [
              "['age',\n",
              " 'occupation',\n",
              " 'maritalStatus',\n",
              " 'education',\n",
              " 'creditDefault',\n",
              " 'housingLoan',\n",
              " 'personalLoan',\n",
              " 'contactMode',\n",
              " 'month',\n",
              " 'dayOfWeek',\n",
              " 'duration',\n",
              " 'campaign',\n",
              " 'pdays',\n",
              " 'previous_',\n",
              " 'poutcome']"
            ]
          },
          "metadata": {
            "tags": []
          },
          "execution_count": 54
        }
      ]
    },
    {
      "cell_type": "code",
      "metadata": {
        "id": "Ki4UhJujSBtK"
      },
      "source": [
        "X_train4 = ordered_label_encoder.transform(X_train3)\n",
        "X_test4 = ordered_label_encoder.transform(X_test3)"
      ],
      "execution_count": null,
      "outputs": []
    },
    {
      "cell_type": "code",
      "metadata": {
        "id": "NmI0smM5SBtK"
      },
      "source": [
        "##Import stats and ML modules\n",
        "import statsmodels.api as sm\n",
        "from sklearn.metrics import mean_absolute_error, mean_squared_error, r2_score\n",
        "from statsmodels.compat import lzip\n",
        "import statsmodels.stats.api as sms\n",
        "import statsmodels.formula.api as smf\n",
        "from patsy import dmatrices\n",
        "from sklearn.metrics import confusion_matrix, roc_auc_score\n",
        "from sklearn.model_selection import train_test_split\n",
        "from sklearn.linear_model import LogisticRegression\n",
        "from sklearn.metrics import plot_precision_recall_curve"
      ],
      "execution_count": null,
      "outputs": []
    },
    {
      "cell_type": "code",
      "metadata": {
        "id": "sKtQsbIBSBtK"
      },
      "source": [
        "from sklearn.preprocessing import MinMaxScaler"
      ],
      "execution_count": null,
      "outputs": []
    },
    {
      "cell_type": "code",
      "metadata": {
        "id": "yfT1mgz0SBtK",
        "colab": {
          "base_uri": "https://localhost:8080/"
        },
        "outputId": "562d3da3-a1e4-42aa-867c-72800867ec0d"
      },
      "source": [
        "sc = MinMaxScaler()\n",
        "sc.fit(X_train4)"
      ],
      "execution_count": null,
      "outputs": [
        {
          "output_type": "execute_result",
          "data": {
            "text/plain": [
              "MinMaxScaler(copy=True, feature_range=(0, 1))"
            ]
          },
          "metadata": {
            "tags": []
          },
          "execution_count": 58
        }
      ]
    },
    {
      "cell_type": "code",
      "metadata": {
        "id": "4iIFlvgwSBtL"
      },
      "source": [
        "X_train5 = sc.transform(X_train4)\n",
        "X_test5 = sc.transform(X_test4)"
      ],
      "execution_count": null,
      "outputs": []
    },
    {
      "cell_type": "code",
      "metadata": {
        "id": "oi_HOuP2SBtL"
      },
      "source": [
        "import time\n",
        "import warnings\n",
        "warnings.filterwarnings(\"ignore\", category=DeprecationWarning)\n",
        "from pprint import pprint"
      ],
      "execution_count": null,
      "outputs": []
    },
    {
      "cell_type": "code",
      "metadata": {
        "id": "aYw9KsAOSBtL"
      },
      "source": [
        "from sklearn.model_selection import cross_val_score\n",
        "from sklearn.model_selection import GridSearchCV, RandomizedSearchCV\n",
        "from sklearn.model_selection import StratifiedKFold\n",
        "from sklearn.metrics import plot_precision_recall_curve"
      ],
      "execution_count": null,
      "outputs": []
    },
    {
      "cell_type": "markdown",
      "metadata": {
        "id": "yDLSzOX3SBtL"
      },
      "source": [
        "**Logistic Regression Classifier**"
      ]
    },
    {
      "cell_type": "code",
      "metadata": {
        "id": "OILNm-lTSBtL"
      },
      "source": [
        "##Invoke logistic regression classifier with weights\n",
        "estimator = LogisticRegression(random_state=1, class_weight={0:1, 1:3})"
      ],
      "execution_count": null,
      "outputs": []
    },
    {
      "cell_type": "code",
      "metadata": {
        "id": "vUS6IB0WSBtL",
        "colab": {
          "base_uri": "https://localhost:8080/"
        },
        "outputId": "aaba97d9-6eb5-4ca7-dbca-fbe458c486b6"
      },
      "source": [
        "penalty = [\"l1\", \"l2\"]\n",
        "solver = [\"newton-cg\", \"lbfgs\"]\n",
        "\n",
        "param_grid = {'penalty': penalty,\n",
        "              'solver': solver}\n",
        "\n",
        "pprint(param_grid)"
      ],
      "execution_count": null,
      "outputs": [
        {
          "output_type": "stream",
          "text": [
            "{'penalty': ['l1', 'l2'], 'solver': ['newton-cg', 'lbfgs']}\n"
          ],
          "name": "stdout"
        }
      ]
    },
    {
      "cell_type": "code",
      "metadata": {
        "id": "Y20xbzlMSBtM"
      },
      "source": [
        "##https://scikit-learn.org/stable/modules/model_evaluation.html\n",
        "randomized_accuracy_fit = RandomizedSearchCV(estimator=estimator,\n",
        "                                            param_distributions=param_grid,\n",
        "                                            n_iter=50,\n",
        "                                            scoring=\"f1_micro\",\n",
        "                                            n_jobs=-1,\n",
        "                                            refit=True,\n",
        "                                            random_state=123,\n",
        "                                            return_train_score=True,\n",
        "                                            verbose=1,\n",
        "                                            cv=StratifiedKFold(n_splits=10, shuffle=True, random_state=123)\n",
        "                                            )"
      ],
      "execution_count": null,
      "outputs": []
    },
    {
      "cell_type": "code",
      "metadata": {
        "id": "LWnZ0d1aSBtM",
        "colab": {
          "base_uri": "https://localhost:8080/"
        },
        "outputId": "17a83e24-a40d-4452-c855-3bc16c7c0c99"
      },
      "source": [
        "training_start = time.perf_counter()\n",
        "randomized_accuracy_fit.fit(X_train5, y_train)\n",
        "training_end = time.perf_counter()\n",
        "train_time = training_end-training_start\n",
        "print(\"Time consumed for training: %4.3f seconds\" % (train_time))"
      ],
      "execution_count": null,
      "outputs": [
        {
          "output_type": "stream",
          "text": [
            "Fitting 10 folds for each of 4 candidates, totalling 40 fits\n"
          ],
          "name": "stdout"
        },
        {
          "output_type": "stream",
          "text": [
            "/usr/local/lib/python3.6/dist-packages/sklearn/model_selection/_search.py:281: UserWarning: The total space of parameters 4 is smaller than n_iter=50. Running 4 iterations. For exhaustive searches, use GridSearchCV.\n",
            "  % (grid_size, self.n_iter, grid_size), UserWarning)\n",
            "[Parallel(n_jobs=-1)]: Using backend LokyBackend with 2 concurrent workers.\n"
          ],
          "name": "stderr"
        },
        {
          "output_type": "stream",
          "text": [
            "Time consumed for training: 2.017 seconds\n"
          ],
          "name": "stdout"
        },
        {
          "output_type": "stream",
          "text": [
            "[Parallel(n_jobs=-1)]: Done  40 out of  40 | elapsed:    1.9s finished\n",
            "/usr/local/lib/python3.6/dist-packages/sklearn/utils/validation.py:760: DataConversionWarning: A column-vector y was passed when a 1d array was expected. Please change the shape of y to (n_samples, ), for example using ravel().\n",
            "  y = column_or_1d(y, warn=True)\n"
          ],
          "name": "stderr"
        }
      ]
    },
    {
      "cell_type": "code",
      "metadata": {
        "id": "YKBzoaVnSBtM",
        "colab": {
          "base_uri": "https://localhost:8080/"
        },
        "outputId": "4a9e8b85-9e73-4492-c476-c26e9e9c7f6e"
      },
      "source": [
        "print(randomized_accuracy_fit.best_score_)\n",
        "print(randomized_accuracy_fit.best_estimator_)"
      ],
      "execution_count": null,
      "outputs": [
        {
          "output_type": "stream",
          "text": [
            "0.8775675675675675\n",
            "LogisticRegression(C=1.0, class_weight={0: 1, 1: 3}, dual=False,\n",
            "                   fit_intercept=True, intercept_scaling=1, l1_ratio=None,\n",
            "                   max_iter=100, multi_class='auto', n_jobs=None, penalty='l2',\n",
            "                   random_state=1, solver='newton-cg', tol=0.0001, verbose=0,\n",
            "                   warm_start=False)\n"
          ],
          "name": "stdout"
        }
      ]
    },
    {
      "cell_type": "code",
      "metadata": {
        "id": "IF0LX0TISBtM"
      },
      "source": [
        "classifier_logit = LogisticRegression(\n",
        "    solver='newton-cg',\n",
        "    penalty='l2',\n",
        "    random_state=1,\n",
        "    n_jobs=-1,\n",
        "    class_weight={0:1, 1:3})"
      ],
      "execution_count": null,
      "outputs": []
    },
    {
      "cell_type": "code",
      "metadata": {
        "id": "E-4sBggqSBtM",
        "colab": {
          "base_uri": "https://localhost:8080/"
        },
        "outputId": "97683e2c-7acc-4069-a39b-1387dc9c31f5"
      },
      "source": [
        "##Fit to train data\n",
        "classifier_logit.fit(X_train5, y_train)"
      ],
      "execution_count": null,
      "outputs": [
        {
          "output_type": "stream",
          "text": [
            "/usr/local/lib/python3.6/dist-packages/sklearn/utils/validation.py:760: DataConversionWarning: A column-vector y was passed when a 1d array was expected. Please change the shape of y to (n_samples, ), for example using ravel().\n",
            "  y = column_or_1d(y, warn=True)\n"
          ],
          "name": "stderr"
        },
        {
          "output_type": "execute_result",
          "data": {
            "text/plain": [
              "LogisticRegression(C=1.0, class_weight={0: 1, 1: 3}, dual=False,\n",
              "                   fit_intercept=True, intercept_scaling=1, l1_ratio=None,\n",
              "                   max_iter=100, multi_class='auto', n_jobs=-1, penalty='l2',\n",
              "                   random_state=1, solver='newton-cg', tol=0.0001, verbose=0,\n",
              "                   warm_start=False)"
            ]
          },
          "metadata": {
            "tags": []
          },
          "execution_count": 68
        }
      ]
    },
    {
      "cell_type": "code",
      "metadata": {
        "id": "E9cIyOLqSBtN"
      },
      "source": [
        "##Predict train set\n",
        "train_predictions = classifier_logit.predict_proba(X_train5)\n",
        "##Predict test set\n",
        "test_predictions = classifier_logit.predict_proba(X_test5)"
      ],
      "execution_count": null,
      "outputs": []
    },
    {
      "cell_type": "code",
      "metadata": {
        "id": "wLDTy32dSBtN"
      },
      "source": [
        "##Store prediction classes\n",
        "# predictions = classifier_logit.predict(X_test5)"
      ],
      "execution_count": null,
      "outputs": []
    },
    {
      "cell_type": "code",
      "metadata": {
        "id": "UrWOuEABSBtN",
        "colab": {
          "base_uri": "https://localhost:8080/"
        },
        "outputId": "f0b90842-55fc-4ee6-afcb-0f2715793d0d"
      },
      "source": [
        "##Result of train Confusion matrix\n",
        "print(confusion_matrix(y_train, classifier_logit.predict(X_train5)))"
      ],
      "execution_count": null,
      "outputs": [
        {
          "output_type": "stream",
          "text": [
            "[[1572   71]\n",
            " [ 153   58]]\n"
          ],
          "name": "stdout"
        }
      ]
    },
    {
      "cell_type": "code",
      "metadata": {
        "id": "pHuo9hEwSBtN",
        "colab": {
          "base_uri": "https://localhost:8080/"
        },
        "outputId": "adfd543f-25b4-43c3-cfbc-86806babb00f"
      },
      "source": [
        "cost_list = list()\n",
        "x_list = list()\n",
        "sen_list = list()\n",
        "spec_list = list()\n",
        "for i in np.linspace(0,1,20,endpoint=False):\n",
        "    test_matrix = confusion_matrix(y_test.values, (test_predictions[:, 1]>i).astype(int).reshape(-1,1), labels=[0,1])\n",
        "    ###Test metrics\n",
        "    TP = test_matrix[1,1]\n",
        "    TN = test_matrix[0,0]\n",
        "    FN = test_matrix[0,1]\n",
        "    FP = test_matrix[1,0]\n",
        "    Recall_1 = round(TP/(TP+FN),3)\n",
        "    Recall_0 = round(TN/(TN+FP),3)\n",
        "    cost = round((FP*1) + (FN*3),3)\n",
        "    x = round(i,2)\n",
        "    x_list.append(x)\n",
        "    cost_list.append(cost)\n",
        "    sen_list.append(Recall_1)\n",
        "    spec_list.append(Recall_0)"
      ],
      "execution_count": null,
      "outputs": [
        {
          "output_type": "stream",
          "text": [
            "/usr/local/lib/python3.6/dist-packages/ipykernel_launcher.py:13: RuntimeWarning: invalid value encountered in long_scalars\n",
            "  del sys.path[0]\n",
            "/usr/local/lib/python3.6/dist-packages/ipykernel_launcher.py:12: RuntimeWarning: invalid value encountered in long_scalars\n",
            "  if sys.path[0] == '':\n"
          ],
          "name": "stderr"
        }
      ]
    },
    {
      "cell_type": "code",
      "metadata": {
        "id": "YpTrKwFKSBtN"
      },
      "source": [
        "a = pd.DataFrame(x_list, columns=[\"Cutoff\"])\n",
        "b = pd.DataFrame(cost_list, columns=[\"Cost\"])\n",
        "c = pd.DataFrame(sen_list, columns=[\"Sensitivity\"])\n",
        "d = pd.DataFrame(spec_list, columns=[\"Specificity\"])\n",
        "e = pd.concat([a, b, c, d], axis='columns')\n",
        "e.replace(np.nan,0, inplace=True)"
      ],
      "execution_count": null,
      "outputs": []
    },
    {
      "cell_type": "code",
      "metadata": {
        "id": "tWEnY6hHSBtN",
        "colab": {
          "base_uri": "https://localhost:8080/"
        },
        "outputId": "bd40e9ec-c06b-4278-c671-3532c8a99a5a"
      },
      "source": [
        "e.Cutoff[e.Cost==e.Cost.min()].values"
      ],
      "execution_count": null,
      "outputs": [
        {
          "output_type": "execute_result",
          "data": {
            "text/plain": [
              "array([0.9 , 0.95])"
            ]
          },
          "metadata": {
            "tags": []
          },
          "execution_count": 74
        }
      ]
    },
    {
      "cell_type": "code",
      "metadata": {
        "id": "TEKbuwdhSBtO",
        "colab": {
          "base_uri": "https://localhost:8080/",
          "height": 639
        },
        "outputId": "130b7735-d7d1-4a4a-a4bc-6ee46f76872f"
      },
      "source": [
        "e"
      ],
      "execution_count": null,
      "outputs": [
        {
          "output_type": "execute_result",
          "data": {
            "text/html": [
              "<div>\n",
              "<style scoped>\n",
              "    .dataframe tbody tr th:only-of-type {\n",
              "        vertical-align: middle;\n",
              "    }\n",
              "\n",
              "    .dataframe tbody tr th {\n",
              "        vertical-align: top;\n",
              "    }\n",
              "\n",
              "    .dataframe thead th {\n",
              "        text-align: right;\n",
              "    }\n",
              "</style>\n",
              "<table border=\"1\" class=\"dataframe\">\n",
              "  <thead>\n",
              "    <tr style=\"text-align: right;\">\n",
              "      <th></th>\n",
              "      <th>Cutoff</th>\n",
              "      <th>Cost</th>\n",
              "      <th>Sensitivity</th>\n",
              "      <th>Specificity</th>\n",
              "    </tr>\n",
              "  </thead>\n",
              "  <tbody>\n",
              "    <tr>\n",
              "      <th>0</th>\n",
              "      <td>0.00</td>\n",
              "      <td>3297</td>\n",
              "      <td>0.111</td>\n",
              "      <td>0.000</td>\n",
              "    </tr>\n",
              "    <tr>\n",
              "      <th>1</th>\n",
              "      <td>0.05</td>\n",
              "      <td>3247</td>\n",
              "      <td>0.112</td>\n",
              "      <td>0.944</td>\n",
              "    </tr>\n",
              "    <tr>\n",
              "      <th>2</th>\n",
              "      <td>0.10</td>\n",
              "      <td>2790</td>\n",
              "      <td>0.124</td>\n",
              "      <td>0.966</td>\n",
              "    </tr>\n",
              "    <tr>\n",
              "      <th>3</th>\n",
              "      <td>0.15</td>\n",
              "      <td>2191</td>\n",
              "      <td>0.143</td>\n",
              "      <td>0.959</td>\n",
              "    </tr>\n",
              "    <tr>\n",
              "      <th>4</th>\n",
              "      <td>0.20</td>\n",
              "      <td>1710</td>\n",
              "      <td>0.167</td>\n",
              "      <td>0.957</td>\n",
              "    </tr>\n",
              "    <tr>\n",
              "      <th>5</th>\n",
              "      <td>0.25</td>\n",
              "      <td>1331</td>\n",
              "      <td>0.183</td>\n",
              "      <td>0.942</td>\n",
              "    </tr>\n",
              "    <tr>\n",
              "      <th>6</th>\n",
              "      <td>0.30</td>\n",
              "      <td>985</td>\n",
              "      <td>0.220</td>\n",
              "      <td>0.941</td>\n",
              "    </tr>\n",
              "    <tr>\n",
              "      <th>7</th>\n",
              "      <td>0.35</td>\n",
              "      <td>698</td>\n",
              "      <td>0.261</td>\n",
              "      <td>0.935</td>\n",
              "    </tr>\n",
              "    <tr>\n",
              "      <th>8</th>\n",
              "      <td>0.40</td>\n",
              "      <td>476</td>\n",
              "      <td>0.311</td>\n",
              "      <td>0.926</td>\n",
              "    </tr>\n",
              "    <tr>\n",
              "      <th>9</th>\n",
              "      <td>0.45</td>\n",
              "      <td>327</td>\n",
              "      <td>0.373</td>\n",
              "      <td>0.919</td>\n",
              "    </tr>\n",
              "    <tr>\n",
              "      <th>10</th>\n",
              "      <td>0.50</td>\n",
              "      <td>244</td>\n",
              "      <td>0.449</td>\n",
              "      <td>0.915</td>\n",
              "    </tr>\n",
              "    <tr>\n",
              "      <th>11</th>\n",
              "      <td>0.55</td>\n",
              "      <td>195</td>\n",
              "      <td>0.516</td>\n",
              "      <td>0.911</td>\n",
              "    </tr>\n",
              "    <tr>\n",
              "      <th>12</th>\n",
              "      <td>0.60</td>\n",
              "      <td>162</td>\n",
              "      <td>0.617</td>\n",
              "      <td>0.909</td>\n",
              "    </tr>\n",
              "    <tr>\n",
              "      <th>13</th>\n",
              "      <td>0.65</td>\n",
              "      <td>152</td>\n",
              "      <td>0.659</td>\n",
              "      <td>0.908</td>\n",
              "    </tr>\n",
              "    <tr>\n",
              "      <th>14</th>\n",
              "      <td>0.70</td>\n",
              "      <td>148</td>\n",
              "      <td>0.655</td>\n",
              "      <td>0.902</td>\n",
              "    </tr>\n",
              "    <tr>\n",
              "      <th>15</th>\n",
              "      <td>0.75</td>\n",
              "      <td>142</td>\n",
              "      <td>0.684</td>\n",
              "      <td>0.898</td>\n",
              "    </tr>\n",
              "    <tr>\n",
              "      <th>16</th>\n",
              "      <td>0.80</td>\n",
              "      <td>141</td>\n",
              "      <td>0.667</td>\n",
              "      <td>0.895</td>\n",
              "    </tr>\n",
              "    <tr>\n",
              "      <th>17</th>\n",
              "      <td>0.85</td>\n",
              "      <td>138</td>\n",
              "      <td>0.714</td>\n",
              "      <td>0.893</td>\n",
              "    </tr>\n",
              "    <tr>\n",
              "      <th>18</th>\n",
              "      <td>0.90</td>\n",
              "      <td>137</td>\n",
              "      <td>0.000</td>\n",
              "      <td>0.889</td>\n",
              "    </tr>\n",
              "    <tr>\n",
              "      <th>19</th>\n",
              "      <td>0.95</td>\n",
              "      <td>137</td>\n",
              "      <td>0.000</td>\n",
              "      <td>0.889</td>\n",
              "    </tr>\n",
              "  </tbody>\n",
              "</table>\n",
              "</div>"
            ],
            "text/plain": [
              "    Cutoff  Cost  Sensitivity  Specificity\n",
              "0     0.00  3297        0.111        0.000\n",
              "1     0.05  3247        0.112        0.944\n",
              "2     0.10  2790        0.124        0.966\n",
              "3     0.15  2191        0.143        0.959\n",
              "4     0.20  1710        0.167        0.957\n",
              "5     0.25  1331        0.183        0.942\n",
              "6     0.30   985        0.220        0.941\n",
              "7     0.35   698        0.261        0.935\n",
              "8     0.40   476        0.311        0.926\n",
              "9     0.45   327        0.373        0.919\n",
              "10    0.50   244        0.449        0.915\n",
              "11    0.55   195        0.516        0.911\n",
              "12    0.60   162        0.617        0.909\n",
              "13    0.65   152        0.659        0.908\n",
              "14    0.70   148        0.655        0.902\n",
              "15    0.75   142        0.684        0.898\n",
              "16    0.80   141        0.667        0.895\n",
              "17    0.85   138        0.714        0.893\n",
              "18    0.90   137        0.000        0.889\n",
              "19    0.95   137        0.000        0.889"
            ]
          },
          "metadata": {
            "tags": []
          },
          "execution_count": 75
        }
      ]
    },
    {
      "cell_type": "code",
      "metadata": {
        "id": "a5V-vX8XSBtO",
        "colab": {
          "base_uri": "https://localhost:8080/",
          "height": 368
        },
        "outputId": "85cae64f-e0da-41e4-bae4-58b5b2607992"
      },
      "source": [
        "fig, ax1 = plt.subplots(figsize=(13,5))\n",
        "fig.subplots_adjust(top=0.7)\n",
        "\n",
        "sns.lineplot(x='Cutoff', y='Sensitivity', data=e, marker=\"o\", ax=ax1, label=['Sensitivity'])\n",
        "ax1.legend(loc='lower right', shadow=True,fontsize='medium')\n",
        "ax1.axvline(x=0.85, color='red', linestyle='dashed', linewidth=1)\n",
        "ax1.spines['top'].set_visible(False)\n",
        "ax1.set_xlabel('Cut-Off Value', fontsize=12, weight='bold')\n",
        "ax1.set_ylabel('Sensitivity', fontsize=12, weight='bold')\n",
        "\n",
        "ax2 = ax1.twinx()\n",
        "\n",
        "sns.lineplot(x='Cutoff', y='Specificity', data=e, marker=\"o\", ax=ax2, label=['Specificity'], color='green')\n",
        "ax2.legend(loc='best', shadow=True,fontsize='medium');\n",
        "ax2.spines['top'].set_visible(False)\n",
        "\n",
        "ax2.set_ylabel('Specificity', fontsize=12, weight='bold')\n",
        "\n",
        "fig.tight_layout()\n",
        "plt.show()"
      ],
      "execution_count": null,
      "outputs": [
        {
          "output_type": "display_data",
          "data": {
            "image/png": "[encoded data removed]",
            "text/plain": [
              "<Figure size 936x360 with 2 Axes>"
            ]
          },
          "metadata": {
            "tags": [],
            "needs_background": "light"
          }
        }
      ]
    },
    {
      "cell_type": "code",
      "metadata": {
        "id": "N9N1qrcISBtO",
        "colab": {
          "base_uri": "https://localhost:8080/"
        },
        "outputId": "e098ed93-d6bc-4d71-f52b-d5a917aad22c"
      },
      "source": [
        "print(e.Cutoff[e.Cost==e.Cost.min()].values)"
      ],
      "execution_count": null,
      "outputs": [
        {
          "output_type": "stream",
          "text": [
            "[0.9  0.95]\n"
          ],
          "name": "stdout"
        }
      ]
    },
    {
      "cell_type": "code",
      "metadata": {
        "id": "EjLbEi3ASBtO",
        "colab": {
          "base_uri": "https://localhost:8080/"
        },
        "outputId": "5a278732-dfde-42c1-c5cb-9129ca2fb2ec"
      },
      "source": [
        "confusion_matrix(y_test.values, (test_predictions[:, 1]>0.85).astype(int).reshape(-1,1), labels=[0,1])"
      ],
      "execution_count": null,
      "outputs": [
        {
          "output_type": "execute_result",
          "data": {
            "text/plain": [
              "array([[1097,    2],\n",
              "       [ 132,    5]])"
            ]
          },
          "metadata": {
            "tags": []
          },
          "execution_count": 78
        }
      ]
    },
    {
      "cell_type": "code",
      "metadata": {
        "id": "ze3uXD_OSBtO",
        "colab": {
          "base_uri": "https://localhost:8080/"
        },
        "outputId": "f11dde1d-2cae-4358-e31e-10d5c45de477"
      },
      "source": [
        "test_matrix = confusion_matrix(y_test.values, (test_predictions[:, 1]>0.85).astype(int).reshape(-1,1), labels=[0,1])###Test metrics\n",
        "TP = test_matrix[1,1]\n",
        "TN = test_matrix[0,0]\n",
        "FN = test_matrix[0,1]\n",
        "FP = test_matrix[1,0]\n",
        "test_recall = round(TP/(TP+FN),3)\n",
        "test_precision = round(TP/(TP+FP),3)\n",
        "print(f\"Test Recall for Subscribed=Yes is {test_recall} and Test Precision is {test_precision}\")"
      ],
      "execution_count": null,
      "outputs": [
        {
          "output_type": "stream",
          "text": [
            "Test Recall for Subscribed=Yes is 0.714 and Test Precision is 0.036\n"
          ],
          "name": "stdout"
        }
      ]
    },
    {
      "cell_type": "code",
      "metadata": {
        "id": "jQp123okSBtP",
        "colab": {
          "base_uri": "https://localhost:8080/",
          "height": 279
        },
        "outputId": "beefe5b4-c822-458d-a605-3cedf7d48826"
      },
      "source": [
        "prcurve_logit = plot_precision_recall_curve(classifier_logit, X_test5, y_test)"
      ],
      "execution_count": null,
      "outputs": [
        {
          "output_type": "display_data",
          "data": {
            "image/png": "[encoded data removed]",
            "text/plain": [
              "<Figure size 432x288 with 1 Axes>"
            ]
          },
          "metadata": {
            "tags": [],
            "needs_background": "light"
          }
        }
      ]
    },
    {
      "cell_type": "code",
      "metadata": {
        "id": "BNgz8e8ym_L8"
      },
      "source": [
        "pred_data = pd.DataFrame(test_predictions[:, 1], columns=[\"Predicted_Probability\"])\r\n",
        "test_labels = y_test.reset_index()\r\n",
        "pred_data = pd.merge(test_labels, pred_data, left_index=True, right_index=True)\r\n",
        "pred_data = pred_data[[\"target\", \"Predicted_Probability\"]]\r\n",
        "pred_data = pred_data.sort_values(by=['Predicted_Probability'], ascending=False)\r\n",
        "pred_data = pred_data.reset_index(drop=\"index\")"
      ],
      "execution_count": null,
      "outputs": []
    },
    {
      "cell_type": "code",
      "metadata": {
        "id": "1dfRPSn-nVlz"
      },
      "source": [
        "row_index = np.int(np.ceil(pred_data.shape[0] * 0.10))"
      ],
      "execution_count": null,
      "outputs": []
    },
    {
      "cell_type": "code",
      "metadata": {
        "colab": {
          "base_uri": "https://localhost:8080/"
        },
        "id": "I7mAolzLngXf",
        "outputId": "ae005ae3-5ccf-418b-a9c0-ecddcf797304"
      },
      "source": [
        "##First 10% of rows cover this many subscribers\r\n",
        "round((pred_data.iloc[:row_index+1, 0].sum()/pred_data.iloc[:, 0].sum())/0.10,3)"
      ],
      "execution_count": null,
      "outputs": [
        {
          "output_type": "execute_result",
          "data": {
            "text/plain": [
              "3.431"
            ]
          },
          "metadata": {
            "tags": []
          },
          "execution_count": 83
        }
      ]
    },
    {
      "cell_type": "code",
      "metadata": {
        "colab": {
          "base_uri": "https://localhost:8080/"
        },
        "id": "Tijb9FXToSGY",
        "outputId": "89d85a08-9079-41b0-9534-f26f828e7641"
      },
      "source": [
        "##First 20% of rows cover this many subscribers\r\n",
        "round((pred_data.iloc[:row_index+row_index+1, 0].sum()/pred_data.iloc[:, 0].sum())/0.20,3)"
      ],
      "execution_count": null,
      "outputs": [
        {
          "output_type": "execute_result",
          "data": {
            "text/plain": [
              "2.518"
            ]
          },
          "metadata": {
            "tags": []
          },
          "execution_count": 84
        }
      ]
    },
    {
      "cell_type": "code",
      "metadata": {
        "colab": {
          "base_uri": "https://localhost:8080/"
        },
        "id": "twu8tpV3tNgC",
        "outputId": "56862824-d2af-4216-edc7-49fbfc7d86fa"
      },
      "source": [
        "##First 30% of rows cover this many subscribers\r\n",
        "round((pred_data.iloc[:row_index+row_index+row_index+1, 0].sum()/pred_data.iloc[:, 0].sum())/0.30,3)"
      ],
      "execution_count": null,
      "outputs": [
        {
          "output_type": "execute_result",
          "data": {
            "text/plain": [
              "2.068"
            ]
          },
          "metadata": {
            "tags": []
          },
          "execution_count": 85
        }
      ]
    },
    {
      "cell_type": "code",
      "metadata": {
        "colab": {
          "base_uri": "https://localhost:8080/"
        },
        "id": "h1tdPpFX8xBI",
        "outputId": "311bc4ba-dd64-4289-f98a-7bf4dd64af20"
      },
      "source": [
        "##First 90% of rows cover this many subscribers\r\n",
        "round((pred_data.iloc[:(row_index*9)+1, 0].sum()/pred_data.iloc[:, 0].sum())/0.90,3)"
      ],
      "execution_count": null,
      "outputs": [
        {
          "output_type": "execute_result",
          "data": {
            "text/plain": [
              "1.087"
            ]
          },
          "metadata": {
            "tags": []
          },
          "execution_count": 86
        }
      ]
    },
    {
      "cell_type": "code",
      "metadata": {
        "id": "vzSNUZXYvLkp"
      },
      "source": [
        "del test_labels, pred_data"
      ],
      "execution_count": null,
      "outputs": []
    },
    {
      "cell_type": "markdown",
      "metadata": {
        "id": "RJYQMLbFSBtP"
      },
      "source": [
        "**Random Forest Classifier**"
      ]
    },
    {
      "cell_type": "code",
      "metadata": {
        "id": "-RavK2M1SBtP"
      },
      "source": [
        "from sklearn.ensemble import RandomForestClassifier"
      ],
      "execution_count": null,
      "outputs": []
    },
    {
      "cell_type": "code",
      "metadata": {
        "id": "CQroZT-jSBtP"
      },
      "source": [
        "##Invoke Random Forest classifier with weights\n",
        "estimator = RandomForestClassifier(random_state=2, max_features='auto', class_weight={0:1, 1:3})"
      ],
      "execution_count": null,
      "outputs": []
    },
    {
      "cell_type": "code",
      "metadata": {
        "id": "jUkk2D_2SBtP",
        "colab": {
          "base_uri": "https://localhost:8080/"
        },
        "outputId": "7b56eeb6-56ac-49b6-9431-5d998253d668"
      },
      "source": [
        "##https://scikit-learn.org/stable/modules/generated/sklearn.ensemble.RandomForestClassifier.html\n",
        "n_estimators = [100, 200, 300, 400, 500]\n",
        "criterion = [\"gini\", \"entropy\"]\n",
        "max_depth = [10, 20, 30, 40, 50, 60, 70]\n",
        "min_samples_split = [2, 5, 10]\n",
        "min_samples_leaf = [1, 2, 4]\n",
        "bootstrap = [True, False]\n",
        "# class_weight={0:1, 1:3}\n",
        "\n",
        "param_grid = {'n_estimators': n_estimators,\n",
        "              'criterion': criterion,\n",
        "              'max_depth': max_depth,\n",
        "              'min_samples_split': min_samples_split,\n",
        "              'min_samples_leaf': min_samples_leaf,\n",
        "              'bootstrap': bootstrap\n",
        "             }\n",
        "\n",
        "# from pprint import pprint\n",
        "pprint(param_grid)"
      ],
      "execution_count": null,
      "outputs": [
        {
          "output_type": "stream",
          "text": [
            "{'bootstrap': [True, False],\n",
            " 'criterion': ['gini', 'entropy'],\n",
            " 'max_depth': [10, 20, 30, 40, 50, 60, 70],\n",
            " 'min_samples_leaf': [1, 2, 4],\n",
            " 'min_samples_split': [2, 5, 10],\n",
            " 'n_estimators': [100, 200, 300, 400, 500]}\n"
          ],
          "name": "stdout"
        }
      ]
    },
    {
      "cell_type": "code",
      "metadata": {
        "id": "zPsS3xeySBtQ",
        "colab": {
          "base_uri": "https://localhost:8080/"
        },
        "outputId": "4f0e0a0b-e908-4043-a76f-7e4d1690a035"
      },
      "source": [
        "training_start = time.perf_counter()\n",
        "randomized_accuracy_fit.fit(X_train5, y_train)\n",
        "training_end = time.perf_counter()\n",
        "train_time = training_end-training_start\n",
        "print(\"Time consumed for training: %4.3f seconds\" % (train_time))"
      ],
      "execution_count": null,
      "outputs": [
        {
          "output_type": "stream",
          "text": [
            "Fitting 10 folds for each of 4 candidates, totalling 40 fits\n"
          ],
          "name": "stdout"
        },
        {
          "output_type": "stream",
          "text": [
            "/usr/local/lib/python3.6/dist-packages/sklearn/model_selection/_search.py:281: UserWarning: The total space of parameters 4 is smaller than n_iter=50. Running 4 iterations. For exhaustive searches, use GridSearchCV.\n",
            "  % (grid_size, self.n_iter, grid_size), UserWarning)\n",
            "[Parallel(n_jobs=-1)]: Using backend LokyBackend with 2 concurrent workers.\n"
          ],
          "name": "stderr"
        },
        {
          "output_type": "stream",
          "text": [
            "Time consumed for training: 0.511 seconds\n"
          ],
          "name": "stdout"
        },
        {
          "output_type": "stream",
          "text": [
            "[Parallel(n_jobs=-1)]: Done  40 out of  40 | elapsed:    0.5s finished\n",
            "/usr/local/lib/python3.6/dist-packages/sklearn/utils/validation.py:760: DataConversionWarning: A column-vector y was passed when a 1d array was expected. Please change the shape of y to (n_samples, ), for example using ravel().\n",
            "  y = column_or_1d(y, warn=True)\n"
          ],
          "name": "stderr"
        }
      ]
    },
    {
      "cell_type": "code",
      "metadata": {
        "id": "qaAglwpzSBtQ",
        "colab": {
          "base_uri": "https://localhost:8080/"
        },
        "outputId": "88e1a597-ec24-46f6-93f0-2f50b80a9262"
      },
      "source": [
        "print(randomized_accuracy_fit.best_score_)\n",
        "print(randomized_accuracy_fit.best_estimator_)"
      ],
      "execution_count": null,
      "outputs": [
        {
          "output_type": "stream",
          "text": [
            "0.8775675675675675\n",
            "LogisticRegression(C=1.0, class_weight={0: 1, 1: 3}, dual=False,\n",
            "                   fit_intercept=True, intercept_scaling=1, l1_ratio=None,\n",
            "                   max_iter=100, multi_class='auto', n_jobs=None, penalty='l2',\n",
            "                   random_state=1, solver='newton-cg', tol=0.0001, verbose=0,\n",
            "                   warm_start=False)\n"
          ],
          "name": "stdout"
        }
      ]
    },
    {
      "cell_type": "code",
      "metadata": {
        "id": "IGjybDTVSBtQ"
      },
      "source": [
        "classifier_rf = RandomForestClassifier(random_state=2, max_features='auto', class_weight={0:1, 1:3},\n",
        "                                      criterion='entropy', max_depth=10, min_samples_split=5, n_estimators=300)"
      ],
      "execution_count": null,
      "outputs": []
    },
    {
      "cell_type": "code",
      "metadata": {
        "id": "ZMMcXYgkSBtQ",
        "colab": {
          "base_uri": "https://localhost:8080/"
        },
        "outputId": "512b4f77-1d6e-42dd-9d8e-c56fc5e360b0"
      },
      "source": [
        "##Fit to train data\n",
        "classifier_rf.fit(X_train5, y_train)\n",
        "##Predict train set\n",
        "train_predictions = classifier_rf.predict_proba(X_train5)\n",
        "##Predict test set\n",
        "test_predictions = classifier_rf.predict_proba(X_test5)"
      ],
      "execution_count": null,
      "outputs": [
        {
          "output_type": "stream",
          "text": [
            "/usr/local/lib/python3.6/dist-packages/ipykernel_launcher.py:2: DataConversionWarning: A column-vector y was passed when a 1d array was expected. Please change the shape of y to (n_samples,), for example using ravel().\n",
            "  \n"
          ],
          "name": "stderr"
        }
      ]
    },
    {
      "cell_type": "code",
      "metadata": {
        "id": "16PUaZUuSBtQ",
        "colab": {
          "base_uri": "https://localhost:8080/"
        },
        "outputId": "875dd1b7-b2ff-47df-81b3-84e0faf590a8"
      },
      "source": [
        "cost_list = list()\n",
        "x_list = list()\n",
        "sen_list = list()\n",
        "spec_list = list()\n",
        "for i in np.linspace(0,1,30,endpoint=False):\n",
        "    test_matrix = confusion_matrix(y_test.values, (test_predictions[:, 1]>i).astype(int).reshape(-1,1), labels=[0,1])\n",
        "    ###Test metrics\n",
        "    TP = test_matrix[1,1]\n",
        "    TN = test_matrix[0,0]\n",
        "    FN = test_matrix[0,1]\n",
        "    FP = test_matrix[1,0]\n",
        "    Recall_1 = round(TP/(TP+FN),3)\n",
        "    Recall_0 = round(TN/(TN+FP),3)\n",
        "    cost = round((FP*1) + (FN*3),3)\n",
        "    x = round(i,2)\n",
        "    x_list.append(x)\n",
        "    cost_list.append(cost)\n",
        "    sen_list.append(Recall_1)\n",
        "    spec_list.append(Recall_0)\n",
        "    \n",
        "a = pd.DataFrame(x_list, columns=[\"Cutoff\"])\n",
        "b = pd.DataFrame(cost_list, columns=[\"Cost\"])\n",
        "c = pd.DataFrame(sen_list, columns=[\"Sensitivity\"])\n",
        "d = pd.DataFrame(spec_list, columns=[\"Specificity\"])\n",
        "e = pd.concat([a, b, c, d], axis='columns')\n",
        "e.replace(np.nan,0, inplace=True)"
      ],
      "execution_count": null,
      "outputs": [
        {
          "output_type": "stream",
          "text": [
            "/usr/local/lib/python3.6/dist-packages/ipykernel_launcher.py:13: RuntimeWarning: invalid value encountered in long_scalars\n",
            "  del sys.path[0]\n",
            "/usr/local/lib/python3.6/dist-packages/ipykernel_launcher.py:12: RuntimeWarning: invalid value encountered in long_scalars\n",
            "  if sys.path[0] == '':\n"
          ],
          "name": "stderr"
        }
      ]
    },
    {
      "cell_type": "code",
      "metadata": {
        "id": "MDJYM11YSBtQ",
        "colab": {
          "base_uri": "https://localhost:8080/",
          "height": 369
        },
        "outputId": "c0cfbc0b-0c8f-4610-ead4-53481f343a46"
      },
      "source": [
        "fig, ax1 = plt.subplots(figsize=(13,5))\n",
        "fig.subplots_adjust(top=0.7)\n",
        "\n",
        "sns.lineplot(x='Cutoff', y='Sensitivity', data=e, marker=\"o\", ax=ax1, label=['Sensitivity'])\n",
        "ax1.legend(loc='lower right', shadow=True,fontsize='medium')\n",
        "ax1.axvline(x=0.70, color='red', linestyle='dashed', linewidth=1)\n",
        "ax1.spines['top'].set_visible(False)\n",
        "ax1.set_xlabel('Cut-Off Value', fontsize=12, weight='bold')\n",
        "ax1.set_ylabel('Sensitivity', fontsize=12, weight='bold')\n",
        "\n",
        "ax2 = ax1.twinx()\n",
        "\n",
        "sns.lineplot(x='Cutoff', y='Specificity', data=e, marker=\"o\", ax=ax2, label=['Specificity'], color='green')\n",
        "ax2.legend(loc='best', shadow=True,fontsize='medium');\n",
        "ax2.spines['top'].set_visible(False)\n",
        "\n",
        "ax2.set_ylabel('Specificity', fontsize=12, weight='bold')\n",
        "\n",
        "fig.tight_layout()\n",
        "plt.show()"
      ],
      "execution_count": null,
      "outputs": [
        {
          "output_type": "display_data",
          "data": {
            "image/png": "[encoded data removed]",
            "text/plain": [
              "<Figure size 936x360 with 2 Axes>"
            ]
          },
          "metadata": {
            "tags": [],
            "needs_background": "light"
          }
        }
      ]
    },
    {
      "cell_type": "code",
      "metadata": {
        "id": "mbVvdX2ISBtR",
        "colab": {
          "base_uri": "https://localhost:8080/"
        },
        "outputId": "0d32761d-a036-4e9a-bb2a-6131be541fc1"
      },
      "source": [
        "confusion_matrix(y_test.values, (test_predictions[:, 1]>0.70).astype(int).reshape(-1,1), labels=[0,1])"
      ],
      "execution_count": null,
      "outputs": [
        {
          "output_type": "execute_result",
          "data": {
            "text/plain": [
              "array([[1097,    2],\n",
              "       [ 132,    5]])"
            ]
          },
          "metadata": {
            "tags": []
          },
          "execution_count": 97
        }
      ]
    },
    {
      "cell_type": "code",
      "metadata": {
        "id": "3NrLNCd9SBtR",
        "colab": {
          "base_uri": "https://localhost:8080/"
        },
        "outputId": "a481ac57-c574-4b7a-a0fb-731675d99dae"
      },
      "source": [
        "test_matrix = confusion_matrix(y_test.values, (test_predictions[:, 1]>0.70).astype(int).reshape(-1,1), labels=[0,1])\n",
        "###Test metrics\n",
        "TP = test_matrix[1,1]\n",
        "TN = test_matrix[0,0]\n",
        "FN = test_matrix[0,1]\n",
        "FP = test_matrix[1,0]\n",
        "test_recall = round(TP/(TP+FN),3)\n",
        "test_precision = round(TP/(TP+FP),3)\n",
        "print(f\"Test Recall for Subscribed=Yes is {test_recall} and Test Precision is {test_precision}\")"
      ],
      "execution_count": null,
      "outputs": [
        {
          "output_type": "stream",
          "text": [
            "Test Recall for Subscribed=Yes is 0.714 and Test Precision is 0.036\n"
          ],
          "name": "stdout"
        }
      ]
    },
    {
      "cell_type": "code",
      "metadata": {
        "id": "rRUvPCjuSBtR",
        "colab": {
          "base_uri": "https://localhost:8080/",
          "height": 279
        },
        "outputId": "4a97ac23-08bd-4804-ad04-0114dc16ba7f"
      },
      "source": [
        "prcurve_rf = plot_precision_recall_curve(classifier_rf, X_test5, y_test)"
      ],
      "execution_count": null,
      "outputs": [
        {
          "output_type": "display_data",
          "data": {
            "image/png": "[encoded data removed]",
            "text/plain": [
              "<Figure size 432x288 with 1 Axes>"
            ]
          },
          "metadata": {
            "tags": [],
            "needs_background": "light"
          }
        }
      ]
    },
    {
      "cell_type": "code",
      "metadata": {
        "id": "K-WmmzZPuJhh"
      },
      "source": [
        "pred_data = pd.DataFrame(test_predictions[:, 1], columns=[\"Predicted_Probability\"])\r\n",
        "test_labels = y_test.reset_index()\r\n",
        "pred_data = pd.merge(test_labels, pred_data, left_index=True, right_index=True)\r\n",
        "pred_data = pred_data[[\"target\", \"Predicted_Probability\"]]\r\n",
        "pred_data = pred_data.sort_values(by=['Predicted_Probability'], ascending=False)\r\n",
        "pred_data = pred_data.reset_index(drop=\"index\")"
      ],
      "execution_count": null,
      "outputs": []
    },
    {
      "cell_type": "code",
      "metadata": {
        "id": "lJIDaK9muLlF"
      },
      "source": [
        "row_index = np.int(np.ceil(pred_data.shape[0] * 0.10))"
      ],
      "execution_count": null,
      "outputs": []
    },
    {
      "cell_type": "code",
      "metadata": {
        "colab": {
          "base_uri": "https://localhost:8080/"
        },
        "id": "veRs1ib9uK_2",
        "outputId": "fe85b4d6-7a0c-4b1a-aec2-699467c58b1d"
      },
      "source": [
        "##First 10% of rows cover this many subscribers\r\n",
        "round((pred_data.iloc[:row_index+1, 0].sum()/pred_data.iloc[:, 0].sum())/0.10,3)"
      ],
      "execution_count": null,
      "outputs": [
        {
          "output_type": "execute_result",
          "data": {
            "text/plain": [
              "3.869"
            ]
          },
          "metadata": {
            "tags": []
          },
          "execution_count": 102
        }
      ]
    },
    {
      "cell_type": "code",
      "metadata": {
        "colab": {
          "base_uri": "https://localhost:8080/"
        },
        "id": "pElRxIMDuWAo",
        "outputId": "9b8bf62e-8c7e-49ee-d961-1badf47e76ac"
      },
      "source": [
        "##First 20% of rows cover this many subscribers\r\n",
        "round((pred_data.iloc[:row_index+row_index+1, 0].sum()/pred_data.iloc[:, 0].sum())/0.20,3)"
      ],
      "execution_count": null,
      "outputs": [
        {
          "output_type": "execute_result",
          "data": {
            "text/plain": [
              "2.518"
            ]
          },
          "metadata": {
            "tags": []
          },
          "execution_count": 103
        }
      ]
    },
    {
      "cell_type": "code",
      "metadata": {
        "colab": {
          "base_uri": "https://localhost:8080/"
        },
        "id": "7bLkCYBUucPN",
        "outputId": "dd54b09f-f887-4bd4-d44a-a95e22d18cea"
      },
      "source": [
        "##First 30% of rows cover this many subscribers\r\n",
        "round((pred_data.iloc[:row_index+row_index+row_index+1, 0].sum()/pred_data.iloc[:, 0].sum())/0.30,3)"
      ],
      "execution_count": null,
      "outputs": [
        {
          "output_type": "execute_result",
          "data": {
            "text/plain": [
              "2.092"
            ]
          },
          "metadata": {
            "tags": []
          },
          "execution_count": 104
        }
      ]
    },
    {
      "cell_type": "code",
      "metadata": {
        "colab": {
          "base_uri": "https://localhost:8080/"
        },
        "id": "L65hV6rU-gWQ",
        "outputId": "27fc2850-4fad-4e62-8692-659954221c0b"
      },
      "source": [
        "##First 90% of rows cover this many subscribers\r\n",
        "round((pred_data.iloc[:(row_index*9)+1, 0].sum()/pred_data.iloc[:, 0].sum())/0.90,3)"
      ],
      "execution_count": null,
      "outputs": [
        {
          "output_type": "execute_result",
          "data": {
            "text/plain": [
              "1.079"
            ]
          },
          "metadata": {
            "tags": []
          },
          "execution_count": 105
        }
      ]
    },
    {
      "cell_type": "code",
      "metadata": {
        "id": "4TWL9Hj9vDXU"
      },
      "source": [
        "del test_labels, pred_data"
      ],
      "execution_count": null,
      "outputs": []
    },
    {
      "cell_type": "markdown",
      "metadata": {
        "id": "D88O4qe2SBtR"
      },
      "source": [
        "**Extreme Gradient Boosting**"
      ]
    },
    {
      "cell_type": "code",
      "metadata": {
        "id": "T5B_PKAtSBtS"
      },
      "source": [
        "#pip install xgboost\n",
        "import xgboost as xgb"
      ],
      "execution_count": null,
      "outputs": []
    },
    {
      "cell_type": "code",
      "metadata": {
        "id": "j7hfaTBASBtS"
      },
      "source": [
        "estimator = xgb.XGBClassifier(objective=\"binary:logistic\", random_state=1)"
      ],
      "execution_count": null,
      "outputs": []
    },
    {
      "cell_type": "code",
      "metadata": {
        "id": "2GLIa6j0SBtS",
        "colab": {
          "base_uri": "https://localhost:8080/"
        },
        "outputId": "ac2e373a-4cd6-4a28-a075-a9975d3911c7"
      },
      "source": [
        "learning_rate = np.arange(0.01,1,0.05)\n",
        "n_estimators = np.arange(100, 500, 50)\n",
        "max_depth = [2, 5, 10, 20, 30, 40, 50]\n",
        "min_child_weight = [1,3,6]\n",
        "colsample_bytree = [0.1, 0.5, 0.8, 1]\n",
        "\n",
        "param_grid = {'learning_rate': learning_rate,\n",
        "              'n_estimators': n_estimators,\n",
        "              'max_depth': max_depth,\n",
        "              'min_child_weight': min_child_weight,\n",
        "              'colsample_bytree': colsample_bytree}\n",
        "\n",
        "pprint(param_grid)"
      ],
      "execution_count": null,
      "outputs": [
        {
          "output_type": "stream",
          "text": [
            "{'colsample_bytree': [0.1, 0.5, 0.8, 1],\n",
            " 'learning_rate': array([0.01, 0.06, 0.11, 0.16, 0.21, 0.26, 0.31, 0.36, 0.41, 0.46, 0.51,\n",
            "       0.56, 0.61, 0.66, 0.71, 0.76, 0.81, 0.86, 0.91, 0.96]),\n",
            " 'max_depth': [2, 5, 10, 20, 30, 40, 50],\n",
            " 'min_child_weight': [1, 3, 6],\n",
            " 'n_estimators': array([100, 150, 200, 250, 300, 350, 400, 450])}\n"
          ],
          "name": "stdout"
        }
      ]
    },
    {
      "cell_type": "code",
      "metadata": {
        "id": "CehlA4k0SBtS"
      },
      "source": [
        "##https://scikit-learn.org/stable/modules/model_evaluation.html\n",
        "randomized_accuracy_fit = RandomizedSearchCV(estimator=estimator,\n",
        "                                            param_distributions=param_grid,\n",
        "                                            n_iter=50,\n",
        "                                            scoring=\"f1_micro\",\n",
        "                                            n_jobs=-1,\n",
        "                                            refit=True,\n",
        "                                            random_state=2,\n",
        "                                            return_train_score=True,\n",
        "                                            verbose=1,\n",
        "                                            cv=StratifiedKFold(n_splits=10, shuffle=True, random_state=2)\n",
        "                                            )"
      ],
      "execution_count": null,
      "outputs": []
    },
    {
      "cell_type": "code",
      "metadata": {
        "id": "Asp-4-EJSBtT",
        "colab": {
          "base_uri": "https://localhost:8080/"
        },
        "outputId": "210f8bbf-d833-46ff-8f63-a6dd9202db92"
      },
      "source": [
        "training_start = time.perf_counter()\n",
        "randomized_accuracy_fit.fit(X_train5, y_train)\n",
        "training_end = time.perf_counter()\n",
        "train_time = training_end-training_start\n",
        "print(\"Time consumed for training: %4.3f seconds\" % (train_time))"
      ],
      "execution_count": null,
      "outputs": [
        {
          "output_type": "stream",
          "text": [
            "Fitting 10 folds for each of 50 candidates, totalling 500 fits\n"
          ],
          "name": "stdout"
        },
        {
          "output_type": "stream",
          "text": [
            "[Parallel(n_jobs=-1)]: Using backend LokyBackend with 2 concurrent workers.\n",
            "[Parallel(n_jobs=-1)]: Done  46 tasks      | elapsed:   13.6s\n",
            "[Parallel(n_jobs=-1)]: Done 196 tasks      | elapsed:  1.3min\n",
            "[Parallel(n_jobs=-1)]: Done 446 tasks      | elapsed:  2.9min\n"
          ],
          "name": "stderr"
        },
        {
          "output_type": "stream",
          "text": [
            "Time consumed for training: 197.624 seconds\n"
          ],
          "name": "stdout"
        },
        {
          "output_type": "stream",
          "text": [
            "[Parallel(n_jobs=-1)]: Done 500 out of 500 | elapsed:  3.3min finished\n",
            "/usr/local/lib/python3.6/dist-packages/sklearn/preprocessing/_label.py:235: DataConversionWarning: A column-vector y was passed when a 1d array was expected. Please change the shape of y to (n_samples, ), for example using ravel().\n",
            "  y = column_or_1d(y, warn=True)\n",
            "/usr/local/lib/python3.6/dist-packages/sklearn/preprocessing/_label.py:268: DataConversionWarning: A column-vector y was passed when a 1d array was expected. Please change the shape of y to (n_samples, ), for example using ravel().\n",
            "  y = column_or_1d(y, warn=True)\n"
          ],
          "name": "stderr"
        }
      ]
    },
    {
      "cell_type": "code",
      "metadata": {
        "id": "ikXK3XkMSBtT",
        "colab": {
          "base_uri": "https://localhost:8080/"
        },
        "outputId": "ba37b870-0d18-491a-a3c6-9ac5de84329d"
      },
      "source": [
        "print(randomized_accuracy_fit.best_score_)\n",
        "print(randomized_accuracy_fit.best_estimator_)"
      ],
      "execution_count": null,
      "outputs": [
        {
          "output_type": "stream",
          "text": [
            "0.89050566695728\n",
            "XGBClassifier(base_score=0.5, booster='gbtree', colsample_bylevel=1,\n",
            "              colsample_bynode=1, colsample_bytree=0.5, gamma=0,\n",
            "              learning_rate=0.56, max_delta_step=0, max_depth=2,\n",
            "              min_child_weight=1, missing=None, n_estimators=100, n_jobs=1,\n",
            "              nthread=None, objective='binary:logistic', random_state=1,\n",
            "              reg_alpha=0, reg_lambda=1, scale_pos_weight=1, seed=None,\n",
            "              silent=None, subsample=1, verbosity=1)\n"
          ],
          "name": "stdout"
        }
      ]
    },
    {
      "cell_type": "code",
      "metadata": {
        "id": "8Tnv6l69SBtT"
      },
      "source": [
        "classifier_xgboost = xgb.XGBClassifier(objective=\"binary:logistic\", random_state=1,\n",
        "                                      learning_rate=0.01, n_estimators=100, max_depth=20,\n",
        "                                      min_child_weight=1, colsample_bytree=0.8)"
      ],
      "execution_count": null,
      "outputs": []
    },
    {
      "cell_type": "code",
      "metadata": {
        "id": "zeEyB91pSBtT",
        "colab": {
          "base_uri": "https://localhost:8080/"
        },
        "outputId": "fd169ac9-752b-47d1-e5c4-25bd04180204"
      },
      "source": [
        "##Fit to train data\n",
        "classifier_xgboost.fit(X_train5, y_train)\n",
        "##Predict train set\n",
        "train_predictions = classifier_xgboost.predict_proba(X_train5)\n",
        "##Predict test set\n",
        "test_predictions = classifier_xgboost.predict_proba(X_test5)"
      ],
      "execution_count": null,
      "outputs": [
        {
          "output_type": "stream",
          "text": [
            "/usr/local/lib/python3.6/dist-packages/sklearn/preprocessing/_label.py:235: DataConversionWarning: A column-vector y was passed when a 1d array was expected. Please change the shape of y to (n_samples, ), for example using ravel().\n",
            "  y = column_or_1d(y, warn=True)\n",
            "/usr/local/lib/python3.6/dist-packages/sklearn/preprocessing/_label.py:268: DataConversionWarning: A column-vector y was passed when a 1d array was expected. Please change the shape of y to (n_samples, ), for example using ravel().\n",
            "  y = column_or_1d(y, warn=True)\n"
          ],
          "name": "stderr"
        }
      ]
    },
    {
      "cell_type": "code",
      "metadata": {
        "id": "USWpxs4ESBtT",
        "colab": {
          "base_uri": "https://localhost:8080/"
        },
        "outputId": "0c13a62c-10f4-46e0-8bcd-56ffb19f21f6"
      },
      "source": [
        "cost_list = list()\n",
        "x_list = list()\n",
        "sen_list = list()\n",
        "spec_list = list()\n",
        "for i in np.linspace(0,1,30,endpoint=False):\n",
        "    test_matrix = confusion_matrix(y_test.values, (test_predictions[:, 1]>i).astype(int).reshape(-1,1), labels=[0,1])\n",
        "    ###Test metrics\n",
        "    TP = test_matrix[1,1]\n",
        "    TN = test_matrix[0,0]\n",
        "    FN = test_matrix[0,1]\n",
        "    FP = test_matrix[1,0]\n",
        "    Recall_1 = round(TP/(TP+FN),3)\n",
        "    Recall_0 = round(TN/(TN+FP),3)\n",
        "    cost = round((FP*1) + (FN*3),3)\n",
        "    x = round(i,2)\n",
        "    x_list.append(x)\n",
        "    cost_list.append(cost)\n",
        "    sen_list.append(Recall_1)\n",
        "    spec_list.append(Recall_0)\n",
        "    \n",
        "a = pd.DataFrame(x_list, columns=[\"Cutoff\"])\n",
        "b = pd.DataFrame(cost_list, columns=[\"Cost\"])\n",
        "c = pd.DataFrame(sen_list, columns=[\"Sensitivity\"])\n",
        "d = pd.DataFrame(spec_list, columns=[\"Specificity\"])\n",
        "e = pd.concat([a, b, c, d], axis='columns')\n",
        "e.replace(np.nan,0, inplace=True)"
      ],
      "execution_count": null,
      "outputs": [
        {
          "output_type": "stream",
          "text": [
            "/usr/local/lib/python3.6/dist-packages/ipykernel_launcher.py:13: RuntimeWarning: invalid value encountered in long_scalars\n",
            "  del sys.path[0]\n",
            "/usr/local/lib/python3.6/dist-packages/ipykernel_launcher.py:12: RuntimeWarning: invalid value encountered in long_scalars\n",
            "  if sys.path[0] == '':\n"
          ],
          "name": "stderr"
        }
      ]
    },
    {
      "cell_type": "code",
      "metadata": {
        "id": "DEvT9J_MSBtT",
        "colab": {
          "base_uri": "https://localhost:8080/"
        },
        "outputId": "c10be006-9470-4846-e4a1-b1778ea32237"
      },
      "source": [
        "fig, ax1 = plt.subplots(figsize=(13,5))\n",
        "fig.subplots_adjust(top=0.7)\n",
        "\n",
        "sns.lineplot(x='Cutoff', y='Sensitivity', data=e, marker=\"o\", ax=ax1, label=['Sensitivity'])\n",
        "ax1.legend(loc='lower right', shadow=True,fontsize='medium')\n",
        "ax1.axvline(x=0.70, color='red', linestyle='dashed', linewidth=1)\n",
        "ax1.spines['top'].set_visible(False)\n",
        "ax1.set_xlabel('Cut-Off Value', fontsize=12, weight='bold')\n",
        "ax1.set_ylabel('Sensitivity', fontsize=12, weight='bold')\n",
        "\n",
        "ax2 = ax1.twinx()\n",
        "\n",
        "sns.lineplot(x='Cutoff', y='Specificity', data=e, marker=\"o\", ax=ax2, label=['Specificity'], color='green')\n",
        "ax2.legend(loc='best', shadow=True,fontsize='medium');\n",
        "ax2.spines['top'].set_visible(False)\n",
        "\n",
        "ax2.set_ylabel('Specificity', fontsize=12, weight='bold')\n",
        "\n",
        "fig.tight_layout()\n",
        "plt.show()"
      ],
      "execution_count": null,
      "outputs": [
        {
          "output_type": "display_data",
          "data": {
            "image/png": "[encoded data removed]",
            "text/plain": [
              "<Figure size 936x360 with 2 Axes>"
            ]
          },
          "metadata": {
            "tags": [],
            "needs_background": "light"
          }
        }
      ]
    },
    {
      "cell_type": "code",
      "metadata": {
        "id": "vBcyXr-tSBtU",
        "colab": {
          "base_uri": "https://localhost:8080/"
        },
        "outputId": "7a9f9f2a-1b00-4d21-9b03-e5a3671ca213"
      },
      "source": [
        "confusion_matrix(y_test.values, (test_predictions[:, 1]>0.70).astype(int).reshape(-1,1), labels=[0,1])"
      ],
      "execution_count": null,
      "outputs": [
        {
          "output_type": "execute_result",
          "data": {
            "text/plain": [
              "array([[1099,    0],\n",
              "       [ 136,    1]])"
            ]
          },
          "metadata": {
            "tags": []
          },
          "execution_count": 117
        }
      ]
    },
    {
      "cell_type": "code",
      "metadata": {
        "id": "y5Wt-sbcSBtU",
        "colab": {
          "base_uri": "https://localhost:8080/"
        },
        "outputId": "07551c1f-08d4-471e-b032-0a45638ab8db"
      },
      "source": [
        "test_matrix = confusion_matrix(y_test.values, (test_predictions[:, 1]>0.70).astype(int).reshape(-1,1), labels=[0,1])\n",
        "###Test metrics\n",
        "TP = test_matrix[1,1]\n",
        "TN = test_matrix[0,0]\n",
        "FN = test_matrix[0,1]\n",
        "FP = test_matrix[1,0]\n",
        "test_recall = round(TP/(TP+FN),3)\n",
        "test_precision = round(TP/(TP+FP),3)\n",
        "print(f\"Test Recall for Subscribed=Yes is {test_recall} and Test Precision is {test_precision}\")"
      ],
      "execution_count": null,
      "outputs": [
        {
          "output_type": "stream",
          "text": [
            "Test Recall for Subscribed=Yes is 1.0 and Test Precision is 0.007\n"
          ],
          "name": "stdout"
        }
      ]
    },
    {
      "cell_type": "code",
      "metadata": {
        "id": "yOkTr0uDSBtU",
        "colab": {
          "base_uri": "https://localhost:8080/",
          "height": 279
        },
        "outputId": "1969860b-8ac0-4e30-96d6-075a6d1932ce"
      },
      "source": [
        "prcurve_xgboost = plot_precision_recall_curve(classifier_xgboost, X_test5, y_test)"
      ],
      "execution_count": null,
      "outputs": [
        {
          "output_type": "display_data",
          "data": {
            "image/png": "[encoded data removed]",
            "text/plain": [
              "<Figure size 432x288 with 1 Axes>"
            ]
          },
          "metadata": {
            "tags": [],
            "needs_background": "light"
          }
        }
      ]
    },
    {
      "cell_type": "code",
      "metadata": {
        "id": "D2hiPn-dSBtU"
      },
      "source": [
        "pred_data = pd.DataFrame(test_predictions[:, 1], columns=[\"Predicted_Probability\"])\r\n",
        "test_labels = y_test.reset_index()\r\n",
        "pred_data = pd.merge(test_labels, pred_data, left_index=True, right_index=True)\r\n",
        "pred_data = pred_data[[\"target\", \"Predicted_Probability\"]]\r\n",
        "pred_data = pred_data.sort_values(by=['Predicted_Probability'], ascending=False)\r\n",
        "pred_data = pred_data.reset_index(drop=\"index\")"
      ],
      "execution_count": null,
      "outputs": []
    },
    {
      "cell_type": "code",
      "metadata": {
        "id": "y1WMYB1MSBtU"
      },
      "source": [
        "row_index = np.int(np.ceil(pred_data.shape[0] * 0.10))"
      ],
      "execution_count": null,
      "outputs": []
    },
    {
      "cell_type": "code",
      "metadata": {
        "id": "MSCVnpZvSBtV",
        "colab": {
          "base_uri": "https://localhost:8080/"
        },
        "outputId": "7888e1f8-f948-499a-a117-5bfeb5098d35"
      },
      "source": [
        "##First 10% of rows cover this many subscribers\r\n",
        "round((pred_data.iloc[:row_index+1, 0].sum()/pred_data.iloc[:, 0].sum())/0.10,3)"
      ],
      "execution_count": null,
      "outputs": [
        {
          "output_type": "execute_result",
          "data": {
            "text/plain": [
              "4.088"
            ]
          },
          "metadata": {
            "tags": []
          },
          "execution_count": 122
        }
      ]
    },
    {
      "cell_type": "code",
      "metadata": {
        "colab": {
          "base_uri": "https://localhost:8080/"
        },
        "id": "rx-wxRa1uyzl",
        "outputId": "e42b098a-c683-4781-8a01-15457c88b44d"
      },
      "source": [
        "##First 20% of rows cover this many subscribers\r\n",
        "round((pred_data.iloc[:row_index+row_index+1, 0].sum()/pred_data.iloc[:, 0].sum())/0.20,3)"
      ],
      "execution_count": null,
      "outputs": [
        {
          "output_type": "execute_result",
          "data": {
            "text/plain": [
              "2.81"
            ]
          },
          "metadata": {
            "tags": []
          },
          "execution_count": 123
        }
      ]
    },
    {
      "cell_type": "code",
      "metadata": {
        "colab": {
          "base_uri": "https://localhost:8080/"
        },
        "id": "nEIzpQJKuyKt",
        "outputId": "7e9327e3-0cf3-4fba-b612-0d85549525f0"
      },
      "source": [
        "##First 30% of rows cover this many subscribers\r\n",
        "round((pred_data.iloc[:row_index+row_index+row_index+1, 0].sum()/pred_data.iloc[:, 0].sum())/0.30,3)"
      ],
      "execution_count": null,
      "outputs": [
        {
          "output_type": "execute_result",
          "data": {
            "text/plain": [
              "2.068"
            ]
          },
          "metadata": {
            "tags": []
          },
          "execution_count": 124
        }
      ]
    },
    {
      "cell_type": "code",
      "metadata": {
        "colab": {
          "base_uri": "https://localhost:8080/"
        },
        "id": "VfDhwJWi-ijw",
        "outputId": "bf3c5e96-12e7-4ee6-d336-b0dc55c8dc0a"
      },
      "source": [
        "##First 90% of rows cover this many subscribers\r\n",
        "round((pred_data.iloc[:(row_index*9)+1, 0].sum()/pred_data.iloc[:, 0].sum())/0.90,3)"
      ],
      "execution_count": null,
      "outputs": [
        {
          "output_type": "execute_result",
          "data": {
            "text/plain": [
              "1.079"
            ]
          },
          "metadata": {
            "tags": []
          },
          "execution_count": 125
        }
      ]
    },
    {
      "cell_type": "code",
      "metadata": {
        "id": "_umzO12Bu9hN"
      },
      "source": [
        "del test_labels, pred_data"
      ],
      "execution_count": null,
      "outputs": []
    },
    {
      "cell_type": "markdown",
      "metadata": {
        "id": "IcfoxigTu_A8"
      },
      "source": [
        "**Thank You**"
      ]
    }
  ]
}