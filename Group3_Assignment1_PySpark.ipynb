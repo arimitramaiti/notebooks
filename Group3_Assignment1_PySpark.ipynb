{
  "nbformat": 4,
  "nbformat_minor": 0,
  "metadata": {
    "colab": {
      "name": "Group3_Assignment1_PySpark.ipynb",
      "provenance": [],
      "authorship_tag": "ABX9TyPW1puS8OlAguJNMyyGQ03l",
      "include_colab_link": true
    },
    "kernelspec": {
      "name": "python3",
      "display_name": "Python 3"
    }
  },
  "cells": [
    {
      "cell_type": "markdown",
      "metadata": {
        "id": "view-in-github",
        "colab_type": "text"
      },
      "source": [
        "<a href=\"https://colab.research.google.com/github/arimitramaiti/notebooks/blob/master/Group3_Assignment1_PySpark.ipynb\" target=\"_parent\"><img src=\"https://colab.research.google.com/assets/colab-badge.svg\" alt=\"Open In Colab\"/></a>"
      ]
    },
    {
      "cell_type": "markdown",
      "metadata": {
        "id": "K4OXTwRHGPhw"
      },
      "source": [
        "### <center>ARM Pyspark Implementation</center>\n",
        "<center>Machine Learning with Big Data (Week-1)</center>\n",
        "<center>ePGD ABA 2020-21</center>"
      ]
    },
    {
      "cell_type": "markdown",
      "metadata": {
        "id": "4xhTtVZFHeEO"
      },
      "source": [
        "**Group-3 includes : Nitin Raheja, Rohan Singh, Anand Dattani and Arimitra Maiti**"
      ]
    },
    {
      "cell_type": "markdown",
      "metadata": {
        "id": "8n59u1QjGggk"
      },
      "source": [
        "You are given an online grocery retail dataset. The dataset primarily contains the following transactional attributes: (a) User identifier (b) Order identifier, (c) Product identifier, (d) Product name, (e) Aisle, or location where the product is placed, (f) Department, or category of the product. You are expected to apply rule mining methods on the given dataset, explore interesting patterns and answer the following queries:"
      ]
    },
    {
      "cell_type": "code",
      "metadata": {
        "id": "xAJQnM4S7dnO",
        "colab": {
          "base_uri": "https://localhost:8080/"
        },
        "outputId": "42624635-dc3a-43eb-e4ea-9b38e73c0054"
      },
      "source": [
        "!pip install --quiet mlxtend\n",
        "!pip install mlxtend --upgrade --no-deps\n",
        "!pip install --quiet pyspark"
      ],
      "execution_count": null,
      "outputs": [
        {
          "output_type": "stream",
          "text": [
            "Collecting mlxtend\n",
            "\u001b[?25l  Downloading https://files.pythonhosted.org/packages/86/30/781c0b962a70848db83339567ecab656638c62f05adb064cb33c0ae49244/mlxtend-0.18.0-py2.py3-none-any.whl (1.3MB)\n",
            "\u001b[K     |████████████████████████████████| 1.4MB 5.7MB/s \n",
            "\u001b[?25hInstalling collected packages: mlxtend\n",
            "  Found existing installation: mlxtend 0.14.0\n",
            "    Uninstalling mlxtend-0.14.0:\n",
            "      Successfully uninstalled mlxtend-0.14.0\n",
            "Successfully installed mlxtend-0.18.0\n",
            "\u001b[K     |████████████████████████████████| 204.2MB 66kB/s \n",
            "\u001b[K     |████████████████████████████████| 204kB 46.9MB/s \n",
            "\u001b[?25h  Building wheel for pyspark (setup.py) ... \u001b[?25l\u001b[?25hdone\n"
          ],
          "name": "stdout"
        }
      ]
    },
    {
      "cell_type": "code",
      "metadata": {
        "id": "NqjR8WU27DR8"
      },
      "source": [
        "from pyspark.ml.fpm import FPGrowth\n",
        "import pandas as pd\n",
        "import numpy as np\n",
        "from mlxtend.frequent_patterns import apriori, fpgrowth, association_rules\n",
        "import pyspark\n",
        "pd.set_option('max_colwidth', 300)"
      ],
      "execution_count": null,
      "outputs": []
    },
    {
      "cell_type": "code",
      "metadata": {
        "id": "y6lay12P78DI"
      },
      "source": [
        "##Download dataset from shared source\n",
        "url = \"https://raw.githubusercontent.com/arimitramaiti/datasets/master/articles/Online%20Grocery%20Retail%20Customer%20Data.csv\"\n",
        "data = pd.read_csv(url, error_bad_lines=False, header=0, index_col=None)"
      ],
      "execution_count": null,
      "outputs": []
    },
    {
      "cell_type": "code",
      "metadata": {
        "id": "gP1wVnK383Uh"
      },
      "source": [
        "from pyspark import SparkContext\n",
        "from pyspark.sql import SQLContext\n",
        "##Declare instance of Spark and SQL\n",
        "sc = SparkContext(appName=\"PythonStreamingQueueStream\")\n",
        "sqlContext = SQLContext(sc)"
      ],
      "execution_count": null,
      "outputs": []
    },
    {
      "cell_type": "code",
      "metadata": {
        "id": "jCAIGlm0777A"
      },
      "source": [
        "##Convert pandas data frame into Spark dataframe for big data context\n",
        "sparkDf = sqlContext.createDataFrame(data, [\"uid\",\t\"oid\",\t\"pid\",\t\"pname\",\t\"aisle\",\t\"department\",\t\"aisle_department\",\t\"pname_aisle_department\"])"
      ],
      "execution_count": null,
      "outputs": []
    },
    {
      "cell_type": "code",
      "metadata": {
        "id": "85ZdxHt1BHmS"
      },
      "source": [
        "##Use collect_list or collect_set to combine individual transaction items in one single row\n",
        "##Since pname is the most granular level known from discussion we are using collect_list here as we know we wont have duplicates\n",
        "from pyspark.sql.functions import collect_list"
      ],
      "execution_count": null,
      "outputs": []
    },
    {
      "cell_type": "code",
      "metadata": {
        "colab": {
          "base_uri": "https://localhost:8080/"
        },
        "id": "usR_si8GOrKh",
        "outputId": "259e2bfc-4c6b-488c-aed0-98d08c5359bd"
      },
      "source": [
        "#Count distinct transactions from big data, this would serve as the denominator while evaluation support from frequency of itemsets\n",
        "from pyspark.sql.functions import col, countDistinct\n",
        "sparkDf.agg(countDistinct(col(\"oid\")).alias(\"count\")).show()"
      ],
      "execution_count": null,
      "outputs": [
        {
          "output_type": "stream",
          "text": [
            "+-----+\n",
            "|count|\n",
            "+-----+\n",
            "| 3412|\n",
            "+-----+\n",
            "\n"
          ],
          "name": "stdout"
        }
      ]
    },
    {
      "cell_type": "markdown",
      "metadata": {
        "id": "G_QO4ABZR9Pq"
      },
      "source": [
        "__1) Identify at least six interesting rules from the given dataset. Explain how you determined minimum threshold levels for rule mining__"
      ]
    },
    {
      "cell_type": "markdown",
      "metadata": {
        "id": "TtMQZ4Kl78rP"
      },
      "source": [
        "_All the 6 rules below have high confidence, lift and conviction measures at the same time, all rules are well above minimum support level_"
      ]
    },
    {
      "cell_type": "code",
      "metadata": {
        "id": "76OCvr-MBI_w"
      },
      "source": [
        "#Convert long transactions from big data into a wide array of items\n",
        "mylist = sparkDf.groupBy(sparkDf.oid).agg(collect_list('pname'))"
      ],
      "execution_count": null,
      "outputs": []
    },
    {
      "cell_type": "code",
      "metadata": {
        "colab": {
          "base_uri": "https://localhost:8080/"
        },
        "id": "sMctGGXHB9dx",
        "outputId": "f46b2d3a-2e3c-4684-f189-4fde24b3587f"
      },
      "source": [
        "mylist"
      ],
      "execution_count": null,
      "outputs": [
        {
          "output_type": "execute_result",
          "data": {
            "text/plain": [
              "DataFrame[oid: bigint, collect_list(pname): array<string>]"
            ]
          },
          "metadata": {
            "tags": []
          },
          "execution_count": 9
        }
      ]
    },
    {
      "cell_type": "code",
      "metadata": {
        "id": "8mvyJS0k773X"
      },
      "source": [
        "#Run FPGrowth model using spark big list of items\n",
        "fpGrowth = FPGrowth(itemsCol=\"collect_list(pname)\", minSupport=0.02)\n",
        "model = fpGrowth.fit(mylist)"
      ],
      "execution_count": null,
      "outputs": []
    },
    {
      "cell_type": "code",
      "metadata": {
        "colab": {
          "base_uri": "https://localhost:8080/",
          "height": 320
        },
        "id": "4pAWI3V477z4",
        "outputId": "30ac99da-6bb9-4e92-bbc0-97fed8f9286d"
      },
      "source": [
        "# Store frequent itemsets.\n",
        "results = model.freqItemsets.collect()\n",
        "# Store frequent itemsets in pandas dataframe.\n",
        "frequent_items = pd.DataFrame(results, columns=[\"itemsets\", \"freq\"])\n",
        "# Store length of each itemset in pandas dataframe.\n",
        "frequent_items['size'] = frequent_items[\"itemsets\"].apply(lambda x: len(x))\n",
        "# Store support value which is an input for  association_rules function.\n",
        "frequent_items['support'] = frequent_items[\"freq\"]/3412\n",
        "#specify suitable parameter values, random values are set below\n",
        "rules = association_rules(frequent_items, metric=\"support\", min_threshold=0.02)\n",
        "#filter rules based on measures\n",
        "rules[ (rules['confidence'] > 0.53) & (rules['lift'] > 1) ].sort_values(by=['confidence', 'lift'], ascending=[False, False])"
      ],
      "execution_count": null,
      "outputs": [
        {
          "output_type": "execute_result",
          "data": {
            "text/html": [
              "<div>\n",
              "<style scoped>\n",
              "    .dataframe tbody tr th:only-of-type {\n",
              "        vertical-align: middle;\n",
              "    }\n",
              "\n",
              "    .dataframe tbody tr th {\n",
              "        vertical-align: top;\n",
              "    }\n",
              "\n",
              "    .dataframe thead th {\n",
              "        text-align: right;\n",
              "    }\n",
              "</style>\n",
              "<table border=\"1\" class=\"dataframe\">\n",
              "  <thead>\n",
              "    <tr style=\"text-align: right;\">\n",
              "      <th></th>\n",
              "      <th>antecedents</th>\n",
              "      <th>consequents</th>\n",
              "      <th>antecedent support</th>\n",
              "      <th>consequent support</th>\n",
              "      <th>support</th>\n",
              "      <th>confidence</th>\n",
              "      <th>lift</th>\n",
              "      <th>leverage</th>\n",
              "      <th>conviction</th>\n",
              "    </tr>\n",
              "  </thead>\n",
              "  <tbody>\n",
              "    <tr>\n",
              "      <th>205</th>\n",
              "      <td>(Icelandic Style Skyr Blueberry Non-fat Yogurt)</td>\n",
              "      <td>(Nonfat Icelandic Style Strawberry Yogurt)</td>\n",
              "      <td>0.032239</td>\n",
              "      <td>0.034877</td>\n",
              "      <td>0.026671</td>\n",
              "      <td>0.827273</td>\n",
              "      <td>23.719786</td>\n",
              "      <td>0.025546</td>\n",
              "      <td>5.587555</td>\n",
              "    </tr>\n",
              "    <tr>\n",
              "      <th>204</th>\n",
              "      <td>(Nonfat Icelandic Style Strawberry Yogurt)</td>\n",
              "      <td>(Icelandic Style Skyr Blueberry Non-fat Yogurt)</td>\n",
              "      <td>0.034877</td>\n",
              "      <td>0.032239</td>\n",
              "      <td>0.026671</td>\n",
              "      <td>0.764706</td>\n",
              "      <td>23.719786</td>\n",
              "      <td>0.025546</td>\n",
              "      <td>4.112984</td>\n",
              "    </tr>\n",
              "    <tr>\n",
              "      <th>107</th>\n",
              "      <td>(Bag of Organic Bananas, Organic Whole String Cheese)</td>\n",
              "      <td>(Organic Strawberries)</td>\n",
              "      <td>0.034291</td>\n",
              "      <td>0.250293</td>\n",
              "      <td>0.021102</td>\n",
              "      <td>0.615385</td>\n",
              "      <td>2.458656</td>\n",
              "      <td>0.012519</td>\n",
              "      <td>1.949238</td>\n",
              "    </tr>\n",
              "    <tr>\n",
              "      <th>203</th>\n",
              "      <td>(Organic Garnet Sweet Potato (Yam))</td>\n",
              "      <td>(Bag of Organic Bananas)</td>\n",
              "      <td>0.048652</td>\n",
              "      <td>0.248828</td>\n",
              "      <td>0.028722</td>\n",
              "      <td>0.590361</td>\n",
              "      <td>2.372572</td>\n",
              "      <td>0.016616</td>\n",
              "      <td>1.833744</td>\n",
              "    </tr>\n",
              "    <tr>\n",
              "      <th>113</th>\n",
              "      <td>(Organic Whole String Cheese)</td>\n",
              "      <td>(Organic Strawberries)</td>\n",
              "      <td>0.080012</td>\n",
              "      <td>0.250293</td>\n",
              "      <td>0.045721</td>\n",
              "      <td>0.571429</td>\n",
              "      <td>2.283038</td>\n",
              "      <td>0.025695</td>\n",
              "      <td>1.749316</td>\n",
              "    </tr>\n",
              "    <tr>\n",
              "      <th>34</th>\n",
              "      <td>(Organic Hass Avocado, Organic Raspberries)</td>\n",
              "      <td>(Bag of Organic Bananas)</td>\n",
              "      <td>0.041618</td>\n",
              "      <td>0.248828</td>\n",
              "      <td>0.022567</td>\n",
              "      <td>0.542254</td>\n",
              "      <td>2.179233</td>\n",
              "      <td>0.012212</td>\n",
              "      <td>1.641023</td>\n",
              "    </tr>\n",
              "  </tbody>\n",
              "</table>\n",
              "</div>"
            ],
            "text/plain": [
              "                                               antecedents  ... conviction\n",
              "205        (Icelandic Style Skyr Blueberry Non-fat Yogurt)  ...   5.587555\n",
              "204             (Nonfat Icelandic Style Strawberry Yogurt)  ...   4.112984\n",
              "107  (Bag of Organic Bananas, Organic Whole String Cheese)  ...   1.949238\n",
              "203                    (Organic Garnet Sweet Potato (Yam))  ...   1.833744\n",
              "113                          (Organic Whole String Cheese)  ...   1.749316\n",
              "34             (Organic Hass Avocado, Organic Raspberries)  ...   1.641023\n",
              "\n",
              "[6 rows x 9 columns]"
            ]
          },
          "metadata": {
            "tags": []
          },
          "execution_count": 11
        }
      ]
    },
    {
      "cell_type": "markdown",
      "metadata": {
        "id": "_JQKZcSdSnPS"
      },
      "source": [
        "__2) What product bundles would you consider for boosting sales of ‘Moroccan Mint Green Tea’?__"
      ]
    },
    {
      "cell_type": "markdown",
      "metadata": {
        "id": "Dsq8R22FYnXU"
      },
      "source": [
        "_Bundling the following consequents with high consequent support as well as itemset correlations suggests they can boost sales of Green tea in lieu of increased bundle value, keeping in mind binary partition of a rule as A implies B also suggests B implies A_"
      ]
    },
    {
      "cell_type": "code",
      "metadata": {
        "colab": {
          "base_uri": "https://localhost:8080/",
          "height": 235
        },
        "id": "66ogYk_dEAKp",
        "outputId": "6219a1e0-0f7b-4484-887c-4ea63aa5b3f5"
      },
      "source": [
        "rules['antecedents']=\"Moroccan Mint Green Tea\"\n",
        "#filter rules based on measures\n",
        "rules[ (rules['consequent support'] > 0.20) & (rules['lift'] > 1) & (rules['antecedent support'] > 0.20) ]"
      ],
      "execution_count": null,
      "outputs": [
        {
          "output_type": "execute_result",
          "data": {
            "text/html": [
              "<div>\n",
              "<style scoped>\n",
              "    .dataframe tbody tr th:only-of-type {\n",
              "        vertical-align: middle;\n",
              "    }\n",
              "\n",
              "    .dataframe tbody tr th {\n",
              "        vertical-align: top;\n",
              "    }\n",
              "\n",
              "    .dataframe thead th {\n",
              "        text-align: right;\n",
              "    }\n",
              "</style>\n",
              "<table border=\"1\" class=\"dataframe\">\n",
              "  <thead>\n",
              "    <tr style=\"text-align: right;\">\n",
              "      <th></th>\n",
              "      <th>antecedents</th>\n",
              "      <th>consequents</th>\n",
              "      <th>antecedent support</th>\n",
              "      <th>consequent support</th>\n",
              "      <th>support</th>\n",
              "      <th>confidence</th>\n",
              "      <th>lift</th>\n",
              "      <th>leverage</th>\n",
              "      <th>conviction</th>\n",
              "    </tr>\n",
              "  </thead>\n",
              "  <tbody>\n",
              "    <tr>\n",
              "      <th>0</th>\n",
              "      <td>Moroccan Mint Green Tea</td>\n",
              "      <td>(Organic Strawberries)</td>\n",
              "      <td>0.248828</td>\n",
              "      <td>0.250293</td>\n",
              "      <td>0.074443</td>\n",
              "      <td>0.299176</td>\n",
              "      <td>1.195301</td>\n",
              "      <td>0.012163</td>\n",
              "      <td>1.069750</td>\n",
              "    </tr>\n",
              "    <tr>\n",
              "      <th>1</th>\n",
              "      <td>Moroccan Mint Green Tea</td>\n",
              "      <td>(Bag of Organic Bananas)</td>\n",
              "      <td>0.250293</td>\n",
              "      <td>0.248828</td>\n",
              "      <td>0.074443</td>\n",
              "      <td>0.297424</td>\n",
              "      <td>1.195301</td>\n",
              "      <td>0.012163</td>\n",
              "      <td>1.069169</td>\n",
              "    </tr>\n",
              "    <tr>\n",
              "      <th>2</th>\n",
              "      <td>Moroccan Mint Green Tea</td>\n",
              "      <td>(Organic Hass Avocado)</td>\n",
              "      <td>0.248828</td>\n",
              "      <td>0.213658</td>\n",
              "      <td>0.085580</td>\n",
              "      <td>0.343934</td>\n",
              "      <td>1.609743</td>\n",
              "      <td>0.032416</td>\n",
              "      <td>1.198572</td>\n",
              "    </tr>\n",
              "    <tr>\n",
              "      <th>3</th>\n",
              "      <td>Moroccan Mint Green Tea</td>\n",
              "      <td>(Bag of Organic Bananas)</td>\n",
              "      <td>0.213658</td>\n",
              "      <td>0.248828</td>\n",
              "      <td>0.085580</td>\n",
              "      <td>0.400549</td>\n",
              "      <td>1.609743</td>\n",
              "      <td>0.032416</td>\n",
              "      <td>1.253100</td>\n",
              "    </tr>\n",
              "    <tr>\n",
              "      <th>10</th>\n",
              "      <td>Moroccan Mint Green Tea</td>\n",
              "      <td>(Organic Hass Avocado)</td>\n",
              "      <td>0.250293</td>\n",
              "      <td>0.213658</td>\n",
              "      <td>0.082943</td>\n",
              "      <td>0.331382</td>\n",
              "      <td>1.550994</td>\n",
              "      <td>0.029466</td>\n",
              "      <td>1.176071</td>\n",
              "    </tr>\n",
              "    <tr>\n",
              "      <th>11</th>\n",
              "      <td>Moroccan Mint Green Tea</td>\n",
              "      <td>(Organic Strawberries)</td>\n",
              "      <td>0.213658</td>\n",
              "      <td>0.250293</td>\n",
              "      <td>0.082943</td>\n",
              "      <td>0.388203</td>\n",
              "      <td>1.550994</td>\n",
              "      <td>0.029466</td>\n",
              "      <td>1.225418</td>\n",
              "    </tr>\n",
              "  </tbody>\n",
              "</table>\n",
              "</div>"
            ],
            "text/plain": [
              "                antecedents               consequents  ...  leverage  conviction\n",
              "0   Moroccan Mint Green Tea    (Organic Strawberries)  ...  0.012163    1.069750\n",
              "1   Moroccan Mint Green Tea  (Bag of Organic Bananas)  ...  0.012163    1.069169\n",
              "2   Moroccan Mint Green Tea    (Organic Hass Avocado)  ...  0.032416    1.198572\n",
              "3   Moroccan Mint Green Tea  (Bag of Organic Bananas)  ...  0.032416    1.253100\n",
              "10  Moroccan Mint Green Tea    (Organic Hass Avocado)  ...  0.029466    1.176071\n",
              "11  Moroccan Mint Green Tea    (Organic Strawberries)  ...  0.029466    1.225418\n",
              "\n",
              "[6 rows x 9 columns]"
            ]
          },
          "metadata": {
            "tags": []
          },
          "execution_count": 12
        }
      ]
    },
    {
      "cell_type": "markdown",
      "metadata": {
        "id": "6aK_zCgaSt1k"
      },
      "source": [
        "__3) How would you leverage the aisle and department level information in your analysis? Prepare rule mining workflows using aisle and department level information to demonstrate your ideas.__"
      ]
    },
    {
      "cell_type": "markdown",
      "metadata": {
        "id": "Rtm8U1qpSyYi"
      },
      "source": [
        "__Aisle level__"
      ]
    },
    {
      "cell_type": "markdown",
      "metadata": {
        "id": "BaSur8QL8jgJ"
      },
      "source": [
        "_From local implementation we evaluated the density at aisle level is 10% which is higher than the product level density at 0.03%. Therefore aisle is at higher level than products is justified here. Now we need to set a minimum threshold over and above 10% density as our minimum support threshold value. We set this is 20% to 30% for aisle level_"
      ]
    },
    {
      "cell_type": "code",
      "metadata": {
        "id": "C7el5enCa10r"
      },
      "source": [
        "##collect_list will give a list without removing duplicates. collect_set will automatically remove duplicates, hence;\n",
        "from pyspark.sql.functions import collect_set"
      ],
      "execution_count": null,
      "outputs": []
    },
    {
      "cell_type": "code",
      "metadata": {
        "id": "8F-ae_Hh77mg"
      },
      "source": [
        "##At aisle level which is one level higher than product name\n",
        "#Convert long transactions from big data into a wide array of items\n",
        "mylist_aisle = sparkDf.groupBy(sparkDf.oid).agg(collect_set('aisle'))"
      ],
      "execution_count": null,
      "outputs": []
    },
    {
      "cell_type": "code",
      "metadata": {
        "colab": {
          "base_uri": "https://localhost:8080/"
        },
        "id": "iExDoybZZzHi",
        "outputId": "63d0fd0d-94fc-4394-9282-8d8a523ce4a2"
      },
      "source": [
        "mylist_aisle"
      ],
      "execution_count": null,
      "outputs": [
        {
          "output_type": "execute_result",
          "data": {
            "text/plain": [
              "DataFrame[oid: bigint, collect_set(aisle): array<string>]"
            ]
          },
          "metadata": {
            "tags": []
          },
          "execution_count": 15
        }
      ]
    },
    {
      "cell_type": "code",
      "metadata": {
        "id": "1-SER3amCxkI"
      },
      "source": [
        "#Run FPGrowth model using spark big list of items\n",
        "fpGrowth = FPGrowth(itemsCol=\"collect_set(aisle)\", minSupport=0.20)\n",
        "model = fpGrowth.fit(mylist_aisle)"
      ],
      "execution_count": null,
      "outputs": []
    },
    {
      "cell_type": "code",
      "metadata": {
        "id": "QlXQhYAbK0GS",
        "colab": {
          "base_uri": "https://localhost:8080/",
          "height": 235
        },
        "outputId": "b6edba40-6aac-4e3c-c205-19557e2ac27e"
      },
      "source": [
        "# Store frequent itemsets.\n",
        "results_aisle = model.freqItemsets.collect()\n",
        "# Store frequent itemsets in pandas dataframe.\n",
        "frequent_items_aisle = pd.DataFrame(results_aisle, columns=[\"itemsets\", \"freq\"])\n",
        "# Store length of each itemset in pandas dataframe.\n",
        "frequent_items_aisle['size'] = frequent_items_aisle[\"itemsets\"].apply(lambda x: len(x))\n",
        "\n",
        "# Store support value which is an input for  association_rules function.\n",
        "frequent_items_aisle['support'] = frequent_items_aisle[\"freq\"]/3412\n",
        "#specify suitable parameter values, random values are set below\n",
        "\n",
        "##30% is set in association rules function to limit the number of rows\n",
        "rules_aisle = association_rules(frequent_items_aisle, metric=\"support\", min_threshold=0.30)\n",
        "rules_aisle = rules_aisle.sort_values([\"support\", \"confidence\", \"lift\", \"conviction\"], ascending = (False, False, False, False))\n",
        "\n",
        "#filter rules based on measures\n",
        "rules_aisle[ (rules_aisle['confidence'] > 0.90) & (rules_aisle['lift'] > 1) & (rules_aisle['conviction'] > 2) ].sort_values(by=['confidence', 'lift', 'conviction'], ascending=[False, False, False])"
      ],
      "execution_count": null,
      "outputs": [
        {
          "output_type": "execute_result",
          "data": {
            "text/html": [
              "<div>\n",
              "<style scoped>\n",
              "    .dataframe tbody tr th:only-of-type {\n",
              "        vertical-align: middle;\n",
              "    }\n",
              "\n",
              "    .dataframe tbody tr th {\n",
              "        vertical-align: top;\n",
              "    }\n",
              "\n",
              "    .dataframe thead th {\n",
              "        text-align: right;\n",
              "    }\n",
              "</style>\n",
              "<table border=\"1\" class=\"dataframe\">\n",
              "  <thead>\n",
              "    <tr style=\"text-align: right;\">\n",
              "      <th></th>\n",
              "      <th>antecedents</th>\n",
              "      <th>consequents</th>\n",
              "      <th>antecedent support</th>\n",
              "      <th>consequent support</th>\n",
              "      <th>support</th>\n",
              "      <th>confidence</th>\n",
              "      <th>lift</th>\n",
              "      <th>leverage</th>\n",
              "      <th>conviction</th>\n",
              "    </tr>\n",
              "  </thead>\n",
              "  <tbody>\n",
              "    <tr>\n",
              "      <th>58</th>\n",
              "      <td>(milk, fresh vegetables)</td>\n",
              "      <td>(fresh fruits)</td>\n",
              "      <td>0.338804</td>\n",
              "      <td>0.830598</td>\n",
              "      <td>0.316823</td>\n",
              "      <td>0.935121</td>\n",
              "      <td>1.125841</td>\n",
              "      <td>0.035413</td>\n",
              "      <td>2.611051</td>\n",
              "    </tr>\n",
              "    <tr>\n",
              "      <th>50</th>\n",
              "      <td>(packaged vegetables fruits, milk)</td>\n",
              "      <td>(fresh fruits)</td>\n",
              "      <td>0.338218</td>\n",
              "      <td>0.830598</td>\n",
              "      <td>0.314771</td>\n",
              "      <td>0.930676</td>\n",
              "      <td>1.120489</td>\n",
              "      <td>0.033848</td>\n",
              "      <td>2.443625</td>\n",
              "    </tr>\n",
              "    <tr>\n",
              "      <th>40</th>\n",
              "      <td>(packaged cheese, fresh vegetables)</td>\n",
              "      <td>(fresh fruits)</td>\n",
              "      <td>0.366061</td>\n",
              "      <td>0.830598</td>\n",
              "      <td>0.340563</td>\n",
              "      <td>0.930344</td>\n",
              "      <td>1.120090</td>\n",
              "      <td>0.036513</td>\n",
              "      <td>2.431991</td>\n",
              "    </tr>\n",
              "    <tr>\n",
              "      <th>33</th>\n",
              "      <td>(packaged cheese, packaged vegetables fruits)</td>\n",
              "      <td>(fresh fruits)</td>\n",
              "      <td>0.354631</td>\n",
              "      <td>0.830598</td>\n",
              "      <td>0.329132</td>\n",
              "      <td>0.928099</td>\n",
              "      <td>1.117387</td>\n",
              "      <td>0.034577</td>\n",
              "      <td>2.356052</td>\n",
              "    </tr>\n",
              "    <tr>\n",
              "      <th>23</th>\n",
              "      <td>(fresh vegetables, yogurt)</td>\n",
              "      <td>(fresh fruits)</td>\n",
              "      <td>0.374853</td>\n",
              "      <td>0.830598</td>\n",
              "      <td>0.347890</td>\n",
              "      <td>0.928069</td>\n",
              "      <td>1.117350</td>\n",
              "      <td>0.036537</td>\n",
              "      <td>2.355058</td>\n",
              "    </tr>\n",
              "    <tr>\n",
              "      <th>4</th>\n",
              "      <td>(packaged vegetables fruits, fresh vegetables)</td>\n",
              "      <td>(fresh fruits)</td>\n",
              "      <td>0.504396</td>\n",
              "      <td>0.830598</td>\n",
              "      <td>0.466589</td>\n",
              "      <td>0.925044</td>\n",
              "      <td>1.113708</td>\n",
              "      <td>0.047638</td>\n",
              "      <td>2.260008</td>\n",
              "    </tr>\n",
              "  </tbody>\n",
              "</table>\n",
              "</div>"
            ],
            "text/plain": [
              "                                       antecedents  ... conviction\n",
              "58                        (milk, fresh vegetables)  ...   2.611051\n",
              "50              (packaged vegetables fruits, milk)  ...   2.443625\n",
              "40             (packaged cheese, fresh vegetables)  ...   2.431991\n",
              "33   (packaged cheese, packaged vegetables fruits)  ...   2.356052\n",
              "23                      (fresh vegetables, yogurt)  ...   2.355058\n",
              "4   (packaged vegetables fruits, fresh vegetables)  ...   2.260008\n",
              "\n",
              "[6 rows x 9 columns]"
            ]
          },
          "metadata": {
            "tags": []
          },
          "execution_count": 17
        }
      ]
    },
    {
      "cell_type": "markdown",
      "metadata": {
        "id": "Sht0WBfhcufa"
      },
      "source": [
        "__Department level__"
      ]
    },
    {
      "cell_type": "markdown",
      "metadata": {
        "id": "rd8KnaUu9mhx"
      },
      "source": [
        "_From local implementation we evaluated the density at department level is 35% which is higher than the product level density at 0.03%. Therefore department is at higher level than aisle or products is justified here. Now we need to set a minimum threshold over and above 35% density as our minimum support threshold value. We set this is 60% for department level_"
      ]
    },
    {
      "cell_type": "code",
      "metadata": {
        "id": "YhJL_Oi3cj_9"
      },
      "source": [
        "##At department level which is one level higher than product name\n",
        "#Convert long transactions from big data into a wide array of items\n",
        "mylist_department = sparkDf.groupBy(sparkDf.oid).agg(collect_set('department'))"
      ],
      "execution_count": null,
      "outputs": []
    },
    {
      "cell_type": "code",
      "metadata": {
        "colab": {
          "base_uri": "https://localhost:8080/"
        },
        "id": "Su8N8zRFLMHB",
        "outputId": "69704699-8142-408b-ac4e-81708c0fdd58"
      },
      "source": [
        "mylist_department"
      ],
      "execution_count": null,
      "outputs": [
        {
          "output_type": "execute_result",
          "data": {
            "text/plain": [
              "DataFrame[oid: bigint, collect_set(department): array<string>]"
            ]
          },
          "metadata": {
            "tags": []
          },
          "execution_count": 19
        }
      ]
    },
    {
      "cell_type": "code",
      "metadata": {
        "id": "PVVJRYWEb4Hq"
      },
      "source": [
        "#Run FPGrowth model using spark big list of items\n",
        "fpGrowth = FPGrowth(itemsCol=\"collect_set(department)\", minSupport=0.60)\n",
        "model = fpGrowth.fit(mylist_department)"
      ],
      "execution_count": null,
      "outputs": []
    },
    {
      "cell_type": "code",
      "metadata": {
        "colab": {
          "base_uri": "https://localhost:8080/",
          "height": 111
        },
        "id": "UPUmG5qZdQJ6",
        "outputId": "faa9db6b-745a-4f9d-ce0c-4ee4fedfe8c2"
      },
      "source": [
        "# Store frequent itemsets.\n",
        "results_department = model.freqItemsets.collect()\n",
        "# Store frequent itemsets in pandas dataframe.\n",
        "frequent_items_department = pd.DataFrame(results_department, columns=[\"itemsets\", \"freq\"])\n",
        "# Store length of each itemset in pandas dataframe.\n",
        "frequent_items_department['size'] = frequent_items_department[\"itemsets\"].apply(lambda x: len(x))\n",
        "\n",
        "# Store support value which is an input for  association_rules function.\n",
        "frequent_items_department['support'] = frequent_items_department[\"freq\"]/3412\n",
        "#specify suitable parameter values, random values are set below\n",
        "rules_department = association_rules(frequent_items_department, metric=\"support\", min_threshold=0.60)\n",
        "rules_department = rules_department.sort_values([\"support\", \"confidence\", \"lift\", \"conviction\"], ascending = (False, False, False, False))\n",
        "\n",
        "#filter rules based on measures\n",
        "rules_department[ (rules_department['confidence'] > 0.90) & (rules_department['lift'] > 1) & (rules_department['conviction'] > 2) ].sort_values(by=['confidence', 'lift', 'conviction'], ascending=[False, False, False])"
      ],
      "execution_count": null,
      "outputs": [
        {
          "output_type": "execute_result",
          "data": {
            "text/html": [
              "<div>\n",
              "<style scoped>\n",
              "    .dataframe tbody tr th:only-of-type {\n",
              "        vertical-align: middle;\n",
              "    }\n",
              "\n",
              "    .dataframe tbody tr th {\n",
              "        vertical-align: top;\n",
              "    }\n",
              "\n",
              "    .dataframe thead th {\n",
              "        text-align: right;\n",
              "    }\n",
              "</style>\n",
              "<table border=\"1\" class=\"dataframe\">\n",
              "  <thead>\n",
              "    <tr style=\"text-align: right;\">\n",
              "      <th></th>\n",
              "      <th>antecedents</th>\n",
              "      <th>consequents</th>\n",
              "      <th>antecedent support</th>\n",
              "      <th>consequent support</th>\n",
              "      <th>support</th>\n",
              "      <th>confidence</th>\n",
              "      <th>lift</th>\n",
              "      <th>leverage</th>\n",
              "      <th>conviction</th>\n",
              "    </tr>\n",
              "  </thead>\n",
              "  <tbody>\n",
              "    <tr>\n",
              "      <th>5</th>\n",
              "      <td>(snacks, produce)</td>\n",
              "      <td>(dairy eggs)</td>\n",
              "      <td>0.659437</td>\n",
              "      <td>0.917937</td>\n",
              "      <td>0.636870</td>\n",
              "      <td>0.965778</td>\n",
              "      <td>1.052118</td>\n",
              "      <td>0.031548</td>\n",
              "      <td>2.397954</td>\n",
              "    </tr>\n",
              "    <tr>\n",
              "      <th>15</th>\n",
              "      <td>(beverages, produce)</td>\n",
              "      <td>(dairy eggs)</td>\n",
              "      <td>0.627784</td>\n",
              "      <td>0.917937</td>\n",
              "      <td>0.603751</td>\n",
              "      <td>0.961718</td>\n",
              "      <td>1.047695</td>\n",
              "      <td>0.027485</td>\n",
              "      <td>2.143654</td>\n",
              "    </tr>\n",
              "  </tbody>\n",
              "</table>\n",
              "</div>"
            ],
            "text/plain": [
              "             antecedents   consequents  ...  leverage  conviction\n",
              "5      (snacks, produce)  (dairy eggs)  ...  0.031548    2.397954\n",
              "15  (beverages, produce)  (dairy eggs)  ...  0.027485    2.143654\n",
              "\n",
              "[2 rows x 9 columns]"
            ]
          },
          "metadata": {
            "tags": []
          },
          "execution_count": 21
        }
      ]
    },
    {
      "cell_type": "markdown",
      "metadata": {
        "id": "6PK70N8geSf6"
      },
      "source": [
        "__Combined Product, Aisle and Department levels__"
      ]
    },
    {
      "cell_type": "markdown",
      "metadata": {
        "id": "n1ehbANL-Ciq"
      },
      "source": [
        "_From local implementation we evaluated the density at combined level is same as the product level density at 0.03%. Therefore combined level is NOT at higher level than department or aisle or products is justified here. Now we need to set a minimum threshold over and above .03% density as our minimum support threshold value. We set this is 3%, which is slightly higher than 2% tried above while mining product level rules_"
      ]
    },
    {
      "cell_type": "code",
      "metadata": {
        "id": "LqdwvJ5IeEDs"
      },
      "source": [
        "##At product, aisle and department level which is one level higher than product name\n",
        "#Convert long transactions from big data into a wide array of items\n",
        "mylist_combined = sparkDf.groupBy(sparkDf.oid).agg(collect_set('pname_aisle_department'))"
      ],
      "execution_count": null,
      "outputs": []
    },
    {
      "cell_type": "code",
      "metadata": {
        "colab": {
          "base_uri": "https://localhost:8080/"
        },
        "id": "wroUDhs8eEAS",
        "outputId": "897b1e9f-bd79-4507-cbfc-e1ab016bee8f"
      },
      "source": [
        "mylist_combined"
      ],
      "execution_count": null,
      "outputs": [
        {
          "output_type": "execute_result",
          "data": {
            "text/plain": [
              "DataFrame[oid: bigint, collect_set(pname_aisle_department): array<string>]"
            ]
          },
          "metadata": {
            "tags": []
          },
          "execution_count": 23
        }
      ]
    },
    {
      "cell_type": "code",
      "metadata": {
        "id": "71GAS0U9eD9K"
      },
      "source": [
        "#Run FPGrowth model using spark big list of items\n",
        "fpGrowth = FPGrowth(itemsCol=\"collect_set(pname_aisle_department)\", minSupport=0.03)\n",
        "model = fpGrowth.fit(mylist_combined)"
      ],
      "execution_count": null,
      "outputs": []
    },
    {
      "cell_type": "code",
      "metadata": {
        "colab": {
          "base_uri": "https://localhost:8080/",
          "height": 210
        },
        "id": "51ZzPHeUeDzM",
        "outputId": "0e22692c-ed7b-4aa3-f48c-19d8dadc4886"
      },
      "source": [
        "# Store frequent itemsets.\n",
        "results_combined = model.freqItemsets.collect()\n",
        "# Store frequent itemsets in pandas dataframe.\n",
        "frequent_items_combined = pd.DataFrame(results_combined, columns=[\"itemsets\", \"freq\"])\n",
        "# Store length of each itemset in pandas dataframe.\n",
        "frequent_items_combined['size'] = frequent_items_combined[\"itemsets\"].apply(lambda x: len(x))\n",
        "\n",
        "# Store support value which is an input for  association_rules function.\n",
        "frequent_items_combined['support'] = frequent_items_combined[\"freq\"]/3412\n",
        "#specify suitable parameter values, random values are set below\n",
        "rules_combined = association_rules(frequent_items_combined, metric=\"support\", min_threshold=0.03)\n",
        "rules_combined = rules_combined.sort_values([\"support\", \"confidence\", \"lift\", \"conviction\"], ascending = (False, False, False, False))\n",
        "\n",
        "#filter rules based on measures\n",
        "rules_combined[ (rules_combined['confidence'] > 0.45) & (rules_combined['lift'] > 1) & (rules_combined['conviction'] > 1) ].sort_values(by=['confidence', 'lift', 'conviction'], ascending=[False, False, False])"
      ],
      "execution_count": null,
      "outputs": [
        {
          "output_type": "execute_result",
          "data": {
            "text/html": [
              "<div>\n",
              "<style scoped>\n",
              "    .dataframe tbody tr th:only-of-type {\n",
              "        vertical-align: middle;\n",
              "    }\n",
              "\n",
              "    .dataframe tbody tr th {\n",
              "        vertical-align: top;\n",
              "    }\n",
              "\n",
              "    .dataframe thead th {\n",
              "        text-align: right;\n",
              "    }\n",
              "</style>\n",
              "<table border=\"1\" class=\"dataframe\">\n",
              "  <thead>\n",
              "    <tr style=\"text-align: right;\">\n",
              "      <th></th>\n",
              "      <th>antecedents</th>\n",
              "      <th>consequents</th>\n",
              "      <th>antecedent support</th>\n",
              "      <th>consequent support</th>\n",
              "      <th>support</th>\n",
              "      <th>confidence</th>\n",
              "      <th>lift</th>\n",
              "      <th>leverage</th>\n",
              "      <th>conviction</th>\n",
              "    </tr>\n",
              "  </thead>\n",
              "  <tbody>\n",
              "    <tr>\n",
              "      <th>44</th>\n",
              "      <td>(Organic Whole String Cheese::packaged cheese::dairy eggs)</td>\n",
              "      <td>(Organic Strawberries::fresh fruits::produce)</td>\n",
              "      <td>0.080012</td>\n",
              "      <td>0.250293</td>\n",
              "      <td>0.045721</td>\n",
              "      <td>0.571429</td>\n",
              "      <td>2.283038</td>\n",
              "      <td>0.025695</td>\n",
              "      <td>1.749316</td>\n",
              "    </tr>\n",
              "    <tr>\n",
              "      <th>5</th>\n",
              "      <td>(Bag of Organic Bananas::fresh fruits::produce, Organic Strawberries::fresh fruits::produce)</td>\n",
              "      <td>(Organic Hass Avocado::fresh fruits::produce)</td>\n",
              "      <td>0.074443</td>\n",
              "      <td>0.213658</td>\n",
              "      <td>0.037515</td>\n",
              "      <td>0.503937</td>\n",
              "      <td>2.358619</td>\n",
              "      <td>0.021609</td>\n",
              "      <td>1.585166</td>\n",
              "    </tr>\n",
              "    <tr>\n",
              "      <th>6</th>\n",
              "      <td>(Organic Strawberries::fresh fruits::produce, Organic Hass Avocado::fresh fruits::produce)</td>\n",
              "      <td>(Bag of Organic Bananas::fresh fruits::produce)</td>\n",
              "      <td>0.082943</td>\n",
              "      <td>0.248828</td>\n",
              "      <td>0.037515</td>\n",
              "      <td>0.452297</td>\n",
              "      <td>1.817711</td>\n",
              "      <td>0.016876</td>\n",
              "      <td>1.371495</td>\n",
              "    </tr>\n",
              "  </tbody>\n",
              "</table>\n",
              "</div>"
            ],
            "text/plain": [
              "                                                                                     antecedents  ... conviction\n",
              "44                                    (Organic Whole String Cheese::packaged cheese::dairy eggs)  ...   1.749316\n",
              "5   (Bag of Organic Bananas::fresh fruits::produce, Organic Strawberries::fresh fruits::produce)  ...   1.585166\n",
              "6     (Organic Strawberries::fresh fruits::produce, Organic Hass Avocado::fresh fruits::produce)  ...   1.371495\n",
              "\n",
              "[3 rows x 9 columns]"
            ]
          },
          "metadata": {
            "tags": []
          },
          "execution_count": 25
        }
      ]
    },
    {
      "cell_type": "markdown",
      "metadata": {
        "id": "aw3ckNG0fjzu"
      },
      "source": [
        "__4) You wish to discontinue ‘Organic Orange Juice’ product. Assess the implications of your decision__"
      ]
    },
    {
      "cell_type": "markdown",
      "metadata": {
        "id": "DkcMLFlhfnBt"
      },
      "source": [
        "_There is a strong association between {Organic Orange Juice and Organic Hass Avocado} and {Organic Orange Juice and Bag of Organic Bananas}, however we observe that this takes place in roughly 1.14% of transactions. Surprisingly we also observe there is a strong association between {Organic Hass Avocado and Bag of Organic Bananas} where the overall support is most of times higher than 1% minimum support. We may conclude that Organic Orange Juice has a potential to serve as a link between avocado and organic banana bag. Therefore if we disconitnue the organic orange juice then its association with avocado and banana bag would be broken thereby affecting an adverse impact between avocado and banana bag. Therefore we may think of bundling avocado, organic banana bag and organic orange juice together as part of a promotion_"
      ]
    },
    {
      "cell_type": "markdown",
      "metadata": {
        "id": "XUp-GA3v-s2m"
      },
      "source": [
        "_Discontinuing an item based on its support value alone (which is a little over 1% here) may not be a wise decision to consider the varitey of product promotions possible. Hence creating efficient bundles with avocado and organic banana may apprise orange juice preference_"
      ]
    },
    {
      "cell_type": "markdown",
      "metadata": {
        "id": "jZbgDq2JAd83"
      },
      "source": [
        "**For this product level analysis we lower the support from 3% to 1% as our minimum support threshold**"
      ]
    },
    {
      "cell_type": "code",
      "metadata": {
        "id": "abnjjMxMfpq4"
      },
      "source": [
        "#Run FPGrowth model using spark big list of items\n",
        "fpGrowth = FPGrowth(itemsCol=\"collect_list(pname)\", minSupport=0.01)\n",
        "model = fpGrowth.fit(mylist)\n",
        "\n",
        "# Store frequent itemsets.\n",
        "results_OOJ = model.freqItemsets.collect()\n",
        "# Store frequent itemsets in pandas dataframe.\n",
        "frequent_items_OOJ = pd.DataFrame(results_OOJ, columns=[\"itemsets\", \"freq\"])\n",
        "# Store length of each itemset in pandas dataframe.\n",
        "frequent_items_OOJ['size'] = frequent_items_OOJ[\"itemsets\"].apply(lambda x: len(x))\n",
        "# Store support value which is an input for  association_rules function.\n",
        "frequent_items_OOJ['support'] = frequent_items_OOJ[\"freq\"]/3412\n",
        "#specify suitable parameter values, random values are set below\n",
        "rules_OOJ = association_rules(frequent_items_OOJ, metric=\"support\", min_threshold=0.01)"
      ],
      "execution_count": null,
      "outputs": []
    },
    {
      "cell_type": "markdown",
      "metadata": {
        "id": "PwwLfgYR_XoG"
      },
      "source": [
        "_We do notice Organic Orange Juice has high correlation with avocado and bananas, the high conviction number implies this correlation is not by **chance_**"
      ]
    },
    {
      "cell_type": "code",
      "metadata": {
        "colab": {
          "base_uri": "https://localhost:8080/",
          "height": 111
        },
        "id": "nMsyRGBtkxKC",
        "outputId": "c10dcfab-c114-44bd-f3a6-918faa7432dc"
      },
      "source": [
        "df_orangejuiceLHS = rules_OOJ[rules_OOJ[\"antecedents\"].apply(lambda x: 'Organic Orange Juice' in str(x))]\n",
        "df_orangejuiceLHS"
      ],
      "execution_count": null,
      "outputs": [
        {
          "output_type": "execute_result",
          "data": {
            "text/html": [
              "<div>\n",
              "<style scoped>\n",
              "    .dataframe tbody tr th:only-of-type {\n",
              "        vertical-align: middle;\n",
              "    }\n",
              "\n",
              "    .dataframe tbody tr th {\n",
              "        vertical-align: top;\n",
              "    }\n",
              "\n",
              "    .dataframe thead th {\n",
              "        text-align: right;\n",
              "    }\n",
              "</style>\n",
              "<table border=\"1\" class=\"dataframe\">\n",
              "  <thead>\n",
              "    <tr style=\"text-align: right;\">\n",
              "      <th></th>\n",
              "      <th>antecedents</th>\n",
              "      <th>consequents</th>\n",
              "      <th>antecedent support</th>\n",
              "      <th>consequent support</th>\n",
              "      <th>support</th>\n",
              "      <th>confidence</th>\n",
              "      <th>lift</th>\n",
              "      <th>leverage</th>\n",
              "      <th>conviction</th>\n",
              "    </tr>\n",
              "  </thead>\n",
              "  <tbody>\n",
              "    <tr>\n",
              "      <th>220</th>\n",
              "      <td>(Organic Orange Juice)</td>\n",
              "      <td>(Organic Hass Avocado)</td>\n",
              "      <td>0.016999</td>\n",
              "      <td>0.213658</td>\n",
              "      <td>0.01143</td>\n",
              "      <td>0.672414</td>\n",
              "      <td>3.147155</td>\n",
              "      <td>0.007798</td>\n",
              "      <td>2.400413</td>\n",
              "    </tr>\n",
              "    <tr>\n",
              "      <th>223</th>\n",
              "      <td>(Organic Orange Juice)</td>\n",
              "      <td>(Bag of Organic Bananas)</td>\n",
              "      <td>0.016999</td>\n",
              "      <td>0.248828</td>\n",
              "      <td>0.01143</td>\n",
              "      <td>0.672414</td>\n",
              "      <td>2.702327</td>\n",
              "      <td>0.007200</td>\n",
              "      <td>2.293052</td>\n",
              "    </tr>\n",
              "  </tbody>\n",
              "</table>\n",
              "</div>"
            ],
            "text/plain": [
              "                antecedents               consequents  ...  leverage  conviction\n",
              "220  (Organic Orange Juice)    (Organic Hass Avocado)  ...  0.007798    2.400413\n",
              "223  (Organic Orange Juice)  (Bag of Organic Bananas)  ...  0.007200    2.293052\n",
              "\n",
              "[2 rows x 9 columns]"
            ]
          },
          "metadata": {
            "tags": []
          },
          "execution_count": 27
        }
      ]
    },
    {
      "cell_type": "markdown",
      "metadata": {
        "id": "1Ob9KObA_nBf"
      },
      "source": [
        "_We do notice avocado and bananas also have high correlation with Organic Orange Juice , the high conviction number implies this correlation is not by **chance_**"
      ]
    },
    {
      "cell_type": "code",
      "metadata": {
        "colab": {
          "base_uri": "https://localhost:8080/",
          "height": 111
        },
        "id": "b1TCZr9HkxGo",
        "outputId": "111504f2-ffda-4243-bb5a-df6a318d2cea"
      },
      "source": [
        "df_orangejuiceRHS = rules_OOJ[rules_OOJ[\"consequents\"].apply(lambda x: 'Organic Orange Juice' in str(x))]\n",
        "df_orangejuiceRHS"
      ],
      "execution_count": null,
      "outputs": [
        {
          "output_type": "execute_result",
          "data": {
            "text/html": [
              "<div>\n",
              "<style scoped>\n",
              "    .dataframe tbody tr th:only-of-type {\n",
              "        vertical-align: middle;\n",
              "    }\n",
              "\n",
              "    .dataframe tbody tr th {\n",
              "        vertical-align: top;\n",
              "    }\n",
              "\n",
              "    .dataframe thead th {\n",
              "        text-align: right;\n",
              "    }\n",
              "</style>\n",
              "<table border=\"1\" class=\"dataframe\">\n",
              "  <thead>\n",
              "    <tr style=\"text-align: right;\">\n",
              "      <th></th>\n",
              "      <th>antecedents</th>\n",
              "      <th>consequents</th>\n",
              "      <th>antecedent support</th>\n",
              "      <th>consequent support</th>\n",
              "      <th>support</th>\n",
              "      <th>confidence</th>\n",
              "      <th>lift</th>\n",
              "      <th>leverage</th>\n",
              "      <th>conviction</th>\n",
              "    </tr>\n",
              "  </thead>\n",
              "  <tbody>\n",
              "    <tr>\n",
              "      <th>221</th>\n",
              "      <td>(Organic Hass Avocado)</td>\n",
              "      <td>(Organic Orange Juice)</td>\n",
              "      <td>0.213658</td>\n",
              "      <td>0.016999</td>\n",
              "      <td>0.01143</td>\n",
              "      <td>0.053498</td>\n",
              "      <td>3.147155</td>\n",
              "      <td>0.007798</td>\n",
              "      <td>1.038562</td>\n",
              "    </tr>\n",
              "    <tr>\n",
              "      <th>222</th>\n",
              "      <td>(Bag of Organic Bananas)</td>\n",
              "      <td>(Organic Orange Juice)</td>\n",
              "      <td>0.248828</td>\n",
              "      <td>0.016999</td>\n",
              "      <td>0.01143</td>\n",
              "      <td>0.045936</td>\n",
              "      <td>2.702327</td>\n",
              "      <td>0.007200</td>\n",
              "      <td>1.030331</td>\n",
              "    </tr>\n",
              "  </tbody>\n",
              "</table>\n",
              "</div>"
            ],
            "text/plain": [
              "                  antecedents             consequents  ...  leverage  conviction\n",
              "221    (Organic Hass Avocado)  (Organic Orange Juice)  ...  0.007798    1.038562\n",
              "222  (Bag of Organic Bananas)  (Organic Orange Juice)  ...  0.007200    1.030331\n",
              "\n",
              "[2 rows x 9 columns]"
            ]
          },
          "metadata": {
            "tags": []
          },
          "execution_count": 28
        }
      ]
    },
    {
      "cell_type": "code",
      "metadata": {
        "colab": {
          "base_uri": "https://localhost:8080/"
        },
        "id": "RsRMmdNMkxDS",
        "outputId": "80021f01-0cbd-45a9-dd62-d72bca2dec28"
      },
      "source": [
        "Avocado = rules_OOJ[rules_OOJ[\"antecedents\"].apply(lambda x: 'Organic Hass Avocado' in str(x))].sort_values([\"support\", \"confidence\", \"lift\", \"conviction\"], ascending = (False, False, False, False))\n",
        "\n",
        "Avocado = Avocado[Avocado[\"consequents\"].apply(lambda x: 'Bag of Organic Bananas' in str(x))].sort_values([\"support\", \"confidence\", \"lift\", \"conviction\"], ascending = (False, False, False, False))\n",
        "Avocado.shape"
      ],
      "execution_count": null,
      "outputs": [
        {
          "output_type": "execute_result",
          "data": {
            "text/plain": [
              "(47, 9)"
            ]
          },
          "metadata": {
            "tags": []
          },
          "execution_count": 29
        }
      ]
    },
    {
      "cell_type": "markdown",
      "metadata": {
        "id": "rA3Cc2Zu__7z"
      },
      "source": [
        "_Relation between Organic avocado and organic bag of bananas_"
      ]
    },
    {
      "cell_type": "code",
      "metadata": {
        "colab": {
          "base_uri": "https://localhost:8080/",
          "height": 1000
        },
        "id": "GkSaUgwOkw_w",
        "outputId": "c21c4ed2-bf86-4738-9ce8-2e795562e7b6"
      },
      "source": [
        "Avocado.sort_values([\"support\", \"confidence\", \"lift\", \"conviction\"], ascending = (False, False, False, False))"
      ],
      "execution_count": null,
      "outputs": [
        {
          "output_type": "execute_result",
          "data": {
            "text/html": [
              "<div>\n",
              "<style scoped>\n",
              "    .dataframe tbody tr th:only-of-type {\n",
              "        vertical-align: middle;\n",
              "    }\n",
              "\n",
              "    .dataframe tbody tr th {\n",
              "        vertical-align: top;\n",
              "    }\n",
              "\n",
              "    .dataframe thead th {\n",
              "        text-align: right;\n",
              "    }\n",
              "</style>\n",
              "<table border=\"1\" class=\"dataframe\">\n",
              "  <thead>\n",
              "    <tr style=\"text-align: right;\">\n",
              "      <th></th>\n",
              "      <th>antecedents</th>\n",
              "      <th>consequents</th>\n",
              "      <th>antecedent support</th>\n",
              "      <th>consequent support</th>\n",
              "      <th>support</th>\n",
              "      <th>confidence</th>\n",
              "      <th>lift</th>\n",
              "      <th>leverage</th>\n",
              "      <th>conviction</th>\n",
              "    </tr>\n",
              "  </thead>\n",
              "  <tbody>\n",
              "    <tr>\n",
              "      <th>3</th>\n",
              "      <td>(Organic Hass Avocado)</td>\n",
              "      <td>(Bag of Organic Bananas)</td>\n",
              "      <td>0.213658</td>\n",
              "      <td>0.248828</td>\n",
              "      <td>0.085580</td>\n",
              "      <td>0.400549</td>\n",
              "      <td>1.609743</td>\n",
              "      <td>0.032416</td>\n",
              "      <td>1.253100</td>\n",
              "    </tr>\n",
              "    <tr>\n",
              "      <th>6</th>\n",
              "      <td>(Organic Strawberries, Organic Hass Avocado)</td>\n",
              "      <td>(Bag of Organic Bananas)</td>\n",
              "      <td>0.082943</td>\n",
              "      <td>0.248828</td>\n",
              "      <td>0.037515</td>\n",
              "      <td>0.452297</td>\n",
              "      <td>1.817711</td>\n",
              "      <td>0.016876</td>\n",
              "      <td>1.371495</td>\n",
              "    </tr>\n",
              "    <tr>\n",
              "      <th>9</th>\n",
              "      <td>(Organic Hass Avocado)</td>\n",
              "      <td>(Bag of Organic Bananas, Organic Strawberries)</td>\n",
              "      <td>0.213658</td>\n",
              "      <td>0.074443</td>\n",
              "      <td>0.037515</td>\n",
              "      <td>0.175583</td>\n",
              "      <td>2.358619</td>\n",
              "      <td>0.021609</td>\n",
              "      <td>1.122680</td>\n",
              "    </tr>\n",
              "    <tr>\n",
              "      <th>86</th>\n",
              "      <td>(Organic Hass Avocado, Organic Raspberries)</td>\n",
              "      <td>(Bag of Organic Bananas)</td>\n",
              "      <td>0.041618</td>\n",
              "      <td>0.248828</td>\n",
              "      <td>0.022567</td>\n",
              "      <td>0.542254</td>\n",
              "      <td>2.179233</td>\n",
              "      <td>0.012212</td>\n",
              "      <td>1.641023</td>\n",
              "    </tr>\n",
              "    <tr>\n",
              "      <th>88</th>\n",
              "      <td>(Organic Hass Avocado)</td>\n",
              "      <td>(Bag of Organic Bananas, Organic Raspberries)</td>\n",
              "      <td>0.213658</td>\n",
              "      <td>0.058910</td>\n",
              "      <td>0.022567</td>\n",
              "      <td>0.105624</td>\n",
              "      <td>1.792983</td>\n",
              "      <td>0.009981</td>\n",
              "      <td>1.052231</td>\n",
              "    </tr>\n",
              "    <tr>\n",
              "      <th>46</th>\n",
              "      <td>(Organic Baby Spinach, Organic Hass Avocado)</td>\n",
              "      <td>(Bag of Organic Bananas)</td>\n",
              "      <td>0.047186</td>\n",
              "      <td>0.248828</td>\n",
              "      <td>0.019343</td>\n",
              "      <td>0.409938</td>\n",
              "      <td>1.647477</td>\n",
              "      <td>0.007602</td>\n",
              "      <td>1.273039</td>\n",
              "    </tr>\n",
              "    <tr>\n",
              "      <th>49</th>\n",
              "      <td>(Organic Hass Avocado)</td>\n",
              "      <td>(Bag of Organic Bananas, Organic Baby Spinach)</td>\n",
              "      <td>0.213658</td>\n",
              "      <td>0.044842</td>\n",
              "      <td>0.019343</td>\n",
              "      <td>0.090535</td>\n",
              "      <td>2.018989</td>\n",
              "      <td>0.009763</td>\n",
              "      <td>1.050242</td>\n",
              "    </tr>\n",
              "    <tr>\n",
              "      <th>262</th>\n",
              "      <td>(Organic Large Extra Fancy Fuji Apple, Organic Hass Avocado)</td>\n",
              "      <td>(Bag of Organic Bananas)</td>\n",
              "      <td>0.027550</td>\n",
              "      <td>0.248828</td>\n",
              "      <td>0.018757</td>\n",
              "      <td>0.680851</td>\n",
              "      <td>2.736235</td>\n",
              "      <td>0.011902</td>\n",
              "      <td>2.353673</td>\n",
              "    </tr>\n",
              "    <tr>\n",
              "      <th>265</th>\n",
              "      <td>(Organic Hass Avocado)</td>\n",
              "      <td>(Bag of Organic Bananas, Organic Large Extra Fancy Fuji Apple)</td>\n",
              "      <td>0.213658</td>\n",
              "      <td>0.035463</td>\n",
              "      <td>0.018757</td>\n",
              "      <td>0.087791</td>\n",
              "      <td>2.475575</td>\n",
              "      <td>0.011180</td>\n",
              "      <td>1.057365</td>\n",
              "    </tr>\n",
              "    <tr>\n",
              "      <th>136</th>\n",
              "      <td>(Organic Whole Milk, Organic Hass Avocado)</td>\n",
              "      <td>(Bag of Organic Bananas)</td>\n",
              "      <td>0.038980</td>\n",
              "      <td>0.248828</td>\n",
              "      <td>0.016999</td>\n",
              "      <td>0.436090</td>\n",
              "      <td>1.752579</td>\n",
              "      <td>0.007300</td>\n",
              "      <td>1.332079</td>\n",
              "    </tr>\n",
              "    <tr>\n",
              "      <th>139</th>\n",
              "      <td>(Organic Hass Avocado)</td>\n",
              "      <td>(Bag of Organic Bananas, Organic Whole Milk)</td>\n",
              "      <td>0.213658</td>\n",
              "      <td>0.029015</td>\n",
              "      <td>0.016999</td>\n",
              "      <td>0.079561</td>\n",
              "      <td>2.742043</td>\n",
              "      <td>0.010799</td>\n",
              "      <td>1.054915</td>\n",
              "    </tr>\n",
              "    <tr>\n",
              "      <th>914</th>\n",
              "      <td>(Organic Hass Avocado, Honeycrisp Apple)</td>\n",
              "      <td>(Bag of Organic Bananas)</td>\n",
              "      <td>0.024912</td>\n",
              "      <td>0.248828</td>\n",
              "      <td>0.014947</td>\n",
              "      <td>0.600000</td>\n",
              "      <td>2.411307</td>\n",
              "      <td>0.008748</td>\n",
              "      <td>1.877931</td>\n",
              "    </tr>\n",
              "    <tr>\n",
              "      <th>916</th>\n",
              "      <td>(Organic Hass Avocado)</td>\n",
              "      <td>(Bag of Organic Bananas, Honeycrisp Apple)</td>\n",
              "      <td>0.213658</td>\n",
              "      <td>0.024326</td>\n",
              "      <td>0.014947</td>\n",
              "      <td>0.069959</td>\n",
              "      <td>2.875899</td>\n",
              "      <td>0.009750</td>\n",
              "      <td>1.049066</td>\n",
              "    </tr>\n",
              "    <tr>\n",
              "      <th>184</th>\n",
              "      <td>(Organic Hass Avocado, Large Lemon)</td>\n",
              "      <td>(Bag of Organic Bananas)</td>\n",
              "      <td>0.024033</td>\n",
              "      <td>0.248828</td>\n",
              "      <td>0.013775</td>\n",
              "      <td>0.573171</td>\n",
              "      <td>2.303485</td>\n",
              "      <td>0.007795</td>\n",
              "      <td>1.759889</td>\n",
              "    </tr>\n",
              "    <tr>\n",
              "      <th>338</th>\n",
              "      <td>(Organic Hass Avocado, Organic Whole String Cheese)</td>\n",
              "      <td>(Bag of Organic Bananas)</td>\n",
              "      <td>0.025791</td>\n",
              "      <td>0.248828</td>\n",
              "      <td>0.013775</td>\n",
              "      <td>0.534091</td>\n",
              "      <td>2.146429</td>\n",
              "      <td>0.007357</td>\n",
              "      <td>1.612272</td>\n",
              "    </tr>\n",
              "    <tr>\n",
              "      <th>340</th>\n",
              "      <td>(Organic Hass Avocado)</td>\n",
              "      <td>(Bag of Organic Bananas, Organic Whole String Cheese)</td>\n",
              "      <td>0.213658</td>\n",
              "      <td>0.034291</td>\n",
              "      <td>0.013775</td>\n",
              "      <td>0.064472</td>\n",
              "      <td>1.880154</td>\n",
              "      <td>0.006448</td>\n",
              "      <td>1.032261</td>\n",
              "    </tr>\n",
              "    <tr>\n",
              "      <th>186</th>\n",
              "      <td>(Organic Hass Avocado)</td>\n",
              "      <td>(Bag of Organic Bananas, Large Lemon)</td>\n",
              "      <td>0.213658</td>\n",
              "      <td>0.034584</td>\n",
              "      <td>0.013775</td>\n",
              "      <td>0.064472</td>\n",
              "      <td>1.864221</td>\n",
              "      <td>0.006386</td>\n",
              "      <td>1.031948</td>\n",
              "    </tr>\n",
              "    <tr>\n",
              "      <th>662</th>\n",
              "      <td>(Organic Grape Tomatoes, Organic Hass Avocado)</td>\n",
              "      <td>(Bag of Organic Bananas)</td>\n",
              "      <td>0.030481</td>\n",
              "      <td>0.248828</td>\n",
              "      <td>0.012896</td>\n",
              "      <td>0.423077</td>\n",
              "      <td>1.700281</td>\n",
              "      <td>0.005311</td>\n",
              "      <td>1.302032</td>\n",
              "    </tr>\n",
              "    <tr>\n",
              "      <th>666</th>\n",
              "      <td>(Organic Hass Avocado)</td>\n",
              "      <td>(Organic Grape Tomatoes, Bag of Organic Bananas)</td>\n",
              "      <td>0.213658</td>\n",
              "      <td>0.025205</td>\n",
              "      <td>0.012896</td>\n",
              "      <td>0.060357</td>\n",
              "      <td>2.394615</td>\n",
              "      <td>0.007510</td>\n",
              "      <td>1.037409</td>\n",
              "    </tr>\n",
              "    <tr>\n",
              "      <th>624</th>\n",
              "      <td>(Organic Cucumber, Organic Hass Avocado)</td>\n",
              "      <td>(Bag of Organic Bananas)</td>\n",
              "      <td>0.028136</td>\n",
              "      <td>0.248828</td>\n",
              "      <td>0.012309</td>\n",
              "      <td>0.437500</td>\n",
              "      <td>1.758245</td>\n",
              "      <td>0.005308</td>\n",
              "      <td>1.335417</td>\n",
              "    </tr>\n",
              "    <tr>\n",
              "      <th>628</th>\n",
              "      <td>(Organic Hass Avocado)</td>\n",
              "      <td>(Organic Cucumber, Bag of Organic Bananas)</td>\n",
              "      <td>0.213658</td>\n",
              "      <td>0.023740</td>\n",
              "      <td>0.012309</td>\n",
              "      <td>0.057613</td>\n",
              "      <td>2.426866</td>\n",
              "      <td>0.007237</td>\n",
              "      <td>1.035944</td>\n",
              "    </tr>\n",
              "    <tr>\n",
              "      <th>93</th>\n",
              "      <td>(Organic Strawberries, Organic Hass Avocado, Organic Raspberries)</td>\n",
              "      <td>(Bag of Organic Bananas)</td>\n",
              "      <td>0.019930</td>\n",
              "      <td>0.248828</td>\n",
              "      <td>0.012016</td>\n",
              "      <td>0.602941</td>\n",
              "      <td>2.423128</td>\n",
              "      <td>0.007057</td>\n",
              "      <td>1.891841</td>\n",
              "    </tr>\n",
              "    <tr>\n",
              "      <th>560</th>\n",
              "      <td>(Organic Garlic, Organic Hass Avocado)</td>\n",
              "      <td>(Bag of Organic Bananas)</td>\n",
              "      <td>0.023447</td>\n",
              "      <td>0.248828</td>\n",
              "      <td>0.012016</td>\n",
              "      <td>0.512500</td>\n",
              "      <td>2.059658</td>\n",
              "      <td>0.006182</td>\n",
              "      <td>1.540866</td>\n",
              "    </tr>\n",
              "    <tr>\n",
              "      <th>98</th>\n",
              "      <td>(Organic Hass Avocado, Organic Raspberries)</td>\n",
              "      <td>(Bag of Organic Bananas, Organic Strawberries)</td>\n",
              "      <td>0.041618</td>\n",
              "      <td>0.074443</td>\n",
              "      <td>0.012016</td>\n",
              "      <td>0.288732</td>\n",
              "      <td>3.878563</td>\n",
              "      <td>0.008918</td>\n",
              "      <td>1.301278</td>\n",
              "    </tr>\n",
              "    <tr>\n",
              "      <th>97</th>\n",
              "      <td>(Organic Strawberries, Organic Hass Avocado)</td>\n",
              "      <td>(Bag of Organic Bananas, Organic Raspberries)</td>\n",
              "      <td>0.082943</td>\n",
              "      <td>0.058910</td>\n",
              "      <td>0.012016</td>\n",
              "      <td>0.144876</td>\n",
              "      <td>2.459294</td>\n",
              "      <td>0.007130</td>\n",
              "      <td>1.100531</td>\n",
              "    </tr>\n",
              "    <tr>\n",
              "      <th>101</th>\n",
              "      <td>(Organic Hass Avocado)</td>\n",
              "      <td>(Bag of Organic Bananas, Organic Strawberries, Organic Raspberries)</td>\n",
              "      <td>0.213658</td>\n",
              "      <td>0.020223</td>\n",
              "      <td>0.012016</td>\n",
              "      <td>0.056241</td>\n",
              "      <td>2.781098</td>\n",
              "      <td>0.007696</td>\n",
              "      <td>1.038165</td>\n",
              "    </tr>\n",
              "    <tr>\n",
              "      <th>564</th>\n",
              "      <td>(Organic Hass Avocado)</td>\n",
              "      <td>(Organic Garlic, Bag of Organic Bananas)</td>\n",
              "      <td>0.213658</td>\n",
              "      <td>0.023740</td>\n",
              "      <td>0.012016</td>\n",
              "      <td>0.056241</td>\n",
              "      <td>2.369083</td>\n",
              "      <td>0.006944</td>\n",
              "      <td>1.034439</td>\n",
              "    </tr>\n",
              "    <tr>\n",
              "      <th>420</th>\n",
              "      <td>(Organic Zucchini, Organic Hass Avocado)</td>\n",
              "      <td>(Bag of Organic Bananas)</td>\n",
              "      <td>0.021688</td>\n",
              "      <td>0.248828</td>\n",
              "      <td>0.011430</td>\n",
              "      <td>0.527027</td>\n",
              "      <td>2.118040</td>\n",
              "      <td>0.006034</td>\n",
              "      <td>1.588193</td>\n",
              "    </tr>\n",
              "    <tr>\n",
              "      <th>704</th>\n",
              "      <td>(Organic Hass Avocado, Fresh Cauliflower)</td>\n",
              "      <td>(Bag of Organic Bananas)</td>\n",
              "      <td>0.024912</td>\n",
              "      <td>0.248828</td>\n",
              "      <td>0.011430</td>\n",
              "      <td>0.458824</td>\n",
              "      <td>1.843941</td>\n",
              "      <td>0.005231</td>\n",
              "      <td>1.388036</td>\n",
              "    </tr>\n",
              "    <tr>\n",
              "      <th>706</th>\n",
              "      <td>(Organic Hass Avocado)</td>\n",
              "      <td>(Bag of Organic Bananas, Fresh Cauliflower)</td>\n",
              "      <td>0.213658</td>\n",
              "      <td>0.029308</td>\n",
              "      <td>0.011430</td>\n",
              "      <td>0.053498</td>\n",
              "      <td>1.825350</td>\n",
              "      <td>0.005168</td>\n",
              "      <td>1.025557</td>\n",
              "    </tr>\n",
              "    <tr>\n",
              "      <th>423</th>\n",
              "      <td>(Organic Hass Avocado)</td>\n",
              "      <td>(Bag of Organic Bananas, Organic Zucchini)</td>\n",
              "      <td>0.213658</td>\n",
              "      <td>0.032532</td>\n",
              "      <td>0.011430</td>\n",
              "      <td>0.053498</td>\n",
              "      <td>1.644459</td>\n",
              "      <td>0.004479</td>\n",
              "      <td>1.022151</td>\n",
              "    </tr>\n",
              "    <tr>\n",
              "      <th>921</th>\n",
              "      <td>(Organic Strawberries, Organic Hass Avocado, Honeycrisp Apple)</td>\n",
              "      <td>(Bag of Organic Bananas)</td>\n",
              "      <td>0.016706</td>\n",
              "      <td>0.248828</td>\n",
              "      <td>0.011137</td>\n",
              "      <td>0.666667</td>\n",
              "      <td>2.679230</td>\n",
              "      <td>0.006980</td>\n",
              "      <td>2.253517</td>\n",
              "    </tr>\n",
              "    <tr>\n",
              "      <th>927</th>\n",
              "      <td>(Organic Hass Avocado, Honeycrisp Apple)</td>\n",
              "      <td>(Bag of Organic Bananas, Organic Strawberries)</td>\n",
              "      <td>0.024912</td>\n",
              "      <td>0.074443</td>\n",
              "      <td>0.011137</td>\n",
              "      <td>0.447059</td>\n",
              "      <td>6.005373</td>\n",
              "      <td>0.009283</td>\n",
              "      <td>1.673879</td>\n",
              "    </tr>\n",
              "    <tr>\n",
              "      <th>925</th>\n",
              "      <td>(Organic Strawberries, Organic Hass Avocado)</td>\n",
              "      <td>(Bag of Organic Bananas, Honeycrisp Apple)</td>\n",
              "      <td>0.082943</td>\n",
              "      <td>0.024326</td>\n",
              "      <td>0.011137</td>\n",
              "      <td>0.134276</td>\n",
              "      <td>5.519860</td>\n",
              "      <td>0.009120</td>\n",
              "      <td>1.127003</td>\n",
              "    </tr>\n",
              "    <tr>\n",
              "      <th>930</th>\n",
              "      <td>(Organic Hass Avocado)</td>\n",
              "      <td>(Bag of Organic Bananas, Organic Strawberries, Honeycrisp Apple)</td>\n",
              "      <td>0.213658</td>\n",
              "      <td>0.016706</td>\n",
              "      <td>0.011137</td>\n",
              "      <td>0.052126</td>\n",
              "      <td>3.120256</td>\n",
              "      <td>0.007568</td>\n",
              "      <td>1.037368</td>\n",
              "    </tr>\n",
              "    <tr>\n",
              "      <th>786</th>\n",
              "      <td>(Organic Hass Avocado, Apple Honeycrisp Organic)</td>\n",
              "      <td>(Bag of Organic Bananas)</td>\n",
              "      <td>0.023154</td>\n",
              "      <td>0.248828</td>\n",
              "      <td>0.010844</td>\n",
              "      <td>0.468354</td>\n",
              "      <td>1.882244</td>\n",
              "      <td>0.005083</td>\n",
              "      <td>1.412919</td>\n",
              "    </tr>\n",
              "    <tr>\n",
              "      <th>53</th>\n",
              "      <td>(Organic Baby Spinach, Organic Strawberries, Organic Hass Avocado)</td>\n",
              "      <td>(Bag of Organic Bananas)</td>\n",
              "      <td>0.023447</td>\n",
              "      <td>0.248828</td>\n",
              "      <td>0.010844</td>\n",
              "      <td>0.462500</td>\n",
              "      <td>1.858716</td>\n",
              "      <td>0.005010</td>\n",
              "      <td>1.397530</td>\n",
              "    </tr>\n",
              "    <tr>\n",
              "      <th>600</th>\n",
              "      <td>(Organic Hass Avocado, Organic Kiwi)</td>\n",
              "      <td>(Bag of Organic Bananas)</td>\n",
              "      <td>0.031946</td>\n",
              "      <td>0.248828</td>\n",
              "      <td>0.010844</td>\n",
              "      <td>0.339450</td>\n",
              "      <td>1.364195</td>\n",
              "      <td>0.002895</td>\n",
              "      <td>1.137191</td>\n",
              "    </tr>\n",
              "    <tr>\n",
              "      <th>58</th>\n",
              "      <td>(Organic Baby Spinach, Organic Hass Avocado)</td>\n",
              "      <td>(Bag of Organic Bananas, Organic Strawberries)</td>\n",
              "      <td>0.047186</td>\n",
              "      <td>0.074443</td>\n",
              "      <td>0.010844</td>\n",
              "      <td>0.229814</td>\n",
              "      <td>3.087103</td>\n",
              "      <td>0.007331</td>\n",
              "      <td>1.201731</td>\n",
              "    </tr>\n",
              "    <tr>\n",
              "      <th>59</th>\n",
              "      <td>(Organic Strawberries, Organic Hass Avocado)</td>\n",
              "      <td>(Bag of Organic Bananas, Organic Baby Spinach)</td>\n",
              "      <td>0.082943</td>\n",
              "      <td>0.044842</td>\n",
              "      <td>0.010844</td>\n",
              "      <td>0.130742</td>\n",
              "      <td>2.915633</td>\n",
              "      <td>0.007125</td>\n",
              "      <td>1.098820</td>\n",
              "    </tr>\n",
              "    <tr>\n",
              "      <th>63</th>\n",
              "      <td>(Organic Hass Avocado)</td>\n",
              "      <td>(Bag of Organic Bananas, Organic Baby Spinach, Organic Strawberries)</td>\n",
              "      <td>0.213658</td>\n",
              "      <td>0.016120</td>\n",
              "      <td>0.010844</td>\n",
              "      <td>0.050754</td>\n",
              "      <td>3.148622</td>\n",
              "      <td>0.007400</td>\n",
              "      <td>1.036487</td>\n",
              "    </tr>\n",
              "    <tr>\n",
              "      <th>602</th>\n",
              "      <td>(Organic Hass Avocado)</td>\n",
              "      <td>(Bag of Organic Bananas, Organic Kiwi)</td>\n",
              "      <td>0.213658</td>\n",
              "      <td>0.019930</td>\n",
              "      <td>0.010844</td>\n",
              "      <td>0.050754</td>\n",
              "      <td>2.546680</td>\n",
              "      <td>0.006586</td>\n",
              "      <td>1.032473</td>\n",
              "    </tr>\n",
              "    <tr>\n",
              "      <th>788</th>\n",
              "      <td>(Organic Hass Avocado)</td>\n",
              "      <td>(Bag of Organic Bananas, Apple Honeycrisp Organic)</td>\n",
              "      <td>0.213658</td>\n",
              "      <td>0.022860</td>\n",
              "      <td>0.010844</td>\n",
              "      <td>0.050754</td>\n",
              "      <td>2.220182</td>\n",
              "      <td>0.005960</td>\n",
              "      <td>1.029385</td>\n",
              "    </tr>\n",
              "    <tr>\n",
              "      <th>1050</th>\n",
              "      <td>(Organic Hass Avocado, Organic Garnet Sweet Potato (Yam))</td>\n",
              "      <td>(Bag of Organic Bananas)</td>\n",
              "      <td>0.017585</td>\n",
              "      <td>0.248828</td>\n",
              "      <td>0.010258</td>\n",
              "      <td>0.583333</td>\n",
              "      <td>2.344327</td>\n",
              "      <td>0.005882</td>\n",
              "      <td>1.802814</td>\n",
              "    </tr>\n",
              "    <tr>\n",
              "      <th>460</th>\n",
              "      <td>(Limes, Organic Hass Avocado)</td>\n",
              "      <td>(Bag of Organic Bananas)</td>\n",
              "      <td>0.025205</td>\n",
              "      <td>0.248828</td>\n",
              "      <td>0.010258</td>\n",
              "      <td>0.406977</td>\n",
              "      <td>1.635577</td>\n",
              "      <td>0.003986</td>\n",
              "      <td>1.266683</td>\n",
              "    </tr>\n",
              "    <tr>\n",
              "      <th>462</th>\n",
              "      <td>(Organic Hass Avocado)</td>\n",
              "      <td>(Bag of Organic Bananas, Limes)</td>\n",
              "      <td>0.213658</td>\n",
              "      <td>0.021102</td>\n",
              "      <td>0.010258</td>\n",
              "      <td>0.048011</td>\n",
              "      <td>2.275187</td>\n",
              "      <td>0.005749</td>\n",
              "      <td>1.028266</td>\n",
              "    </tr>\n",
              "    <tr>\n",
              "      <th>1052</th>\n",
              "      <td>(Organic Hass Avocado)</td>\n",
              "      <td>(Bag of Organic Bananas, Organic Garnet Sweet Potato (Yam))</td>\n",
              "      <td>0.213658</td>\n",
              "      <td>0.028722</td>\n",
              "      <td>0.010258</td>\n",
              "      <td>0.048011</td>\n",
              "      <td>1.671566</td>\n",
              "      <td>0.004121</td>\n",
              "      <td>1.020262</td>\n",
              "    </tr>\n",
              "  </tbody>\n",
              "</table>\n",
              "</div>"
            ],
            "text/plain": [
              "                                                             antecedents  ... conviction\n",
              "3                                                 (Organic Hass Avocado)  ...   1.253100\n",
              "6                           (Organic Strawberries, Organic Hass Avocado)  ...   1.371495\n",
              "9                                                 (Organic Hass Avocado)  ...   1.122680\n",
              "86                           (Organic Hass Avocado, Organic Raspberries)  ...   1.641023\n",
              "88                                                (Organic Hass Avocado)  ...   1.052231\n",
              "46                          (Organic Baby Spinach, Organic Hass Avocado)  ...   1.273039\n",
              "49                                                (Organic Hass Avocado)  ...   1.050242\n",
              "262         (Organic Large Extra Fancy Fuji Apple, Organic Hass Avocado)  ...   2.353673\n",
              "265                                               (Organic Hass Avocado)  ...   1.057365\n",
              "136                           (Organic Whole Milk, Organic Hass Avocado)  ...   1.332079\n",
              "139                                               (Organic Hass Avocado)  ...   1.054915\n",
              "914                             (Organic Hass Avocado, Honeycrisp Apple)  ...   1.877931\n",
              "916                                               (Organic Hass Avocado)  ...   1.049066\n",
              "184                                  (Organic Hass Avocado, Large Lemon)  ...   1.759889\n",
              "338                  (Organic Hass Avocado, Organic Whole String Cheese)  ...   1.612272\n",
              "340                                               (Organic Hass Avocado)  ...   1.032261\n",
              "186                                               (Organic Hass Avocado)  ...   1.031948\n",
              "662                       (Organic Grape Tomatoes, Organic Hass Avocado)  ...   1.302032\n",
              "666                                               (Organic Hass Avocado)  ...   1.037409\n",
              "624                             (Organic Cucumber, Organic Hass Avocado)  ...   1.335417\n",
              "628                                               (Organic Hass Avocado)  ...   1.035944\n",
              "93     (Organic Strawberries, Organic Hass Avocado, Organic Raspberries)  ...   1.891841\n",
              "560                               (Organic Garlic, Organic Hass Avocado)  ...   1.540866\n",
              "98                           (Organic Hass Avocado, Organic Raspberries)  ...   1.301278\n",
              "97                          (Organic Strawberries, Organic Hass Avocado)  ...   1.100531\n",
              "101                                               (Organic Hass Avocado)  ...   1.038165\n",
              "564                                               (Organic Hass Avocado)  ...   1.034439\n",
              "420                             (Organic Zucchini, Organic Hass Avocado)  ...   1.588193\n",
              "704                            (Organic Hass Avocado, Fresh Cauliflower)  ...   1.388036\n",
              "706                                               (Organic Hass Avocado)  ...   1.025557\n",
              "423                                               (Organic Hass Avocado)  ...   1.022151\n",
              "921       (Organic Strawberries, Organic Hass Avocado, Honeycrisp Apple)  ...   2.253517\n",
              "927                             (Organic Hass Avocado, Honeycrisp Apple)  ...   1.673879\n",
              "925                         (Organic Strawberries, Organic Hass Avocado)  ...   1.127003\n",
              "930                                               (Organic Hass Avocado)  ...   1.037368\n",
              "786                     (Organic Hass Avocado, Apple Honeycrisp Organic)  ...   1.412919\n",
              "53    (Organic Baby Spinach, Organic Strawberries, Organic Hass Avocado)  ...   1.397530\n",
              "600                                 (Organic Hass Avocado, Organic Kiwi)  ...   1.137191\n",
              "58                          (Organic Baby Spinach, Organic Hass Avocado)  ...   1.201731\n",
              "59                          (Organic Strawberries, Organic Hass Avocado)  ...   1.098820\n",
              "63                                                (Organic Hass Avocado)  ...   1.036487\n",
              "602                                               (Organic Hass Avocado)  ...   1.032473\n",
              "788                                               (Organic Hass Avocado)  ...   1.029385\n",
              "1050           (Organic Hass Avocado, Organic Garnet Sweet Potato (Yam))  ...   1.802814\n",
              "460                                        (Limes, Organic Hass Avocado)  ...   1.266683\n",
              "462                                               (Organic Hass Avocado)  ...   1.028266\n",
              "1052                                              (Organic Hass Avocado)  ...   1.020262\n",
              "\n",
              "[47 rows x 9 columns]"
            ]
          },
          "metadata": {
            "tags": []
          },
          "execution_count": 30
        }
      ]
    },
    {
      "cell_type": "code",
      "metadata": {
        "colab": {
          "base_uri": "https://localhost:8080/"
        },
        "id": "NUv6SDefkw8m",
        "outputId": "4d407f51-c842-48bb-f339-1b494739d686"
      },
      "source": [
        "OB = rules_OOJ[rules_OOJ[\"antecedents\"].apply(lambda x: 'Bag of Organic Bananas' in str(x))].sort_values([\"support\", \"confidence\", \"lift\", \"conviction\"], ascending = (False, False, False, False))\n",
        "\n",
        "OB = OB[OB[\"consequents\"].apply(lambda x: 'Organic Hass Avocado' in str(x))].sort_values([\"support\", \"confidence\", \"lift\", \"conviction\"], ascending = (False, False, False, False))\n",
        "OB.shape"
      ],
      "execution_count": null,
      "outputs": [
        {
          "output_type": "execute_result",
          "data": {
            "text/plain": [
              "(47, 9)"
            ]
          },
          "metadata": {
            "tags": []
          },
          "execution_count": 31
        }
      ]
    },
    {
      "cell_type": "markdown",
      "metadata": {
        "id": "ZyGWYV75AIbR"
      },
      "source": [
        "_Relation between Organic bananas and organic avocado_"
      ]
    },
    {
      "cell_type": "code",
      "metadata": {
        "colab": {
          "base_uri": "https://localhost:8080/",
          "height": 1000
        },
        "id": "8ouT0mVUkw0i",
        "outputId": "f84505ab-c791-461e-8663-a445df785f5e"
      },
      "source": [
        "OB.sort_values([\"support\", \"confidence\", \"lift\", \"conviction\"], ascending = (False, False, False, False))"
      ],
      "execution_count": null,
      "outputs": [
        {
          "output_type": "execute_result",
          "data": {
            "text/html": [
              "<div>\n",
              "<style scoped>\n",
              "    .dataframe tbody tr th:only-of-type {\n",
              "        vertical-align: middle;\n",
              "    }\n",
              "\n",
              "    .dataframe tbody tr th {\n",
              "        vertical-align: top;\n",
              "    }\n",
              "\n",
              "    .dataframe thead th {\n",
              "        text-align: right;\n",
              "    }\n",
              "</style>\n",
              "<table border=\"1\" class=\"dataframe\">\n",
              "  <thead>\n",
              "    <tr style=\"text-align: right;\">\n",
              "      <th></th>\n",
              "      <th>antecedents</th>\n",
              "      <th>consequents</th>\n",
              "      <th>antecedent support</th>\n",
              "      <th>consequent support</th>\n",
              "      <th>support</th>\n",
              "      <th>confidence</th>\n",
              "      <th>lift</th>\n",
              "      <th>leverage</th>\n",
              "      <th>conviction</th>\n",
              "    </tr>\n",
              "  </thead>\n",
              "  <tbody>\n",
              "    <tr>\n",
              "      <th>2</th>\n",
              "      <td>(Bag of Organic Bananas)</td>\n",
              "      <td>(Organic Hass Avocado)</td>\n",
              "      <td>0.248828</td>\n",
              "      <td>0.213658</td>\n",
              "      <td>0.085580</td>\n",
              "      <td>0.343934</td>\n",
              "      <td>1.609743</td>\n",
              "      <td>0.032416</td>\n",
              "      <td>1.198572</td>\n",
              "    </tr>\n",
              "    <tr>\n",
              "      <th>4</th>\n",
              "      <td>(Bag of Organic Bananas, Organic Strawberries)</td>\n",
              "      <td>(Organic Hass Avocado)</td>\n",
              "      <td>0.074443</td>\n",
              "      <td>0.213658</td>\n",
              "      <td>0.037515</td>\n",
              "      <td>0.503937</td>\n",
              "      <td>2.358619</td>\n",
              "      <td>0.021609</td>\n",
              "      <td>1.585166</td>\n",
              "    </tr>\n",
              "    <tr>\n",
              "      <th>7</th>\n",
              "      <td>(Bag of Organic Bananas)</td>\n",
              "      <td>(Organic Strawberries, Organic Hass Avocado)</td>\n",
              "      <td>0.248828</td>\n",
              "      <td>0.082943</td>\n",
              "      <td>0.037515</td>\n",
              "      <td>0.150766</td>\n",
              "      <td>1.817711</td>\n",
              "      <td>0.016876</td>\n",
              "      <td>1.079864</td>\n",
              "    </tr>\n",
              "    <tr>\n",
              "      <th>85</th>\n",
              "      <td>(Bag of Organic Bananas, Organic Raspberries)</td>\n",
              "      <td>(Organic Hass Avocado)</td>\n",
              "      <td>0.058910</td>\n",
              "      <td>0.213658</td>\n",
              "      <td>0.022567</td>\n",
              "      <td>0.383085</td>\n",
              "      <td>1.792983</td>\n",
              "      <td>0.009981</td>\n",
              "      <td>1.274636</td>\n",
              "    </tr>\n",
              "    <tr>\n",
              "      <th>87</th>\n",
              "      <td>(Bag of Organic Bananas)</td>\n",
              "      <td>(Organic Hass Avocado, Organic Raspberries)</td>\n",
              "      <td>0.248828</td>\n",
              "      <td>0.041618</td>\n",
              "      <td>0.022567</td>\n",
              "      <td>0.090695</td>\n",
              "      <td>2.179233</td>\n",
              "      <td>0.012212</td>\n",
              "      <td>1.053972</td>\n",
              "    </tr>\n",
              "    <tr>\n",
              "      <th>44</th>\n",
              "      <td>(Bag of Organic Bananas, Organic Baby Spinach)</td>\n",
              "      <td>(Organic Hass Avocado)</td>\n",
              "      <td>0.044842</td>\n",
              "      <td>0.213658</td>\n",
              "      <td>0.019343</td>\n",
              "      <td>0.431373</td>\n",
              "      <td>2.018989</td>\n",
              "      <td>0.009763</td>\n",
              "      <td>1.382878</td>\n",
              "    </tr>\n",
              "    <tr>\n",
              "      <th>47</th>\n",
              "      <td>(Bag of Organic Bananas)</td>\n",
              "      <td>(Organic Baby Spinach, Organic Hass Avocado)</td>\n",
              "      <td>0.248828</td>\n",
              "      <td>0.047186</td>\n",
              "      <td>0.019343</td>\n",
              "      <td>0.077739</td>\n",
              "      <td>1.647477</td>\n",
              "      <td>0.007602</td>\n",
              "      <td>1.033127</td>\n",
              "    </tr>\n",
              "    <tr>\n",
              "      <th>260</th>\n",
              "      <td>(Bag of Organic Bananas, Organic Large Extra Fancy Fuji Apple)</td>\n",
              "      <td>(Organic Hass Avocado)</td>\n",
              "      <td>0.035463</td>\n",
              "      <td>0.213658</td>\n",
              "      <td>0.018757</td>\n",
              "      <td>0.528926</td>\n",
              "      <td>2.475575</td>\n",
              "      <td>0.011180</td>\n",
              "      <td>1.669253</td>\n",
              "    </tr>\n",
              "    <tr>\n",
              "      <th>263</th>\n",
              "      <td>(Bag of Organic Bananas)</td>\n",
              "      <td>(Organic Large Extra Fancy Fuji Apple, Organic Hass Avocado)</td>\n",
              "      <td>0.248828</td>\n",
              "      <td>0.027550</td>\n",
              "      <td>0.018757</td>\n",
              "      <td>0.075383</td>\n",
              "      <td>2.736235</td>\n",
              "      <td>0.011902</td>\n",
              "      <td>1.051733</td>\n",
              "    </tr>\n",
              "    <tr>\n",
              "      <th>134</th>\n",
              "      <td>(Bag of Organic Bananas, Organic Whole Milk)</td>\n",
              "      <td>(Organic Hass Avocado)</td>\n",
              "      <td>0.029015</td>\n",
              "      <td>0.213658</td>\n",
              "      <td>0.016999</td>\n",
              "      <td>0.585859</td>\n",
              "      <td>2.742043</td>\n",
              "      <td>0.010799</td>\n",
              "      <td>1.898729</td>\n",
              "    </tr>\n",
              "    <tr>\n",
              "      <th>137</th>\n",
              "      <td>(Bag of Organic Bananas)</td>\n",
              "      <td>(Organic Whole Milk, Organic Hass Avocado)</td>\n",
              "      <td>0.248828</td>\n",
              "      <td>0.038980</td>\n",
              "      <td>0.016999</td>\n",
              "      <td>0.068316</td>\n",
              "      <td>1.752579</td>\n",
              "      <td>0.007300</td>\n",
              "      <td>1.031487</td>\n",
              "    </tr>\n",
              "    <tr>\n",
              "      <th>913</th>\n",
              "      <td>(Bag of Organic Bananas, Honeycrisp Apple)</td>\n",
              "      <td>(Organic Hass Avocado)</td>\n",
              "      <td>0.024326</td>\n",
              "      <td>0.213658</td>\n",
              "      <td>0.014947</td>\n",
              "      <td>0.614458</td>\n",
              "      <td>2.875899</td>\n",
              "      <td>0.009750</td>\n",
              "      <td>2.039575</td>\n",
              "    </tr>\n",
              "    <tr>\n",
              "      <th>915</th>\n",
              "      <td>(Bag of Organic Bananas)</td>\n",
              "      <td>(Organic Hass Avocado, Honeycrisp Apple)</td>\n",
              "      <td>0.248828</td>\n",
              "      <td>0.024912</td>\n",
              "      <td>0.014947</td>\n",
              "      <td>0.060071</td>\n",
              "      <td>2.411307</td>\n",
              "      <td>0.008748</td>\n",
              "      <td>1.037406</td>\n",
              "    </tr>\n",
              "    <tr>\n",
              "      <th>337</th>\n",
              "      <td>(Bag of Organic Bananas, Organic Whole String Cheese)</td>\n",
              "      <td>(Organic Hass Avocado)</td>\n",
              "      <td>0.034291</td>\n",
              "      <td>0.213658</td>\n",
              "      <td>0.013775</td>\n",
              "      <td>0.401709</td>\n",
              "      <td>1.880154</td>\n",
              "      <td>0.006448</td>\n",
              "      <td>1.314315</td>\n",
              "    </tr>\n",
              "    <tr>\n",
              "      <th>183</th>\n",
              "      <td>(Bag of Organic Bananas, Large Lemon)</td>\n",
              "      <td>(Organic Hass Avocado)</td>\n",
              "      <td>0.034584</td>\n",
              "      <td>0.213658</td>\n",
              "      <td>0.013775</td>\n",
              "      <td>0.398305</td>\n",
              "      <td>1.864221</td>\n",
              "      <td>0.006386</td>\n",
              "      <td>1.306879</td>\n",
              "    </tr>\n",
              "    <tr>\n",
              "      <th>185</th>\n",
              "      <td>(Bag of Organic Bananas)</td>\n",
              "      <td>(Organic Hass Avocado, Large Lemon)</td>\n",
              "      <td>0.248828</td>\n",
              "      <td>0.024033</td>\n",
              "      <td>0.013775</td>\n",
              "      <td>0.055359</td>\n",
              "      <td>2.303485</td>\n",
              "      <td>0.007795</td>\n",
              "      <td>1.033162</td>\n",
              "    </tr>\n",
              "    <tr>\n",
              "      <th>339</th>\n",
              "      <td>(Bag of Organic Bananas)</td>\n",
              "      <td>(Organic Hass Avocado, Organic Whole String Cheese)</td>\n",
              "      <td>0.248828</td>\n",
              "      <td>0.025791</td>\n",
              "      <td>0.013775</td>\n",
              "      <td>0.055359</td>\n",
              "      <td>2.146429</td>\n",
              "      <td>0.007357</td>\n",
              "      <td>1.031301</td>\n",
              "    </tr>\n",
              "    <tr>\n",
              "      <th>663</th>\n",
              "      <td>(Organic Grape Tomatoes, Bag of Organic Bananas)</td>\n",
              "      <td>(Organic Hass Avocado)</td>\n",
              "      <td>0.025205</td>\n",
              "      <td>0.213658</td>\n",
              "      <td>0.012896</td>\n",
              "      <td>0.511628</td>\n",
              "      <td>2.394615</td>\n",
              "      <td>0.007510</td>\n",
              "      <td>1.610130</td>\n",
              "    </tr>\n",
              "    <tr>\n",
              "      <th>667</th>\n",
              "      <td>(Bag of Organic Bananas)</td>\n",
              "      <td>(Organic Grape Tomatoes, Organic Hass Avocado)</td>\n",
              "      <td>0.248828</td>\n",
              "      <td>0.030481</td>\n",
              "      <td>0.012896</td>\n",
              "      <td>0.051826</td>\n",
              "      <td>1.700281</td>\n",
              "      <td>0.005311</td>\n",
              "      <td>1.022512</td>\n",
              "    </tr>\n",
              "    <tr>\n",
              "      <th>625</th>\n",
              "      <td>(Organic Cucumber, Bag of Organic Bananas)</td>\n",
              "      <td>(Organic Hass Avocado)</td>\n",
              "      <td>0.023740</td>\n",
              "      <td>0.213658</td>\n",
              "      <td>0.012309</td>\n",
              "      <td>0.518519</td>\n",
              "      <td>2.426866</td>\n",
              "      <td>0.007237</td>\n",
              "      <td>1.633173</td>\n",
              "    </tr>\n",
              "    <tr>\n",
              "      <th>629</th>\n",
              "      <td>(Bag of Organic Bananas)</td>\n",
              "      <td>(Organic Cucumber, Organic Hass Avocado)</td>\n",
              "      <td>0.248828</td>\n",
              "      <td>0.028136</td>\n",
              "      <td>0.012309</td>\n",
              "      <td>0.049470</td>\n",
              "      <td>1.758245</td>\n",
              "      <td>0.005308</td>\n",
              "      <td>1.022444</td>\n",
              "    </tr>\n",
              "    <tr>\n",
              "      <th>92</th>\n",
              "      <td>(Bag of Organic Bananas, Organic Strawberries, Organic Raspberries)</td>\n",
              "      <td>(Organic Hass Avocado)</td>\n",
              "      <td>0.020223</td>\n",
              "      <td>0.213658</td>\n",
              "      <td>0.012016</td>\n",
              "      <td>0.594203</td>\n",
              "      <td>2.781098</td>\n",
              "      <td>0.007696</td>\n",
              "      <td>1.937772</td>\n",
              "    </tr>\n",
              "    <tr>\n",
              "      <th>561</th>\n",
              "      <td>(Organic Garlic, Bag of Organic Bananas)</td>\n",
              "      <td>(Organic Hass Avocado)</td>\n",
              "      <td>0.023740</td>\n",
              "      <td>0.213658</td>\n",
              "      <td>0.012016</td>\n",
              "      <td>0.506173</td>\n",
              "      <td>2.369083</td>\n",
              "      <td>0.006944</td>\n",
              "      <td>1.592343</td>\n",
              "    </tr>\n",
              "    <tr>\n",
              "      <th>96</th>\n",
              "      <td>(Bag of Organic Bananas, Organic Raspberries)</td>\n",
              "      <td>(Organic Strawberries, Organic Hass Avocado)</td>\n",
              "      <td>0.058910</td>\n",
              "      <td>0.082943</td>\n",
              "      <td>0.012016</td>\n",
              "      <td>0.203980</td>\n",
              "      <td>2.459294</td>\n",
              "      <td>0.007130</td>\n",
              "      <td>1.152053</td>\n",
              "    </tr>\n",
              "    <tr>\n",
              "      <th>95</th>\n",
              "      <td>(Bag of Organic Bananas, Organic Strawberries)</td>\n",
              "      <td>(Organic Hass Avocado, Organic Raspberries)</td>\n",
              "      <td>0.074443</td>\n",
              "      <td>0.041618</td>\n",
              "      <td>0.012016</td>\n",
              "      <td>0.161417</td>\n",
              "      <td>3.878563</td>\n",
              "      <td>0.008918</td>\n",
              "      <td>1.142860</td>\n",
              "    </tr>\n",
              "    <tr>\n",
              "      <th>100</th>\n",
              "      <td>(Bag of Organic Bananas)</td>\n",
              "      <td>(Organic Strawberries, Organic Hass Avocado, Organic Raspberries)</td>\n",
              "      <td>0.248828</td>\n",
              "      <td>0.019930</td>\n",
              "      <td>0.012016</td>\n",
              "      <td>0.048292</td>\n",
              "      <td>2.423128</td>\n",
              "      <td>0.007057</td>\n",
              "      <td>1.029802</td>\n",
              "    </tr>\n",
              "    <tr>\n",
              "      <th>565</th>\n",
              "      <td>(Bag of Organic Bananas)</td>\n",
              "      <td>(Organic Garlic, Organic Hass Avocado)</td>\n",
              "      <td>0.248828</td>\n",
              "      <td>0.023447</td>\n",
              "      <td>0.012016</td>\n",
              "      <td>0.048292</td>\n",
              "      <td>2.059658</td>\n",
              "      <td>0.006182</td>\n",
              "      <td>1.026106</td>\n",
              "    </tr>\n",
              "    <tr>\n",
              "      <th>703</th>\n",
              "      <td>(Bag of Organic Bananas, Fresh Cauliflower)</td>\n",
              "      <td>(Organic Hass Avocado)</td>\n",
              "      <td>0.029308</td>\n",
              "      <td>0.213658</td>\n",
              "      <td>0.011430</td>\n",
              "      <td>0.390000</td>\n",
              "      <td>1.825350</td>\n",
              "      <td>0.005168</td>\n",
              "      <td>1.289086</td>\n",
              "    </tr>\n",
              "    <tr>\n",
              "      <th>418</th>\n",
              "      <td>(Bag of Organic Bananas, Organic Zucchini)</td>\n",
              "      <td>(Organic Hass Avocado)</td>\n",
              "      <td>0.032532</td>\n",
              "      <td>0.213658</td>\n",
              "      <td>0.011430</td>\n",
              "      <td>0.351351</td>\n",
              "      <td>1.644459</td>\n",
              "      <td>0.004479</td>\n",
              "      <td>1.212278</td>\n",
              "    </tr>\n",
              "    <tr>\n",
              "      <th>421</th>\n",
              "      <td>(Bag of Organic Bananas)</td>\n",
              "      <td>(Organic Zucchini, Organic Hass Avocado)</td>\n",
              "      <td>0.248828</td>\n",
              "      <td>0.021688</td>\n",
              "      <td>0.011430</td>\n",
              "      <td>0.045936</td>\n",
              "      <td>2.118040</td>\n",
              "      <td>0.006034</td>\n",
              "      <td>1.025416</td>\n",
              "    </tr>\n",
              "    <tr>\n",
              "      <th>705</th>\n",
              "      <td>(Bag of Organic Bananas)</td>\n",
              "      <td>(Organic Hass Avocado, Fresh Cauliflower)</td>\n",
              "      <td>0.248828</td>\n",
              "      <td>0.024912</td>\n",
              "      <td>0.011430</td>\n",
              "      <td>0.045936</td>\n",
              "      <td>1.843941</td>\n",
              "      <td>0.005231</td>\n",
              "      <td>1.022037</td>\n",
              "    </tr>\n",
              "    <tr>\n",
              "      <th>919</th>\n",
              "      <td>(Bag of Organic Bananas, Organic Strawberries, Honeycrisp Apple)</td>\n",
              "      <td>(Organic Hass Avocado)</td>\n",
              "      <td>0.016706</td>\n",
              "      <td>0.213658</td>\n",
              "      <td>0.011137</td>\n",
              "      <td>0.666667</td>\n",
              "      <td>3.120256</td>\n",
              "      <td>0.007568</td>\n",
              "      <td>2.359027</td>\n",
              "    </tr>\n",
              "    <tr>\n",
              "      <th>924</th>\n",
              "      <td>(Bag of Organic Bananas, Honeycrisp Apple)</td>\n",
              "      <td>(Organic Strawberries, Organic Hass Avocado)</td>\n",
              "      <td>0.024326</td>\n",
              "      <td>0.082943</td>\n",
              "      <td>0.011137</td>\n",
              "      <td>0.457831</td>\n",
              "      <td>5.519860</td>\n",
              "      <td>0.009120</td>\n",
              "      <td>1.691462</td>\n",
              "    </tr>\n",
              "    <tr>\n",
              "      <th>922</th>\n",
              "      <td>(Bag of Organic Bananas, Organic Strawberries)</td>\n",
              "      <td>(Organic Hass Avocado, Honeycrisp Apple)</td>\n",
              "      <td>0.074443</td>\n",
              "      <td>0.024912</td>\n",
              "      <td>0.011137</td>\n",
              "      <td>0.149606</td>\n",
              "      <td>6.005373</td>\n",
              "      <td>0.009283</td>\n",
              "      <td>1.146631</td>\n",
              "    </tr>\n",
              "    <tr>\n",
              "      <th>928</th>\n",
              "      <td>(Bag of Organic Bananas)</td>\n",
              "      <td>(Organic Strawberries, Organic Hass Avocado, Honeycrisp Apple)</td>\n",
              "      <td>0.248828</td>\n",
              "      <td>0.016706</td>\n",
              "      <td>0.011137</td>\n",
              "      <td>0.044759</td>\n",
              "      <td>2.679230</td>\n",
              "      <td>0.006980</td>\n",
              "      <td>1.029367</td>\n",
              "    </tr>\n",
              "    <tr>\n",
              "      <th>50</th>\n",
              "      <td>(Bag of Organic Bananas, Organic Baby Spinach, Organic Strawberries)</td>\n",
              "      <td>(Organic Hass Avocado)</td>\n",
              "      <td>0.016120</td>\n",
              "      <td>0.213658</td>\n",
              "      <td>0.010844</td>\n",
              "      <td>0.672727</td>\n",
              "      <td>3.148622</td>\n",
              "      <td>0.007400</td>\n",
              "      <td>2.402713</td>\n",
              "    </tr>\n",
              "    <tr>\n",
              "      <th>599</th>\n",
              "      <td>(Bag of Organic Bananas, Organic Kiwi)</td>\n",
              "      <td>(Organic Hass Avocado)</td>\n",
              "      <td>0.019930</td>\n",
              "      <td>0.213658</td>\n",
              "      <td>0.010844</td>\n",
              "      <td>0.544118</td>\n",
              "      <td>2.546680</td>\n",
              "      <td>0.006586</td>\n",
              "      <td>1.724880</td>\n",
              "    </tr>\n",
              "    <tr>\n",
              "      <th>785</th>\n",
              "      <td>(Bag of Organic Bananas, Apple Honeycrisp Organic)</td>\n",
              "      <td>(Organic Hass Avocado)</td>\n",
              "      <td>0.022860</td>\n",
              "      <td>0.213658</td>\n",
              "      <td>0.010844</td>\n",
              "      <td>0.474359</td>\n",
              "      <td>2.220182</td>\n",
              "      <td>0.005960</td>\n",
              "      <td>1.495968</td>\n",
              "    </tr>\n",
              "    <tr>\n",
              "      <th>54</th>\n",
              "      <td>(Bag of Organic Bananas, Organic Baby Spinach)</td>\n",
              "      <td>(Organic Strawberries, Organic Hass Avocado)</td>\n",
              "      <td>0.044842</td>\n",
              "      <td>0.082943</td>\n",
              "      <td>0.010844</td>\n",
              "      <td>0.241830</td>\n",
              "      <td>2.915633</td>\n",
              "      <td>0.007125</td>\n",
              "      <td>1.209567</td>\n",
              "    </tr>\n",
              "    <tr>\n",
              "      <th>55</th>\n",
              "      <td>(Bag of Organic Bananas, Organic Strawberries)</td>\n",
              "      <td>(Organic Baby Spinach, Organic Hass Avocado)</td>\n",
              "      <td>0.074443</td>\n",
              "      <td>0.047186</td>\n",
              "      <td>0.010844</td>\n",
              "      <td>0.145669</td>\n",
              "      <td>3.087103</td>\n",
              "      <td>0.007331</td>\n",
              "      <td>1.115275</td>\n",
              "    </tr>\n",
              "    <tr>\n",
              "      <th>787</th>\n",
              "      <td>(Bag of Organic Bananas)</td>\n",
              "      <td>(Organic Hass Avocado, Apple Honeycrisp Organic)</td>\n",
              "      <td>0.248828</td>\n",
              "      <td>0.023154</td>\n",
              "      <td>0.010844</td>\n",
              "      <td>0.043581</td>\n",
              "      <td>1.882244</td>\n",
              "      <td>0.005083</td>\n",
              "      <td>1.021358</td>\n",
              "    </tr>\n",
              "    <tr>\n",
              "      <th>60</th>\n",
              "      <td>(Bag of Organic Bananas)</td>\n",
              "      <td>(Organic Baby Spinach, Organic Strawberries, Organic Hass Avocado)</td>\n",
              "      <td>0.248828</td>\n",
              "      <td>0.023447</td>\n",
              "      <td>0.010844</td>\n",
              "      <td>0.043581</td>\n",
              "      <td>1.858716</td>\n",
              "      <td>0.005010</td>\n",
              "      <td>1.021051</td>\n",
              "    </tr>\n",
              "    <tr>\n",
              "      <th>601</th>\n",
              "      <td>(Bag of Organic Bananas)</td>\n",
              "      <td>(Organic Hass Avocado, Organic Kiwi)</td>\n",
              "      <td>0.248828</td>\n",
              "      <td>0.031946</td>\n",
              "      <td>0.010844</td>\n",
              "      <td>0.043581</td>\n",
              "      <td>1.364195</td>\n",
              "      <td>0.002895</td>\n",
              "      <td>1.012165</td>\n",
              "    </tr>\n",
              "    <tr>\n",
              "      <th>459</th>\n",
              "      <td>(Bag of Organic Bananas, Limes)</td>\n",
              "      <td>(Organic Hass Avocado)</td>\n",
              "      <td>0.021102</td>\n",
              "      <td>0.213658</td>\n",
              "      <td>0.010258</td>\n",
              "      <td>0.486111</td>\n",
              "      <td>2.275187</td>\n",
              "      <td>0.005749</td>\n",
              "      <td>1.530180</td>\n",
              "    </tr>\n",
              "    <tr>\n",
              "      <th>1049</th>\n",
              "      <td>(Bag of Organic Bananas, Organic Garnet Sweet Potato (Yam))</td>\n",
              "      <td>(Organic Hass Avocado)</td>\n",
              "      <td>0.028722</td>\n",
              "      <td>0.213658</td>\n",
              "      <td>0.010258</td>\n",
              "      <td>0.357143</td>\n",
              "      <td>1.671566</td>\n",
              "      <td>0.004121</td>\n",
              "      <td>1.223199</td>\n",
              "    </tr>\n",
              "    <tr>\n",
              "      <th>1051</th>\n",
              "      <td>(Bag of Organic Bananas)</td>\n",
              "      <td>(Organic Hass Avocado, Organic Garnet Sweet Potato (Yam))</td>\n",
              "      <td>0.248828</td>\n",
              "      <td>0.017585</td>\n",
              "      <td>0.010258</td>\n",
              "      <td>0.041225</td>\n",
              "      <td>2.344327</td>\n",
              "      <td>0.005882</td>\n",
              "      <td>1.024656</td>\n",
              "    </tr>\n",
              "    <tr>\n",
              "      <th>461</th>\n",
              "      <td>(Bag of Organic Bananas)</td>\n",
              "      <td>(Limes, Organic Hass Avocado)</td>\n",
              "      <td>0.248828</td>\n",
              "      <td>0.025205</td>\n",
              "      <td>0.010258</td>\n",
              "      <td>0.041225</td>\n",
              "      <td>1.635577</td>\n",
              "      <td>0.003986</td>\n",
              "      <td>1.016709</td>\n",
              "    </tr>\n",
              "  </tbody>\n",
              "</table>\n",
              "</div>"
            ],
            "text/plain": [
              "                                                               antecedents  ... conviction\n",
              "2                                                 (Bag of Organic Bananas)  ...   1.198572\n",
              "4                           (Bag of Organic Bananas, Organic Strawberries)  ...   1.585166\n",
              "7                                                 (Bag of Organic Bananas)  ...   1.079864\n",
              "85                           (Bag of Organic Bananas, Organic Raspberries)  ...   1.274636\n",
              "87                                                (Bag of Organic Bananas)  ...   1.053972\n",
              "44                          (Bag of Organic Bananas, Organic Baby Spinach)  ...   1.382878\n",
              "47                                                (Bag of Organic Bananas)  ...   1.033127\n",
              "260         (Bag of Organic Bananas, Organic Large Extra Fancy Fuji Apple)  ...   1.669253\n",
              "263                                               (Bag of Organic Bananas)  ...   1.051733\n",
              "134                           (Bag of Organic Bananas, Organic Whole Milk)  ...   1.898729\n",
              "137                                               (Bag of Organic Bananas)  ...   1.031487\n",
              "913                             (Bag of Organic Bananas, Honeycrisp Apple)  ...   2.039575\n",
              "915                                               (Bag of Organic Bananas)  ...   1.037406\n",
              "337                  (Bag of Organic Bananas, Organic Whole String Cheese)  ...   1.314315\n",
              "183                                  (Bag of Organic Bananas, Large Lemon)  ...   1.306879\n",
              "185                                               (Bag of Organic Bananas)  ...   1.033162\n",
              "339                                               (Bag of Organic Bananas)  ...   1.031301\n",
              "663                       (Organic Grape Tomatoes, Bag of Organic Bananas)  ...   1.610130\n",
              "667                                               (Bag of Organic Bananas)  ...   1.022512\n",
              "625                             (Organic Cucumber, Bag of Organic Bananas)  ...   1.633173\n",
              "629                                               (Bag of Organic Bananas)  ...   1.022444\n",
              "92     (Bag of Organic Bananas, Organic Strawberries, Organic Raspberries)  ...   1.937772\n",
              "561                               (Organic Garlic, Bag of Organic Bananas)  ...   1.592343\n",
              "96                           (Bag of Organic Bananas, Organic Raspberries)  ...   1.152053\n",
              "95                          (Bag of Organic Bananas, Organic Strawberries)  ...   1.142860\n",
              "100                                               (Bag of Organic Bananas)  ...   1.029802\n",
              "565                                               (Bag of Organic Bananas)  ...   1.026106\n",
              "703                            (Bag of Organic Bananas, Fresh Cauliflower)  ...   1.289086\n",
              "418                             (Bag of Organic Bananas, Organic Zucchini)  ...   1.212278\n",
              "421                                               (Bag of Organic Bananas)  ...   1.025416\n",
              "705                                               (Bag of Organic Bananas)  ...   1.022037\n",
              "919       (Bag of Organic Bananas, Organic Strawberries, Honeycrisp Apple)  ...   2.359027\n",
              "924                             (Bag of Organic Bananas, Honeycrisp Apple)  ...   1.691462\n",
              "922                         (Bag of Organic Bananas, Organic Strawberries)  ...   1.146631\n",
              "928                                               (Bag of Organic Bananas)  ...   1.029367\n",
              "50    (Bag of Organic Bananas, Organic Baby Spinach, Organic Strawberries)  ...   2.402713\n",
              "599                                 (Bag of Organic Bananas, Organic Kiwi)  ...   1.724880\n",
              "785                     (Bag of Organic Bananas, Apple Honeycrisp Organic)  ...   1.495968\n",
              "54                          (Bag of Organic Bananas, Organic Baby Spinach)  ...   1.209567\n",
              "55                          (Bag of Organic Bananas, Organic Strawberries)  ...   1.115275\n",
              "787                                               (Bag of Organic Bananas)  ...   1.021358\n",
              "60                                                (Bag of Organic Bananas)  ...   1.021051\n",
              "601                                               (Bag of Organic Bananas)  ...   1.012165\n",
              "459                                        (Bag of Organic Bananas, Limes)  ...   1.530180\n",
              "1049           (Bag of Organic Bananas, Organic Garnet Sweet Potato (Yam))  ...   1.223199\n",
              "1051                                              (Bag of Organic Bananas)  ...   1.024656\n",
              "461                                               (Bag of Organic Bananas)  ...   1.016709\n",
              "\n",
              "[47 rows x 9 columns]"
            ]
          },
          "metadata": {
            "tags": []
          },
          "execution_count": 32
        }
      ]
    },
    {
      "cell_type": "markdown",
      "metadata": {
        "id": "zT5XOgL_nW9m"
      },
      "source": [
        "__5) Suppose that the following rules are generated by mining the transaction histories at the aisle level (at suitable minimum threshold levels).__"
      ]
    },
    {
      "cell_type": "markdown",
      "metadata": {
        "id": "Gn6iQ67fnc9d"
      },
      "source": [
        "Soft drinks => Fresh fruits;\n",
        "Candy chocolate => Fresh vegetables;\n",
        "Tea => Fresh fruits;\n",
        "Soft drinks => Fresh vegetables;\n",
        "Coffee => Fresh fruits"
      ]
    },
    {
      "cell_type": "markdown",
      "metadata": {
        "id": "wKAz1SrLnirQ"
      },
      "source": [
        "__Explain how you would use the above rules for making promotional decisions. What rule measures did you consider while making your decision?__"
      ]
    },
    {
      "cell_type": "markdown",
      "metadata": {
        "id": "h_7ToemlnmGs"
      },
      "source": [
        "_Complement the consequent of dataframe-c with reference to the consequent of dataframe-b, i.e. pick items with high complimentarity from dataframe-b and subsititute them (or create promotional bundles) with the consequents of dataframe-c_"
      ]
    },
    {
      "cell_type": "markdown",
      "metadata": {
        "id": "s2To-OGCA2Va"
      },
      "source": [
        "**Earlier we had set 30% minimum support at aisle level, however to cover soft drinks, tea and coffee we have to lower the same to 5%**"
      ]
    },
    {
      "cell_type": "code",
      "metadata": {
        "id": "DaDYgMqLkwxA"
      },
      "source": [
        "#Run FPGrowth model using spark big list of items\n",
        "fpGrowth = FPGrowth(itemsCol=\"collect_set(aisle)\", minSupport=0.05)\n",
        "model = fpGrowth.fit(mylist_aisle)"
      ],
      "execution_count": null,
      "outputs": []
    },
    {
      "cell_type": "code",
      "metadata": {
        "id": "l38LN0wGkwt8"
      },
      "source": [
        "# Store frequent itemsets.\n",
        "results_aisle = model.freqItemsets.collect()\n",
        "# Store frequent itemsets in pandas dataframe.\n",
        "frequent_items_aisle = pd.DataFrame(results_aisle, columns=[\"itemsets\", \"freq\"])\n",
        "# Store length of each itemset in pandas dataframe.\n",
        "frequent_items_aisle['size'] = frequent_items_aisle[\"itemsets\"].apply(lambda x: len(x))\n",
        "\n",
        "# Store support value which is an input for  association_rules function.\n",
        "frequent_items_aisle['support'] = frequent_items_aisle[\"freq\"]/3412\n",
        "#specify suitable parameter values, random values are set below\n",
        "rules_aisle = association_rules(frequent_items_aisle, metric=\"support\", min_threshold=0.05)\n",
        "rules_aisle = rules_aisle.sort_values([\"support\", \"confidence\", \"lift\", \"conviction\"], ascending = (False, False, False, False))"
      ],
      "execution_count": null,
      "outputs": []
    },
    {
      "cell_type": "code",
      "metadata": {
        "id": "ZsXcG5QUkwql"
      },
      "source": [
        "##Convert frozenset string to unicode string\n",
        "rules_aisle[\"antecedents\"] = rules_aisle[\"antecedents\"].apply(lambda x: ', '.join(list(x))).astype(\"unicode\")\n",
        "rules_aisle[\"consequents\"] = rules_aisle[\"consequents\"].apply(lambda x: ', '.join(list(x))).astype(\"unicode\")"
      ],
      "execution_count": null,
      "outputs": []
    },
    {
      "cell_type": "code",
      "metadata": {
        "colab": {
          "base_uri": "https://localhost:8080/"
        },
        "id": "bgScRI5uor4T",
        "outputId": "9b178df7-2c86-4ea1-8a60-42e7e9b4b58e"
      },
      "source": [
        "rules_aisle.shape"
      ],
      "execution_count": null,
      "outputs": [
        {
          "output_type": "execute_result",
          "data": {
            "text/plain": [
              "(36244, 9)"
            ]
          },
          "metadata": {
            "tags": []
          },
          "execution_count": 36
        }
      ]
    },
    {
      "cell_type": "code",
      "metadata": {
        "id": "iQqObrqGov1t"
      },
      "source": [
        "##Store the distinct items mentioned in the rules above\n",
        "items = ['soft drinks', 'fresh fruits', 'candy chocolate', 'fresh vegetables', 'tea', 'coffee']\n",
        "##Search the list to extract all rules where these items exist\n",
        "rules_aisle['LHS'] = rules_aisle['antecedents'].str.findall('(' + '|'.join(items) + ')')\n",
        "rules_aisle['RHS'] = rules_aisle['consequents'].str.findall('(' + '|'.join(items) + ')')"
      ],
      "execution_count": null,
      "outputs": []
    },
    {
      "cell_type": "code",
      "metadata": {
        "colab": {
          "base_uri": "https://localhost:8080/"
        },
        "id": "63maRXs8oy0A",
        "outputId": "211956c6-fc9b-4ec4-ecb4-fed1116e87fa"
      },
      "source": [
        "rules_aisle.shape"
      ],
      "execution_count": null,
      "outputs": [
        {
          "output_type": "execute_result",
          "data": {
            "text/plain": [
              "(36244, 11)"
            ]
          },
          "metadata": {
            "tags": []
          },
          "execution_count": 38
        }
      ]
    },
    {
      "cell_type": "code",
      "metadata": {
        "colab": {
          "base_uri": "https://localhost:8080/"
        },
        "id": "WczoG-TVoyw-",
        "outputId": "5edacc37-031a-4f31-df9d-bbab3898616a"
      },
      "source": [
        "##Remove blank rows where the items dont exist\n",
        "aislepromo = rules_aisle[rules_aisle['LHS'].astype(bool) & rules_aisle['RHS'].astype(bool)]\n",
        "aislepromo = aislepromo.iloc[:, :9].sort_values([\"support\", \"confidence\", \"lift\", \"conviction\"], ascending = (False, False, False, False))\n",
        "##Check the dimensions of the dataset\n",
        "aislepromo.shape"
      ],
      "execution_count": null,
      "outputs": [
        {
          "output_type": "execute_result",
          "data": {
            "text/plain": [
              "(6990, 9)"
            ]
          },
          "metadata": {
            "tags": []
          },
          "execution_count": 39
        }
      ]
    },
    {
      "cell_type": "markdown",
      "metadata": {
        "id": "lCIQJ9Zvo6wD"
      },
      "source": [
        "__Soft Drinks__"
      ]
    },
    {
      "cell_type": "code",
      "metadata": {
        "id": "BQZNwr9poyt7"
      },
      "source": [
        "a = aislepromo[(aislepromo['lift']> 1) & (aislepromo['antecedents'].str.contains('soft drinks')) &\n",
        "               (aislepromo['confidence']> 0.50)].sort_values([\"support\", \"confidence\", \"lift\", \"conviction\"],\n",
        "                                                             ascending = (False, False, False, False))"
      ],
      "execution_count": null,
      "outputs": []
    },
    {
      "cell_type": "code",
      "metadata": {
        "colab": {
          "base_uri": "https://localhost:8080/",
          "height": 80
        },
        "id": "-V2TS2NOoyq4",
        "outputId": "6e612dae-0d61-44cd-8c56-ce022a44c63e"
      },
      "source": [
        "##Implies complimentary bundles with high confidence\n",
        "b = a[a['lift']==a['lift'].max()]\n",
        "b"
      ],
      "execution_count": null,
      "outputs": [
        {
          "output_type": "execute_result",
          "data": {
            "text/html": [
              "<div>\n",
              "<style scoped>\n",
              "    .dataframe tbody tr th:only-of-type {\n",
              "        vertical-align: middle;\n",
              "    }\n",
              "\n",
              "    .dataframe tbody tr th {\n",
              "        vertical-align: top;\n",
              "    }\n",
              "\n",
              "    .dataframe thead th {\n",
              "        text-align: right;\n",
              "    }\n",
              "</style>\n",
              "<table border=\"1\" class=\"dataframe\">\n",
              "  <thead>\n",
              "    <tr style=\"text-align: right;\">\n",
              "      <th></th>\n",
              "      <th>antecedents</th>\n",
              "      <th>consequents</th>\n",
              "      <th>antecedent support</th>\n",
              "      <th>consequent support</th>\n",
              "      <th>support</th>\n",
              "      <th>confidence</th>\n",
              "      <th>lift</th>\n",
              "      <th>leverage</th>\n",
              "      <th>conviction</th>\n",
              "    </tr>\n",
              "  </thead>\n",
              "  <tbody>\n",
              "    <tr>\n",
              "      <th>35092</th>\n",
              "      <td>soft drinks, fresh vegetables</td>\n",
              "      <td>packaged vegetables fruits, fresh fruits</td>\n",
              "      <td>0.078839</td>\n",
              "      <td>0.590563</td>\n",
              "      <td>0.05891</td>\n",
              "      <td>0.747212</td>\n",
              "      <td>1.265254</td>\n",
              "      <td>0.01235</td>\n",
              "      <td>1.619686</td>\n",
              "    </tr>\n",
              "  </tbody>\n",
              "</table>\n",
              "</div>"
            ],
            "text/plain": [
              "                         antecedents  ... conviction\n",
              "35092  soft drinks, fresh vegetables  ...   1.619686\n",
              "\n",
              "[1 rows x 9 columns]"
            ]
          },
          "metadata": {
            "tags": []
          },
          "execution_count": 41
        }
      ]
    },
    {
      "cell_type": "code",
      "metadata": {
        "colab": {
          "base_uri": "https://localhost:8080/",
          "height": 142
        },
        "id": "jeyptjzsoyn9",
        "outputId": "1d3ccb88-30f7-4aad-9ded-5358e6e0ed49"
      },
      "source": [
        "##Implies substitutability bundles with high confidence\n",
        "c = aislepromo[(aislepromo['lift']< 1) & (aislepromo['lift']>aislepromo['lift'].min()) &\n",
        "               (aislepromo['antecedents'].str.contains('soft drinks')) &\n",
        "               (aislepromo['confidence']> 0.50)].sort_values([\"support\", \"confidence\", \"lift\", \"conviction\"],\n",
        "                                                             ascending = (False, False, False, False))\n",
        "c"
      ],
      "execution_count": null,
      "outputs": [
        {
          "output_type": "execute_result",
          "data": {
            "text/html": [
              "<div>\n",
              "<style scoped>\n",
              "    .dataframe tbody tr th:only-of-type {\n",
              "        vertical-align: middle;\n",
              "    }\n",
              "\n",
              "    .dataframe tbody tr th {\n",
              "        vertical-align: top;\n",
              "    }\n",
              "\n",
              "    .dataframe thead th {\n",
              "        text-align: right;\n",
              "    }\n",
              "</style>\n",
              "<table border=\"1\" class=\"dataframe\">\n",
              "  <thead>\n",
              "    <tr style=\"text-align: right;\">\n",
              "      <th></th>\n",
              "      <th>antecedents</th>\n",
              "      <th>consequents</th>\n",
              "      <th>antecedent support</th>\n",
              "      <th>consequent support</th>\n",
              "      <th>support</th>\n",
              "      <th>confidence</th>\n",
              "      <th>lift</th>\n",
              "      <th>leverage</th>\n",
              "      <th>conviction</th>\n",
              "    </tr>\n",
              "  </thead>\n",
              "  <tbody>\n",
              "    <tr>\n",
              "      <th>35146</th>\n",
              "      <td>soft drinks</td>\n",
              "      <td>fresh fruits</td>\n",
              "      <td>0.118699</td>\n",
              "      <td>0.830598</td>\n",
              "      <td>0.097011</td>\n",
              "      <td>0.817284</td>\n",
              "      <td>0.983971</td>\n",
              "      <td>-0.001580</td>\n",
              "      <td>0.927133</td>\n",
              "    </tr>\n",
              "    <tr>\n",
              "      <th>35126</th>\n",
              "      <td>soft drinks</td>\n",
              "      <td>fresh vegetables</td>\n",
              "      <td>0.118699</td>\n",
              "      <td>0.669402</td>\n",
              "      <td>0.078839</td>\n",
              "      <td>0.664198</td>\n",
              "      <td>0.992225</td>\n",
              "      <td>-0.000618</td>\n",
              "      <td>0.984501</td>\n",
              "    </tr>\n",
              "    <tr>\n",
              "      <th>35131</th>\n",
              "      <td>soft drinks</td>\n",
              "      <td>fresh vegetables, fresh fruits</td>\n",
              "      <td>0.118699</td>\n",
              "      <td>0.606389</td>\n",
              "      <td>0.070633</td>\n",
              "      <td>0.595062</td>\n",
              "      <td>0.981320</td>\n",
              "      <td>-0.001345</td>\n",
              "      <td>0.972027</td>\n",
              "    </tr>\n",
              "  </tbody>\n",
              "</table>\n",
              "</div>"
            ],
            "text/plain": [
              "       antecedents                     consequents  ...  leverage  conviction\n",
              "35146  soft drinks                    fresh fruits  ... -0.001580    0.927133\n",
              "35126  soft drinks                fresh vegetables  ... -0.000618    0.984501\n",
              "35131  soft drinks  fresh vegetables, fresh fruits  ... -0.001345    0.972027\n",
              "\n",
              "[3 rows x 9 columns]"
            ]
          },
          "metadata": {
            "tags": []
          },
          "execution_count": 42
        }
      ]
    },
    {
      "cell_type": "markdown",
      "metadata": {
        "id": "FsiSCJjfpHw9"
      },
      "source": [
        "__Fresh Fruits__"
      ]
    },
    {
      "cell_type": "code",
      "metadata": {
        "id": "sMjFvnZ8oykv"
      },
      "source": [
        "a = aislepromo[(aislepromo['lift']> 1) & (aislepromo['antecedents'].str.contains('fresh fruits')) &\n",
        "               (aislepromo['confidence']> 0.50)].sort_values([\"support\", \"confidence\", \"lift\", \"conviction\"],\n",
        "                                                             ascending = (False, False, False, False))"
      ],
      "execution_count": null,
      "outputs": []
    },
    {
      "cell_type": "code",
      "metadata": {
        "colab": {
          "base_uri": "https://localhost:8080/",
          "height": 80
        },
        "id": "K9gAcfqAoyb8",
        "outputId": "db3a1e30-09d1-441c-87b4-95f30a8e90ac"
      },
      "source": [
        "##Implies complimentary bundles with high confidence\n",
        "b = a[a['lift']==a['lift'].max()]\n",
        "b"
      ],
      "execution_count": null,
      "outputs": [
        {
          "output_type": "execute_result",
          "data": {
            "text/html": [
              "<div>\n",
              "<style scoped>\n",
              "    .dataframe tbody tr th:only-of-type {\n",
              "        vertical-align: middle;\n",
              "    }\n",
              "\n",
              "    .dataframe tbody tr th {\n",
              "        vertical-align: top;\n",
              "    }\n",
              "\n",
              "    .dataframe thead th {\n",
              "        text-align: right;\n",
              "    }\n",
              "</style>\n",
              "<table border=\"1\" class=\"dataframe\">\n",
              "  <thead>\n",
              "    <tr style=\"text-align: right;\">\n",
              "      <th></th>\n",
              "      <th>antecedents</th>\n",
              "      <th>consequents</th>\n",
              "      <th>antecedent support</th>\n",
              "      <th>consequent support</th>\n",
              "      <th>support</th>\n",
              "      <th>confidence</th>\n",
              "      <th>lift</th>\n",
              "      <th>leverage</th>\n",
              "      <th>conviction</th>\n",
              "    </tr>\n",
              "  </thead>\n",
              "  <tbody>\n",
              "    <tr>\n",
              "      <th>35423</th>\n",
              "      <td>fresh fruits, tortillas flat bread</td>\n",
              "      <td>fresh vegetables, bread</td>\n",
              "      <td>0.104045</td>\n",
              "      <td>0.251172</td>\n",
              "      <td>0.052462</td>\n",
              "      <td>0.504225</td>\n",
              "      <td>2.007488</td>\n",
              "      <td>0.026329</td>\n",
              "      <td>1.510419</td>\n",
              "    </tr>\n",
              "  </tbody>\n",
              "</table>\n",
              "</div>"
            ],
            "text/plain": [
              "                              antecedents  ... conviction\n",
              "35423  fresh fruits, tortillas flat bread  ...   1.510419\n",
              "\n",
              "[1 rows x 9 columns]"
            ]
          },
          "metadata": {
            "tags": []
          },
          "execution_count": 44
        }
      ]
    },
    {
      "cell_type": "code",
      "metadata": {
        "colab": {
          "base_uri": "https://localhost:8080/",
          "height": 80
        },
        "id": "olsifJGToyQc",
        "outputId": "07a2505a-7562-47da-ba78-42fd429b599f"
      },
      "source": [
        "##Implies substitutability bundles with high confidence\n",
        "c = aislepromo[(aislepromo['lift']< 1) & (aislepromo['lift']>aislepromo['lift'].min()) &\n",
        "               (aislepromo['antecedents'].str.contains('fresh fruits')) &\n",
        "               (aislepromo['confidence']> 0.50)].sort_values([\"support\", \"confidence\", \"lift\", \"conviction\"],\n",
        "                                                             ascending = (False, False, False, False))\n",
        "c"
      ],
      "execution_count": null,
      "outputs": [
        {
          "output_type": "execute_result",
          "data": {
            "text/html": [
              "<div>\n",
              "<style scoped>\n",
              "    .dataframe tbody tr th:only-of-type {\n",
              "        vertical-align: middle;\n",
              "    }\n",
              "\n",
              "    .dataframe tbody tr th {\n",
              "        vertical-align: top;\n",
              "    }\n",
              "\n",
              "    .dataframe thead th {\n",
              "        text-align: right;\n",
              "    }\n",
              "</style>\n",
              "<table border=\"1\" class=\"dataframe\">\n",
              "  <thead>\n",
              "    <tr style=\"text-align: right;\">\n",
              "      <th></th>\n",
              "      <th>antecedents</th>\n",
              "      <th>consequents</th>\n",
              "      <th>antecedent support</th>\n",
              "      <th>consequent support</th>\n",
              "      <th>support</th>\n",
              "      <th>confidence</th>\n",
              "      <th>lift</th>\n",
              "      <th>leverage</th>\n",
              "      <th>conviction</th>\n",
              "    </tr>\n",
              "  </thead>\n",
              "  <tbody>\n",
              "    <tr>\n",
              "      <th>35622</th>\n",
              "      <td>fresh fruits, coffee</td>\n",
              "      <td>fresh vegetables</td>\n",
              "      <td>0.092321</td>\n",
              "      <td>0.669402</td>\n",
              "      <td>0.056565</td>\n",
              "      <td>0.612698</td>\n",
              "      <td>0.915292</td>\n",
              "      <td>-0.005235</td>\n",
              "      <td>0.853593</td>\n",
              "    </tr>\n",
              "  </tbody>\n",
              "</table>\n",
              "</div>"
            ],
            "text/plain": [
              "                antecedents       consequents  ...  leverage  conviction\n",
              "35622  fresh fruits, coffee  fresh vegetables  ... -0.005235    0.853593\n",
              "\n",
              "[1 rows x 9 columns]"
            ]
          },
          "metadata": {
            "tags": []
          },
          "execution_count": 45
        }
      ]
    },
    {
      "cell_type": "markdown",
      "metadata": {
        "id": "-ZvXSlPZpUK9"
      },
      "source": [
        "__Candy Chocolate__"
      ]
    },
    {
      "cell_type": "code",
      "metadata": {
        "id": "AKDDI4HdpWol"
      },
      "source": [
        "a = aislepromo[(aislepromo['lift']> 1) & (aislepromo['antecedents'].str.contains('candy chocolate')) &\n",
        "               (aislepromo['confidence']> 0.50)].sort_values([\"support\", \"confidence\", \"lift\", \"conviction\"],\n",
        "                                                             ascending = (False, False, False, False))"
      ],
      "execution_count": null,
      "outputs": []
    },
    {
      "cell_type": "code",
      "metadata": {
        "colab": {
          "base_uri": "https://localhost:8080/",
          "height": 80
        },
        "id": "HrySIsMtpXPP",
        "outputId": "f282d0c1-6324-4d2c-f353-b4dd2f697ba4"
      },
      "source": [
        "##Implies complimentary bundles with high confidence\n",
        "b = a[a['lift']==a['lift'].max()]\n",
        "b"
      ],
      "execution_count": null,
      "outputs": [
        {
          "output_type": "execute_result",
          "data": {
            "text/html": [
              "<div>\n",
              "<style scoped>\n",
              "    .dataframe tbody tr th:only-of-type {\n",
              "        vertical-align: middle;\n",
              "    }\n",
              "\n",
              "    .dataframe tbody tr th {\n",
              "        vertical-align: top;\n",
              "    }\n",
              "\n",
              "    .dataframe thead th {\n",
              "        text-align: right;\n",
              "    }\n",
              "</style>\n",
              "<table border=\"1\" class=\"dataframe\">\n",
              "  <thead>\n",
              "    <tr style=\"text-align: right;\">\n",
              "      <th></th>\n",
              "      <th>antecedents</th>\n",
              "      <th>consequents</th>\n",
              "      <th>antecedent support</th>\n",
              "      <th>consequent support</th>\n",
              "      <th>support</th>\n",
              "      <th>confidence</th>\n",
              "      <th>lift</th>\n",
              "      <th>leverage</th>\n",
              "      <th>conviction</th>\n",
              "    </tr>\n",
              "  </thead>\n",
              "  <tbody>\n",
              "    <tr>\n",
              "      <th>35280</th>\n",
              "      <td>candy chocolate, fresh vegetables</td>\n",
              "      <td>packaged vegetables fruits, fresh fruits</td>\n",
              "      <td>0.075029</td>\n",
              "      <td>0.590563</td>\n",
              "      <td>0.055393</td>\n",
              "      <td>0.738281</td>\n",
              "      <td>1.250132</td>\n",
              "      <td>0.011083</td>\n",
              "      <td>1.564417</td>\n",
              "    </tr>\n",
              "  </tbody>\n",
              "</table>\n",
              "</div>"
            ],
            "text/plain": [
              "                             antecedents  ... conviction\n",
              "35280  candy chocolate, fresh vegetables  ...   1.564417\n",
              "\n",
              "[1 rows x 9 columns]"
            ]
          },
          "metadata": {
            "tags": []
          },
          "execution_count": 47
        }
      ]
    },
    {
      "cell_type": "code",
      "metadata": {
        "colab": {
          "base_uri": "https://localhost:8080/",
          "height": 80
        },
        "id": "t_KpRILMpW1l",
        "outputId": "dd0c470f-13a0-4f7d-cba5-bd3fbc75dd5a"
      },
      "source": [
        "##Implies substitutability bundles with high confidence\n",
        "c = aislepromo[(aislepromo['lift']< 1) & (aislepromo['lift']>aislepromo['lift'].min()) &\n",
        "               (aislepromo['antecedents'].str.contains('candy chocolate')) &\n",
        "               (aislepromo['confidence']> 0.50)].sort_values([\"support\", \"confidence\", \"lift\", \"conviction\"],\n",
        "                                                             ascending = (False, False, False, False))\n",
        "c"
      ],
      "execution_count": null,
      "outputs": [
        {
          "output_type": "execute_result",
          "data": {
            "text/html": [
              "<div>\n",
              "<style scoped>\n",
              "    .dataframe tbody tr th:only-of-type {\n",
              "        vertical-align: middle;\n",
              "    }\n",
              "\n",
              "    .dataframe tbody tr th {\n",
              "        vertical-align: top;\n",
              "    }\n",
              "\n",
              "    .dataframe thead th {\n",
              "        text-align: right;\n",
              "    }\n",
              "</style>\n",
              "<table border=\"1\" class=\"dataframe\">\n",
              "  <thead>\n",
              "    <tr style=\"text-align: right;\">\n",
              "      <th></th>\n",
              "      <th>antecedents</th>\n",
              "      <th>consequents</th>\n",
              "      <th>antecedent support</th>\n",
              "      <th>consequent support</th>\n",
              "      <th>support</th>\n",
              "      <th>confidence</th>\n",
              "      <th>lift</th>\n",
              "      <th>leverage</th>\n",
              "      <th>conviction</th>\n",
              "    </tr>\n",
              "  </thead>\n",
              "  <tbody>\n",
              "    <tr>\n",
              "      <th>35306</th>\n",
              "      <td>candy chocolate</td>\n",
              "      <td>fresh vegetables</td>\n",
              "      <td>0.113423</td>\n",
              "      <td>0.669402</td>\n",
              "      <td>0.075029</td>\n",
              "      <td>0.661499</td>\n",
              "      <td>0.988193</td>\n",
              "      <td>-0.000896</td>\n",
              "      <td>0.976652</td>\n",
              "    </tr>\n",
              "  </tbody>\n",
              "</table>\n",
              "</div>"
            ],
            "text/plain": [
              "           antecedents       consequents  ...  leverage  conviction\n",
              "35306  candy chocolate  fresh vegetables  ... -0.000896    0.976652\n",
              "\n",
              "[1 rows x 9 columns]"
            ]
          },
          "metadata": {
            "tags": []
          },
          "execution_count": 48
        }
      ]
    },
    {
      "cell_type": "markdown",
      "metadata": {
        "id": "-N4FoJ9Cpe2N"
      },
      "source": [
        "__Fresh Vegetables__"
      ]
    },
    {
      "cell_type": "code",
      "metadata": {
        "id": "75TPBZ5mpkX8"
      },
      "source": [
        "a = aislepromo[(aislepromo['lift']> 1) & (aislepromo['antecedents'].str.contains('fresh vegetables')) &\n",
        "               (aislepromo['confidence']> 0.50)].sort_values([\"support\", \"confidence\", \"lift\", \"conviction\"],\n",
        "                                                             ascending = (False, False, False, False))"
      ],
      "execution_count": null,
      "outputs": []
    },
    {
      "cell_type": "code",
      "metadata": {
        "colab": {
          "base_uri": "https://localhost:8080/",
          "height": 114
        },
        "id": "S7HK2MtMpuYN",
        "outputId": "6c437e7b-80d1-4f7b-fdbb-49319e820cc5"
      },
      "source": [
        "##Implies complimentary bundles with high confidence\n",
        "b = a[a['lift']==a['lift'].max()]\n",
        "b"
      ],
      "execution_count": null,
      "outputs": [
        {
          "output_type": "execute_result",
          "data": {
            "text/html": [
              "<div>\n",
              "<style scoped>\n",
              "    .dataframe tbody tr th:only-of-type {\n",
              "        vertical-align: middle;\n",
              "    }\n",
              "\n",
              "    .dataframe tbody tr th {\n",
              "        vertical-align: top;\n",
              "    }\n",
              "\n",
              "    .dataframe thead th {\n",
              "        text-align: right;\n",
              "    }\n",
              "</style>\n",
              "<table border=\"1\" class=\"dataframe\">\n",
              "  <thead>\n",
              "    <tr style=\"text-align: right;\">\n",
              "      <th></th>\n",
              "      <th>antecedents</th>\n",
              "      <th>consequents</th>\n",
              "      <th>antecedent support</th>\n",
              "      <th>consequent support</th>\n",
              "      <th>support</th>\n",
              "      <th>confidence</th>\n",
              "      <th>lift</th>\n",
              "      <th>leverage</th>\n",
              "      <th>conviction</th>\n",
              "    </tr>\n",
              "  </thead>\n",
              "  <tbody>\n",
              "    <tr>\n",
              "      <th>15827</th>\n",
              "      <td>fresh vegetables, yogurt, lunch meat</td>\n",
              "      <td>packaged cheese, fresh fruits, packaged vegetables fruits</td>\n",
              "      <td>0.109027</td>\n",
              "      <td>0.329132</td>\n",
              "      <td>0.068581</td>\n",
              "      <td>0.629032</td>\n",
              "      <td>1.911183</td>\n",
              "      <td>0.032697</td>\n",
              "      <td>1.808426</td>\n",
              "    </tr>\n",
              "  </tbody>\n",
              "</table>\n",
              "</div>"
            ],
            "text/plain": [
              "                                antecedents  ... conviction\n",
              "15827  fresh vegetables, yogurt, lunch meat  ...   1.808426\n",
              "\n",
              "[1 rows x 9 columns]"
            ]
          },
          "metadata": {
            "tags": []
          },
          "execution_count": 50
        }
      ]
    },
    {
      "cell_type": "code",
      "metadata": {
        "colab": {
          "base_uri": "https://localhost:8080/",
          "height": 210
        },
        "id": "btcsJ1-opuPN",
        "outputId": "8db11317-b013-41e7-99da-fccef2fb816f"
      },
      "source": [
        "##Implies substitutability bundles with high confidence\n",
        "c = aislepromo[(aislepromo['lift']< 1) & (aislepromo['lift']>aislepromo['lift'].min()) &\n",
        "               (aislepromo['antecedents'].str.contains('fresh vegetables')) &\n",
        "               (aislepromo['confidence']> 0.40)].sort_values([\"support\", \"confidence\", \"lift\", \"conviction\"],\n",
        "                                                             ascending = (False, False, False, False))\n",
        "c"
      ],
      "execution_count": null,
      "outputs": [
        {
          "output_type": "execute_result",
          "data": {
            "text/html": [
              "<div>\n",
              "<style scoped>\n",
              "    .dataframe tbody tr th:only-of-type {\n",
              "        vertical-align: middle;\n",
              "    }\n",
              "\n",
              "    .dataframe tbody tr th {\n",
              "        vertical-align: top;\n",
              "    }\n",
              "\n",
              "    .dataframe thead th {\n",
              "        text-align: right;\n",
              "    }\n",
              "</style>\n",
              "<table border=\"1\" class=\"dataframe\">\n",
              "  <thead>\n",
              "    <tr style=\"text-align: right;\">\n",
              "      <th></th>\n",
              "      <th>antecedents</th>\n",
              "      <th>consequents</th>\n",
              "      <th>antecedent support</th>\n",
              "      <th>consequent support</th>\n",
              "      <th>support</th>\n",
              "      <th>confidence</th>\n",
              "      <th>lift</th>\n",
              "      <th>leverage</th>\n",
              "      <th>conviction</th>\n",
              "    </tr>\n",
              "  </thead>\n",
              "  <tbody>\n",
              "    <tr>\n",
              "      <th>2466</th>\n",
              "      <td>fresh vegetables, soy lactosefree</td>\n",
              "      <td>milk, fresh fruits</td>\n",
              "      <td>0.274033</td>\n",
              "      <td>0.432298</td>\n",
              "      <td>0.113423</td>\n",
              "      <td>0.413904</td>\n",
              "      <td>0.957451</td>\n",
              "      <td>-0.005041</td>\n",
              "      <td>0.968616</td>\n",
              "    </tr>\n",
              "    <tr>\n",
              "      <th>1988</th>\n",
              "      <td>packaged vegetables fruits, fresh vegetables, soy lactosefree</td>\n",
              "      <td>milk, fresh fruits</td>\n",
              "      <td>0.225381</td>\n",
              "      <td>0.432298</td>\n",
              "      <td>0.094666</td>\n",
              "      <td>0.420026</td>\n",
              "      <td>0.971613</td>\n",
              "      <td>-0.002766</td>\n",
              "      <td>0.978841</td>\n",
              "    </tr>\n",
              "    <tr>\n",
              "      <th>32291</th>\n",
              "      <td>fresh vegetables, soup broth bouillon</td>\n",
              "      <td>milk, fresh fruits</td>\n",
              "      <td>0.125733</td>\n",
              "      <td>0.432298</td>\n",
              "      <td>0.050703</td>\n",
              "      <td>0.403263</td>\n",
              "      <td>0.932837</td>\n",
              "      <td>-0.003651</td>\n",
              "      <td>0.951345</td>\n",
              "    </tr>\n",
              "  </tbody>\n",
              "</table>\n",
              "</div>"
            ],
            "text/plain": [
              "                                                         antecedents  ... conviction\n",
              "2466                               fresh vegetables, soy lactosefree  ...   0.968616\n",
              "1988   packaged vegetables fruits, fresh vegetables, soy lactosefree  ...   0.978841\n",
              "32291                          fresh vegetables, soup broth bouillon  ...   0.951345\n",
              "\n",
              "[3 rows x 9 columns]"
            ]
          },
          "metadata": {
            "tags": []
          },
          "execution_count": 51
        }
      ]
    },
    {
      "cell_type": "markdown",
      "metadata": {
        "id": "9vYvgcUhp1ok"
      },
      "source": [
        "__Tea__"
      ]
    },
    {
      "cell_type": "code",
      "metadata": {
        "id": "tEC8u6eJp4yB"
      },
      "source": [
        "a = aislepromo[(aislepromo['lift']> 1) & (aislepromo['antecedents'].str.contains('tea')) &\n",
        "               (aislepromo['confidence']> 0.50)].sort_values([\"support\", \"confidence\", \"lift\", \"conviction\"],\n",
        "                                                             ascending = (False, False, False, False))"
      ],
      "execution_count": null,
      "outputs": []
    },
    {
      "cell_type": "code",
      "metadata": {
        "colab": {
          "base_uri": "https://localhost:8080/",
          "height": 80
        },
        "id": "JoKMjZulp5lG",
        "outputId": "72a3474d-654b-4468-fb85-06c92542f906"
      },
      "source": [
        "##Implies complimentary bundles with high confidence\n",
        "b = a[a['lift']==a['lift'].max()]\n",
        "b"
      ],
      "execution_count": null,
      "outputs": [
        {
          "output_type": "execute_result",
          "data": {
            "text/html": [
              "<div>\n",
              "<style scoped>\n",
              "    .dataframe tbody tr th:only-of-type {\n",
              "        vertical-align: middle;\n",
              "    }\n",
              "\n",
              "    .dataframe tbody tr th {\n",
              "        vertical-align: top;\n",
              "    }\n",
              "\n",
              "    .dataframe thead th {\n",
              "        text-align: right;\n",
              "    }\n",
              "</style>\n",
              "<table border=\"1\" class=\"dataframe\">\n",
              "  <thead>\n",
              "    <tr style=\"text-align: right;\">\n",
              "      <th></th>\n",
              "      <th>antecedents</th>\n",
              "      <th>consequents</th>\n",
              "      <th>antecedent support</th>\n",
              "      <th>consequent support</th>\n",
              "      <th>support</th>\n",
              "      <th>confidence</th>\n",
              "      <th>lift</th>\n",
              "      <th>leverage</th>\n",
              "      <th>conviction</th>\n",
              "    </tr>\n",
              "  </thead>\n",
              "  <tbody>\n",
              "    <tr>\n",
              "      <th>34146</th>\n",
              "      <td>fresh vegetables, tea</td>\n",
              "      <td>packaged vegetables fruits, fresh fruits</td>\n",
              "      <td>0.081184</td>\n",
              "      <td>0.590563</td>\n",
              "      <td>0.061841</td>\n",
              "      <td>0.761733</td>\n",
              "      <td>1.289842</td>\n",
              "      <td>0.013896</td>\n",
              "      <td>1.718396</td>\n",
              "    </tr>\n",
              "  </tbody>\n",
              "</table>\n",
              "</div>"
            ],
            "text/plain": [
              "                 antecedents  ... conviction\n",
              "34146  fresh vegetables, tea  ...   1.718396\n",
              "\n",
              "[1 rows x 9 columns]"
            ]
          },
          "metadata": {
            "tags": []
          },
          "execution_count": 53
        }
      ]
    },
    {
      "cell_type": "code",
      "metadata": {
        "colab": {
          "base_uri": "https://localhost:8080/",
          "height": 173
        },
        "id": "pw80QXEAp53Y",
        "outputId": "f09db0ec-68b3-4818-bd1e-8dd8feea77ac"
      },
      "source": [
        "##Implies substitutability bundles with high confidence\n",
        "c = aislepromo[(aislepromo['lift']< 1) & (aislepromo['lift']>aislepromo['lift'].min()) &\n",
        "               (aislepromo['antecedents'].str.contains('tea')) &\n",
        "               (aislepromo['confidence']> 0.50)].sort_values([\"support\", \"confidence\", \"lift\", \"conviction\"],\n",
        "                                                             ascending = (False, False, False, False))\n",
        "c"
      ],
      "execution_count": null,
      "outputs": [
        {
          "output_type": "execute_result",
          "data": {
            "text/html": [
              "<div>\n",
              "<style scoped>\n",
              "    .dataframe tbody tr th:only-of-type {\n",
              "        vertical-align: middle;\n",
              "    }\n",
              "\n",
              "    .dataframe tbody tr th {\n",
              "        vertical-align: top;\n",
              "    }\n",
              "\n",
              "    .dataframe thead th {\n",
              "        text-align: right;\n",
              "    }\n",
              "</style>\n",
              "<table border=\"1\" class=\"dataframe\">\n",
              "  <thead>\n",
              "    <tr style=\"text-align: right;\">\n",
              "      <th></th>\n",
              "      <th>antecedents</th>\n",
              "      <th>consequents</th>\n",
              "      <th>antecedent support</th>\n",
              "      <th>consequent support</th>\n",
              "      <th>support</th>\n",
              "      <th>confidence</th>\n",
              "      <th>lift</th>\n",
              "      <th>leverage</th>\n",
              "      <th>conviction</th>\n",
              "    </tr>\n",
              "  </thead>\n",
              "  <tbody>\n",
              "    <tr>\n",
              "      <th>34219</th>\n",
              "      <td>tea</td>\n",
              "      <td>fresh fruits</td>\n",
              "      <td>0.128957</td>\n",
              "      <td>0.830598</td>\n",
              "      <td>0.106096</td>\n",
              "      <td>0.822727</td>\n",
              "      <td>0.990524</td>\n",
              "      <td>-0.001015</td>\n",
              "      <td>0.955602</td>\n",
              "    </tr>\n",
              "    <tr>\n",
              "      <th>34193</th>\n",
              "      <td>tea</td>\n",
              "      <td>fresh vegetables</td>\n",
              "      <td>0.128957</td>\n",
              "      <td>0.669402</td>\n",
              "      <td>0.081184</td>\n",
              "      <td>0.629545</td>\n",
              "      <td>0.940459</td>\n",
              "      <td>-0.005140</td>\n",
              "      <td>0.892411</td>\n",
              "    </tr>\n",
              "    <tr>\n",
              "      <th>34199</th>\n",
              "      <td>tea</td>\n",
              "      <td>fresh vegetables, fresh fruits</td>\n",
              "      <td>0.128957</td>\n",
              "      <td>0.606389</td>\n",
              "      <td>0.072685</td>\n",
              "      <td>0.563636</td>\n",
              "      <td>0.929496</td>\n",
              "      <td>-0.005513</td>\n",
              "      <td>0.902025</td>\n",
              "    </tr>\n",
              "    <tr>\n",
              "      <th>34206</th>\n",
              "      <td>tea, yogurt</td>\n",
              "      <td>fresh fruits</td>\n",
              "      <td>0.063306</td>\n",
              "      <td>0.830598</td>\n",
              "      <td>0.052462</td>\n",
              "      <td>0.828704</td>\n",
              "      <td>0.997719</td>\n",
              "      <td>-0.000120</td>\n",
              "      <td>0.988942</td>\n",
              "    </tr>\n",
              "  </tbody>\n",
              "</table>\n",
              "</div>"
            ],
            "text/plain": [
              "       antecedents                     consequents  ...  leverage  conviction\n",
              "34219          tea                    fresh fruits  ... -0.001015    0.955602\n",
              "34193          tea                fresh vegetables  ... -0.005140    0.892411\n",
              "34199          tea  fresh vegetables, fresh fruits  ... -0.005513    0.902025\n",
              "34206  tea, yogurt                    fresh fruits  ... -0.000120    0.988942\n",
              "\n",
              "[4 rows x 9 columns]"
            ]
          },
          "metadata": {
            "tags": []
          },
          "execution_count": 54
        }
      ]
    },
    {
      "cell_type": "markdown",
      "metadata": {
        "id": "KGdRsdKIqCYV"
      },
      "source": [
        "__Coffee__"
      ]
    },
    {
      "cell_type": "code",
      "metadata": {
        "id": "JTHonsuHqEyU"
      },
      "source": [
        "a = aislepromo[(aislepromo['lift']> 1) & (aislepromo['antecedents'].str.contains('coffee')) &\n",
        "               (aislepromo['confidence']> 0.50)].sort_values([\"support\", \"confidence\", \"lift\", \"conviction\"],ascending = (False, False, False, False))"
      ],
      "execution_count": null,
      "outputs": []
    },
    {
      "cell_type": "code",
      "metadata": {
        "colab": {
          "base_uri": "https://localhost:8080/",
          "height": 80
        },
        "id": "fH6-nlzuqFTS",
        "outputId": "9f39d037-e4d3-483f-ce02-52a83f0281e1"
      },
      "source": [
        "##Implies complimentary bundles with high confidence\n",
        "b = a[a['lift']==a['lift'].max()]\n",
        "b"
      ],
      "execution_count": null,
      "outputs": [
        {
          "output_type": "execute_result",
          "data": {
            "text/html": [
              "<div>\n",
              "<style scoped>\n",
              "    .dataframe tbody tr th:only-of-type {\n",
              "        vertical-align: middle;\n",
              "    }\n",
              "\n",
              "    .dataframe tbody tr th {\n",
              "        vertical-align: top;\n",
              "    }\n",
              "\n",
              "    .dataframe thead th {\n",
              "        text-align: right;\n",
              "    }\n",
              "</style>\n",
              "<table border=\"1\" class=\"dataframe\">\n",
              "  <thead>\n",
              "    <tr style=\"text-align: right;\">\n",
              "      <th></th>\n",
              "      <th>antecedents</th>\n",
              "      <th>consequents</th>\n",
              "      <th>antecedent support</th>\n",
              "      <th>consequent support</th>\n",
              "      <th>support</th>\n",
              "      <th>confidence</th>\n",
              "      <th>lift</th>\n",
              "      <th>leverage</th>\n",
              "      <th>conviction</th>\n",
              "    </tr>\n",
              "  </thead>\n",
              "  <tbody>\n",
              "    <tr>\n",
              "      <th>35621</th>\n",
              "      <td>fresh vegetables, coffee</td>\n",
              "      <td>fresh fruits</td>\n",
              "      <td>0.061547</td>\n",
              "      <td>0.830598</td>\n",
              "      <td>0.056565</td>\n",
              "      <td>0.919048</td>\n",
              "      <td>1.106489</td>\n",
              "      <td>0.005444</td>\n",
              "      <td>2.092614</td>\n",
              "    </tr>\n",
              "  </tbody>\n",
              "</table>\n",
              "</div>"
            ],
            "text/plain": [
              "                    antecedents   consequents  ...  leverage  conviction\n",
              "35621  fresh vegetables, coffee  fresh fruits  ...  0.005444    2.092614\n",
              "\n",
              "[1 rows x 9 columns]"
            ]
          },
          "metadata": {
            "tags": []
          },
          "execution_count": 56
        }
      ]
    },
    {
      "cell_type": "code",
      "metadata": {
        "colab": {
          "base_uri": "https://localhost:8080/",
          "height": 173
        },
        "id": "_v_T5B5aqFC-",
        "outputId": "55e35bbd-947a-4d9f-e230-88e9c91cfddf"
      },
      "source": [
        "##Implies substitutability bundles with high confidence\n",
        "c = aislepromo[(aislepromo['lift']< 1) & (aislepromo['lift']>aislepromo['lift'].min()) &\n",
        "               (aislepromo['antecedents'].str.contains('coffee')) & (aislepromo['confidence']> 0.50)].sort_values([\"support\", \"confidence\", \"lift\", \"conviction\"],\n",
        "                                                                                                                  ascending = (False, False, False, False))\n",
        "c"
      ],
      "execution_count": null,
      "outputs": [
        {
          "output_type": "execute_result",
          "data": {
            "text/html": [
              "<div>\n",
              "<style scoped>\n",
              "    .dataframe tbody tr th:only-of-type {\n",
              "        vertical-align: middle;\n",
              "    }\n",
              "\n",
              "    .dataframe tbody tr th {\n",
              "        vertical-align: top;\n",
              "    }\n",
              "\n",
              "    .dataframe thead th {\n",
              "        text-align: right;\n",
              "    }\n",
              "</style>\n",
              "<table border=\"1\" class=\"dataframe\">\n",
              "  <thead>\n",
              "    <tr style=\"text-align: right;\">\n",
              "      <th></th>\n",
              "      <th>antecedents</th>\n",
              "      <th>consequents</th>\n",
              "      <th>antecedent support</th>\n",
              "      <th>consequent support</th>\n",
              "      <th>support</th>\n",
              "      <th>confidence</th>\n",
              "      <th>lift</th>\n",
              "      <th>leverage</th>\n",
              "      <th>conviction</th>\n",
              "    </tr>\n",
              "  </thead>\n",
              "  <tbody>\n",
              "    <tr>\n",
              "      <th>35643</th>\n",
              "      <td>coffee</td>\n",
              "      <td>fresh fruits</td>\n",
              "      <td>0.111958</td>\n",
              "      <td>0.830598</td>\n",
              "      <td>0.092321</td>\n",
              "      <td>0.824607</td>\n",
              "      <td>0.992788</td>\n",
              "      <td>-0.000671</td>\n",
              "      <td>0.965845</td>\n",
              "    </tr>\n",
              "    <tr>\n",
              "      <th>35622</th>\n",
              "      <td>fresh fruits, coffee</td>\n",
              "      <td>fresh vegetables</td>\n",
              "      <td>0.092321</td>\n",
              "      <td>0.669402</td>\n",
              "      <td>0.056565</td>\n",
              "      <td>0.612698</td>\n",
              "      <td>0.915292</td>\n",
              "      <td>-0.005235</td>\n",
              "      <td>0.853593</td>\n",
              "    </tr>\n",
              "    <tr>\n",
              "      <th>35625</th>\n",
              "      <td>coffee</td>\n",
              "      <td>fresh vegetables, fresh fruits</td>\n",
              "      <td>0.111958</td>\n",
              "      <td>0.606389</td>\n",
              "      <td>0.056565</td>\n",
              "      <td>0.505236</td>\n",
              "      <td>0.833187</td>\n",
              "      <td>-0.011325</td>\n",
              "      <td>0.795552</td>\n",
              "    </tr>\n",
              "    <tr>\n",
              "      <th>35597</th>\n",
              "      <td>packaged vegetables fruits, coffee</td>\n",
              "      <td>fresh vegetables</td>\n",
              "      <td>0.077081</td>\n",
              "      <td>0.669402</td>\n",
              "      <td>0.050703</td>\n",
              "      <td>0.657795</td>\n",
              "      <td>0.982660</td>\n",
              "      <td>-0.000895</td>\n",
              "      <td>0.966081</td>\n",
              "    </tr>\n",
              "  </tbody>\n",
              "</table>\n",
              "</div>"
            ],
            "text/plain": [
              "                              antecedents  ... conviction\n",
              "35643                              coffee  ...   0.965845\n",
              "35622                fresh fruits, coffee  ...   0.853593\n",
              "35625                              coffee  ...   0.795552\n",
              "35597  packaged vegetables fruits, coffee  ...   0.966081\n",
              "\n",
              "[4 rows x 9 columns]"
            ]
          },
          "metadata": {
            "tags": []
          },
          "execution_count": 57
        }
      ]
    },
    {
      "cell_type": "markdown",
      "metadata": {
        "id": "Fd71d5YdqWrA"
      },
      "source": [
        "__How would you generate promotional offers for a given customer, e.g. uid = 4962?__"
      ]
    },
    {
      "cell_type": "markdown",
      "metadata": {
        "id": "8J5H1-DyqcEF"
      },
      "source": [
        "- _Bundle milk, coffee, lunch meat, refrigerated items in separate bundles with fresh items for breakfast and lunch separately (insights from aisle level)_\n",
        "- _Create a specialised bundle of all kinds of organic fruits that would include avocado and strawberry (insights from combined level)_"
      ]
    },
    {
      "cell_type": "code",
      "metadata": {
        "colab": {
          "base_uri": "https://localhost:8080/"
        },
        "id": "vhjBrPp-qZqh",
        "outputId": "50224888-cfda-40ac-a853-e0802c5cd222"
      },
      "source": [
        "sparkDf.where(sparkDf.uid==4962).agg(collect_set('department')).show(truncate=0)\n",
        "##Not all departments of this customer fall under minimum support of 60% for above analyzed aisle rules.\n",
        "## therefore either we need to reduce the department minimum support or we need to go further level down\n",
        "##either check aisle levels or product levels"
      ],
      "execution_count": null,
      "outputs": [
        {
          "output_type": "stream",
          "text": [
            "+--------------------------------------------------------------------------------------------------------------------------------+\n",
            "|collect_set(department)                                                                                                         |\n",
            "+--------------------------------------------------------------------------------------------------------------------------------+\n",
            "|[personal care, household, other, produce, bakery, breakfast, deli, snacks, meat seafood, pantry, beverages, frozen, dairy eggs]|\n",
            "+--------------------------------------------------------------------------------------------------------------------------------+\n",
            "\n"
          ],
          "name": "stdout"
        }
      ]
    },
    {
      "cell_type": "markdown",
      "metadata": {
        "id": "2NJUAV5ps8YH"
      },
      "source": [
        "__Aisle level for Customer 4962__"
      ]
    },
    {
      "cell_type": "code",
      "metadata": {
        "colab": {
          "base_uri": "https://localhost:8080/"
        },
        "id": "iXVR9E2fqfUt",
        "outputId": "8ea3d848-c858-4c07-9577-1a859b1b1ffa"
      },
      "source": [
        "##Find unique list of aisle visitted by this customer\n",
        "sparkDf.where(sparkDf.uid==4962).agg(collect_set('aisle')).show(truncate=0)"
      ],
      "execution_count": null,
      "outputs": [
        {
          "output_type": "stream",
          "text": [
            "+-------------------------------------------------------------------------------------------------------------------------------------------------------------------------------------------------------------------------------------------------------------------------------------------------------------------------------------------------------------------------------------------------------------------------------------------------------------------------------------------------------------------------------------------------------------------------------------------------------------------------------------------------------------------------------------------------------------------------+\n",
            "|collect_set(aisle)                                                                                                                                                                                                                                                                                                                                                                                                                                                                                                                                                                                                                                                                                                       |\n",
            "+-------------------------------------------------------------------------------------------------------------------------------------------------------------------------------------------------------------------------------------------------------------------------------------------------------------------------------------------------------------------------------------------------------------------------------------------------------------------------------------------------------------------------------------------------------------------------------------------------------------------------------------------------------------------------------------------------------------------------+\n",
            "|[bread, air fresheners candles, other creams cheeses, frozen meals, yogurt, frozen breakfast, frozen vegan vegetarian, frozen breads doughs, candy chocolate, vitamins supplements, prepared soups salads, packaged vegetables fruits, oral hygiene, honeys syrups nectars, hot dogs bacon sausage, spices seasonings, fresh dips tapenades, paper goods, frozen dessert, chips pretzels, fresh herbs, eggs, granola, milk, oils vinegars, lunch meat, digestion, packaged poultry, packaged cheese, dish detergents, other, fresh fruits, soy lactosefree, butter, refrigerated, juice nectars, spreads, fresh vegetables, cleaning products, hot cereal pancake mixes, frozen produce, baking ingredients, tea, coffee]|\n",
            "+-------------------------------------------------------------------------------------------------------------------------------------------------------------------------------------------------------------------------------------------------------------------------------------------------------------------------------------------------------------------------------------------------------------------------------------------------------------------------------------------------------------------------------------------------------------------------------------------------------------------------------------------------------------------------------------------------------------------------+\n",
            "\n"
          ],
          "name": "stdout"
        }
      ]
    },
    {
      "cell_type": "code",
      "metadata": {
        "id": "C8wfGX2LqfN9"
      },
      "source": [
        "items_4962 = sparkDf.where(sparkDf.uid==4962).agg(collect_set('aisle'))"
      ],
      "execution_count": null,
      "outputs": []
    },
    {
      "cell_type": "code",
      "metadata": {
        "colab": {
          "base_uri": "https://localhost:8080/"
        },
        "id": "R0KGdEUKqfLx",
        "outputId": "1364a6d7-0974-4ddb-f6cf-7454f4e3d46a"
      },
      "source": [
        "items_4962"
      ],
      "execution_count": null,
      "outputs": [
        {
          "output_type": "execute_result",
          "data": {
            "text/plain": [
              "DataFrame[collect_set(aisle): array<string>]"
            ]
          },
          "metadata": {
            "tags": []
          },
          "execution_count": 61
        }
      ]
    },
    {
      "cell_type": "code",
      "metadata": {
        "id": "TNBtAQT0uBHA"
      },
      "source": [
        "##Convert spark dataframe into python list for iteration\n",
        "items_4962_list = items_4962.select(\"collect_set(aisle)\").rdd.flatMap(list).collect()"
      ],
      "execution_count": null,
      "outputs": []
    },
    {
      "cell_type": "code",
      "metadata": {
        "id": "FJxAduEpucgR"
      },
      "source": [
        "#Run FPGrowth model using spark big list of items\n",
        "fpGrowth = FPGrowth(itemsCol=\"collect_set(aisle)\", minSupport=0.05)\n",
        "model = fpGrowth.fit(mylist_aisle)"
      ],
      "execution_count": null,
      "outputs": []
    },
    {
      "cell_type": "code",
      "metadata": {
        "id": "QdztcIM5us2T"
      },
      "source": [
        "# Store frequent itemsets.\n",
        "results_aisle = model.freqItemsets.collect()\n",
        "# Store frequent itemsets in pandas dataframe.\n",
        "frequent_items_aisle = pd.DataFrame(results_aisle, columns=[\"itemsets\", \"freq\"])\n",
        "# Store length of each itemset in pandas dataframe.\n",
        "frequent_items_aisle['size'] = frequent_items_aisle[\"itemsets\"].apply(lambda x: len(x))\n",
        "\n",
        "# Store support value which is an input for  association_rules function.\n",
        "frequent_items_aisle['support'] = frequent_items_aisle[\"freq\"]/3412\n",
        "#specify suitable parameter values, random values are set below\n",
        "rules_aisle = association_rules(frequent_items_aisle, metric=\"support\", min_threshold=0.05)\n",
        "rules_aisle = rules_aisle.sort_values([\"support\", \"confidence\", \"lift\", \"conviction\"], ascending = (False, False, False, False))"
      ],
      "execution_count": null,
      "outputs": []
    },
    {
      "cell_type": "code",
      "metadata": {
        "id": "kOlSSI9Qvapt"
      },
      "source": [
        "##Convert frozenset string to unicode string\n",
        "rules_aisle[\"antecedents\"] = rules_aisle[\"antecedents\"].apply(lambda x: ', '.join(list(x))).astype(\"unicode\")\n",
        "rules_aisle[\"consequents\"] = rules_aisle[\"consequents\"].apply(lambda x: ', '.join(list(x))).astype(\"unicode\")"
      ],
      "execution_count": null,
      "outputs": []
    },
    {
      "cell_type": "code",
      "metadata": {
        "id": "Que108FXvtYX"
      },
      "source": [
        "newlist = items_4962_list[0]"
      ],
      "execution_count": null,
      "outputs": []
    },
    {
      "cell_type": "code",
      "metadata": {
        "id": "guIe642dqfHZ"
      },
      "source": [
        "##Find all aisles visited by customer id 4962\n",
        "rules_aisle['LHS'] = rules_aisle['antecedents'].str.findall('(' + '|'.join(newlist) + ')')\n",
        "rules_aisle['RHS'] = rules_aisle['consequents'].str.findall('(' + '|'.join(newlist) + ')')"
      ],
      "execution_count": null,
      "outputs": []
    },
    {
      "cell_type": "code",
      "metadata": {
        "colab": {
          "base_uri": "https://localhost:8080/"
        },
        "id": "W71yYk2FqfDP",
        "outputId": "ef213395-d680-4614-e7a4-54f92cedcbfe"
      },
      "source": [
        "##Remove blank rows where the items dont exist\n",
        "custpromo = rules_aisle[rules_aisle['LHS'].astype(bool) & rules_aisle['RHS'].astype(bool)]\n",
        "custpromo = custpromo.iloc[:, :9].sort_values([\"support\", \"confidence\", \"lift\", \"conviction\"], ascending = (False, False, False, False))\n",
        "\n",
        "custpromo.shape"
      ],
      "execution_count": null,
      "outputs": [
        {
          "output_type": "execute_result",
          "data": {
            "text/plain": [
              "(33614, 9)"
            ]
          },
          "metadata": {
            "tags": []
          },
          "execution_count": 68
        }
      ]
    },
    {
      "cell_type": "code",
      "metadata": {
        "colab": {
          "base_uri": "https://localhost:8080/"
        },
        "id": "hut5OfDNqfAH",
        "outputId": "073cdb6d-6e1b-4f14-e2dc-64b4bd736441"
      },
      "source": [
        "custpromo['lift'].describe()"
      ],
      "execution_count": null,
      "outputs": [
        {
          "output_type": "execute_result",
          "data": {
            "text/plain": [
              "count    33614.000000\n",
              "mean         1.324730\n",
              "std          0.179043\n",
              "min          0.821238\n",
              "25%          1.186631\n",
              "50%          1.300495\n",
              "75%          1.438553\n",
              "max          2.122159\n",
              "Name: lift, dtype: float64"
            ]
          },
          "metadata": {
            "tags": []
          },
          "execution_count": 69
        }
      ]
    },
    {
      "cell_type": "code",
      "metadata": {
        "colab": {
          "base_uri": "https://localhost:8080/"
        },
        "id": "NvPuhwW4qe0x",
        "outputId": "be6d23b1-23a5-4371-ec6c-78b9b4f407c7"
      },
      "source": [
        "custpromo['conviction'].describe()"
      ],
      "execution_count": null,
      "outputs": [
        {
          "output_type": "execute_result",
          "data": {
            "text/plain": [
              "count    33614.000000\n",
              "mean         1.277953\n",
              "std          0.543689\n",
              "min          0.734235\n",
              "25%          1.044190\n",
              "50%          1.114838\n",
              "75%          1.297460\n",
              "max         15.754396\n",
              "Name: conviction, dtype: float64"
            ]
          },
          "metadata": {
            "tags": []
          },
          "execution_count": 70
        }
      ]
    },
    {
      "cell_type": "markdown",
      "metadata": {
        "id": "zpp-8oKKC74f"
      },
      "source": [
        "_Complimentary rules suggest bread & fresh vegetables go extremely well with fresh fruits and flat bread_"
      ]
    },
    {
      "cell_type": "code",
      "metadata": {
        "colab": {
          "base_uri": "https://localhost:8080/",
          "height": 80
        },
        "id": "eDVq-MoGqvrc",
        "outputId": "105cfe6b-29a3-47de-8e59-8919ff651dc2"
      },
      "source": [
        "custpromo[(custpromo['lift']>2) & (custpromo['confidence']>.50)]"
      ],
      "execution_count": null,
      "outputs": [
        {
          "output_type": "execute_result",
          "data": {
            "text/html": [
              "<div>\n",
              "<style scoped>\n",
              "    .dataframe tbody tr th:only-of-type {\n",
              "        vertical-align: middle;\n",
              "    }\n",
              "\n",
              "    .dataframe tbody tr th {\n",
              "        vertical-align: top;\n",
              "    }\n",
              "\n",
              "    .dataframe thead th {\n",
              "        text-align: right;\n",
              "    }\n",
              "</style>\n",
              "<table border=\"1\" class=\"dataframe\">\n",
              "  <thead>\n",
              "    <tr style=\"text-align: right;\">\n",
              "      <th></th>\n",
              "      <th>antecedents</th>\n",
              "      <th>consequents</th>\n",
              "      <th>antecedent support</th>\n",
              "      <th>consequent support</th>\n",
              "      <th>support</th>\n",
              "      <th>confidence</th>\n",
              "      <th>lift</th>\n",
              "      <th>leverage</th>\n",
              "      <th>conviction</th>\n",
              "    </tr>\n",
              "  </thead>\n",
              "  <tbody>\n",
              "    <tr>\n",
              "      <th>35423</th>\n",
              "      <td>fresh fruits, tortillas flat bread</td>\n",
              "      <td>fresh vegetables, bread</td>\n",
              "      <td>0.104045</td>\n",
              "      <td>0.251172</td>\n",
              "      <td>0.052462</td>\n",
              "      <td>0.504225</td>\n",
              "      <td>2.007488</td>\n",
              "      <td>0.026329</td>\n",
              "      <td>1.510419</td>\n",
              "    </tr>\n",
              "  </tbody>\n",
              "</table>\n",
              "</div>"
            ],
            "text/plain": [
              "                              antecedents  ... conviction\n",
              "35423  fresh fruits, tortillas flat bread  ...   1.510419\n",
              "\n",
              "[1 rows x 9 columns]"
            ]
          },
          "metadata": {
            "tags": []
          },
          "execution_count": 71
        }
      ]
    },
    {
      "cell_type": "markdown",
      "metadata": {
        "id": "f_vDWyfhDMxX"
      },
      "source": [
        "_Packaged vegetables, fruits, chips go well with fresh fruits and lactose free product and lunch meat, so customer buys lunch meat with an assortment mostly_"
      ]
    },
    {
      "cell_type": "code",
      "metadata": {
        "colab": {
          "base_uri": "https://localhost:8080/",
          "height": 114
        },
        "id": "tVylVT2hqvnR",
        "outputId": "acbc21e7-11c9-4195-9a6e-71f360726c44"
      },
      "source": [
        "custpromo[(custpromo['lift']<2) & (custpromo['lift']>1.95) & (custpromo['confidence']>.50)]"
      ],
      "execution_count": null,
      "outputs": [
        {
          "output_type": "execute_result",
          "data": {
            "text/html": [
              "<div>\n",
              "<style scoped>\n",
              "    .dataframe tbody tr th:only-of-type {\n",
              "        vertical-align: middle;\n",
              "    }\n",
              "\n",
              "    .dataframe tbody tr th {\n",
              "        vertical-align: top;\n",
              "    }\n",
              "\n",
              "    .dataframe thead th {\n",
              "        text-align: right;\n",
              "    }\n",
              "</style>\n",
              "<table border=\"1\" class=\"dataframe\">\n",
              "  <thead>\n",
              "    <tr style=\"text-align: right;\">\n",
              "      <th></th>\n",
              "      <th>antecedents</th>\n",
              "      <th>consequents</th>\n",
              "      <th>antecedent support</th>\n",
              "      <th>consequent support</th>\n",
              "      <th>support</th>\n",
              "      <th>confidence</th>\n",
              "      <th>lift</th>\n",
              "      <th>leverage</th>\n",
              "      <th>conviction</th>\n",
              "    </tr>\n",
              "  </thead>\n",
              "  <tbody>\n",
              "    <tr>\n",
              "      <th>16318</th>\n",
              "      <td>fresh fruits, lunch meat, soy lactosefree</td>\n",
              "      <td>packaged vegetables fruits, chips pretzels</td>\n",
              "      <td>0.100528</td>\n",
              "      <td>0.267585</td>\n",
              "      <td>0.053341</td>\n",
              "      <td>0.530612</td>\n",
              "      <td>1.982967</td>\n",
              "      <td>0.026441</td>\n",
              "      <td>1.560362</td>\n",
              "    </tr>\n",
              "  </tbody>\n",
              "</table>\n",
              "</div>"
            ],
            "text/plain": [
              "                                     antecedents  ... conviction\n",
              "16318  fresh fruits, lunch meat, soy lactosefree  ...   1.560362\n",
              "\n",
              "[1 rows x 9 columns]"
            ]
          },
          "metadata": {
            "tags": []
          },
          "execution_count": 72
        }
      ]
    },
    {
      "cell_type": "markdown",
      "metadata": {
        "id": "ebM3Gz1-Dggv"
      },
      "source": [
        "_Relatively less complimentary rules suggest customer prefers fresh items, he/she prefres yogurt, chips, milk most of the times with fresh fruits or vegetables_"
      ]
    },
    {
      "cell_type": "code",
      "metadata": {
        "colab": {
          "base_uri": "https://localhost:8080/",
          "height": 504
        },
        "id": "Tpu59UvVqvkS",
        "outputId": "e11df289-b696-43ff-9e03-395954334dbd"
      },
      "source": [
        "custpromo[(custpromo['lift']>1) & (custpromo['lift']<1.10) & (custpromo['confidence']>.50)]"
      ],
      "execution_count": null,
      "outputs": [
        {
          "output_type": "execute_result",
          "data": {
            "text/html": [
              "<div>\n",
              "<style scoped>\n",
              "    .dataframe tbody tr th:only-of-type {\n",
              "        vertical-align: middle;\n",
              "    }\n",
              "\n",
              "    .dataframe tbody tr th {\n",
              "        vertical-align: top;\n",
              "    }\n",
              "\n",
              "    .dataframe thead th {\n",
              "        text-align: right;\n",
              "    }\n",
              "</style>\n",
              "<table border=\"1\" class=\"dataframe\">\n",
              "  <thead>\n",
              "    <tr style=\"text-align: right;\">\n",
              "      <th></th>\n",
              "      <th>antecedents</th>\n",
              "      <th>consequents</th>\n",
              "      <th>antecedent support</th>\n",
              "      <th>consequent support</th>\n",
              "      <th>support</th>\n",
              "      <th>confidence</th>\n",
              "      <th>lift</th>\n",
              "      <th>leverage</th>\n",
              "      <th>conviction</th>\n",
              "    </tr>\n",
              "  </thead>\n",
              "  <tbody>\n",
              "    <tr>\n",
              "      <th>0</th>\n",
              "      <td>fresh vegetables</td>\n",
              "      <td>fresh fruits</td>\n",
              "      <td>0.669402</td>\n",
              "      <td>0.830598</td>\n",
              "      <td>0.606389</td>\n",
              "      <td>0.905867</td>\n",
              "      <td>1.090620</td>\n",
              "      <td>0.050385</td>\n",
              "      <td>1.799602</td>\n",
              "    </tr>\n",
              "    <tr>\n",
              "      <th>1</th>\n",
              "      <td>fresh fruits</td>\n",
              "      <td>fresh vegetables</td>\n",
              "      <td>0.830598</td>\n",
              "      <td>0.669402</td>\n",
              "      <td>0.606389</td>\n",
              "      <td>0.730064</td>\n",
              "      <td>1.090620</td>\n",
              "      <td>0.050385</td>\n",
              "      <td>1.224725</td>\n",
              "    </tr>\n",
              "    <tr>\n",
              "      <th>10</th>\n",
              "      <td>packaged vegetables fruits</td>\n",
              "      <td>fresh fruits</td>\n",
              "      <td>0.660023</td>\n",
              "      <td>0.830598</td>\n",
              "      <td>0.590563</td>\n",
              "      <td>0.894760</td>\n",
              "      <td>1.077248</td>\n",
              "      <td>0.042349</td>\n",
              "      <td>1.609677</td>\n",
              "    </tr>\n",
              "    <tr>\n",
              "      <th>11</th>\n",
              "      <td>fresh fruits</td>\n",
              "      <td>packaged vegetables fruits</td>\n",
              "      <td>0.830598</td>\n",
              "      <td>0.660023</td>\n",
              "      <td>0.590563</td>\n",
              "      <td>0.711009</td>\n",
              "      <td>1.077248</td>\n",
              "      <td>0.042349</td>\n",
              "      <td>1.176427</td>\n",
              "    </tr>\n",
              "    <tr>\n",
              "      <th>49</th>\n",
              "      <td>yogurt</td>\n",
              "      <td>fresh fruits</td>\n",
              "      <td>0.516999</td>\n",
              "      <td>0.830598</td>\n",
              "      <td>0.450762</td>\n",
              "      <td>0.871882</td>\n",
              "      <td>1.049704</td>\n",
              "      <td>0.021344</td>\n",
              "      <td>1.322236</td>\n",
              "    </tr>\n",
              "    <tr>\n",
              "      <th>...</th>\n",
              "      <td>...</td>\n",
              "      <td>...</td>\n",
              "      <td>...</td>\n",
              "      <td>...</td>\n",
              "      <td>...</td>\n",
              "      <td>...</td>\n",
              "      <td>...</td>\n",
              "      <td>...</td>\n",
              "      <td>...</td>\n",
              "    </tr>\n",
              "    <tr>\n",
              "      <th>10571</th>\n",
              "      <td>water seltzer sparkling water, milk, chips pretzels</td>\n",
              "      <td>fresh vegetables</td>\n",
              "      <td>0.073857</td>\n",
              "      <td>0.669402</td>\n",
              "      <td>0.050117</td>\n",
              "      <td>0.678571</td>\n",
              "      <td>1.013698</td>\n",
              "      <td>0.000677</td>\n",
              "      <td>1.028527</td>\n",
              "    </tr>\n",
              "    <tr>\n",
              "      <th>31948</th>\n",
              "      <td>chips pretzels, spreads</td>\n",
              "      <td>fresh vegetables, fresh fruits</td>\n",
              "      <td>0.079426</td>\n",
              "      <td>0.606389</td>\n",
              "      <td>0.050117</td>\n",
              "      <td>0.630996</td>\n",
              "      <td>1.040580</td>\n",
              "      <td>0.001954</td>\n",
              "      <td>1.066685</td>\n",
              "    </tr>\n",
              "    <tr>\n",
              "      <th>32491</th>\n",
              "      <td>packaged vegetables fruits, fresh vegetables, fresh fruits, soup broth bouillon</td>\n",
              "      <td>yogurt</td>\n",
              "      <td>0.094373</td>\n",
              "      <td>0.516999</td>\n",
              "      <td>0.050117</td>\n",
              "      <td>0.531056</td>\n",
              "      <td>1.027190</td>\n",
              "      <td>0.001327</td>\n",
              "      <td>1.029976</td>\n",
              "    </tr>\n",
              "    <tr>\n",
              "      <th>6194</th>\n",
              "      <td>packaged vegetables fruits, fresh vegetables, chips pretzels, bread</td>\n",
              "      <td>milk</td>\n",
              "      <td>0.095545</td>\n",
              "      <td>0.485639</td>\n",
              "      <td>0.050117</td>\n",
              "      <td>0.524540</td>\n",
              "      <td>1.080103</td>\n",
              "      <td>0.003717</td>\n",
              "      <td>1.081817</td>\n",
              "    </tr>\n",
              "    <tr>\n",
              "      <th>33432</th>\n",
              "      <td>fresh vegetables, fresh fruits, nuts seeds dried fruit</td>\n",
              "      <td>milk</td>\n",
              "      <td>0.096424</td>\n",
              "      <td>0.485639</td>\n",
              "      <td>0.050117</td>\n",
              "      <td>0.519757</td>\n",
              "      <td>1.070254</td>\n",
              "      <td>0.003290</td>\n",
              "      <td>1.071043</td>\n",
              "    </tr>\n",
              "  </tbody>\n",
              "</table>\n",
              "<p>863 rows × 9 columns</p>\n",
              "</div>"
            ],
            "text/plain": [
              "                                                                           antecedents  ... conviction\n",
              "0                                                                     fresh vegetables  ...   1.799602\n",
              "1                                                                         fresh fruits  ...   1.224725\n",
              "10                                                          packaged vegetables fruits  ...   1.609677\n",
              "11                                                                        fresh fruits  ...   1.176427\n",
              "49                                                                              yogurt  ...   1.322236\n",
              "...                                                                                ...  ...        ...\n",
              "10571                              water seltzer sparkling water, milk, chips pretzels  ...   1.028527\n",
              "31948                                                          chips pretzels, spreads  ...   1.066685\n",
              "32491  packaged vegetables fruits, fresh vegetables, fresh fruits, soup broth bouillon  ...   1.029976\n",
              "6194               packaged vegetables fruits, fresh vegetables, chips pretzels, bread  ...   1.081817\n",
              "33432                           fresh vegetables, fresh fruits, nuts seeds dried fruit  ...   1.071043\n",
              "\n",
              "[863 rows x 9 columns]"
            ]
          },
          "metadata": {
            "tags": []
          },
          "execution_count": 73
        }
      ]
    },
    {
      "cell_type": "markdown",
      "metadata": {
        "id": "tHDlAz3XD1JG"
      },
      "source": [
        "_Substitue rules suggest customer purchase cofee only with fresh items again, with high confidence_"
      ]
    },
    {
      "cell_type": "code",
      "metadata": {
        "colab": {
          "base_uri": "https://localhost:8080/",
          "height": 111
        },
        "id": "3Bn7dEX2qvhA",
        "outputId": "3b682ad4-3880-4bd5-a9c0-3e795ddad268"
      },
      "source": [
        "custpromo[(custpromo['lift']<.90) & (custpromo['confidence']>.50)]"
      ],
      "execution_count": null,
      "outputs": [
        {
          "output_type": "execute_result",
          "data": {
            "text/html": [
              "<div>\n",
              "<style scoped>\n",
              "    .dataframe tbody tr th:only-of-type {\n",
              "        vertical-align: middle;\n",
              "    }\n",
              "\n",
              "    .dataframe tbody tr th {\n",
              "        vertical-align: top;\n",
              "    }\n",
              "\n",
              "    .dataframe thead th {\n",
              "        text-align: right;\n",
              "    }\n",
              "</style>\n",
              "<table border=\"1\" class=\"dataframe\">\n",
              "  <thead>\n",
              "    <tr style=\"text-align: right;\">\n",
              "      <th></th>\n",
              "      <th>antecedents</th>\n",
              "      <th>consequents</th>\n",
              "      <th>antecedent support</th>\n",
              "      <th>consequent support</th>\n",
              "      <th>support</th>\n",
              "      <th>confidence</th>\n",
              "      <th>lift</th>\n",
              "      <th>leverage</th>\n",
              "      <th>conviction</th>\n",
              "    </tr>\n",
              "  </thead>\n",
              "  <tbody>\n",
              "    <tr>\n",
              "      <th>35619</th>\n",
              "      <td>coffee</td>\n",
              "      <td>fresh vegetables</td>\n",
              "      <td>0.111958</td>\n",
              "      <td>0.669402</td>\n",
              "      <td>0.061547</td>\n",
              "      <td>0.549738</td>\n",
              "      <td>0.821238</td>\n",
              "      <td>-0.013397</td>\n",
              "      <td>0.734235</td>\n",
              "    </tr>\n",
              "    <tr>\n",
              "      <th>35625</th>\n",
              "      <td>coffee</td>\n",
              "      <td>fresh vegetables, fresh fruits</td>\n",
              "      <td>0.111958</td>\n",
              "      <td>0.606389</td>\n",
              "      <td>0.056565</td>\n",
              "      <td>0.505236</td>\n",
              "      <td>0.833187</td>\n",
              "      <td>-0.011325</td>\n",
              "      <td>0.795552</td>\n",
              "    </tr>\n",
              "  </tbody>\n",
              "</table>\n",
              "</div>"
            ],
            "text/plain": [
              "      antecedents                     consequents  ...  leverage  conviction\n",
              "35619      coffee                fresh vegetables  ... -0.013397    0.734235\n",
              "35625      coffee  fresh vegetables, fresh fruits  ... -0.011325    0.795552\n",
              "\n",
              "[2 rows x 9 columns]"
            ]
          },
          "metadata": {
            "tags": []
          },
          "execution_count": 74
        }
      ]
    },
    {
      "cell_type": "markdown",
      "metadata": {
        "id": "frrNakhVEAjA"
      },
      "source": [
        "_Checking for milk, customer prefers milk again with fresh items or dry fruits or nuts_"
      ]
    },
    {
      "cell_type": "code",
      "metadata": {
        "colab": {
          "base_uri": "https://localhost:8080/",
          "height": 521
        },
        "id": "lxdRZE1OqvP2",
        "outputId": "1263efe5-132b-4975-9d4d-76d0f58e7031"
      },
      "source": [
        "custpromo[(custpromo['antecedents'].str.contains('milk')) & (custpromo['confidence']>.50)]"
      ],
      "execution_count": null,
      "outputs": [
        {
          "output_type": "execute_result",
          "data": {
            "text/html": [
              "<div>\n",
              "<style scoped>\n",
              "    .dataframe tbody tr th:only-of-type {\n",
              "        vertical-align: middle;\n",
              "    }\n",
              "\n",
              "    .dataframe tbody tr th {\n",
              "        vertical-align: top;\n",
              "    }\n",
              "\n",
              "    .dataframe thead th {\n",
              "        text-align: right;\n",
              "    }\n",
              "</style>\n",
              "<table border=\"1\" class=\"dataframe\">\n",
              "  <thead>\n",
              "    <tr style=\"text-align: right;\">\n",
              "      <th></th>\n",
              "      <th>antecedents</th>\n",
              "      <th>consequents</th>\n",
              "      <th>antecedent support</th>\n",
              "      <th>consequent support</th>\n",
              "      <th>support</th>\n",
              "      <th>confidence</th>\n",
              "      <th>lift</th>\n",
              "      <th>leverage</th>\n",
              "      <th>conviction</th>\n",
              "    </tr>\n",
              "  </thead>\n",
              "  <tbody>\n",
              "    <tr>\n",
              "      <th>600</th>\n",
              "      <td>milk</td>\n",
              "      <td>fresh fruits</td>\n",
              "      <td>0.485639</td>\n",
              "      <td>0.830598</td>\n",
              "      <td>0.432298</td>\n",
              "      <td>0.890163</td>\n",
              "      <td>1.071713</td>\n",
              "      <td>0.028927</td>\n",
              "      <td>1.542304</td>\n",
              "    </tr>\n",
              "    <tr>\n",
              "      <th>501</th>\n",
              "      <td>milk</td>\n",
              "      <td>fresh vegetables</td>\n",
              "      <td>0.485639</td>\n",
              "      <td>0.669402</td>\n",
              "      <td>0.338804</td>\n",
              "      <td>0.697646</td>\n",
              "      <td>1.042193</td>\n",
              "      <td>0.013717</td>\n",
              "      <td>1.093415</td>\n",
              "    </tr>\n",
              "    <tr>\n",
              "      <th>181</th>\n",
              "      <td>milk</td>\n",
              "      <td>packaged vegetables fruits</td>\n",
              "      <td>0.485639</td>\n",
              "      <td>0.660023</td>\n",
              "      <td>0.338218</td>\n",
              "      <td>0.696439</td>\n",
              "      <td>1.055174</td>\n",
              "      <td>0.017685</td>\n",
              "      <td>1.119963</td>\n",
              "    </tr>\n",
              "    <tr>\n",
              "      <th>502</th>\n",
              "      <td>milk, fresh vegetables</td>\n",
              "      <td>fresh fruits</td>\n",
              "      <td>0.338804</td>\n",
              "      <td>0.830598</td>\n",
              "      <td>0.316823</td>\n",
              "      <td>0.935121</td>\n",
              "      <td>1.125841</td>\n",
              "      <td>0.035413</td>\n",
              "      <td>2.611051</td>\n",
              "    </tr>\n",
              "    <tr>\n",
              "      <th>504</th>\n",
              "      <td>milk, fresh fruits</td>\n",
              "      <td>fresh vegetables</td>\n",
              "      <td>0.432298</td>\n",
              "      <td>0.669402</td>\n",
              "      <td>0.316823</td>\n",
              "      <td>0.732881</td>\n",
              "      <td>1.094830</td>\n",
              "      <td>0.027442</td>\n",
              "      <td>1.237644</td>\n",
              "    </tr>\n",
              "    <tr>\n",
              "      <th>...</th>\n",
              "      <td>...</td>\n",
              "      <td>...</td>\n",
              "      <td>...</td>\n",
              "      <td>...</td>\n",
              "      <td>...</td>\n",
              "      <td>...</td>\n",
              "      <td>...</td>\n",
              "      <td>...</td>\n",
              "      <td>...</td>\n",
              "    </tr>\n",
              "    <tr>\n",
              "      <th>25820</th>\n",
              "      <td>milk, breakfast bakery, yogurt</td>\n",
              "      <td>packaged vegetables fruits, fresh vegetables</td>\n",
              "      <td>0.084408</td>\n",
              "      <td>0.504396</td>\n",
              "      <td>0.050117</td>\n",
              "      <td>0.593750</td>\n",
              "      <td>1.177150</td>\n",
              "      <td>0.007542</td>\n",
              "      <td>1.219948</td>\n",
              "    </tr>\n",
              "    <tr>\n",
              "      <th>25821</th>\n",
              "      <td>packaged vegetables fruits, milk, breakfast bakery</td>\n",
              "      <td>fresh vegetables, yogurt</td>\n",
              "      <td>0.086460</td>\n",
              "      <td>0.374853</td>\n",
              "      <td>0.050117</td>\n",
              "      <td>0.579661</td>\n",
              "      <td>1.546367</td>\n",
              "      <td>0.017708</td>\n",
              "      <td>1.487244</td>\n",
              "    </tr>\n",
              "    <tr>\n",
              "      <th>6206</th>\n",
              "      <td>milk, chips pretzels, bread</td>\n",
              "      <td>packaged vegetables fruits, fresh vegetables</td>\n",
              "      <td>0.088511</td>\n",
              "      <td>0.504396</td>\n",
              "      <td>0.050117</td>\n",
              "      <td>0.566225</td>\n",
              "      <td>1.122580</td>\n",
              "      <td>0.005473</td>\n",
              "      <td>1.142537</td>\n",
              "    </tr>\n",
              "    <tr>\n",
              "      <th>5025</th>\n",
              "      <td>packaged cheese, milk, fresh fruits, soy lactosefree</td>\n",
              "      <td>bread</td>\n",
              "      <td>0.096717</td>\n",
              "      <td>0.348476</td>\n",
              "      <td>0.050117</td>\n",
              "      <td>0.518182</td>\n",
              "      <td>1.486994</td>\n",
              "      <td>0.016414</td>\n",
              "      <td>1.352220</td>\n",
              "    </tr>\n",
              "    <tr>\n",
              "      <th>18062</th>\n",
              "      <td>packaged vegetables fruits, milk, fresh fruits, fresh dips tapenades</td>\n",
              "      <td>packaged cheese, yogurt</td>\n",
              "      <td>0.099355</td>\n",
              "      <td>0.296307</td>\n",
              "      <td>0.050117</td>\n",
              "      <td>0.504425</td>\n",
              "      <td>1.702371</td>\n",
              "      <td>0.020678</td>\n",
              "      <td>1.419952</td>\n",
              "    </tr>\n",
              "  </tbody>\n",
              "</table>\n",
              "<p>2036 rows × 9 columns</p>\n",
              "</div>"
            ],
            "text/plain": [
              "                                                                antecedents  ... conviction\n",
              "600                                                                    milk  ...   1.542304\n",
              "501                                                                    milk  ...   1.093415\n",
              "181                                                                    milk  ...   1.119963\n",
              "502                                                  milk, fresh vegetables  ...   2.611051\n",
              "504                                                      milk, fresh fruits  ...   1.237644\n",
              "...                                                                     ...  ...        ...\n",
              "25820                                        milk, breakfast bakery, yogurt  ...   1.219948\n",
              "25821                    packaged vegetables fruits, milk, breakfast bakery  ...   1.487244\n",
              "6206                                            milk, chips pretzels, bread  ...   1.142537\n",
              "5025                   packaged cheese, milk, fresh fruits, soy lactosefree  ...   1.352220\n",
              "18062  packaged vegetables fruits, milk, fresh fruits, fresh dips tapenades  ...   1.419952\n",
              "\n",
              "[2036 rows x 9 columns]"
            ]
          },
          "metadata": {
            "tags": []
          },
          "execution_count": 75
        }
      ]
    },
    {
      "cell_type": "markdown",
      "metadata": {
        "id": "14sSw1LjEKDp"
      },
      "source": [
        "_Same insights of fresh items and refrigerated items hold true_"
      ]
    },
    {
      "cell_type": "code",
      "metadata": {
        "colab": {
          "base_uri": "https://localhost:8080/",
          "height": 470
        },
        "id": "UHpOy7xcqvGB",
        "outputId": "e65e13fb-06f3-4f6e-a4d4-1b22979462cb"
      },
      "source": [
        "custpromo[(custpromo['antecedents'].str.contains('refrigerated')) & (custpromo['confidence']>.50)]"
      ],
      "execution_count": null,
      "outputs": [
        {
          "output_type": "execute_result",
          "data": {
            "text/html": [
              "<div>\n",
              "<style scoped>\n",
              "    .dataframe tbody tr th:only-of-type {\n",
              "        vertical-align: middle;\n",
              "    }\n",
              "\n",
              "    .dataframe tbody tr th {\n",
              "        vertical-align: top;\n",
              "    }\n",
              "\n",
              "    .dataframe thead th {\n",
              "        text-align: right;\n",
              "    }\n",
              "</style>\n",
              "<table border=\"1\" class=\"dataframe\">\n",
              "  <thead>\n",
              "    <tr style=\"text-align: right;\">\n",
              "      <th></th>\n",
              "      <th>antecedents</th>\n",
              "      <th>consequents</th>\n",
              "      <th>antecedent support</th>\n",
              "      <th>consequent support</th>\n",
              "      <th>support</th>\n",
              "      <th>confidence</th>\n",
              "      <th>lift</th>\n",
              "      <th>leverage</th>\n",
              "      <th>conviction</th>\n",
              "    </tr>\n",
              "  </thead>\n",
              "  <tbody>\n",
              "    <tr>\n",
              "      <th>9046</th>\n",
              "      <td>refrigerated</td>\n",
              "      <td>fresh fruits</td>\n",
              "      <td>0.308030</td>\n",
              "      <td>0.830598</td>\n",
              "      <td>0.270809</td>\n",
              "      <td>0.879163</td>\n",
              "      <td>1.058470</td>\n",
              "      <td>0.014959</td>\n",
              "      <td>1.401903</td>\n",
              "    </tr>\n",
              "    <tr>\n",
              "      <th>8469</th>\n",
              "      <td>refrigerated</td>\n",
              "      <td>fresh vegetables</td>\n",
              "      <td>0.308030</td>\n",
              "      <td>0.669402</td>\n",
              "      <td>0.213658</td>\n",
              "      <td>0.693625</td>\n",
              "      <td>1.036186</td>\n",
              "      <td>0.007461</td>\n",
              "      <td>1.079063</td>\n",
              "    </tr>\n",
              "    <tr>\n",
              "      <th>7125</th>\n",
              "      <td>refrigerated</td>\n",
              "      <td>packaged vegetables fruits</td>\n",
              "      <td>0.308030</td>\n",
              "      <td>0.660023</td>\n",
              "      <td>0.213365</td>\n",
              "      <td>0.692674</td>\n",
              "      <td>1.049468</td>\n",
              "      <td>0.010057</td>\n",
              "      <td>1.106239</td>\n",
              "    </tr>\n",
              "    <tr>\n",
              "      <th>8470</th>\n",
              "      <td>refrigerated, fresh vegetables</td>\n",
              "      <td>fresh fruits</td>\n",
              "      <td>0.213658</td>\n",
              "      <td>0.830598</td>\n",
              "      <td>0.196952</td>\n",
              "      <td>0.921811</td>\n",
              "      <td>1.109816</td>\n",
              "      <td>0.019488</td>\n",
              "      <td>2.166564</td>\n",
              "    </tr>\n",
              "    <tr>\n",
              "      <th>8472</th>\n",
              "      <td>refrigerated, fresh fruits</td>\n",
              "      <td>fresh vegetables</td>\n",
              "      <td>0.270809</td>\n",
              "      <td>0.669402</td>\n",
              "      <td>0.196952</td>\n",
              "      <td>0.727273</td>\n",
              "      <td>1.086451</td>\n",
              "      <td>0.015672</td>\n",
              "      <td>1.212192</td>\n",
              "    </tr>\n",
              "    <tr>\n",
              "      <th>...</th>\n",
              "      <td>...</td>\n",
              "      <td>...</td>\n",
              "      <td>...</td>\n",
              "      <td>...</td>\n",
              "      <td>...</td>\n",
              "      <td>...</td>\n",
              "      <td>...</td>\n",
              "      <td>...</td>\n",
              "      <td>...</td>\n",
              "    </tr>\n",
              "    <tr>\n",
              "      <th>19095</th>\n",
              "      <td>packaged vegetables fruits, refrigerated, fresh dips tapenades</td>\n",
              "      <td>fresh vegetables</td>\n",
              "      <td>0.061254</td>\n",
              "      <td>0.669402</td>\n",
              "      <td>0.050117</td>\n",
              "      <td>0.818182</td>\n",
              "      <td>1.222258</td>\n",
              "      <td>0.009113</td>\n",
              "      <td>1.818288</td>\n",
              "    </tr>\n",
              "    <tr>\n",
              "      <th>19101</th>\n",
              "      <td>refrigerated, fresh dips tapenades</td>\n",
              "      <td>packaged vegetables fruits, fresh vegetables</td>\n",
              "      <td>0.075615</td>\n",
              "      <td>0.504396</td>\n",
              "      <td>0.050117</td>\n",
              "      <td>0.662791</td>\n",
              "      <td>1.314028</td>\n",
              "      <td>0.011977</td>\n",
              "      <td>1.469721</td>\n",
              "    </tr>\n",
              "    <tr>\n",
              "      <th>22437</th>\n",
              "      <td>refrigerated, fresh fruits, energy granola bars</td>\n",
              "      <td>milk</td>\n",
              "      <td>0.080598</td>\n",
              "      <td>0.485639</td>\n",
              "      <td>0.050117</td>\n",
              "      <td>0.621818</td>\n",
              "      <td>1.280413</td>\n",
              "      <td>0.010976</td>\n",
              "      <td>1.360089</td>\n",
              "    </tr>\n",
              "    <tr>\n",
              "      <th>22442</th>\n",
              "      <td>refrigerated, energy granola bars</td>\n",
              "      <td>milk, fresh fruits</td>\n",
              "      <td>0.091149</td>\n",
              "      <td>0.432298</td>\n",
              "      <td>0.050117</td>\n",
              "      <td>0.549839</td>\n",
              "      <td>1.271899</td>\n",
              "      <td>0.010714</td>\n",
              "      <td>1.261110</td>\n",
              "    </tr>\n",
              "    <tr>\n",
              "      <th>10358</th>\n",
              "      <td>water seltzer sparkling water, refrigerated</td>\n",
              "      <td>packaged cheese</td>\n",
              "      <td>0.092321</td>\n",
              "      <td>0.490035</td>\n",
              "      <td>0.050117</td>\n",
              "      <td>0.542857</td>\n",
              "      <td>1.107792</td>\n",
              "      <td>0.004877</td>\n",
              "      <td>1.115548</td>\n",
              "    </tr>\n",
              "  </tbody>\n",
              "</table>\n",
              "<p>676 rows × 9 columns</p>\n",
              "</div>"
            ],
            "text/plain": [
              "                                                          antecedents  ... conviction\n",
              "9046                                                     refrigerated  ...   1.401903\n",
              "8469                                                     refrigerated  ...   1.079063\n",
              "7125                                                     refrigerated  ...   1.106239\n",
              "8470                                   refrigerated, fresh vegetables  ...   2.166564\n",
              "8472                                       refrigerated, fresh fruits  ...   1.212192\n",
              "...                                                               ...  ...        ...\n",
              "19095  packaged vegetables fruits, refrigerated, fresh dips tapenades  ...   1.818288\n",
              "19101                              refrigerated, fresh dips tapenades  ...   1.469721\n",
              "22437                 refrigerated, fresh fruits, energy granola bars  ...   1.360089\n",
              "22442                               refrigerated, energy granola bars  ...   1.261110\n",
              "10358                     water seltzer sparkling water, refrigerated  ...   1.115548\n",
              "\n",
              "[676 rows x 9 columns]"
            ]
          },
          "metadata": {
            "tags": []
          },
          "execution_count": 76
        }
      ]
    },
    {
      "cell_type": "markdown",
      "metadata": {
        "id": "6QNu0GoaEPVf"
      },
      "source": [
        "_Almost same insights hold true for lunch meat and fresh vegetables or fruits_"
      ]
    },
    {
      "cell_type": "code",
      "metadata": {
        "colab": {
          "base_uri": "https://localhost:8080/",
          "height": 521
        },
        "id": "J5LMSJUmqu7Q",
        "outputId": "dc63de59-b287-49da-fd42-7a6f407fff0d"
      },
      "source": [
        "custpromo[(custpromo['antecedents'].str.contains('lunch meat')) & (custpromo['confidence']>.50)]"
      ],
      "execution_count": null,
      "outputs": [
        {
          "output_type": "execute_result",
          "data": {
            "text/html": [
              "<div>\n",
              "<style scoped>\n",
              "    .dataframe tbody tr th:only-of-type {\n",
              "        vertical-align: middle;\n",
              "    }\n",
              "\n",
              "    .dataframe tbody tr th {\n",
              "        vertical-align: top;\n",
              "    }\n",
              "\n",
              "    .dataframe thead th {\n",
              "        text-align: right;\n",
              "    }\n",
              "</style>\n",
              "<table border=\"1\" class=\"dataframe\">\n",
              "  <thead>\n",
              "    <tr style=\"text-align: right;\">\n",
              "      <th></th>\n",
              "      <th>antecedents</th>\n",
              "      <th>consequents</th>\n",
              "      <th>antecedent support</th>\n",
              "      <th>consequent support</th>\n",
              "      <th>support</th>\n",
              "      <th>confidence</th>\n",
              "      <th>lift</th>\n",
              "      <th>leverage</th>\n",
              "      <th>conviction</th>\n",
              "    </tr>\n",
              "  </thead>\n",
              "  <tbody>\n",
              "    <tr>\n",
              "      <th>17105</th>\n",
              "      <td>lunch meat</td>\n",
              "      <td>fresh fruits</td>\n",
              "      <td>0.272860</td>\n",
              "      <td>0.830598</td>\n",
              "      <td>0.237691</td>\n",
              "      <td>0.871106</td>\n",
              "      <td>1.048770</td>\n",
              "      <td>0.011053</td>\n",
              "      <td>1.314278</td>\n",
              "    </tr>\n",
              "    <tr>\n",
              "      <th>15067</th>\n",
              "      <td>lunch meat</td>\n",
              "      <td>packaged vegetables fruits</td>\n",
              "      <td>0.272860</td>\n",
              "      <td>0.660023</td>\n",
              "      <td>0.207796</td>\n",
              "      <td>0.761547</td>\n",
              "      <td>1.153818</td>\n",
              "      <td>0.027702</td>\n",
              "      <td>1.425758</td>\n",
              "    </tr>\n",
              "    <tr>\n",
              "      <th>16479</th>\n",
              "      <td>lunch meat</td>\n",
              "      <td>fresh vegetables</td>\n",
              "      <td>0.272860</td>\n",
              "      <td>0.669402</td>\n",
              "      <td>0.194607</td>\n",
              "      <td>0.713212</td>\n",
              "      <td>1.065446</td>\n",
              "      <td>0.011954</td>\n",
              "      <td>1.152759</td>\n",
              "    </tr>\n",
              "    <tr>\n",
              "      <th>15089</th>\n",
              "      <td>packaged vegetables fruits, lunch meat</td>\n",
              "      <td>fresh fruits</td>\n",
              "      <td>0.207796</td>\n",
              "      <td>0.830598</td>\n",
              "      <td>0.189332</td>\n",
              "      <td>0.911142</td>\n",
              "      <td>1.096972</td>\n",
              "      <td>0.016737</td>\n",
              "      <td>1.906446</td>\n",
              "    </tr>\n",
              "    <tr>\n",
              "      <th>15090</th>\n",
              "      <td>fresh fruits, lunch meat</td>\n",
              "      <td>packaged vegetables fruits</td>\n",
              "      <td>0.237691</td>\n",
              "      <td>0.660023</td>\n",
              "      <td>0.189332</td>\n",
              "      <td>0.796547</td>\n",
              "      <td>1.206847</td>\n",
              "      <td>0.032450</td>\n",
              "      <td>1.671036</td>\n",
              "    </tr>\n",
              "    <tr>\n",
              "      <th>...</th>\n",
              "      <td>...</td>\n",
              "      <td>...</td>\n",
              "      <td>...</td>\n",
              "      <td>...</td>\n",
              "      <td>...</td>\n",
              "      <td>...</td>\n",
              "      <td>...</td>\n",
              "      <td>...</td>\n",
              "      <td>...</td>\n",
              "    </tr>\n",
              "    <tr>\n",
              "      <th>15049</th>\n",
              "      <td>fresh fruits, crackers, lunch meat</td>\n",
              "      <td>chips pretzels</td>\n",
              "      <td>0.082943</td>\n",
              "      <td>0.377784</td>\n",
              "      <td>0.050117</td>\n",
              "      <td>0.604240</td>\n",
              "      <td>1.599432</td>\n",
              "      <td>0.018783</td>\n",
              "      <td>1.572206</td>\n",
              "    </tr>\n",
              "    <tr>\n",
              "      <th>14989</th>\n",
              "      <td>crackers, lunch meat</td>\n",
              "      <td>packaged cheese, fresh fruits, packaged vegetables fruits</td>\n",
              "      <td>0.092614</td>\n",
              "      <td>0.329132</td>\n",
              "      <td>0.050117</td>\n",
              "      <td>0.541139</td>\n",
              "      <td>1.644138</td>\n",
              "      <td>0.019635</td>\n",
              "      <td>1.462029</td>\n",
              "    </tr>\n",
              "    <tr>\n",
              "      <th>15055</th>\n",
              "      <td>crackers, lunch meat</td>\n",
              "      <td>fresh fruits, chips pretzels</td>\n",
              "      <td>0.092614</td>\n",
              "      <td>0.333236</td>\n",
              "      <td>0.050117</td>\n",
              "      <td>0.541139</td>\n",
              "      <td>1.623894</td>\n",
              "      <td>0.019255</td>\n",
              "      <td>1.453086</td>\n",
              "    </tr>\n",
              "    <tr>\n",
              "      <th>19389</th>\n",
              "      <td>fresh dips tapenades, lunch meat</td>\n",
              "      <td>packaged cheese, fresh vegetables</td>\n",
              "      <td>0.096424</td>\n",
              "      <td>0.366061</td>\n",
              "      <td>0.050117</td>\n",
              "      <td>0.519757</td>\n",
              "      <td>1.419864</td>\n",
              "      <td>0.014820</td>\n",
              "      <td>1.320038</td>\n",
              "    </tr>\n",
              "    <tr>\n",
              "      <th>15365</th>\n",
              "      <td>packaged cheese, yogurt, lunch meat</td>\n",
              "      <td>packaged vegetables fruits, milk</td>\n",
              "      <td>0.097011</td>\n",
              "      <td>0.338218</td>\n",
              "      <td>0.050117</td>\n",
              "      <td>0.516616</td>\n",
              "      <td>1.527465</td>\n",
              "      <td>0.017307</td>\n",
              "      <td>1.369061</td>\n",
              "    </tr>\n",
              "  </tbody>\n",
              "</table>\n",
              "<p>844 rows × 9 columns</p>\n",
              "</div>"
            ],
            "text/plain": [
              "                                  antecedents  ... conviction\n",
              "17105                              lunch meat  ...   1.314278\n",
              "15067                              lunch meat  ...   1.425758\n",
              "16479                              lunch meat  ...   1.152759\n",
              "15089  packaged vegetables fruits, lunch meat  ...   1.906446\n",
              "15090                fresh fruits, lunch meat  ...   1.671036\n",
              "...                                       ...  ...        ...\n",
              "15049      fresh fruits, crackers, lunch meat  ...   1.572206\n",
              "14989                    crackers, lunch meat  ...   1.462029\n",
              "15055                    crackers, lunch meat  ...   1.453086\n",
              "19389        fresh dips tapenades, lunch meat  ...   1.320038\n",
              "15365     packaged cheese, yogurt, lunch meat  ...   1.369061\n",
              "\n",
              "[844 rows x 9 columns]"
            ]
          },
          "metadata": {
            "tags": []
          },
          "execution_count": 77
        }
      ]
    },
    {
      "cell_type": "markdown",
      "metadata": {
        "id": "jelQCzy-xCOl"
      },
      "source": [
        "__Combined level for Customer 4962__"
      ]
    },
    {
      "cell_type": "code",
      "metadata": {
        "id": "0FxFM6dixEdl"
      },
      "source": [
        "##Find unique list of aisle visitted by this customer\n",
        "pnames_4962 = sparkDf.where(sparkDf.uid==4962).agg(collect_set('pname_aisle_department'))"
      ],
      "execution_count": null,
      "outputs": []
    },
    {
      "cell_type": "code",
      "metadata": {
        "id": "30NPK6j2xVIC"
      },
      "source": [
        "##Convert spark dataframe into python list for iteration\n",
        "pnames_4962_list = pnames_4962.select(\"collect_set(pname_aisle_department)\").rdd.flatMap(list).collect()"
      ],
      "execution_count": null,
      "outputs": []
    },
    {
      "cell_type": "code",
      "metadata": {
        "id": "8dZz6OHpxVBZ"
      },
      "source": [
        "newlist_pname = pnames_4962_list[0]"
      ],
      "execution_count": null,
      "outputs": []
    },
    {
      "cell_type": "code",
      "metadata": {
        "colab": {
          "base_uri": "https://localhost:8080/"
        },
        "id": "YgUaKm-QxU-V",
        "outputId": "ab89f276-5393-404c-ad86-2f139a0fd38f"
      },
      "source": [
        "len(newlist_pname)"
      ],
      "execution_count": null,
      "outputs": [
        {
          "output_type": "execute_result",
          "data": {
            "text/plain": [
              "129"
            ]
          },
          "metadata": {
            "tags": []
          },
          "execution_count": 81
        }
      ]
    },
    {
      "cell_type": "code",
      "metadata": {
        "id": "A5H81chaxv-6"
      },
      "source": [
        "#Run FPGrowth model using spark big list of items\n",
        "fpGrowth = FPGrowth(itemsCol=\"collect_set(pname_aisle_department)\", minSupport=0.01)\n",
        "model = fpGrowth.fit(mylist_combined)"
      ],
      "execution_count": null,
      "outputs": []
    },
    {
      "cell_type": "code",
      "metadata": {
        "id": "YuoRlV83xv6o"
      },
      "source": [
        "# Store frequent itemsets.\n",
        "results_combined = model.freqItemsets.collect()\n",
        "# Store frequent itemsets in pandas dataframe.\n",
        "frequent_items_combined = pd.DataFrame(results_combined, columns=[\"itemsets\", \"freq\"])\n",
        "# Store length of each itemset in pandas dataframe.\n",
        "frequent_items_combined['size'] = frequent_items_combined[\"itemsets\"].apply(lambda x: len(x))\n",
        "\n",
        "# Store support value which is an input for  association_rules function.\n",
        "frequent_items_combined['support'] = frequent_items_combined[\"freq\"]/3412\n",
        "#specify suitable parameter values, random values are set below\n",
        "rules_combined = association_rules(frequent_items_combined, metric=\"support\", min_threshold=0.01)\n",
        "rules_combined = rules_combined.sort_values([\"support\", \"confidence\", \"lift\", \"conviction\"], ascending = (False, False, False, False))"
      ],
      "execution_count": null,
      "outputs": []
    },
    {
      "cell_type": "code",
      "metadata": {
        "colab": {
          "base_uri": "https://localhost:8080/"
        },
        "id": "KqfDjLzIxv3F",
        "outputId": "42b4656a-16c5-459d-eb54-e2e5f9d4de42"
      },
      "source": [
        "rules_combined.shape"
      ],
      "execution_count": null,
      "outputs": [
        {
          "output_type": "execute_result",
          "data": {
            "text/plain": [
              "(7452, 9)"
            ]
          },
          "metadata": {
            "tags": []
          },
          "execution_count": 84
        }
      ]
    },
    {
      "cell_type": "code",
      "metadata": {
        "colab": {
          "base_uri": "https://localhost:8080/"
        },
        "id": "dZmGOV2Zxvtt",
        "outputId": "23f4ed3e-e8aa-4d04-df92-4869df08d094"
      },
      "source": [
        "##Convert frozenset string to unicode string\n",
        "rules_combined[\"antecedents\"] = rules_combined[\"antecedents\"].apply(lambda x: ', '.join(list(x))).astype(\"unicode\")\n",
        "rules_combined[\"consequents\"] = rules_combined[\"consequents\"].apply(lambda x: ', '.join(list(x))).astype(\"unicode\")\n",
        "\n",
        "##Find all items purchased by customer id 4962\n",
        "rules_combined['LHS'] = rules_combined['antecedents'].str.findall('(' + '|'.join(newlist_pname) + ')')\n",
        "rules_combined['RHS'] = rules_combined['consequents'].str.findall('(' + '|'.join(newlist_pname) + ')')\n",
        "\n",
        "##Remove blank rows where the items dont exist\n",
        "custpromo_combined = rules_combined[rules_combined['LHS'].astype(bool) & rules_combined['RHS'].astype(bool)]\n",
        "custpromo_combined = custpromo_combined.iloc[:, :9].sort_values([\"support\", \"confidence\", \"lift\", \"conviction\"], ascending = (False, False, False, False))\n",
        "\n",
        "custpromo_combined.shape"
      ],
      "execution_count": null,
      "outputs": [
        {
          "output_type": "execute_result",
          "data": {
            "text/plain": [
              "(306, 9)"
            ]
          },
          "metadata": {
            "tags": []
          },
          "execution_count": 85
        }
      ]
    },
    {
      "cell_type": "code",
      "metadata": {
        "colab": {
          "base_uri": "https://localhost:8080/"
        },
        "id": "G3BCp5HhxUzX",
        "outputId": "cb1348bd-1f74-4409-a7a1-00e5c8d19cdf"
      },
      "source": [
        "custpromo_combined['lift'].describe()"
      ],
      "execution_count": null,
      "outputs": [
        {
          "output_type": "execute_result",
          "data": {
            "text/plain": [
              "count    306.000000\n",
              "mean       2.325428\n",
              "std        2.968031\n",
              "min        0.649333\n",
              "25%        1.620133\n",
              "50%        1.892518\n",
              "75%        2.423128\n",
              "max       37.516204\n",
              "Name: lift, dtype: float64"
            ]
          },
          "metadata": {
            "tags": []
          },
          "execution_count": 86
        }
      ]
    },
    {
      "cell_type": "code",
      "metadata": {
        "colab": {
          "base_uri": "https://localhost:8080/"
        },
        "id": "RPu8t6k6zEWI",
        "outputId": "dc531891-5e05-42a5-e7b9-adab48ef0ae0"
      },
      "source": [
        "custpromo_combined['conviction'].describe()"
      ],
      "execution_count": null,
      "outputs": [
        {
          "output_type": "execute_result",
          "data": {
            "text/plain": [
              "count    306.000000\n",
              "mean       1.237258\n",
              "std        0.326239\n",
              "min        0.895930\n",
              "25%        1.032637\n",
              "50%        1.114310\n",
              "75%        1.306565\n",
              "max        3.311694\n",
              "Name: conviction, dtype: float64"
            ]
          },
          "metadata": {
            "tags": []
          },
          "execution_count": 87
        }
      ]
    },
    {
      "cell_type": "markdown",
      "metadata": {
        "id": "la04RkTrFel_"
      },
      "source": [
        "_Organic products go very well with each other with high confidence and complimentarity_"
      ]
    },
    {
      "cell_type": "code",
      "metadata": {
        "colab": {
          "base_uri": "https://localhost:8080/",
          "height": 857
        },
        "id": "hQyYqI2FzGpg",
        "outputId": "d6852b58-041c-41ab-c83a-4d914a4a3b68"
      },
      "source": [
        "custpromo_combined[(custpromo_combined['lift']>2) & (custpromo_combined['confidence']> 0.60)]"
      ],
      "execution_count": null,
      "outputs": [
        {
          "output_type": "execute_result",
          "data": {
            "text/html": [
              "<div>\n",
              "<style scoped>\n",
              "    .dataframe tbody tr th:only-of-type {\n",
              "        vertical-align: middle;\n",
              "    }\n",
              "\n",
              "    .dataframe tbody tr th {\n",
              "        vertical-align: top;\n",
              "    }\n",
              "\n",
              "    .dataframe thead th {\n",
              "        text-align: right;\n",
              "    }\n",
              "</style>\n",
              "<table border=\"1\" class=\"dataframe\">\n",
              "  <thead>\n",
              "    <tr style=\"text-align: right;\">\n",
              "      <th></th>\n",
              "      <th>antecedents</th>\n",
              "      <th>consequents</th>\n",
              "      <th>antecedent support</th>\n",
              "      <th>consequent support</th>\n",
              "      <th>support</th>\n",
              "      <th>confidence</th>\n",
              "      <th>lift</th>\n",
              "      <th>leverage</th>\n",
              "      <th>conviction</th>\n",
              "    </tr>\n",
              "  </thead>\n",
              "  <tbody>\n",
              "    <tr>\n",
              "      <th>420</th>\n",
              "      <td>Organic Whole String Cheese::packaged cheese::dairy eggs, Bag of Organic Bananas::fresh fruits::produce</td>\n",
              "      <td>Organic Strawberries::fresh fruits::produce</td>\n",
              "      <td>0.034291</td>\n",
              "      <td>0.250293</td>\n",
              "      <td>0.021102</td>\n",
              "      <td>0.615385</td>\n",
              "      <td>2.458656</td>\n",
              "      <td>0.012519</td>\n",
              "      <td>1.949238</td>\n",
              "    </tr>\n",
              "    <tr>\n",
              "      <th>294</th>\n",
              "      <td>Organic Large Extra Fancy Fuji Apple::fresh fruits::produce, Organic Hass Avocado::fresh fruits::produce</td>\n",
              "      <td>Bag of Organic Bananas::fresh fruits::produce</td>\n",
              "      <td>0.027550</td>\n",
              "      <td>0.248828</td>\n",
              "      <td>0.018757</td>\n",
              "      <td>0.680851</td>\n",
              "      <td>2.736235</td>\n",
              "      <td>0.011902</td>\n",
              "      <td>2.353673</td>\n",
              "    </tr>\n",
              "    <tr>\n",
              "      <th>940</th>\n",
              "      <td>Honeycrisp Apple::fresh fruits::produce, Bag of Organic Bananas::fresh fruits::produce</td>\n",
              "      <td>Organic Strawberries::fresh fruits::produce</td>\n",
              "      <td>0.024326</td>\n",
              "      <td>0.250293</td>\n",
              "      <td>0.016706</td>\n",
              "      <td>0.686747</td>\n",
              "      <td>2.743771</td>\n",
              "      <td>0.010617</td>\n",
              "      <td>2.393295</td>\n",
              "    </tr>\n",
              "    <tr>\n",
              "      <th>933</th>\n",
              "      <td>Honeycrisp Apple::fresh fruits::produce, Organic Hass Avocado::fresh fruits::produce</td>\n",
              "      <td>Organic Strawberries::fresh fruits::produce</td>\n",
              "      <td>0.024912</td>\n",
              "      <td>0.250293</td>\n",
              "      <td>0.016706</td>\n",
              "      <td>0.670588</td>\n",
              "      <td>2.679212</td>\n",
              "      <td>0.010470</td>\n",
              "      <td>2.275896</td>\n",
              "    </tr>\n",
              "    <tr>\n",
              "      <th>932</th>\n",
              "      <td>Honeycrisp Apple::fresh fruits::produce, Organic Strawberries::fresh fruits::produce</td>\n",
              "      <td>Organic Hass Avocado::fresh fruits::produce</td>\n",
              "      <td>0.027550</td>\n",
              "      <td>0.213658</td>\n",
              "      <td>0.016706</td>\n",
              "      <td>0.606383</td>\n",
              "      <td>2.838105</td>\n",
              "      <td>0.010820</td>\n",
              "      <td>1.997735</td>\n",
              "    </tr>\n",
              "    <tr>\n",
              "      <th>941</th>\n",
              "      <td>Honeycrisp Apple::fresh fruits::produce, Organic Strawberries::fresh fruits::produce</td>\n",
              "      <td>Bag of Organic Bananas::fresh fruits::produce</td>\n",
              "      <td>0.027550</td>\n",
              "      <td>0.248828</td>\n",
              "      <td>0.016706</td>\n",
              "      <td>0.606383</td>\n",
              "      <td>2.436960</td>\n",
              "      <td>0.009851</td>\n",
              "      <td>1.908384</td>\n",
              "    </tr>\n",
              "    <tr>\n",
              "      <th>376</th>\n",
              "      <td>Organic Whole String Cheese::packaged cheese::dairy eggs, Organic Hass Avocado::fresh fruits::produce</td>\n",
              "      <td>Organic Strawberries::fresh fruits::produce</td>\n",
              "      <td>0.025791</td>\n",
              "      <td>0.250293</td>\n",
              "      <td>0.015826</td>\n",
              "      <td>0.613636</td>\n",
              "      <td>2.451671</td>\n",
              "      <td>0.009371</td>\n",
              "      <td>1.940418</td>\n",
              "    </tr>\n",
              "    <tr>\n",
              "      <th>912</th>\n",
              "      <td>Honeycrisp Apple::fresh fruits::produce, Bag of Organic Bananas::fresh fruits::produce</td>\n",
              "      <td>Organic Hass Avocado::fresh fruits::produce</td>\n",
              "      <td>0.024326</td>\n",
              "      <td>0.213658</td>\n",
              "      <td>0.014947</td>\n",
              "      <td>0.614458</td>\n",
              "      <td>2.875899</td>\n",
              "      <td>0.009750</td>\n",
              "      <td>2.039575</td>\n",
              "    </tr>\n",
              "    <tr>\n",
              "      <th>68</th>\n",
              "      <td>Organic Raspberries::packaged vegetables fruits::produce, Organic Strawberries::fresh fruits::produce, Organic Hass Avocado::fresh fruits::produce</td>\n",
              "      <td>Bag of Organic Bananas::fresh fruits::produce</td>\n",
              "      <td>0.019930</td>\n",
              "      <td>0.248828</td>\n",
              "      <td>0.012016</td>\n",
              "      <td>0.602941</td>\n",
              "      <td>2.423128</td>\n",
              "      <td>0.007057</td>\n",
              "      <td>1.891841</td>\n",
              "    </tr>\n",
              "    <tr>\n",
              "      <th>918</th>\n",
              "      <td>Honeycrisp Apple::fresh fruits::produce, Bag of Organic Bananas::fresh fruits::produce, Organic Hass Avocado::fresh fruits::produce</td>\n",
              "      <td>Organic Strawberries::fresh fruits::produce</td>\n",
              "      <td>0.014947</td>\n",
              "      <td>0.250293</td>\n",
              "      <td>0.011137</td>\n",
              "      <td>0.745098</td>\n",
              "      <td>2.976902</td>\n",
              "      <td>0.007396</td>\n",
              "      <td>2.941158</td>\n",
              "    </tr>\n",
              "    <tr>\n",
              "      <th>1038</th>\n",
              "      <td>Enlightened Organic Raw Kombucha::refrigerated::beverages</td>\n",
              "      <td>Trilogy Kombucha Drink::refrigerated::beverages</td>\n",
              "      <td>0.015826</td>\n",
              "      <td>0.018757</td>\n",
              "      <td>0.011137</td>\n",
              "      <td>0.703704</td>\n",
              "      <td>37.516204</td>\n",
              "      <td>0.010840</td>\n",
              "      <td>3.311694</td>\n",
              "    </tr>\n",
              "    <tr>\n",
              "      <th>919</th>\n",
              "      <td>Honeycrisp Apple::fresh fruits::produce, Bag of Organic Bananas::fresh fruits::produce, Organic Strawberries::fresh fruits::produce</td>\n",
              "      <td>Organic Hass Avocado::fresh fruits::produce</td>\n",
              "      <td>0.016706</td>\n",
              "      <td>0.213658</td>\n",
              "      <td>0.011137</td>\n",
              "      <td>0.666667</td>\n",
              "      <td>3.120256</td>\n",
              "      <td>0.007568</td>\n",
              "      <td>2.359027</td>\n",
              "    </tr>\n",
              "    <tr>\n",
              "      <th>920</th>\n",
              "      <td>Honeycrisp Apple::fresh fruits::produce, Organic Strawberries::fresh fruits::produce, Organic Hass Avocado::fresh fruits::produce</td>\n",
              "      <td>Bag of Organic Bananas::fresh fruits::produce</td>\n",
              "      <td>0.016706</td>\n",
              "      <td>0.248828</td>\n",
              "      <td>0.011137</td>\n",
              "      <td>0.666667</td>\n",
              "      <td>2.679230</td>\n",
              "      <td>0.006980</td>\n",
              "      <td>2.253517</td>\n",
              "    </tr>\n",
              "    <tr>\n",
              "      <th>28</th>\n",
              "      <td>Organic Baby Spinach::packaged vegetables fruits::produce, Bag of Organic Bananas::fresh fruits::produce, Organic Strawberries::fresh fruits::produce</td>\n",
              "      <td>Organic Hass Avocado::fresh fruits::produce</td>\n",
              "      <td>0.016120</td>\n",
              "      <td>0.213658</td>\n",
              "      <td>0.010844</td>\n",
              "      <td>0.672727</td>\n",
              "      <td>3.148622</td>\n",
              "      <td>0.007400</td>\n",
              "      <td>2.402713</td>\n",
              "    </tr>\n",
              "  </tbody>\n",
              "</table>\n",
              "</div>"
            ],
            "text/plain": [
              "                                                                                                                                                antecedents  ... conviction\n",
              "420                                                 Organic Whole String Cheese::packaged cheese::dairy eggs, Bag of Organic Bananas::fresh fruits::produce  ...   1.949238\n",
              "294                                                Organic Large Extra Fancy Fuji Apple::fresh fruits::produce, Organic Hass Avocado::fresh fruits::produce  ...   2.353673\n",
              "940                                                                  Honeycrisp Apple::fresh fruits::produce, Bag of Organic Bananas::fresh fruits::produce  ...   2.393295\n",
              "933                                                                    Honeycrisp Apple::fresh fruits::produce, Organic Hass Avocado::fresh fruits::produce  ...   2.275896\n",
              "932                                                                    Honeycrisp Apple::fresh fruits::produce, Organic Strawberries::fresh fruits::produce  ...   1.997735\n",
              "941                                                                    Honeycrisp Apple::fresh fruits::produce, Organic Strawberries::fresh fruits::produce  ...   1.908384\n",
              "376                                                   Organic Whole String Cheese::packaged cheese::dairy eggs, Organic Hass Avocado::fresh fruits::produce  ...   1.940418\n",
              "912                                                                  Honeycrisp Apple::fresh fruits::produce, Bag of Organic Bananas::fresh fruits::produce  ...   2.039575\n",
              "68       Organic Raspberries::packaged vegetables fruits::produce, Organic Strawberries::fresh fruits::produce, Organic Hass Avocado::fresh fruits::produce  ...   1.891841\n",
              "918                     Honeycrisp Apple::fresh fruits::produce, Bag of Organic Bananas::fresh fruits::produce, Organic Hass Avocado::fresh fruits::produce  ...   2.941158\n",
              "1038                                                                                              Enlightened Organic Raw Kombucha::refrigerated::beverages  ...   3.311694\n",
              "919                     Honeycrisp Apple::fresh fruits::produce, Bag of Organic Bananas::fresh fruits::produce, Organic Strawberries::fresh fruits::produce  ...   2.359027\n",
              "920                       Honeycrisp Apple::fresh fruits::produce, Organic Strawberries::fresh fruits::produce, Organic Hass Avocado::fresh fruits::produce  ...   2.253517\n",
              "28    Organic Baby Spinach::packaged vegetables fruits::produce, Bag of Organic Bananas::fresh fruits::produce, Organic Strawberries::fresh fruits::produce  ...   2.402713\n",
              "\n",
              "[14 rows x 9 columns]"
            ]
          },
          "metadata": {
            "tags": []
          },
          "execution_count": 88
        }
      ]
    },
    {
      "cell_type": "markdown",
      "metadata": {
        "id": "sg6e4yRdFowH"
      },
      "source": [
        "_Some organic fruits like cucumber, pear, apples go well with other organic items_"
      ]
    },
    {
      "cell_type": "code",
      "metadata": {
        "colab": {
          "base_uri": "https://localhost:8080/",
          "height": 1000
        },
        "id": "iVAHj0M3zKH7",
        "outputId": "fd5346e8-c569-4c10-fdff-d779d54c5a30"
      },
      "source": [
        "custpromo_combined[(custpromo_combined['lift']<1.5)]"
      ],
      "execution_count": null,
      "outputs": [
        {
          "output_type": "execute_result",
          "data": {
            "text/html": [
              "<div>\n",
              "<style scoped>\n",
              "    .dataframe tbody tr th:only-of-type {\n",
              "        vertical-align: middle;\n",
              "    }\n",
              "\n",
              "    .dataframe tbody tr th {\n",
              "        vertical-align: top;\n",
              "    }\n",
              "\n",
              "    .dataframe thead th {\n",
              "        text-align: right;\n",
              "    }\n",
              "</style>\n",
              "<table border=\"1\" class=\"dataframe\">\n",
              "  <thead>\n",
              "    <tr style=\"text-align: right;\">\n",
              "      <th></th>\n",
              "      <th>antecedents</th>\n",
              "      <th>consequents</th>\n",
              "      <th>antecedent support</th>\n",
              "      <th>consequent support</th>\n",
              "      <th>support</th>\n",
              "      <th>confidence</th>\n",
              "      <th>lift</th>\n",
              "      <th>leverage</th>\n",
              "      <th>conviction</th>\n",
              "    </tr>\n",
              "  </thead>\n",
              "  <tbody>\n",
              "    <tr>\n",
              "      <th>2</th>\n",
              "      <td>Bag of Organic Bananas::fresh fruits::produce</td>\n",
              "      <td>Organic Strawberries::fresh fruits::produce</td>\n",
              "      <td>0.248828</td>\n",
              "      <td>0.250293</td>\n",
              "      <td>0.074443</td>\n",
              "      <td>0.299176</td>\n",
              "      <td>1.195301</td>\n",
              "      <td>0.012163</td>\n",
              "      <td>1.069750</td>\n",
              "    </tr>\n",
              "    <tr>\n",
              "      <th>3</th>\n",
              "      <td>Organic Strawberries::fresh fruits::produce</td>\n",
              "      <td>Bag of Organic Bananas::fresh fruits::produce</td>\n",
              "      <td>0.250293</td>\n",
              "      <td>0.248828</td>\n",
              "      <td>0.074443</td>\n",
              "      <td>0.297424</td>\n",
              "      <td>1.195301</td>\n",
              "      <td>0.012163</td>\n",
              "      <td>1.069169</td>\n",
              "    </tr>\n",
              "    <tr>\n",
              "      <th>552</th>\n",
              "      <td>Organic Yellow Onion::fresh vegetables::produce</td>\n",
              "      <td>Organic Strawberries::fresh fruits::produce</td>\n",
              "      <td>0.074736</td>\n",
              "      <td>0.250293</td>\n",
              "      <td>0.025791</td>\n",
              "      <td>0.345098</td>\n",
              "      <td>1.378776</td>\n",
              "      <td>0.007085</td>\n",
              "      <td>1.144762</td>\n",
              "    </tr>\n",
              "    <tr>\n",
              "      <th>553</th>\n",
              "      <td>Organic Strawberries::fresh fruits::produce</td>\n",
              "      <td>Organic Yellow Onion::fresh vegetables::produce</td>\n",
              "      <td>0.250293</td>\n",
              "      <td>0.074736</td>\n",
              "      <td>0.025791</td>\n",
              "      <td>0.103044</td>\n",
              "      <td>1.378776</td>\n",
              "      <td>0.007085</td>\n",
              "      <td>1.031560</td>\n",
              "    </tr>\n",
              "    <tr>\n",
              "      <th>645</th>\n",
              "      <td>Organic Cucumber::fresh vegetables::produce</td>\n",
              "      <td>Bag of Organic Bananas::fresh fruits::produce</td>\n",
              "      <td>0.072392</td>\n",
              "      <td>0.248828</td>\n",
              "      <td>0.023740</td>\n",
              "      <td>0.327935</td>\n",
              "      <td>1.317921</td>\n",
              "      <td>0.005727</td>\n",
              "      <td>1.117708</td>\n",
              "    </tr>\n",
              "    <tr>\n",
              "      <th>576</th>\n",
              "      <td>Organic Garlic::fresh vegetables::produce</td>\n",
              "      <td>Bag of Organic Bananas::fresh fruits::produce</td>\n",
              "      <td>0.072978</td>\n",
              "      <td>0.248828</td>\n",
              "      <td>0.023740</td>\n",
              "      <td>0.325301</td>\n",
              "      <td>1.307335</td>\n",
              "      <td>0.005581</td>\n",
              "      <td>1.113345</td>\n",
              "    </tr>\n",
              "    <tr>\n",
              "      <th>644</th>\n",
              "      <td>Bag of Organic Bananas::fresh fruits::produce</td>\n",
              "      <td>Organic Cucumber::fresh vegetables::produce</td>\n",
              "      <td>0.248828</td>\n",
              "      <td>0.072392</td>\n",
              "      <td>0.023740</td>\n",
              "      <td>0.095406</td>\n",
              "      <td>1.317921</td>\n",
              "      <td>0.005727</td>\n",
              "      <td>1.025442</td>\n",
              "    </tr>\n",
              "    <tr>\n",
              "      <th>577</th>\n",
              "      <td>Bag of Organic Bananas::fresh fruits::produce</td>\n",
              "      <td>Organic Garlic::fresh vegetables::produce</td>\n",
              "      <td>0.248828</td>\n",
              "      <td>0.072978</td>\n",
              "      <td>0.023740</td>\n",
              "      <td>0.095406</td>\n",
              "      <td>1.307335</td>\n",
              "      <td>0.005581</td>\n",
              "      <td>1.024794</td>\n",
              "    </tr>\n",
              "    <tr>\n",
              "      <th>834</th>\n",
              "      <td>Organic Bartlett Pear::fresh fruits::produce</td>\n",
              "      <td>Organic Strawberries::fresh fruits::produce</td>\n",
              "      <td>0.062427</td>\n",
              "      <td>0.250293</td>\n",
              "      <td>0.021981</td>\n",
              "      <td>0.352113</td>\n",
              "      <td>1.406801</td>\n",
              "      <td>0.006356</td>\n",
              "      <td>1.157156</td>\n",
              "    </tr>\n",
              "    <tr>\n",
              "      <th>835</th>\n",
              "      <td>Organic Strawberries::fresh fruits::produce</td>\n",
              "      <td>Organic Bartlett Pear::fresh fruits::produce</td>\n",
              "      <td>0.250293</td>\n",
              "      <td>0.062427</td>\n",
              "      <td>0.021981</td>\n",
              "      <td>0.087822</td>\n",
              "      <td>1.406801</td>\n",
              "      <td>0.006356</td>\n",
              "      <td>1.027840</td>\n",
              "    </tr>\n",
              "    <tr>\n",
              "      <th>846</th>\n",
              "      <td>Organic Baby Arugula::packaged vegetables fruits::produce</td>\n",
              "      <td>Bag of Organic Bananas::fresh fruits::produce</td>\n",
              "      <td>0.061254</td>\n",
              "      <td>0.248828</td>\n",
              "      <td>0.021102</td>\n",
              "      <td>0.344498</td>\n",
              "      <td>1.384483</td>\n",
              "      <td>0.005860</td>\n",
              "      <td>1.145949</td>\n",
              "    </tr>\n",
              "    <tr>\n",
              "      <th>532</th>\n",
              "      <td>Organic Yellow Onion::fresh vegetables::produce</td>\n",
              "      <td>Organic Hass Avocado::fresh fruits::produce</td>\n",
              "      <td>0.074736</td>\n",
              "      <td>0.213658</td>\n",
              "      <td>0.021102</td>\n",
              "      <td>0.282353</td>\n",
              "      <td>1.321520</td>\n",
              "      <td>0.005134</td>\n",
              "      <td>1.095723</td>\n",
              "    </tr>\n",
              "    <tr>\n",
              "      <th>533</th>\n",
              "      <td>Organic Hass Avocado::fresh fruits::produce</td>\n",
              "      <td>Organic Yellow Onion::fresh vegetables::produce</td>\n",
              "      <td>0.213658</td>\n",
              "      <td>0.074736</td>\n",
              "      <td>0.021102</td>\n",
              "      <td>0.098765</td>\n",
              "      <td>1.321520</td>\n",
              "      <td>0.005134</td>\n",
              "      <td>1.026663</td>\n",
              "    </tr>\n",
              "    <tr>\n",
              "      <th>847</th>\n",
              "      <td>Bag of Organic Bananas::fresh fruits::produce</td>\n",
              "      <td>Organic Baby Arugula::packaged vegetables fruits::produce</td>\n",
              "      <td>0.248828</td>\n",
              "      <td>0.061254</td>\n",
              "      <td>0.021102</td>\n",
              "      <td>0.084806</td>\n",
              "      <td>1.384483</td>\n",
              "      <td>0.005860</td>\n",
              "      <td>1.025734</td>\n",
              "    </tr>\n",
              "    <tr>\n",
              "      <th>96</th>\n",
              "      <td>Organic Raspberries::packaged vegetables fruits::produce, Bag of Organic Bananas::fresh fruits::produce</td>\n",
              "      <td>Organic Strawberries::fresh fruits::produce</td>\n",
              "      <td>0.058910</td>\n",
              "      <td>0.250293</td>\n",
              "      <td>0.020223</td>\n",
              "      <td>0.343284</td>\n",
              "      <td>1.371526</td>\n",
              "      <td>0.005478</td>\n",
              "      <td>1.141599</td>\n",
              "    </tr>\n",
              "    <tr>\n",
              "      <th>101</th>\n",
              "      <td>Organic Strawberries::fresh fruits::produce</td>\n",
              "      <td>Organic Raspberries::packaged vegetables fruits::produce, Bag of Organic Bananas::fresh fruits::produce</td>\n",
              "      <td>0.250293</td>\n",
              "      <td>0.058910</td>\n",
              "      <td>0.020223</td>\n",
              "      <td>0.080796</td>\n",
              "      <td>1.371526</td>\n",
              "      <td>0.005478</td>\n",
              "      <td>1.023810</td>\n",
              "    </tr>\n",
              "    <tr>\n",
              "      <th>613</th>\n",
              "      <td>Organic Kiwi::fresh fruits::produce</td>\n",
              "      <td>Bag of Organic Bananas::fresh fruits::produce</td>\n",
              "      <td>0.072685</td>\n",
              "      <td>0.248828</td>\n",
              "      <td>0.019930</td>\n",
              "      <td>0.274194</td>\n",
              "      <td>1.101942</td>\n",
              "      <td>0.001844</td>\n",
              "      <td>1.034949</td>\n",
              "    </tr>\n",
              "    <tr>\n",
              "      <th>612</th>\n",
              "      <td>Bag of Organic Bananas::fresh fruits::produce</td>\n",
              "      <td>Organic Kiwi::fresh fruits::produce</td>\n",
              "      <td>0.248828</td>\n",
              "      <td>0.072685</td>\n",
              "      <td>0.019930</td>\n",
              "      <td>0.080094</td>\n",
              "      <td>1.101942</td>\n",
              "      <td>0.001844</td>\n",
              "      <td>1.008055</td>\n",
              "    </tr>\n",
              "    <tr>\n",
              "      <th>856</th>\n",
              "      <td>Organic Baby Arugula::packaged vegetables fruits::produce</td>\n",
              "      <td>Organic Strawberries::fresh fruits::produce</td>\n",
              "      <td>0.061254</td>\n",
              "      <td>0.250293</td>\n",
              "      <td>0.019637</td>\n",
              "      <td>0.320574</td>\n",
              "      <td>1.280795</td>\n",
              "      <td>0.004305</td>\n",
              "      <td>1.103442</td>\n",
              "    </tr>\n",
              "    <tr>\n",
              "      <th>857</th>\n",
              "      <td>Organic Strawberries::fresh fruits::produce</td>\n",
              "      <td>Organic Baby Arugula::packaged vegetables fruits::produce</td>\n",
              "      <td>0.250293</td>\n",
              "      <td>0.061254</td>\n",
              "      <td>0.019637</td>\n",
              "      <td>0.078454</td>\n",
              "      <td>1.280795</td>\n",
              "      <td>0.004305</td>\n",
              "      <td>1.018664</td>\n",
              "    </tr>\n",
              "    <tr>\n",
              "      <th>908</th>\n",
              "      <td>Organic Italian Parsley Bunch::fresh herbs::produce</td>\n",
              "      <td>Organic Strawberries::fresh fruits::produce</td>\n",
              "      <td>0.053341</td>\n",
              "      <td>0.250293</td>\n",
              "      <td>0.018757</td>\n",
              "      <td>0.351648</td>\n",
              "      <td>1.404946</td>\n",
              "      <td>0.005406</td>\n",
              "      <td>1.156328</td>\n",
              "    </tr>\n",
              "    <tr>\n",
              "      <th>909</th>\n",
              "      <td>Organic Strawberries::fresh fruits::produce</td>\n",
              "      <td>Organic Italian Parsley Bunch::fresh herbs::produce</td>\n",
              "      <td>0.250293</td>\n",
              "      <td>0.053341</td>\n",
              "      <td>0.018757</td>\n",
              "      <td>0.074941</td>\n",
              "      <td>1.404946</td>\n",
              "      <td>0.005406</td>\n",
              "      <td>1.023350</td>\n",
              "    </tr>\n",
              "    <tr>\n",
              "      <th>906</th>\n",
              "      <td>Organic Italian Parsley Bunch::fresh herbs::produce</td>\n",
              "      <td>Bag of Organic Bananas::fresh fruits::produce</td>\n",
              "      <td>0.053341</td>\n",
              "      <td>0.248828</td>\n",
              "      <td>0.018464</td>\n",
              "      <td>0.346154</td>\n",
              "      <td>1.391139</td>\n",
              "      <td>0.005191</td>\n",
              "      <td>1.148852</td>\n",
              "    </tr>\n",
              "    <tr>\n",
              "      <th>877</th>\n",
              "      <td>Seedless Red Grapes::packaged vegetables fruits::produce</td>\n",
              "      <td>Bag of Organic Bananas::fresh fruits::produce</td>\n",
              "      <td>0.054807</td>\n",
              "      <td>0.248828</td>\n",
              "      <td>0.018464</td>\n",
              "      <td>0.336898</td>\n",
              "      <td>1.353943</td>\n",
              "      <td>0.004827</td>\n",
              "      <td>1.132816</td>\n",
              "    </tr>\n",
              "    <tr>\n",
              "      <th>883</th>\n",
              "      <td>Seedless Red Grapes::packaged vegetables fruits::produce</td>\n",
              "      <td>Organic Strawberries::fresh fruits::produce</td>\n",
              "      <td>0.054807</td>\n",
              "      <td>0.250293</td>\n",
              "      <td>0.018464</td>\n",
              "      <td>0.336898</td>\n",
              "      <td>1.346016</td>\n",
              "      <td>0.004747</td>\n",
              "      <td>1.130606</td>\n",
              "    </tr>\n",
              "    <tr>\n",
              "      <th>907</th>\n",
              "      <td>Bag of Organic Bananas::fresh fruits::produce</td>\n",
              "      <td>Organic Italian Parsley Bunch::fresh herbs::produce</td>\n",
              "      <td>0.248828</td>\n",
              "      <td>0.053341</td>\n",
              "      <td>0.018464</td>\n",
              "      <td>0.074205</td>\n",
              "      <td>1.391139</td>\n",
              "      <td>0.005191</td>\n",
              "      <td>1.022536</td>\n",
              "    </tr>\n",
              "    <tr>\n",
              "      <th>876</th>\n",
              "      <td>Bag of Organic Bananas::fresh fruits::produce</td>\n",
              "      <td>Seedless Red Grapes::packaged vegetables fruits::produce</td>\n",
              "      <td>0.248828</td>\n",
              "      <td>0.054807</td>\n",
              "      <td>0.018464</td>\n",
              "      <td>0.074205</td>\n",
              "      <td>1.353943</td>\n",
              "      <td>0.004827</td>\n",
              "      <td>1.020953</td>\n",
              "    </tr>\n",
              "    <tr>\n",
              "      <th>882</th>\n",
              "      <td>Organic Strawberries::fresh fruits::produce</td>\n",
              "      <td>Seedless Red Grapes::packaged vegetables fruits::produce</td>\n",
              "      <td>0.250293</td>\n",
              "      <td>0.054807</td>\n",
              "      <td>0.018464</td>\n",
              "      <td>0.073770</td>\n",
              "      <td>1.346016</td>\n",
              "      <td>0.004747</td>\n",
              "      <td>1.020474</td>\n",
              "    </tr>\n",
              "    <tr>\n",
              "      <th>48</th>\n",
              "      <td>Organic Baby Spinach::packaged vegetables fruits::produce, Bag of Organic Bananas::fresh fruits::produce</td>\n",
              "      <td>Organic Strawberries::fresh fruits::produce</td>\n",
              "      <td>0.044842</td>\n",
              "      <td>0.250293</td>\n",
              "      <td>0.016120</td>\n",
              "      <td>0.359477</td>\n",
              "      <td>1.436225</td>\n",
              "      <td>0.004896</td>\n",
              "      <td>1.170461</td>\n",
              "    </tr>\n",
              "    <tr>\n",
              "      <th>49</th>\n",
              "      <td>Organic Baby Spinach::packaged vegetables fruits::produce, Organic Strawberries::fresh fruits::produce</td>\n",
              "      <td>Bag of Organic Bananas::fresh fruits::produce</td>\n",
              "      <td>0.050410</td>\n",
              "      <td>0.248828</td>\n",
              "      <td>0.016120</td>\n",
              "      <td>0.319767</td>\n",
              "      <td>1.285096</td>\n",
              "      <td>0.003576</td>\n",
              "      <td>1.104288</td>\n",
              "    </tr>\n",
              "    <tr>\n",
              "      <th>900</th>\n",
              "      <td>Organic Italian Parsley Bunch::fresh herbs::produce</td>\n",
              "      <td>Organic Hass Avocado::fresh fruits::produce</td>\n",
              "      <td>0.053341</td>\n",
              "      <td>0.213658</td>\n",
              "      <td>0.016120</td>\n",
              "      <td>0.302198</td>\n",
              "      <td>1.414402</td>\n",
              "      <td>0.004723</td>\n",
              "      <td>1.126884</td>\n",
              "    </tr>\n",
              "    <tr>\n",
              "      <th>901</th>\n",
              "      <td>Organic Hass Avocado::fresh fruits::produce</td>\n",
              "      <td>Organic Italian Parsley Bunch::fresh herbs::produce</td>\n",
              "      <td>0.213658</td>\n",
              "      <td>0.053341</td>\n",
              "      <td>0.016120</td>\n",
              "      <td>0.075446</td>\n",
              "      <td>1.414402</td>\n",
              "      <td>0.004723</td>\n",
              "      <td>1.023908</td>\n",
              "    </tr>\n",
              "    <tr>\n",
              "      <th>52</th>\n",
              "      <td>Bag of Organic Bananas::fresh fruits::produce</td>\n",
              "      <td>Organic Baby Spinach::packaged vegetables fruits::produce, Organic Strawberries::fresh fruits::produce</td>\n",
              "      <td>0.248828</td>\n",
              "      <td>0.050410</td>\n",
              "      <td>0.016120</td>\n",
              "      <td>0.064782</td>\n",
              "      <td>1.285096</td>\n",
              "      <td>0.003576</td>\n",
              "      <td>1.015367</td>\n",
              "    </tr>\n",
              "    <tr>\n",
              "      <th>53</th>\n",
              "      <td>Organic Strawberries::fresh fruits::produce</td>\n",
              "      <td>Organic Baby Spinach::packaged vegetables fruits::produce, Bag of Organic Bananas::fresh fruits::produce</td>\n",
              "      <td>0.250293</td>\n",
              "      <td>0.044842</td>\n",
              "      <td>0.016120</td>\n",
              "      <td>0.064403</td>\n",
              "      <td>1.436225</td>\n",
              "      <td>0.004896</td>\n",
              "      <td>1.020908</td>\n",
              "    </tr>\n",
              "    <tr>\n",
              "      <th>1015</th>\n",
              "      <td>Organic Gala Apples::fresh fruits::produce</td>\n",
              "      <td>Bag of Organic Bananas::fresh fruits::produce</td>\n",
              "      <td>0.049824</td>\n",
              "      <td>0.248828</td>\n",
              "      <td>0.015533</td>\n",
              "      <td>0.311765</td>\n",
              "      <td>1.252934</td>\n",
              "      <td>0.003136</td>\n",
              "      <td>1.091447</td>\n",
              "    </tr>\n",
              "    <tr>\n",
              "      <th>163</th>\n",
              "      <td>Organic Strawberries::fresh fruits::produce, Organic Whole Milk::milk::dairy eggs</td>\n",
              "      <td>Bag of Organic Bananas::fresh fruits::produce</td>\n",
              "      <td>0.053341</td>\n",
              "      <td>0.248828</td>\n",
              "      <td>0.015533</td>\n",
              "      <td>0.291209</td>\n",
              "      <td>1.170323</td>\n",
              "      <td>0.002261</td>\n",
              "      <td>1.059794</td>\n",
              "    </tr>\n",
              "    <tr>\n",
              "      <th>1014</th>\n",
              "      <td>Bag of Organic Bananas::fresh fruits::produce</td>\n",
              "      <td>Organic Gala Apples::fresh fruits::produce</td>\n",
              "      <td>0.248828</td>\n",
              "      <td>0.049824</td>\n",
              "      <td>0.015533</td>\n",
              "      <td>0.062426</td>\n",
              "      <td>1.252934</td>\n",
              "      <td>0.003136</td>\n",
              "      <td>1.013441</td>\n",
              "    </tr>\n",
              "    <tr>\n",
              "      <th>166</th>\n",
              "      <td>Bag of Organic Bananas::fresh fruits::produce</td>\n",
              "      <td>Organic Strawberries::fresh fruits::produce, Organic Whole Milk::milk::dairy eggs</td>\n",
              "      <td>0.248828</td>\n",
              "      <td>0.053341</td>\n",
              "      <td>0.015533</td>\n",
              "      <td>0.062426</td>\n",
              "      <td>1.170323</td>\n",
              "      <td>0.002261</td>\n",
              "      <td>1.009690</td>\n",
              "    </tr>\n",
              "    <tr>\n",
              "      <th>830</th>\n",
              "      <td>Organic Bartlett Pear::fresh fruits::produce</td>\n",
              "      <td>Bag of Organic Bananas::fresh fruits::produce</td>\n",
              "      <td>0.062427</td>\n",
              "      <td>0.248828</td>\n",
              "      <td>0.014947</td>\n",
              "      <td>0.239437</td>\n",
              "      <td>0.962259</td>\n",
              "      <td>-0.000586</td>\n",
              "      <td>0.987653</td>\n",
              "    </tr>\n",
              "    <tr>\n",
              "      <th>831</th>\n",
              "      <td>Bag of Organic Bananas::fresh fruits::produce</td>\n",
              "      <td>Organic Bartlett Pear::fresh fruits::produce</td>\n",
              "      <td>0.248828</td>\n",
              "      <td>0.062427</td>\n",
              "      <td>0.014947</td>\n",
              "      <td>0.060071</td>\n",
              "      <td>0.962259</td>\n",
              "      <td>-0.000586</td>\n",
              "      <td>0.997493</td>\n",
              "    </tr>\n",
              "    <tr>\n",
              "      <th>824</th>\n",
              "      <td>Organic Bartlett Pear::fresh fruits::produce</td>\n",
              "      <td>Organic Hass Avocado::fresh fruits::produce</td>\n",
              "      <td>0.062427</td>\n",
              "      <td>0.213658</td>\n",
              "      <td>0.013775</td>\n",
              "      <td>0.220657</td>\n",
              "      <td>1.032761</td>\n",
              "      <td>0.000437</td>\n",
              "      <td>1.008981</td>\n",
              "    </tr>\n",
              "    <tr>\n",
              "      <th>825</th>\n",
              "      <td>Organic Hass Avocado::fresh fruits::produce</td>\n",
              "      <td>Organic Bartlett Pear::fresh fruits::produce</td>\n",
              "      <td>0.213658</td>\n",
              "      <td>0.062427</td>\n",
              "      <td>0.013775</td>\n",
              "      <td>0.064472</td>\n",
              "      <td>1.032761</td>\n",
              "      <td>0.000437</td>\n",
              "      <td>1.002186</td>\n",
              "    </tr>\n",
              "    <tr>\n",
              "      <th>1019</th>\n",
              "      <td>Organic Gala Apples::fresh fruits::produce</td>\n",
              "      <td>Organic Strawberries::fresh fruits::produce</td>\n",
              "      <td>0.049824</td>\n",
              "      <td>0.250293</td>\n",
              "      <td>0.013189</td>\n",
              "      <td>0.264706</td>\n",
              "      <td>1.057584</td>\n",
              "      <td>0.000718</td>\n",
              "      <td>1.019601</td>\n",
              "    </tr>\n",
              "    <tr>\n",
              "      <th>1018</th>\n",
              "      <td>Organic Strawberries::fresh fruits::produce</td>\n",
              "      <td>Organic Gala Apples::fresh fruits::produce</td>\n",
              "      <td>0.250293</td>\n",
              "      <td>0.049824</td>\n",
              "      <td>0.013189</td>\n",
              "      <td>0.052693</td>\n",
              "      <td>1.057584</td>\n",
              "      <td>0.000718</td>\n",
              "      <td>1.003029</td>\n",
              "    </tr>\n",
              "    <tr>\n",
              "      <th>1086</th>\n",
              "      <td>Organic Granny Smith Apple::fresh fruits::produce</td>\n",
              "      <td>Bag of Organic Bananas::fresh fruits::produce</td>\n",
              "      <td>0.046307</td>\n",
              "      <td>0.248828</td>\n",
              "      <td>0.012603</td>\n",
              "      <td>0.272152</td>\n",
              "      <td>1.093736</td>\n",
              "      <td>0.001080</td>\n",
              "      <td>1.032045</td>\n",
              "    </tr>\n",
              "    <tr>\n",
              "      <th>1087</th>\n",
              "      <td>Bag of Organic Bananas::fresh fruits::produce</td>\n",
              "      <td>Organic Granny Smith Apple::fresh fruits::produce</td>\n",
              "      <td>0.248828</td>\n",
              "      <td>0.046307</td>\n",
              "      <td>0.012603</td>\n",
              "      <td>0.050648</td>\n",
              "      <td>1.093736</td>\n",
              "      <td>0.001080</td>\n",
              "      <td>1.004572</td>\n",
              "    </tr>\n",
              "    <tr>\n",
              "      <th>596</th>\n",
              "      <td>Organic Hass Avocado::fresh fruits::produce, Organic Kiwi::fresh fruits::produce</td>\n",
              "      <td>Bag of Organic Bananas::fresh fruits::produce</td>\n",
              "      <td>0.031946</td>\n",
              "      <td>0.248828</td>\n",
              "      <td>0.010844</td>\n",
              "      <td>0.339450</td>\n",
              "      <td>1.364195</td>\n",
              "      <td>0.002895</td>\n",
              "      <td>1.137191</td>\n",
              "    </tr>\n",
              "    <tr>\n",
              "      <th>770</th>\n",
              "      <td>Strawberries::fresh fruits::produce</td>\n",
              "      <td>Bag of Organic Bananas::fresh fruits::produce</td>\n",
              "      <td>0.067116</td>\n",
              "      <td>0.248828</td>\n",
              "      <td>0.010844</td>\n",
              "      <td>0.161572</td>\n",
              "      <td>0.649333</td>\n",
              "      <td>-0.005856</td>\n",
              "      <td>0.895930</td>\n",
              "    </tr>\n",
              "    <tr>\n",
              "      <th>601</th>\n",
              "      <td>Bag of Organic Bananas::fresh fruits::produce</td>\n",
              "      <td>Organic Hass Avocado::fresh fruits::produce, Organic Kiwi::fresh fruits::produce</td>\n",
              "      <td>0.248828</td>\n",
              "      <td>0.031946</td>\n",
              "      <td>0.010844</td>\n",
              "      <td>0.043581</td>\n",
              "      <td>1.364195</td>\n",
              "      <td>0.002895</td>\n",
              "      <td>1.012165</td>\n",
              "    </tr>\n",
              "    <tr>\n",
              "      <th>771</th>\n",
              "      <td>Bag of Organic Bananas::fresh fruits::produce</td>\n",
              "      <td>Strawberries::fresh fruits::produce</td>\n",
              "      <td>0.248828</td>\n",
              "      <td>0.067116</td>\n",
              "      <td>0.010844</td>\n",
              "      <td>0.043581</td>\n",
              "      <td>0.649333</td>\n",
              "      <td>-0.005856</td>\n",
              "      <td>0.975392</td>\n",
              "    </tr>\n",
              "    <tr>\n",
              "      <th>544</th>\n",
              "      <td>Organic Yellow Onion::fresh vegetables::produce, Bag of Organic Bananas::fresh fruits::produce</td>\n",
              "      <td>Organic Strawberries::fresh fruits::produce</td>\n",
              "      <td>0.029894</td>\n",
              "      <td>0.250293</td>\n",
              "      <td>0.010258</td>\n",
              "      <td>0.343137</td>\n",
              "      <td>1.370942</td>\n",
              "      <td>0.002776</td>\n",
              "      <td>1.141345</td>\n",
              "    </tr>\n",
              "    <tr>\n",
              "      <th>1078</th>\n",
              "      <td>Organic Granny Smith Apple::fresh fruits::produce</td>\n",
              "      <td>Organic Hass Avocado::fresh fruits::produce</td>\n",
              "      <td>0.046307</td>\n",
              "      <td>0.213658</td>\n",
              "      <td>0.010258</td>\n",
              "      <td>0.221519</td>\n",
              "      <td>1.036794</td>\n",
              "      <td>0.000364</td>\n",
              "      <td>1.010098</td>\n",
              "    </tr>\n",
              "    <tr>\n",
              "      <th>1079</th>\n",
              "      <td>Organic Hass Avocado::fresh fruits::produce</td>\n",
              "      <td>Organic Granny Smith Apple::fresh fruits::produce</td>\n",
              "      <td>0.213658</td>\n",
              "      <td>0.046307</td>\n",
              "      <td>0.010258</td>\n",
              "      <td>0.048011</td>\n",
              "      <td>1.036794</td>\n",
              "      <td>0.000364</td>\n",
              "      <td>1.001790</td>\n",
              "    </tr>\n",
              "    <tr>\n",
              "      <th>549</th>\n",
              "      <td>Organic Strawberries::fresh fruits::produce</td>\n",
              "      <td>Organic Yellow Onion::fresh vegetables::produce, Bag of Organic Bananas::fresh fruits::produce</td>\n",
              "      <td>0.250293</td>\n",
              "      <td>0.029894</td>\n",
              "      <td>0.010258</td>\n",
              "      <td>0.040984</td>\n",
              "      <td>1.370942</td>\n",
              "      <td>0.002776</td>\n",
              "      <td>1.011563</td>\n",
              "    </tr>\n",
              "  </tbody>\n",
              "</table>\n",
              "</div>"
            ],
            "text/plain": [
              "                                                                                                   antecedents  ... conviction\n",
              "2                                                                Bag of Organic Bananas::fresh fruits::produce  ...   1.069750\n",
              "3                                                                  Organic Strawberries::fresh fruits::produce  ...   1.069169\n",
              "552                                                            Organic Yellow Onion::fresh vegetables::produce  ...   1.144762\n",
              "553                                                                Organic Strawberries::fresh fruits::produce  ...   1.031560\n",
              "645                                                                Organic Cucumber::fresh vegetables::produce  ...   1.117708\n",
              "576                                                                  Organic Garlic::fresh vegetables::produce  ...   1.113345\n",
              "644                                                              Bag of Organic Bananas::fresh fruits::produce  ...   1.025442\n",
              "577                                                              Bag of Organic Bananas::fresh fruits::produce  ...   1.024794\n",
              "834                                                               Organic Bartlett Pear::fresh fruits::produce  ...   1.157156\n",
              "835                                                                Organic Strawberries::fresh fruits::produce  ...   1.027840\n",
              "846                                                  Organic Baby Arugula::packaged vegetables fruits::produce  ...   1.145949\n",
              "532                                                            Organic Yellow Onion::fresh vegetables::produce  ...   1.095723\n",
              "533                                                                Organic Hass Avocado::fresh fruits::produce  ...   1.026663\n",
              "847                                                              Bag of Organic Bananas::fresh fruits::produce  ...   1.025734\n",
              "96     Organic Raspberries::packaged vegetables fruits::produce, Bag of Organic Bananas::fresh fruits::produce  ...   1.141599\n",
              "101                                                                Organic Strawberries::fresh fruits::produce  ...   1.023810\n",
              "613                                                                        Organic Kiwi::fresh fruits::produce  ...   1.034949\n",
              "612                                                              Bag of Organic Bananas::fresh fruits::produce  ...   1.008055\n",
              "856                                                  Organic Baby Arugula::packaged vegetables fruits::produce  ...   1.103442\n",
              "857                                                                Organic Strawberries::fresh fruits::produce  ...   1.018664\n",
              "908                                                        Organic Italian Parsley Bunch::fresh herbs::produce  ...   1.156328\n",
              "909                                                                Organic Strawberries::fresh fruits::produce  ...   1.023350\n",
              "906                                                        Organic Italian Parsley Bunch::fresh herbs::produce  ...   1.148852\n",
              "877                                                   Seedless Red Grapes::packaged vegetables fruits::produce  ...   1.132816\n",
              "883                                                   Seedless Red Grapes::packaged vegetables fruits::produce  ...   1.130606\n",
              "907                                                              Bag of Organic Bananas::fresh fruits::produce  ...   1.022536\n",
              "876                                                              Bag of Organic Bananas::fresh fruits::produce  ...   1.020953\n",
              "882                                                                Organic Strawberries::fresh fruits::produce  ...   1.020474\n",
              "48    Organic Baby Spinach::packaged vegetables fruits::produce, Bag of Organic Bananas::fresh fruits::produce  ...   1.170461\n",
              "49      Organic Baby Spinach::packaged vegetables fruits::produce, Organic Strawberries::fresh fruits::produce  ...   1.104288\n",
              "900                                                        Organic Italian Parsley Bunch::fresh herbs::produce  ...   1.126884\n",
              "901                                                                Organic Hass Avocado::fresh fruits::produce  ...   1.023908\n",
              "52                                                               Bag of Organic Bananas::fresh fruits::produce  ...   1.015367\n",
              "53                                                                 Organic Strawberries::fresh fruits::produce  ...   1.020908\n",
              "1015                                                                Organic Gala Apples::fresh fruits::produce  ...   1.091447\n",
              "163                          Organic Strawberries::fresh fruits::produce, Organic Whole Milk::milk::dairy eggs  ...   1.059794\n",
              "1014                                                             Bag of Organic Bananas::fresh fruits::produce  ...   1.013441\n",
              "166                                                              Bag of Organic Bananas::fresh fruits::produce  ...   1.009690\n",
              "830                                                               Organic Bartlett Pear::fresh fruits::produce  ...   0.987653\n",
              "831                                                              Bag of Organic Bananas::fresh fruits::produce  ...   0.997493\n",
              "824                                                               Organic Bartlett Pear::fresh fruits::produce  ...   1.008981\n",
              "825                                                                Organic Hass Avocado::fresh fruits::produce  ...   1.002186\n",
              "1019                                                                Organic Gala Apples::fresh fruits::produce  ...   1.019601\n",
              "1018                                                               Organic Strawberries::fresh fruits::produce  ...   1.003029\n",
              "1086                                                         Organic Granny Smith Apple::fresh fruits::produce  ...   1.032045\n",
              "1087                                                             Bag of Organic Bananas::fresh fruits::produce  ...   1.004572\n",
              "596                           Organic Hass Avocado::fresh fruits::produce, Organic Kiwi::fresh fruits::produce  ...   1.137191\n",
              "770                                                                        Strawberries::fresh fruits::produce  ...   0.895930\n",
              "601                                                              Bag of Organic Bananas::fresh fruits::produce  ...   1.012165\n",
              "771                                                              Bag of Organic Bananas::fresh fruits::produce  ...   0.975392\n",
              "544             Organic Yellow Onion::fresh vegetables::produce, Bag of Organic Bananas::fresh fruits::produce  ...   1.141345\n",
              "1078                                                         Organic Granny Smith Apple::fresh fruits::produce  ...   1.010098\n",
              "1079                                                               Organic Hass Avocado::fresh fruits::produce  ...   1.001790\n",
              "549                                                                Organic Strawberries::fresh fruits::produce  ...   1.011563\n",
              "\n",
              "[54 rows x 9 columns]"
            ]
          },
          "metadata": {
            "tags": []
          },
          "execution_count": 89
        }
      ]
    },
    {
      "cell_type": "markdown",
      "metadata": {
        "id": "znicRpgpF8fP"
      },
      "source": [
        "**Thank You**"
      ]
    }
  ]
}