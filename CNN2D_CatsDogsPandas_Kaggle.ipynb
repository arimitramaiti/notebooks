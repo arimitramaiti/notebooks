{
  "nbformat": 4,
  "nbformat_minor": 0,
  "metadata": {
    "colab": {
      "name": "CNN2D_CatsDogsPandas_Kaggle.ipynb",
      "provenance": [],
      "collapsed_sections": [],
      "authorship_tag": "ABX9TyO6xidNMpU4IURSd3QPXxiA",
      "include_colab_link": true
    },
    "kernelspec": {
      "name": "python3",
      "display_name": "Python 3"
    },
    "accelerator": "GPU"
  },
  "cells": [
    {
      "cell_type": "markdown",
      "metadata": {
        "id": "view-in-github",
        "colab_type": "text"
      },
      "source": [
        "<a href=\"https://colab.research.google.com/github/arimitramaiti/notebooks/blob/master/CNN2D_CatsDogsPandas_Kaggle.ipynb\" target=\"_parent\"><img src=\"https://colab.research.google.com/assets/colab-badge.svg\" alt=\"Open In Colab\"/></a>"
      ]
    },
    {
      "cell_type": "code",
      "metadata": {
        "id": "w27VnbsP-StA",
        "colab_type": "code",
        "colab": {}
      },
      "source": [
        "import numpy as np\n",
        "import pandas as pd\n",
        "import matplotlib.pyplot as plt\n",
        "import seaborn as sns\n",
        "%matplotlib inline"
      ],
      "execution_count": 0,
      "outputs": []
    },
    {
      "cell_type": "code",
      "metadata": {
        "id": "4JZKWCL6AQ76",
        "colab_type": "code",
        "colab": {}
      },
      "source": [
        "from keras.models import Sequential\n",
        "from keras.layers import Conv2D\n",
        "from keras.layers import MaxPooling2D\n",
        "from keras.layers import Flatten\n",
        "from keras.layers import Dense\n",
        "from keras.preprocessing.image import ImageDataGenerator"
      ],
      "execution_count": 0,
      "outputs": []
    },
    {
      "cell_type": "markdown",
      "metadata": {
        "id": "NwUkc817SGhd",
        "colab_type": "text"
      },
      "source": [
        "*   We initialize the Neural Network with Sequential function\n",
        "*   We create 32 feature maps using a 3 by 3 feature detector. Common pratise to use 32 filters in 1st layer, then increase to 64, 128,256 in subsequent layers\n",
        "*   Our input images are balck and white and we want to convert all images into 128 by 128 pixels. Hence using 128,128,3. For black&white images we can use 1 instead of 3\n",
        "*   Our activation function in 1st layer is rectifier function to avoid any negative values of image pixels\n",
        "*   Reducing the original size of feature map we use pooling without losing any information. In genral we take a 2 by 2 matrix\n",
        "*   We add another layer of CNN with increased feature maps\n",
        "*   We apply the Flattening step to get one large single vector with all information from all images\n",
        "*   Add our hidden layer to convert the single large input vector from Flatten step in Fully Connected layer of ANN. A general method is 128, neither too small nor too big\n",
        "*   Finally we add the output layer where we need one single answer Normal or Pneumonia with sigmoid binary function, else softmax\n",
        "*   We compile using optimizer, metrics and loss as categorical_crossentropy. For exactly 2 class we can use binary_crossentropy"
      ]
    },
    {
      "cell_type": "code",
      "metadata": {
        "id": "0iedadv_DoE2",
        "colab_type": "code",
        "colab": {}
      },
      "source": [
        "cnn = Sequential()\n",
        "cnn.add(Conv2D(32, (3,3), input_shape=(128,128,3), activation='relu'))\n",
        "cnn.add(MaxPooling2D(pool_size=(2,2)))\n",
        "\n",
        "cnn.add(Conv2D(64, (3, 3), activation = 'relu'))\n",
        "cnn.add(MaxPooling2D(pool_size = (2, 2)))\n",
        "\n",
        "cnn.add(Flatten())\n",
        "\n",
        "cnn.add(Dense(units = 128, activation = 'relu'))\n",
        "cnn.add(Dense(units = 128, activation = 'relu'))\n",
        "cnn.add(Dense(units = 3, activation = 'softmax'))\n",
        "\n",
        "cnn.compile(optimizer = 'adam', loss = 'categorical_crossentropy', metrics = ['accuracy'])"
      ],
      "execution_count": 0,
      "outputs": []
    },
    {
      "cell_type": "code",
      "metadata": {
        "id": "SIkyTekuDoB0",
        "colab_type": "code",
        "colab": {}
      },
      "source": [
        ""
      ],
      "execution_count": 0,
      "outputs": []
    },
    {
      "cell_type": "markdown",
      "metadata": {
        "id": "qKAs1RoZTtiT",
        "colab_type": "text"
      },
      "source": [
        "*   ImageDataGenerator - Rescaling is similar to feature scaling, shear range is similar to geometrical transformation\n",
        "*   flow_from_directory() code is available in https://keras.io/api/preprocessing/image/\n",
        "*   target_size should have similar to input_shape dimensions mentioned in 1st CNN layer\n",
        "*   class_mode is categorical for more than 2 classes of image classification"
      ]
    },
    {
      "cell_type": "markdown",
      "metadata": {
        "id": "dJCq_YtgUaK8",
        "colab_type": "text"
      },
      "source": [
        "*   Mount google drive in colab\n",
        "*   Separate authentication needs to be pasted from separate browser in colab"
      ]
    },
    {
      "cell_type": "code",
      "metadata": {
        "id": "4pGhx3UmIzxP",
        "colab_type": "code",
        "colab": {}
      },
      "source": [
        "from google.colab import drive\n",
        "drive.mount('/gdrive', force_remount=True)"
      ],
      "execution_count": 0,
      "outputs": []
    },
    {
      "cell_type": "code",
      "metadata": {
        "id": "Sa-KcDa8I-xP",
        "colab_type": "code",
        "colab": {}
      },
      "source": [
        "train_data_dir = '/gdrive/My Drive/Colab Notebooks/ImageClassification/animals/training_set'\n",
        "validation_data_dir = '/gdrive/My Drive/Colab Notebooks/ImageClassification/animals/test_set'"
      ],
      "execution_count": 0,
      "outputs": []
    },
    {
      "cell_type": "code",
      "metadata": {
        "id": "umPogxiZSbUK",
        "colab_type": "code",
        "colab": {}
      },
      "source": [
        "train_datagen = ImageDataGenerator(rescale = 1./255,\n",
        "                                   shear_range = 0.2,\n",
        "                                   zoom_range = 0.2,\n",
        "                                   horizontal_flip = True)\n",
        "\n",
        "test_datagen = ImageDataGenerator(rescale = 1./255)\n",
        "\n",
        "training_set = train_datagen.flow_from_directory(train_data_dir,\n",
        "                                                 target_size = (128, 128),\n",
        "                                                 batch_size = 32,\n",
        "                                                 color_mode=\"rgb\",\n",
        "                                                 class_mode = 'categorical',\n",
        "                                                 shuffle=False)\n",
        "\n",
        "test_set = test_datagen.flow_from_directory(validation_data_dir,\n",
        "                                            target_size = (128, 128),\n",
        "                                            batch_size = 32,\n",
        "                                            color_mode=\"rgb\",\n",
        "                                            class_mode = 'categorical',\n",
        "                                            shuffle=False)\n",
        "\n",
        "history = cnn.fit_generator(training_set,\n",
        "                         steps_per_epoch = 800,\n",
        "                         epochs = 25,\n",
        "                         validation_data = test_set,\n",
        "                         validation_steps = 200)\n"
      ],
      "execution_count": 0,
      "outputs": []
    },
    {
      "cell_type": "code",
      "metadata": {
        "id": "BES8BfoFS-Du",
        "colab_type": "code",
        "colab": {}
      },
      "source": [
        "N = 25\n",
        "plt.figure(figsize=(12,6))\n",
        "plt.plot(np.arange(0, N), history.history['loss'], label=\"train_loss\")\n",
        "plt.plot(np.arange(0, N), history.history['val_loss'],label=\"val_loss\")\n",
        "plt.plot(np.arange(0, N), history.history[\"accuracy\"], label=\"train_acc\")\n",
        "plt.plot(np.arange(0, N), history.history[\"val_accuracy\"], label=\"val_acc\")\n",
        "plt.title('Model Train vs Validation Loss')\n",
        "plt.ylabel('Loss/Accuracy')\n",
        "plt.xlabel('Epoch')\n",
        "plt.legend(loc=\"best\")\n",
        "plt.show()"
      ],
      "execution_count": 0,
      "outputs": []
    },
    {
      "cell_type": "code",
      "metadata": {
        "id": "L4ZWmq0xUDL8",
        "colab_type": "code",
        "colab": {}
      },
      "source": [
        ""
      ],
      "execution_count": 0,
      "outputs": []
    },
    {
      "cell_type": "code",
      "metadata": {
        "id": "ahOKjhzIUvp4",
        "colab_type": "code",
        "colab": {}
      },
      "source": [
        ""
      ],
      "execution_count": 0,
      "outputs": []
    },
    {
      "cell_type": "code",
      "metadata": {
        "id": "EMvp1_w3Wr7d",
        "colab_type": "code",
        "colab": {}
      },
      "source": [
        ""
      ],
      "execution_count": 0,
      "outputs": []
    },
    {
      "cell_type": "code",
      "metadata": {
        "id": "QMx0iM_lWr0P",
        "colab_type": "code",
        "colab": {}
      },
      "source": [
        ""
      ],
      "execution_count": 0,
      "outputs": []
    }
  ]
}